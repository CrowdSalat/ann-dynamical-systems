{
  "nbformat": 4,
  "nbformat_minor": 0,
  "metadata": {
    "colab": {
      "name": "09_gridsearch_rnn.ipynb",
      "provenance": [],
      "collapsed_sections": [],
      "toc_visible": true,
      "machine_shape": "hm",
      "include_colab_link": true
    },
    "kernelspec": {
      "name": "python3",
      "display_name": "Python 3"
    },
    "accelerator": "GPU"
  },
  "cells": [
    {
      "cell_type": "markdown",
      "metadata": {
        "id": "view-in-github",
        "colab_type": "text"
      },
      "source": [
        "<a href=\"https://colab.research.google.com/github/CrowdSalat/ann-dynamical-systems/blob/master/09_gridsearch_rnn.ipynb\" target=\"_parent\"><img src=\"https://colab.research.google.com/assets/colab-badge.svg\" alt=\"Open In Colab\"/></a>"
      ]
    },
    {
      "cell_type": "markdown",
      "metadata": {
        "id": "Pa9Mju9lc4Ll",
        "colab_type": "text"
      },
      "source": [
        "# overview\n",
        "\n",
        "Uses actions and an input state to predict the output state."
      ]
    },
    {
      "cell_type": "markdown",
      "metadata": {
        "id": "ijDD21X-gnli",
        "colab_type": "text"
      },
      "source": [
        "# imports"
      ]
    },
    {
      "cell_type": "code",
      "metadata": {
        "id": "_Z4pV678a1zv",
        "colab_type": "code",
        "colab": {}
      },
      "source": [
        "try:\n",
        "  # %tensorflow_version only exists in Colab.\n",
        "  %tensorflow_version 2.x\n",
        "except Exception:\n",
        "  pass"
      ],
      "execution_count": 0,
      "outputs": []
    },
    {
      "cell_type": "code",
      "metadata": {
        "id": "2p4YwEK_f7kq",
        "colab_type": "code",
        "outputId": "7cf95053-e46f-4ea8-88d1-e291c8fae3a5",
        "colab": {
          "base_uri": "https://localhost:8080/",
          "height": 35
        }
      },
      "source": [
        "import pandas as pd\n",
        "import numpy as np\n",
        "import os\n",
        "import sys\n",
        "import datetime\n",
        "import math\n",
        "import pickle\n",
        "import matplotlib.pyplot as plt\n",
        "from sklearn.preprocessing import MinMaxScaler\n",
        "from sklearn.metrics import mean_squared_error\n",
        "from sklearn.metrics import mean_absolute_error\n",
        "\n",
        "from sklearn.model_selection import train_test_split\n",
        "from sklearn.preprocessing import MinMaxScaler\n",
        "\n",
        "\n",
        "import tensorflow as tf\n",
        "print(tf.__version__)\n",
        "from tensorflow import keras\n",
        "\n",
        "from tensorflow.keras.models import Sequential\n",
        "from tensorflow.keras.layers import Dense\n",
        "from tensorflow.keras.layers import *\n",
        "from tensorflow.keras import metrics"
      ],
      "execution_count": 0,
      "outputs": [
        {
          "output_type": "stream",
          "text": [
            "2.0.0\n"
          ],
          "name": "stdout"
        }
      ]
    },
    {
      "cell_type": "markdown",
      "metadata": {
        "id": "w5rqM4jdeta1",
        "colab_type": "text"
      },
      "source": [
        "# save folder"
      ]
    },
    {
      "cell_type": "code",
      "metadata": {
        "id": "RPDma-JqgyaM",
        "colab_type": "code",
        "outputId": "69b3c008-99f9-407c-c1fa-39a20cbc33a3",
        "colab": {
          "base_uri": "https://localhost:8080/",
          "height": 35
        }
      },
      "source": [
        "base_folder = './results'\n",
        "notebook_folder = '09_gridsearch_rnn'\n",
        "results_folder = os.path.join(base_folder, notebook_folder)\n",
        "os.makedirs(results_folder, exist_ok=True)\n",
        "print('results_folder : ', results_folder)\n",
        "\n",
        "saved_model_weight = 'saved_weights'\n",
        "saved_model_weight_path = os.path.join(results_folder, saved_model_weight)\n",
        "os.makedirs(saved_model_weight_path, exist_ok=True)\n"
      ],
      "execution_count": 0,
      "outputs": [
        {
          "output_type": "stream",
          "text": [
            "results_folder :  ./results/09_gridsearch_rnn\n"
          ],
          "name": "stdout"
        }
      ]
    },
    {
      "cell_type": "markdown",
      "metadata": {
        "id": "rmj8c18xllpT",
        "colab_type": "text"
      },
      "source": [
        "# mount drive"
      ]
    },
    {
      "cell_type": "code",
      "metadata": {
        "id": "nUEqcpzvltdo",
        "colab_type": "code",
        "colab": {}
      },
      "source": [
        "file = 'dataset_all_01.csv'"
      ],
      "execution_count": 0,
      "outputs": []
    },
    {
      "cell_type": "code",
      "metadata": {
        "id": "TuGWEMS1loFz",
        "colab_type": "code",
        "outputId": "5b6ce07b-cca4-4a46-effd-53ed900349b0",
        "colab": {
          "base_uri": "https://localhost:8080/",
          "height": 53
        }
      },
      "source": [
        "from google.colab import drive\n",
        "drive.mount('/content/drive')\n",
        "\n",
        "root_dir = '/content/drive/My Drive/xplane_data' \n",
        "os.chdir(root_dir)\n",
        "print ('working dir: ' + os.getcwd())"
      ],
      "execution_count": 0,
      "outputs": [
        {
          "output_type": "stream",
          "text": [
            "Drive already mounted at /content/drive; to attempt to forcibly remount, call drive.mount(\"/content/drive\", force_remount=True).\n",
            "working dir: /content/drive/My Drive/xplane_data\n"
          ],
          "name": "stdout"
        }
      ]
    },
    {
      "cell_type": "markdown",
      "metadata": {
        "id": "EF4tx110HmOj",
        "colab_type": "text"
      },
      "source": [
        "# load data"
      ]
    },
    {
      "cell_type": "markdown",
      "metadata": {
        "id": "EOM6RVAIduGr",
        "colab_type": "text"
      },
      "source": [
        "## define features (actions & states)\n",
        "actions and states at time t (t-1, t-2 ...) are the input for the network.\n",
        "\n",
        "the states at time t + 1 are the desired output of the network.\n"
      ]
    },
    {
      "cell_type": "code",
      "metadata": {
        "id": "YH9bVQ3YDyTh",
        "colab_type": "code",
        "colab": {}
      },
      "source": [
        "col_m_time      = '   missn,_time '\n",
        "col_t_time      = '   _totl,_time '\n",
        "col_yaw_v       = '   ____Q,rad/s '\n",
        "\n",
        "col_yaw_deg     = '   _beta,__deg '\n",
        "col_roll_deg    = '   _roll,__deg '\n",
        "col_roll_v      = '   ____R,rad/s '\n",
        "col_pitch_deg   = '   pitch,__deg '\n",
        "col_pitch_v     = '   ____P,rad/s '\n",
        "col_alt         = '   __alt,ftmsl '\n",
        "col_vv          = '   __VVI,__fpm '\n",
        "col_v           = '   Vtrue,_ktas '\n",
        "col_rpm_prop    = '   rpm_1,_prop '\n",
        "col_throttle     = '   thro1,_part '\n",
        "\n",
        "cols_state = [ \n",
        "    col_yaw_v,\n",
        "    col_yaw_deg,\n",
        "    col_roll_deg,\n",
        "    col_roll_v,\n",
        "    col_pitch_deg,\n",
        "    col_pitch_v,\n",
        "    col_vv,\n",
        "    col_alt,\n",
        "    col_v,\n",
        "\n",
        "]\n",
        "\n",
        "cols_time = [\n",
        "    col_m_time,\n",
        "    col_t_time,\n",
        "]\n",
        "\n",
        "col_elev_servo                  = '   _elev,servo '\n",
        "col_ailrn_servo                  = '   ailrn,servo '\n",
        "col_ruddr_servo                  = '   ruddr,servo '\n",
        "\n",
        "cols_action = [\n",
        "    col_elev_servo,\n",
        "    col_ailrn_servo,\n",
        "    col_ruddr_servo,\n",
        "    col_rpm_prop,\n",
        "    col_throttle,\n",
        "]\n",
        "\n",
        "# all input columns\n",
        "cols_features = []\n",
        "cols_features.extend(cols_state)\n",
        "cols_features.extend(cols_action)\n",
        "\n",
        "# orga column\n",
        "col_dataset_index = 'dataset_index'\n",
        "col_maneuver_index = 'maneuver_index'\n",
        "col_maneuver_name = 'maneuver_name'\n",
        "col_maneuver_datapoint_index = 'maneuver_datapoint_index'\n",
        "col_maneuver_type = 'maneuver_type'\n",
        "cols_org = [col_dataset_index, col_maneuver_index, col_maneuver_name,\n",
        "            col_maneuver_datapoint_index,col_maneuver_type]\n",
        "\n"
      ],
      "execution_count": 0,
      "outputs": []
    },
    {
      "cell_type": "markdown",
      "metadata": {
        "id": "gDSNkVBaDv2V",
        "colab_type": "text"
      },
      "source": [
        "## load data"
      ]
    },
    {
      "cell_type": "code",
      "metadata": {
        "id": "uByPEHX3fS2G",
        "colab_type": "code",
        "outputId": "3f6a5be3-3d84-4a9f-d6e9-55c051a14ed1",
        "colab": {
          "base_uri": "https://localhost:8080/",
          "height": 392
        }
      },
      "source": [
        "def load_xplane_csv(csv_path, columns):\n",
        "    return pd.read_csv(csv_path, delimiter=',', usecols = columns, \n",
        "                       float_precision='high')\n",
        "\n",
        "df_data = load_xplane_csv(file, cols_org + cols_state + cols_action)\n",
        "\n",
        "print(len(cols_org))\n",
        "print(len(cols_state))\n",
        "print(len(cols_action))\n",
        "print(df_data.shape)\n",
        "df_data.describe()"
      ],
      "execution_count": 0,
      "outputs": [
        {
          "output_type": "stream",
          "text": [
            "5\n",
            "9\n",
            "5\n",
            "(477893, 19)\n"
          ],
          "name": "stdout"
        },
        {
          "output_type": "execute_result",
          "data": {
            "text/html": [
              "<div>\n",
              "<style scoped>\n",
              "    .dataframe tbody tr th:only-of-type {\n",
              "        vertical-align: middle;\n",
              "    }\n",
              "\n",
              "    .dataframe tbody tr th {\n",
              "        vertical-align: top;\n",
              "    }\n",
              "\n",
              "    .dataframe thead th {\n",
              "        text-align: right;\n",
              "    }\n",
              "</style>\n",
              "<table border=\"1\" class=\"dataframe\">\n",
              "  <thead>\n",
              "    <tr style=\"text-align: right;\">\n",
              "      <th></th>\n",
              "      <th>dataset_index</th>\n",
              "      <th>maneuver_index</th>\n",
              "      <th>maneuver_name</th>\n",
              "      <th>maneuver_type</th>\n",
              "      <th>maneuver_datapoint_index</th>\n",
              "      <th>Vtrue,_ktas</th>\n",
              "      <th>__VVI,__fpm</th>\n",
              "      <th>____Q,rad/s</th>\n",
              "      <th>____P,rad/s</th>\n",
              "      <th>____R,rad/s</th>\n",
              "      <th>pitch,__deg</th>\n",
              "      <th>_roll,__deg</th>\n",
              "      <th>_beta,__deg</th>\n",
              "      <th>__alt,ftmsl</th>\n",
              "      <th>thro1,_part</th>\n",
              "      <th>rpm_1,_prop</th>\n",
              "      <th>_elev,servo</th>\n",
              "      <th>ailrn,servo</th>\n",
              "      <th>ruddr,servo</th>\n",
              "    </tr>\n",
              "  </thead>\n",
              "  <tbody>\n",
              "    <tr>\n",
              "      <th>count</th>\n",
              "      <td>477893.000000</td>\n",
              "      <td>477893.000000</td>\n",
              "      <td>477893.0</td>\n",
              "      <td>477893.0</td>\n",
              "      <td>477893.000000</td>\n",
              "      <td>477893.000000</td>\n",
              "      <td>477893.000000</td>\n",
              "      <td>477893.000000</td>\n",
              "      <td>477893.000000</td>\n",
              "      <td>477893.000000</td>\n",
              "      <td>477893.000000</td>\n",
              "      <td>477893.000000</td>\n",
              "      <td>477893.000000</td>\n",
              "      <td>477893.000000</td>\n",
              "      <td>477893.000000</td>\n",
              "      <td>477893.000000</td>\n",
              "      <td>477893.000000</td>\n",
              "      <td>477893.000000</td>\n",
              "      <td>477893.0</td>\n",
              "    </tr>\n",
              "    <tr>\n",
              "      <th>mean</th>\n",
              "      <td>3.412239</td>\n",
              "      <td>325.368333</td>\n",
              "      <td>0.0</td>\n",
              "      <td>0.0</td>\n",
              "      <td>862.572494</td>\n",
              "      <td>119.568747</td>\n",
              "      <td>31.844121</td>\n",
              "      <td>0.003809</td>\n",
              "      <td>-0.000023</td>\n",
              "      <td>-0.001838</td>\n",
              "      <td>-0.653922</td>\n",
              "      <td>-0.790419</td>\n",
              "      <td>0.006392</td>\n",
              "      <td>2714.285311</td>\n",
              "      <td>0.837608</td>\n",
              "      <td>2490.437417</td>\n",
              "      <td>-0.000023</td>\n",
              "      <td>-0.014557</td>\n",
              "      <td>0.0</td>\n",
              "    </tr>\n",
              "    <tr>\n",
              "      <th>std</th>\n",
              "      <td>1.823226</td>\n",
              "      <td>157.634998</td>\n",
              "      <td>0.0</td>\n",
              "      <td>0.0</td>\n",
              "      <td>966.076050</td>\n",
              "      <td>10.111832</td>\n",
              "      <td>274.837876</td>\n",
              "      <td>0.007105</td>\n",
              "      <td>0.017344</td>\n",
              "      <td>0.023891</td>\n",
              "      <td>1.683830</td>\n",
              "      <td>8.871232</td>\n",
              "      <td>0.137610</td>\n",
              "      <td>1357.542685</td>\n",
              "      <td>0.082120</td>\n",
              "      <td>127.213115</td>\n",
              "      <td>0.002302</td>\n",
              "      <td>0.022656</td>\n",
              "      <td>0.0</td>\n",
              "    </tr>\n",
              "    <tr>\n",
              "      <th>min</th>\n",
              "      <td>0.000000</td>\n",
              "      <td>0.000000</td>\n",
              "      <td>0.0</td>\n",
              "      <td>0.0</td>\n",
              "      <td>0.000000</td>\n",
              "      <td>66.424780</td>\n",
              "      <td>-1917.888180</td>\n",
              "      <td>-0.039450</td>\n",
              "      <td>-0.109810</td>\n",
              "      <td>-0.054820</td>\n",
              "      <td>-9.313510</td>\n",
              "      <td>-23.851520</td>\n",
              "      <td>-0.689970</td>\n",
              "      <td>805.092900</td>\n",
              "      <td>0.796080</td>\n",
              "      <td>2106.257810</td>\n",
              "      <td>-0.089790</td>\n",
              "      <td>-0.159740</td>\n",
              "      <td>0.0</td>\n",
              "    </tr>\n",
              "    <tr>\n",
              "      <th>25%</th>\n",
              "      <td>2.000000</td>\n",
              "      <td>186.000000</td>\n",
              "      <td>0.0</td>\n",
              "      <td>0.0</td>\n",
              "      <td>210.000000</td>\n",
              "      <td>116.120100</td>\n",
              "      <td>-38.803360</td>\n",
              "      <td>-0.000010</td>\n",
              "      <td>-0.000410</td>\n",
              "      <td>-0.010810</td>\n",
              "      <td>-1.284890</td>\n",
              "      <td>-4.041060</td>\n",
              "      <td>-0.082270</td>\n",
              "      <td>1411.217410</td>\n",
              "      <td>0.796080</td>\n",
              "      <td>2424.065920</td>\n",
              "      <td>-0.000110</td>\n",
              "      <td>-0.017030</td>\n",
              "      <td>0.0</td>\n",
              "    </tr>\n",
              "    <tr>\n",
              "      <th>50%</th>\n",
              "      <td>4.000000</td>\n",
              "      <td>350.000000</td>\n",
              "      <td>0.0</td>\n",
              "      <td>0.0</td>\n",
              "      <td>476.000000</td>\n",
              "      <td>118.826010</td>\n",
              "      <td>0.342680</td>\n",
              "      <td>0.001120</td>\n",
              "      <td>0.000000</td>\n",
              "      <td>-0.000020</td>\n",
              "      <td>-0.787270</td>\n",
              "      <td>-0.104740</td>\n",
              "      <td>0.004460</td>\n",
              "      <td>2620.899900</td>\n",
              "      <td>0.796080</td>\n",
              "      <td>2458.400630</td>\n",
              "      <td>-0.000000</td>\n",
              "      <td>-0.015220</td>\n",
              "      <td>0.0</td>\n",
              "    </tr>\n",
              "    <tr>\n",
              "      <th>75%</th>\n",
              "      <td>4.000000</td>\n",
              "      <td>452.000000</td>\n",
              "      <td>0.0</td>\n",
              "      <td>0.0</td>\n",
              "      <td>1223.000000</td>\n",
              "      <td>122.749510</td>\n",
              "      <td>164.749950</td>\n",
              "      <td>0.010130</td>\n",
              "      <td>0.000390</td>\n",
              "      <td>0.000830</td>\n",
              "      <td>-0.152690</td>\n",
              "      <td>0.207650</td>\n",
              "      <td>0.072860</td>\n",
              "      <td>3896.197020</td>\n",
              "      <td>0.796080</td>\n",
              "      <td>2504.575440</td>\n",
              "      <td>0.000070</td>\n",
              "      <td>-0.011370</td>\n",
              "      <td>0.0</td>\n",
              "    </tr>\n",
              "    <tr>\n",
              "      <th>max</th>\n",
              "      <td>7.000000</td>\n",
              "      <td>602.000000</td>\n",
              "      <td>0.0</td>\n",
              "      <td>0.0</td>\n",
              "      <td>7179.000000</td>\n",
              "      <td>155.436650</td>\n",
              "      <td>978.538330</td>\n",
              "      <td>0.041650</td>\n",
              "      <td>0.111310</td>\n",
              "      <td>0.055400</td>\n",
              "      <td>11.796170</td>\n",
              "      <td>25.924920</td>\n",
              "      <td>0.353550</td>\n",
              "      <td>5080.888180</td>\n",
              "      <td>1.000000</td>\n",
              "      <td>2811.808840</td>\n",
              "      <td>0.045100</td>\n",
              "      <td>0.124900</td>\n",
              "      <td>0.0</td>\n",
              "    </tr>\n",
              "  </tbody>\n",
              "</table>\n",
              "</div>"
            ],
            "text/plain": [
              "       dataset_index  maneuver_index  ...     ailrn,servo      ruddr,servo \n",
              "count  477893.000000   477893.000000  ...    477893.000000         477893.0\n",
              "mean        3.412239      325.368333  ...        -0.014557              0.0\n",
              "std         1.823226      157.634998  ...         0.022656              0.0\n",
              "min         0.000000        0.000000  ...        -0.159740              0.0\n",
              "25%         2.000000      186.000000  ...        -0.017030              0.0\n",
              "50%         4.000000      350.000000  ...        -0.015220              0.0\n",
              "75%         4.000000      452.000000  ...        -0.011370              0.0\n",
              "max         7.000000      602.000000  ...         0.124900              0.0\n",
              "\n",
              "[8 rows x 19 columns]"
            ]
          },
          "metadata": {
            "tags": []
          },
          "execution_count": 53
        }
      ]
    },
    {
      "cell_type": "markdown",
      "metadata": {
        "id": "47xDI8rfLJTv",
        "colab_type": "text"
      },
      "source": [
        "# define data preperation functions"
      ]
    },
    {
      "cell_type": "code",
      "metadata": {
        "id": "-EBCtY9f7KnC",
        "colab_type": "code",
        "colab": {}
      },
      "source": [
        "def series_to_supervised(data, n_in=1, n_out=1, dropnan=True, cols_label=None):\n",
        "\tdata_in = data.drop(cols_org, axis=1)\n",
        "\tif cols_label == None:\n",
        "\t\tdata_out = data_in.drop(cols_action, axis=1)\n",
        "\telse:\n",
        "\t\tif type(cols_label) != list:\n",
        "\t\t\tcols_label = [cols_label]\n",
        "\t\tdata_out = data_in[cols_label]\n",
        "\n",
        "\tcols_in = data_in.columns\n",
        "\tcols_out = data_out.columns\n",
        "\tcols, names = list(), list()\n",
        "\t# input sequence (t-n, ... t-1, t)\n",
        "\tfor i in range(n_in, 0, -1):\n",
        "\t\tcols.append(data_in.shift(i))\n",
        "\t\tif i == 1:\n",
        "\t\t\tnames += [('%s(t)' % (col_in)) for col_in in cols_in]\n",
        "\t\telse:\n",
        "\t\t\tnames += [('%s(t-%d)' % (col_in, i-1)) for col_in in cols_in]\n",
        "\n",
        "\t# forecast sequence (t+1, ... t+n)\n",
        "\tfor i in range(0, n_out):\n",
        "\t\tcols.append(data_out.shift(-i))\n",
        "\t\tnames += [('%s(t+%d)' % (col_out, i+1)) for col_out in cols_out]\n",
        "\t# put it all together\n",
        "\tagg = pd.concat(cols, axis=1)\n",
        "\tagg.columns = names\n",
        "\t# drop rows with NaN values\n",
        "\tif dropnan:\n",
        "\t\tagg.dropna(inplace=True)\n",
        "\treturn agg, cols_out"
      ],
      "execution_count": 0,
      "outputs": []
    },
    {
      "cell_type": "code",
      "metadata": {
        "id": "nOzBV1rYVGCn",
        "colab_type": "code",
        "colab": {}
      },
      "source": [
        "def split_feature_label(data_labeled, n_input_steps):\n",
        "  data_X = data_labeled.values[:, 0:n_input_steps*len(cols_features)]\n",
        "  data_Y = data_labeled.values[:, n_input_steps*len(cols_features):]\n",
        "  return data_X, data_Y"
      ],
      "execution_count": 0,
      "outputs": []
    },
    {
      "cell_type": "code",
      "metadata": {
        "id": "otFsVggWMbpz",
        "colab_type": "code",
        "colab": {}
      },
      "source": [
        "def scale_data(data_X, data_Y):\n",
        "  feature_scaler = MinMaxScaler()\n",
        "  data_X = feature_scaler.fit_transform(data_X)\n",
        "  label_scaler = MinMaxScaler()\n",
        "  data_Y = label_scaler.fit_transform(data_Y)\n",
        "  return feature_scaler, label_scaler, data_X, data_Y"
      ],
      "execution_count": 0,
      "outputs": []
    },
    {
      "cell_type": "code",
      "metadata": {
        "id": "bYXja56FWJnk",
        "colab_type": "code",
        "colab": {}
      },
      "source": [
        "def prepare_datasets_rnn(data, n_in=1, n_out=1, cols_label=None):\n",
        "  #train-test-split\n",
        "  test = data.query('dataset_index==4')\n",
        "  train = data.query('dataset_index!=4')\n",
        "  \n",
        "  #add-label\n",
        "  test_labeled, labels = series_to_supervised(test, n_in=n_in, n_out=n_out,\n",
        "                                              dropnan=True, cols_label=cols_label)\n",
        "  train_labeled, labels = series_to_supervised(train, n_in=n_in, n_out=n_out,\n",
        "                                               dropnan=True, cols_label=cols_label)\n",
        "  \n",
        "\n",
        "  #split-feature-label\n",
        "  train_X, train_Y = split_feature_label(train_labeled, n_in)\n",
        "  test_X, test_Y = split_feature_label(test_labeled, n_in)\n",
        "  \n",
        "\n",
        "\n",
        "  #scale-feat\n",
        "  feature_scaler, label_scaler, train_X, train_Y = scale_data(train_X, train_Y)\n",
        "  #scale-label\n",
        "  test_X, test_Y = feature_scaler.transform(test_X), label_scaler.transform(test_Y)\n",
        "\n",
        "  #reshape to [samples, timesteps, features]\n",
        "  n_features = int(train_X.shape[1]/n_in)\n",
        "  train_X = train_X.reshape(train_X.shape[0],n_in, n_features)\n",
        "  test_X = test_X.reshape(test_X.shape[0],n_in, n_features) \n",
        "  \n",
        "  return train_X, train_Y, test_X, test_Y, feature_scaler, label_scaler, labels\n",
        "\n"
      ],
      "execution_count": 0,
      "outputs": []
    },
    {
      "cell_type": "markdown",
      "metadata": {
        "id": "S_kDrS1qH7kc",
        "colab_type": "text"
      },
      "source": [
        "# train models"
      ]
    },
    {
      "cell_type": "markdown",
      "metadata": {
        "id": "rjgpogwABFhX",
        "colab_type": "text"
      },
      "source": [
        "## define callbacks functions"
      ]
    },
    {
      "cell_type": "code",
      "metadata": {
        "id": "18w_KQkpBFEY",
        "colab_type": "code",
        "colab": {}
      },
      "source": [
        "def prepare_tensorboard_callback(model_name=''):\n",
        "  logs_base_dir = \"./tensorbaord_logs\"\n",
        "  model_log_dir = datetime.datetime.now().strftime(\"%Y%m%d-%H%M%S\") + '_' + model_name\n",
        "  target_log_dir = os.path.join(logs_base_dir, model_log_dir)\n",
        "  os.makedirs(target_log_dir, exist_ok=True)\n",
        "  tensorboard_callback = tf.keras.callbacks.TensorBoard(target_log_dir, histogram_freq=1)\n",
        "  return tensorboard_callback\n"
      ],
      "execution_count": 0,
      "outputs": []
    },
    {
      "cell_type": "code",
      "metadata": {
        "id": "MYl_6s7sBMpy",
        "colab_type": "code",
        "colab": {}
      },
      "source": [
        "def prepare_checkpoint_callback(model_name):\n",
        "  checkpoint_base_dir = './checkpoints'\n",
        "  os.makedirs(checkpoint_base_dir, exist_ok=True)\n",
        "  filepath = os.path.join(checkpoint_base_dir, 'cp_'+ model_name)\n",
        "  cp_callback = tf.keras.callbacks.ModelCheckpoint(filepath=filepath,\n",
        "                                                  save_weights_only=True,\n",
        "                                                  verbose=1)\n",
        "  return cp_callback "
      ],
      "execution_count": 0,
      "outputs": []
    },
    {
      "cell_type": "markdown",
      "metadata": {
        "id": "3y07Q50xkLvG",
        "colab_type": "text"
      },
      "source": [
        "## define plot_and_save functions"
      ]
    },
    {
      "cell_type": "code",
      "metadata": {
        "id": "HKimNXHgejcW",
        "colab_type": "code",
        "colab": {}
      },
      "source": [
        ""
      ],
      "execution_count": 0,
      "outputs": []
    },
    {
      "cell_type": "markdown",
      "metadata": {
        "id": "l8uMddMPkSc1",
        "colab_type": "text"
      },
      "source": [
        "### loss historie"
      ]
    },
    {
      "cell_type": "code",
      "metadata": {
        "id": "I9UHTxwnkWyp",
        "colab_type": "code",
        "colab": {}
      },
      "source": [
        "def save_plots_before_show(diagramm_name):\n",
        "  if not os.path.exists(results_folder):\n",
        "      os.makedirs(diagramm_folder)\n",
        "\n",
        "  plt.savefig(results_folder + '/' + diagramm_name +'.pdf')\n",
        "  plt.savefig(results_folder + '/' + diagramm_name +'.svg')\n",
        "  plt.savefig(results_folder + '/' + diagramm_name +'.png')\n",
        "\n",
        "def pas_history(model_tupels, histories, key='mean_squared_error'):\n",
        "  model_names = [model_tupel[0] for model_tupel in model_tupels]\n",
        "  plt.figure(figsize=(16,10))\n",
        "  for i, history in enumerate(histories):\n",
        "    history_epoch= range(0, len(history['loss']) )\n",
        "\n",
        "    val = plt.plot(history_epoch, history['val_'+key],\n",
        "                   '--', label=model_names[i]+' Val')\n",
        "    plt.plot(history_epoch, history[key], color=val[0].get_color(),\n",
        "             label=model_names[i]+' Train')\n",
        "\n",
        "  plt.xlabel('Epochs')\n",
        "  plt.yscale(\"log\")\n",
        "\n",
        "  plt.ylabel(key.replace('_',' ').title())\n",
        "  plt.legend()\n",
        "\n",
        "  plt.xlim([0,max(history_epoch)])\n",
        "  save_plots_before_show('history_loss'+'_'+key )\n",
        "  plt.show()"
      ],
      "execution_count": 0,
      "outputs": []
    },
    {
      "cell_type": "markdown",
      "metadata": {
        "id": "VJNfegiglg59",
        "colab_type": "text"
      },
      "source": [
        "### metrics (overall and for all single targets )\n",
        "\n"
      ]
    },
    {
      "cell_type": "code",
      "metadata": {
        "id": "be-UQiKHli16",
        "colab_type": "code",
        "colab": {}
      },
      "source": [
        "def pas_metrics_scaled(model_tupel):\n",
        "  model_name = model_tupel[0]\n",
        "  df = _df_prediction_metrics(model_tupel, scaled=True)\n",
        "  file_path = os.path.join(results_folder, model_name + '_scaled.csv')\n",
        "  df.to_csv(path_or_buf=file_path)\n",
        "  return df\n",
        "  \n",
        "def pas_metrics(model_tupel):\n",
        "  model_name = model_tupel[0]\n",
        "  df = _df_prediction_metrics(model_tupel, scaled=False)\n",
        "  file_path = os.path.join(results_folder, model_name + '.csv')\n",
        "  df.to_csv(path_or_buf=file_path)\n",
        "  return df\n",
        "\n",
        "\n",
        "def _df_prediction_metrics(model_tupel, scaled):\n",
        "  '''\n",
        "  creates describe dataframe of labels and \n",
        "  connect them with mse,rmse and mae per target and overall \n",
        "  '''\n",
        "  \n",
        "  model = model_tupel[1]\n",
        "  train_X, train_Y, test_X, test_Y = model_tupel[2]\n",
        "  cols_label = model_tupel[4]\n",
        "\n",
        "\n",
        "  pred_Y = model.predict(test_X)\n",
        "  \n",
        "  if scaled:\n",
        "    truth_Y = test_Y\n",
        "  else:\n",
        "    label_scaler = model_tupel[3]\n",
        "    pred_Y = label_scaler.inverse_transform(pred_Y)\n",
        "    truth_Y = label_scaler.inverse_transform(test_Y)\n",
        "\n",
        "  df_describe = pd.DataFrame(truth_Y,columns=cols_label).describe()\n",
        "  mses = mean_squared_error(truth_Y, pred_Y, multioutput='raw_values')\n",
        "  rmses = np.array([math.sqrt(mse) for mse in mses])\n",
        "  maes = mean_absolute_error(truth_Y, pred_Y, multioutput='raw_values')\n",
        "  # average over list should do the job as well\n",
        "  mse = mean_squared_error(truth_Y, pred_Y)\n",
        "  rmse = math.sqrt(mse)\n",
        "  mae = mean_absolute_error(truth_Y, pred_Y)\n",
        "\n",
        "\n",
        "  df_mse_per_feature = pd.DataFrame(data=mses.reshape(1,-1),    # values\n",
        "            index=['mses'],     # index\n",
        "            columns=cols_label)  #  column names\n",
        "  df_rmse_per_feature = pd.DataFrame(data=rmses.reshape(1,-1),    # values\n",
        "        index=['rmes'],     # index\n",
        "        columns=cols_label)  #  column names\n",
        "  df_mae_per_feature = pd.DataFrame(data=maes.reshape(1,-1),    # values\n",
        "        index=['maes'],     # index\n",
        "        columns=cols_label)  #  column names\n",
        "  \n",
        "  \n",
        "  df_mse_all = pd.DataFrame(data=mse,    # values\n",
        "            index=['mse'],     # index\n",
        "            columns=cols_label)  #  column names\n",
        "  df_rmse_all = pd.DataFrame(data=rmse,    # values\n",
        "        index=['rme'],     # index\n",
        "        columns=cols_label)  #  column names\n",
        "  df_mae_all = pd.DataFrame(data=mae,    # values\n",
        "        index=['mae'],     # index\n",
        "        columns=cols_label)  #  column names\n",
        "  \n",
        "\n",
        "  metrics = [df_mse_per_feature, df_rmse_per_feature, df_mae_per_feature, \n",
        "             df_mse_all,df_rmse_all,df_mae_all]\n",
        "  return df_describe.append(metrics)"
      ],
      "execution_count": 0,
      "outputs": []
    },
    {
      "cell_type": "markdown",
      "metadata": {
        "id": "4gaR7IV326E_",
        "colab_type": "text"
      },
      "source": [
        "## define models"
      ]
    },
    {
      "cell_type": "code",
      "metadata": {
        "id": "Fhc2M4VD2_YP",
        "colab_type": "code",
        "colab": {}
      },
      "source": [
        "def create_rnn(model_name, layers, keras_activation, kernel_initializer, \n",
        "                 loss, metrics,  n_in=1, n_out=1, cols_label=None):\n",
        "  if not layers:\n",
        "    raise Exception('No layers defined. Expected in format [100,100]') \n",
        "\n",
        " #prepare data\n",
        "  train_X, train_Y, test_X, test_Y, feature_scaler, label_scaler, labels =  prepare_datasets_rnn(df_data, n_in, n_out, cols_label=cols_label)\n",
        "  features_nr = train_X.shape[1]\n",
        "  target_nr = train_Y.shape[1]\n",
        "\n",
        "   \n",
        "  model = keras.Sequential(name=model_name)\n",
        "  \n",
        "    \n",
        "  model.add(SimpleRNN(layers[0], input_shape=(n_in,train_X.shape[2]),\n",
        "                        #input_shape=(train_X.shape[1], train_X.shape[2]),\n",
        "                        kernel_initializer=kernel_initializer))\n",
        "  \n",
        "  for i in range(1, len(layers)):\n",
        "    layer_val = layers[i]\n",
        "    model.add(SimpleRNN(layer_val, kernel_initializer=kernel_initializer))\n",
        "\n",
        "  model.add(Dense(target_nr ))\n",
        "\n",
        "  model.compile(optimizer='adam',\n",
        "                        loss=loss,\n",
        "                        metrics=metrics)\n",
        "\n",
        "  model.summary()\n",
        "  print(model.to_json())\n",
        "  print(train_X.shape, train_Y.shape, test_X.shape, test_Y.shape)\n",
        "  return (model_name, model, (train_X, train_Y, test_X, test_Y), label_scaler, labels)\n"
      ],
      "execution_count": 0,
      "outputs": []
    },
    {
      "cell_type": "code",
      "metadata": {
        "id": "KwMj6E7mBL9m",
        "colab_type": "code",
        "outputId": "feacc921-2bab-4247-a6b2-59d85ed7a273",
        "colab": {
          "base_uri": "https://localhost:8080/",
          "height": 787
        }
      },
      "source": [
        "loss='mean_squared_error',\n",
        "metrics=['mean_squared_error', 'mean_absolute_error']\n",
        "\n",
        "\n",
        "#trained with batch_size=1\n",
        "rnn_50 = create_rnn('rnn_50', [50], ReLU, 'he_uniform', \n",
        "             loss, metrics, 2,1)\n",
        "\n",
        "rnn_200 = create_rnn('rnn_200', [200], ReLU, 'he_uniform', \n",
        "             loss, metrics, 2,1)\n",
        "\n",
        "rnn_400 = create_rnn('rnn_400', [400], ReLU, 'he_uniform', \n",
        "             loss, metrics, 2,1)\n",
        "\n",
        "models = [\n",
        "          rnn_50,\n",
        "          rnn_200,\n",
        "          rnn_400,\n",
        "          ]"
      ],
      "execution_count": 0,
      "outputs": [
        {
          "output_type": "stream",
          "text": [
            "Model: \"rnn_50\"\n",
            "_________________________________________________________________\n",
            "Layer (type)                 Output Shape              Param #   \n",
            "=================================================================\n",
            "simple_rnn_8 (SimpleRNN)     (None, 50)                3250      \n",
            "_________________________________________________________________\n",
            "dense_6 (Dense)              (None, 9)                 459       \n",
            "=================================================================\n",
            "Total params: 3,709\n",
            "Trainable params: 3,709\n",
            "Non-trainable params: 0\n",
            "_________________________________________________________________\n",
            "{\"class_name\": \"Sequential\", \"config\": {\"name\": \"rnn_50\", \"layers\": [{\"class_name\": \"SimpleRNN\", \"config\": {\"name\": \"simple_rnn_8\", \"trainable\": true, \"batch_input_shape\": [null, 2, 14], \"dtype\": \"float32\", \"return_sequences\": false, \"return_state\": false, \"go_backwards\": false, \"stateful\": false, \"unroll\": false, \"time_major\": false, \"units\": 50, \"activation\": \"tanh\", \"use_bias\": true, \"kernel_initializer\": {\"class_name\": \"VarianceScaling\", \"config\": {\"scale\": 2.0, \"mode\": \"fan_in\", \"distribution\": \"uniform\", \"seed\": null}}, \"recurrent_initializer\": {\"class_name\": \"Orthogonal\", \"config\": {\"gain\": 1.0, \"seed\": null}}, \"bias_initializer\": {\"class_name\": \"Zeros\", \"config\": {}}, \"kernel_regularizer\": null, \"recurrent_regularizer\": null, \"bias_regularizer\": null, \"activity_regularizer\": null, \"kernel_constraint\": null, \"recurrent_constraint\": null, \"bias_constraint\": null, \"dropout\": 0.0, \"recurrent_dropout\": 0.0}}, {\"class_name\": \"Dense\", \"config\": {\"name\": \"dense_6\", \"trainable\": true, \"dtype\": \"float32\", \"units\": 9, \"activation\": \"linear\", \"use_bias\": true, \"kernel_initializer\": {\"class_name\": \"GlorotUniform\", \"config\": {\"seed\": null}}, \"bias_initializer\": {\"class_name\": \"Zeros\", \"config\": {}}, \"kernel_regularizer\": null, \"bias_regularizer\": null, \"activity_regularizer\": null, \"kernel_constraint\": null, \"bias_constraint\": null}}]}, \"keras_version\": \"2.2.4-tf\", \"backend\": \"tensorflow\"}\n",
            "(330983, 2, 14) (330983, 9) (146906, 2, 14) (146906, 9)\n",
            "Model: \"rnn_200\"\n",
            "_________________________________________________________________\n",
            "Layer (type)                 Output Shape              Param #   \n",
            "=================================================================\n",
            "simple_rnn_9 (SimpleRNN)     (None, 200)               43000     \n",
            "_________________________________________________________________\n",
            "dense_7 (Dense)              (None, 9)                 1809      \n",
            "=================================================================\n",
            "Total params: 44,809\n",
            "Trainable params: 44,809\n",
            "Non-trainable params: 0\n",
            "_________________________________________________________________\n",
            "{\"class_name\": \"Sequential\", \"config\": {\"name\": \"rnn_200\", \"layers\": [{\"class_name\": \"SimpleRNN\", \"config\": {\"name\": \"simple_rnn_9\", \"trainable\": true, \"batch_input_shape\": [null, 2, 14], \"dtype\": \"float32\", \"return_sequences\": false, \"return_state\": false, \"go_backwards\": false, \"stateful\": false, \"unroll\": false, \"time_major\": false, \"units\": 200, \"activation\": \"tanh\", \"use_bias\": true, \"kernel_initializer\": {\"class_name\": \"VarianceScaling\", \"config\": {\"scale\": 2.0, \"mode\": \"fan_in\", \"distribution\": \"uniform\", \"seed\": null}}, \"recurrent_initializer\": {\"class_name\": \"Orthogonal\", \"config\": {\"gain\": 1.0, \"seed\": null}}, \"bias_initializer\": {\"class_name\": \"Zeros\", \"config\": {}}, \"kernel_regularizer\": null, \"recurrent_regularizer\": null, \"bias_regularizer\": null, \"activity_regularizer\": null, \"kernel_constraint\": null, \"recurrent_constraint\": null, \"bias_constraint\": null, \"dropout\": 0.0, \"recurrent_dropout\": 0.0}}, {\"class_name\": \"Dense\", \"config\": {\"name\": \"dense_7\", \"trainable\": true, \"dtype\": \"float32\", \"units\": 9, \"activation\": \"linear\", \"use_bias\": true, \"kernel_initializer\": {\"class_name\": \"GlorotUniform\", \"config\": {\"seed\": null}}, \"bias_initializer\": {\"class_name\": \"Zeros\", \"config\": {}}, \"kernel_regularizer\": null, \"bias_regularizer\": null, \"activity_regularizer\": null, \"kernel_constraint\": null, \"bias_constraint\": null}}]}, \"keras_version\": \"2.2.4-tf\", \"backend\": \"tensorflow\"}\n",
            "(330983, 2, 14) (330983, 9) (146906, 2, 14) (146906, 9)\n",
            "Model: \"rnn_400\"\n",
            "_________________________________________________________________\n",
            "Layer (type)                 Output Shape              Param #   \n",
            "=================================================================\n",
            "simple_rnn_10 (SimpleRNN)    (None, 400)               166000    \n",
            "_________________________________________________________________\n",
            "dense_8 (Dense)              (None, 9)                 3609      \n",
            "=================================================================\n",
            "Total params: 169,609\n",
            "Trainable params: 169,609\n",
            "Non-trainable params: 0\n",
            "_________________________________________________________________\n",
            "{\"class_name\": \"Sequential\", \"config\": {\"name\": \"rnn_400\", \"layers\": [{\"class_name\": \"SimpleRNN\", \"config\": {\"name\": \"simple_rnn_10\", \"trainable\": true, \"batch_input_shape\": [null, 2, 14], \"dtype\": \"float32\", \"return_sequences\": false, \"return_state\": false, \"go_backwards\": false, \"stateful\": false, \"unroll\": false, \"time_major\": false, \"units\": 400, \"activation\": \"tanh\", \"use_bias\": true, \"kernel_initializer\": {\"class_name\": \"VarianceScaling\", \"config\": {\"scale\": 2.0, \"mode\": \"fan_in\", \"distribution\": \"uniform\", \"seed\": null}}, \"recurrent_initializer\": {\"class_name\": \"Orthogonal\", \"config\": {\"gain\": 1.0, \"seed\": null}}, \"bias_initializer\": {\"class_name\": \"Zeros\", \"config\": {}}, \"kernel_regularizer\": null, \"recurrent_regularizer\": null, \"bias_regularizer\": null, \"activity_regularizer\": null, \"kernel_constraint\": null, \"recurrent_constraint\": null, \"bias_constraint\": null, \"dropout\": 0.0, \"recurrent_dropout\": 0.0}}, {\"class_name\": \"Dense\", \"config\": {\"name\": \"dense_8\", \"trainable\": true, \"dtype\": \"float32\", \"units\": 9, \"activation\": \"linear\", \"use_bias\": true, \"kernel_initializer\": {\"class_name\": \"GlorotUniform\", \"config\": {\"seed\": null}}, \"bias_initializer\": {\"class_name\": \"Zeros\", \"config\": {}}, \"kernel_regularizer\": null, \"bias_regularizer\": null, \"activity_regularizer\": null, \"kernel_constraint\": null, \"bias_constraint\": null}}]}, \"keras_version\": \"2.2.4-tf\", \"backend\": \"tensorflow\"}\n",
            "(330983, 2, 14) (330983, 9) (146906, 2, 14) (146906, 9)\n"
          ],
          "name": "stdout"
        }
      ]
    },
    {
      "cell_type": "markdown",
      "metadata": {
        "id": "HtFN-OP2HlqQ",
        "colab_type": "text"
      },
      "source": [
        "## train, save and load model"
      ]
    },
    {
      "cell_type": "code",
      "metadata": {
        "id": "DDmtdBRxJKJd",
        "colab_type": "code",
        "colab": {}
      },
      "source": [
        "def train_model(model_tupel, epochs, batch_size):\n",
        "  model_name = model_tupel[0]\n",
        "  keras_model = model_tupel[1]\n",
        "  train_X, train_Y, test_X, test_Y = model_tupel[2]\n",
        "\n",
        "  callbacks = [\n",
        "              #prepare_checkpoint_callback(model_name=model_name),\n",
        "              prepare_tensorboard_callback(model_name=model_name)\n",
        "              ]\n",
        "\n",
        "  history = keras_model.fit(train_X,\n",
        "                            train_Y,\n",
        "                            epochs=epochs,\n",
        "                            batch_size=batch_size,\n",
        "                            validation_data=(test_X, test_Y),\n",
        "                            verbose=2,\n",
        "                            callbacks=callbacks,\n",
        "                            shuffle=False\n",
        "                            )\n",
        "  return history  \n",
        "\n",
        "def _format_model_path(model_name):\n",
        "  file_name = '{}_end'.format(model_name)\n",
        "  return os.path.join(saved_model_weight_path, file_name)\n",
        "\n",
        "def save_model(model_tupel):\n",
        "  model_name = model_tupel[0]\n",
        "  keras_model = model_tupel[1]\n",
        "  file_path = _format_model_path(model_name)\n",
        "  keras_model.save_weights(file_path)\n",
        "\n",
        "def load_model(model_tupel):\n",
        "  model_name = model_tupel[0]\n",
        "  keras_model = model_tupel[1]\n",
        "  file_path = _format_model_path(model_name)\n",
        "  exact_file_path = file_path + '.index'\n",
        "  if os.path.isfile(exact_file_path):\n",
        "    print('load model {}'.format(model_name))\n",
        "    keras_model.load_weights(file_path)\n",
        "    return True\n",
        "  else:\n",
        "    return False\n",
        "\n",
        "def _format_history_path(model_name):\n",
        "  file_name = '{}_history_dict'.format(model_name)\n",
        "  return os.path.join(results_folder, file_name)\n",
        "  \n",
        "\n",
        "def save_history(model_tupel, history):\n",
        "  file_path = _format_history_path(model_tupel[0])\n",
        "  with open(file_path, 'wb') as file_hist:\n",
        "        pickle.dump(history.history, file_hist)\n",
        "  \n",
        "\n",
        "def load_history(model_tupel):\n",
        "  file_path = _format_history_path(model_tupel[0])\n",
        "  if not os.path.isfile(file_path):\n",
        "    return dict()\n",
        "  with open(file_path, 'rb') as file_hist:\n",
        "    return pickle.load(file_hist)"
      ],
      "execution_count": 0,
      "outputs": []
    },
    {
      "cell_type": "code",
      "metadata": {
        "id": "DxQg934JhE_H",
        "colab_type": "code",
        "outputId": "18c5d388-7e8e-4c41-b01c-1c290bc68915",
        "colab": {
          "base_uri": "https://localhost:8080/",
          "height": 1000
        }
      },
      "source": [
        "histories = []\n",
        "for model in models:\n",
        "  train_X, train_Y, test_X, test_Y = model[2]\n",
        "\n",
        "\n",
        "  if not load_model(model):\n",
        "    print(model[0])\n",
        "    history = train_model(model, epochs=50, batch_size=64)\n",
        "    save_model(model)\n",
        "    save_history(model, history)\n",
        "    histories.append(history.history)\n",
        "    print('*******************')\n",
        "  else:\n",
        "    history = load_history(model)\n",
        "    histories.append(history)"
      ],
      "execution_count": 0,
      "outputs": [
        {
          "output_type": "stream",
          "text": [
            "load model rnn_50\n",
            "rnn_200\n",
            "Train on 330983 samples, validate on 146906 samples\n",
            "Epoch 1/50\n",
            "330983/330983 - 35s - loss: 0.0087 - mean_squared_error: 0.0087 - mean_absolute_error: 0.0544 - val_loss: 0.4259 - val_mean_squared_error: 0.4259 - val_mean_absolute_error: 0.5607\n",
            "Epoch 2/50\n",
            "330983/330983 - 34s - loss: 0.0130 - mean_squared_error: 0.0130 - mean_absolute_error: 0.0696 - val_loss: 0.1296 - val_mean_squared_error: 0.1296 - val_mean_absolute_error: 0.2682\n",
            "Epoch 3/50\n",
            "330983/330983 - 33s - loss: 0.0134 - mean_squared_error: 0.0134 - mean_absolute_error: 0.0696 - val_loss: 0.1052 - val_mean_squared_error: 0.1052 - val_mean_absolute_error: 0.2475\n",
            "Epoch 4/50\n",
            "330983/330983 - 33s - loss: 0.0108 - mean_squared_error: 0.0108 - mean_absolute_error: 0.0606 - val_loss: 0.1127 - val_mean_squared_error: 0.1127 - val_mean_absolute_error: 0.2645\n",
            "Epoch 5/50\n",
            "330983/330983 - 34s - loss: 0.0110 - mean_squared_error: 0.0110 - mean_absolute_error: 0.0642 - val_loss: 0.0878 - val_mean_squared_error: 0.0878 - val_mean_absolute_error: 0.2214\n",
            "Epoch 6/50\n",
            "330983/330983 - 33s - loss: 0.0104 - mean_squared_error: 0.0104 - mean_absolute_error: 0.0620 - val_loss: 0.2206 - val_mean_squared_error: 0.2206 - val_mean_absolute_error: 0.3705\n",
            "Epoch 7/50\n",
            "330983/330983 - 33s - loss: 0.0116 - mean_squared_error: 0.0116 - mean_absolute_error: 0.0631 - val_loss: 0.1346 - val_mean_squared_error: 0.1346 - val_mean_absolute_error: 0.2634\n",
            "Epoch 8/50\n",
            "330983/330983 - 33s - loss: 0.0100 - mean_squared_error: 0.0100 - mean_absolute_error: 0.0598 - val_loss: 0.0633 - val_mean_squared_error: 0.0633 - val_mean_absolute_error: 0.1649\n",
            "Epoch 9/50\n",
            "330983/330983 - 34s - loss: 0.0096 - mean_squared_error: 0.0096 - mean_absolute_error: 0.0575 - val_loss: 0.0980 - val_mean_squared_error: 0.0980 - val_mean_absolute_error: 0.2225\n",
            "Epoch 10/50\n",
            "330983/330983 - 33s - loss: 0.0101 - mean_squared_error: 0.0101 - mean_absolute_error: 0.0618 - val_loss: 0.1120 - val_mean_squared_error: 0.1120 - val_mean_absolute_error: 0.2464\n",
            "Epoch 11/50\n",
            "330983/330983 - 34s - loss: 0.0101 - mean_squared_error: 0.0101 - mean_absolute_error: 0.0614 - val_loss: 0.2216 - val_mean_squared_error: 0.2216 - val_mean_absolute_error: 0.3958\n",
            "Epoch 12/50\n",
            "330983/330983 - 34s - loss: 0.0089 - mean_squared_error: 0.0089 - mean_absolute_error: 0.0577 - val_loss: 0.1313 - val_mean_squared_error: 0.1313 - val_mean_absolute_error: 0.2844\n",
            "Epoch 13/50\n",
            "330983/330983 - 33s - loss: 0.0088 - mean_squared_error: 0.0088 - mean_absolute_error: 0.0577 - val_loss: 0.1209 - val_mean_squared_error: 0.1209 - val_mean_absolute_error: 0.2472\n",
            "Epoch 14/50\n",
            "330983/330983 - 34s - loss: 0.0085 - mean_squared_error: 0.0085 - mean_absolute_error: 0.0572 - val_loss: 0.0636 - val_mean_squared_error: 0.0636 - val_mean_absolute_error: 0.1739\n",
            "Epoch 15/50\n",
            "330983/330983 - 34s - loss: 0.0074 - mean_squared_error: 0.0074 - mean_absolute_error: 0.0525 - val_loss: 0.0898 - val_mean_squared_error: 0.0898 - val_mean_absolute_error: 0.2164\n",
            "Epoch 16/50\n",
            "330983/330983 - 33s - loss: 0.0082 - mean_squared_error: 0.0082 - mean_absolute_error: 0.0528 - val_loss: 0.0870 - val_mean_squared_error: 0.0870 - val_mean_absolute_error: 0.2096\n",
            "Epoch 17/50\n",
            "330983/330983 - 33s - loss: 0.0073 - mean_squared_error: 0.0073 - mean_absolute_error: 0.0531 - val_loss: 0.1551 - val_mean_squared_error: 0.1551 - val_mean_absolute_error: 0.2938\n",
            "Epoch 18/50\n",
            "330983/330983 - 34s - loss: 0.0082 - mean_squared_error: 0.0082 - mean_absolute_error: 0.0553 - val_loss: 0.0911 - val_mean_squared_error: 0.0911 - val_mean_absolute_error: 0.2175\n",
            "Epoch 19/50\n",
            "330983/330983 - 33s - loss: 0.0079 - mean_squared_error: 0.0079 - mean_absolute_error: 0.0554 - val_loss: 0.1779 - val_mean_squared_error: 0.1779 - val_mean_absolute_error: 0.3164\n",
            "Epoch 20/50\n",
            "330983/330983 - 33s - loss: 0.0081 - mean_squared_error: 0.0081 - mean_absolute_error: 0.0544 - val_loss: 0.1374 - val_mean_squared_error: 0.1374 - val_mean_absolute_error: 0.2852\n",
            "Epoch 21/50\n",
            "330983/330983 - 33s - loss: 0.0074 - mean_squared_error: 0.0074 - mean_absolute_error: 0.0529 - val_loss: 0.0927 - val_mean_squared_error: 0.0927 - val_mean_absolute_error: 0.2119\n",
            "Epoch 22/50\n",
            "330983/330983 - 33s - loss: 0.0064 - mean_squared_error: 0.0064 - mean_absolute_error: 0.0494 - val_loss: 0.1451 - val_mean_squared_error: 0.1451 - val_mean_absolute_error: 0.2671\n",
            "Epoch 23/50\n",
            "330983/330983 - 34s - loss: 0.0068 - mean_squared_error: 0.0068 - mean_absolute_error: 0.0502 - val_loss: 0.1191 - val_mean_squared_error: 0.1191 - val_mean_absolute_error: 0.2463\n",
            "Epoch 24/50\n",
            "330983/330983 - 33s - loss: 0.0054 - mean_squared_error: 0.0054 - mean_absolute_error: 0.0458 - val_loss: 0.0653 - val_mean_squared_error: 0.0653 - val_mean_absolute_error: 0.1710\n",
            "Epoch 25/50\n",
            "330983/330983 - 33s - loss: 0.0057 - mean_squared_error: 0.0057 - mean_absolute_error: 0.0483 - val_loss: 0.1167 - val_mean_squared_error: 0.1167 - val_mean_absolute_error: 0.2571\n",
            "Epoch 26/50\n",
            "330983/330983 - 33s - loss: 0.0057 - mean_squared_error: 0.0057 - mean_absolute_error: 0.0484 - val_loss: 0.0996 - val_mean_squared_error: 0.0996 - val_mean_absolute_error: 0.2399\n",
            "Epoch 27/50\n",
            "330983/330983 - 34s - loss: 0.0054 - mean_squared_error: 0.0054 - mean_absolute_error: 0.0468 - val_loss: 0.1241 - val_mean_squared_error: 0.1241 - val_mean_absolute_error: 0.2689\n",
            "Epoch 28/50\n",
            "330983/330983 - 33s - loss: 0.0047 - mean_squared_error: 0.0047 - mean_absolute_error: 0.0426 - val_loss: 0.0782 - val_mean_squared_error: 0.0782 - val_mean_absolute_error: 0.2144\n",
            "Epoch 29/50\n",
            "330983/330983 - 33s - loss: 0.0039 - mean_squared_error: 0.0039 - mean_absolute_error: 0.0395 - val_loss: 0.1111 - val_mean_squared_error: 0.1111 - val_mean_absolute_error: 0.2470\n",
            "Epoch 30/50\n",
            "330983/330983 - 33s - loss: 0.0034 - mean_squared_error: 0.0034 - mean_absolute_error: 0.0371 - val_loss: 0.1002 - val_mean_squared_error: 0.1002 - val_mean_absolute_error: 0.2366\n",
            "Epoch 31/50\n",
            "330983/330983 - 33s - loss: 0.0031 - mean_squared_error: 0.0031 - mean_absolute_error: 0.0360 - val_loss: 0.0632 - val_mean_squared_error: 0.0632 - val_mean_absolute_error: 0.1697\n",
            "Epoch 32/50\n",
            "330983/330983 - 34s - loss: 0.0025 - mean_squared_error: 0.0025 - mean_absolute_error: 0.0331 - val_loss: 0.0478 - val_mean_squared_error: 0.0478 - val_mean_absolute_error: 0.1518\n",
            "Epoch 33/50\n",
            "330983/330983 - 34s - loss: 0.0017 - mean_squared_error: 0.0017 - mean_absolute_error: 0.0266 - val_loss: 0.0284 - val_mean_squared_error: 0.0284 - val_mean_absolute_error: 0.1172\n",
            "Epoch 34/50\n",
            "330983/330983 - 33s - loss: 0.0013 - mean_squared_error: 0.0013 - mean_absolute_error: 0.0228 - val_loss: 0.0198 - val_mean_squared_error: 0.0198 - val_mean_absolute_error: 0.0956\n",
            "Epoch 35/50\n",
            "330983/330983 - 33s - loss: 9.0374e-04 - mean_squared_error: 9.0374e-04 - mean_absolute_error: 0.0186 - val_loss: 0.0157 - val_mean_squared_error: 0.0157 - val_mean_absolute_error: 0.0865\n",
            "Epoch 36/50\n",
            "330983/330983 - 33s - loss: 7.4675e-04 - mean_squared_error: 7.4676e-04 - mean_absolute_error: 0.0167 - val_loss: 0.0142 - val_mean_squared_error: 0.0142 - val_mean_absolute_error: 0.0871\n",
            "Epoch 37/50\n",
            "330983/330983 - 34s - loss: 5.9007e-04 - mean_squared_error: 5.9007e-04 - mean_absolute_error: 0.0154 - val_loss: 0.0154 - val_mean_squared_error: 0.0154 - val_mean_absolute_error: 0.0916\n",
            "Epoch 38/50\n",
            "330983/330983 - 33s - loss: 6.7159e-04 - mean_squared_error: 6.7159e-04 - mean_absolute_error: 0.0157 - val_loss: 0.0097 - val_mean_squared_error: 0.0097 - val_mean_absolute_error: 0.0756\n",
            "Epoch 39/50\n",
            "330983/330983 - 33s - loss: 4.7120e-04 - mean_squared_error: 4.7120e-04 - mean_absolute_error: 0.0132 - val_loss: 0.0092 - val_mean_squared_error: 0.0092 - val_mean_absolute_error: 0.0727\n",
            "Epoch 40/50\n",
            "330983/330983 - 33s - loss: 4.0506e-04 - mean_squared_error: 4.0506e-04 - mean_absolute_error: 0.0127 - val_loss: 0.0099 - val_mean_squared_error: 0.0099 - val_mean_absolute_error: 0.0794\n",
            "Epoch 41/50\n",
            "330983/330983 - 33s - loss: 3.8104e-04 - mean_squared_error: 3.8104e-04 - mean_absolute_error: 0.0122 - val_loss: 0.0101 - val_mean_squared_error: 0.0101 - val_mean_absolute_error: 0.0790\n",
            "Epoch 42/50\n",
            "330983/330983 - 33s - loss: 3.9266e-04 - mean_squared_error: 3.9266e-04 - mean_absolute_error: 0.0128 - val_loss: 0.0102 - val_mean_squared_error: 0.0102 - val_mean_absolute_error: 0.0790\n",
            "Epoch 43/50\n",
            "330983/330983 - 32s - loss: 3.4563e-04 - mean_squared_error: 3.4563e-04 - mean_absolute_error: 0.0119 - val_loss: 0.0131 - val_mean_squared_error: 0.0131 - val_mean_absolute_error: 0.0930\n",
            "Epoch 44/50\n",
            "330983/330983 - 32s - loss: 3.4116e-04 - mean_squared_error: 3.4116e-04 - mean_absolute_error: 0.0118 - val_loss: 0.0059 - val_mean_squared_error: 0.0059 - val_mean_absolute_error: 0.0577\n",
            "Epoch 45/50\n",
            "330983/330983 - 32s - loss: 3.5351e-04 - mean_squared_error: 3.5351e-04 - mean_absolute_error: 0.0119 - val_loss: 0.0073 - val_mean_squared_error: 0.0073 - val_mean_absolute_error: 0.0666\n",
            "Epoch 46/50\n",
            "330983/330983 - 33s - loss: 3.0436e-04 - mean_squared_error: 3.0436e-04 - mean_absolute_error: 0.0109 - val_loss: 0.0074 - val_mean_squared_error: 0.0074 - val_mean_absolute_error: 0.0675\n",
            "Epoch 47/50\n",
            "330983/330983 - 32s - loss: 2.8530e-04 - mean_squared_error: 2.8530e-04 - mean_absolute_error: 0.0111 - val_loss: 0.0072 - val_mean_squared_error: 0.0072 - val_mean_absolute_error: 0.0694\n",
            "Epoch 48/50\n",
            "330983/330983 - 32s - loss: 2.9669e-04 - mean_squared_error: 2.9669e-04 - mean_absolute_error: 0.0107 - val_loss: 0.0046 - val_mean_squared_error: 0.0046 - val_mean_absolute_error: 0.0529\n",
            "Epoch 49/50\n",
            "330983/330983 - 32s - loss: 2.7045e-04 - mean_squared_error: 2.7045e-04 - mean_absolute_error: 0.0105 - val_loss: 0.0068 - val_mean_squared_error: 0.0068 - val_mean_absolute_error: 0.0656\n",
            "Epoch 50/50\n",
            "330983/330983 - 32s - loss: 2.9388e-04 - mean_squared_error: 2.9388e-04 - mean_absolute_error: 0.0108 - val_loss: 0.0058 - val_mean_squared_error: 0.0058 - val_mean_absolute_error: 0.0567\n",
            "*******************\n",
            "rnn_400\n",
            "Train on 330983 samples, validate on 146906 samples\n",
            "Epoch 1/50\n",
            "330983/330983 - 34s - loss: 0.0231 - mean_squared_error: 0.0231 - mean_absolute_error: 0.0708 - val_loss: 5.4950 - val_mean_squared_error: 5.4950 - val_mean_absolute_error: 1.5279\n",
            "Epoch 2/50\n",
            "330983/330983 - 32s - loss: 0.0662 - mean_squared_error: 0.0662 - mean_absolute_error: 0.1443 - val_loss: 0.1382 - val_mean_squared_error: 0.1382 - val_mean_absolute_error: 0.2889\n",
            "Epoch 3/50\n",
            "330983/330983 - 32s - loss: 0.0623 - mean_squared_error: 0.0623 - mean_absolute_error: 0.1426 - val_loss: 0.2284 - val_mean_squared_error: 0.2284 - val_mean_absolute_error: 0.3216\n",
            "Epoch 4/50\n",
            "330983/330983 - 32s - loss: 0.0479 - mean_squared_error: 0.0479 - mean_absolute_error: 0.1252 - val_loss: 0.5991 - val_mean_squared_error: 0.5991 - val_mean_absolute_error: 0.5357\n",
            "Epoch 5/50\n",
            "330983/330983 - 32s - loss: 0.0516 - mean_squared_error: 0.0516 - mean_absolute_error: 0.1368 - val_loss: 0.3804 - val_mean_squared_error: 0.3804 - val_mean_absolute_error: 0.3744\n",
            "Epoch 6/50\n",
            "330983/330983 - 33s - loss: 0.0320 - mean_squared_error: 0.0320 - mean_absolute_error: 0.1077 - val_loss: 0.3068 - val_mean_squared_error: 0.3068 - val_mean_absolute_error: 0.3517\n",
            "Epoch 7/50\n",
            "330983/330983 - 33s - loss: 0.0131 - mean_squared_error: 0.0131 - mean_absolute_error: 0.0668 - val_loss: 0.1210 - val_mean_squared_error: 0.1210 - val_mean_absolute_error: 0.2779\n",
            "Epoch 8/50\n",
            "330983/330983 - 33s - loss: 0.0128 - mean_squared_error: 0.0128 - mean_absolute_error: 0.0616 - val_loss: 0.0900 - val_mean_squared_error: 0.0900 - val_mean_absolute_error: 0.2184\n",
            "Epoch 9/50\n",
            "330983/330983 - 33s - loss: 0.0202 - mean_squared_error: 0.0202 - mean_absolute_error: 0.0717 - val_loss: 0.1877 - val_mean_squared_error: 0.1877 - val_mean_absolute_error: 0.3342\n",
            "Epoch 10/50\n",
            "330983/330983 - 33s - loss: 0.0177 - mean_squared_error: 0.0177 - mean_absolute_error: 0.0714 - val_loss: 0.1377 - val_mean_squared_error: 0.1377 - val_mean_absolute_error: 0.2707\n",
            "Epoch 11/50\n",
            "330983/330983 - 33s - loss: 0.0101 - mean_squared_error: 0.0101 - mean_absolute_error: 0.0528 - val_loss: 0.0769 - val_mean_squared_error: 0.0769 - val_mean_absolute_error: 0.1939\n",
            "Epoch 12/50\n",
            "330983/330983 - 32s - loss: 0.0110 - mean_squared_error: 0.0110 - mean_absolute_error: 0.0547 - val_loss: 0.0758 - val_mean_squared_error: 0.0758 - val_mean_absolute_error: 0.1936\n",
            "Epoch 13/50\n",
            "330983/330983 - 32s - loss: 0.0095 - mean_squared_error: 0.0095 - mean_absolute_error: 0.0524 - val_loss: 0.0721 - val_mean_squared_error: 0.0721 - val_mean_absolute_error: 0.1854\n",
            "Epoch 14/50\n",
            "330983/330983 - 32s - loss: 0.0104 - mean_squared_error: 0.0104 - mean_absolute_error: 0.0571 - val_loss: 0.0920 - val_mean_squared_error: 0.0920 - val_mean_absolute_error: 0.2241\n",
            "Epoch 15/50\n",
            "330983/330983 - 33s - loss: 0.0165 - mean_squared_error: 0.0165 - mean_absolute_error: 0.0654 - val_loss: 0.1091 - val_mean_squared_error: 0.1091 - val_mean_absolute_error: 0.2458\n",
            "Epoch 16/50\n",
            "330983/330983 - 33s - loss: 0.0084 - mean_squared_error: 0.0084 - mean_absolute_error: 0.0502 - val_loss: 0.0922 - val_mean_squared_error: 0.0922 - val_mean_absolute_error: 0.1992\n",
            "Epoch 17/50\n",
            "330983/330983 - 32s - loss: 0.0093 - mean_squared_error: 0.0093 - mean_absolute_error: 0.0528 - val_loss: 0.0652 - val_mean_squared_error: 0.0652 - val_mean_absolute_error: 0.1733\n",
            "Epoch 18/50\n",
            "330983/330983 - 33s - loss: 0.0107 - mean_squared_error: 0.0107 - mean_absolute_error: 0.0608 - val_loss: 0.0944 - val_mean_squared_error: 0.0944 - val_mean_absolute_error: 0.2037\n",
            "Epoch 19/50\n",
            "330983/330983 - 32s - loss: 0.0094 - mean_squared_error: 0.0094 - mean_absolute_error: 0.0541 - val_loss: 0.0724 - val_mean_squared_error: 0.0724 - val_mean_absolute_error: 0.1847\n",
            "Epoch 20/50\n",
            "330983/330983 - 33s - loss: 0.0099 - mean_squared_error: 0.0099 - mean_absolute_error: 0.0562 - val_loss: 0.0815 - val_mean_squared_error: 0.0815 - val_mean_absolute_error: 0.2121\n",
            "Epoch 21/50\n",
            "330983/330983 - 33s - loss: 0.0139 - mean_squared_error: 0.0139 - mean_absolute_error: 0.0612 - val_loss: 0.1099 - val_mean_squared_error: 0.1099 - val_mean_absolute_error: 0.2454\n",
            "Epoch 22/50\n",
            "330983/330983 - 33s - loss: 0.0106 - mean_squared_error: 0.0106 - mean_absolute_error: 0.0577 - val_loss: 0.1106 - val_mean_squared_error: 0.1106 - val_mean_absolute_error: 0.2405\n",
            "Epoch 23/50\n",
            "330983/330983 - 33s - loss: 0.0193 - mean_squared_error: 0.0193 - mean_absolute_error: 0.0735 - val_loss: 0.1248 - val_mean_squared_error: 0.1248 - val_mean_absolute_error: 0.2795\n",
            "Epoch 24/50\n",
            "330983/330983 - 33s - loss: 0.0124 - mean_squared_error: 0.0124 - mean_absolute_error: 0.0608 - val_loss: 0.0778 - val_mean_squared_error: 0.0778 - val_mean_absolute_error: 0.2021\n",
            "Epoch 25/50\n",
            "330983/330983 - 33s - loss: 0.0089 - mean_squared_error: 0.0089 - mean_absolute_error: 0.0523 - val_loss: 0.0729 - val_mean_squared_error: 0.0729 - val_mean_absolute_error: 0.1846\n",
            "Epoch 26/50\n",
            "330983/330983 - 33s - loss: 0.0082 - mean_squared_error: 0.0082 - mean_absolute_error: 0.0505 - val_loss: 0.0738 - val_mean_squared_error: 0.0738 - val_mean_absolute_error: 0.1888\n",
            "Epoch 27/50\n",
            "330983/330983 - 33s - loss: 0.0081 - mean_squared_error: 0.0081 - mean_absolute_error: 0.0492 - val_loss: 0.0706 - val_mean_squared_error: 0.0706 - val_mean_absolute_error: 0.1930\n",
            "Epoch 28/50\n",
            "330983/330983 - 32s - loss: 0.0101 - mean_squared_error: 0.0101 - mean_absolute_error: 0.0541 - val_loss: 0.0897 - val_mean_squared_error: 0.0897 - val_mean_absolute_error: 0.2255\n",
            "Epoch 29/50\n",
            "330983/330983 - 33s - loss: 0.0086 - mean_squared_error: 0.0086 - mean_absolute_error: 0.0539 - val_loss: 0.0910 - val_mean_squared_error: 0.0910 - val_mean_absolute_error: 0.2240\n",
            "Epoch 30/50\n",
            "330983/330983 - 33s - loss: 0.0100 - mean_squared_error: 0.0100 - mean_absolute_error: 0.0561 - val_loss: 0.0807 - val_mean_squared_error: 0.0807 - val_mean_absolute_error: 0.2031\n",
            "Epoch 31/50\n",
            "330983/330983 - 33s - loss: 0.0088 - mean_squared_error: 0.0088 - mean_absolute_error: 0.0527 - val_loss: 0.0776 - val_mean_squared_error: 0.0776 - val_mean_absolute_error: 0.2042\n",
            "Epoch 32/50\n",
            "330983/330983 - 33s - loss: 0.0085 - mean_squared_error: 0.0085 - mean_absolute_error: 0.0511 - val_loss: 0.0758 - val_mean_squared_error: 0.0758 - val_mean_absolute_error: 0.1960\n",
            "Epoch 33/50\n",
            "330983/330983 - 33s - loss: 0.0086 - mean_squared_error: 0.0086 - mean_absolute_error: 0.0508 - val_loss: 0.0593 - val_mean_squared_error: 0.0593 - val_mean_absolute_error: 0.1686\n",
            "Epoch 34/50\n",
            "330983/330983 - 33s - loss: 0.0081 - mean_squared_error: 0.0081 - mean_absolute_error: 0.0508 - val_loss: 0.0791 - val_mean_squared_error: 0.0791 - val_mean_absolute_error: 0.2007\n",
            "Epoch 35/50\n",
            "330983/330983 - 33s - loss: 0.0111 - mean_squared_error: 0.0111 - mean_absolute_error: 0.0567 - val_loss: 0.0709 - val_mean_squared_error: 0.0709 - val_mean_absolute_error: 0.1864\n",
            "Epoch 36/50\n",
            "330983/330983 - 33s - loss: 0.0082 - mean_squared_error: 0.0082 - mean_absolute_error: 0.0501 - val_loss: 0.0716 - val_mean_squared_error: 0.0716 - val_mean_absolute_error: 0.1870\n",
            "Epoch 37/50\n",
            "330983/330983 - 33s - loss: 0.0098 - mean_squared_error: 0.0098 - mean_absolute_error: 0.0565 - val_loss: 0.0992 - val_mean_squared_error: 0.0992 - val_mean_absolute_error: 0.2331\n",
            "Epoch 38/50\n",
            "330983/330983 - 33s - loss: 0.0154 - mean_squared_error: 0.0154 - mean_absolute_error: 0.0648 - val_loss: 0.1075 - val_mean_squared_error: 0.1075 - val_mean_absolute_error: 0.2470\n",
            "Epoch 39/50\n",
            "330983/330983 - 33s - loss: 0.0174 - mean_squared_error: 0.0174 - mean_absolute_error: 0.0690 - val_loss: 0.1865 - val_mean_squared_error: 0.1865 - val_mean_absolute_error: 0.2816\n",
            "Epoch 40/50\n",
            "330983/330983 - 33s - loss: 0.0105 - mean_squared_error: 0.0105 - mean_absolute_error: 0.0537 - val_loss: 0.0742 - val_mean_squared_error: 0.0742 - val_mean_absolute_error: 0.1955\n",
            "Epoch 41/50\n",
            "330983/330983 - 32s - loss: 0.0101 - mean_squared_error: 0.0101 - mean_absolute_error: 0.0542 - val_loss: 0.0786 - val_mean_squared_error: 0.0786 - val_mean_absolute_error: 0.1974\n",
            "Epoch 42/50\n",
            "330983/330983 - 32s - loss: 0.0088 - mean_squared_error: 0.0088 - mean_absolute_error: 0.0531 - val_loss: 0.0859 - val_mean_squared_error: 0.0859 - val_mean_absolute_error: 0.2280\n",
            "Epoch 43/50\n",
            "330983/330983 - 32s - loss: 0.0107 - mean_squared_error: 0.0107 - mean_absolute_error: 0.0550 - val_loss: 0.0917 - val_mean_squared_error: 0.0917 - val_mean_absolute_error: 0.2317\n",
            "Epoch 44/50\n",
            "330983/330983 - 33s - loss: 0.0097 - mean_squared_error: 0.0097 - mean_absolute_error: 0.0543 - val_loss: 0.0749 - val_mean_squared_error: 0.0749 - val_mean_absolute_error: 0.2031\n",
            "Epoch 45/50\n",
            "330983/330983 - 32s - loss: 0.0086 - mean_squared_error: 0.0086 - mean_absolute_error: 0.0534 - val_loss: 0.0839 - val_mean_squared_error: 0.0839 - val_mean_absolute_error: 0.2053\n",
            "Epoch 46/50\n",
            "330983/330983 - 32s - loss: 0.0124 - mean_squared_error: 0.0124 - mean_absolute_error: 0.0643 - val_loss: 0.0985 - val_mean_squared_error: 0.0985 - val_mean_absolute_error: 0.2319\n",
            "Epoch 47/50\n",
            "330983/330983 - 33s - loss: 0.0111 - mean_squared_error: 0.0111 - mean_absolute_error: 0.0592 - val_loss: 0.0831 - val_mean_squared_error: 0.0831 - val_mean_absolute_error: 0.2069\n",
            "Epoch 48/50\n",
            "330983/330983 - 33s - loss: 0.0111 - mean_squared_error: 0.0111 - mean_absolute_error: 0.0574 - val_loss: 0.0917 - val_mean_squared_error: 0.0917 - val_mean_absolute_error: 0.2249\n",
            "Epoch 49/50\n",
            "330983/330983 - 33s - loss: 0.0136 - mean_squared_error: 0.0136 - mean_absolute_error: 0.0627 - val_loss: 0.1217 - val_mean_squared_error: 0.1217 - val_mean_absolute_error: 0.2715\n",
            "Epoch 50/50\n",
            "330983/330983 - 33s - loss: 0.0116 - mean_squared_error: 0.0116 - mean_absolute_error: 0.0592 - val_loss: 0.1252 - val_mean_squared_error: 0.1252 - val_mean_absolute_error: 0.2663\n",
            "*******************\n"
          ],
          "name": "stdout"
        }
      ]
    },
    {
      "cell_type": "markdown",
      "metadata": {
        "id": "XRLpUIJnZ-eq",
        "colab_type": "text"
      },
      "source": [
        "## visualize"
      ]
    },
    {
      "cell_type": "markdown",
      "metadata": {
        "id": "8X1nsxWEO59n",
        "colab_type": "text"
      },
      "source": [
        "### Test & Training Loss"
      ]
    },
    {
      "cell_type": "code",
      "metadata": {
        "id": "q7eOZ0lAe1CP",
        "colab_type": "code",
        "outputId": "65551af0-94fe-416c-cb9b-7177a3d9fc56",
        "colab": {
          "base_uri": "https://localhost:8080/",
          "height": 178
        }
      },
      "source": [
        "for i, history in enumerate(histories):\n",
        "  last_loss = history['loss'][-1]\n",
        "  last_val_loss = history['val_loss'][-1]\n",
        "  model_name = models[i][0]\n",
        "  print('{} model last loss: {}'.format(model_name,last_loss))\n",
        "  print('{} model last val loss: {}'.format(model_name,last_val_loss))\n",
        "  print('*******')"
      ],
      "execution_count": 0,
      "outputs": [
        {
          "output_type": "stream",
          "text": [
            "rnn_50 model last loss: 0.00015621084461752514\n",
            "rnn_50 model last val loss: 0.0025660983929435047\n",
            "*******\n",
            "rnn_200 model last loss: 0.0002938809458181079\n",
            "rnn_200 model last val loss: 0.005796472876210638\n",
            "*******\n",
            "rnn_400 model last loss: 0.011603969058292925\n",
            "rnn_400 model last val loss: 0.1251568097582233\n",
            "*******\n"
          ],
          "name": "stdout"
        }
      ]
    },
    {
      "cell_type": "code",
      "metadata": {
        "id": "gbFhTgXGITKV",
        "colab_type": "code",
        "outputId": "05e481de-e87f-4e61-92d8-5ae3d63599ad",
        "colab": {
          "base_uri": "https://localhost:8080/",
          "height": 606
        }
      },
      "source": [
        "pas_history(models, histories=histories)"
      ],
      "execution_count": 0,
      "outputs": [
        {
          "output_type": "display_data",
          "data": {
            "image/png": "[encoded data removed]",
            "text/plain": [
              "<Figure size 1152x720 with 1 Axes>"
            ]
          },
          "metadata": {
            "tags": []
          }
        }
      ]
    },
    {
      "cell_type": "markdown",
      "metadata": {
        "id": "4vT7MLiJPSQ2",
        "colab_type": "text"
      },
      "source": [
        "\n",
        "### MSE per target (scaled)"
      ]
    },
    {
      "cell_type": "code",
      "metadata": {
        "id": "o03Cq_x5nhRe",
        "colab_type": "code",
        "outputId": "7fa97df8-6b89-4498-8658-dcadb843e0de",
        "colab": {
          "base_uri": "https://localhost:8080/",
          "height": 928
        }
      },
      "source": [
        "for model_tupel in models:\n",
        "  df = pas_metrics_scaled(model_tupel)\n",
        "  print(model_tupel[0])\n",
        "  with pd.option_context('display.max_rows', None, 'display.max_columns', None,\n",
        "                         'display.width', 1000): \n",
        "    print(df)\n",
        "  print('*********************************************************')"
      ],
      "execution_count": 0,
      "outputs": [
        {
          "output_type": "stream",
          "text": [
            "rnn_50\n",
            "          Vtrue,_ktas      __VVI,__fpm      ____Q,rad/s      ____P,rad/s      ____R,rad/s      pitch,__deg      _roll,__deg      _beta,__deg      __alt,ftmsl \n",
            "count    146906.000000    146906.000000    146906.000000    146906.000000    146906.000000    146906.000000    146906.000000    146906.000000    146906.000000\n",
            "mean          0.504411         0.737227         0.567109         0.485060         0.485233         0.531587         0.464654         0.620080         0.541120\n",
            "std           0.106512         0.106115         0.097320         0.137144         0.297852         0.109146         0.243539         0.211064         0.313280\n",
            "min          -0.145712         0.315198         0.068356        -0.114067         0.001815         0.194934         0.019929        -0.224448         0.020174\n",
            "25%           0.491325         0.719309         0.479493         0.478066         0.141444         0.498650         0.178618         0.402814         0.258518\n",
            "50%           0.516065         0.736735         0.609557         0.485824         0.495373         0.523474         0.475117         0.619407         0.502335\n",
            "75%           0.540668         0.757761         0.619842         0.493745         0.817728         0.538931         0.733207         0.857215         0.743406\n",
            "max           0.863996         1.112528         0.958610         1.093909         0.990564         1.288604         0.928746         1.008269         0.980654\n",
            "mses          0.003122         0.003105         0.002710         0.001342         0.004556         0.002438         0.001672         0.002556         0.001594\n",
            "rmes          0.055878         0.055722         0.052058         0.036634         0.067496         0.049378         0.040888         0.050561         0.039919\n",
            "maes          0.048693         0.047273         0.043301         0.030375         0.051357         0.036328         0.034452         0.038706         0.030495\n",
            "mse           0.002566         0.002566         0.002566         0.002566         0.002566         0.002566         0.002566         0.002566         0.002566\n",
            "rme           0.050657         0.050657         0.050657         0.050657         0.050657         0.050657         0.050657         0.050657         0.050657\n",
            "mae           0.040109         0.040109         0.040109         0.040109         0.040109         0.040109         0.040109         0.040109         0.040109\n",
            "*********************************************************\n",
            "rnn_200\n",
            "          Vtrue,_ktas      __VVI,__fpm      ____Q,rad/s      ____P,rad/s      ____R,rad/s      pitch,__deg      _roll,__deg      _beta,__deg      __alt,ftmsl \n",
            "count    146906.000000    146906.000000    146906.000000    146906.000000    146906.000000    146906.000000    146906.000000    146906.000000    146906.000000\n",
            "mean          0.504411         0.737227         0.567109         0.485060         0.485233         0.531587         0.464654         0.620080         0.541120\n",
            "std           0.106512         0.106115         0.097320         0.137144         0.297852         0.109146         0.243539         0.211064         0.313280\n",
            "min          -0.145712         0.315198         0.068356        -0.114067         0.001815         0.194934         0.019929        -0.224448         0.020174\n",
            "25%           0.491325         0.719309         0.479493         0.478066         0.141444         0.498650         0.178618         0.402814         0.258518\n",
            "50%           0.516065         0.736735         0.609557         0.485824         0.495373         0.523474         0.475117         0.619407         0.502335\n",
            "75%           0.540668         0.757761         0.619842         0.493745         0.817728         0.538931         0.733207         0.857215         0.743406\n",
            "max           0.863996         1.112528         0.958610         1.093909         0.990564         1.288604         0.928746         1.008269         0.980654\n",
            "mses          0.017546         0.002735         0.004775         0.004464         0.002343         0.001519         0.001553         0.012593         0.004639\n",
            "rmes          0.132463         0.052299         0.069100         0.066815         0.048408         0.038972         0.039413         0.112218         0.068112\n",
            "maes          0.106455         0.039448         0.061305         0.052671         0.042957         0.028089         0.033260         0.092681         0.053099\n",
            "mse           0.005796         0.005796         0.005796         0.005796         0.005796         0.005796         0.005796         0.005796         0.005796\n",
            "rme           0.076135         0.076135         0.076135         0.076135         0.076135         0.076135         0.076135         0.076135         0.076135\n",
            "mae           0.056663         0.056663         0.056663         0.056663         0.056663         0.056663         0.056663         0.056663         0.056663\n",
            "*********************************************************\n",
            "rnn_400\n",
            "          Vtrue,_ktas      __VVI,__fpm      ____Q,rad/s      ____P,rad/s      ____R,rad/s      pitch,__deg      _roll,__deg      _beta,__deg      __alt,ftmsl \n",
            "count    146906.000000    146906.000000    146906.000000    146906.000000    146906.000000    146906.000000    146906.000000    146906.000000    146906.000000\n",
            "mean          0.504411         0.737227         0.567109         0.485060         0.485233         0.531587         0.464654         0.620080         0.541120\n",
            "std           0.106512         0.106115         0.097320         0.137144         0.297852         0.109146         0.243539         0.211064         0.313280\n",
            "min          -0.145712         0.315198         0.068356        -0.114067         0.001815         0.194934         0.019929        -0.224448         0.020174\n",
            "25%           0.491325         0.719309         0.479493         0.478066         0.141444         0.498650         0.178618         0.402814         0.258518\n",
            "50%           0.516065         0.736735         0.609557         0.485824         0.495373         0.523474         0.475117         0.619407         0.502335\n",
            "75%           0.540668         0.757761         0.619842         0.493745         0.817728         0.538931         0.733207         0.857215         0.743406\n",
            "max           0.863996         1.112528         0.958610         1.093909         0.990564         1.288604         0.928746         1.008269         0.980654\n",
            "mses          0.076152         0.030769         0.049670         0.197583         0.109586         0.035231         0.132650         0.144014         0.350756\n",
            "rmes          0.275956         0.175410         0.222869         0.444503         0.331038         0.187699         0.364211         0.379492         0.592246\n",
            "maes          0.257052         0.130829         0.164062         0.356574         0.266011         0.141574         0.284593         0.290742         0.504966\n",
            "mse           0.125157         0.125157         0.125157         0.125157         0.125157         0.125157         0.125157         0.125157         0.125157\n",
            "rme           0.353775         0.353775         0.353775         0.353775         0.353775         0.353775         0.353775         0.353775         0.353775\n",
            "mae           0.266267         0.266267         0.266267         0.266267         0.266267         0.266267         0.266267         0.266267         0.266267\n",
            "*********************************************************\n"
          ],
          "name": "stdout"
        }
      ]
    },
    {
      "cell_type": "markdown",
      "metadata": {
        "id": "bVhouDRRpewh",
        "colab_type": "text"
      },
      "source": [
        "### MSE per target (unscaled)"
      ]
    },
    {
      "cell_type": "code",
      "metadata": {
        "id": "oTTBfKRgRnTP",
        "colab_type": "code",
        "outputId": "320ae313-8ee7-4d59-eb29-a53bedfd7c2b",
        "colab": {
          "base_uri": "https://localhost:8080/",
          "height": 928
        }
      },
      "source": [
        "for model_tupel in models:\n",
        "  df = pas_metrics(model_tupel)\n",
        "  print(model_tupel[0])\n",
        "  with pd.option_context('display.max_rows', None, 'display.max_columns', None,\n",
        "                        'display.width', 1000):  \n",
        "    print(df)\n",
        "  print('*********************************************************')"
      ],
      "execution_count": 0,
      "outputs": [
        {
          "output_type": "stream",
          "text": [
            "rnn_50\n",
            "          Vtrue,_ktas      __VVI,__fpm      ____Q,rad/s      ____P,rad/s      ____R,rad/s      pitch,__deg      _roll,__deg      _beta,__deg      __alt,ftmsl \n",
            "count    146906.000000    146906.000000    146906.000000    146906.000000    146906.000000    146906.000000    146906.000000    146906.000000    146906.000000\n",
            "mean        116.933706         1.454796         0.007136        -0.000140        -0.001338        -0.605149        -0.722679         0.024941      3118.809754\n",
            "std           8.275038       276.266783         0.007759         0.025104         0.032829         1.788010        12.122505         0.178670      1339.522697\n",
            "min          66.424780     -1097.281130        -0.032630        -0.109810        -0.054620        -6.120130       -22.859510        -0.689970       891.350710\n",
            "25%         115.917000       -45.194615         0.000150        -0.001420        -0.039230        -1.144713       -14.960540        -0.158980      1910.463807\n",
            "50%         117.839070         0.174215         0.010520         0.000000        -0.000220        -0.738055        -0.201900         0.024370      2952.976195\n",
            "75%         119.750535        54.915493         0.011340         0.001450         0.035310        -0.484833        12.644902         0.225680      3983.744630\n",
            "max         144.870320       978.538330         0.038350         0.111310         0.054360        11.796170        22.378150         0.353550      4998.167480\n",
            "mses         18.846389     21045.115367         0.000017         0.000045         0.000055         0.654317         4.142196         0.001832     29133.798308\n",
            "rmes          4.341243       145.069347         0.004151         0.006706         0.007439         0.808899         2.035239         0.042801       170.686257\n",
            "maes          3.782990       123.072644         0.003452         0.005560         0.005661         0.595112         1.714875         0.032765       130.391420\n",
            "mse        5578.062058      5578.062058      5578.062058      5578.062058      5578.062058      5578.062058      5578.062058      5578.062058      5578.062058\n",
            "rme          74.686425        74.686425        74.686425        74.686425        74.686425        74.686425        74.686425        74.686425        74.686425\n",
            "mae          28.844942        28.844942        28.844942        28.844942        28.844942        28.844942        28.844942        28.844942        28.844942\n",
            "*********************************************************\n",
            "rnn_200\n",
            "          Vtrue,_ktas      __VVI,__fpm      ____Q,rad/s      ____P,rad/s      ____R,rad/s      pitch,__deg      _roll,__deg      _beta,__deg      __alt,ftmsl \n",
            "count    146906.000000    146906.000000    146906.000000    146906.000000    146906.000000    146906.000000    146906.000000    146906.000000    146906.000000\n",
            "mean        116.933706         1.454796         0.007136        -0.000140        -0.001338        -0.605149        -0.722679         0.024941      3118.809754\n",
            "std           8.275038       276.266783         0.007759         0.025104         0.032829         1.788010        12.122505         0.178670      1339.522697\n",
            "min          66.424780     -1097.281130        -0.032630        -0.109810        -0.054620        -6.120130       -22.859510        -0.689970       891.350710\n",
            "25%         115.917000       -45.194615         0.000150        -0.001420        -0.039230        -1.144713       -14.960540        -0.158980      1910.463807\n",
            "50%         117.839070         0.174215         0.010520         0.000000        -0.000220        -0.738055        -0.201900         0.024370      2952.976195\n",
            "75%         119.750535        54.915493         0.011340         0.001450         0.035310        -0.484833        12.644902         0.225680      3983.744630\n",
            "max         144.870320       978.538330         0.038350         0.111310         0.054360        11.796170        22.378150         0.353550      4998.167480\n",
            "mses        105.909111     18539.110214         0.000030         0.000150         0.000028         0.407603         3.848744         0.009024     84816.312904\n",
            "rmes         10.291215       136.158401         0.005509         0.012230         0.005336         0.638438         1.961822         0.094995       291.232404\n",
            "maes          8.270667       102.702402         0.004888         0.009641         0.004735         0.460142         1.655565         0.078457       227.040726\n",
            "mse       11496.177534     11496.177534     11496.177534     11496.177534     11496.177534     11496.177534     11496.177534     11496.177534     11496.177534\n",
            "rme         107.220229       107.220229       107.220229       107.220229       107.220229       107.220229       107.220229       107.220229       107.220229\n",
            "mae          37.803025        37.803025        37.803025        37.803025        37.803025        37.803025        37.803025        37.803025        37.803025\n",
            "*********************************************************\n",
            "rnn_400\n",
            "          Vtrue,_ktas      __VVI,__fpm      ____Q,rad/s      ____P,rad/s      ____R,rad/s      pitch,__deg      _roll,__deg      _beta,__deg      __alt,ftmsl \n",
            "count    146906.000000    146906.000000    146906.000000    146906.000000    146906.000000    146906.000000    146906.000000    146906.000000     1.469060e+05\n",
            "mean        116.933706         1.454796         0.007136        -0.000140        -0.001338        -0.605149        -0.722679         0.024941     3.118810e+03\n",
            "std           8.275038       276.266783         0.007759         0.025104         0.032829         1.788010        12.122505         0.178670     1.339523e+03\n",
            "min          66.424780     -1097.281130        -0.032630        -0.109810        -0.054620        -6.120130       -22.859510        -0.689970     8.913507e+02\n",
            "25%         115.917000       -45.194615         0.000150        -0.001420        -0.039230        -1.144713       -14.960540        -0.158980     1.910464e+03\n",
            "50%         117.839070         0.174215         0.010520         0.000000        -0.000220        -0.738055        -0.201900         0.024370     2.952976e+03\n",
            "75%         119.750535        54.915493         0.011340         0.001450         0.035310        -0.484833        12.644902         0.225680     3.983745e+03\n",
            "max         144.870320       978.538330         0.038350         0.111310         0.054360        11.796170        22.378150         0.353550     4.998167e+03\n",
            "mses        459.648850    208549.992560         0.000316         0.006620         0.001331         9.454736       328.665393         0.103200     6.412669e+06\n",
            "rmes         21.439423       456.672741         0.017769         0.081366         0.036487         3.074855        18.129131         0.321248     2.532325e+03\n",
            "maes         19.970686       340.608746         0.013081         0.065271         0.029320         2.319234        14.166022         0.246119     2.159132e+03\n",
            "mse      735779.616720    735779.616720    735779.616720    735779.616720    735779.616720    735779.616720    735779.616720    735779.616720     7.357796e+05\n",
            "rme         857.775971       857.775971       857.775971       857.775971       857.775971       857.775971       857.775971       857.775971     8.577760e+02\n",
            "mae         281.838920       281.838920       281.838920       281.838920       281.838920       281.838920       281.838920       281.838920     2.818389e+02\n",
            "*********************************************************\n"
          ],
          "name": "stdout"
        }
      ]
    },
    {
      "cell_type": "markdown",
      "metadata": {
        "id": "_zYT1WzrClFW",
        "colab_type": "text"
      },
      "source": [
        "## overall mse"
      ]
    },
    {
      "cell_type": "code",
      "metadata": {
        "id": "qrCtrBGSCkP7",
        "colab_type": "code",
        "colab": {}
      },
      "source": [
        "def _df_prediction_metrics_all(model_tupel, scaled):\n",
        "  \n",
        "  model_name =  model_tupel[0]\n",
        "  model = model_tupel[1]\n",
        "  train_X, train_Y, test_X, test_Y = model_tupel[2]\n",
        "  cols_label = model_tupel[4]\n",
        "\n",
        "\n",
        "  pred_Y = model.predict(test_X)\n",
        "  \n",
        "  if scaled:\n",
        "    truth_Y = test_Y\n",
        "  else:\n",
        "    label_scaler = model_tupel[3]\n",
        "    pred_Y = label_scaler.inverse_transform(pred_Y)\n",
        "    truth_Y = label_scaler.inverse_transform(test_Y)\n",
        "\n",
        "  df_describe = pd.DataFrame(truth_Y,columns=cols_label).describe()\n",
        "  mses = mean_squared_error(truth_Y, pred_Y, multioutput='raw_values')\n",
        "  #rmses = np.array([math.sqrt(mse) for mse in mses])\n",
        "  #maes = mean_absolute_error(truth_Y, pred_Y, multioutput='raw_values')\n",
        "  # average over list should do the job as well\n",
        "  mse = mean_squared_error(truth_Y, pred_Y)\n",
        "  rmse = math.sqrt(mse)\n",
        "  mae = mean_absolute_error(truth_Y, pred_Y)\n",
        "\n",
        "\n",
        "  df_mse_per_feature = pd.DataFrame(data=mses.reshape(1,-1),    # values\n",
        "            index=[model_name],     # index\n",
        "            columns=cols_label)  #  column names\n",
        "  \n",
        "  df_mse_per_feature['MSE'] = mse\n",
        "  df_mse_per_feature['RMSE'] = rmse\n",
        "  df_mse_per_feature['MAE'] = mae\n",
        "\n",
        "\n",
        "  #df_rmse_per_feature = pd.DataFrame(data=rmses.reshape(1,-1),    # values\n",
        "   #     index=['rmes'],     # index\n",
        "  #      columns=cols_label)  #  column names\n",
        "  #df_mae_per_feature = pd.DataFrame(data=maes.reshape(1,-1),    # values\n",
        "    #    index=['maes'],     # index\n",
        "   #     columns=cols_label)  #  column names\n",
        "  \n",
        "  return df_mse_per_feature\n",
        "\n",
        "\n",
        "def pas_metrics_all(models):\n",
        "  cols_trans = ['MSE', 'RMSE', 'MAE', col_vv,col_alt, col_v]\n",
        "  cols_rot = [col_roll_deg, col_pitch_deg, col_yaw_deg, col_pitch_v, col_yaw_v, col_roll_v]\n",
        "  rows_trans = []\n",
        "  rows_rot = []\n",
        "\n",
        "  for model_tupel in models:\n",
        "    model_row = _df_prediction_metrics_all(model_tupel, scaled=False)\n",
        "    rows_trans.append(model_row[cols_trans])\n",
        "    rows_rot.append(model_row[cols_rot])\n",
        "\n",
        "  df_trans = pd.concat(rows_trans).round(2)\n",
        "  file_path = os.path.join(results_folder, 'all_mse_trans' + '.csv')\n",
        "  df_trans.to_csv(path_or_buf=file_path)\n",
        "  \n",
        "  df_rot = pd.concat(rows_rot).round(10)\n",
        "  file_path = os.path.join(results_folder, 'all_mse_rot' + '.csv')\n",
        "  df_rot.to_csv(path_or_buf=file_path)\n",
        "  return df_trans, df_rot\n",
        "\n",
        "\n",
        "df_trans, df_rot = pas_metrics_all(models)\n",
        "  "
      ],
      "execution_count": 0,
      "outputs": []
    },
    {
      "cell_type": "code",
      "metadata": {
        "id": "82E3EeAtCqhb",
        "colab_type": "code",
        "outputId": "2b344768-baa1-4ccd-8239-46db555d7e19",
        "colab": {
          "base_uri": "https://localhost:8080/",
          "height": 143
        }
      },
      "source": [
        "df_trans"
      ],
      "execution_count": 0,
      "outputs": [
        {
          "output_type": "execute_result",
          "data": {
            "text/html": [
              "<div>\n",
              "<style scoped>\n",
              "    .dataframe tbody tr th:only-of-type {\n",
              "        vertical-align: middle;\n",
              "    }\n",
              "\n",
              "    .dataframe tbody tr th {\n",
              "        vertical-align: top;\n",
              "    }\n",
              "\n",
              "    .dataframe thead th {\n",
              "        text-align: right;\n",
              "    }\n",
              "</style>\n",
              "<table border=\"1\" class=\"dataframe\">\n",
              "  <thead>\n",
              "    <tr style=\"text-align: right;\">\n",
              "      <th></th>\n",
              "      <th>MSE</th>\n",
              "      <th>RMSE</th>\n",
              "      <th>MAE</th>\n",
              "      <th>__VVI,__fpm</th>\n",
              "      <th>__alt,ftmsl</th>\n",
              "      <th>Vtrue,_ktas</th>\n",
              "    </tr>\n",
              "  </thead>\n",
              "  <tbody>\n",
              "    <tr>\n",
              "      <th>rnn_50</th>\n",
              "      <td>5578.06</td>\n",
              "      <td>74.69</td>\n",
              "      <td>28.84</td>\n",
              "      <td>21045.12</td>\n",
              "      <td>29133.80</td>\n",
              "      <td>18.85</td>\n",
              "    </tr>\n",
              "    <tr>\n",
              "      <th>rnn_200</th>\n",
              "      <td>11496.18</td>\n",
              "      <td>107.22</td>\n",
              "      <td>37.80</td>\n",
              "      <td>18539.11</td>\n",
              "      <td>84816.31</td>\n",
              "      <td>105.91</td>\n",
              "    </tr>\n",
              "    <tr>\n",
              "      <th>rnn_400</th>\n",
              "      <td>735779.62</td>\n",
              "      <td>857.78</td>\n",
              "      <td>281.84</td>\n",
              "      <td>208549.99</td>\n",
              "      <td>6412668.68</td>\n",
              "      <td>459.65</td>\n",
              "    </tr>\n",
              "  </tbody>\n",
              "</table>\n",
              "</div>"
            ],
            "text/plain": [
              "               MSE    RMSE  ...     __alt,ftmsl      Vtrue,_ktas \n",
              "rnn_50     5578.06   74.69  ...         29133.80            18.85\n",
              "rnn_200   11496.18  107.22  ...         84816.31           105.91\n",
              "rnn_400  735779.62  857.78  ...       6412668.68           459.65\n",
              "\n",
              "[3 rows x 6 columns]"
            ]
          },
          "metadata": {
            "tags": []
          },
          "execution_count": 72
        }
      ]
    },
    {
      "cell_type": "code",
      "metadata": {
        "id": "iM4FSV0kCrRK",
        "colab_type": "code",
        "outputId": "98f059b6-9e52-445d-a679-9b07001cb6b3",
        "colab": {
          "base_uri": "https://localhost:8080/",
          "height": 143
        }
      },
      "source": [
        "df_rot"
      ],
      "execution_count": 0,
      "outputs": [
        {
          "output_type": "execute_result",
          "data": {
            "text/html": [
              "<div>\n",
              "<style scoped>\n",
              "    .dataframe tbody tr th:only-of-type {\n",
              "        vertical-align: middle;\n",
              "    }\n",
              "\n",
              "    .dataframe tbody tr th {\n",
              "        vertical-align: top;\n",
              "    }\n",
              "\n",
              "    .dataframe thead th {\n",
              "        text-align: right;\n",
              "    }\n",
              "</style>\n",
              "<table border=\"1\" class=\"dataframe\">\n",
              "  <thead>\n",
              "    <tr style=\"text-align: right;\">\n",
              "      <th></th>\n",
              "      <th>_roll,__deg</th>\n",
              "      <th>pitch,__deg</th>\n",
              "      <th>_beta,__deg</th>\n",
              "      <th>____P,rad/s</th>\n",
              "      <th>____Q,rad/s</th>\n",
              "      <th>____R,rad/s</th>\n",
              "    </tr>\n",
              "  </thead>\n",
              "  <tbody>\n",
              "    <tr>\n",
              "      <th>rnn_50</th>\n",
              "      <td>4.142196</td>\n",
              "      <td>0.654317</td>\n",
              "      <td>0.001832</td>\n",
              "      <td>0.000045</td>\n",
              "      <td>0.000017</td>\n",
              "      <td>0.000055</td>\n",
              "    </tr>\n",
              "    <tr>\n",
              "      <th>rnn_200</th>\n",
              "      <td>3.848744</td>\n",
              "      <td>0.407603</td>\n",
              "      <td>0.009024</td>\n",
              "      <td>0.000150</td>\n",
              "      <td>0.000030</td>\n",
              "      <td>0.000028</td>\n",
              "    </tr>\n",
              "    <tr>\n",
              "      <th>rnn_400</th>\n",
              "      <td>328.665393</td>\n",
              "      <td>9.454736</td>\n",
              "      <td>0.103200</td>\n",
              "      <td>0.006620</td>\n",
              "      <td>0.000316</td>\n",
              "      <td>0.001331</td>\n",
              "    </tr>\n",
              "  </tbody>\n",
              "</table>\n",
              "</div>"
            ],
            "text/plain": [
              "            _roll,__deg      pitch,__deg   ...     ____Q,rad/s      ____R,rad/s \n",
              "rnn_50          4.142196         0.654317  ...         0.000017         0.000055\n",
              "rnn_200         3.848744         0.407603  ...         0.000030         0.000028\n",
              "rnn_400       328.665393         9.454736  ...         0.000316         0.001331\n",
              "\n",
              "[3 rows x 6 columns]"
            ]
          },
          "metadata": {
            "tags": []
          },
          "execution_count": 73
        }
      ]
    },
    {
      "cell_type": "markdown",
      "metadata": {
        "id": "z40fMP9Ttc9Q",
        "colab_type": "text"
      },
      "source": [
        "###predict one ahead"
      ]
    },
    {
      "cell_type": "code",
      "metadata": {
        "id": "tfP9ctGUZ2OU",
        "colab_type": "code",
        "colab": {}
      },
      "source": [
        "model_tupel = models[0]\n",
        "model = model_tupel[1]\n",
        "train_X, train_Y, test_X, test_Y = model_tupel[2]\n",
        "label_scaler = model_tupel[3]\n",
        "label = model_tupel[4]\n"
      ],
      "execution_count": 0,
      "outputs": []
    },
    {
      "cell_type": "code",
      "metadata": {
        "id": "7IGxxT99hvgS",
        "colab_type": "code",
        "outputId": "7294c6f2-8a30-4d64-b441-8b2c822b65ce",
        "colab": {
          "base_uri": "https://localhost:8080/",
          "height": 35
        }
      },
      "source": [
        "test_X.shape"
      ],
      "execution_count": 0,
      "outputs": [
        {
          "output_type": "execute_result",
          "data": {
            "text/plain": [
              "(146906, 2, 14)"
            ]
          },
          "metadata": {
            "tags": []
          },
          "execution_count": 75
        }
      ]
    },
    {
      "cell_type": "code",
      "metadata": {
        "id": "altqdV6GZ47R",
        "colab_type": "code",
        "outputId": "57c15f35-906d-41ac-dc5e-4678fd1399fc",
        "colab": {
          "base_uri": "https://localhost:8080/",
          "height": 357
        }
      },
      "source": [
        "def make_prediction(model, test_X, seq_len, n_labels):\n",
        "  predictions = np.empty(n_labels).reshape(1,-1)  \n",
        "  test_row = test_X[0,:].reshape(1,-1)\n",
        "  for i in range(seq_len):\n",
        "    pred_Y = model.predict(test_row)\n",
        "    state_offset = pred_Y.shape[1]\n",
        "    test_row = np.concatenate((pred_Y, test_X[i, state_offset:].reshape(1,-1)), axis=None).reshape(1,-1)\n",
        "    predictions = np.concatenate((predictions,pred_Y))\n",
        "  return np.delete(predictions, (0), axis=0) #delete first empty row\n",
        "  \n",
        "predictions = make_prediction(model, test_X, 200, len(cols_state))"
      ],
      "execution_count": 0,
      "outputs": [
        {
          "output_type": "error",
          "ename": "ValueError",
          "evalue": "ignored",
          "traceback": [
            "\u001b[0;31m---------------------------------------------------------------------------\u001b[0m",
            "\u001b[0;31mValueError\u001b[0m                                Traceback (most recent call last)",
            "\u001b[0;32m<ipython-input-76-27ae6a5c3eb2>\u001b[0m in \u001b[0;36m<module>\u001b[0;34m()\u001b[0m\n\u001b[1;32m      9\u001b[0m   \u001b[0;32mreturn\u001b[0m \u001b[0mnp\u001b[0m\u001b[0;34m.\u001b[0m\u001b[0mdelete\u001b[0m\u001b[0;34m(\u001b[0m\u001b[0mpredictions\u001b[0m\u001b[0;34m,\u001b[0m \u001b[0;34m(\u001b[0m\u001b[0;36m0\u001b[0m\u001b[0;34m)\u001b[0m\u001b[0;34m,\u001b[0m \u001b[0maxis\u001b[0m\u001b[0;34m=\u001b[0m\u001b[0;36m0\u001b[0m\u001b[0;34m)\u001b[0m \u001b[0;31m#delete first empty row\u001b[0m\u001b[0;34m\u001b[0m\u001b[0;34m\u001b[0m\u001b[0m\n\u001b[1;32m     10\u001b[0m \u001b[0;34m\u001b[0m\u001b[0m\n\u001b[0;32m---> 11\u001b[0;31m \u001b[0mpredictions\u001b[0m \u001b[0;34m=\u001b[0m \u001b[0mmake_prediction\u001b[0m\u001b[0;34m(\u001b[0m\u001b[0mmodel\u001b[0m\u001b[0;34m,\u001b[0m \u001b[0mtest_X\u001b[0m\u001b[0;34m,\u001b[0m \u001b[0;36m200\u001b[0m\u001b[0;34m,\u001b[0m \u001b[0mlen\u001b[0m\u001b[0;34m(\u001b[0m\u001b[0mcols_state\u001b[0m\u001b[0;34m)\u001b[0m\u001b[0;34m)\u001b[0m\u001b[0;34m\u001b[0m\u001b[0;34m\u001b[0m\u001b[0m\n\u001b[0m",
            "\u001b[0;32m<ipython-input-76-27ae6a5c3eb2>\u001b[0m in \u001b[0;36mmake_prediction\u001b[0;34m(model, test_X, seq_len, n_labels)\u001b[0m\n\u001b[1;32m      3\u001b[0m   \u001b[0mtest_row\u001b[0m \u001b[0;34m=\u001b[0m \u001b[0mtest_X\u001b[0m\u001b[0;34m[\u001b[0m\u001b[0;36m0\u001b[0m\u001b[0;34m,\u001b[0m\u001b[0;34m:\u001b[0m\u001b[0;34m]\u001b[0m\u001b[0;34m.\u001b[0m\u001b[0mreshape\u001b[0m\u001b[0;34m(\u001b[0m\u001b[0;36m1\u001b[0m\u001b[0;34m,\u001b[0m\u001b[0;34m-\u001b[0m\u001b[0;36m1\u001b[0m\u001b[0;34m)\u001b[0m\u001b[0;34m\u001b[0m\u001b[0;34m\u001b[0m\u001b[0m\n\u001b[1;32m      4\u001b[0m   \u001b[0;32mfor\u001b[0m \u001b[0mi\u001b[0m \u001b[0;32min\u001b[0m \u001b[0mrange\u001b[0m\u001b[0;34m(\u001b[0m\u001b[0mseq_len\u001b[0m\u001b[0;34m)\u001b[0m\u001b[0;34m:\u001b[0m\u001b[0;34m\u001b[0m\u001b[0;34m\u001b[0m\u001b[0m\n\u001b[0;32m----> 5\u001b[0;31m     \u001b[0mpred_Y\u001b[0m \u001b[0;34m=\u001b[0m \u001b[0mmodel\u001b[0m\u001b[0;34m.\u001b[0m\u001b[0mpredict\u001b[0m\u001b[0;34m(\u001b[0m\u001b[0mtest_row\u001b[0m\u001b[0;34m)\u001b[0m\u001b[0;34m\u001b[0m\u001b[0;34m\u001b[0m\u001b[0m\n\u001b[0m\u001b[1;32m      6\u001b[0m     \u001b[0mstate_offset\u001b[0m \u001b[0;34m=\u001b[0m \u001b[0mpred_Y\u001b[0m\u001b[0;34m.\u001b[0m\u001b[0mshape\u001b[0m\u001b[0;34m[\u001b[0m\u001b[0;36m1\u001b[0m\u001b[0;34m]\u001b[0m\u001b[0;34m\u001b[0m\u001b[0;34m\u001b[0m\u001b[0m\n\u001b[1;32m      7\u001b[0m     \u001b[0mtest_row\u001b[0m \u001b[0;34m=\u001b[0m \u001b[0mnp\u001b[0m\u001b[0;34m.\u001b[0m\u001b[0mconcatenate\u001b[0m\u001b[0;34m(\u001b[0m\u001b[0;34m(\u001b[0m\u001b[0mpred_Y\u001b[0m\u001b[0;34m,\u001b[0m \u001b[0mtest_X\u001b[0m\u001b[0;34m[\u001b[0m\u001b[0mi\u001b[0m\u001b[0;34m,\u001b[0m \u001b[0mstate_offset\u001b[0m\u001b[0;34m:\u001b[0m\u001b[0;34m]\u001b[0m\u001b[0;34m.\u001b[0m\u001b[0mreshape\u001b[0m\u001b[0;34m(\u001b[0m\u001b[0;36m1\u001b[0m\u001b[0;34m,\u001b[0m\u001b[0;34m-\u001b[0m\u001b[0;36m1\u001b[0m\u001b[0;34m)\u001b[0m\u001b[0;34m)\u001b[0m\u001b[0;34m,\u001b[0m \u001b[0maxis\u001b[0m\u001b[0;34m=\u001b[0m\u001b[0;32mNone\u001b[0m\u001b[0;34m)\u001b[0m\u001b[0;34m.\u001b[0m\u001b[0mreshape\u001b[0m\u001b[0;34m(\u001b[0m\u001b[0;36m1\u001b[0m\u001b[0;34m,\u001b[0m\u001b[0;34m-\u001b[0m\u001b[0;36m1\u001b[0m\u001b[0;34m)\u001b[0m\u001b[0;34m\u001b[0m\u001b[0;34m\u001b[0m\u001b[0m\n",
            "\u001b[0;32m/tensorflow-2.0.0/python3.6/tensorflow_core/python/keras/engine/training.py\u001b[0m in \u001b[0;36mpredict\u001b[0;34m(self, x, batch_size, verbose, steps, callbacks, max_queue_size, workers, use_multiprocessing)\u001b[0m\n\u001b[1;32m    907\u001b[0m         \u001b[0mmax_queue_size\u001b[0m\u001b[0;34m=\u001b[0m\u001b[0mmax_queue_size\u001b[0m\u001b[0;34m,\u001b[0m\u001b[0;34m\u001b[0m\u001b[0;34m\u001b[0m\u001b[0m\n\u001b[1;32m    908\u001b[0m         \u001b[0mworkers\u001b[0m\u001b[0;34m=\u001b[0m\u001b[0mworkers\u001b[0m\u001b[0;34m,\u001b[0m\u001b[0;34m\u001b[0m\u001b[0;34m\u001b[0m\u001b[0m\n\u001b[0;32m--> 909\u001b[0;31m         use_multiprocessing=use_multiprocessing)\n\u001b[0m\u001b[1;32m    910\u001b[0m \u001b[0;34m\u001b[0m\u001b[0m\n\u001b[1;32m    911\u001b[0m   \u001b[0;32mdef\u001b[0m \u001b[0mreset_metrics\u001b[0m\u001b[0;34m(\u001b[0m\u001b[0mself\u001b[0m\u001b[0;34m)\u001b[0m\u001b[0;34m:\u001b[0m\u001b[0;34m\u001b[0m\u001b[0;34m\u001b[0m\u001b[0m\n",
            "\u001b[0;32m/tensorflow-2.0.0/python3.6/tensorflow_core/python/keras/engine/training_v2.py\u001b[0m in \u001b[0;36mpredict\u001b[0;34m(self, model, x, batch_size, verbose, steps, callbacks, **kwargs)\u001b[0m\n\u001b[1;32m    460\u001b[0m     return self._model_iteration(\n\u001b[1;32m    461\u001b[0m         \u001b[0mmodel\u001b[0m\u001b[0;34m,\u001b[0m \u001b[0mModeKeys\u001b[0m\u001b[0;34m.\u001b[0m\u001b[0mPREDICT\u001b[0m\u001b[0;34m,\u001b[0m \u001b[0mx\u001b[0m\u001b[0;34m=\u001b[0m\u001b[0mx\u001b[0m\u001b[0;34m,\u001b[0m \u001b[0mbatch_size\u001b[0m\u001b[0;34m=\u001b[0m\u001b[0mbatch_size\u001b[0m\u001b[0;34m,\u001b[0m \u001b[0mverbose\u001b[0m\u001b[0;34m=\u001b[0m\u001b[0mverbose\u001b[0m\u001b[0;34m,\u001b[0m\u001b[0;34m\u001b[0m\u001b[0;34m\u001b[0m\u001b[0m\n\u001b[0;32m--> 462\u001b[0;31m         steps=steps, callbacks=callbacks, **kwargs)\n\u001b[0m\u001b[1;32m    463\u001b[0m \u001b[0;34m\u001b[0m\u001b[0m\n\u001b[1;32m    464\u001b[0m \u001b[0;34m\u001b[0m\u001b[0m\n",
            "\u001b[0;32m/tensorflow-2.0.0/python3.6/tensorflow_core/python/keras/engine/training_v2.py\u001b[0m in \u001b[0;36m_model_iteration\u001b[0;34m(self, model, mode, x, y, batch_size, verbose, sample_weight, steps, callbacks, **kwargs)\u001b[0m\n\u001b[1;32m    394\u001b[0m           \u001b[0msample_weights\u001b[0m\u001b[0;34m=\u001b[0m\u001b[0msample_weight\u001b[0m\u001b[0;34m,\u001b[0m\u001b[0;34m\u001b[0m\u001b[0;34m\u001b[0m\u001b[0m\n\u001b[1;32m    395\u001b[0m           \u001b[0msteps\u001b[0m\u001b[0;34m=\u001b[0m\u001b[0msteps\u001b[0m\u001b[0;34m,\u001b[0m\u001b[0;34m\u001b[0m\u001b[0;34m\u001b[0m\u001b[0m\n\u001b[0;32m--> 396\u001b[0;31m           distribution_strategy=strategy)\n\u001b[0m\u001b[1;32m    397\u001b[0m       \u001b[0mtotal_samples\u001b[0m \u001b[0;34m=\u001b[0m \u001b[0m_get_total_number_of_samples\u001b[0m\u001b[0;34m(\u001b[0m\u001b[0madapter\u001b[0m\u001b[0;34m)\u001b[0m\u001b[0;34m\u001b[0m\u001b[0;34m\u001b[0m\u001b[0m\n\u001b[1;32m    398\u001b[0m       \u001b[0muse_sample\u001b[0m \u001b[0;34m=\u001b[0m \u001b[0mtotal_samples\u001b[0m \u001b[0;32mis\u001b[0m \u001b[0;32mnot\u001b[0m \u001b[0;32mNone\u001b[0m\u001b[0;34m\u001b[0m\u001b[0;34m\u001b[0m\u001b[0m\n",
            "\u001b[0;32m/tensorflow-2.0.0/python3.6/tensorflow_core/python/keras/engine/training_v2.py\u001b[0m in \u001b[0;36m_process_inputs\u001b[0;34m(model, x, y, batch_size, epochs, sample_weights, class_weights, shuffle, steps, distribution_strategy, max_queue_size, workers, use_multiprocessing)\u001b[0m\n\u001b[1;32m    592\u001b[0m         \u001b[0mbatch_size\u001b[0m\u001b[0;34m=\u001b[0m\u001b[0mbatch_size\u001b[0m\u001b[0;34m,\u001b[0m\u001b[0;34m\u001b[0m\u001b[0;34m\u001b[0m\u001b[0m\n\u001b[1;32m    593\u001b[0m         \u001b[0mcheck_steps\u001b[0m\u001b[0;34m=\u001b[0m\u001b[0;32mFalse\u001b[0m\u001b[0;34m,\u001b[0m\u001b[0;34m\u001b[0m\u001b[0;34m\u001b[0m\u001b[0m\n\u001b[0;32m--> 594\u001b[0;31m         steps=steps)\n\u001b[0m\u001b[1;32m    595\u001b[0m   adapter = adapter_cls(\n\u001b[1;32m    596\u001b[0m       \u001b[0mx\u001b[0m\u001b[0;34m,\u001b[0m\u001b[0;34m\u001b[0m\u001b[0;34m\u001b[0m\u001b[0m\n",
            "\u001b[0;32m/tensorflow-2.0.0/python3.6/tensorflow_core/python/keras/engine/training.py\u001b[0m in \u001b[0;36m_standardize_user_data\u001b[0;34m(self, x, y, sample_weight, class_weight, batch_size, check_steps, steps_name, steps, validation_split, shuffle, extract_tensors_from_dataset)\u001b[0m\n\u001b[1;32m   2470\u001b[0m           \u001b[0mfeed_input_shapes\u001b[0m\u001b[0;34m,\u001b[0m\u001b[0;34m\u001b[0m\u001b[0;34m\u001b[0m\u001b[0m\n\u001b[1;32m   2471\u001b[0m           \u001b[0mcheck_batch_axis\u001b[0m\u001b[0;34m=\u001b[0m\u001b[0;32mFalse\u001b[0m\u001b[0;34m,\u001b[0m  \u001b[0;31m# Don't enforce the batch size.\u001b[0m\u001b[0;34m\u001b[0m\u001b[0;34m\u001b[0m\u001b[0m\n\u001b[0;32m-> 2472\u001b[0;31m           exception_prefix='input')\n\u001b[0m\u001b[1;32m   2473\u001b[0m \u001b[0;34m\u001b[0m\u001b[0m\n\u001b[1;32m   2474\u001b[0m     \u001b[0;31m# Get typespecs for the input data and sanitize it if necessary.\u001b[0m\u001b[0;34m\u001b[0m\u001b[0;34m\u001b[0m\u001b[0;34m\u001b[0m\u001b[0m\n",
            "\u001b[0;32m/tensorflow-2.0.0/python3.6/tensorflow_core/python/keras/engine/training_utils.py\u001b[0m in \u001b[0;36mstandardize_input_data\u001b[0;34m(data, names, shapes, check_batch_axis, exception_prefix)\u001b[0m\n\u001b[1;32m    563\u001b[0m                            \u001b[0;34m': expected '\u001b[0m \u001b[0;34m+\u001b[0m \u001b[0mnames\u001b[0m\u001b[0;34m[\u001b[0m\u001b[0mi\u001b[0m\u001b[0;34m]\u001b[0m \u001b[0;34m+\u001b[0m \u001b[0;34m' to have '\u001b[0m \u001b[0;34m+\u001b[0m\u001b[0;34m\u001b[0m\u001b[0;34m\u001b[0m\u001b[0m\n\u001b[1;32m    564\u001b[0m                            \u001b[0mstr\u001b[0m\u001b[0;34m(\u001b[0m\u001b[0mlen\u001b[0m\u001b[0;34m(\u001b[0m\u001b[0mshape\u001b[0m\u001b[0;34m)\u001b[0m\u001b[0;34m)\u001b[0m \u001b[0;34m+\u001b[0m \u001b[0;34m' dimensions, but got array '\u001b[0m\u001b[0;34m\u001b[0m\u001b[0;34m\u001b[0m\u001b[0m\n\u001b[0;32m--> 565\u001b[0;31m                            'with shape ' + str(data_shape))\n\u001b[0m\u001b[1;32m    566\u001b[0m         \u001b[0;32mif\u001b[0m \u001b[0;32mnot\u001b[0m \u001b[0mcheck_batch_axis\u001b[0m\u001b[0;34m:\u001b[0m\u001b[0;34m\u001b[0m\u001b[0;34m\u001b[0m\u001b[0m\n\u001b[1;32m    567\u001b[0m           \u001b[0mdata_shape\u001b[0m \u001b[0;34m=\u001b[0m \u001b[0mdata_shape\u001b[0m\u001b[0;34m[\u001b[0m\u001b[0;36m1\u001b[0m\u001b[0;34m:\u001b[0m\u001b[0;34m]\u001b[0m\u001b[0;34m\u001b[0m\u001b[0;34m\u001b[0m\u001b[0m\n",
            "\u001b[0;31mValueError\u001b[0m: Error when checking input: expected simple_rnn_8_input to have 3 dimensions, but got array with shape (1, 28)"
          ]
        }
      ]
    },
    {
      "cell_type": "code",
      "metadata": {
        "id": "i__zR28JAGUq",
        "colab_type": "code",
        "colab": {}
      },
      "source": [
        "def get_descaled_dataframe(test_Y, predictions, label_scaler):\n",
        "  truth = test_Y[:len(predictions),:]\n",
        "  truth = label_scaler.inverse_transform(truth)\n",
        "  predictions = label_scaler.inverse_transform(predictions)\n",
        "  df_pred = pd.DataFrame(data=predictions, columns=label) \n",
        "  df_real = pd.DataFrame(data=truth, columns=label) \n",
        "  return df_real, df_pred\n",
        "\n",
        "df_real, df_pred = get_descaled_dataframe(test_Y, predictions, label_scaler)"
      ],
      "execution_count": 0,
      "outputs": []
    },
    {
      "cell_type": "code",
      "metadata": {
        "id": "c7-OIWbciSHU",
        "colab_type": "code",
        "colab": {}
      },
      "source": [
        "df_pred.describe()"
      ],
      "execution_count": 0,
      "outputs": []
    },
    {
      "cell_type": "code",
      "metadata": {
        "id": "7Ev5nBLty7hL",
        "colab_type": "code",
        "colab": {}
      },
      "source": [
        "df_real.describe()"
      ],
      "execution_count": 0,
      "outputs": []
    },
    {
      "cell_type": "code",
      "metadata": {
        "id": "l16mOSoCjB1E",
        "colab_type": "code",
        "colab": {}
      },
      "source": [
        "def print_pred_and_actual(pred, actual):\n",
        "  pred_columns = pred.columns\n",
        "  actual_columns = actual.columns\n",
        "  #pred_column_name = pred_columns[0]\n",
        "  #actual_column_name = actual_columns[0]\n",
        "  for pred_column_name, actual_column_name in zip(pred_columns,actual_columns):\n",
        "    pred_column = pred[pred_column_name]\n",
        "    actual_column = actual[actual_column_name]\n",
        "    #for i in range(len(actual_column)):\n",
        "    true = plt.plot(range(0, len(actual_column)), actual_column, label=pred_column_name+' true')\n",
        "    plt.plot(range(0, len(actual_column)), pred_column,'--',color=true[0].get_color(), label=actual_column_name+' pred')\n",
        "    plt.xlabel('Zeitschritte')\n",
        "    plt.ylabel(pred_column_name)\n",
        "    plt.legend()\n",
        "    plt.show()\n",
        "\n",
        "\n",
        "print_pred_and_actual(df_pred, df_real)\n"
      ],
      "execution_count": 0,
      "outputs": []
    },
    {
      "cell_type": "markdown",
      "metadata": {
        "id": "jJsC2xGEz4Hq",
        "colab_type": "text"
      },
      "source": [
        ""
      ]
    },
    {
      "cell_type": "code",
      "metadata": {
        "id": "2sZAn7i6Z7UY",
        "colab_type": "code",
        "colab": {}
      },
      "source": [
        "type(test_X[i,:])\n"
      ],
      "execution_count": 0,
      "outputs": []
    },
    {
      "cell_type": "code",
      "metadata": {
        "id": "8u3qmjUpeVGL",
        "colab_type": "code",
        "colab": {}
      },
      "source": [
        ""
      ],
      "execution_count": 0,
      "outputs": []
    }
  ]
}