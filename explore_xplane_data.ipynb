{
  "nbformat": 4,
  "nbformat_minor": 0,
  "metadata": {
    "colab": {
      "name": "explore_xplane_data.ipynb",
      "provenance": [],
      "collapsed_sections": [
        "5ETCQxT9kZe_"
      ],
      "toc_visible": true,
      "include_colab_link": true
    },
    "kernelspec": {
      "name": "python3",
      "display_name": "Python 3"
    },
    "accelerator": "GPU"
  },
  "cells": [
    {
      "cell_type": "markdown",
      "metadata": {
        "id": "view-in-github",
        "colab_type": "text"
      },
      "source": [
        "<a href=\"https://colab.research.google.com/github/CrowdSalat/ann-dynamical-systems/blob/master/explore_xplane_data.ipynb\" target=\"_parent\"><img src=\"https://colab.research.google.com/assets/colab-badge.svg\" alt=\"Open In Colab\"/></a>"
      ]
    },
    {
      "cell_type": "markdown",
      "metadata": {
        "id": "z39RGTRqkGR9",
        "colab_type": "text"
      },
      "source": [
        "# explore xplane data"
      ]
    },
    {
      "cell_type": "markdown",
      "metadata": {
        "id": "-8IiMWzIXUtl",
        "colab_type": "text"
      },
      "source": [
        "## imports"
      ]
    },
    {
      "cell_type": "code",
      "metadata": {
        "id": "VkBuzI8Rlr4u",
        "colab_type": "code",
        "outputId": "a5e94b4c-66db-48ff-eba0-7c4ef678405b",
        "colab": {
          "base_uri": "https://localhost:8080/",
          "height": 124
        }
      },
      "source": [
        "! pip3 install pandas\n",
        "! pip3 install googledrivedownloader"
      ],
      "execution_count": 0,
      "outputs": [
        {
          "output_type": "stream",
          "text": [
            "Requirement already satisfied: pandas in /usr/local/lib/python3.6/dist-packages (0.24.2)\n",
            "Requirement already satisfied: pytz>=2011k in /usr/local/lib/python3.6/dist-packages (from pandas) (2018.9)\n",
            "Requirement already satisfied: numpy>=1.12.0 in /usr/local/lib/python3.6/dist-packages (from pandas) (1.16.5)\n",
            "Requirement already satisfied: python-dateutil>=2.5.0 in /usr/local/lib/python3.6/dist-packages (from pandas) (2.5.3)\n",
            "Requirement already satisfied: six>=1.5 in /usr/local/lib/python3.6/dist-packages (from python-dateutil>=2.5.0->pandas) (1.12.0)\n",
            "Requirement already satisfied: googledrivedownloader in /usr/local/lib/python3.6/dist-packages (0.4)\n"
          ],
          "name": "stdout"
        }
      ]
    },
    {
      "cell_type": "code",
      "metadata": {
        "id": "g0XAXNX2WmLk",
        "colab_type": "code",
        "colab": {}
      },
      "source": [
        "from google_drive_downloader import GoogleDriveDownloader as gdd\n",
        "import pandas as pd\n",
        "import os, sys\n",
        "import csv\n"
      ],
      "execution_count": 0,
      "outputs": []
    },
    {
      "cell_type": "markdown",
      "metadata": {
        "id": "fnxkJC6qXCIw",
        "colab_type": "text"
      },
      "source": [
        "## load csv files "
      ]
    },
    {
      "cell_type": "code",
      "metadata": {
        "id": "hhl9QaOylapi",
        "colab_type": "code",
        "colab": {}
      },
      "source": [
        "file_mismatch = 'trainingsset_mismatch_00.csv'\n",
        "file0 = 'trainingsset_00.csv'\n",
        "files = [file_mismatch, file0]"
      ],
      "execution_count": 0,
      "outputs": []
    },
    {
      "cell_type": "markdown",
      "metadata": {
        "id": "5ETCQxT9kZe_",
        "colab_type": "text"
      },
      "source": [
        "### in collab \n",
        "just mount the drive to access the files:"
      ]
    },
    {
      "cell_type": "code",
      "metadata": {
        "id": "1bGygMkW8K1Z",
        "colab_type": "code",
        "outputId": "11f60c3a-f99d-4cd7-bf8d-24c157565582",
        "colab": {
          "base_uri": "https://localhost:8080/",
          "height": 53
        }
      },
      "source": [
        "'from google.colab import drive'\n",
        "drive.mount('/content/drive')\n",
        "\n",
        "root_dir = '/content/drive/My Drive/xplane_data' \n",
        "os.chdir(root_dir)\n",
        "print ('working dir: ' + os.getcwd())\n"
      ],
      "execution_count": 55,
      "outputs": [
        {
          "output_type": "stream",
          "text": [
            "Drive already mounted at /content/drive; to attempt to forcibly remount, call drive.mount(\"/content/drive\", force_remount=True).\n",
            "working dir: /content/drive/My Drive/xplane_data\n"
          ],
          "name": "stdout"
        }
      ]
    },
    {
      "cell_type": "markdown",
      "metadata": {
        "id": "0kpbZ6x4kwSX",
        "colab_type": "text"
      },
      "source": [
        "### in normal jupyter notebook \n",
        "download the files from google drive to your local working directory:\n"
      ]
    },
    {
      "cell_type": "code",
      "metadata": {
        "id": "aAUQ72jX9Vjq",
        "colab_type": "code",
        "outputId": "f2782d75-2300-4353-82f0-7ea8f321c6a2",
        "colab": {
          "base_uri": "https://localhost:8080/",
          "height": 53
        }
      },
      "source": [
        "root_dir = os.getcwd()\n",
        "\n",
        "if not root_dir.endswith('data'):\n",
        "  os.chdir('./data')\n",
        "\n",
        "\n",
        "print ('working dir: ' + root_dir)\n",
        "\n",
        "\n",
        "gdd.download_file_from_google_drive(file_id='14qCHOrPH8aDUY_AvzzYpORNhW0PFXkC_',\n",
        "                                    dest_path='./data/'+file_mismatch,\n",
        "                                    )\n",
        "\n",
        "gdd.download_file_from_google_drive(file_id='1h6y6kWLPduY_gKPM0-GVt4t57uF1_Wr6',\n",
        "                                    dest_path='./data/'+file0,\n",
        "                                    )\n",
        "\n",
        "#alternativly save all as zip an extract them:\n",
        "#gdd.download_file_from_google_drive(file_id='',\n",
        "#                                    dest_path='./data/traindata.zip',\n",
        "#                                    unzip=True)\n"
      ],
      "execution_count": 53,
      "outputs": [
        {
          "output_type": "stream",
          "text": [
            "working dir: /content/drive/My Drive/xplane_data\n",
            "Downloading 1h6y6kWLPduY_gKPM0-GVt4t57uF1_Wr6 into ./data/trainingsset_00.csv... Done.\n"
          ],
          "name": "stdout"
        }
      ]
    },
    {
      "cell_type": "markdown",
      "metadata": {
        "id": "pxYexD_ho4XB",
        "colab_type": "text"
      },
      "source": [
        "## check and parse csv data"
      ]
    },
    {
      "cell_type": "markdown",
      "metadata": {
        "id": "pxIXIkoZ2jAU",
        "colab_type": "text"
      },
      "source": [
        "### check for formatation error and print headers"
      ]
    },
    {
      "cell_type": "code",
      "metadata": {
        "id": "An8eiIp_G9od",
        "colab_type": "code",
        "outputId": "13f35b09-979b-4f73-d575-f062e896fb66",
        "colab": {
          "base_uri": "https://localhost:8080/",
          "height": 108
        }
      },
      "source": [
        "# xplane somehow messes up the csv files, therefor check if column count in head and data machtes\n",
        "# if so, save all header names in list and print them\n",
        "print ('working dir: ' + os.getcwd())\n",
        "\n",
        "headers = {}\n",
        "\n",
        "for file in files:\n",
        "  with open(file) as csvfile:\n",
        "    csvreader = csv.reader(csvfile, delimiter='|')\n",
        "    header = next(csvreader)\n",
        "    data =next(csvreader)\n",
        "    if len(header) == len(data): \n",
        "      header = header[:-1] # last on in header and data is just space\n",
        "      headers[file] = header\n",
        "      print(file + ': is ok.' )\n",
        "    else:\n",
        "      print(file + ': got mismatched header and data columns.' )\n",
        "\n",
        "print(headers)\n"
      ],
      "execution_count": 62,
      "outputs": [
        {
          "output_type": "stream",
          "text": [
            "working dir: /content/drive/My Drive/xplane_data\n",
            "trainingsset_mismatch_00.csv: got mismatched header and data columns.\n",
            "trainingsset_00.csv: is ok.\n",
            "{'trainingsset_00.csv': ['  _real,_time ', '   _totl,_time ', '   missn,_time ', '   timer,_time ', '   _zulu,_time ', '   local,_time ', '   hobbs,_time ', '   _Vind,_kias ', '   _Vind,_keas ', '   Vtrue,_ktas ', '   Vtrue,_ktgs ', '   _Vind,__mph ', '   Vtrue,mphas ', '   Vtrue,mphgs ', '   _Mach,ratio ', '   __VVI,__fpm ', '   Gload,norml ', '   Gload,axial ', '   Gload,_side ', '   _elev,stick ', '   ailrn,stick ', '   ruddr,stick ', '   _elev,astab ', '   ailrn,astab ', '   ruddr,astab ', '   _elev,_surf ', '   ailrn,_surf ', '   ruddr,_surf ', '   nwhel,steer ', '   ____M,_ftlb ', '   ____L,_ftlb ', '   ____N,_ftlb ', '   ____Q,rad/s ', '   ____P,rad/s ', '   ____R,rad/s ', '   pitch,__deg ', '   _roll,__deg ', '   hding,_true ', '   hding,__mag ', '   alpha,__deg ', '   _beta,__deg ', '   hpath,__deg ', '   vpath,__deg ', '   _slip,__deg ', '   __lat,__deg ', '   __lon,__deg ', '   __alt,ftmsl ', '   __alt,ftagl ', '   ___on,runwy ', '   __alt,__ind ', '   __lat,orign ', '   __lon,orign ', '   thrst,_1,lb ', '   trq_1,_ftlb ', '   rpm_1,engin ', '   rpm_1,_prop ', '   __L/D,ratio ', '   ___cl,total ', '   ___cd,total ', '   __L/D,*etaP ', '   elev1,__deg ', '   elev1,__deg ', '   elev2,__deg ', '   elev2,__deg ', '   rudr1,__deg ', '   rudr1,__deg ', '   rudr2,__deg ', '   rudr2,__deg ', '   Lyawb,__deg ', '   Ryawb,__deg ', '   Lyawb,__deg ', '   Ryawb,__deg ', '   Lyawb,__deg ', '   Ryawb,__deg ', '   Lyawb,__deg ', '   Ryawb,__deg ', '   _elev,servo ', '   ailrn,servo ', '   ruddr,servo ']}\n"
          ],
          "name": "stdout"
        }
      ]
    },
    {
      "cell_type": "markdown",
      "metadata": {
        "id": "MOA4Uemc2wGO",
        "colab_type": "text"
      },
      "source": [
        "### parse data"
      ]
    },
    {
      "cell_type": "code",
      "metadata": {
        "id": "YH9bVQ3YDyTh",
        "colab_type": "code",
        "outputId": "bc5b95e3-868b-4f4f-d005-ebce80fb4018",
        "colab": {
          "base_uri": "https://localhost:8080/",
          "height": 112
        }
      },
      "source": [
        "def load_xplane_csv(csv_path, columns):\n",
        "    return pd.read_csv(csv_path, delimiter='|', usecols = columns,float_precision='high')\n",
        "\n",
        "# relevante spalten definiert\n",
        "m_time = '   missn,_time '\n",
        "z_time = '   _zulu,_time '\n",
        "\n",
        "yaw_v = '   ____Q,rad/s '\n",
        "yaw_deg = '   hding,_true '\n",
        "\n",
        "roll_deg = '   _roll,__deg '\n",
        "roll_v = '   ____R,rad/s '\n",
        "\n",
        "pitch_deg = '   pitch,__deg '\n",
        "pitch_v = '   ____P,rad/s '\n",
        "\n",
        "alt = '   __alt,ftmsl '\n",
        "vv = '   __VVI,__fpm '\n",
        "\n",
        "v = '   Vtrue,_ktas '\n",
        "rpm_prop ='   rpm_1,_prop '\n",
        "\n",
        "columns = [m_time,\n",
        "           z_time,\n",
        "\n",
        "           nick_v,\n",
        "           roll_v,\n",
        "           yaw_v,\n",
        "           roll_deg,\n",
        "           pitch_deg,\n",
        "           yaw_deg,\n",
        "           vv,\n",
        "           alt,\n",
        "           v,\n",
        "      rpm_prop\n",
        "           ]\n",
        "\n",
        "#all_columns = headers[file0]\n",
        "\n",
        "df = load_xplane_csv(file0, columns)\n",
        "df.head(2)"
      ],
      "execution_count": 70,
      "outputs": [
        {
          "output_type": "execute_result",
          "data": {
            "text/html": [
              "<div>\n",
              "<style scoped>\n",
              "    .dataframe tbody tr th:only-of-type {\n",
              "        vertical-align: middle;\n",
              "    }\n",
              "\n",
              "    .dataframe tbody tr th {\n",
              "        vertical-align: top;\n",
              "    }\n",
              "\n",
              "    .dataframe thead th {\n",
              "        text-align: right;\n",
              "    }\n",
              "</style>\n",
              "<table border=\"1\" class=\"dataframe\">\n",
              "  <thead>\n",
              "    <tr style=\"text-align: right;\">\n",
              "      <th></th>\n",
              "      <th>missn,_time</th>\n",
              "      <th>_zulu,_time</th>\n",
              "      <th>Vtrue,_ktas</th>\n",
              "      <th>__VVI,__fpm</th>\n",
              "      <th>____Q,rad/s</th>\n",
              "      <th>____P,rad/s</th>\n",
              "      <th>____R,rad/s</th>\n",
              "      <th>pitch,__deg</th>\n",
              "      <th>_roll,__deg</th>\n",
              "      <th>hding,_true</th>\n",
              "      <th>__alt,ftmsl</th>\n",
              "      <th>rpm_1,_prop</th>\n",
              "    </tr>\n",
              "  </thead>\n",
              "  <tbody>\n",
              "    <tr>\n",
              "      <th>0</th>\n",
              "      <td>0.05025</td>\n",
              "      <td>16.17529</td>\n",
              "      <td>127.21453</td>\n",
              "      <td>2.38229</td>\n",
              "      <td>0.21780</td>\n",
              "      <td>0.28833</td>\n",
              "      <td>-0.00185</td>\n",
              "      <td>-1.99876</td>\n",
              "      <td>-0.10717</td>\n",
              "      <td>355.79102</td>\n",
              "      <td>1029.92627</td>\n",
              "      <td>2607.31152</td>\n",
              "    </tr>\n",
              "    <tr>\n",
              "      <th>1</th>\n",
              "      <td>0.12259</td>\n",
              "      <td>16.17531</td>\n",
              "      <td>127.18829</td>\n",
              "      <td>-5.80672</td>\n",
              "      <td>-0.02653</td>\n",
              "      <td>-0.04140</td>\n",
              "      <td>0.00434</td>\n",
              "      <td>-1.34120</td>\n",
              "      <td>0.05427</td>\n",
              "      <td>355.80017</td>\n",
              "      <td>1029.64880</td>\n",
              "      <td>2605.68115</td>\n",
              "    </tr>\n",
              "  </tbody>\n",
              "</table>\n",
              "</div>"
            ],
            "text/plain": [
              "      missn,_time      _zulu,_time   ...     __alt,ftmsl      rpm_1,_prop \n",
              "0          0.05025         16.17529  ...       1029.92627       2607.31152\n",
              "1          0.12259         16.17531  ...       1029.64880       2605.68115\n",
              "\n",
              "[2 rows x 12 columns]"
            ]
          },
          "metadata": {
            "tags": []
          },
          "execution_count": 70
        }
      ]
    },
    {
      "cell_type": "markdown",
      "metadata": {
        "id": "aUJmRkSVZzgA",
        "colab_type": "text"
      },
      "source": [
        ""
      ]
    },
    {
      "cell_type": "markdown",
      "metadata": {
        "id": "YvtDBPzSZ7bU",
        "colab_type": "text"
      },
      "source": [
        "# old stuff"
      ]
    },
    {
      "cell_type": "code",
      "metadata": {
        "id": "bb_a8gXlaQxZ",
        "colab_type": "code",
        "colab": {}
      },
      "source": [
        "dataFrame.shape"
      ],
      "execution_count": 0,
      "outputs": []
    },
    {
      "cell_type": "code",
      "metadata": {
        "id": "Y8arIHYhaQuR",
        "colab_type": "code",
        "colab": {}
      },
      "source": [
        "hilffelder = [gn,\n",
        "           ga,\n",
        "           gs,\n",
        "           nick_v,\n",
        "           roll_v,\n",
        "           gier_v,\n",
        "            ]\n",
        "\n",
        "for hf in hilffelder:\n",
        "    mean = dataFrame[hf].mean()\n",
        "    std = dataFrame[hf].std()\n",
        "    dataFrame = dataFrame.drop(dataFrame[dataFrame[hf] < mean - 3 * std].index)\n",
        "    dataFrame = dataFrame.drop(dataFrame[dataFrame[hf] > mean + 3 * std].index)\n",
        "\n"
      ],
      "execution_count": 0,
      "outputs": []
    },
    {
      "cell_type": "code",
      "metadata": {
        "id": "N7ISIz5saU4P",
        "colab_type": "code",
        "colab": {}
      },
      "source": [
        "dataFrame.shape"
      ],
      "execution_count": 0,
      "outputs": []
    },
    {
      "cell_type": "code",
      "metadata": {
        "id": "aHFEeECbaQrC",
        "colab_type": "code",
        "colab": {}
      },
      "source": [
        "dataFrame.head(15)"
      ],
      "execution_count": 0,
      "outputs": []
    },
    {
      "cell_type": "code",
      "metadata": {
        "id": "7WNcBJ-raQo9",
        "colab_type": "code",
        "colab": {}
      },
      "source": [
        "dataFrame.info()"
      ],
      "execution_count": 0,
      "outputs": []
    },
    {
      "cell_type": "code",
      "metadata": {
        "id": "9D3WfiheaQnZ",
        "colab_type": "code",
        "colab": {}
      },
      "source": [
        "dataFrame.max(axis=0)"
      ],
      "execution_count": 0,
      "outputs": []
    },
    {
      "cell_type": "code",
      "metadata": {
        "id": "gn14kzmCaQkJ",
        "colab_type": "code",
        "colab": {}
      },
      "source": [
        "dataFrame.min(axis=0)"
      ],
      "execution_count": 0,
      "outputs": []
    },
    {
      "cell_type": "code",
      "metadata": {
        "id": "xtoFbHkXaQhf",
        "colab_type": "code",
        "colab": {}
      },
      "source": [
        "dataFrame.describe()"
      ],
      "execution_count": 0,
      "outputs": []
    },
    {
      "cell_type": "code",
      "metadata": {
        "id": "PhvjoHagaQbP",
        "colab_type": "code",
        "colab": {}
      },
      "source": [
        "%matplotlib inline\n",
        "# only in a Jupyter notebook\n",
        "import matplotlib.pyplot as plt\n",
        "\n",
        "dataFrame.hist(bins=100, figsize=(20,15))\n",
        "plt.show()"
      ],
      "execution_count": 0,
      "outputs": []
    },
    {
      "cell_type": "code",
      "metadata": {
        "id": "D9TJR_3XaQQf",
        "colab_type": "code",
        "colab": {}
      },
      "source": [
        "%matplotlib inline\n",
        "# only in a Jupyter notebook\n",
        "import matplotlib.pyplot as plt\n",
        "\n",
        "dataFrame.plot.line(x=m_time, subplots = True, figsize = (30, 90), secondary_y=m_time, fontsize=20,legend=True );"
      ],
      "execution_count": 0,
      "outputs": []
    },
    {
      "cell_type": "code",
      "metadata": {
        "id": "Ocr1o25jaQBd",
        "colab_type": "code",
        "colab": {}
      },
      "source": [
        "%matplotlib inline\n",
        "# only in a Jupyter notebook\n",
        "import matplotlib.pyplot as plt\n",
        "\n",
        "dataFrame.plot.line(x=t_time, subplots = True, figsize = (30, 90), secondary_y=m_time, fontsize=20,legend=True );"
      ],
      "execution_count": 0,
      "outputs": []
    },
    {
      "cell_type": "code",
      "metadata": {
        "id": "tKH3UgxzaP7Z",
        "colab_type": "code",
        "colab": {}
      },
      "source": [
        ""
      ],
      "execution_count": 0,
      "outputs": []
    }
  ]
}