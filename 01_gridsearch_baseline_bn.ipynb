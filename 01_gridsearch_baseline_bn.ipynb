{
  "nbformat": 4,
  "nbformat_minor": 0,
  "metadata": {
    "colab": {
      "name": "01_gridsearch_baseline_bn.ipynb",
      "provenance": [],
      "collapsed_sections": [],
      "toc_visible": true,
      "machine_shape": "hm",
      "include_colab_link": true
    },
    "kernelspec": {
      "name": "python3",
      "display_name": "Python 3"
    },
    "accelerator": "GPU"
  },
  "cells": [
    {
      "cell_type": "markdown",
      "metadata": {
        "id": "view-in-github",
        "colab_type": "text"
      },
      "source": [
        "<a href=\"https://colab.research.google.com/github/CrowdSalat/ann-dynamical-systems/blob/master/01_gridsearch_baseline_bn.ipynb\" target=\"_parent\"><img src=\"https://colab.research.google.com/assets/colab-badge.svg\" alt=\"Open In Colab\"/></a>"
      ]
    },
    {
      "cell_type": "markdown",
      "metadata": {
        "id": "Pa9Mju9lc4Ll",
        "colab_type": "text"
      },
      "source": [
        "# overview\n",
        "\n",
        "Uses actions and an input state to predict the output state."
      ]
    },
    {
      "cell_type": "markdown",
      "metadata": {
        "id": "ijDD21X-gnli",
        "colab_type": "text"
      },
      "source": [
        "# imports"
      ]
    },
    {
      "cell_type": "code",
      "metadata": {
        "id": "_Z4pV678a1zv",
        "colab_type": "code",
        "outputId": "9d838c25-d4cd-48f0-bc48-9d0917f59aaf",
        "colab": {
          "base_uri": "https://localhost:8080/",
          "height": 35
        }
      },
      "source": [
        "try:\n",
        "  # %tensorflow_version only exists in Colab.\n",
        "  %tensorflow_version 2.x\n",
        "except Exception:\n",
        "  pass"
      ],
      "execution_count": 0,
      "outputs": [
        {
          "output_type": "stream",
          "text": [
            "TensorFlow 2.x selected.\n"
          ],
          "name": "stdout"
        }
      ]
    },
    {
      "cell_type": "code",
      "metadata": {
        "id": "2p4YwEK_f7kq",
        "colab_type": "code",
        "outputId": "65523e53-85d3-45af-df15-a372540190e3",
        "colab": {
          "base_uri": "https://localhost:8080/",
          "height": 35
        }
      },
      "source": [
        "import pandas as pd\n",
        "import numpy as np\n",
        "import os\n",
        "import sys\n",
        "import datetime\n",
        "import math\n",
        "import pickle\n",
        "import matplotlib.pyplot as plt\n",
        "from sklearn.preprocessing import MinMaxScaler\n",
        "from sklearn.metrics import mean_squared_error\n",
        "from sklearn.metrics import mean_absolute_error\n",
        "\n",
        "from sklearn.model_selection import train_test_split\n",
        "from sklearn.preprocessing import MinMaxScaler\n",
        "\n",
        "\n",
        "import tensorflow as tf\n",
        "print(tf.__version__)\n",
        "from tensorflow import keras\n",
        "\n",
        "from tensorflow.keras.models import Sequential\n",
        "from tensorflow.keras.layers import Dense\n",
        "from tensorflow.keras.layers import *\n",
        "from tensorflow.keras import metrics"
      ],
      "execution_count": 0,
      "outputs": [
        {
          "output_type": "stream",
          "text": [
            "2.0.0\n"
          ],
          "name": "stdout"
        }
      ]
    },
    {
      "cell_type": "code",
      "metadata": {
        "id": "RPDma-JqgyaM",
        "colab_type": "code",
        "outputId": "c6b950b0-0748-46e6-d1e9-621db88b8279",
        "colab": {
          "base_uri": "https://localhost:8080/",
          "height": 35
        }
      },
      "source": [
        "base_folder = './results'\n",
        "notebook_folder = '01_gridsearch_baseline_bn'\n",
        "results_folder = os.path.join(base_folder, notebook_folder)\n",
        "os.makedirs(results_folder, exist_ok=True)\n",
        "print('results_folder : ', results_folder)\n",
        "\n",
        "saved_model_weight = 'saved_weights'\n",
        "saved_model_weight_path = os.path.join(results_folder, saved_model_weight)\n",
        "os.makedirs(saved_model_weight_path, exist_ok=True)\n"
      ],
      "execution_count": 0,
      "outputs": [
        {
          "output_type": "stream",
          "text": [
            "results_folder :  ./results/01_gridsearch_baseline_bn\n"
          ],
          "name": "stdout"
        }
      ]
    },
    {
      "cell_type": "markdown",
      "metadata": {
        "id": "rmj8c18xllpT",
        "colab_type": "text"
      },
      "source": [
        "# mount drive"
      ]
    },
    {
      "cell_type": "code",
      "metadata": {
        "id": "nUEqcpzvltdo",
        "colab_type": "code",
        "colab": {}
      },
      "source": [
        "file = 'dataset_all_01.csv'"
      ],
      "execution_count": 0,
      "outputs": []
    },
    {
      "cell_type": "code",
      "metadata": {
        "id": "TuGWEMS1loFz",
        "colab_type": "code",
        "outputId": "128d3972-59df-422f-ce37-0ae02ffefa67",
        "colab": {
          "base_uri": "https://localhost:8080/",
          "height": 53
        }
      },
      "source": [
        "from google.colab import drive\n",
        "drive.mount('/content/drive')\n",
        "\n",
        "root_dir = '/content/drive/My Drive/xplane_data' \n",
        "os.chdir(root_dir)\n",
        "print ('working dir: ' + os.getcwd())"
      ],
      "execution_count": 0,
      "outputs": [
        {
          "output_type": "stream",
          "text": [
            "Drive already mounted at /content/drive; to attempt to forcibly remount, call drive.mount(\"/content/drive\", force_remount=True).\n",
            "working dir: /content/drive/My Drive/xplane_data\n"
          ],
          "name": "stdout"
        }
      ]
    },
    {
      "cell_type": "markdown",
      "metadata": {
        "id": "EF4tx110HmOj",
        "colab_type": "text"
      },
      "source": [
        "# load data"
      ]
    },
    {
      "cell_type": "markdown",
      "metadata": {
        "id": "EOM6RVAIduGr",
        "colab_type": "text"
      },
      "source": [
        "## define features (actions & states)\n",
        "actions and states at time t (t-1, t-2 ...) are the input for the network.\n",
        "\n",
        "the states at time t + 1 are the desired output of the network.\n"
      ]
    },
    {
      "cell_type": "code",
      "metadata": {
        "id": "YH9bVQ3YDyTh",
        "colab_type": "code",
        "colab": {}
      },
      "source": [
        "col_m_time      = '   missn,_time '\n",
        "col_t_time      = '   _totl,_time '\n",
        "col_yaw_v       = '   ____Q,rad/s '\n",
        "\n",
        "col_yaw_deg     = '   _beta,__deg '\n",
        "col_roll_deg    = '   _roll,__deg '\n",
        "col_roll_v      = '   ____R,rad/s '\n",
        "col_pitch_deg   = '   pitch,__deg '\n",
        "col_pitch_v     = '   ____P,rad/s '\n",
        "col_alt         = '   __alt,ftmsl '\n",
        "col_vv          = '   __VVI,__fpm '\n",
        "col_v           = '   Vtrue,_ktas '\n",
        "col_rpm_prop    = '   rpm_1,_prop '\n",
        "col_throttle     = '   thro1,_part '\n",
        "\n",
        "cols_state = [ \n",
        "    col_yaw_v,\n",
        "    col_yaw_deg,\n",
        "    col_roll_deg,\n",
        "    col_roll_v,\n",
        "    col_pitch_deg,\n",
        "    col_pitch_v,\n",
        "    col_vv,\n",
        "    col_alt,\n",
        "    col_v,\n",
        "\n",
        "]\n",
        "\n",
        "cols_time = [\n",
        "    col_m_time,\n",
        "    col_t_time,\n",
        "]\n",
        "\n",
        "col_elev_servo                  = '   _elev,servo '\n",
        "col_ailrn_servo                  = '   ailrn,servo '\n",
        "col_ruddr_servo                  = '   ruddr,servo '\n",
        "\n",
        "cols_action = [\n",
        "    col_elev_servo,\n",
        "    col_ailrn_servo,\n",
        "    col_ruddr_servo,\n",
        "    col_rpm_prop,\n",
        "    col_throttle,\n",
        "]\n",
        "\n",
        "# all input columns\n",
        "cols_features = []\n",
        "cols_features.extend(cols_state)\n",
        "cols_features.extend(cols_action)\n",
        "\n",
        "# orga column\n",
        "col_dataset_index = 'dataset_index'\n",
        "col_maneuver_index = 'maneuver_index'\n",
        "col_maneuver_name = 'maneuver_name'\n",
        "col_maneuver_datapoint_index = 'maneuver_datapoint_index'\n",
        "col_maneuver_type = 'maneuver_type'\n",
        "cols_org = [col_dataset_index, col_maneuver_index, col_maneuver_name,\n",
        "            col_maneuver_datapoint_index,col_maneuver_type]\n",
        "\n"
      ],
      "execution_count": 0,
      "outputs": []
    },
    {
      "cell_type": "markdown",
      "metadata": {
        "id": "gDSNkVBaDv2V",
        "colab_type": "text"
      },
      "source": [
        "## load data"
      ]
    },
    {
      "cell_type": "code",
      "metadata": {
        "id": "uByPEHX3fS2G",
        "colab_type": "code",
        "outputId": "dd61080c-c901-4f92-aba0-3458fd9f471b",
        "colab": {
          "base_uri": "https://localhost:8080/",
          "height": 204
        }
      },
      "source": [
        "def load_xplane_csv(csv_path, columns):\n",
        "    return pd.read_csv(csv_path, delimiter=',', usecols = columns, \n",
        "                       float_precision='high')\n",
        "\n",
        "df_data = load_xplane_csv(file, cols_org + cols_state + cols_action)\n",
        "\n",
        "print(len(cols_org))\n",
        "print(len(cols_state))\n",
        "print(len(cols_action))\n",
        "print(df_data.shape)\n",
        "df_data.head(2)"
      ],
      "execution_count": 0,
      "outputs": [
        {
          "output_type": "stream",
          "text": [
            "5\n",
            "9\n",
            "5\n",
            "(477893, 19)\n"
          ],
          "name": "stdout"
        },
        {
          "output_type": "execute_result",
          "data": {
            "text/html": [
              "<div>\n",
              "<style scoped>\n",
              "    .dataframe tbody tr th:only-of-type {\n",
              "        vertical-align: middle;\n",
              "    }\n",
              "\n",
              "    .dataframe tbody tr th {\n",
              "        vertical-align: top;\n",
              "    }\n",
              "\n",
              "    .dataframe thead th {\n",
              "        text-align: right;\n",
              "    }\n",
              "</style>\n",
              "<table border=\"1\" class=\"dataframe\">\n",
              "  <thead>\n",
              "    <tr style=\"text-align: right;\">\n",
              "      <th></th>\n",
              "      <th>dataset_index</th>\n",
              "      <th>maneuver_index</th>\n",
              "      <th>maneuver_name</th>\n",
              "      <th>maneuver_type</th>\n",
              "      <th>maneuver_datapoint_index</th>\n",
              "      <th>Vtrue,_ktas</th>\n",
              "      <th>__VVI,__fpm</th>\n",
              "      <th>____Q,rad/s</th>\n",
              "      <th>____P,rad/s</th>\n",
              "      <th>____R,rad/s</th>\n",
              "      <th>pitch,__deg</th>\n",
              "      <th>_roll,__deg</th>\n",
              "      <th>_beta,__deg</th>\n",
              "      <th>__alt,ftmsl</th>\n",
              "      <th>thro1,_part</th>\n",
              "      <th>rpm_1,_prop</th>\n",
              "      <th>_elev,servo</th>\n",
              "      <th>ailrn,servo</th>\n",
              "      <th>ruddr,servo</th>\n",
              "    </tr>\n",
              "  </thead>\n",
              "  <tbody>\n",
              "    <tr>\n",
              "      <th>0</th>\n",
              "      <td>0</td>\n",
              "      <td>0</td>\n",
              "      <td>0</td>\n",
              "      <td>0</td>\n",
              "      <td>0</td>\n",
              "      <td>115.86147</td>\n",
              "      <td>665.39697</td>\n",
              "      <td>-0.03945</td>\n",
              "      <td>-0.00235</td>\n",
              "      <td>0.00008</td>\n",
              "      <td>-0.03584</td>\n",
              "      <td>-0.10129</td>\n",
              "      <td>0.00793</td>\n",
              "      <td>953.06787</td>\n",
              "      <td>0.79608</td>\n",
              "      <td>2443.89453</td>\n",
              "      <td>-0.00489</td>\n",
              "      <td>-0.01818</td>\n",
              "      <td>0.0</td>\n",
              "    </tr>\n",
              "    <tr>\n",
              "      <th>1</th>\n",
              "      <td>0</td>\n",
              "      <td>0</td>\n",
              "      <td>0</td>\n",
              "      <td>0</td>\n",
              "      <td>1</td>\n",
              "      <td>115.85403</td>\n",
              "      <td>650.10065</td>\n",
              "      <td>-0.03868</td>\n",
              "      <td>-0.00234</td>\n",
              "      <td>0.00007</td>\n",
              "      <td>-0.14285</td>\n",
              "      <td>-0.10772</td>\n",
              "      <td>0.00770</td>\n",
              "      <td>953.30768</td>\n",
              "      <td>0.79608</td>\n",
              "      <td>2443.77563</td>\n",
              "      <td>0.00134</td>\n",
              "      <td>-0.01815</td>\n",
              "      <td>0.0</td>\n",
              "    </tr>\n",
              "  </tbody>\n",
              "</table>\n",
              "</div>"
            ],
            "text/plain": [
              "   dataset_index  maneuver_index  ...     ailrn,servo      ruddr,servo \n",
              "0              0               0  ...         -0.01818              0.0\n",
              "1              0               0  ...         -0.01815              0.0\n",
              "\n",
              "[2 rows x 19 columns]"
            ]
          },
          "metadata": {
            "tags": []
          },
          "execution_count": 7
        }
      ]
    },
    {
      "cell_type": "markdown",
      "metadata": {
        "id": "47xDI8rfLJTv",
        "colab_type": "text"
      },
      "source": [
        "# define data preperation functions"
      ]
    },
    {
      "cell_type": "code",
      "metadata": {
        "id": "-EBCtY9f7KnC",
        "colab_type": "code",
        "colab": {}
      },
      "source": [
        "def series_to_supervised(data, n_in=1, n_out=1, dropnan=True, cols_label=None):\n",
        "\tdata_in = data.drop(cols_org, axis=1)\n",
        "\tif cols_label == None:\n",
        "\t\tdata_out = data_in.drop(cols_action, axis=1)\n",
        "\telse:\n",
        "\t\tif type(cols_label) != list:\n",
        "\t\t\tcols_label = [cols_label]\n",
        "\t\tdata_out = data_in[cols_label]\n",
        "\n",
        "\tcols_in = data_in.columns\n",
        "\tcols_out = data_out.columns\n",
        "\tcols, names = list(), list()\n",
        "\t# input sequence (t-n, ... t-1, t)\n",
        "\tfor i in range(n_in, 0, -1):\n",
        "\t\tcols.append(data_in.shift(i))\n",
        "\t\tif i == 1:\n",
        "\t\t\tnames += [('%s(t)' % (col_in)) for col_in in cols_in]\n",
        "\t\telse:\n",
        "\t\t\tnames += [('%s(t-%d)' % (col_in, i-1)) for col_in in cols_in]\n",
        "\n",
        "\t# forecast sequence (t+1, ... t+n)\n",
        "\tfor i in range(0, n_out):\n",
        "\t\tcols.append(data_out.shift(-i))\n",
        "\t\tnames += [('%s(t+%d)' % (col_out, i+1)) for col_out in cols_out]\n",
        "\t# put it all together\n",
        "\tagg = pd.concat(cols, axis=1)\n",
        "\tagg.columns = names\n",
        "\t# drop rows with NaN values\n",
        "\tif dropnan:\n",
        "\t\tagg.dropna(inplace=True)\n",
        "\treturn agg, cols_out"
      ],
      "execution_count": 0,
      "outputs": []
    },
    {
      "cell_type": "code",
      "metadata": {
        "id": "nOzBV1rYVGCn",
        "colab_type": "code",
        "colab": {}
      },
      "source": [
        "def split_feature_label(data_labeled, n_input_steps):\n",
        "  data_X = data_labeled.values[:, 0:n_input_steps*len(cols_features)]\n",
        "  data_Y = data_labeled.values[:, n_input_steps*len(cols_features):]\n",
        "  return data_X, data_Y"
      ],
      "execution_count": 0,
      "outputs": []
    },
    {
      "cell_type": "code",
      "metadata": {
        "id": "otFsVggWMbpz",
        "colab_type": "code",
        "colab": {}
      },
      "source": [
        "def scale_data(data_X, data_Y):\n",
        "  feature_scaler = MinMaxScaler()\n",
        "  data_X = feature_scaler.fit_transform(data_X)\n",
        "  label_scaler = MinMaxScaler()\n",
        "  data_Y = label_scaler.fit_transform(data_Y)\n",
        "  return feature_scaler, label_scaler, data_X, data_Y"
      ],
      "execution_count": 0,
      "outputs": []
    },
    {
      "cell_type": "code",
      "metadata": {
        "id": "bYXja56FWJnk",
        "colab_type": "code",
        "colab": {}
      },
      "source": [
        "def prepare_datasets(data, n_in=1, n_out=1):\n",
        "  #train-test-split\n",
        "  test = data.query('dataset_index==4')\n",
        "  train = data.query('dataset_index!=4')\n",
        "  \n",
        "  #add-label\n",
        "  test_labeled, labels = series_to_supervised(test, n_in=n_in, n_out=n_out,dropnan=True)\n",
        "  train_labeled, labels = series_to_supervised(train, n_in=n_in, n_out=n_out,dropnan=True)\n",
        "  \n",
        "\n",
        "  #split-feature-label\n",
        "  train_X, train_Y = split_feature_label(train_labeled, n_in)\n",
        "  test_X, test_Y = split_feature_label(test_labeled, n_in)\n",
        "  #scale-feat\n",
        "  feature_scaler, label_scaler, train_X, train_Y = scale_data(train_X, train_Y)\n",
        "  #scale-label\n",
        "  test_X, test_Y = feature_scaler.transform(test_X), label_scaler.transform(test_Y)\n",
        "\n",
        "  return train_X, train_Y, test_X, test_Y, feature_scaler, label_scaler, labels\n",
        "\n",
        "\n",
        "#TODO für RNN muss noch reshape stattfinden"
      ],
      "execution_count": 0,
      "outputs": []
    },
    {
      "cell_type": "markdown",
      "metadata": {
        "id": "S_kDrS1qH7kc",
        "colab_type": "text"
      },
      "source": [
        "# train models"
      ]
    },
    {
      "cell_type": "markdown",
      "metadata": {
        "id": "rjgpogwABFhX",
        "colab_type": "text"
      },
      "source": [
        "## define callbacks functions"
      ]
    },
    {
      "cell_type": "code",
      "metadata": {
        "id": "18w_KQkpBFEY",
        "colab_type": "code",
        "colab": {}
      },
      "source": [
        "def prepare_tensorboard_callback(model_name=''):\n",
        "  logs_base_dir = \"./tensorbaord_logs\"\n",
        "  model_log_dir = datetime.datetime.now().strftime(\"%Y%m%d-%H%M%S\") + '_' + model_name\n",
        "  target_log_dir = os.path.join(logs_base_dir, model_log_dir)\n",
        "  os.makedirs(target_log_dir, exist_ok=True)\n",
        "  tensorboard_callback = tf.keras.callbacks.TensorBoard(target_log_dir, histogram_freq=1)\n",
        "  return tensorboard_callback\n"
      ],
      "execution_count": 0,
      "outputs": []
    },
    {
      "cell_type": "code",
      "metadata": {
        "id": "MYl_6s7sBMpy",
        "colab_type": "code",
        "colab": {}
      },
      "source": [
        "def prepare_checkpoint_callback(model_name):\n",
        "  checkpoint_base_dir = './checkpoints'\n",
        "  os.makedirs(checkpoint_base_dir, exist_ok=True)\n",
        "  filepath = os.path.join(checkpoint_base_dir, 'cp_'+ model_name)\n",
        "  cp_callback = tf.keras.callbacks.ModelCheckpoint(filepath=filepath,\n",
        "                                                  save_weights_only=True,\n",
        "                                                  verbose=1)\n",
        "  return cp_callback "
      ],
      "execution_count": 0,
      "outputs": []
    },
    {
      "cell_type": "markdown",
      "metadata": {
        "id": "3y07Q50xkLvG",
        "colab_type": "text"
      },
      "source": [
        "## define plot_and_save functions"
      ]
    },
    {
      "cell_type": "markdown",
      "metadata": {
        "id": "l8uMddMPkSc1",
        "colab_type": "text"
      },
      "source": [
        "### loss historie"
      ]
    },
    {
      "cell_type": "code",
      "metadata": {
        "id": "I9UHTxwnkWyp",
        "colab_type": "code",
        "colab": {}
      },
      "source": [
        "def save_plots_before_show(diagramm_name):\n",
        "  if not os.path.exists(results_folder):\n",
        "      os.makedirs(diagramm_folder)\n",
        "\n",
        "  plt.savefig(results_folder + '/' + diagramm_name +'.pdf')\n",
        "  plt.savefig(results_folder + '/' + diagramm_name +'.svg')\n",
        "  plt.savefig(results_folder + '/' + diagramm_name +'.png')\n",
        "\n",
        "def pas_history(model_tupels, histories, key='mean_squared_error'):\n",
        "  model_names = [model_tupel[0] for model_tupel in model_tupels]\n",
        "  plt.figure(figsize=(16,10))\n",
        "  for i, history in enumerate(histories):\n",
        "    history_epoch= range(0, len(history['loss']) )\n",
        "\n",
        "    val = plt.plot(history_epoch, history['val_'+key],\n",
        "                   '--', label=model_names[i]+' Val')\n",
        "    plt.plot(history_epoch, history[key], color=val[0].get_color(),\n",
        "             label=model_names[i]+' Train')\n",
        "\n",
        "  plt.xlabel('Epochs')\n",
        "  plt.yscale(\"log\")\n",
        "  plt.ylabel(key.replace('_',' ').title())\n",
        "  plt.legend()\n",
        "\n",
        "  plt.xlim([0,max(history_epoch)])\n",
        "  save_plots_before_show('history_loss'+'_'+key)\n",
        "  plt.show()"
      ],
      "execution_count": 0,
      "outputs": []
    },
    {
      "cell_type": "markdown",
      "metadata": {
        "id": "VJNfegiglg59",
        "colab_type": "text"
      },
      "source": [
        "### metrics (overall and for all single targets )\n",
        "\n"
      ]
    },
    {
      "cell_type": "code",
      "metadata": {
        "id": "be-UQiKHli16",
        "colab_type": "code",
        "colab": {}
      },
      "source": [
        "def pas_metrics_scaled(model_tupel):\n",
        "  model_name = model_tupel[0]\n",
        "  df = _df_prediction_metrics(model_tupel, scaled=True)\n",
        "  file_path = os.path.join(results_folder, model_name + '_scaled.csv')\n",
        "  df.to_csv(path_or_buf=file_path)\n",
        "  return df\n",
        "  \n",
        "def pas_metrics(model_tupel):\n",
        "  model_name = model_tupel[0]\n",
        "  df = _df_prediction_metrics(model_tupel, scaled=False)\n",
        "  file_path = os.path.join(results_folder, model_name + '.csv')\n",
        "  df.to_csv(path_or_buf=file_path)\n",
        "  return df\n",
        "\n",
        "\n",
        "def _df_prediction_metrics(model_tupel, scaled):\n",
        "  '''\n",
        "  creates describe dataframe of labels and \n",
        "  connect them with mse,rmse and mae per target and overall \n",
        "  '''\n",
        "  \n",
        "  model = model_tupel[1]\n",
        "  train_X, train_Y, test_X, test_Y = model_tupel[2]\n",
        "  cols_label = model_tupel[4]\n",
        "\n",
        "\n",
        "  pred_Y = model.predict(test_X)\n",
        "  \n",
        "  if scaled:\n",
        "    truth_Y = test_Y\n",
        "  else:\n",
        "    label_scaler = model_tupel[3]\n",
        "    pred_Y = label_scaler.inverse_transform(pred_Y)\n",
        "    truth_Y = label_scaler.inverse_transform(test_Y)\n",
        "\n",
        "  df_describe = pd.DataFrame(truth_Y,columns=cols_label).describe()\n",
        "  mses = mean_squared_error(truth_Y, pred_Y, multioutput='raw_values')\n",
        "  rmses = np.array([math.sqrt(mse) for mse in mses])\n",
        "  maes = mean_absolute_error(truth_Y, pred_Y, multioutput='raw_values')\n",
        "  # average over list should do the job as well\n",
        "  mse = mean_squared_error(truth_Y, pred_Y)\n",
        "  rmse = math.sqrt(mse)\n",
        "  mae = mean_absolute_error(truth_Y, pred_Y)\n",
        "\n",
        "\n",
        "  df_mse_per_feature = pd.DataFrame(data=mses.reshape(1,-1),    # values\n",
        "            index=['mses'],     # index\n",
        "            columns=cols_label)  #  column names\n",
        "  df_rmse_per_feature = pd.DataFrame(data=rmses.reshape(1,-1),    # values\n",
        "        index=['rmes'],     # index\n",
        "        columns=cols_label)  #  column names\n",
        "  df_mae_per_feature = pd.DataFrame(data=maes.reshape(1,-1),    # values\n",
        "        index=['maes'],     # index\n",
        "        columns=cols_label)  #  column names\n",
        "  \n",
        "  \n",
        "  df_mse_all = pd.DataFrame(data=mse,    # values\n",
        "            index=['mse'],     # index\n",
        "            columns=cols_label)  #  column names\n",
        "  df_rmse_all = pd.DataFrame(data=rmse,    # values\n",
        "        index=['rme'],     # index\n",
        "        columns=cols_label)  #  column names\n",
        "  df_mae_all = pd.DataFrame(data=mae,    # values\n",
        "        index=['mae'],     # index\n",
        "        columns=cols_label)  #  column names\n",
        "  \n",
        "\n",
        "  metrics = [df_mse_per_feature, df_rmse_per_feature, df_mae_per_feature, \n",
        "             df_mse_all,df_rmse_all,df_mae_all]\n",
        "  return df_describe.append(metrics)"
      ],
      "execution_count": 0,
      "outputs": []
    },
    {
      "cell_type": "markdown",
      "metadata": {
        "id": "4gaR7IV326E_",
        "colab_type": "text"
      },
      "source": [
        "## define models"
      ]
    },
    {
      "cell_type": "code",
      "metadata": {
        "id": "Fhc2M4VD2_YP",
        "colab_type": "code",
        "colab": {}
      },
      "source": [
        "def create_model(model_name, layers, keras_activation, kernel_initializer, \n",
        "                 loss, metrics,  n_in=1, n_out=1):\n",
        "  if not layers:\n",
        "    raise Exception('No layers defined. Expected in format [100,100]') \n",
        "\n",
        " #prepare data\n",
        "  train_X, train_Y, test_X, test_Y, feature_scaler, label_scaler, labels = prepare_datasets(df_data, n_in, n_out)\n",
        "  features_nr = train_X.shape[1]\n",
        "  target_nr = train_Y.shape[1]\n",
        "    \n",
        "  model = keras.Sequential(name=model_name)\n",
        "  \n",
        "  model.add(Dense(layers[0],input_shape=(features_nr,), \n",
        "                          kernel_initializer=kernel_initializer))\n",
        "  model.add(BatchNormalization())\n",
        "  model.add(keras_activation())\n",
        "  for i in range(1, len(layers)):\n",
        "    layer_val = layers[i]\n",
        "    model.add(Dense(layer_val, kernel_initializer=kernel_initializer))\n",
        "    model.add(BatchNormalization())\n",
        "    model.add(keras_activation())\n",
        "\n",
        "  model.add(Dense(target_nr ))\n",
        "\n",
        "  model.compile(optimizer='adam',\n",
        "                        loss=loss,\n",
        "                        metrics=metrics)\n",
        "\n",
        "  model.summary()\n",
        "  print(model.to_json())\n",
        "  print(train_X.shape, train_Y.shape, test_X.shape, test_Y.shape)\n",
        "  return (model_name, model, (train_X, train_Y, test_X, test_Y), label_scaler, labels)\n"
      ],
      "execution_count": 0,
      "outputs": []
    },
    {
      "cell_type": "code",
      "metadata": {
        "id": "KwMj6E7mBL9m",
        "colab_type": "code",
        "outputId": "d2fa5ff0-1aad-4fe4-e84e-5b23ee0a084b",
        "colab": {
          "base_uri": "https://localhost:8080/",
          "height": 1000
        }
      },
      "source": [
        "loss='mean_squared_error',\n",
        "metrics=['mean_squared_error', 'mean_absolute_error']\n",
        "\n",
        "\n",
        "\n",
        "\n",
        "baseline = create_model('baseline', [1200, 600, 600], ReLU, 'he_uniform', \n",
        "             loss, metrics, 1,1)\n",
        "\n",
        "\n",
        "bigger = create_model('bigger', [1200, 1000, 800], ReLU, 'he_uniform', \n",
        "             loss, metrics, 1,1)\n",
        "\n",
        "\n",
        "smaller = create_model('smaller', [600, 400, 400], ReLU, 'he_uniform', \n",
        "             loss, metrics, 1,1)\n",
        "\n",
        "\n",
        "\n",
        "\n",
        "models = [baseline,\n",
        "          bigger,\n",
        "          smaller \n",
        "          ]"
      ],
      "execution_count": 0,
      "outputs": [
        {
          "output_type": "stream",
          "text": [
            "Model: \"baseline\"\n",
            "_________________________________________________________________\n",
            "Layer (type)                 Output Shape              Param #   \n",
            "=================================================================\n",
            "dense (Dense)                (None, 1200)              18000     \n",
            "_________________________________________________________________\n",
            "batch_normalization (BatchNo (None, 1200)              4800      \n",
            "_________________________________________________________________\n",
            "re_lu (ReLU)                 (None, 1200)              0         \n",
            "_________________________________________________________________\n",
            "dense_1 (Dense)              (None, 600)               720600    \n",
            "_________________________________________________________________\n",
            "batch_normalization_1 (Batch (None, 600)               2400      \n",
            "_________________________________________________________________\n",
            "re_lu_1 (ReLU)               (None, 600)               0         \n",
            "_________________________________________________________________\n",
            "dense_2 (Dense)              (None, 600)               360600    \n",
            "_________________________________________________________________\n",
            "batch_normalization_2 (Batch (None, 600)               2400      \n",
            "_________________________________________________________________\n",
            "re_lu_2 (ReLU)               (None, 600)               0         \n",
            "_________________________________________________________________\n",
            "dense_3 (Dense)              (None, 9)                 5409      \n",
            "=================================================================\n",
            "Total params: 1,114,209\n",
            "Trainable params: 1,109,409\n",
            "Non-trainable params: 4,800\n",
            "_________________________________________________________________\n",
            "{\"class_name\": \"Sequential\", \"config\": {\"name\": \"baseline\", \"layers\": [{\"class_name\": \"Dense\", \"config\": {\"name\": \"dense\", \"trainable\": true, \"batch_input_shape\": [null, 14], \"dtype\": \"float32\", \"units\": 1200, \"activation\": \"linear\", \"use_bias\": true, \"kernel_initializer\": {\"class_name\": \"VarianceScaling\", \"config\": {\"scale\": 2.0, \"mode\": \"fan_in\", \"distribution\": \"uniform\", \"seed\": null}}, \"bias_initializer\": {\"class_name\": \"Zeros\", \"config\": {}}, \"kernel_regularizer\": null, \"bias_regularizer\": null, \"activity_regularizer\": null, \"kernel_constraint\": null, \"bias_constraint\": null}}, {\"class_name\": \"BatchNormalization\", \"config\": {\"name\": \"batch_normalization\", \"trainable\": true, \"dtype\": \"float32\", \"axis\": [1], \"momentum\": 0.99, \"epsilon\": 0.001, \"center\": true, \"scale\": true, \"beta_initializer\": {\"class_name\": \"Zeros\", \"config\": {}}, \"gamma_initializer\": {\"class_name\": \"Ones\", \"config\": {}}, \"moving_mean_initializer\": {\"class_name\": \"Zeros\", \"config\": {}}, \"moving_variance_initializer\": {\"class_name\": \"Ones\", \"config\": {}}, \"beta_regularizer\": null, \"gamma_regularizer\": null, \"beta_constraint\": null, \"gamma_constraint\": null}}, {\"class_name\": \"ReLU\", \"config\": {\"name\": \"re_lu\", \"trainable\": true, \"dtype\": \"float32\", \"max_value\": null, \"negative_slope\": 0.0, \"threshold\": 0.0}}, {\"class_name\": \"Dense\", \"config\": {\"name\": \"dense_1\", \"trainable\": true, \"dtype\": \"float32\", \"units\": 600, \"activation\": \"linear\", \"use_bias\": true, \"kernel_initializer\": {\"class_name\": \"VarianceScaling\", \"config\": {\"scale\": 2.0, \"mode\": \"fan_in\", \"distribution\": \"uniform\", \"seed\": null}}, \"bias_initializer\": {\"class_name\": \"Zeros\", \"config\": {}}, \"kernel_regularizer\": null, \"bias_regularizer\": null, \"activity_regularizer\": null, \"kernel_constraint\": null, \"bias_constraint\": null}}, {\"class_name\": \"BatchNormalization\", \"config\": {\"name\": \"batch_normalization_1\", \"trainable\": true, \"dtype\": \"float32\", \"axis\": [1], \"momentum\": 0.99, \"epsilon\": 0.001, \"center\": true, \"scale\": true, \"beta_initializer\": {\"class_name\": \"Zeros\", \"config\": {}}, \"gamma_initializer\": {\"class_name\": \"Ones\", \"config\": {}}, \"moving_mean_initializer\": {\"class_name\": \"Zeros\", \"config\": {}}, \"moving_variance_initializer\": {\"class_name\": \"Ones\", \"config\": {}}, \"beta_regularizer\": null, \"gamma_regularizer\": null, \"beta_constraint\": null, \"gamma_constraint\": null}}, {\"class_name\": \"ReLU\", \"config\": {\"name\": \"re_lu_1\", \"trainable\": true, \"dtype\": \"float32\", \"max_value\": null, \"negative_slope\": 0.0, \"threshold\": 0.0}}, {\"class_name\": \"Dense\", \"config\": {\"name\": \"dense_2\", \"trainable\": true, \"dtype\": \"float32\", \"units\": 600, \"activation\": \"linear\", \"use_bias\": true, \"kernel_initializer\": {\"class_name\": \"VarianceScaling\", \"config\": {\"scale\": 2.0, \"mode\": \"fan_in\", \"distribution\": \"uniform\", \"seed\": null}}, \"bias_initializer\": {\"class_name\": \"Zeros\", \"config\": {}}, \"kernel_regularizer\": null, \"bias_regularizer\": null, \"activity_regularizer\": null, \"kernel_constraint\": null, \"bias_constraint\": null}}, {\"class_name\": \"BatchNormalization\", \"config\": {\"name\": \"batch_normalization_2\", \"trainable\": true, \"dtype\": \"float32\", \"axis\": [1], \"momentum\": 0.99, \"epsilon\": 0.001, \"center\": true, \"scale\": true, \"beta_initializer\": {\"class_name\": \"Zeros\", \"config\": {}}, \"gamma_initializer\": {\"class_name\": \"Ones\", \"config\": {}}, \"moving_mean_initializer\": {\"class_name\": \"Zeros\", \"config\": {}}, \"moving_variance_initializer\": {\"class_name\": \"Ones\", \"config\": {}}, \"beta_regularizer\": null, \"gamma_regularizer\": null, \"beta_constraint\": null, \"gamma_constraint\": null}}, {\"class_name\": \"ReLU\", \"config\": {\"name\": \"re_lu_2\", \"trainable\": true, \"dtype\": \"float32\", \"max_value\": null, \"negative_slope\": 0.0, \"threshold\": 0.0}}, {\"class_name\": \"Dense\", \"config\": {\"name\": \"dense_3\", \"trainable\": true, \"dtype\": \"float32\", \"units\": 9, \"activation\": \"linear\", \"use_bias\": true, \"kernel_initializer\": {\"class_name\": \"GlorotUniform\", \"config\": {\"seed\": null}}, \"bias_initializer\": {\"class_name\": \"Zeros\", \"config\": {}}, \"kernel_regularizer\": null, \"bias_regularizer\": null, \"activity_regularizer\": null, \"kernel_constraint\": null, \"bias_constraint\": null}}]}, \"keras_version\": \"2.2.4-tf\", \"backend\": \"tensorflow\"}\n",
            "(330984, 14) (330984, 9) (146907, 14) (146907, 9)\n",
            "Model: \"bigger\"\n",
            "_________________________________________________________________\n",
            "Layer (type)                 Output Shape              Param #   \n",
            "=================================================================\n",
            "dense_4 (Dense)              (None, 1200)              18000     \n",
            "_________________________________________________________________\n",
            "batch_normalization_3 (Batch (None, 1200)              4800      \n",
            "_________________________________________________________________\n",
            "re_lu_3 (ReLU)               (None, 1200)              0         \n",
            "_________________________________________________________________\n",
            "dense_5 (Dense)              (None, 1000)              1201000   \n",
            "_________________________________________________________________\n",
            "batch_normalization_4 (Batch (None, 1000)              4000      \n",
            "_________________________________________________________________\n",
            "re_lu_4 (ReLU)               (None, 1000)              0         \n",
            "_________________________________________________________________\n",
            "dense_6 (Dense)              (None, 800)               800800    \n",
            "_________________________________________________________________\n",
            "batch_normalization_5 (Batch (None, 800)               3200      \n",
            "_________________________________________________________________\n",
            "re_lu_5 (ReLU)               (None, 800)               0         \n",
            "_________________________________________________________________\n",
            "dense_7 (Dense)              (None, 9)                 7209      \n",
            "=================================================================\n",
            "Total params: 2,039,009\n",
            "Trainable params: 2,033,009\n",
            "Non-trainable params: 6,000\n",
            "_________________________________________________________________\n",
            "{\"class_name\": \"Sequential\", \"config\": {\"name\": \"bigger\", \"layers\": [{\"class_name\": \"Dense\", \"config\": {\"name\": \"dense_4\", \"trainable\": true, \"batch_input_shape\": [null, 14], \"dtype\": \"float32\", \"units\": 1200, \"activation\": \"linear\", \"use_bias\": true, \"kernel_initializer\": {\"class_name\": \"VarianceScaling\", \"config\": {\"scale\": 2.0, \"mode\": \"fan_in\", \"distribution\": \"uniform\", \"seed\": null}}, \"bias_initializer\": {\"class_name\": \"Zeros\", \"config\": {}}, \"kernel_regularizer\": null, \"bias_regularizer\": null, \"activity_regularizer\": null, \"kernel_constraint\": null, \"bias_constraint\": null}}, {\"class_name\": \"BatchNormalization\", \"config\": {\"name\": \"batch_normalization_3\", \"trainable\": true, \"dtype\": \"float32\", \"axis\": [1], \"momentum\": 0.99, \"epsilon\": 0.001, \"center\": true, \"scale\": true, \"beta_initializer\": {\"class_name\": \"Zeros\", \"config\": {}}, \"gamma_initializer\": {\"class_name\": \"Ones\", \"config\": {}}, \"moving_mean_initializer\": {\"class_name\": \"Zeros\", \"config\": {}}, \"moving_variance_initializer\": {\"class_name\": \"Ones\", \"config\": {}}, \"beta_regularizer\": null, \"gamma_regularizer\": null, \"beta_constraint\": null, \"gamma_constraint\": null}}, {\"class_name\": \"ReLU\", \"config\": {\"name\": \"re_lu_3\", \"trainable\": true, \"dtype\": \"float32\", \"max_value\": null, \"negative_slope\": 0.0, \"threshold\": 0.0}}, {\"class_name\": \"Dense\", \"config\": {\"name\": \"dense_5\", \"trainable\": true, \"dtype\": \"float32\", \"units\": 1000, \"activation\": \"linear\", \"use_bias\": true, \"kernel_initializer\": {\"class_name\": \"VarianceScaling\", \"config\": {\"scale\": 2.0, \"mode\": \"fan_in\", \"distribution\": \"uniform\", \"seed\": null}}, \"bias_initializer\": {\"class_name\": \"Zeros\", \"config\": {}}, \"kernel_regularizer\": null, \"bias_regularizer\": null, \"activity_regularizer\": null, \"kernel_constraint\": null, \"bias_constraint\": null}}, {\"class_name\": \"BatchNormalization\", \"config\": {\"name\": \"batch_normalization_4\", \"trainable\": true, \"dtype\": \"float32\", \"axis\": [1], \"momentum\": 0.99, \"epsilon\": 0.001, \"center\": true, \"scale\": true, \"beta_initializer\": {\"class_name\": \"Zeros\", \"config\": {}}, \"gamma_initializer\": {\"class_name\": \"Ones\", \"config\": {}}, \"moving_mean_initializer\": {\"class_name\": \"Zeros\", \"config\": {}}, \"moving_variance_initializer\": {\"class_name\": \"Ones\", \"config\": {}}, \"beta_regularizer\": null, \"gamma_regularizer\": null, \"beta_constraint\": null, \"gamma_constraint\": null}}, {\"class_name\": \"ReLU\", \"config\": {\"name\": \"re_lu_4\", \"trainable\": true, \"dtype\": \"float32\", \"max_value\": null, \"negative_slope\": 0.0, \"threshold\": 0.0}}, {\"class_name\": \"Dense\", \"config\": {\"name\": \"dense_6\", \"trainable\": true, \"dtype\": \"float32\", \"units\": 800, \"activation\": \"linear\", \"use_bias\": true, \"kernel_initializer\": {\"class_name\": \"VarianceScaling\", \"config\": {\"scale\": 2.0, \"mode\": \"fan_in\", \"distribution\": \"uniform\", \"seed\": null}}, \"bias_initializer\": {\"class_name\": \"Zeros\", \"config\": {}}, \"kernel_regularizer\": null, \"bias_regularizer\": null, \"activity_regularizer\": null, \"kernel_constraint\": null, \"bias_constraint\": null}}, {\"class_name\": \"BatchNormalization\", \"config\": {\"name\": \"batch_normalization_5\", \"trainable\": true, \"dtype\": \"float32\", \"axis\": [1], \"momentum\": 0.99, \"epsilon\": 0.001, \"center\": true, \"scale\": true, \"beta_initializer\": {\"class_name\": \"Zeros\", \"config\": {}}, \"gamma_initializer\": {\"class_name\": \"Ones\", \"config\": {}}, \"moving_mean_initializer\": {\"class_name\": \"Zeros\", \"config\": {}}, \"moving_variance_initializer\": {\"class_name\": \"Ones\", \"config\": {}}, \"beta_regularizer\": null, \"gamma_regularizer\": null, \"beta_constraint\": null, \"gamma_constraint\": null}}, {\"class_name\": \"ReLU\", \"config\": {\"name\": \"re_lu_5\", \"trainable\": true, \"dtype\": \"float32\", \"max_value\": null, \"negative_slope\": 0.0, \"threshold\": 0.0}}, {\"class_name\": \"Dense\", \"config\": {\"name\": \"dense_7\", \"trainable\": true, \"dtype\": \"float32\", \"units\": 9, \"activation\": \"linear\", \"use_bias\": true, \"kernel_initializer\": {\"class_name\": \"GlorotUniform\", \"config\": {\"seed\": null}}, \"bias_initializer\": {\"class_name\": \"Zeros\", \"config\": {}}, \"kernel_regularizer\": null, \"bias_regularizer\": null, \"activity_regularizer\": null, \"kernel_constraint\": null, \"bias_constraint\": null}}]}, \"keras_version\": \"2.2.4-tf\", \"backend\": \"tensorflow\"}\n",
            "(330984, 14) (330984, 9) (146907, 14) (146907, 9)\n",
            "Model: \"smaller\"\n",
            "_________________________________________________________________\n",
            "Layer (type)                 Output Shape              Param #   \n",
            "=================================================================\n",
            "dense_8 (Dense)              (None, 600)               9000      \n",
            "_________________________________________________________________\n",
            "batch_normalization_6 (Batch (None, 600)               2400      \n",
            "_________________________________________________________________\n",
            "re_lu_6 (ReLU)               (None, 600)               0         \n",
            "_________________________________________________________________\n",
            "dense_9 (Dense)              (None, 400)               240400    \n",
            "_________________________________________________________________\n",
            "batch_normalization_7 (Batch (None, 400)               1600      \n",
            "_________________________________________________________________\n",
            "re_lu_7 (ReLU)               (None, 400)               0         \n",
            "_________________________________________________________________\n",
            "dense_10 (Dense)             (None, 400)               160400    \n",
            "_________________________________________________________________\n",
            "batch_normalization_8 (Batch (None, 400)               1600      \n",
            "_________________________________________________________________\n",
            "re_lu_8 (ReLU)               (None, 400)               0         \n",
            "_________________________________________________________________\n",
            "dense_11 (Dense)             (None, 9)                 3609      \n",
            "=================================================================\n",
            "Total params: 419,009\n",
            "Trainable params: 416,209\n",
            "Non-trainable params: 2,800\n",
            "_________________________________________________________________\n",
            "{\"class_name\": \"Sequential\", \"config\": {\"name\": \"smaller\", \"layers\": [{\"class_name\": \"Dense\", \"config\": {\"name\": \"dense_8\", \"trainable\": true, \"batch_input_shape\": [null, 14], \"dtype\": \"float32\", \"units\": 600, \"activation\": \"linear\", \"use_bias\": true, \"kernel_initializer\": {\"class_name\": \"VarianceScaling\", \"config\": {\"scale\": 2.0, \"mode\": \"fan_in\", \"distribution\": \"uniform\", \"seed\": null}}, \"bias_initializer\": {\"class_name\": \"Zeros\", \"config\": {}}, \"kernel_regularizer\": null, \"bias_regularizer\": null, \"activity_regularizer\": null, \"kernel_constraint\": null, \"bias_constraint\": null}}, {\"class_name\": \"BatchNormalization\", \"config\": {\"name\": \"batch_normalization_6\", \"trainable\": true, \"dtype\": \"float32\", \"axis\": [1], \"momentum\": 0.99, \"epsilon\": 0.001, \"center\": true, \"scale\": true, \"beta_initializer\": {\"class_name\": \"Zeros\", \"config\": {}}, \"gamma_initializer\": {\"class_name\": \"Ones\", \"config\": {}}, \"moving_mean_initializer\": {\"class_name\": \"Zeros\", \"config\": {}}, \"moving_variance_initializer\": {\"class_name\": \"Ones\", \"config\": {}}, \"beta_regularizer\": null, \"gamma_regularizer\": null, \"beta_constraint\": null, \"gamma_constraint\": null}}, {\"class_name\": \"ReLU\", \"config\": {\"name\": \"re_lu_6\", \"trainable\": true, \"dtype\": \"float32\", \"max_value\": null, \"negative_slope\": 0.0, \"threshold\": 0.0}}, {\"class_name\": \"Dense\", \"config\": {\"name\": \"dense_9\", \"trainable\": true, \"dtype\": \"float32\", \"units\": 400, \"activation\": \"linear\", \"use_bias\": true, \"kernel_initializer\": {\"class_name\": \"VarianceScaling\", \"config\": {\"scale\": 2.0, \"mode\": \"fan_in\", \"distribution\": \"uniform\", \"seed\": null}}, \"bias_initializer\": {\"class_name\": \"Zeros\", \"config\": {}}, \"kernel_regularizer\": null, \"bias_regularizer\": null, \"activity_regularizer\": null, \"kernel_constraint\": null, \"bias_constraint\": null}}, {\"class_name\": \"BatchNormalization\", \"config\": {\"name\": \"batch_normalization_7\", \"trainable\": true, \"dtype\": \"float32\", \"axis\": [1], \"momentum\": 0.99, \"epsilon\": 0.001, \"center\": true, \"scale\": true, \"beta_initializer\": {\"class_name\": \"Zeros\", \"config\": {}}, \"gamma_initializer\": {\"class_name\": \"Ones\", \"config\": {}}, \"moving_mean_initializer\": {\"class_name\": \"Zeros\", \"config\": {}}, \"moving_variance_initializer\": {\"class_name\": \"Ones\", \"config\": {}}, \"beta_regularizer\": null, \"gamma_regularizer\": null, \"beta_constraint\": null, \"gamma_constraint\": null}}, {\"class_name\": \"ReLU\", \"config\": {\"name\": \"re_lu_7\", \"trainable\": true, \"dtype\": \"float32\", \"max_value\": null, \"negative_slope\": 0.0, \"threshold\": 0.0}}, {\"class_name\": \"Dense\", \"config\": {\"name\": \"dense_10\", \"trainable\": true, \"dtype\": \"float32\", \"units\": 400, \"activation\": \"linear\", \"use_bias\": true, \"kernel_initializer\": {\"class_name\": \"VarianceScaling\", \"config\": {\"scale\": 2.0, \"mode\": \"fan_in\", \"distribution\": \"uniform\", \"seed\": null}}, \"bias_initializer\": {\"class_name\": \"Zeros\", \"config\": {}}, \"kernel_regularizer\": null, \"bias_regularizer\": null, \"activity_regularizer\": null, \"kernel_constraint\": null, \"bias_constraint\": null}}, {\"class_name\": \"BatchNormalization\", \"config\": {\"name\": \"batch_normalization_8\", \"trainable\": true, \"dtype\": \"float32\", \"axis\": [1], \"momentum\": 0.99, \"epsilon\": 0.001, \"center\": true, \"scale\": true, \"beta_initializer\": {\"class_name\": \"Zeros\", \"config\": {}}, \"gamma_initializer\": {\"class_name\": \"Ones\", \"config\": {}}, \"moving_mean_initializer\": {\"class_name\": \"Zeros\", \"config\": {}}, \"moving_variance_initializer\": {\"class_name\": \"Ones\", \"config\": {}}, \"beta_regularizer\": null, \"gamma_regularizer\": null, \"beta_constraint\": null, \"gamma_constraint\": null}}, {\"class_name\": \"ReLU\", \"config\": {\"name\": \"re_lu_8\", \"trainable\": true, \"dtype\": \"float32\", \"max_value\": null, \"negative_slope\": 0.0, \"threshold\": 0.0}}, {\"class_name\": \"Dense\", \"config\": {\"name\": \"dense_11\", \"trainable\": true, \"dtype\": \"float32\", \"units\": 9, \"activation\": \"linear\", \"use_bias\": true, \"kernel_initializer\": {\"class_name\": \"GlorotUniform\", \"config\": {\"seed\": null}}, \"bias_initializer\": {\"class_name\": \"Zeros\", \"config\": {}}, \"kernel_regularizer\": null, \"bias_regularizer\": null, \"activity_regularizer\": null, \"kernel_constraint\": null, \"bias_constraint\": null}}]}, \"keras_version\": \"2.2.4-tf\", \"backend\": \"tensorflow\"}\n",
            "(330984, 14) (330984, 9) (146907, 14) (146907, 9)\n"
          ],
          "name": "stdout"
        }
      ]
    },
    {
      "cell_type": "markdown",
      "metadata": {
        "id": "HtFN-OP2HlqQ",
        "colab_type": "text"
      },
      "source": [
        "## train, save and load model"
      ]
    },
    {
      "cell_type": "code",
      "metadata": {
        "id": "DDmtdBRxJKJd",
        "colab_type": "code",
        "colab": {}
      },
      "source": [
        "def train_model(model_tupel, epochs, batch_size):\n",
        "  model_name = model_tupel[0]\n",
        "  keras_model = model_tupel[1]\n",
        "  train_X, train_Y, test_X, test_Y = model_tupel[2]\n",
        "\n",
        "  callbacks = [\n",
        "              #prepare_checkpoint_callback(model_name=model_name),\n",
        "              #prepare_tensorboard_callback(model_name=model_name)\n",
        "              ]\n",
        "\n",
        "  history = keras_model.fit(train_X,\n",
        "                            train_Y,\n",
        "                            epochs=epochs,\n",
        "                            batch_size=batch_size,\n",
        "                            validation_data=(test_X, test_Y),\n",
        "                            verbose=2,\n",
        "                            callbacks=callbacks\n",
        "                            )\n",
        "  return history  \n",
        "\n",
        "def _format_model_path(model_name):\n",
        "  file_name = '{}_end'.format(model_name)\n",
        "  return os.path.join(saved_model_weight_path, file_name)\n",
        "\n",
        "def save_model(model_tupel):\n",
        "  model_name = model_tupel[0]\n",
        "  keras_model = model_tupel[1]\n",
        "  file_path = _format_model_path(model_name)\n",
        "  keras_model.save_weights(file_path)\n",
        "\n",
        "def load_model(model_tupel):\n",
        "  model_name = model_tupel[0]\n",
        "  keras_model = model_tupel[1]\n",
        "  file_path = _format_model_path(model_name)\n",
        "  exact_file_path = file_path + '.index'\n",
        "  if os.path.isfile(exact_file_path):\n",
        "    print('load model {}'.format(model_name))\n",
        "    keras_model.load_weights(file_path)\n",
        "    return True\n",
        "  else:\n",
        "    return False\n",
        "\n",
        "def _format_history_path(model_name):\n",
        "  file_name = '{}_history_dict'.format(model_name)\n",
        "  return os.path.join(results_folder, file_name)\n",
        "  \n",
        "\n",
        "def save_history(model_tupel, history):\n",
        "  file_path = _format_history_path(model_tupel[0])\n",
        "  with open(file_path, 'wb') as file_hist:\n",
        "        pickle.dump(history.history, file_hist)\n",
        "  \n",
        "\n",
        "def load_history(model_tupel):\n",
        "  file_path = _format_history_path(model_tupel[0])\n",
        "  if not os.path.isfile(file_path):\n",
        "    return dict()\n",
        "  with open(file_path, 'rb') as file_hist:\n",
        "    return pickle.load(file_hist)"
      ],
      "execution_count": 0,
      "outputs": []
    },
    {
      "cell_type": "code",
      "metadata": {
        "id": "DxQg934JhE_H",
        "colab_type": "code",
        "outputId": "db50237d-991a-4759-fd34-00722325369c",
        "colab": {
          "base_uri": "https://localhost:8080/",
          "height": 1000
        }
      },
      "source": [
        "histories = []\n",
        "for model in models:\n",
        "  if not load_model(model):\n",
        "    print(model[0])\n",
        "    history = train_model(model, epochs=30, batch_size=64)\n",
        "    save_model(model)\n",
        "    save_history(model, history)\n",
        "    histories.append(history.history)\n",
        "    print('*******************')\n",
        "  else:\n",
        "    history = load_history(model)\n",
        "    histories.append(history)"
      ],
      "execution_count": 0,
      "outputs": [
        {
          "output_type": "stream",
          "text": [
            "baseline\n",
            "Train on 330984 samples, validate on 146907 samples\n",
            "Epoch 1/30\n",
            "330984/330984 - 40s - loss: 0.0033 - mean_squared_error: 0.0033 - mean_absolute_error: 0.0347 - val_loss: 0.0044 - val_mean_squared_error: 0.0044 - val_mean_absolute_error: 0.0535\n",
            "Epoch 2/30\n",
            "330984/330984 - 37s - loss: 0.0011 - mean_squared_error: 0.0011 - mean_absolute_error: 0.0254 - val_loss: 0.0020 - val_mean_squared_error: 0.0020 - val_mean_absolute_error: 0.0368\n",
            "Epoch 3/30\n",
            "330984/330984 - 37s - loss: 7.9329e-04 - mean_squared_error: 7.9329e-04 - mean_absolute_error: 0.0215 - val_loss: 0.0012 - val_mean_squared_error: 0.0012 - val_mean_absolute_error: 0.0300\n",
            "Epoch 4/30\n",
            "330984/330984 - 37s - loss: 5.7949e-04 - mean_squared_error: 5.7949e-04 - mean_absolute_error: 0.0181 - val_loss: 5.3728e-04 - val_mean_squared_error: 5.3728e-04 - val_mean_absolute_error: 0.0191\n",
            "Epoch 5/30\n",
            "330984/330984 - 37s - loss: 4.5170e-04 - mean_squared_error: 4.5170e-04 - mean_absolute_error: 0.0157 - val_loss: 7.6081e-04 - val_mean_squared_error: 7.6081e-04 - val_mean_absolute_error: 0.0229\n",
            "Epoch 6/30\n",
            "330984/330984 - 37s - loss: 3.4290e-04 - mean_squared_error: 3.4290e-04 - mean_absolute_error: 0.0133 - val_loss: 2.4203e-04 - val_mean_squared_error: 2.4203e-04 - val_mean_absolute_error: 0.0117\n",
            "Epoch 7/30\n",
            "330984/330984 - 37s - loss: 2.6779e-04 - mean_squared_error: 2.6779e-04 - mean_absolute_error: 0.0116 - val_loss: 1.9266e-04 - val_mean_squared_error: 1.9266e-04 - val_mean_absolute_error: 0.0104\n",
            "Epoch 8/30\n",
            "330984/330984 - 37s - loss: 2.2109e-04 - mean_squared_error: 2.2109e-04 - mean_absolute_error: 0.0104 - val_loss: 1.8095e-04 - val_mean_squared_error: 1.8095e-04 - val_mean_absolute_error: 0.0099\n",
            "Epoch 9/30\n",
            "330984/330984 - 38s - loss: 1.7782e-04 - mean_squared_error: 1.7782e-04 - mean_absolute_error: 0.0094 - val_loss: 2.0259e-04 - val_mean_squared_error: 2.0259e-04 - val_mean_absolute_error: 0.0100\n",
            "Epoch 10/30\n",
            "330984/330984 - 38s - loss: 1.4998e-04 - mean_squared_error: 1.4998e-04 - mean_absolute_error: 0.0087 - val_loss: 1.8662e-04 - val_mean_squared_error: 1.8662e-04 - val_mean_absolute_error: 0.0101\n",
            "Epoch 11/30\n",
            "330984/330984 - 37s - loss: 1.1774e-04 - mean_squared_error: 1.1774e-04 - mean_absolute_error: 0.0078 - val_loss: 1.6895e-04 - val_mean_squared_error: 1.6895e-04 - val_mean_absolute_error: 0.0088\n",
            "Epoch 12/30\n",
            "330984/330984 - 37s - loss: 8.7643e-05 - mean_squared_error: 8.7643e-05 - mean_absolute_error: 0.0068 - val_loss: 1.4685e-04 - val_mean_squared_error: 1.4685e-04 - val_mean_absolute_error: 0.0091\n",
            "Epoch 13/30\n",
            "330984/330984 - 37s - loss: 6.8768e-05 - mean_squared_error: 6.8768e-05 - mean_absolute_error: 0.0060 - val_loss: 1.1299e-04 - val_mean_squared_error: 1.1299e-04 - val_mean_absolute_error: 0.0075\n",
            "Epoch 14/30\n",
            "330984/330984 - 37s - loss: 6.0304e-05 - mean_squared_error: 6.0304e-05 - mean_absolute_error: 0.0056 - val_loss: 1.3400e-04 - val_mean_squared_error: 1.3400e-04 - val_mean_absolute_error: 0.0085\n",
            "Epoch 15/30\n",
            "330984/330984 - 37s - loss: 5.1875e-05 - mean_squared_error: 5.1875e-05 - mean_absolute_error: 0.0052 - val_loss: 1.0995e-04 - val_mean_squared_error: 1.0995e-04 - val_mean_absolute_error: 0.0079\n",
            "Epoch 16/30\n",
            "330984/330984 - 37s - loss: 4.6153e-05 - mean_squared_error: 4.6153e-05 - mean_absolute_error: 0.0049 - val_loss: 9.8306e-05 - val_mean_squared_error: 9.8306e-05 - val_mean_absolute_error: 0.0063\n",
            "Epoch 17/30\n",
            "330984/330984 - 38s - loss: 4.2757e-05 - mean_squared_error: 4.2757e-05 - mean_absolute_error: 0.0046 - val_loss: 7.2744e-05 - val_mean_squared_error: 7.2744e-05 - val_mean_absolute_error: 0.0056\n",
            "Epoch 18/30\n",
            "330984/330984 - 37s - loss: 3.7431e-05 - mean_squared_error: 3.7431e-05 - mean_absolute_error: 0.0043 - val_loss: 1.1172e-04 - val_mean_squared_error: 1.1172e-04 - val_mean_absolute_error: 0.0069\n",
            "Epoch 19/30\n",
            "330984/330984 - 37s - loss: 3.6263e-05 - mean_squared_error: 3.6263e-05 - mean_absolute_error: 0.0042 - val_loss: 7.0976e-05 - val_mean_squared_error: 7.0976e-05 - val_mean_absolute_error: 0.0053\n",
            "Epoch 20/30\n",
            "330984/330984 - 37s - loss: 3.3786e-05 - mean_squared_error: 3.3786e-05 - mean_absolute_error: 0.0041 - val_loss: 8.2221e-05 - val_mean_squared_error: 8.2221e-05 - val_mean_absolute_error: 0.0057\n",
            "Epoch 21/30\n",
            "330984/330984 - 37s - loss: 3.0853e-05 - mean_squared_error: 3.0853e-05 - mean_absolute_error: 0.0039 - val_loss: 1.0097e-04 - val_mean_squared_error: 1.0097e-04 - val_mean_absolute_error: 0.0067\n",
            "Epoch 22/30\n",
            "330984/330984 - 37s - loss: 3.0505e-05 - mean_squared_error: 3.0505e-05 - mean_absolute_error: 0.0039 - val_loss: 1.0930e-04 - val_mean_squared_error: 1.0930e-04 - val_mean_absolute_error: 0.0074\n",
            "Epoch 23/30\n",
            "330984/330984 - 37s - loss: 2.7815e-05 - mean_squared_error: 2.7814e-05 - mean_absolute_error: 0.0037 - val_loss: 7.6263e-05 - val_mean_squared_error: 7.6263e-05 - val_mean_absolute_error: 0.0057\n",
            "Epoch 24/30\n",
            "330984/330984 - 37s - loss: 2.8293e-05 - mean_squared_error: 2.8293e-05 - mean_absolute_error: 0.0037 - val_loss: 7.0571e-05 - val_mean_squared_error: 7.0571e-05 - val_mean_absolute_error: 0.0052\n",
            "Epoch 25/30\n",
            "330984/330984 - 37s - loss: 2.6460e-05 - mean_squared_error: 2.6460e-05 - mean_absolute_error: 0.0036 - val_loss: 6.2075e-05 - val_mean_squared_error: 6.2075e-05 - val_mean_absolute_error: 0.0048\n",
            "Epoch 26/30\n",
            "330984/330984 - 38s - loss: 2.5139e-05 - mean_squared_error: 2.5139e-05 - mean_absolute_error: 0.0035 - val_loss: 7.5105e-05 - val_mean_squared_error: 7.5105e-05 - val_mean_absolute_error: 0.0054\n",
            "Epoch 27/30\n",
            "330984/330984 - 37s - loss: 2.3951e-05 - mean_squared_error: 2.3951e-05 - mean_absolute_error: 0.0034 - val_loss: 6.1700e-05 - val_mean_squared_error: 6.1700e-05 - val_mean_absolute_error: 0.0046\n",
            "Epoch 28/30\n",
            "330984/330984 - 37s - loss: 2.3840e-05 - mean_squared_error: 2.3840e-05 - mean_absolute_error: 0.0034 - val_loss: 7.8350e-05 - val_mean_squared_error: 7.8350e-05 - val_mean_absolute_error: 0.0059\n",
            "Epoch 29/30\n",
            "330984/330984 - 37s - loss: 2.2435e-05 - mean_squared_error: 2.2435e-05 - mean_absolute_error: 0.0033 - val_loss: 8.3627e-05 - val_mean_squared_error: 8.3627e-05 - val_mean_absolute_error: 0.0063\n",
            "Epoch 30/30\n",
            "330984/330984 - 37s - loss: 2.1738e-05 - mean_squared_error: 2.1738e-05 - mean_absolute_error: 0.0032 - val_loss: 7.1771e-05 - val_mean_squared_error: 7.1771e-05 - val_mean_absolute_error: 0.0055\n",
            "*******************\n",
            "bigger\n",
            "Train on 330984 samples, validate on 146907 samples\n",
            "Epoch 1/30\n",
            "330984/330984 - 38s - loss: 0.0041 - mean_squared_error: 0.0041 - mean_absolute_error: 0.0371 - val_loss: 0.0021 - val_mean_squared_error: 0.0021 - val_mean_absolute_error: 0.0366\n",
            "Epoch 2/30\n",
            "330984/330984 - 37s - loss: 0.0014 - mean_squared_error: 0.0014 - mean_absolute_error: 0.0289 - val_loss: 0.0017 - val_mean_squared_error: 0.0017 - val_mean_absolute_error: 0.0340\n",
            "Epoch 3/30\n",
            "330984/330984 - 36s - loss: 0.0010 - mean_squared_error: 0.0010 - mean_absolute_error: 0.0243 - val_loss: 0.0022 - val_mean_squared_error: 0.0022 - val_mean_absolute_error: 0.0388\n",
            "Epoch 4/30\n",
            "330984/330984 - 37s - loss: 7.2928e-04 - mean_squared_error: 7.2928e-04 - mean_absolute_error: 0.0200 - val_loss: 7.0525e-04 - val_mean_squared_error: 7.0525e-04 - val_mean_absolute_error: 0.0224\n",
            "Epoch 5/30\n",
            "330984/330984 - 37s - loss: 5.0316e-04 - mean_squared_error: 5.0316e-04 - mean_absolute_error: 0.0159 - val_loss: 3.2911e-04 - val_mean_squared_error: 3.2911e-04 - val_mean_absolute_error: 0.0146\n",
            "Epoch 6/30\n",
            "330984/330984 - 37s - loss: 3.7624e-04 - mean_squared_error: 3.7624e-04 - mean_absolute_error: 0.0133 - val_loss: 2.0070e-04 - val_mean_squared_error: 2.0071e-04 - val_mean_absolute_error: 0.0102\n",
            "Epoch 7/30\n",
            "330984/330984 - 36s - loss: 3.1114e-04 - mean_squared_error: 3.1114e-04 - mean_absolute_error: 0.0120 - val_loss: 2.1377e-04 - val_mean_squared_error: 2.1377e-04 - val_mean_absolute_error: 0.0110\n",
            "Epoch 8/30\n",
            "330984/330984 - 37s - loss: 2.7034e-04 - mean_squared_error: 2.7034e-04 - mean_absolute_error: 0.0113 - val_loss: 1.5740e-04 - val_mean_squared_error: 1.5740e-04 - val_mean_absolute_error: 0.0087\n",
            "Epoch 9/30\n",
            "330984/330984 - 37s - loss: 1.9222e-04 - mean_squared_error: 1.9222e-04 - mean_absolute_error: 0.0099 - val_loss: 1.2924e-04 - val_mean_squared_error: 1.2924e-04 - val_mean_absolute_error: 0.0078\n",
            "Epoch 10/30\n",
            "330984/330984 - 37s - loss: 1.2341e-04 - mean_squared_error: 1.2341e-04 - mean_absolute_error: 0.0081 - val_loss: 2.3286e-04 - val_mean_squared_error: 2.3286e-04 - val_mean_absolute_error: 0.0118\n",
            "Epoch 11/30\n",
            "330984/330984 - 37s - loss: 8.8571e-05 - mean_squared_error: 8.8571e-05 - mean_absolute_error: 0.0069 - val_loss: 1.3642e-04 - val_mean_squared_error: 1.3642e-04 - val_mean_absolute_error: 0.0073\n",
            "Epoch 12/30\n",
            "330984/330984 - 36s - loss: 7.2572e-05 - mean_squared_error: 7.2572e-05 - mean_absolute_error: 0.0061 - val_loss: 1.3442e-04 - val_mean_squared_error: 1.3442e-04 - val_mean_absolute_error: 0.0077\n",
            "Epoch 13/30\n",
            "330984/330984 - 38s - loss: 5.7606e-05 - mean_squared_error: 5.7606e-05 - mean_absolute_error: 0.0055 - val_loss: 1.1951e-04 - val_mean_squared_error: 1.1951e-04 - val_mean_absolute_error: 0.0072\n",
            "Epoch 14/30\n",
            "330984/330984 - 36s - loss: 5.1205e-05 - mean_squared_error: 5.1205e-05 - mean_absolute_error: 0.0051 - val_loss: 9.2106e-05 - val_mean_squared_error: 9.2106e-05 - val_mean_absolute_error: 0.0067\n",
            "Epoch 15/30\n",
            "330984/330984 - 37s - loss: 4.4811e-05 - mean_squared_error: 4.4811e-05 - mean_absolute_error: 0.0048 - val_loss: 1.0868e-04 - val_mean_squared_error: 1.0868e-04 - val_mean_absolute_error: 0.0072\n",
            "Epoch 16/30\n",
            "330984/330984 - 36s - loss: 4.0885e-05 - mean_squared_error: 4.0885e-05 - mean_absolute_error: 0.0046 - val_loss: 8.9922e-05 - val_mean_squared_error: 8.9922e-05 - val_mean_absolute_error: 0.0061\n",
            "Epoch 17/30\n",
            "330984/330984 - 37s - loss: 3.8272e-05 - mean_squared_error: 3.8272e-05 - mean_absolute_error: 0.0044 - val_loss: 7.9245e-05 - val_mean_squared_error: 7.9245e-05 - val_mean_absolute_error: 0.0056\n",
            "Epoch 18/30\n",
            "330984/330984 - 36s - loss: 3.5478e-05 - mean_squared_error: 3.5478e-05 - mean_absolute_error: 0.0042 - val_loss: 8.8572e-05 - val_mean_squared_error: 8.8572e-05 - val_mean_absolute_error: 0.0061\n",
            "Epoch 19/30\n",
            "330984/330984 - 36s - loss: 3.2390e-05 - mean_squared_error: 3.2390e-05 - mean_absolute_error: 0.0040 - val_loss: 6.6455e-05 - val_mean_squared_error: 6.6456e-05 - val_mean_absolute_error: 0.0047\n",
            "Epoch 20/30\n",
            "330984/330984 - 36s - loss: 3.0630e-05 - mean_squared_error: 3.0630e-05 - mean_absolute_error: 0.0039 - val_loss: 8.6238e-05 - val_mean_squared_error: 8.6238e-05 - val_mean_absolute_error: 0.0056\n",
            "Epoch 21/30\n",
            "330984/330984 - 37s - loss: 2.9592e-05 - mean_squared_error: 2.9592e-05 - mean_absolute_error: 0.0038 - val_loss: 8.7868e-05 - val_mean_squared_error: 8.7868e-05 - val_mean_absolute_error: 0.0063\n",
            "Epoch 22/30\n",
            "330984/330984 - 36s - loss: 2.8831e-05 - mean_squared_error: 2.8831e-05 - mean_absolute_error: 0.0038 - val_loss: 7.8507e-05 - val_mean_squared_error: 7.8507e-05 - val_mean_absolute_error: 0.0056\n",
            "Epoch 23/30\n",
            "330984/330984 - 36s - loss: 2.6471e-05 - mean_squared_error: 2.6471e-05 - mean_absolute_error: 0.0036 - val_loss: 7.1359e-05 - val_mean_squared_error: 7.1359e-05 - val_mean_absolute_error: 0.0056\n",
            "Epoch 24/30\n",
            "330984/330984 - 36s - loss: 2.6520e-05 - mean_squared_error: 2.6520e-05 - mean_absolute_error: 0.0036 - val_loss: 7.1771e-05 - val_mean_squared_error: 7.1771e-05 - val_mean_absolute_error: 0.0054\n",
            "Epoch 25/30\n",
            "330984/330984 - 36s - loss: 2.5249e-05 - mean_squared_error: 2.5249e-05 - mean_absolute_error: 0.0035 - val_loss: 6.4300e-05 - val_mean_squared_error: 6.4300e-05 - val_mean_absolute_error: 0.0047\n",
            "Epoch 26/30\n",
            "330984/330984 - 36s - loss: 2.3476e-05 - mean_squared_error: 2.3476e-05 - mean_absolute_error: 0.0034 - val_loss: 7.2054e-05 - val_mean_squared_error: 7.2054e-05 - val_mean_absolute_error: 0.0050\n",
            "Epoch 27/30\n",
            "330984/330984 - 36s - loss: 2.3636e-05 - mean_squared_error: 2.3636e-05 - mean_absolute_error: 0.0034 - val_loss: 7.1735e-05 - val_mean_squared_error: 7.1735e-05 - val_mean_absolute_error: 0.0055\n",
            "Epoch 28/30\n",
            "330984/330984 - 36s - loss: 2.2877e-05 - mean_squared_error: 2.2877e-05 - mean_absolute_error: 0.0033 - val_loss: 6.0308e-05 - val_mean_squared_error: 6.0308e-05 - val_mean_absolute_error: 0.0050\n",
            "Epoch 29/30\n",
            "330984/330984 - 36s - loss: 2.2647e-05 - mean_squared_error: 2.2647e-05 - mean_absolute_error: 0.0033 - val_loss: 6.6279e-05 - val_mean_squared_error: 6.6279e-05 - val_mean_absolute_error: 0.0049\n",
            "Epoch 30/30\n",
            "330984/330984 - 37s - loss: 2.1076e-05 - mean_squared_error: 2.1076e-05 - mean_absolute_error: 0.0032 - val_loss: 5.5615e-05 - val_mean_squared_error: 5.5615e-05 - val_mean_absolute_error: 0.0047\n",
            "*******************\n",
            "smaller\n",
            "Train on 330984 samples, validate on 146907 samples\n",
            "Epoch 1/30\n",
            "330984/330984 - 39s - loss: 0.0028 - mean_squared_error: 0.0028 - mean_absolute_error: 0.0323 - val_loss: 0.0019 - val_mean_squared_error: 0.0019 - val_mean_absolute_error: 0.0334\n",
            "Epoch 2/30\n",
            "330984/330984 - 37s - loss: 8.4876e-04 - mean_squared_error: 8.4876e-04 - mean_absolute_error: 0.0224 - val_loss: 4.2993e-04 - val_mean_squared_error: 4.2993e-04 - val_mean_absolute_error: 0.0159\n",
            "Epoch 3/30\n",
            "330984/330984 - 37s - loss: 5.8124e-04 - mean_squared_error: 5.8124e-04 - mean_absolute_error: 0.0184 - val_loss: 7.8010e-04 - val_mean_squared_error: 7.8010e-04 - val_mean_absolute_error: 0.0227\n",
            "Epoch 4/30\n",
            "330984/330984 - 37s - loss: 4.1796e-04 - mean_squared_error: 4.1796e-04 - mean_absolute_error: 0.0155 - val_loss: 3.8869e-04 - val_mean_squared_error: 3.8870e-04 - val_mean_absolute_error: 0.0156\n",
            "Epoch 5/30\n",
            "330984/330984 - 37s - loss: 3.2539e-04 - mean_squared_error: 3.2539e-04 - mean_absolute_error: 0.0134 - val_loss: 1.9085e-04 - val_mean_squared_error: 1.9085e-04 - val_mean_absolute_error: 0.0099\n",
            "Epoch 6/30\n",
            "330984/330984 - 37s - loss: 2.5131e-04 - mean_squared_error: 2.5131e-04 - mean_absolute_error: 0.0116 - val_loss: 2.1244e-04 - val_mean_squared_error: 2.1244e-04 - val_mean_absolute_error: 0.0103\n",
            "Epoch 7/30\n",
            "330984/330984 - 37s - loss: 2.0575e-04 - mean_squared_error: 2.0575e-04 - mean_absolute_error: 0.0104 - val_loss: 2.9792e-04 - val_mean_squared_error: 2.9792e-04 - val_mean_absolute_error: 0.0127\n",
            "Epoch 8/30\n",
            "330984/330984 - 38s - loss: 1.7231e-04 - mean_squared_error: 1.7231e-04 - mean_absolute_error: 0.0094 - val_loss: 1.9275e-04 - val_mean_squared_error: 1.9275e-04 - val_mean_absolute_error: 0.0103\n",
            "Epoch 9/30\n",
            "330984/330984 - 37s - loss: 1.4087e-04 - mean_squared_error: 1.4087e-04 - mean_absolute_error: 0.0085 - val_loss: 2.5680e-04 - val_mean_squared_error: 2.5680e-04 - val_mean_absolute_error: 0.0112\n",
            "Epoch 10/30\n",
            "330984/330984 - 37s - loss: 1.2901e-04 - mean_squared_error: 1.2901e-04 - mean_absolute_error: 0.0082 - val_loss: 1.6316e-04 - val_mean_squared_error: 1.6316e-04 - val_mean_absolute_error: 0.0087\n",
            "Epoch 11/30\n",
            "330984/330984 - 37s - loss: 1.0805e-04 - mean_squared_error: 1.0805e-04 - mean_absolute_error: 0.0075 - val_loss: 1.3142e-04 - val_mean_squared_error: 1.3142e-04 - val_mean_absolute_error: 0.0076\n",
            "Epoch 12/30\n",
            "330984/330984 - 37s - loss: 9.6531e-05 - mean_squared_error: 9.6531e-05 - mean_absolute_error: 0.0071 - val_loss: 1.3058e-04 - val_mean_squared_error: 1.3058e-04 - val_mean_absolute_error: 0.0078\n",
            "Epoch 13/30\n",
            "330984/330984 - 37s - loss: 8.4241e-05 - mean_squared_error: 8.4241e-05 - mean_absolute_error: 0.0066 - val_loss: 1.3849e-04 - val_mean_squared_error: 1.3849e-04 - val_mean_absolute_error: 0.0078\n",
            "Epoch 14/30\n",
            "330984/330984 - 37s - loss: 7.4029e-05 - mean_squared_error: 7.4029e-05 - mean_absolute_error: 0.0062 - val_loss: 1.0857e-04 - val_mean_squared_error: 1.0857e-04 - val_mean_absolute_error: 0.0067\n",
            "Epoch 15/30\n",
            "330984/330984 - 37s - loss: 6.6206e-05 - mean_squared_error: 6.6206e-05 - mean_absolute_error: 0.0059 - val_loss: 2.0423e-04 - val_mean_squared_error: 2.0423e-04 - val_mean_absolute_error: 0.0098\n",
            "Epoch 16/30\n",
            "330984/330984 - 38s - loss: 5.7824e-05 - mean_squared_error: 5.7824e-05 - mean_absolute_error: 0.0055 - val_loss: 1.0307e-04 - val_mean_squared_error: 1.0307e-04 - val_mean_absolute_error: 0.0062\n",
            "Epoch 17/30\n",
            "330984/330984 - 37s - loss: 5.2278e-05 - mean_squared_error: 5.2278e-05 - mean_absolute_error: 0.0052 - val_loss: 1.1690e-04 - val_mean_squared_error: 1.1690e-04 - val_mean_absolute_error: 0.0075\n",
            "Epoch 18/30\n",
            "330984/330984 - 37s - loss: 4.6796e-05 - mean_squared_error: 4.6796e-05 - mean_absolute_error: 0.0049 - val_loss: 1.2690e-04 - val_mean_squared_error: 1.2690e-04 - val_mean_absolute_error: 0.0068\n",
            "Epoch 19/30\n",
            "330984/330984 - 37s - loss: 4.5049e-05 - mean_squared_error: 4.5049e-05 - mean_absolute_error: 0.0048 - val_loss: 1.1115e-04 - val_mean_squared_error: 1.1115e-04 - val_mean_absolute_error: 0.0064\n",
            "Epoch 20/30\n",
            "330984/330984 - 37s - loss: 4.0510e-05 - mean_squared_error: 4.0510e-05 - mean_absolute_error: 0.0046 - val_loss: 1.2693e-04 - val_mean_squared_error: 1.2693e-04 - val_mean_absolute_error: 0.0074\n",
            "Epoch 21/30\n",
            "330984/330984 - 37s - loss: 3.7606e-05 - mean_squared_error: 3.7606e-05 - mean_absolute_error: 0.0044 - val_loss: 1.3223e-04 - val_mean_squared_error: 1.3223e-04 - val_mean_absolute_error: 0.0072\n",
            "Epoch 22/30\n",
            "330984/330984 - 37s - loss: 3.7064e-05 - mean_squared_error: 3.7064e-05 - mean_absolute_error: 0.0044 - val_loss: 9.4098e-05 - val_mean_squared_error: 9.4098e-05 - val_mean_absolute_error: 0.0058\n",
            "Epoch 23/30\n",
            "330984/330984 - 37s - loss: 3.4695e-05 - mean_squared_error: 3.4695e-05 - mean_absolute_error: 0.0042 - val_loss: 1.2301e-04 - val_mean_squared_error: 1.2301e-04 - val_mean_absolute_error: 0.0067\n",
            "Epoch 24/30\n",
            "330984/330984 - 37s - loss: 3.3148e-05 - mean_squared_error: 3.3148e-05 - mean_absolute_error: 0.0041 - val_loss: 9.1240e-05 - val_mean_squared_error: 9.1240e-05 - val_mean_absolute_error: 0.0062\n",
            "Epoch 25/30\n",
            "330984/330984 - 37s - loss: 3.1752e-05 - mean_squared_error: 3.1752e-05 - mean_absolute_error: 0.0040 - val_loss: 1.1011e-04 - val_mean_squared_error: 1.1011e-04 - val_mean_absolute_error: 0.0063\n",
            "Epoch 26/30\n",
            "330984/330984 - 37s - loss: 2.9699e-05 - mean_squared_error: 2.9699e-05 - mean_absolute_error: 0.0039 - val_loss: 1.0732e-04 - val_mean_squared_error: 1.0732e-04 - val_mean_absolute_error: 0.0063\n",
            "Epoch 27/30\n",
            "330984/330984 - 37s - loss: 2.9265e-05 - mean_squared_error: 2.9265e-05 - mean_absolute_error: 0.0038 - val_loss: 1.1353e-04 - val_mean_squared_error: 1.1353e-04 - val_mean_absolute_error: 0.0064\n",
            "Epoch 28/30\n",
            "330984/330984 - 37s - loss: 2.8651e-05 - mean_squared_error: 2.8651e-05 - mean_absolute_error: 0.0038 - val_loss: 1.0829e-04 - val_mean_squared_error: 1.0829e-04 - val_mean_absolute_error: 0.0065\n",
            "Epoch 29/30\n",
            "330984/330984 - 37s - loss: 2.7179e-05 - mean_squared_error: 2.7179e-05 - mean_absolute_error: 0.0037 - val_loss: 9.8890e-05 - val_mean_squared_error: 9.8890e-05 - val_mean_absolute_error: 0.0060\n",
            "Epoch 30/30\n",
            "330984/330984 - 37s - loss: 2.6203e-05 - mean_squared_error: 2.6203e-05 - mean_absolute_error: 0.0036 - val_loss: 7.8605e-05 - val_mean_squared_error: 7.8605e-05 - val_mean_absolute_error: 0.0051\n",
            "*******************\n"
          ],
          "name": "stdout"
        }
      ]
    },
    {
      "cell_type": "markdown",
      "metadata": {
        "id": "XRLpUIJnZ-eq",
        "colab_type": "text"
      },
      "source": [
        "## visualize"
      ]
    },
    {
      "cell_type": "markdown",
      "metadata": {
        "id": "8X1nsxWEO59n",
        "colab_type": "text"
      },
      "source": [
        "### Test & Training Loss"
      ]
    },
    {
      "cell_type": "code",
      "metadata": {
        "id": "q7eOZ0lAe1CP",
        "colab_type": "code",
        "outputId": "3ccd46f5-c151-412d-a212-bc7468dc8846",
        "colab": {
          "base_uri": "https://localhost:8080/",
          "height": 178
        }
      },
      "source": [
        "for i, history in enumerate(histories):\n",
        "  last_loss = history['loss'][-1]\n",
        "  last_val_loss = history['val_loss'][-1]\n",
        "  model_name = models[i][0]\n",
        "  print('{} model last loss: {}'.format(model_name,last_loss))\n",
        "  print('{} model last val loss: {}'.format(model_name,last_val_loss))\n",
        "  print('*******')"
      ],
      "execution_count": 0,
      "outputs": [
        {
          "output_type": "stream",
          "text": [
            "baseline model last loss: 2.1737792101892417e-05\n",
            "baseline model last val loss: 7.177138656315764e-05\n",
            "*******\n",
            "bigger model last loss: 2.1076007996481955e-05\n",
            "bigger model last val loss: 5.5615317633272435e-05\n",
            "*******\n",
            "smaller model last loss: 2.6203176058980836e-05\n",
            "smaller model last val loss: 7.860530174445859e-05\n",
            "*******\n"
          ],
          "name": "stdout"
        }
      ]
    },
    {
      "cell_type": "code",
      "metadata": {
        "id": "gbFhTgXGITKV",
        "colab_type": "code",
        "outputId": "d809073f-c748-4fd8-8124-f00ac491df2b",
        "colab": {
          "base_uri": "https://localhost:8080/",
          "height": 606
        }
      },
      "source": [
        "pas_history(models, histories=histories)"
      ],
      "execution_count": 0,
      "outputs": [
        {
          "output_type": "display_data",
          "data": {
            "image/png": "[encoded data removed]",
            "text/plain": [
              "<Figure size 1152x720 with 1 Axes>"
            ]
          },
          "metadata": {
            "tags": []
          }
        }
      ]
    },
    {
      "cell_type": "markdown",
      "metadata": {
        "id": "4vT7MLiJPSQ2",
        "colab_type": "text"
      },
      "source": [
        "\n",
        "### MSE per target (scaled)"
      ]
    },
    {
      "cell_type": "code",
      "metadata": {
        "id": "o03Cq_x5nhRe",
        "colab_type": "code",
        "outputId": "e080e470-c683-4de2-8c5d-e9dc66e0f044",
        "colab": {
          "base_uri": "https://localhost:8080/",
          "height": 928
        }
      },
      "source": [
        "for model_tupel in models:\n",
        "  df = pas_metrics_scaled(model_tupel)\n",
        "  print(model_tupel[0])\n",
        "  with pd.option_context('display.max_rows', None, 'display.max_columns', None,\n",
        "                         'display.width', 1000): \n",
        "    print(df)\n",
        "  print('*********************************************************')"
      ],
      "execution_count": 0,
      "outputs": [
        {
          "output_type": "stream",
          "text": [
            "baseline\n",
            "          Vtrue,_ktas      __VVI,__fpm      ____Q,rad/s      ____P,rad/s      ____R,rad/s      pitch,__deg      _roll,__deg      _beta,__deg      __alt,ftmsl \n",
            "count    146907.000000    146907.000000    146907.000000    146907.000000    146907.000000    146907.000000    146907.000000    146907.000000    146907.000000\n",
            "mean          0.504412         0.737227         0.570341         0.485060         0.485233         0.531587         0.464654         0.620080         0.541116\n",
            "std           0.106511         0.106115         0.096593         0.137143         0.297851         0.109146         0.243538         0.211064         0.313282\n",
            "min          -0.145712         0.315198         0.075314        -0.114067         0.001815         0.194934         0.019929        -0.224448         0.020174\n",
            "25%           0.491325         0.719309         0.483381         0.478066         0.141444         0.498651         0.178618         0.402814         0.258517\n",
            "50%           0.516065         0.736735         0.612474         0.485824         0.495373         0.523474         0.475117         0.619407         0.502333\n",
            "75%           0.540668         0.757760         0.622681         0.493745         0.817728         0.538931         0.733206         0.857215         0.743406\n",
            "max           0.863996         1.112528         0.958919         1.093909         0.990564         1.288604         0.928746         1.008269         0.980654\n",
            "mses          0.000075         0.000111         0.000053         0.000040         0.000092         0.000103         0.000080         0.000045         0.000046\n",
            "rmes          0.008685         0.010543         0.007286         0.006350         0.009582         0.010161         0.008967         0.006683         0.006768\n",
            "maes          0.005608         0.006680         0.004668         0.004180         0.006997         0.005957         0.006553         0.004482         0.004596\n",
            "mse           0.000072         0.000072         0.000072         0.000072         0.000072         0.000072         0.000072         0.000072         0.000072\n",
            "rme           0.008472         0.008472         0.008472         0.008472         0.008472         0.008472         0.008472         0.008472         0.008472\n",
            "mae           0.005524         0.005524         0.005524         0.005524         0.005524         0.005524         0.005524         0.005524         0.005524\n",
            "*********************************************************\n",
            "bigger\n",
            "          Vtrue,_ktas      __VVI,__fpm      ____Q,rad/s      ____P,rad/s      ____R,rad/s      pitch,__deg      _roll,__deg      _beta,__deg      __alt,ftmsl \n",
            "count    146907.000000    146907.000000    146907.000000    146907.000000    146907.000000    146907.000000    146907.000000    146907.000000    146907.000000\n",
            "mean          0.504412         0.737227         0.570341         0.485060         0.485233         0.531587         0.464654         0.620080         0.541116\n",
            "std           0.106511         0.106115         0.096593         0.137143         0.297851         0.109146         0.243538         0.211064         0.313282\n",
            "min          -0.145712         0.315198         0.075314        -0.114067         0.001815         0.194934         0.019929        -0.224448         0.020174\n",
            "25%           0.491325         0.719309         0.483381         0.478066         0.141444         0.498651         0.178618         0.402814         0.258517\n",
            "50%           0.516065         0.736735         0.612474         0.485824         0.495373         0.523474         0.475117         0.619407         0.502333\n",
            "75%           0.540668         0.757760         0.622681         0.493745         0.817728         0.538931         0.733206         0.857215         0.743406\n",
            "max           0.863996         1.112528         0.958919         1.093909         0.990564         1.288604         0.928746         1.008269         0.980654\n",
            "mses          0.000075         0.000108         0.000042         0.000046         0.000034         0.000075         0.000041         0.000038         0.000040\n",
            "rmes          0.008680         0.010400         0.006493         0.006783         0.005870         0.008671         0.006430         0.006162         0.006318\n",
            "maes          0.005634         0.005529         0.003841         0.005434         0.004145         0.005117         0.004306         0.003244         0.004643\n",
            "mse           0.000056         0.000056         0.000056         0.000056         0.000056         0.000056         0.000056         0.000056         0.000056\n",
            "rme           0.007458         0.007458         0.007458         0.007458         0.007458         0.007458         0.007458         0.007458         0.007458\n",
            "mae           0.004655         0.004655         0.004655         0.004655         0.004655         0.004655         0.004655         0.004655         0.004655\n",
            "*********************************************************\n",
            "smaller\n",
            "          Vtrue,_ktas      __VVI,__fpm      ____Q,rad/s      ____P,rad/s      ____R,rad/s      pitch,__deg      _roll,__deg      _beta,__deg      __alt,ftmsl \n",
            "count    146907.000000    146907.000000    146907.000000    146907.000000    146907.000000    146907.000000    146907.000000    146907.000000    146907.000000\n",
            "mean          0.504412         0.737227         0.570341         0.485060         0.485233         0.531587         0.464654         0.620080         0.541116\n",
            "std           0.106511         0.106115         0.096593         0.137143         0.297851         0.109146         0.243538         0.211064         0.313282\n",
            "min          -0.145712         0.315198         0.075314        -0.114067         0.001815         0.194934         0.019929        -0.224448         0.020174\n",
            "25%           0.491325         0.719309         0.483381         0.478066         0.141444         0.498651         0.178618         0.402814         0.258517\n",
            "50%           0.516065         0.736735         0.612474         0.485824         0.495373         0.523474         0.475117         0.619407         0.502333\n",
            "75%           0.540668         0.757760         0.622681         0.493745         0.817728         0.538931         0.733206         0.857215         0.743406\n",
            "max           0.863996         1.112528         0.958919         1.093909         0.990564         1.288604         0.928746         1.008269         0.980654\n",
            "mses          0.000141         0.000108         0.000078         0.000028         0.000091         0.000092         0.000059         0.000074         0.000034\n",
            "rmes          0.011886         0.010398         0.008856         0.005303         0.009556         0.009603         0.007703         0.008629         0.005847\n",
            "maes          0.007725         0.005851         0.006301         0.003347         0.005107         0.005184         0.004570         0.004038         0.003879\n",
            "mse           0.000079         0.000079         0.000079         0.000079         0.000079         0.000079         0.000079         0.000079         0.000079\n",
            "rme           0.008866         0.008866         0.008866         0.008866         0.008866         0.008866         0.008866         0.008866         0.008866\n",
            "mae           0.005111         0.005111         0.005111         0.005111         0.005111         0.005111         0.005111         0.005111         0.005111\n",
            "*********************************************************\n"
          ],
          "name": "stdout"
        }
      ]
    },
    {
      "cell_type": "markdown",
      "metadata": {
        "id": "bVhouDRRpewh",
        "colab_type": "text"
      },
      "source": [
        "### MSE per target (unscaled)"
      ]
    },
    {
      "cell_type": "code",
      "metadata": {
        "id": "crfMWfnKuAXz",
        "colab_type": "code",
        "outputId": "65254af6-84b7-4411-fd2d-876e7d64ac9b",
        "colab": {
          "base_uri": "https://localhost:8080/",
          "height": 35
        }
      },
      "source": [
        "models[1][0]"
      ],
      "execution_count": 0,
      "outputs": [
        {
          "output_type": "execute_result",
          "data": {
            "text/plain": [
              "'bigger'"
            ]
          },
          "metadata": {
            "tags": []
          },
          "execution_count": 23
        }
      ]
    },
    {
      "cell_type": "code",
      "metadata": {
        "id": "oTTBfKRgRnTP",
        "colab_type": "code",
        "outputId": "77662b72-c9c8-4a4a-c30c-a4a2f1fa4c13",
        "colab": {
          "base_uri": "https://localhost:8080/",
          "height": 928
        }
      },
      "source": [
        "for model_tupel in models:\n",
        "  df = pas_metrics(model_tupel)\n",
        "  print(model_tupel[0])\n",
        "  with pd.option_context('display.max_rows', None, 'display.max_columns', None,\n",
        "                        'display.width', 1000):  \n",
        "    print(df)\n",
        "  print('*********************************************************')"
      ],
      "execution_count": 0,
      "outputs": [
        {
          "output_type": "stream",
          "text": [
            "baseline\n",
            "          Vtrue,_ktas      __VVI,__fpm      ____Q,rad/s      ____P,rad/s      ____R,rad/s      pitch,__deg      _roll,__deg      _beta,__deg      __alt,ftmsl \n",
            "count    146907.000000    146907.000000     1.469070e+05    146907.000000    146907.000000    146907.000000    146907.000000    146907.000000    146907.000000\n",
            "mean        116.933735         1.454978     7.135510e-03        -0.000140        -0.001338        -0.605152        -0.722674         0.024940      3118.794644\n",
            "std           8.275017       276.265852     7.759326e-03         0.025104         0.032829         1.788004        12.122463         0.178670      1339.530659\n",
            "min          66.424780     -1097.281130    -3.263000e-02        -0.109810        -0.054620        -6.120130       -22.859510        -0.689970       891.350710\n",
            "25%         115.917000       -45.193610     1.500000e-04        -0.001420        -0.039230        -1.144705       -14.960540        -0.158980      1910.458070\n",
            "50%         117.839070         0.174230     1.052000e-02         0.000000        -0.000220        -0.738060        -0.201880         0.024370      2952.964840\n",
            "75%         119.750560        54.913025     1.134000e-02         0.001450         0.035310        -0.484845        12.644855         0.225680      3983.743410\n",
            "max         144.870320       978.538330     3.835000e-02         0.111310         0.054360        11.796170        22.378150         0.353550      4998.167480\n",
            "mses          0.455289       753.354787     3.425999e-07         0.000001         0.000001         0.027708         0.199230         0.000032       837.538498\n",
            "rmes          0.674751        27.447309     5.853203e-04         0.001162         0.001056         0.166458         0.446352         0.005657        28.940257\n",
            "maes          0.435707        17.390710     3.749511e-04         0.000765         0.000771         0.097585         0.326206         0.003794        19.650583\n",
            "mse         176.841727       176.841727     1.768417e+02       176.841727       176.841727       176.841727       176.841727       176.841727       176.841727\n",
            "rme          13.298185        13.298185     1.329819e+01        13.298185        13.298185        13.298185        13.298185        13.298185        13.298185\n",
            "mae           4.211833         4.211833     4.211833e+00         4.211833         4.211833         4.211833         4.211833         4.211833         4.211833\n",
            "*********************************************************\n",
            "bigger\n",
            "          Vtrue,_ktas      __VVI,__fpm      ____Q,rad/s      ____P,rad/s      ____R,rad/s      pitch,__deg      _roll,__deg      _beta,__deg      __alt,ftmsl \n",
            "count    146907.000000    146907.000000     1.469070e+05    146907.000000     1.469070e+05    146907.000000    146907.000000    146907.000000    146907.000000\n",
            "mean        116.933735         1.454978     7.135510e-03        -0.000140    -1.337600e-03        -0.605152        -0.722674         0.024940      3118.794644\n",
            "std           8.275017       276.265852     7.759326e-03         0.025104     3.282916e-02         1.788004        12.122463         0.178670      1339.530659\n",
            "min          66.424780     -1097.281130    -3.263000e-02        -0.109810    -5.462000e-02        -6.120130       -22.859510        -0.689970       891.350710\n",
            "25%         115.917000       -45.193610     1.500000e-04        -0.001420    -3.923000e-02        -1.144705       -14.960540        -0.158980      1910.458070\n",
            "50%         117.839070         0.174230     1.052000e-02         0.000000    -2.200000e-04        -0.738060        -0.201880         0.024370      2952.964840\n",
            "75%         119.750560        54.913025     1.134000e-02         0.001450     3.531000e-02        -0.484845        12.644855         0.225680      3983.743410\n",
            "max         144.870320       978.538330     3.835000e-02         0.111310     5.436000e-02        11.796170        22.378150         0.353550      4998.167480\n",
            "mses          0.454715       733.119314     2.720288e-07         0.000002     4.186467e-07         0.020178         0.102425         0.000027       729.747139\n",
            "rmes          0.674325        27.076176     5.215638e-04         0.001242     6.470292e-04         0.142048         0.320039         0.005217        27.013832\n",
            "maes          0.437700        14.393475     3.085295e-04         0.000995     4.568384e-04         0.083818         0.214316         0.002746        19.853147\n",
            "mse         162.604867       162.604867     1.626049e+02       162.604867     1.626049e+02       162.604867       162.604867       162.604867       162.604867\n",
            "rme          12.751661        12.751661     1.275166e+01        12.751661     1.275166e+01        12.751661        12.751661        12.751661        12.751661\n",
            "mae           3.887440         3.887440     3.887440e+00         3.887440     3.887440e+00         3.887440         3.887440         3.887440         3.887440\n",
            "*********************************************************\n",
            "smaller\n",
            "          Vtrue,_ktas      __VVI,__fpm      ____Q,rad/s      ____P,rad/s      ____R,rad/s      pitch,__deg      _roll,__deg      _beta,__deg      __alt,ftmsl \n",
            "count    146907.000000    146907.000000     1.469070e+05     1.469070e+05    146907.000000    146907.000000    146907.000000    146907.000000    146907.000000\n",
            "mean        116.933735         1.454978     7.135510e-03    -1.397062e-04        -0.001338        -0.605152        -0.722674         0.024940      3118.794644\n",
            "std           8.275017       276.265852     7.759326e-03     2.510405e-02         0.032829         1.788004        12.122463         0.178670      1339.530659\n",
            "min          66.424780     -1097.281130    -3.263000e-02    -1.098100e-01        -0.054620        -6.120130       -22.859510        -0.689970       891.350710\n",
            "25%         115.917000       -45.193610     1.500000e-04    -1.420000e-03        -0.039230        -1.144705       -14.960540        -0.158980      1910.458070\n",
            "50%         117.839070         0.174230     1.052000e-02     0.000000e+00        -0.000220        -0.738060        -0.201880         0.024370      2952.964840\n",
            "75%         119.750560        54.913025     1.134000e-02     1.450000e-03         0.035310        -0.484845        12.644855         0.225680      3983.743410\n",
            "max         144.870320       978.538330     3.835000e-02     1.113100e-01         0.054360        11.796170        22.378150         0.353550      4998.167480\n",
            "mses          0.852692       732.809785     5.060991e-07     9.423869e-07         0.000001         0.024745         0.147032         0.000053       624.956447\n",
            "rmes          0.923413        27.070460     7.114065e-04     9.707661e-04         0.001053         0.157307         0.383447         0.007305        24.999129\n",
            "maes          0.600168        15.233447     5.061811e-04     6.126378e-04         0.000563         0.084929         0.227490         0.003418        16.584744\n",
            "mse         150.976751       150.976751     1.509768e+02     1.509768e+02       150.976751       150.976751       150.976751       150.976751       150.976751\n",
            "rme          12.287260        12.287260     1.228726e+01     1.228726e+01        12.287260        12.287260        12.287260        12.287260        12.287260\n",
            "mae           3.637320         3.637320     3.637320e+00     3.637320e+00         3.637320         3.637320         3.637320         3.637320         3.637320\n",
            "*********************************************************\n"
          ],
          "name": "stdout"
        }
      ]
    },
    {
      "cell_type": "markdown",
      "metadata": {
        "id": "mKtWiYSYjKJp",
        "colab_type": "text"
      },
      "source": [
        "#latex formatted\n"
      ]
    },
    {
      "cell_type": "code",
      "metadata": {
        "id": "x372S3zt0XoH",
        "colab_type": "code",
        "colab": {}
      },
      "source": [
        "def _df_prediction_metrics_all(model_tupel, scaled):\n",
        "  \n",
        "  model_name =  model_tupel[0]\n",
        "  model = model_tupel[1]\n",
        "  train_X, train_Y, test_X, test_Y = model_tupel[2]\n",
        "  cols_label = model_tupel[4]\n",
        "\n",
        "\n",
        "  pred_Y = model.predict(test_X)\n",
        "  \n",
        "  if scaled:\n",
        "    truth_Y = test_Y\n",
        "  else:\n",
        "    label_scaler = model_tupel[3]\n",
        "    pred_Y = label_scaler.inverse_transform(pred_Y)\n",
        "    truth_Y = label_scaler.inverse_transform(test_Y)\n",
        "\n",
        "  df_describe = pd.DataFrame(truth_Y,columns=cols_label).describe()\n",
        "  mses = mean_squared_error(truth_Y, pred_Y, multioutput='raw_values')\n",
        "  #rmses = np.array([math.sqrt(mse) for mse in mses])\n",
        "  #maes = mean_absolute_error(truth_Y, pred_Y, multioutput='raw_values')\n",
        "  # average over list should do the job as well\n",
        "  mse = mean_squared_error(truth_Y, pred_Y)\n",
        "  rmse = math.sqrt(mse)\n",
        "  mae = mean_absolute_error(truth_Y, pred_Y)\n",
        "\n",
        "\n",
        "  df_mse_per_feature = pd.DataFrame(data=mses.reshape(1,-1),    # values\n",
        "            index=[model_name],     # index\n",
        "            columns=cols_label)  #  column names\n",
        "  \n",
        "  df_mse_per_feature['MSE'] = mse\n",
        "  df_mse_per_feature['RMSE'] = rmse\n",
        "  df_mse_per_feature['MAE'] = mae\n",
        "\n",
        "\n",
        "  #df_rmse_per_feature = pd.DataFrame(data=rmses.reshape(1,-1),    # values\n",
        "   #     index=['rmes'],     # index\n",
        "  #      columns=cols_label)  #  column names\n",
        "  #df_mae_per_feature = pd.DataFrame(data=maes.reshape(1,-1),    # values\n",
        "    #    index=['maes'],     # index\n",
        "   #     columns=cols_label)  #  column names\n",
        "  \n",
        "  return df_mse_per_feature\n",
        "\n",
        "\n",
        "def pas_metrics_all(models):\n",
        "  cols_trans = ['MSE', 'RMSE', 'MAE', col_vv,col_alt, col_v]\n",
        "  cols_rot = [col_roll_deg, col_pitch_deg, col_yaw_deg, col_pitch_v, col_yaw_v, col_roll_v]\n",
        "  rows_trans = []\n",
        "  rows_rot = []\n",
        "\n",
        "  for model_tupel in models:\n",
        "    model_row = _df_prediction_metrics_all(model_tupel, scaled=False)\n",
        "    rows_trans.append(model_row[cols_trans])\n",
        "    rows_rot.append(model_row[cols_rot])\n",
        "\n",
        "  df_trans = pd.concat(rows_trans).round(2)\n",
        "  file_path = os.path.join(results_folder, 'all_mse_trans' + '.csv')\n",
        "  df_trans.to_csv(path_or_buf=file_path)\n",
        "  \n",
        "  df_rot = pd.concat(rows_rot).round(10)\n",
        "  file_path = os.path.join(results_folder, 'all_mse_rot' + '.csv')\n",
        "  df_rot.to_csv(path_or_buf=file_path)\n",
        "  return df_trans, df_rot\n",
        "\n",
        "\n",
        "df_trans, df_rot = pas_metrics_all(models)"
      ],
      "execution_count": 0,
      "outputs": []
    },
    {
      "cell_type": "code",
      "metadata": {
        "id": "srUx1ixdEobz",
        "colab_type": "code",
        "outputId": "bfb9859b-5fe9-4c92-95de-7a267df0ae53",
        "colab": {
          "base_uri": "https://localhost:8080/",
          "height": 143
        }
      },
      "source": [
        "df_trans"
      ],
      "execution_count": 0,
      "outputs": [
        {
          "output_type": "execute_result",
          "data": {
            "text/html": [
              "<div>\n",
              "<style scoped>\n",
              "    .dataframe tbody tr th:only-of-type {\n",
              "        vertical-align: middle;\n",
              "    }\n",
              "\n",
              "    .dataframe tbody tr th {\n",
              "        vertical-align: top;\n",
              "    }\n",
              "\n",
              "    .dataframe thead th {\n",
              "        text-align: right;\n",
              "    }\n",
              "</style>\n",
              "<table border=\"1\" class=\"dataframe\">\n",
              "  <thead>\n",
              "    <tr style=\"text-align: right;\">\n",
              "      <th></th>\n",
              "      <th>MSE</th>\n",
              "      <th>RMSE</th>\n",
              "      <th>MAE</th>\n",
              "      <th>__VVI,__fpm</th>\n",
              "      <th>__alt,ftmsl</th>\n",
              "      <th>Vtrue,_ktas</th>\n",
              "    </tr>\n",
              "  </thead>\n",
              "  <tbody>\n",
              "    <tr>\n",
              "      <th>baseline</th>\n",
              "      <td>176.84</td>\n",
              "      <td>13.30</td>\n",
              "      <td>4.21</td>\n",
              "      <td>753.35</td>\n",
              "      <td>837.54</td>\n",
              "      <td>0.46</td>\n",
              "    </tr>\n",
              "    <tr>\n",
              "      <th>bigger</th>\n",
              "      <td>162.60</td>\n",
              "      <td>12.75</td>\n",
              "      <td>3.89</td>\n",
              "      <td>733.12</td>\n",
              "      <td>729.75</td>\n",
              "      <td>0.45</td>\n",
              "    </tr>\n",
              "    <tr>\n",
              "      <th>smaller</th>\n",
              "      <td>150.98</td>\n",
              "      <td>12.29</td>\n",
              "      <td>3.64</td>\n",
              "      <td>732.81</td>\n",
              "      <td>624.96</td>\n",
              "      <td>0.85</td>\n",
              "    </tr>\n",
              "  </tbody>\n",
              "</table>\n",
              "</div>"
            ],
            "text/plain": [
              "             MSE   RMSE  ...     __alt,ftmsl      Vtrue,_ktas \n",
              "baseline  176.84  13.30  ...           837.54             0.46\n",
              "bigger    162.60  12.75  ...           729.75             0.45\n",
              "smaller   150.98  12.29  ...           624.96             0.85\n",
              "\n",
              "[3 rows x 6 columns]"
            ]
          },
          "metadata": {
            "tags": []
          },
          "execution_count": 132
        }
      ]
    },
    {
      "cell_type": "code",
      "metadata": {
        "id": "ktZVFuJ2EoPN",
        "colab_type": "code",
        "outputId": "6c1af28f-f4ca-4903-eb01-abda7d10edfb",
        "colab": {
          "base_uri": "https://localhost:8080/",
          "height": 143
        }
      },
      "source": [
        "df_rot.round(10)"
      ],
      "execution_count": 0,
      "outputs": [
        {
          "output_type": "execute_result",
          "data": {
            "text/html": [
              "<div>\n",
              "<style scoped>\n",
              "    .dataframe tbody tr th:only-of-type {\n",
              "        vertical-align: middle;\n",
              "    }\n",
              "\n",
              "    .dataframe tbody tr th {\n",
              "        vertical-align: top;\n",
              "    }\n",
              "\n",
              "    .dataframe thead th {\n",
              "        text-align: right;\n",
              "    }\n",
              "</style>\n",
              "<table border=\"1\" class=\"dataframe\">\n",
              "  <thead>\n",
              "    <tr style=\"text-align: right;\">\n",
              "      <th></th>\n",
              "      <th>_roll,__deg</th>\n",
              "      <th>pitch,__deg</th>\n",
              "      <th>_beta,__deg</th>\n",
              "      <th>____P,rad/s</th>\n",
              "      <th>____Q,rad/s</th>\n",
              "      <th>____R,rad/s</th>\n",
              "    </tr>\n",
              "  </thead>\n",
              "  <tbody>\n",
              "    <tr>\n",
              "      <th>baseline</th>\n",
              "      <td>0.19923</td>\n",
              "      <td>0.02771</td>\n",
              "      <td>0.00003</td>\n",
              "      <td>0.00000</td>\n",
              "      <td>0.00000</td>\n",
              "      <td>0.00000</td>\n",
              "    </tr>\n",
              "    <tr>\n",
              "      <th>bigger</th>\n",
              "      <td>0.10242</td>\n",
              "      <td>0.02018</td>\n",
              "      <td>0.00003</td>\n",
              "      <td>0.00000</td>\n",
              "      <td>0.00000</td>\n",
              "      <td>0.00000</td>\n",
              "    </tr>\n",
              "    <tr>\n",
              "      <th>smaller</th>\n",
              "      <td>0.14703</td>\n",
              "      <td>0.02475</td>\n",
              "      <td>0.00005</td>\n",
              "      <td>0.00000</td>\n",
              "      <td>0.00000</td>\n",
              "      <td>0.00000</td>\n",
              "    </tr>\n",
              "  </tbody>\n",
              "</table>\n",
              "</div>"
            ],
            "text/plain": [
              "             _roll,__deg      pitch,__deg   ...     ____Q,rad/s      ____R,rad/s \n",
              "baseline          0.19923          0.02771  ...          0.00000          0.00000\n",
              "bigger            0.10242          0.02018  ...          0.00000          0.00000\n",
              "smaller           0.14703          0.02475  ...          0.00000          0.00000\n",
              "\n",
              "[3 rows x 6 columns]"
            ]
          },
          "metadata": {
            "tags": []
          },
          "execution_count": 141
        }
      ]
    },
    {
      "cell_type": "code",
      "metadata": {
        "id": "WgK03QWILdSm",
        "colab_type": "code",
        "outputId": "e410bbb4-26d0-4fe0-cf25-963cfd51abb9",
        "colab": {
          "base_uri": "https://localhost:8080/",
          "height": 143
        }
      },
      "source": [
        "df_rot"
      ],
      "execution_count": 0,
      "outputs": [
        {
          "output_type": "execute_result",
          "data": {
            "text/html": [
              "<div>\n",
              "<style scoped>\n",
              "    .dataframe tbody tr th:only-of-type {\n",
              "        vertical-align: middle;\n",
              "    }\n",
              "\n",
              "    .dataframe tbody tr th {\n",
              "        vertical-align: top;\n",
              "    }\n",
              "\n",
              "    .dataframe thead th {\n",
              "        text-align: right;\n",
              "    }\n",
              "</style>\n",
              "<table border=\"1\" class=\"dataframe\">\n",
              "  <thead>\n",
              "    <tr style=\"text-align: right;\">\n",
              "      <th></th>\n",
              "      <th>_roll,__deg</th>\n",
              "      <th>pitch,__deg</th>\n",
              "      <th>_beta,__deg</th>\n",
              "      <th>____P,rad/s</th>\n",
              "      <th>____Q,rad/s</th>\n",
              "      <th>____R,rad/s</th>\n",
              "    </tr>\n",
              "  </thead>\n",
              "  <tbody>\n",
              "    <tr>\n",
              "      <th>baseline</th>\n",
              "      <td>0.19923</td>\n",
              "      <td>0.02771</td>\n",
              "      <td>0.00003</td>\n",
              "      <td>0.00000</td>\n",
              "      <td>0.00000</td>\n",
              "      <td>0.00000</td>\n",
              "    </tr>\n",
              "    <tr>\n",
              "      <th>bigger</th>\n",
              "      <td>0.10242</td>\n",
              "      <td>0.02018</td>\n",
              "      <td>0.00003</td>\n",
              "      <td>0.00000</td>\n",
              "      <td>0.00000</td>\n",
              "      <td>0.00000</td>\n",
              "    </tr>\n",
              "    <tr>\n",
              "      <th>smaller</th>\n",
              "      <td>0.14703</td>\n",
              "      <td>0.02475</td>\n",
              "      <td>0.00005</td>\n",
              "      <td>0.00000</td>\n",
              "      <td>0.00000</td>\n",
              "      <td>0.00000</td>\n",
              "    </tr>\n",
              "  </tbody>\n",
              "</table>\n",
              "</div>"
            ],
            "text/plain": [
              "             _roll,__deg      pitch,__deg   ...     ____Q,rad/s      ____R,rad/s \n",
              "baseline          0.19923          0.02771  ...          0.00000          0.00000\n",
              "bigger            0.10242          0.02018  ...          0.00000          0.00000\n",
              "smaller           0.14703          0.02475  ...          0.00000          0.00000\n",
              "\n",
              "[3 rows x 6 columns]"
            ]
          },
          "metadata": {
            "tags": []
          },
          "execution_count": 140
        }
      ]
    },
    {
      "cell_type": "code",
      "metadata": {
        "id": "HVeNtx--F9sE",
        "colab_type": "code",
        "colab": {}
      },
      "source": [
        ""
      ],
      "execution_count": 0,
      "outputs": []
    }
  ]
}