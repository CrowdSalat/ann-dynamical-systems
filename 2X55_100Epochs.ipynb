{
  "nbformat": 4,
  "nbformat_minor": 0,
  "metadata": {
    "colab": {
      "name": "2X55_100Epochs.ipynb",
      "provenance": [],
      "collapsed_sections": [],
      "toc_visible": true,
      "include_colab_link": true
    },
    "kernelspec": {
      "name": "python3",
      "display_name": "Python 3"
    },
    "accelerator": "GPU"
  },
  "cells": [
    {
      "cell_type": "markdown",
      "metadata": {
        "id": "view-in-github",
        "colab_type": "text"
      },
      "source": [
        "<a href=\"https://colab.research.google.com/github/CrowdSalat/ann-dynamical-systems/blob/master/2X55_100Epochs.ipynb\" target=\"_parent\"><img src=\"https://colab.research.google.com/assets/colab-badge.svg\" alt=\"Open In Colab\"/></a>"
      ]
    },
    {
      "cell_type": "markdown",
      "metadata": {
        "id": "Pa9Mju9lc4Ll",
        "colab_type": "text"
      },
      "source": [
        "# overview\n",
        "\n",
        "Uses actions and an input state to predict the output state."
      ]
    },
    {
      "cell_type": "markdown",
      "metadata": {
        "id": "ijDD21X-gnli",
        "colab_type": "text"
      },
      "source": [
        "# imports"
      ]
    },
    {
      "cell_type": "code",
      "metadata": {
        "id": "_Z4pV678a1zv",
        "colab_type": "code",
        "outputId": "6e624adb-d2c1-44b6-f3f4-5209037735ba",
        "colab": {
          "base_uri": "https://localhost:8080/",
          "height": 35
        }
      },
      "source": [
        "try:\n",
        "  # %tensorflow_version only exists in Colab.\n",
        "  %tensorflow_version 2.x\n",
        "except Exception:\n",
        "  pass"
      ],
      "execution_count": 1,
      "outputs": [
        {
          "output_type": "stream",
          "text": [
            "TensorFlow 2.x selected.\n"
          ],
          "name": "stdout"
        }
      ]
    },
    {
      "cell_type": "code",
      "metadata": {
        "id": "2p4YwEK_f7kq",
        "colab_type": "code",
        "outputId": "3a044095-fd0c-4bce-eb1e-20a7df065eb1",
        "colab": {
          "base_uri": "https://localhost:8080/",
          "height": 35
        }
      },
      "source": [
        "import pandas as pd\n",
        "import numpy as np\n",
        "import os\n",
        "import sys\n",
        "import datetime\n",
        "import math\n",
        "import pickle\n",
        "import matplotlib.pyplot as plt\n",
        "from sklearn.preprocessing import MinMaxScaler\n",
        "from sklearn.metrics import mean_squared_error\n",
        "from sklearn.metrics import mean_absolute_error\n",
        "\n",
        "from sklearn.model_selection import train_test_split\n",
        "from sklearn.preprocessing import MinMaxScaler\n",
        "\n",
        "\n",
        "import tensorflow as tf\n",
        "print(tf.__version__)\n",
        "from tensorflow import keras\n",
        "\n",
        "from tensorflow.keras.models import Sequential\n",
        "from tensorflow.keras.layers import Dense\n",
        "from tensorflow.keras.layers import *\n",
        "from tensorflow.keras import metrics"
      ],
      "execution_count": 2,
      "outputs": [
        {
          "output_type": "stream",
          "text": [
            "2.0.0\n"
          ],
          "name": "stdout"
        }
      ]
    },
    {
      "cell_type": "code",
      "metadata": {
        "id": "PrIcpWs4wjLk",
        "colab_type": "code",
        "outputId": "768a02e8-6e1a-4501-cf9a-bb46ec533050",
        "colab": {
          "base_uri": "https://localhost:8080/",
          "height": 567
        }
      },
      "source": [
        "from tensorflow.python.client import device_lib\n",
        "print(device_lib.list_local_devices())"
      ],
      "execution_count": 3,
      "outputs": [
        {
          "output_type": "stream",
          "text": [
            "[name: \"/device:CPU:0\"\n",
            "device_type: \"CPU\"\n",
            "memory_limit: 268435456\n",
            "locality {\n",
            "}\n",
            "incarnation: 5043020832250689406\n",
            ", name: \"/device:XLA_CPU:0\"\n",
            "device_type: \"XLA_CPU\"\n",
            "memory_limit: 17179869184\n",
            "locality {\n",
            "}\n",
            "incarnation: 1436622313258615629\n",
            "physical_device_desc: \"device: XLA_CPU device\"\n",
            ", name: \"/device:XLA_GPU:0\"\n",
            "device_type: \"XLA_GPU\"\n",
            "memory_limit: 17179869184\n",
            "locality {\n",
            "}\n",
            "incarnation: 5460421497062481785\n",
            "physical_device_desc: \"device: XLA_GPU device\"\n",
            ", name: \"/device:GPU:0\"\n",
            "device_type: \"GPU\"\n",
            "memory_limit: 11330115994\n",
            "locality {\n",
            "  bus_id: 1\n",
            "  links {\n",
            "  }\n",
            "}\n",
            "incarnation: 11296979805112898116\n",
            "physical_device_desc: \"device: 0, name: Tesla K80, pci bus id: 0000:00:04.0, compute capability: 3.7\"\n",
            "]\n"
          ],
          "name": "stdout"
        }
      ]
    },
    {
      "cell_type": "markdown",
      "metadata": {
        "id": "rmj8c18xllpT",
        "colab_type": "text"
      },
      "source": [
        "# mount drive"
      ]
    },
    {
      "cell_type": "code",
      "metadata": {
        "id": "nUEqcpzvltdo",
        "colab_type": "code",
        "colab": {}
      },
      "source": [
        "file = 'dataset_all_01.csv'"
      ],
      "execution_count": 0,
      "outputs": []
    },
    {
      "cell_type": "code",
      "metadata": {
        "id": "TuGWEMS1loFz",
        "colab_type": "code",
        "outputId": "0a8156fd-ca88-4682-c322-6028084c0bf9",
        "colab": {
          "base_uri": "https://localhost:8080/",
          "height": 143
        }
      },
      "source": [
        "from google.colab import drive\n",
        "drive.mount('/content/drive')\n",
        "\n",
        "root_dir = '/content/drive/My Drive/xplane_data' \n",
        "os.chdir(root_dir)\n",
        "print ('working dir: ' + os.getcwd())"
      ],
      "execution_count": 5,
      "outputs": [
        {
          "output_type": "stream",
          "text": [
            "Go to this URL in a browser: https://accounts.google.com/o/oauth2/auth?client_id=947318989803-6bn6qk8qdgf4n4g3pfee6491hc0brc4i.apps.googleusercontent.com&redirect_uri=urn%3Aietf%3Awg%3Aoauth%3A2.0%3Aoob&scope=email%20https%3A%2F%2Fwww.googleapis.com%2Fauth%2Fdocs.test%20https%3A%2F%2Fwww.googleapis.com%2Fauth%2Fdrive%20https%3A%2F%2Fwww.googleapis.com%2Fauth%2Fdrive.photos.readonly%20https%3A%2F%2Fwww.googleapis.com%2Fauth%2Fpeopleapi.readonly&response_type=code\n",
            "\n",
            "Enter your authorization code:\n",
            "··········\n",
            "Mounted at /content/drive\n",
            "working dir: /content/drive/My Drive/xplane_data\n"
          ],
          "name": "stdout"
        }
      ]
    },
    {
      "cell_type": "markdown",
      "metadata": {
        "id": "EF4tx110HmOj",
        "colab_type": "text"
      },
      "source": [
        "# load and prepare data"
      ]
    },
    {
      "cell_type": "markdown",
      "metadata": {
        "id": "EOM6RVAIduGr",
        "colab_type": "text"
      },
      "source": [
        "## define features (actions & states)\n",
        "actions and states at time t are the input for the network.\n",
        "\n",
        "the states at time t + 1 are the desired output of the network.\n"
      ]
    },
    {
      "cell_type": "code",
      "metadata": {
        "id": "YH9bVQ3YDyTh",
        "colab_type": "code",
        "outputId": "0a4a47e8-16a5-4a90-c91e-6b83d8004f49",
        "colab": {
          "base_uri": "https://localhost:8080/",
          "height": 55
        }
      },
      "source": [
        "col_m_time      = '   missn,_time '\n",
        "col_t_time      = '   _totl,_time '\n",
        "col_yaw_v       = '   ____Q,rad/s '\n",
        "\n",
        "col_yaw_deg     = '   _beta,__deg '\n",
        "col_roll_deg    = '   _roll,__deg '\n",
        "col_roll_v      = '   ____R,rad/s '\n",
        "col_pitch_deg   = '   pitch,__deg '\n",
        "col_pitch_v     = '   ____P,rad/s '\n",
        "col_alt         = '   __alt,ftmsl '\n",
        "col_vv          = '   __VVI,__fpm '\n",
        "col_v           = '   Vtrue,_ktas '\n",
        "col_rpm_prop    = '   rpm_1,_prop '\n",
        "col_throttle     = '   thro1,_part '\n",
        "\n",
        "cols_state = [ \n",
        "    col_yaw_v,\n",
        "    col_yaw_deg,\n",
        "    col_roll_deg,\n",
        "    col_roll_v,\n",
        "    col_pitch_deg,\n",
        "    col_pitch_v,\n",
        "    col_vv,\n",
        "    col_alt,\n",
        "    col_v,\n",
        "    col_rpm_prop,\n",
        "    col_throttle,\n",
        "]\n",
        "\n",
        "cols_time = [\n",
        "    col_m_time,\n",
        "    col_t_time,\n",
        "]\n",
        "\n",
        "col_elev_servo                  = '   _elev,servo '\n",
        "col_ailrn_servo                  = '   ailrn,servo '\n",
        "col_ruddr_servo                  = '   ruddr,servo '\n",
        "\n",
        "cols_action = [\n",
        "    col_elev_servo,\n",
        "    col_ailrn_servo,\n",
        "    col_ruddr_servo\n",
        "]\n",
        "\n",
        "# all input columns\n",
        "cols_features = []\n",
        "cols_features.extend(cols_state)\n",
        "cols_features.extend(cols_action)\n",
        "\n",
        "# orga column\n",
        "col_dataset_index = 'dataset_index'\n",
        "col_maneuver_index = 'maneuver_index'\n",
        "col_maneuver_name = 'maneuver_name'\n",
        "col_maneuver_datapoint_index = 'maneuver_datapoint_index'\n",
        "col_maneuver_type = 'maneuver_type'\n",
        "\n",
        "\n",
        "label_prefix = 't+1_'\n",
        "cols_label = [label_prefix + col_state for col_state in cols_state]\n",
        "print(cols_label)\n"
      ],
      "execution_count": 6,
      "outputs": [
        {
          "output_type": "stream",
          "text": [
            "['t+1_   ____Q,rad/s ', 't+1_   _beta,__deg ', 't+1_   _roll,__deg ', 't+1_   ____R,rad/s ', 't+1_   pitch,__deg ', 't+1_   ____P,rad/s ', 't+1_   __VVI,__fpm ', 't+1_   __alt,ftmsl ', 't+1_   Vtrue,_ktas ', 't+1_   rpm_1,_prop ', 't+1_   thro1,_part ']\n"
          ],
          "name": "stdout"
        }
      ]
    },
    {
      "cell_type": "markdown",
      "metadata": {
        "id": "gDSNkVBaDv2V",
        "colab_type": "text"
      },
      "source": [
        "## load data"
      ]
    },
    {
      "cell_type": "code",
      "metadata": {
        "id": "uByPEHX3fS2G",
        "colab_type": "code",
        "outputId": "cfdfa125-da09-4e4c-ed9c-7a90be0b27a2",
        "colab": {
          "base_uri": "https://localhost:8080/",
          "height": 52
        }
      },
      "source": [
        "def load_xplane_csv(csv_path, columns):\n",
        "    return pd.read_csv(csv_path, delimiter=',', usecols = columns, \n",
        "                       float_precision='high')\n",
        "\n",
        "df_features = load_xplane_csv(file, cols_features)\n",
        "\n",
        "df_labels = load_xplane_csv(file, cols_label)\n",
        "\n",
        "print(len(df_features))\n",
        "print(len(df_labels))\n",
        "assert(len(df_features) == len(df_labels))\n"
      ],
      "execution_count": 7,
      "outputs": [
        {
          "output_type": "stream",
          "text": [
            "477893\n",
            "477893\n"
          ],
          "name": "stdout"
        }
      ]
    },
    {
      "cell_type": "markdown",
      "metadata": {
        "id": "GFoo4xF1ECKM",
        "colab_type": "text"
      },
      "source": [
        "## drop nan in features and labels"
      ]
    },
    {
      "cell_type": "markdown",
      "metadata": {
        "id": "zZ-jcsk-LoRs",
        "colab_type": "text"
      },
      "source": [
        "drop nan rows in both features and in labels"
      ]
    },
    {
      "cell_type": "code",
      "metadata": {
        "id": "d9ERQNmbLnkB",
        "colab_type": "code",
        "outputId": "51ff017d-b1e3-437b-9a0f-ba0e197e5eb8",
        "colab": {
          "base_uri": "https://localhost:8080/",
          "height": 52
        }
      },
      "source": [
        "df_nan = df_labels.isna().any(axis=1)\n",
        "\n",
        "for i in range(0, len(df_nan)):\n",
        "  if df_nan[i] == True:\n",
        "    df_features.drop(index=i, inplace=True)\n",
        "\n",
        "df_labels.dropna(inplace=True)\n",
        "\n",
        "print(len(df_features))\n",
        "print(len(df_labels))"
      ],
      "execution_count": 8,
      "outputs": [
        {
          "output_type": "stream",
          "text": [
            "477290\n",
            "477290\n"
          ],
          "name": "stdout"
        }
      ]
    },
    {
      "cell_type": "code",
      "metadata": {
        "id": "QrIc5hWyvzkK",
        "colab_type": "code",
        "colab": {}
      },
      "source": [
        "def split_train_test(dataset):\n",
        "  train_size = int(len(dataset) * 0.67)\n",
        "  test_size = len(dataset) - train_size\n",
        "  train, test = dataset[0:train_size,:], dataset[train_size:len(dataset),:]\n",
        "  return train, test\n"
      ],
      "execution_count": 0,
      "outputs": []
    },
    {
      "cell_type": "markdown",
      "metadata": {
        "id": "sWg6-HwsEKZ7",
        "colab_type": "text"
      },
      "source": [
        "## split data"
      ]
    },
    {
      "cell_type": "code",
      "metadata": {
        "id": "RW9vgEExoYB8",
        "colab_type": "code",
        "colab": {}
      },
      "source": [
        "features = df_features.values\n",
        "labels = df_labels.values"
      ],
      "execution_count": 0,
      "outputs": []
    },
    {
      "cell_type": "code",
      "metadata": {
        "id": "wFF9QfAdv8CQ",
        "colab_type": "code",
        "colab": {}
      },
      "source": [
        "train_X, test_X, train_Y, test_Y  = train_test_split(features,labels, test_size=0.2, random_state=42)"
      ],
      "execution_count": 0,
      "outputs": []
    },
    {
      "cell_type": "code",
      "metadata": {
        "id": "YpDcgWG3LiCO",
        "colab_type": "code",
        "outputId": "e8a9b1ec-27de-43b7-b4fb-e50bd5604a23",
        "colab": {
          "base_uri": "https://localhost:8080/",
          "height": 88
        }
      },
      "source": [
        "print(train_X.shape)\n",
        "print(train_Y.shape)\n",
        "print(test_X.shape)\n",
        "print(test_Y.shape)"
      ],
      "execution_count": 12,
      "outputs": [
        {
          "output_type": "stream",
          "text": [
            "(381832, 14)\n",
            "(381832, 11)\n",
            "(95458, 14)\n",
            "(95458, 11)\n"
          ],
          "name": "stdout"
        }
      ]
    },
    {
      "cell_type": "markdown",
      "metadata": {
        "id": "8iyEoupyiORe",
        "colab_type": "text"
      },
      "source": [
        "## scale data"
      ]
    },
    {
      "cell_type": "code",
      "metadata": {
        "id": "DexT4psKoaPF",
        "colab_type": "code",
        "colab": {}
      },
      "source": [
        "feature_scaler = MinMaxScaler()\n",
        "feature_scaler.fit(train_X)\n",
        "\n",
        "train_X = feature_scaler.transform(train_X)\n",
        "test_X = feature_scaler.transform(test_X)\n"
      ],
      "execution_count": 0,
      "outputs": []
    },
    {
      "cell_type": "code",
      "metadata": {
        "id": "PAm6Gm6TqoEw",
        "colab_type": "code",
        "colab": {}
      },
      "source": [
        "label_scaler = MinMaxScaler()\n",
        "label_scaler.fit(train_Y)\n",
        "\n",
        "train_Y = label_scaler.transform(train_Y)\n",
        "test_Y = label_scaler.transform(test_Y)"
      ],
      "execution_count": 0,
      "outputs": []
    },
    {
      "cell_type": "code",
      "metadata": {
        "id": "Ew0U2dwl1TuN",
        "colab_type": "code",
        "colab": {}
      },
      "source": [
        "# create scaled df\n",
        "scaled_df_features = pd.DataFrame(feature_scaler.transform(df_features), columns=df_features.columns)\n",
        "scaled_df_labels = pd.DataFrame(label_scaler.transform(df_labels), columns=df_labels.columns)"
      ],
      "execution_count": 0,
      "outputs": []
    },
    {
      "cell_type": "code",
      "metadata": {
        "id": "jjMPJ7gH1p_O",
        "colab_type": "code",
        "outputId": "5cbd3964-df30-4c59-e802-2d18c1c43ac9",
        "colab": {
          "base_uri": "https://localhost:8080/",
          "height": 320
        }
      },
      "source": [
        "df_features.describe()"
      ],
      "execution_count": 16,
      "outputs": [
        {
          "output_type": "execute_result",
          "data": {
            "text/html": [
              "<div>\n",
              "<style scoped>\n",
              "    .dataframe tbody tr th:only-of-type {\n",
              "        vertical-align: middle;\n",
              "    }\n",
              "\n",
              "    .dataframe tbody tr th {\n",
              "        vertical-align: top;\n",
              "    }\n",
              "\n",
              "    .dataframe thead th {\n",
              "        text-align: right;\n",
              "    }\n",
              "</style>\n",
              "<table border=\"1\" class=\"dataframe\">\n",
              "  <thead>\n",
              "    <tr style=\"text-align: right;\">\n",
              "      <th></th>\n",
              "      <th>Vtrue,_ktas</th>\n",
              "      <th>__VVI,__fpm</th>\n",
              "      <th>____Q,rad/s</th>\n",
              "      <th>____P,rad/s</th>\n",
              "      <th>____R,rad/s</th>\n",
              "      <th>pitch,__deg</th>\n",
              "      <th>_roll,__deg</th>\n",
              "      <th>_beta,__deg</th>\n",
              "      <th>__alt,ftmsl</th>\n",
              "      <th>thro1,_part</th>\n",
              "      <th>rpm_1,_prop</th>\n",
              "      <th>_elev,servo</th>\n",
              "      <th>ailrn,servo</th>\n",
              "      <th>ruddr,servo</th>\n",
              "    </tr>\n",
              "  </thead>\n",
              "  <tbody>\n",
              "    <tr>\n",
              "      <th>count</th>\n",
              "      <td>477290.000000</td>\n",
              "      <td>477290.000000</td>\n",
              "      <td>477290.000000</td>\n",
              "      <td>477290.000000</td>\n",
              "      <td>477290.000000</td>\n",
              "      <td>477290.000000</td>\n",
              "      <td>477290.000000</td>\n",
              "      <td>477290.000000</td>\n",
              "      <td>477290.000000</td>\n",
              "      <td>477290.000000</td>\n",
              "      <td>477290.000000</td>\n",
              "      <td>477290.000000</td>\n",
              "      <td>477290.000000</td>\n",
              "      <td>477290.0</td>\n",
              "    </tr>\n",
              "    <tr>\n",
              "      <th>mean</th>\n",
              "      <td>119.567353</td>\n",
              "      <td>31.868167</td>\n",
              "      <td>0.003814</td>\n",
              "      <td>-0.000023</td>\n",
              "      <td>-0.001840</td>\n",
              "      <td>-0.653563</td>\n",
              "      <td>-0.791051</td>\n",
              "      <td>0.006402</td>\n",
              "      <td>2714.494715</td>\n",
              "      <td>0.837601</td>\n",
              "      <td>2490.420838</td>\n",
              "      <td>-0.000023</td>\n",
              "      <td>-0.014557</td>\n",
              "      <td>0.0</td>\n",
              "    </tr>\n",
              "    <tr>\n",
              "      <th>std</th>\n",
              "      <td>10.113279</td>\n",
              "      <td>274.992679</td>\n",
              "      <td>0.007108</td>\n",
              "      <td>0.017348</td>\n",
              "      <td>0.023905</td>\n",
              "      <td>1.684671</td>\n",
              "      <td>8.876412</td>\n",
              "      <td>0.137679</td>\n",
              "      <td>1357.480837</td>\n",
              "      <td>0.082115</td>\n",
              "      <td>127.216137</td>\n",
              "      <td>0.002304</td>\n",
              "      <td>0.022662</td>\n",
              "      <td>0.0</td>\n",
              "    </tr>\n",
              "    <tr>\n",
              "      <th>min</th>\n",
              "      <td>66.424780</td>\n",
              "      <td>-1917.888180</td>\n",
              "      <td>-0.039450</td>\n",
              "      <td>-0.109810</td>\n",
              "      <td>-0.054820</td>\n",
              "      <td>-9.313510</td>\n",
              "      <td>-23.851520</td>\n",
              "      <td>-0.689970</td>\n",
              "      <td>805.092900</td>\n",
              "      <td>0.796080</td>\n",
              "      <td>2106.257810</td>\n",
              "      <td>-0.089790</td>\n",
              "      <td>-0.159740</td>\n",
              "      <td>0.0</td>\n",
              "    </tr>\n",
              "    <tr>\n",
              "      <th>25%</th>\n",
              "      <td>116.120002</td>\n",
              "      <td>-38.766265</td>\n",
              "      <td>-0.000010</td>\n",
              "      <td>-0.000410</td>\n",
              "      <td>-0.010880</td>\n",
              "      <td>-1.284538</td>\n",
              "      <td>-4.070882</td>\n",
              "      <td>-0.082300</td>\n",
              "      <td>1411.464812</td>\n",
              "      <td>0.796080</td>\n",
              "      <td>2424.051882</td>\n",
              "      <td>-0.000110</td>\n",
              "      <td>-0.017030</td>\n",
              "      <td>0.0</td>\n",
              "    </tr>\n",
              "    <tr>\n",
              "      <th>50%</th>\n",
              "      <td>118.825780</td>\n",
              "      <td>0.342395</td>\n",
              "      <td>0.001120</td>\n",
              "      <td>-0.000000</td>\n",
              "      <td>-0.000020</td>\n",
              "      <td>-0.787040</td>\n",
              "      <td>-0.104720</td>\n",
              "      <td>0.004390</td>\n",
              "      <td>2622.403565</td>\n",
              "      <td>0.796080</td>\n",
              "      <td>2458.394655</td>\n",
              "      <td>0.000000</td>\n",
              "      <td>-0.015220</td>\n",
              "      <td>0.0</td>\n",
              "    </tr>\n",
              "    <tr>\n",
              "      <th>75%</th>\n",
              "      <td>122.744895</td>\n",
              "      <td>165.376283</td>\n",
              "      <td>0.010170</td>\n",
              "      <td>0.000390</td>\n",
              "      <td>0.000847</td>\n",
              "      <td>-0.151363</td>\n",
              "      <td>0.212638</td>\n",
              "      <td>0.073260</td>\n",
              "      <td>3896.206053</td>\n",
              "      <td>0.796080</td>\n",
              "      <td>2504.543460</td>\n",
              "      <td>0.000070</td>\n",
              "      <td>-0.011370</td>\n",
              "      <td>0.0</td>\n",
              "    </tr>\n",
              "    <tr>\n",
              "      <th>max</th>\n",
              "      <td>155.436650</td>\n",
              "      <td>978.538330</td>\n",
              "      <td>0.041650</td>\n",
              "      <td>0.111310</td>\n",
              "      <td>0.055400</td>\n",
              "      <td>11.796170</td>\n",
              "      <td>25.924920</td>\n",
              "      <td>0.353550</td>\n",
              "      <td>5080.888180</td>\n",
              "      <td>1.000000</td>\n",
              "      <td>2811.808840</td>\n",
              "      <td>0.045100</td>\n",
              "      <td>0.124900</td>\n",
              "      <td>0.0</td>\n",
              "    </tr>\n",
              "  </tbody>\n",
              "</table>\n",
              "</div>"
            ],
            "text/plain": [
              "          Vtrue,_ktas      __VVI,__fpm   ...     ailrn,servo      ruddr,servo \n",
              "count    477290.000000    477290.000000  ...    477290.000000         477290.0\n",
              "mean        119.567353        31.868167  ...        -0.014557              0.0\n",
              "std          10.113279       274.992679  ...         0.022662              0.0\n",
              "min          66.424780     -1917.888180  ...        -0.159740              0.0\n",
              "25%         116.120002       -38.766265  ...        -0.017030              0.0\n",
              "50%         118.825780         0.342395  ...        -0.015220              0.0\n",
              "75%         122.744895       165.376283  ...        -0.011370              0.0\n",
              "max         155.436650       978.538330  ...         0.124900              0.0\n",
              "\n",
              "[8 rows x 14 columns]"
            ]
          },
          "metadata": {
            "tags": []
          },
          "execution_count": 16
        }
      ]
    },
    {
      "cell_type": "code",
      "metadata": {
        "id": "yYHbRVEG4Q6U",
        "colab_type": "code",
        "outputId": "4e1ecdbf-c91f-484b-81db-078c01b8368d",
        "colab": {
          "base_uri": "https://localhost:8080/",
          "height": 320
        }
      },
      "source": [
        "scaled_df_features.describe()"
      ],
      "execution_count": 17,
      "outputs": [
        {
          "output_type": "execute_result",
          "data": {
            "text/html": [
              "<div>\n",
              "<style scoped>\n",
              "    .dataframe tbody tr th:only-of-type {\n",
              "        vertical-align: middle;\n",
              "    }\n",
              "\n",
              "    .dataframe tbody tr th {\n",
              "        vertical-align: top;\n",
              "    }\n",
              "\n",
              "    .dataframe thead th {\n",
              "        text-align: right;\n",
              "    }\n",
              "</style>\n",
              "<table border=\"1\" class=\"dataframe\">\n",
              "  <thead>\n",
              "    <tr style=\"text-align: right;\">\n",
              "      <th></th>\n",
              "      <th>Vtrue,_ktas</th>\n",
              "      <th>__VVI,__fpm</th>\n",
              "      <th>____Q,rad/s</th>\n",
              "      <th>____P,rad/s</th>\n",
              "      <th>____R,rad/s</th>\n",
              "      <th>pitch,__deg</th>\n",
              "      <th>_roll,__deg</th>\n",
              "      <th>_beta,__deg</th>\n",
              "      <th>__alt,ftmsl</th>\n",
              "      <th>thro1,_part</th>\n",
              "      <th>rpm_1,_prop</th>\n",
              "      <th>_elev,servo</th>\n",
              "      <th>ailrn,servo</th>\n",
              "      <th>ruddr,servo</th>\n",
              "    </tr>\n",
              "  </thead>\n",
              "  <tbody>\n",
              "    <tr>\n",
              "      <th>count</th>\n",
              "      <td>477290.000000</td>\n",
              "      <td>477290.000000</td>\n",
              "      <td>477290.000000</td>\n",
              "      <td>477290.000000</td>\n",
              "      <td>477290.000000</td>\n",
              "      <td>477290.000000</td>\n",
              "      <td>477290.000000</td>\n",
              "      <td>477290.000000</td>\n",
              "      <td>4.772900e+05</td>\n",
              "      <td>477290.000000</td>\n",
              "      <td>477290.000000</td>\n",
              "      <td>477290.000000</td>\n",
              "      <td>477290.000000</td>\n",
              "      <td>477290.0</td>\n",
              "    </tr>\n",
              "    <tr>\n",
              "      <th>mean</th>\n",
              "      <td>0.597028</td>\n",
              "      <td>0.673159</td>\n",
              "      <td>0.533466</td>\n",
              "      <td>0.496506</td>\n",
              "      <td>0.480678</td>\n",
              "      <td>0.410273</td>\n",
              "      <td>0.463281</td>\n",
              "      <td>0.667330</td>\n",
              "      <td>4.465606e-01</td>\n",
              "      <td>0.203613</td>\n",
              "      <td>0.544487</td>\n",
              "      <td>0.665484</td>\n",
              "      <td>0.510059</td>\n",
              "      <td>0.0</td>\n",
              "    </tr>\n",
              "    <tr>\n",
              "      <th>std</th>\n",
              "      <td>0.113617</td>\n",
              "      <td>0.094942</td>\n",
              "      <td>0.087647</td>\n",
              "      <td>0.078456</td>\n",
              "      <td>0.216880</td>\n",
              "      <td>0.079813</td>\n",
              "      <td>0.178326</td>\n",
              "      <td>0.131938</td>\n",
              "      <td>3.174807e-01</td>\n",
              "      <td>0.402681</td>\n",
              "      <td>0.180307</td>\n",
              "      <td>0.017080</td>\n",
              "      <td>0.079616</td>\n",
              "      <td>0.0</td>\n",
              "    </tr>\n",
              "    <tr>\n",
              "      <th>min</th>\n",
              "      <td>0.000000</td>\n",
              "      <td>0.000000</td>\n",
              "      <td>0.000000</td>\n",
              "      <td>0.000000</td>\n",
              "      <td>0.000000</td>\n",
              "      <td>0.000000</td>\n",
              "      <td>0.000000</td>\n",
              "      <td>0.000000</td>\n",
              "      <td>-5.566223e-07</td>\n",
              "      <td>0.000000</td>\n",
              "      <td>0.000000</td>\n",
              "      <td>0.000000</td>\n",
              "      <td>0.000000</td>\n",
              "      <td>0.0</td>\n",
              "    </tr>\n",
              "    <tr>\n",
              "      <th>25%</th>\n",
              "      <td>0.558299</td>\n",
              "      <td>0.648773</td>\n",
              "      <td>0.486313</td>\n",
              "      <td>0.494754</td>\n",
              "      <td>0.398657</td>\n",
              "      <td>0.380380</td>\n",
              "      <td>0.397390</td>\n",
              "      <td>0.582327</td>\n",
              "      <td>1.418146e-01</td>\n",
              "      <td>0.000000</td>\n",
              "      <td>0.450420</td>\n",
              "      <td>0.664838</td>\n",
              "      <td>0.501370</td>\n",
              "      <td>0.0</td>\n",
              "    </tr>\n",
              "    <tr>\n",
              "      <th>50%</th>\n",
              "      <td>0.588697</td>\n",
              "      <td>0.662275</td>\n",
              "      <td>0.500247</td>\n",
              "      <td>0.496608</td>\n",
              "      <td>0.497187</td>\n",
              "      <td>0.403949</td>\n",
              "      <td>0.477069</td>\n",
              "      <td>0.665402</td>\n",
              "      <td>4.250228e-01</td>\n",
              "      <td>0.000000</td>\n",
              "      <td>0.499095</td>\n",
              "      <td>0.665653</td>\n",
              "      <td>0.507729</td>\n",
              "      <td>0.0</td>\n",
              "    </tr>\n",
              "    <tr>\n",
              "      <th>75%</th>\n",
              "      <td>0.632726</td>\n",
              "      <td>0.719253</td>\n",
              "      <td>0.611837</td>\n",
              "      <td>0.498372</td>\n",
              "      <td>0.505058</td>\n",
              "      <td>0.434065</td>\n",
              "      <td>0.483445</td>\n",
              "      <td>0.731399</td>\n",
              "      <td>7.229333e-01</td>\n",
              "      <td>0.000000</td>\n",
              "      <td>0.564503</td>\n",
              "      <td>0.666172</td>\n",
              "      <td>0.521255</td>\n",
              "      <td>0.0</td>\n",
              "    </tr>\n",
              "    <tr>\n",
              "      <th>max</th>\n",
              "      <td>1.000000</td>\n",
              "      <td>1.000000</td>\n",
              "      <td>1.000000</td>\n",
              "      <td>1.000000</td>\n",
              "      <td>1.000000</td>\n",
              "      <td>1.000090</td>\n",
              "      <td>1.000000</td>\n",
              "      <td>1.000000</td>\n",
              "      <td>1.000001e+00</td>\n",
              "      <td>1.000000</td>\n",
              "      <td>1.000000</td>\n",
              "      <td>1.000000</td>\n",
              "      <td>1.000000</td>\n",
              "      <td>0.0</td>\n",
              "    </tr>\n",
              "  </tbody>\n",
              "</table>\n",
              "</div>"
            ],
            "text/plain": [
              "          Vtrue,_ktas      __VVI,__fpm   ...     ailrn,servo      ruddr,servo \n",
              "count    477290.000000    477290.000000  ...    477290.000000         477290.0\n",
              "mean          0.597028         0.673159  ...         0.510059              0.0\n",
              "std           0.113617         0.094942  ...         0.079616              0.0\n",
              "min           0.000000         0.000000  ...         0.000000              0.0\n",
              "25%           0.558299         0.648773  ...         0.501370              0.0\n",
              "50%           0.588697         0.662275  ...         0.507729              0.0\n",
              "75%           0.632726         0.719253  ...         0.521255              0.0\n",
              "max           1.000000         1.000000  ...         1.000000              0.0\n",
              "\n",
              "[8 rows x 14 columns]"
            ]
          },
          "metadata": {
            "tags": []
          },
          "execution_count": 17
        }
      ]
    },
    {
      "cell_type": "code",
      "metadata": {
        "id": "GivIW68e2R18",
        "colab_type": "code",
        "outputId": "4508a655-83a7-402c-dc7e-39e0144ac771",
        "colab": {
          "base_uri": "https://localhost:8080/",
          "height": 337
        }
      },
      "source": [
        "df_labels.describe()"
      ],
      "execution_count": 18,
      "outputs": [
        {
          "output_type": "execute_result",
          "data": {
            "text/html": [
              "<div>\n",
              "<style scoped>\n",
              "    .dataframe tbody tr th:only-of-type {\n",
              "        vertical-align: middle;\n",
              "    }\n",
              "\n",
              "    .dataframe tbody tr th {\n",
              "        vertical-align: top;\n",
              "    }\n",
              "\n",
              "    .dataframe thead th {\n",
              "        text-align: right;\n",
              "    }\n",
              "</style>\n",
              "<table border=\"1\" class=\"dataframe\">\n",
              "  <thead>\n",
              "    <tr style=\"text-align: right;\">\n",
              "      <th></th>\n",
              "      <th>t+1_   ____Q,rad/s</th>\n",
              "      <th>t+1_   _beta,__deg</th>\n",
              "      <th>t+1_   _roll,__deg</th>\n",
              "      <th>t+1_   ____R,rad/s</th>\n",
              "      <th>t+1_   pitch,__deg</th>\n",
              "      <th>t+1_   ____P,rad/s</th>\n",
              "      <th>t+1_   __VVI,__fpm</th>\n",
              "      <th>t+1_   __alt,ftmsl</th>\n",
              "      <th>t+1_   Vtrue,_ktas</th>\n",
              "      <th>t+1_   rpm_1,_prop</th>\n",
              "      <th>t+1_   thro1,_part</th>\n",
              "    </tr>\n",
              "  </thead>\n",
              "  <tbody>\n",
              "    <tr>\n",
              "      <th>count</th>\n",
              "      <td>477290.000000</td>\n",
              "      <td>477290.000000</td>\n",
              "      <td>477290.000000</td>\n",
              "      <td>477290.000000</td>\n",
              "      <td>477290.000000</td>\n",
              "      <td>477290.000000</td>\n",
              "      <td>477290.000000</td>\n",
              "      <td>477290.000000</td>\n",
              "      <td>477290.000000</td>\n",
              "      <td>477290.000000</td>\n",
              "      <td>477290.000000</td>\n",
              "    </tr>\n",
              "    <tr>\n",
              "      <th>mean</th>\n",
              "      <td>0.003815</td>\n",
              "      <td>0.006402</td>\n",
              "      <td>-0.791050</td>\n",
              "      <td>-0.001840</td>\n",
              "      <td>-0.653565</td>\n",
              "      <td>-0.000023</td>\n",
              "      <td>31.866864</td>\n",
              "      <td>2714.494657</td>\n",
              "      <td>119.567394</td>\n",
              "      <td>2490.421446</td>\n",
              "      <td>0.837601</td>\n",
              "    </tr>\n",
              "    <tr>\n",
              "      <th>std</th>\n",
              "      <td>0.007105</td>\n",
              "      <td>0.137680</td>\n",
              "      <td>8.876411</td>\n",
              "      <td>0.023905</td>\n",
              "      <td>1.684673</td>\n",
              "      <td>0.017348</td>\n",
              "      <td>274.991234</td>\n",
              "      <td>1357.480898</td>\n",
              "      <td>10.113312</td>\n",
              "      <td>127.216670</td>\n",
              "      <td>0.082115</td>\n",
              "    </tr>\n",
              "    <tr>\n",
              "      <th>min</th>\n",
              "      <td>-0.038680</td>\n",
              "      <td>-0.689970</td>\n",
              "      <td>-23.851520</td>\n",
              "      <td>-0.054820</td>\n",
              "      <td>-9.313510</td>\n",
              "      <td>-0.109810</td>\n",
              "      <td>-1917.888180</td>\n",
              "      <td>805.092900</td>\n",
              "      <td>66.424780</td>\n",
              "      <td>2106.257810</td>\n",
              "      <td>0.796080</td>\n",
              "    </tr>\n",
              "    <tr>\n",
              "      <th>25%</th>\n",
              "      <td>-0.000010</td>\n",
              "      <td>-0.082300</td>\n",
              "      <td>-4.070882</td>\n",
              "      <td>-0.010888</td>\n",
              "      <td>-1.284488</td>\n",
              "      <td>-0.000410</td>\n",
              "      <td>-38.766265</td>\n",
              "      <td>1411.464812</td>\n",
              "      <td>116.120015</td>\n",
              "      <td>2424.051882</td>\n",
              "      <td>0.796080</td>\n",
              "    </tr>\n",
              "    <tr>\n",
              "      <th>50%</th>\n",
              "      <td>0.001120</td>\n",
              "      <td>0.004390</td>\n",
              "      <td>-0.104720</td>\n",
              "      <td>-0.000020</td>\n",
              "      <td>-0.787045</td>\n",
              "      <td>0.000000</td>\n",
              "      <td>0.342395</td>\n",
              "      <td>2622.403565</td>\n",
              "      <td>118.825780</td>\n",
              "      <td>2458.394900</td>\n",
              "      <td>0.796080</td>\n",
              "    </tr>\n",
              "    <tr>\n",
              "      <th>75%</th>\n",
              "      <td>0.010160</td>\n",
              "      <td>0.073260</td>\n",
              "      <td>0.212860</td>\n",
              "      <td>0.000850</td>\n",
              "      <td>-0.151363</td>\n",
              "      <td>0.000390</td>\n",
              "      <td>165.372623</td>\n",
              "      <td>3896.206053</td>\n",
              "      <td>122.745007</td>\n",
              "      <td>2504.543950</td>\n",
              "      <td>0.796080</td>\n",
              "    </tr>\n",
              "    <tr>\n",
              "      <th>max</th>\n",
              "      <td>0.041650</td>\n",
              "      <td>0.353550</td>\n",
              "      <td>25.924920</td>\n",
              "      <td>0.055400</td>\n",
              "      <td>11.796170</td>\n",
              "      <td>0.111310</td>\n",
              "      <td>978.538330</td>\n",
              "      <td>5080.888180</td>\n",
              "      <td>155.436650</td>\n",
              "      <td>2811.808840</td>\n",
              "      <td>1.000000</td>\n",
              "    </tr>\n",
              "  </tbody>\n",
              "</table>\n",
              "</div>"
            ],
            "text/plain": [
              "       t+1_   ____Q,rad/s   ...  t+1_   thro1,_part \n",
              "count        477290.000000  ...        477290.000000\n",
              "mean              0.003815  ...             0.837601\n",
              "std               0.007105  ...             0.082115\n",
              "min              -0.038680  ...             0.796080\n",
              "25%              -0.000010  ...             0.796080\n",
              "50%               0.001120  ...             0.796080\n",
              "75%               0.010160  ...             0.796080\n",
              "max               0.041650  ...             1.000000\n",
              "\n",
              "[8 rows x 11 columns]"
            ]
          },
          "metadata": {
            "tags": []
          },
          "execution_count": 18
        }
      ]
    },
    {
      "cell_type": "code",
      "metadata": {
        "id": "ovbayfsz4V26",
        "colab_type": "code",
        "outputId": "27fd8c1c-8289-4143-e65a-55a35f045cf9",
        "colab": {
          "base_uri": "https://localhost:8080/",
          "height": 337
        }
      },
      "source": [
        "scaled_df_labels.describe()"
      ],
      "execution_count": 19,
      "outputs": [
        {
          "output_type": "execute_result",
          "data": {
            "text/html": [
              "<div>\n",
              "<style scoped>\n",
              "    .dataframe tbody tr th:only-of-type {\n",
              "        vertical-align: middle;\n",
              "    }\n",
              "\n",
              "    .dataframe tbody tr th {\n",
              "        vertical-align: top;\n",
              "    }\n",
              "\n",
              "    .dataframe thead th {\n",
              "        text-align: right;\n",
              "    }\n",
              "</style>\n",
              "<table border=\"1\" class=\"dataframe\">\n",
              "  <thead>\n",
              "    <tr style=\"text-align: right;\">\n",
              "      <th></th>\n",
              "      <th>t+1_   ____Q,rad/s</th>\n",
              "      <th>t+1_   _beta,__deg</th>\n",
              "      <th>t+1_   _roll,__deg</th>\n",
              "      <th>t+1_   ____R,rad/s</th>\n",
              "      <th>t+1_   pitch,__deg</th>\n",
              "      <th>t+1_   ____P,rad/s</th>\n",
              "      <th>t+1_   __VVI,__fpm</th>\n",
              "      <th>t+1_   __alt,ftmsl</th>\n",
              "      <th>t+1_   Vtrue,_ktas</th>\n",
              "      <th>t+1_   rpm_1,_prop</th>\n",
              "      <th>t+1_   thro1,_part</th>\n",
              "    </tr>\n",
              "  </thead>\n",
              "  <tbody>\n",
              "    <tr>\n",
              "      <th>count</th>\n",
              "      <td>477290.000000</td>\n",
              "      <td>477290.000000</td>\n",
              "      <td>477290.000000</td>\n",
              "      <td>477290.000000</td>\n",
              "      <td>477290.000000</td>\n",
              "      <td>477290.000000</td>\n",
              "      <td>477290.000000</td>\n",
              "      <td>477290.000000</td>\n",
              "      <td>477290.000000</td>\n",
              "      <td>477290.000000</td>\n",
              "      <td>477290.000000</td>\n",
              "    </tr>\n",
              "    <tr>\n",
              "      <th>mean</th>\n",
              "      <td>0.529000</td>\n",
              "      <td>0.667368</td>\n",
              "      <td>0.463281</td>\n",
              "      <td>0.480678</td>\n",
              "      <td>0.410236</td>\n",
              "      <td>0.496619</td>\n",
              "      <td>0.673159</td>\n",
              "      <td>0.446561</td>\n",
              "      <td>0.597028</td>\n",
              "      <td>0.544487</td>\n",
              "      <td>0.203615</td>\n",
              "    </tr>\n",
              "    <tr>\n",
              "      <th>std</th>\n",
              "      <td>0.088447</td>\n",
              "      <td>0.131945</td>\n",
              "      <td>0.178326</td>\n",
              "      <td>0.216880</td>\n",
              "      <td>0.079806</td>\n",
              "      <td>0.078474</td>\n",
              "      <td>0.094942</td>\n",
              "      <td>0.317480</td>\n",
              "      <td>0.113618</td>\n",
              "      <td>0.180308</td>\n",
              "      <td>0.402682</td>\n",
              "    </tr>\n",
              "    <tr>\n",
              "      <th>min</th>\n",
              "      <td>0.000000</td>\n",
              "      <td>0.000000</td>\n",
              "      <td>0.000000</td>\n",
              "      <td>0.000000</td>\n",
              "      <td>0.000000</td>\n",
              "      <td>0.000000</td>\n",
              "      <td>0.000000</td>\n",
              "      <td>0.000000</td>\n",
              "      <td>0.000000</td>\n",
              "      <td>0.000000</td>\n",
              "      <td>0.000000</td>\n",
              "    </tr>\n",
              "    <tr>\n",
              "      <th>25%</th>\n",
              "      <td>0.481389</td>\n",
              "      <td>0.582361</td>\n",
              "      <td>0.397390</td>\n",
              "      <td>0.398589</td>\n",
              "      <td>0.380348</td>\n",
              "      <td>0.494866</td>\n",
              "      <td>0.648773</td>\n",
              "      <td>0.141815</td>\n",
              "      <td>0.558299</td>\n",
              "      <td>0.450420</td>\n",
              "      <td>0.000000</td>\n",
              "    </tr>\n",
              "    <tr>\n",
              "      <th>50%</th>\n",
              "      <td>0.495456</td>\n",
              "      <td>0.665440</td>\n",
              "      <td>0.477069</td>\n",
              "      <td>0.497187</td>\n",
              "      <td>0.403913</td>\n",
              "      <td>0.496720</td>\n",
              "      <td>0.662275</td>\n",
              "      <td>0.425023</td>\n",
              "      <td>0.588697</td>\n",
              "      <td>0.499095</td>\n",
              "      <td>0.000000</td>\n",
              "    </tr>\n",
              "    <tr>\n",
              "      <th>75%</th>\n",
              "      <td>0.607992</td>\n",
              "      <td>0.731442</td>\n",
              "      <td>0.483449</td>\n",
              "      <td>0.505081</td>\n",
              "      <td>0.434026</td>\n",
              "      <td>0.498485</td>\n",
              "      <td>0.719252</td>\n",
              "      <td>0.722933</td>\n",
              "      <td>0.632727</td>\n",
              "      <td>0.564504</td>\n",
              "      <td>0.000000</td>\n",
              "    </tr>\n",
              "    <tr>\n",
              "      <th>max</th>\n",
              "      <td>1.000000</td>\n",
              "      <td>1.000058</td>\n",
              "      <td>1.000000</td>\n",
              "      <td>1.000000</td>\n",
              "      <td>1.000000</td>\n",
              "      <td>1.000226</td>\n",
              "      <td>1.000000</td>\n",
              "      <td>1.000000</td>\n",
              "      <td>1.000000</td>\n",
              "      <td>1.000000</td>\n",
              "      <td>1.000000</td>\n",
              "    </tr>\n",
              "  </tbody>\n",
              "</table>\n",
              "</div>"
            ],
            "text/plain": [
              "       t+1_   ____Q,rad/s   ...  t+1_   thro1,_part \n",
              "count        477290.000000  ...        477290.000000\n",
              "mean              0.529000  ...             0.203615\n",
              "std               0.088447  ...             0.402682\n",
              "min               0.000000  ...             0.000000\n",
              "25%               0.481389  ...             0.000000\n",
              "50%               0.495456  ...             0.000000\n",
              "75%               0.607992  ...             0.000000\n",
              "max               1.000000  ...             1.000000\n",
              "\n",
              "[8 rows x 11 columns]"
            ]
          },
          "metadata": {
            "tags": []
          },
          "execution_count": 19
        }
      ]
    },
    {
      "cell_type": "markdown",
      "metadata": {
        "id": "S_kDrS1qH7kc",
        "colab_type": "text"
      },
      "source": [
        "# train models"
      ]
    },
    {
      "cell_type": "markdown",
      "metadata": {
        "id": "rjgpogwABFhX",
        "colab_type": "text"
      },
      "source": [
        "## define callbacks functions"
      ]
    },
    {
      "cell_type": "code",
      "metadata": {
        "id": "18w_KQkpBFEY",
        "colab_type": "code",
        "colab": {}
      },
      "source": [
        "def prepare_tensorboard_callback(model_name=''):\n",
        "  logs_base_dir = \"./tensorbaord_logs\"\n",
        "  model_log_dir = datetime.datetime.now().strftime(\"%Y%m%d-%H%M%S\") + '_' + model_name\n",
        "  target_log_dir = os.path.join(logs_base_dir, model_log_dir)\n",
        "  os.makedirs(target_log_dir, exist_ok=True)\n",
        "  tensorboard_callback = tf.keras.callbacks.TensorBoard(target_log_dir, histogram_freq=1)\n",
        "  return tensorboard_callback\n"
      ],
      "execution_count": 0,
      "outputs": []
    },
    {
      "cell_type": "code",
      "metadata": {
        "id": "MYl_6s7sBMpy",
        "colab_type": "code",
        "colab": {}
      },
      "source": [
        "def prepare_checkpoint_callback(model_name):\n",
        "  checkpoint_base_dir = './checkpoints'\n",
        "  os.makedirs(checkpoint_base_dir, exist_ok=True)\n",
        "  filepath = os.path.join(checkpoint_base_dir, 'cp_'+ model_name)\n",
        "  cp_callback = tf.keras.callbacks.ModelCheckpoint(filepath=filepath,\n",
        "                                                  save_weights_only=True,\n",
        "                                                  verbose=1)\n",
        "  return cp_callback "
      ],
      "execution_count": 0,
      "outputs": []
    },
    {
      "cell_type": "markdown",
      "metadata": {
        "id": "3y07Q50xkLvG",
        "colab_type": "text"
      },
      "source": [
        "## define plot_and_save functions"
      ]
    },
    {
      "cell_type": "code",
      "metadata": {
        "id": "RPDma-JqgyaM",
        "colab_type": "code",
        "outputId": "be458804-9020-4af5-89d7-a236e45ed8ab",
        "colab": {
          "base_uri": "https://localhost:8080/",
          "height": 35
        }
      },
      "source": [
        "base_folder = './results'\n",
        "notebook_folder = '2X55_100Epochs'\n",
        "results_folder = os.path.join(base_folder, notebook_folder)\n",
        "os.makedirs(results_folder, exist_ok=True)\n",
        "print('results_folder : ', results_folder)\n",
        "\n",
        "saved_model_weight = 'saved_weights'\n",
        "saved_model_weight_path = os.path.join(results_folder, saved_model_weight)\n",
        "os.makedirs(saved_model_weight_path, exist_ok=True)\n"
      ],
      "execution_count": 22,
      "outputs": [
        {
          "output_type": "stream",
          "text": [
            "results_folder :  ./results/2X55_100Epochs\n"
          ],
          "name": "stdout"
        }
      ]
    },
    {
      "cell_type": "markdown",
      "metadata": {
        "id": "l8uMddMPkSc1",
        "colab_type": "text"
      },
      "source": [
        "### loss historie"
      ]
    },
    {
      "cell_type": "code",
      "metadata": {
        "id": "I9UHTxwnkWyp",
        "colab_type": "code",
        "colab": {}
      },
      "source": [
        "def save_plots_before_show(diagramm_name):\n",
        "  if not os.path.exists(results_folder):\n",
        "      os.makedirs(diagramm_folder)\n",
        "\n",
        "  plt.savefig(results_folder + '/' + diagramm_name +'.pdf')\n",
        "  plt.savefig(results_folder + '/' + diagramm_name +'.svg')\n",
        "  plt.savefig(results_folder + '/' + diagramm_name +'.png')\n",
        "\n",
        "def pas_history(model_tupels, histories, key='mean_squared_error'):\n",
        "  model_names = [model_tupel[0] for model_tupel in model_tupels]\n",
        "  plt.figure(figsize=(16,10))\n",
        "  for i, history in enumerate(histories):\n",
        "    history_epoch= range(0, len(history['loss']) )\n",
        "\n",
        "    val = plt.plot(history_epoch, history['val_'+key],\n",
        "                   '--', label=model_names[i]+' Val')\n",
        "    plt.plot(history_epoch, history[key], color=val[0].get_color(),\n",
        "             label=model_names[i]+' Train')\n",
        "\n",
        "  plt.xlabel('Epochs')\n",
        "  plt.yscale(\"log\")\n",
        "  plt.ylabel(key.replace('_',' ').title())\n",
        "  plt.legend()\n",
        "\n",
        "  plt.xlim([0,max(history_epoch)])\n",
        "  save_plots_before_show('history_loss'+'_'+key)\n",
        "  plt.show()"
      ],
      "execution_count": 0,
      "outputs": []
    },
    {
      "cell_type": "markdown",
      "metadata": {
        "id": "VJNfegiglg59",
        "colab_type": "text"
      },
      "source": [
        "### metrics (overall and for all single targets )\n",
        "\n"
      ]
    },
    {
      "cell_type": "code",
      "metadata": {
        "id": "be-UQiKHli16",
        "colab_type": "code",
        "colab": {}
      },
      "source": [
        "def pas_metrics_scaled(model_tupel):\n",
        "  model_name = model_tupel[0]\n",
        "  model = model_tupel[1]\n",
        "  df = _df_prediction_metrics(model, scaled=True)\n",
        "  file_path = os.path.join(results_folder, model_name + '_scaled.csv')\n",
        "  df.to_csv(path_or_buf=file_path)\n",
        "  return df\n",
        "  \n",
        "def pas_metrics(model_tupel):\n",
        "  model_name = model_tupel[0]\n",
        "  model = model_tupel[1]\n",
        "  df = _df_prediction_metrics(model, scaled=False)\n",
        "  file_path = os.path.join(results_folder, model_name + '.csv')\n",
        "  df.to_csv(path_or_buf=file_path)\n",
        "  return df\n",
        "\n",
        "\n",
        "def _df_prediction_metrics(model, scaled):\n",
        "  '''\n",
        "  creates describe dataframe of labels and \n",
        "  connect them with mse,rmse and mae per target and overall \n",
        "  '''\n",
        "  pred_Y = model.predict(test_X)\n",
        "  \n",
        "  if scaled:\n",
        "    labels = scaled_df_labels\n",
        "    truth_Y = test_Y\n",
        "  else:\n",
        "    labels = df_labels\n",
        "    pred_Y = label_scaler.inverse_transform(pred_Y)\n",
        "    truth_Y = label_scaler.inverse_transform(test_Y)\n",
        "\n",
        "\n",
        "  mses = mean_squared_error(truth_Y, pred_Y, multioutput='raw_values')\n",
        "  rmses = np.array([math.sqrt(mse) for mse in mses])\n",
        "  maes = mean_absolute_error(truth_Y, pred_Y, multioutput='raw_values')\n",
        "  # average over list should do the job as well\n",
        "  mse = mean_squared_error(truth_Y, pred_Y)\n",
        "  rmse = math.sqrt(mse)\n",
        "  mae = mean_absolute_error(truth_Y, pred_Y)\n",
        "\n",
        "\n",
        "  df_describe = labels.describe()\n",
        "  df_mse_per_feature = pd.DataFrame(data=mses.reshape(1,-1),    # values\n",
        "            index=['mses'],     # index\n",
        "            columns=labels.columns)  #  column names\n",
        "  df_rmse_per_feature = pd.DataFrame(data=rmses.reshape(1,-1),    # values\n",
        "        index=['rmes'],     # index\n",
        "        columns=labels.columns)  #  column names\n",
        "  df_mae_per_feature = pd.DataFrame(data=maes.reshape(1,-1),    # values\n",
        "        index=['maes'],     # index\n",
        "        columns=labels.columns)  #  column names\n",
        "  \n",
        "  \n",
        "  df_mse_all = pd.DataFrame(data=mse,    # values\n",
        "            index=['mse'],     # index\n",
        "            columns=labels.columns)  #  column names\n",
        "  df_rmse_all = pd.DataFrame(data=rmse,    # values\n",
        "        index=['rme'],     # index\n",
        "        columns=labels.columns)  #  column names\n",
        "  df_mae_all = pd.DataFrame(data=mae,    # values\n",
        "        index=['mae'],     # index\n",
        "        columns=labels.columns)  #  column names\n",
        "  \n",
        "\n",
        "  metrics = [df_mse_per_feature, df_rmse_per_feature, df_mae_per_feature, \n",
        "             df_mse_all,df_rmse_all,df_mae_all]\n",
        "  return df_describe.append(metrics)"
      ],
      "execution_count": 0,
      "outputs": []
    },
    {
      "cell_type": "markdown",
      "metadata": {
        "id": "4gaR7IV326E_",
        "colab_type": "text"
      },
      "source": [
        "## define models"
      ]
    },
    {
      "cell_type": "code",
      "metadata": {
        "id": "Fhc2M4VD2_YP",
        "colab_type": "code",
        "colab": {}
      },
      "source": [
        "features_nr = train_X.shape[1]\n",
        "target_nr = train_Y.shape[1]\n",
        "\n",
        "def create_model(model_name, layers, keras_activation, kernel_initializer, \n",
        "                 loss, metrics):\n",
        "  if not layers:\n",
        "    raise Exception('No layers defined. Expected in format [100,100]') \n",
        "\n",
        "  model = keras.Sequential(name=model_name)\n",
        "  \n",
        "  model.add(Dense(layers[0],input_shape=(features_nr,), \n",
        "                          kernel_initializer=kernel_initializer))\n",
        "  model.add(keras_activation())\n",
        "\n",
        "  for i in range(1, len(layers)):\n",
        "    layer_val = layers[i]\n",
        "    model.add(Dense(layer_val, kernel_initializer=kernel_initializer))\n",
        "    model.add(keras_activation())\n",
        "\n",
        "  model.add(Dense(target_nr ))\n",
        "\n",
        "  model.compile(optimizer='adam',\n",
        "                        loss=loss,\n",
        "                        metrics=metrics)\n",
        "\n",
        "  model.summary()\n",
        "  print(model.to_json())\n",
        "  return (model_name, model)\n"
      ],
      "execution_count": 0,
      "outputs": []
    },
    {
      "cell_type": "code",
      "metadata": {
        "id": "KwMj6E7mBL9m",
        "colab_type": "code",
        "outputId": "06c4fa83-1999-497f-91a0-dd5221595cc2",
        "colab": {
          "base_uri": "https://localhost:8080/",
          "height": 374
        }
      },
      "source": [
        "loss='mean_squared_error',\n",
        "metrics=['mean_squared_error', 'mean_absolute_error']\n",
        "\n",
        "\n",
        "model_2x50 = create_model('model_2x50', [50, 50], ReLU, 'he_uniform', \n",
        "             loss, metrics)\n",
        "\n",
        "\n",
        "\n",
        "\n",
        "models = [model_2x50]"
      ],
      "execution_count": 26,
      "outputs": [
        {
          "output_type": "stream",
          "text": [
            "Model: \"model_2x50\"\n",
            "_________________________________________________________________\n",
            "Layer (type)                 Output Shape              Param #   \n",
            "=================================================================\n",
            "dense (Dense)                (None, 50)                750       \n",
            "_________________________________________________________________\n",
            "re_lu (ReLU)                 (None, 50)                0         \n",
            "_________________________________________________________________\n",
            "dense_1 (Dense)              (None, 50)                2550      \n",
            "_________________________________________________________________\n",
            "re_lu_1 (ReLU)               (None, 50)                0         \n",
            "_________________________________________________________________\n",
            "dense_2 (Dense)              (None, 11)                561       \n",
            "=================================================================\n",
            "Total params: 3,861\n",
            "Trainable params: 3,861\n",
            "Non-trainable params: 0\n",
            "_________________________________________________________________\n",
            "{\"class_name\": \"Sequential\", \"config\": {\"name\": \"model_2x50\", \"layers\": [{\"class_name\": \"Dense\", \"config\": {\"name\": \"dense\", \"trainable\": true, \"batch_input_shape\": [null, 14], \"dtype\": \"float32\", \"units\": 50, \"activation\": \"linear\", \"use_bias\": true, \"kernel_initializer\": {\"class_name\": \"VarianceScaling\", \"config\": {\"scale\": 2.0, \"mode\": \"fan_in\", \"distribution\": \"uniform\", \"seed\": null}}, \"bias_initializer\": {\"class_name\": \"Zeros\", \"config\": {}}, \"kernel_regularizer\": null, \"bias_regularizer\": null, \"activity_regularizer\": null, \"kernel_constraint\": null, \"bias_constraint\": null}}, {\"class_name\": \"ReLU\", \"config\": {\"name\": \"re_lu\", \"trainable\": true, \"dtype\": \"float32\", \"max_value\": null, \"negative_slope\": 0.0, \"threshold\": 0.0}}, {\"class_name\": \"Dense\", \"config\": {\"name\": \"dense_1\", \"trainable\": true, \"dtype\": \"float32\", \"units\": 50, \"activation\": \"linear\", \"use_bias\": true, \"kernel_initializer\": {\"class_name\": \"VarianceScaling\", \"config\": {\"scale\": 2.0, \"mode\": \"fan_in\", \"distribution\": \"uniform\", \"seed\": null}}, \"bias_initializer\": {\"class_name\": \"Zeros\", \"config\": {}}, \"kernel_regularizer\": null, \"bias_regularizer\": null, \"activity_regularizer\": null, \"kernel_constraint\": null, \"bias_constraint\": null}}, {\"class_name\": \"ReLU\", \"config\": {\"name\": \"re_lu_1\", \"trainable\": true, \"dtype\": \"float32\", \"max_value\": null, \"negative_slope\": 0.0, \"threshold\": 0.0}}, {\"class_name\": \"Dense\", \"config\": {\"name\": \"dense_2\", \"trainable\": true, \"dtype\": \"float32\", \"units\": 11, \"activation\": \"linear\", \"use_bias\": true, \"kernel_initializer\": {\"class_name\": \"GlorotUniform\", \"config\": {\"seed\": null}}, \"bias_initializer\": {\"class_name\": \"Zeros\", \"config\": {}}, \"kernel_regularizer\": null, \"bias_regularizer\": null, \"activity_regularizer\": null, \"kernel_constraint\": null, \"bias_constraint\": null}}]}, \"keras_version\": \"2.2.4-tf\", \"backend\": \"tensorflow\"}\n"
          ],
          "name": "stdout"
        }
      ]
    },
    {
      "cell_type": "markdown",
      "metadata": {
        "id": "HtFN-OP2HlqQ",
        "colab_type": "text"
      },
      "source": [
        "## train, save and load model"
      ]
    },
    {
      "cell_type": "code",
      "metadata": {
        "id": "DDmtdBRxJKJd",
        "colab_type": "code",
        "colab": {}
      },
      "source": [
        "def train_model(model_tupel, epochs, batch_size):\n",
        "  model_name = model_tupel[0]\n",
        "  keras_model = model_tupel[1]\n",
        "  callbacks = [\n",
        "              #prepare_checkpoint_callback(model_name=model_name),\n",
        "              prepare_tensorboard_callback(model_name=model_name)\n",
        "              ]\n",
        "\n",
        "  history = keras_model.fit(train_X,\n",
        "                            train_Y,\n",
        "                            epochs=epochs,\n",
        "                            batch_size=batch_size,\n",
        "                            validation_data=(test_X, test_Y),\n",
        "                            verbose=2,\n",
        "                            callbacks=callbacks\n",
        "                            )\n",
        "  return history  \n",
        "\n",
        "def _format_model_path(model_name):\n",
        "  file_name = '{}_end'.format(model_name)\n",
        "  return os.path.join(saved_model_weight_path, file_name)\n",
        "\n",
        "def save_model(model_tupel):\n",
        "  model_name = model_tupel[0]\n",
        "  keras_model = model_tupel[1]\n",
        "  file_path = _format_model_path(model_name)\n",
        "  keras_model.save_weights(file_path)\n",
        "\n",
        "def load_model(model_tupel):\n",
        "  model_name = model_tupel[0]\n",
        "  keras_model = model_tupel[1]\n",
        "  file_path = _format_model_path(model_name)\n",
        "  exact_file_path = file_path + '.index'\n",
        "  if os.path.isfile(exact_file_path):\n",
        "    print('load model {}'.format(model_name))\n",
        "    keras_model.load_weights(file_path)\n",
        "    return True\n",
        "  else:\n",
        "    return False\n",
        "\n",
        "def _format_history_path(model_name):\n",
        "  file_name = '{}_history_dict'.format(model_name)\n",
        "  return os.path.join(results_folder, file_name)\n",
        "  \n",
        "\n",
        "def save_history(model_tupel, history):\n",
        "  file_path = _format_history_path(model_tupel[0])\n",
        "  with open(file_path, 'wb') as file_hist:\n",
        "        pickle.dump(history.history, file_hist)\n",
        "  \n",
        "\n",
        "def load_history(model_tupel):\n",
        "  file_path = _format_history_path(model_tupel[0])\n",
        "  if not os.path.isfile(file_path):\n",
        "    return dict()\n",
        "  with open(file_path, 'rb') as file_hist:\n",
        "    return pickle.load(file_hist)"
      ],
      "execution_count": 0,
      "outputs": []
    },
    {
      "cell_type": "code",
      "metadata": {
        "id": "DxQg934JhE_H",
        "colab_type": "code",
        "outputId": "c007b010-98d1-4028-9f10-2c49a0aa252d",
        "colab": {
          "base_uri": "https://localhost:8080/",
          "height": 1000
        }
      },
      "source": [
        "histories = []\n",
        "for model in models:\n",
        "  if not load_model(model):\n",
        "    print(model[0])\n",
        "    history = train_model(model, epochs=100, batch_size=32)\n",
        "    save_model(model)\n",
        "    save_history(model, history)\n",
        "    histories.append(history.history)\n",
        "    print('*******************')\n",
        "  else:\n",
        "    history = load_history(model)\n",
        "    histories.append(history)"
      ],
      "execution_count": 28,
      "outputs": [
        {
          "output_type": "stream",
          "text": [
            "model_2x50\n",
            "Train on 381832 samples, validate on 95458 samples\n",
            "Epoch 1/100\n",
            "381832/381832 - 58s - loss: 6.2651e-04 - mean_squared_error: 6.2650e-04 - mean_absolute_error: 0.0063 - val_loss: 2.8164e-05 - val_mean_squared_error: 2.8164e-05 - val_mean_absolute_error: 0.0043\n",
            "Epoch 2/100\n",
            "381832/381832 - 55s - loss: 8.5243e-06 - mean_squared_error: 8.5243e-06 - mean_absolute_error: 0.0020 - val_loss: 7.1372e-06 - val_mean_squared_error: 7.1372e-06 - val_mean_absolute_error: 0.0020\n",
            "Epoch 3/100\n",
            "381832/381832 - 55s - loss: 6.0192e-06 - mean_squared_error: 6.0192e-06 - mean_absolute_error: 0.0017 - val_loss: 7.4350e-06 - val_mean_squared_error: 7.4350e-06 - val_mean_absolute_error: 0.0020\n",
            "Epoch 4/100\n",
            "381832/381832 - 55s - loss: 5.3389e-06 - mean_squared_error: 5.3389e-06 - mean_absolute_error: 0.0015 - val_loss: 6.3898e-06 - val_mean_squared_error: 6.3898e-06 - val_mean_absolute_error: 0.0018\n",
            "Epoch 5/100\n",
            "381832/381832 - 56s - loss: 4.6521e-06 - mean_squared_error: 4.6521e-06 - mean_absolute_error: 0.0014 - val_loss: 4.2024e-06 - val_mean_squared_error: 4.2024e-06 - val_mean_absolute_error: 0.0014\n",
            "Epoch 6/100\n",
            "381832/381832 - 55s - loss: 4.3210e-06 - mean_squared_error: 4.3210e-06 - mean_absolute_error: 0.0013 - val_loss: 2.6845e-06 - val_mean_squared_error: 2.6845e-06 - val_mean_absolute_error: 9.1207e-04\n",
            "Epoch 7/100\n",
            "381832/381832 - 55s - loss: 4.0468e-06 - mean_squared_error: 4.0468e-06 - mean_absolute_error: 0.0012 - val_loss: 6.8610e-06 - val_mean_squared_error: 6.8610e-06 - val_mean_absolute_error: 0.0019\n",
            "Epoch 8/100\n",
            "381832/381832 - 55s - loss: 3.7700e-06 - mean_squared_error: 3.7700e-06 - mean_absolute_error: 0.0012 - val_loss: 4.0720e-06 - val_mean_squared_error: 4.0720e-06 - val_mean_absolute_error: 0.0012\n",
            "Epoch 9/100\n",
            "381832/381832 - 54s - loss: 3.6836e-06 - mean_squared_error: 3.6836e-06 - mean_absolute_error: 0.0012 - val_loss: 3.7695e-06 - val_mean_squared_error: 3.7695e-06 - val_mean_absolute_error: 0.0013\n",
            "Epoch 10/100\n",
            "381832/381832 - 55s - loss: 3.5563e-06 - mean_squared_error: 3.5563e-06 - mean_absolute_error: 0.0012 - val_loss: 4.0492e-06 - val_mean_squared_error: 4.0492e-06 - val_mean_absolute_error: 0.0014\n",
            "Epoch 11/100\n",
            "381832/381832 - 55s - loss: 3.5467e-06 - mean_squared_error: 3.5467e-06 - mean_absolute_error: 0.0011 - val_loss: 4.6132e-06 - val_mean_squared_error: 4.6132e-06 - val_mean_absolute_error: 0.0016\n",
            "Epoch 12/100\n",
            "381832/381832 - 55s - loss: 3.4215e-06 - mean_squared_error: 3.4215e-06 - mean_absolute_error: 0.0011 - val_loss: 2.0966e-06 - val_mean_squared_error: 2.0966e-06 - val_mean_absolute_error: 7.7672e-04\n",
            "Epoch 13/100\n",
            "381832/381832 - 55s - loss: 3.2360e-06 - mean_squared_error: 3.2360e-06 - mean_absolute_error: 0.0011 - val_loss: 1.9847e-06 - val_mean_squared_error: 1.9847e-06 - val_mean_absolute_error: 7.6064e-04\n",
            "Epoch 14/100\n",
            "381832/381832 - 55s - loss: 3.2175e-06 - mean_squared_error: 3.2175e-06 - mean_absolute_error: 0.0010 - val_loss: 2.4399e-06 - val_mean_squared_error: 2.4399e-06 - val_mean_absolute_error: 9.9291e-04\n",
            "Epoch 15/100\n",
            "381832/381832 - 54s - loss: 3.0144e-06 - mean_squared_error: 3.0144e-06 - mean_absolute_error: 0.0010 - val_loss: 2.6167e-06 - val_mean_squared_error: 2.6167e-06 - val_mean_absolute_error: 9.9408e-04\n",
            "Epoch 16/100\n",
            "381832/381832 - 55s - loss: 3.0218e-06 - mean_squared_error: 3.0218e-06 - mean_absolute_error: 0.0010 - val_loss: 2.1474e-06 - val_mean_squared_error: 2.1474e-06 - val_mean_absolute_error: 8.3892e-04\n",
            "Epoch 17/100\n",
            "381832/381832 - 54s - loss: 2.8759e-06 - mean_squared_error: 2.8759e-06 - mean_absolute_error: 9.9645e-04 - val_loss: 4.1297e-06 - val_mean_squared_error: 4.1297e-06 - val_mean_absolute_error: 0.0013\n",
            "Epoch 18/100\n",
            "381832/381832 - 54s - loss: 2.8855e-06 - mean_squared_error: 2.8856e-06 - mean_absolute_error: 9.8021e-04 - val_loss: 4.8455e-06 - val_mean_squared_error: 4.8455e-06 - val_mean_absolute_error: 0.0016\n",
            "Epoch 19/100\n",
            "381832/381832 - 54s - loss: 2.8808e-06 - mean_squared_error: 2.8808e-06 - mean_absolute_error: 9.5917e-04 - val_loss: 1.4703e-06 - val_mean_squared_error: 1.4703e-06 - val_mean_absolute_error: 4.9717e-04\n",
            "Epoch 20/100\n",
            "381832/381832 - 54s - loss: 2.7998e-06 - mean_squared_error: 2.7998e-06 - mean_absolute_error: 9.4810e-04 - val_loss: 3.2946e-06 - val_mean_squared_error: 3.2946e-06 - val_mean_absolute_error: 0.0011\n",
            "Epoch 21/100\n",
            "381832/381832 - 54s - loss: 2.6425e-06 - mean_squared_error: 2.6425e-06 - mean_absolute_error: 9.4418e-04 - val_loss: 1.9219e-06 - val_mean_squared_error: 1.9219e-06 - val_mean_absolute_error: 7.8831e-04\n",
            "Epoch 22/100\n",
            "381832/381832 - 55s - loss: 2.8207e-06 - mean_squared_error: 2.8207e-06 - mean_absolute_error: 9.1863e-04 - val_loss: 5.6066e-06 - val_mean_squared_error: 5.6067e-06 - val_mean_absolute_error: 0.0016\n",
            "Epoch 23/100\n",
            "381832/381832 - 55s - loss: 2.5943e-06 - mean_squared_error: 2.5943e-06 - mean_absolute_error: 9.1598e-04 - val_loss: 4.9657e-06 - val_mean_squared_error: 4.9657e-06 - val_mean_absolute_error: 0.0013\n",
            "Epoch 24/100\n",
            "381832/381832 - 54s - loss: 2.6499e-06 - mean_squared_error: 2.6499e-06 - mean_absolute_error: 9.0630e-04 - val_loss: 3.0989e-06 - val_mean_squared_error: 3.0989e-06 - val_mean_absolute_error: 0.0012\n",
            "Epoch 25/100\n",
            "381832/381832 - 53s - loss: 2.5175e-06 - mean_squared_error: 2.5175e-06 - mean_absolute_error: 9.2150e-04 - val_loss: 6.7856e-06 - val_mean_squared_error: 6.7856e-06 - val_mean_absolute_error: 0.0016\n",
            "Epoch 26/100\n",
            "381832/381832 - 53s - loss: 2.4432e-06 - mean_squared_error: 2.4432e-06 - mean_absolute_error: 8.8290e-04 - val_loss: 4.2361e-06 - val_mean_squared_error: 4.2361e-06 - val_mean_absolute_error: 0.0013\n",
            "Epoch 27/100\n",
            "381832/381832 - 54s - loss: 2.5827e-06 - mean_squared_error: 2.5827e-06 - mean_absolute_error: 8.8637e-04 - val_loss: 1.5639e-06 - val_mean_squared_error: 1.5639e-06 - val_mean_absolute_error: 5.7944e-04\n",
            "Epoch 28/100\n",
            "381832/381832 - 54s - loss: 2.5525e-06 - mean_squared_error: 2.5525e-06 - mean_absolute_error: 8.8240e-04 - val_loss: 3.3541e-06 - val_mean_squared_error: 3.3541e-06 - val_mean_absolute_error: 0.0013\n",
            "Epoch 29/100\n",
            "381832/381832 - 54s - loss: 2.4961e-06 - mean_squared_error: 2.4961e-06 - mean_absolute_error: 8.7539e-04 - val_loss: 3.4754e-06 - val_mean_squared_error: 3.4754e-06 - val_mean_absolute_error: 0.0014\n",
            "Epoch 30/100\n",
            "381832/381832 - 54s - loss: 2.4697e-06 - mean_squared_error: 2.4697e-06 - mean_absolute_error: 8.7092e-04 - val_loss: 3.9144e-06 - val_mean_squared_error: 3.9144e-06 - val_mean_absolute_error: 0.0014\n",
            "Epoch 31/100\n",
            "381832/381832 - 54s - loss: 2.5569e-06 - mean_squared_error: 2.5569e-06 - mean_absolute_error: 8.6947e-04 - val_loss: 2.3960e-06 - val_mean_squared_error: 2.3960e-06 - val_mean_absolute_error: 8.1861e-04\n",
            "Epoch 32/100\n",
            "381832/381832 - 54s - loss: 2.4074e-06 - mean_squared_error: 2.4074e-06 - mean_absolute_error: 8.5363e-04 - val_loss: 2.3924e-06 - val_mean_squared_error: 2.3924e-06 - val_mean_absolute_error: 9.6163e-04\n",
            "Epoch 33/100\n",
            "381832/381832 - 55s - loss: 2.3555e-06 - mean_squared_error: 2.3555e-06 - mean_absolute_error: 8.6470e-04 - val_loss: 2.1112e-06 - val_mean_squared_error: 2.1112e-06 - val_mean_absolute_error: 8.4616e-04\n",
            "Epoch 34/100\n",
            "381832/381832 - 55s - loss: 2.4608e-06 - mean_squared_error: 2.4608e-06 - mean_absolute_error: 8.5706e-04 - val_loss: 3.2496e-06 - val_mean_squared_error: 3.2496e-06 - val_mean_absolute_error: 0.0012\n",
            "Epoch 35/100\n",
            "381832/381832 - 54s - loss: 2.4377e-06 - mean_squared_error: 2.4377e-06 - mean_absolute_error: 8.4752e-04 - val_loss: 1.9777e-06 - val_mean_squared_error: 1.9777e-06 - val_mean_absolute_error: 7.8535e-04\n",
            "Epoch 36/100\n",
            "381832/381832 - 54s - loss: 2.4311e-06 - mean_squared_error: 2.4311e-06 - mean_absolute_error: 8.3880e-04 - val_loss: 2.0181e-06 - val_mean_squared_error: 2.0181e-06 - val_mean_absolute_error: 8.1628e-04\n",
            "Epoch 37/100\n",
            "381832/381832 - 53s - loss: 2.4252e-06 - mean_squared_error: 2.4252e-06 - mean_absolute_error: 8.3672e-04 - val_loss: 2.0966e-06 - val_mean_squared_error: 2.0966e-06 - val_mean_absolute_error: 8.8090e-04\n",
            "Epoch 38/100\n",
            "381832/381832 - 54s - loss: 2.3686e-06 - mean_squared_error: 2.3686e-06 - mean_absolute_error: 8.5959e-04 - val_loss: 1.9919e-06 - val_mean_squared_error: 1.9919e-06 - val_mean_absolute_error: 7.7866e-04\n",
            "Epoch 39/100\n",
            "381832/381832 - 55s - loss: 2.2472e-06 - mean_squared_error: 2.2472e-06 - mean_absolute_error: 8.2349e-04 - val_loss: 2.2300e-06 - val_mean_squared_error: 2.2300e-06 - val_mean_absolute_error: 9.4501e-04\n",
            "Epoch 40/100\n",
            "381832/381832 - 54s - loss: 2.3673e-06 - mean_squared_error: 2.3673e-06 - mean_absolute_error: 8.3066e-04 - val_loss: 3.7016e-06 - val_mean_squared_error: 3.7016e-06 - val_mean_absolute_error: 0.0013\n",
            "Epoch 41/100\n",
            "381832/381832 - 54s - loss: 2.3592e-06 - mean_squared_error: 2.3592e-06 - mean_absolute_error: 8.2582e-04 - val_loss: 3.0247e-06 - val_mean_squared_error: 3.0247e-06 - val_mean_absolute_error: 0.0013\n",
            "Epoch 42/100\n",
            "381832/381832 - 54s - loss: 2.2677e-06 - mean_squared_error: 2.2677e-06 - mean_absolute_error: 8.2044e-04 - val_loss: 2.8753e-06 - val_mean_squared_error: 2.8753e-06 - val_mean_absolute_error: 0.0010\n",
            "Epoch 43/100\n",
            "381832/381832 - 54s - loss: 2.2647e-06 - mean_squared_error: 2.2647e-06 - mean_absolute_error: 8.1855e-04 - val_loss: 1.8314e-06 - val_mean_squared_error: 1.8314e-06 - val_mean_absolute_error: 7.4237e-04\n",
            "Epoch 44/100\n",
            "381832/381832 - 54s - loss: 2.2772e-06 - mean_squared_error: 2.2772e-06 - mean_absolute_error: 8.2156e-04 - val_loss: 3.1310e-06 - val_mean_squared_error: 3.1310e-06 - val_mean_absolute_error: 0.0011\n",
            "Epoch 45/100\n",
            "381832/381832 - 54s - loss: 2.3108e-06 - mean_squared_error: 2.3108e-06 - mean_absolute_error: 8.3278e-04 - val_loss: 1.0648e-05 - val_mean_squared_error: 1.0648e-05 - val_mean_absolute_error: 0.0022\n",
            "Epoch 46/100\n",
            "381832/381832 - 53s - loss: 2.2785e-06 - mean_squared_error: 2.2785e-06 - mean_absolute_error: 7.9138e-04 - val_loss: 1.8693e-06 - val_mean_squared_error: 1.8693e-06 - val_mean_absolute_error: 7.5893e-04\n",
            "Epoch 47/100\n",
            "381832/381832 - 55s - loss: 2.2438e-06 - mean_squared_error: 2.2438e-06 - mean_absolute_error: 8.1056e-04 - val_loss: 1.9836e-06 - val_mean_squared_error: 1.9836e-06 - val_mean_absolute_error: 7.5782e-04\n",
            "Epoch 48/100\n",
            "381832/381832 - 53s - loss: 2.2988e-06 - mean_squared_error: 2.2988e-06 - mean_absolute_error: 8.0902e-04 - val_loss: 1.8181e-06 - val_mean_squared_error: 1.8181e-06 - val_mean_absolute_error: 6.8504e-04\n",
            "Epoch 49/100\n",
            "381832/381832 - 54s - loss: 2.2238e-06 - mean_squared_error: 2.2238e-06 - mean_absolute_error: 8.0202e-04 - val_loss: 3.1667e-06 - val_mean_squared_error: 3.1667e-06 - val_mean_absolute_error: 0.0011\n",
            "Epoch 50/100\n",
            "381832/381832 - 54s - loss: 2.1788e-06 - mean_squared_error: 2.1788e-06 - mean_absolute_error: 8.0104e-04 - val_loss: 2.0009e-06 - val_mean_squared_error: 2.0009e-06 - val_mean_absolute_error: 7.7780e-04\n",
            "Epoch 51/100\n",
            "381832/381832 - 53s - loss: 2.3042e-06 - mean_squared_error: 2.3042e-06 - mean_absolute_error: 8.0107e-04 - val_loss: 3.1512e-06 - val_mean_squared_error: 3.1512e-06 - val_mean_absolute_error: 0.0012\n",
            "Epoch 52/100\n",
            "381832/381832 - 54s - loss: 2.0891e-06 - mean_squared_error: 2.0891e-06 - mean_absolute_error: 7.9565e-04 - val_loss: 1.7643e-06 - val_mean_squared_error: 1.7643e-06 - val_mean_absolute_error: 6.3796e-04\n",
            "Epoch 53/100\n",
            "381832/381832 - 55s - loss: 2.1857e-06 - mean_squared_error: 2.1857e-06 - mean_absolute_error: 7.9467e-04 - val_loss: 2.3758e-06 - val_mean_squared_error: 2.3758e-06 - val_mean_absolute_error: 9.9125e-04\n",
            "Epoch 54/100\n",
            "381832/381832 - 54s - loss: 2.1548e-06 - mean_squared_error: 2.1548e-06 - mean_absolute_error: 7.8525e-04 - val_loss: 2.8845e-06 - val_mean_squared_error: 2.8845e-06 - val_mean_absolute_error: 0.0010\n",
            "Epoch 55/100\n",
            "381832/381832 - 54s - loss: 2.0565e-06 - mean_squared_error: 2.0565e-06 - mean_absolute_error: 7.9113e-04 - val_loss: 1.4092e-06 - val_mean_squared_error: 1.4092e-06 - val_mean_absolute_error: 4.9744e-04\n",
            "Epoch 56/100\n",
            "381832/381832 - 54s - loss: 2.0994e-06 - mean_squared_error: 2.0994e-06 - mean_absolute_error: 7.8306e-04 - val_loss: 2.4527e-06 - val_mean_squared_error: 2.4527e-06 - val_mean_absolute_error: 8.8422e-04\n",
            "Epoch 57/100\n",
            "381832/381832 - 54s - loss: 2.0416e-06 - mean_squared_error: 2.0416e-06 - mean_absolute_error: 7.7911e-04 - val_loss: 1.8065e-06 - val_mean_squared_error: 1.8065e-06 - val_mean_absolute_error: 7.0330e-04\n",
            "Epoch 58/100\n",
            "381832/381832 - 53s - loss: 2.0354e-06 - mean_squared_error: 2.0354e-06 - mean_absolute_error: 7.7525e-04 - val_loss: 2.4699e-06 - val_mean_squared_error: 2.4699e-06 - val_mean_absolute_error: 0.0010\n",
            "Epoch 59/100\n",
            "381832/381832 - 53s - loss: 2.0323e-06 - mean_squared_error: 2.0323e-06 - mean_absolute_error: 7.8299e-04 - val_loss: 1.3720e-06 - val_mean_squared_error: 1.3720e-06 - val_mean_absolute_error: 5.0075e-04\n",
            "Epoch 60/100\n",
            "381832/381832 - 53s - loss: 2.0271e-06 - mean_squared_error: 2.0271e-06 - mean_absolute_error: 7.8155e-04 - val_loss: 1.5925e-06 - val_mean_squared_error: 1.5925e-06 - val_mean_absolute_error: 6.2629e-04\n",
            "Epoch 61/100\n",
            "381832/381832 - 55s - loss: 2.0946e-06 - mean_squared_error: 2.0946e-06 - mean_absolute_error: 7.7464e-04 - val_loss: 2.4640e-06 - val_mean_squared_error: 2.4640e-06 - val_mean_absolute_error: 9.8669e-04\n",
            "Epoch 62/100\n",
            "381832/381832 - 55s - loss: 1.9372e-06 - mean_squared_error: 1.9372e-06 - mean_absolute_error: 7.7224e-04 - val_loss: 2.2462e-06 - val_mean_squared_error: 2.2462e-06 - val_mean_absolute_error: 8.2315e-04\n",
            "Epoch 63/100\n",
            "381832/381832 - 53s - loss: 2.0757e-06 - mean_squared_error: 2.0757e-06 - mean_absolute_error: 7.7273e-04 - val_loss: 1.4659e-06 - val_mean_squared_error: 1.4659e-06 - val_mean_absolute_error: 5.4299e-04\n",
            "Epoch 64/100\n",
            "381832/381832 - 53s - loss: 2.0612e-06 - mean_squared_error: 2.0612e-06 - mean_absolute_error: 7.6323e-04 - val_loss: 2.9159e-06 - val_mean_squared_error: 2.9159e-06 - val_mean_absolute_error: 0.0011\n",
            "Epoch 65/100\n",
            "381832/381832 - 53s - loss: 2.0115e-06 - mean_squared_error: 2.0115e-06 - mean_absolute_error: 7.6314e-04 - val_loss: 1.7924e-06 - val_mean_squared_error: 1.7924e-06 - val_mean_absolute_error: 7.3291e-04\n",
            "Epoch 66/100\n",
            "381832/381832 - 53s - loss: 2.0378e-06 - mean_squared_error: 2.0378e-06 - mean_absolute_error: 7.6379e-04 - val_loss: 2.0001e-06 - val_mean_squared_error: 2.0001e-06 - val_mean_absolute_error: 7.8478e-04\n",
            "Epoch 67/100\n",
            "381832/381832 - 53s - loss: 2.0715e-06 - mean_squared_error: 2.0715e-06 - mean_absolute_error: 7.5430e-04 - val_loss: 1.4552e-06 - val_mean_squared_error: 1.4552e-06 - val_mean_absolute_error: 5.5697e-04\n",
            "Epoch 68/100\n",
            "381832/381832 - 53s - loss: 2.0185e-06 - mean_squared_error: 2.0185e-06 - mean_absolute_error: 7.7315e-04 - val_loss: 2.0416e-06 - val_mean_squared_error: 2.0416e-06 - val_mean_absolute_error: 6.1064e-04\n",
            "Epoch 69/100\n",
            "381832/381832 - 53s - loss: 1.9637e-06 - mean_squared_error: 1.9637e-06 - mean_absolute_error: 7.5856e-04 - val_loss: 2.0774e-06 - val_mean_squared_error: 2.0774e-06 - val_mean_absolute_error: 8.9285e-04\n",
            "Epoch 70/100\n",
            "381832/381832 - 51s - loss: 1.8972e-06 - mean_squared_error: 1.8972e-06 - mean_absolute_error: 7.5494e-04 - val_loss: 1.7809e-06 - val_mean_squared_error: 1.7809e-06 - val_mean_absolute_error: 7.3183e-04\n",
            "Epoch 71/100\n",
            "381832/381832 - 51s - loss: 1.9133e-06 - mean_squared_error: 1.9134e-06 - mean_absolute_error: 7.5583e-04 - val_loss: 1.8553e-06 - val_mean_squared_error: 1.8553e-06 - val_mean_absolute_error: 8.0096e-04\n",
            "Epoch 72/100\n",
            "381832/381832 - 52s - loss: 1.9521e-06 - mean_squared_error: 1.9521e-06 - mean_absolute_error: 7.5393e-04 - val_loss: 2.1430e-06 - val_mean_squared_error: 2.1430e-06 - val_mean_absolute_error: 8.7703e-04\n",
            "Epoch 73/100\n",
            "381832/381832 - 53s - loss: 2.0079e-06 - mean_squared_error: 2.0079e-06 - mean_absolute_error: 7.3941e-04 - val_loss: 2.2139e-06 - val_mean_squared_error: 2.2139e-06 - val_mean_absolute_error: 8.3785e-04\n",
            "Epoch 74/100\n",
            "381832/381832 - 54s - loss: 1.9508e-06 - mean_squared_error: 1.9508e-06 - mean_absolute_error: 7.4648e-04 - val_loss: 1.8187e-06 - val_mean_squared_error: 1.8187e-06 - val_mean_absolute_error: 7.4632e-04\n",
            "Epoch 75/100\n",
            "381832/381832 - 53s - loss: 1.9658e-06 - mean_squared_error: 1.9658e-06 - mean_absolute_error: 7.3750e-04 - val_loss: 2.2630e-06 - val_mean_squared_error: 2.2630e-06 - val_mean_absolute_error: 8.9776e-04\n",
            "Epoch 76/100\n",
            "381832/381832 - 53s - loss: 1.9770e-06 - mean_squared_error: 1.9770e-06 - mean_absolute_error: 7.3479e-04 - val_loss: 1.6337e-06 - val_mean_squared_error: 1.6337e-06 - val_mean_absolute_error: 5.7299e-04\n",
            "Epoch 77/100\n",
            "381832/381832 - 52s - loss: 1.9275e-06 - mean_squared_error: 1.9275e-06 - mean_absolute_error: 7.3526e-04 - val_loss: 2.0529e-06 - val_mean_squared_error: 2.0529e-06 - val_mean_absolute_error: 7.9641e-04\n",
            "Epoch 78/100\n",
            "381832/381832 - 52s - loss: 1.9194e-06 - mean_squared_error: 1.9194e-06 - mean_absolute_error: 7.2909e-04 - val_loss: 1.9041e-06 - val_mean_squared_error: 1.9041e-06 - val_mean_absolute_error: 7.9825e-04\n",
            "Epoch 79/100\n",
            "381832/381832 - 52s - loss: 1.9482e-06 - mean_squared_error: 1.9482e-06 - mean_absolute_error: 7.4174e-04 - val_loss: 2.4917e-06 - val_mean_squared_error: 2.4917e-06 - val_mean_absolute_error: 9.5412e-04\n",
            "Epoch 80/100\n",
            "381832/381832 - 52s - loss: 1.8232e-06 - mean_squared_error: 1.8232e-06 - mean_absolute_error: 7.3812e-04 - val_loss: 1.5751e-06 - val_mean_squared_error: 1.5751e-06 - val_mean_absolute_error: 6.4499e-04\n",
            "Epoch 81/100\n",
            "381832/381832 - 52s - loss: 2.0060e-06 - mean_squared_error: 2.0060e-06 - mean_absolute_error: 7.4385e-04 - val_loss: 1.9639e-06 - val_mean_squared_error: 1.9639e-06 - val_mean_absolute_error: 7.4559e-04\n",
            "Epoch 82/100\n",
            "381832/381832 - 52s - loss: 1.7856e-06 - mean_squared_error: 1.7856e-06 - mean_absolute_error: 7.0703e-04 - val_loss: 2.9613e-06 - val_mean_squared_error: 2.9613e-06 - val_mean_absolute_error: 0.0011\n",
            "Epoch 83/100\n",
            "381832/381832 - 51s - loss: 1.8993e-06 - mean_squared_error: 1.8993e-06 - mean_absolute_error: 7.1946e-04 - val_loss: 1.8675e-06 - val_mean_squared_error: 1.8675e-06 - val_mean_absolute_error: 7.5393e-04\n",
            "Epoch 84/100\n",
            "381832/381832 - 51s - loss: 1.8441e-06 - mean_squared_error: 1.8441e-06 - mean_absolute_error: 7.1605e-04 - val_loss: 1.4435e-06 - val_mean_squared_error: 1.4435e-06 - val_mean_absolute_error: 5.4858e-04\n",
            "Epoch 85/100\n",
            "381832/381832 - 52s - loss: 1.9362e-06 - mean_squared_error: 1.9362e-06 - mean_absolute_error: 7.2111e-04 - val_loss: 1.5879e-06 - val_mean_squared_error: 1.5879e-06 - val_mean_absolute_error: 5.7927e-04\n",
            "Epoch 86/100\n",
            "381832/381832 - 52s - loss: 1.7476e-06 - mean_squared_error: 1.7476e-06 - mean_absolute_error: 7.0832e-04 - val_loss: 2.2243e-06 - val_mean_squared_error: 2.2243e-06 - val_mean_absolute_error: 8.3778e-04\n",
            "Epoch 87/100\n",
            "381832/381832 - 52s - loss: 1.7878e-06 - mean_squared_error: 1.7878e-06 - mean_absolute_error: 7.2975e-04 - val_loss: 1.3077e-06 - val_mean_squared_error: 1.3077e-06 - val_mean_absolute_error: 4.4672e-04\n",
            "Epoch 88/100\n",
            "381832/381832 - 52s - loss: 1.7868e-06 - mean_squared_error: 1.7868e-06 - mean_absolute_error: 7.0608e-04 - val_loss: 1.3225e-06 - val_mean_squared_error: 1.3225e-06 - val_mean_absolute_error: 4.7954e-04\n",
            "Epoch 89/100\n",
            "381832/381832 - 51s - loss: 1.8380e-06 - mean_squared_error: 1.8380e-06 - mean_absolute_error: 7.2825e-04 - val_loss: 1.4588e-06 - val_mean_squared_error: 1.4588e-06 - val_mean_absolute_error: 5.5718e-04\n",
            "Epoch 90/100\n",
            "381832/381832 - 52s - loss: 1.7706e-06 - mean_squared_error: 1.7706e-06 - mean_absolute_error: 6.9044e-04 - val_loss: 1.5110e-06 - val_mean_squared_error: 1.5110e-06 - val_mean_absolute_error: 5.6846e-04\n",
            "Epoch 91/100\n",
            "381832/381832 - 52s - loss: 1.7548e-06 - mean_squared_error: 1.7548e-06 - mean_absolute_error: 7.0790e-04 - val_loss: 1.7257e-06 - val_mean_squared_error: 1.7257e-06 - val_mean_absolute_error: 6.6810e-04\n",
            "Epoch 92/100\n",
            "381832/381832 - 52s - loss: 1.7739e-06 - mean_squared_error: 1.7739e-06 - mean_absolute_error: 7.1492e-04 - val_loss: 1.7532e-06 - val_mean_squared_error: 1.7532e-06 - val_mean_absolute_error: 7.3960e-04\n",
            "Epoch 93/100\n",
            "381832/381832 - 52s - loss: 1.8423e-06 - mean_squared_error: 1.8423e-06 - mean_absolute_error: 6.9672e-04 - val_loss: 2.0191e-06 - val_mean_squared_error: 2.0191e-06 - val_mean_absolute_error: 8.5335e-04\n",
            "Epoch 94/100\n",
            "381832/381832 - 52s - loss: 1.8267e-06 - mean_squared_error: 1.8267e-06 - mean_absolute_error: 7.0281e-04 - val_loss: 3.1660e-06 - val_mean_squared_error: 3.1660e-06 - val_mean_absolute_error: 9.3195e-04\n",
            "Epoch 95/100\n",
            "381832/381832 - 52s - loss: 1.8273e-06 - mean_squared_error: 1.8273e-06 - mean_absolute_error: 6.9862e-04 - val_loss: 1.3527e-06 - val_mean_squared_error: 1.3527e-06 - val_mean_absolute_error: 5.0951e-04\n",
            "Epoch 96/100\n",
            "381832/381832 - 53s - loss: 1.7907e-06 - mean_squared_error: 1.7907e-06 - mean_absolute_error: 6.9615e-04 - val_loss: 2.0579e-06 - val_mean_squared_error: 2.0579e-06 - val_mean_absolute_error: 8.7413e-04\n",
            "Epoch 97/100\n",
            "381832/381832 - 52s - loss: 1.8178e-06 - mean_squared_error: 1.8178e-06 - mean_absolute_error: 7.0534e-04 - val_loss: 1.5734e-06 - val_mean_squared_error: 1.5734e-06 - val_mean_absolute_error: 5.8015e-04\n",
            "Epoch 98/100\n",
            "381832/381832 - 53s - loss: 1.8207e-06 - mean_squared_error: 1.8207e-06 - mean_absolute_error: 7.0853e-04 - val_loss: 1.3321e-06 - val_mean_squared_error: 1.3321e-06 - val_mean_absolute_error: 4.5752e-04\n",
            "Epoch 99/100\n",
            "381832/381832 - 52s - loss: 1.6631e-06 - mean_squared_error: 1.6631e-06 - mean_absolute_error: 7.0021e-04 - val_loss: 1.7046e-06 - val_mean_squared_error: 1.7046e-06 - val_mean_absolute_error: 5.9169e-04\n",
            "Epoch 100/100\n",
            "381832/381832 - 52s - loss: 1.8303e-06 - mean_squared_error: 1.8303e-06 - mean_absolute_error: 6.9297e-04 - val_loss: 1.2613e-06 - val_mean_squared_error: 1.2613e-06 - val_mean_absolute_error: 4.4173e-04\n",
            "*******************\n"
          ],
          "name": "stdout"
        }
      ]
    },
    {
      "cell_type": "markdown",
      "metadata": {
        "id": "XRLpUIJnZ-eq",
        "colab_type": "text"
      },
      "source": [
        "## visualize"
      ]
    },
    {
      "cell_type": "markdown",
      "metadata": {
        "id": "8X1nsxWEO59n",
        "colab_type": "text"
      },
      "source": [
        "### Test & Training Loss"
      ]
    },
    {
      "cell_type": "code",
      "metadata": {
        "id": "q7eOZ0lAe1CP",
        "colab_type": "code",
        "outputId": "5c3dae82-8789-487f-acd2-9bbcdec45764",
        "colab": {
          "base_uri": "https://localhost:8080/",
          "height": 70
        }
      },
      "source": [
        "for i, history in enumerate(histories):\n",
        "  last_loss = history['loss'][-1]\n",
        "  last_val_loss = history['val_loss'][-1]\n",
        "  model_name = models[i][0]\n",
        "  print('{} model last loss: {}'.format(model_name,last_loss))\n",
        "  print('{} model last val loss: {}'.format(model_name,last_val_loss))\n",
        "  print('*******')"
      ],
      "execution_count": 29,
      "outputs": [
        {
          "output_type": "stream",
          "text": [
            "model_2x50 model last loss: 1.8302856038449474e-06\n",
            "model_2x50 model last val loss: 1.26127451708832e-06\n",
            "*******\n"
          ],
          "name": "stdout"
        }
      ]
    },
    {
      "cell_type": "code",
      "metadata": {
        "id": "gbFhTgXGITKV",
        "colab_type": "code",
        "outputId": "afe7e4ec-3866-4b01-eb9e-5ea61cde131f",
        "colab": {
          "base_uri": "https://localhost:8080/",
          "height": 629
        }
      },
      "source": [
        "pas_history(models, histories=histories)"
      ],
      "execution_count": 30,
      "outputs": [
        {
          "output_type": "display_data",
          "data": {
            "image/png": "[encoded data removed]",
            "text/plain": [
              "<Figure size 1152x720 with 1 Axes>"
            ]
          },
          "metadata": {
            "tags": []
          }
        }
      ]
    },
    {
      "cell_type": "markdown",
      "metadata": {
        "id": "4vT7MLiJPSQ2",
        "colab_type": "text"
      },
      "source": [
        "\n",
        "### MSE per target (scaled)"
      ]
    },
    {
      "cell_type": "code",
      "metadata": {
        "id": "o03Cq_x5nhRe",
        "colab_type": "code",
        "outputId": "8d525905-6ca9-4d8a-9198-b9666ac83244",
        "colab": {
          "base_uri": "https://localhost:8080/",
          "height": 338
        }
      },
      "source": [
        "for model_tupel in models:\n",
        "  df = pas_metrics_scaled(model_tupel)\n",
        "  print(model_tupel[0])\n",
        "  with pd.option_context('display.max_rows', None, 'display.max_columns', None,\n",
        "                         'display.width', 1000): \n",
        "    print(df)\n",
        "  print('*********************************************************')"
      ],
      "execution_count": 31,
      "outputs": [
        {
          "output_type": "stream",
          "text": [
            "model_2x50\n",
            "       t+1_   ____Q,rad/s   t+1_   _beta,__deg   t+1_   _roll,__deg   t+1_   ____R,rad/s   t+1_   pitch,__deg   t+1_   ____P,rad/s   t+1_   __VVI,__fpm   t+1_   __alt,ftmsl   t+1_   Vtrue,_ktas   t+1_   rpm_1,_prop   t+1_   thro1,_part \n",
            "count        477290.000000         4.772900e+05         4.772900e+05         4.772900e+05         4.772900e+05         4.772900e+05         4.772900e+05        477290.000000         4.772900e+05         4.772900e+05         4.772900e+05\n",
            "mean              0.529000         6.673681e-01         4.632808e-01         4.806785e-01         4.102357e-01         4.966187e-01         6.731588e-01             0.446561         5.970284e-01         5.444874e-01         2.036155e-01\n",
            "std               0.088447         1.319452e-01         1.783255e-01         2.168802e-01         7.980569e-02         7.847443e-02         9.494155e-02             0.317480         1.136176e-01         1.803082e-01         4.026823e-01\n",
            "min               0.000000         0.000000e+00         0.000000e+00         0.000000e+00         0.000000e+00         0.000000e+00         0.000000e+00             0.000000         0.000000e+00         0.000000e+00         0.000000e+00\n",
            "25%               0.481389         5.823606e-01         3.973896e-01         3.985892e-01         3.803479e-01         4.948659e-01         6.487725e-01             0.141815         5.582990e-01         4.504197e-01         0.000000e+00\n",
            "50%               0.495456         6.654400e-01         4.770691e-01         4.971874e-01         4.039126e-01         4.967205e-01         6.622749e-01             0.425023         5.886968e-01         4.990951e-01         0.000000e+00\n",
            "75%               0.607992         7.314416e-01         4.834492e-01         5.050807e-01         4.340259e-01         4.984846e-01         7.192521e-01             0.722933         6.327272e-01         5.645037e-01         0.000000e+00\n",
            "max               1.000000         1.000058e+00         1.000000e+00         1.000000e+00         1.000000e+00         1.000226e+00         1.000000e+00             1.000000         1.000000e+00         1.000000e+00         1.000000e+00\n",
            "mses              0.000002         2.850650e-07         7.189226e-08         1.897239e-07         5.198536e-07         8.569923e-07         8.543153e-07             0.000008         1.247596e-07         5.247081e-07         6.043411e-07\n",
            "rmes              0.001258         5.339148e-04         2.681273e-04         4.355731e-04         7.210088e-04         9.257388e-04         9.242918e-04             0.002874         3.532132e-04         7.243674e-04         7.773938e-04\n",
            "maes              0.000529         2.958033e-04         1.923604e-04         3.021864e-04         6.424774e-04         5.182324e-04         8.504378e-04             0.000084         2.753111e-04         6.451710e-04         5.249201e-04\n",
            "mse               0.000001         1.261274e-06         1.261274e-06         1.261274e-06         1.261274e-06         1.261274e-06         1.261274e-06             0.000001         1.261274e-06         1.261274e-06         1.261274e-06\n",
            "rme               0.001123         1.123065e-03         1.123065e-03         1.123065e-03         1.123065e-03         1.123065e-03         1.123065e-03             0.001123         1.123065e-03         1.123065e-03         1.123065e-03\n",
            "mae               0.000442         4.417272e-04         4.417272e-04         4.417272e-04         4.417272e-04         4.417272e-04         4.417272e-04             0.000442         4.417272e-04         4.417272e-04         4.417272e-04\n",
            "*********************************************************\n"
          ],
          "name": "stdout"
        }
      ]
    },
    {
      "cell_type": "markdown",
      "metadata": {
        "id": "bVhouDRRpewh",
        "colab_type": "text"
      },
      "source": [
        "### MSE per target (unscaled)"
      ]
    },
    {
      "cell_type": "code",
      "metadata": {
        "id": "oTTBfKRgRnTP",
        "colab_type": "code",
        "outputId": "26bbb5ab-cb90-474e-d1a4-5670d4dfd388",
        "colab": {
          "base_uri": "https://localhost:8080/",
          "height": 338
        }
      },
      "source": [
        "for mode_tupel in models:\n",
        "  df = pas_metrics(mode_tupel)\n",
        "  print(model_tupel[0])\n",
        "  with pd.option_context('display.max_rows', None, 'display.max_columns', None,\n",
        "                        'display.width', 1000):  \n",
        "    print(df)\n",
        "  print('*********************************************************')"
      ],
      "execution_count": 32,
      "outputs": [
        {
          "output_type": "stream",
          "text": [
            "model_2x50\n",
            "       t+1_   ____Q,rad/s   t+1_   _beta,__deg   t+1_   _roll,__deg   t+1_   ____R,rad/s   t+1_   pitch,__deg   t+1_   ____P,rad/s   t+1_   __VVI,__fpm   t+1_   __alt,ftmsl   t+1_   Vtrue,_ktas   t+1_   rpm_1,_prop   t+1_   thro1,_part \n",
            "count         4.772900e+05         4.772900e+05        477290.000000         4.772900e+05        477290.000000         4.772900e+05        477290.000000        477290.000000        477290.000000        477290.000000         4.772900e+05\n",
            "mean          3.814590e-03         6.401959e-03            -0.791050        -1.839620e-03            -0.653565        -2.251091e-05            31.866864          2714.494657           119.567394          2490.421446         8.376013e-01\n",
            "std           7.104948e-03         1.376795e-01             8.876411         2.390454e-02             1.684673         1.734834e-02           274.991234          1357.480898            10.113312           127.216670         8.211498e-02\n",
            "min          -3.868000e-02        -6.899700e-01           -23.851520        -5.482000e-02            -9.313510        -1.098100e-01         -1917.888180           805.092900            66.424780          2106.257810         7.960800e-01\n",
            "25%          -1.000000e-05        -8.230000e-02            -4.070882        -1.088750e-02            -1.284488        -4.100000e-04           -38.766265          1411.464812           116.120015          2424.051882         7.960800e-01\n",
            "50%           1.120000e-03         4.390000e-03            -0.104720        -2.000000e-05            -0.787045         0.000000e+00             0.342395          2622.403565           118.825780          2458.394900         7.960800e-01\n",
            "75%           1.016000e-02         7.326000e-02             0.212860         8.500000e-04            -0.151363         3.900000e-04           165.372623          3896.206053           122.745007          2504.543950         7.960800e-01\n",
            "max           4.165000e-02         3.535500e-01            25.924920         5.540000e-02            11.796170         1.113100e-01           978.538330          5080.888180           155.436650          2811.808840         1.000000e+00\n",
            "mses          1.021681e-08         3.103816e-07             0.000178         2.304849e-09             0.000232         4.188288e-08             7.167097           150.996028             0.000988             0.261188         2.513060e-08\n",
            "rmes          1.010782e-04         5.571190e-04             0.013346         4.800884e-05             0.015220         2.046531e-04             2.677143            12.288044             0.031440             0.511066         1.585263e-04\n",
            "maes          4.245484e-05         3.086596e-04             0.009575         3.330694e-05             0.013563         1.145656e-04             2.463231             0.357419             0.024505             0.455187         1.070422e-04\n",
            "mse           1.440234e+01         1.440234e+01            14.402337         1.440234e+01            14.402337         1.440234e+01            14.402337            14.402337            14.402337            14.402337         1.440234e+01\n",
            "rme           3.795041e+00         3.795041e+00             3.795041         3.795041e+00             3.795041         3.795041e+00             3.795041             3.795041             3.795041             3.795041         3.795041e+00\n",
            "mae           3.021897e-01         3.021897e-01             0.302190         3.021897e-01             0.302190         3.021897e-01             0.302190             0.302190             0.302190             0.302190         3.021897e-01\n",
            "*********************************************************\n"
          ],
          "name": "stdout"
        }
      ]
    },
    {
      "cell_type": "code",
      "metadata": {
        "id": "N-8LmbK2eki9",
        "colab_type": "code",
        "colab": {}
      },
      "source": [
        ""
      ],
      "execution_count": 0,
      "outputs": []
    }
  ]
}