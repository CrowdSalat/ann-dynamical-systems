{
  "nbformat": 4,
  "nbformat_minor": 0,
  "metadata": {
    "colab": {
      "name": "predict_plane_state.ipynb",
      "provenance": [],
      "collapsed_sections": [],
      "include_colab_link": true
    },
    "kernelspec": {
      "name": "python3",
      "display_name": "Python 3"
    }
  },
  "cells": [
    {
      "cell_type": "markdown",
      "metadata": {
        "id": "view-in-github",
        "colab_type": "text"
      },
      "source": [
        "<a href=\"https://colab.research.google.com/github/CrowdSalat/ann-dynamical-systems/blob/master/predict_plane_state.ipynb\" target=\"_parent\"><img src=\"https://colab.research.google.com/assets/colab-badge.svg\" alt=\"Open In Colab\"/></a>"
      ]
    },
    {
      "cell_type": "markdown",
      "metadata": {
        "id": "Pa9Mju9lc4Ll",
        "colab_type": "text"
      },
      "source": [
        "# predict plane state\n",
        "\n",
        "Uses actions and a input state to predict the outputstate."
      ]
    },
    {
      "cell_type": "markdown",
      "metadata": {
        "id": "ijDD21X-gnli",
        "colab_type": "text"
      },
      "source": [
        "## imports"
      ]
    },
    {
      "cell_type": "code",
      "metadata": {
        "id": "_Z4pV678a1zv",
        "colab_type": "code",
        "outputId": "c13eee82-375f-49b8-a681-b56f9c38cfc4",
        "colab": {
          "base_uri": "https://localhost:8080/",
          "height": 35
        }
      },
      "source": [
        "try:\n",
        "  # %tensorflow_version only exists in Colab.\n",
        "  %tensorflow_version 2.x\n",
        "except Exception:\n",
        "  pass"
      ],
      "execution_count": 2,
      "outputs": [
        {
          "output_type": "stream",
          "text": [
            "TensorFlow 2.x selected.\n"
          ],
          "name": "stdout"
        }
      ]
    },
    {
      "cell_type": "code",
      "metadata": {
        "id": "2p4YwEK_f7kq",
        "colab_type": "code",
        "outputId": "c533b4da-259e-4dad-ec87-91b113debac8",
        "colab": {
          "base_uri": "https://localhost:8080/",
          "height": 53
        }
      },
      "source": [
        "import pandas as pd\n",
        "import numpy as np\n",
        "import os\n",
        "import sys\n",
        "import matplotlib.pyplot as plt\n",
        "\n",
        "from keras.models import Sequential\n",
        "from keras.layers import Dense\n",
        "from sklearn.preprocessing import MinMaxScaler\n",
        "from sklearn.metrics import mean_squared_error\n",
        "\n",
        "\n",
        "import tensorflow as tf\n",
        "print(tf.__version__)\n",
        "from tensorflow import keras"
      ],
      "execution_count": 3,
      "outputs": [
        {
          "output_type": "stream",
          "text": [
            "Using TensorFlow backend.\n"
          ],
          "name": "stderr"
        },
        {
          "output_type": "stream",
          "text": [
            "2.0.0-rc2\n"
          ],
          "name": "stdout"
        }
      ]
    },
    {
      "cell_type": "markdown",
      "metadata": {
        "id": "rmj8c18xllpT",
        "colab_type": "text"
      },
      "source": [
        "## load files"
      ]
    },
    {
      "cell_type": "code",
      "metadata": {
        "id": "nUEqcpzvltdo",
        "colab_type": "code",
        "colab": {}
      },
      "source": [
        "file0 = 'trainingsset_00.csv'"
      ],
      "execution_count": 0,
      "outputs": []
    },
    {
      "cell_type": "code",
      "metadata": {
        "id": "TuGWEMS1loFz",
        "colab_type": "code",
        "outputId": "f7be5bf9-c643-4609-c27d-686acc65b80a",
        "colab": {
          "base_uri": "https://localhost:8080/",
          "height": 145
        }
      },
      "source": [
        "from google.colab import drive\n",
        "drive.mount('/content/drive')\n",
        "\n",
        "root_dir = '/content/drive/My Drive/xplane_data' \n",
        "os.chdir(root_dir)\n",
        "print ('working dir: ' + os.getcwd())"
      ],
      "execution_count": 5,
      "outputs": [
        {
          "output_type": "stream",
          "text": [
            "Go to this URL in a browser: https://accounts.google.com/o/oauth2/auth?client_id=947318989803-6bn6qk8qdgf4n4g3pfee6491hc0brc4i.apps.googleusercontent.com&redirect_uri=urn%3Aietf%3Awg%3Aoauth%3A2.0%3Aoob&scope=email%20https%3A%2F%2Fwww.googleapis.com%2Fauth%2Fdocs.test%20https%3A%2F%2Fwww.googleapis.com%2Fauth%2Fdrive%20https%3A%2F%2Fwww.googleapis.com%2Fauth%2Fdrive.photos.readonly%20https%3A%2F%2Fwww.googleapis.com%2Fauth%2Fpeopleapi.readonly&response_type=code\n",
            "\n",
            "Enter your authorization code:\n",
            "··········\n",
            "Mounted at /content/drive\n",
            "working dir: /content/drive/My Drive/xplane_data\n"
          ],
          "name": "stdout"
        }
      ]
    },
    {
      "cell_type": "markdown",
      "metadata": {
        "id": "EOM6RVAIduGr",
        "colab_type": "text"
      },
      "source": [
        "## actions & states\n",
        "actions and states at time t are the input for the network.\n",
        "\n",
        "the states at time t + 1 are the desired output of the network.\n"
      ]
    },
    {
      "cell_type": "code",
      "metadata": {
        "id": "yFkivrN4c8m3",
        "colab_type": "code",
        "colab": {}
      },
      "source": [
        "m_time      = '   missn,_time '\n",
        "z_time      = '   _zulu,_time '\n",
        "yaw_v       = '   ____Q,rad/s '\n",
        "yaw_deg     = '   hding,_true '\n",
        "roll_deg    = '   _roll,__deg '\n",
        "roll_v      = '   ____R,rad/s '\n",
        "pitch_deg   = '   pitch,__deg '\n",
        "pitch_v     = '   ____P,rad/s '\n",
        "alt         = '   __alt,ftmsl '\n",
        "vv          = '   __VVI,__fpm '\n",
        "v           = '   Vtrue,_ktas '\n",
        "rpm_prop    = '   rpm_1,_prop '\n",
        "\n",
        "# TODO add throt, part and throt, part2 to dataoutput\t\t\n",
        "\n",
        "state = [ \n",
        "          #m_time,\n",
        "          #z_time,\n",
        "          yaw_v,\n",
        "          yaw_deg,\n",
        "          roll_deg,\n",
        "          roll_v,\n",
        "          pitch_deg,\n",
        "          pitch_v,\n",
        "          vv,\n",
        "          alt,\n",
        "          v,\n",
        "          rpm_prop,\n",
        "          #TODO add throttle\n",
        "        ]"
      ],
      "execution_count": 0,
      "outputs": []
    },
    {
      "cell_type": "code",
      "metadata": {
        "id": "NLrzj9VVd1O-",
        "colab_type": "code",
        "colab": {}
      },
      "source": [
        "elev_servo                  = '   _elev,servo '\n",
        "ailrn_servo                  = '   ailrn,servo '\n",
        "ruddr_servo                  = '   ruddr,servo '\n",
        "\n",
        "actions = [\n",
        "           elev_servo , \n",
        "           ailrn_servo, \n",
        "           ruddr_servo         \n",
        "]"
      ],
      "execution_count": 0,
      "outputs": []
    },
    {
      "cell_type": "code",
      "metadata": {
        "id": "uByPEHX3fS2G",
        "colab_type": "code",
        "colab": {}
      },
      "source": [
        "def load_xplane_csv(csv_path, columns):\n",
        "    return pd.read_csv(csv_path, delimiter='|', usecols = columns, \n",
        "                       float_precision='high')\n",
        "\n",
        "df_actions = load_xplane_csv(file0, actions)\n",
        "\n",
        "df_states = load_xplane_csv(file0, state)\n",
        "\n",
        "assert(len(df_actions) == len(df_states))\n"
      ],
      "execution_count": 0,
      "outputs": []
    },
    {
      "cell_type": "code",
      "metadata": {
        "id": "duAW3SIchLcR",
        "colab_type": "code",
        "outputId": "2667cb60-4469-4265-86ca-b3f679253925",
        "colab": {
          "base_uri": "https://localhost:8080/",
          "height": 107
        }
      },
      "source": [
        "def get_labels_ownimpl(states_t0):\n",
        "  '''\n",
        "  remove first row \n",
        "  add new  np.nan row at the end\n",
        "  prefix column names wih 'y_'\n",
        "  '''\n",
        "  states_t1 = states_t0.copy().drop(0)\n",
        "  states_t1 = states_t1.add_suffix('_t+1')\n",
        "  nan_row = pd.DataFrame(np.nan, index=[len(states_t1) + 1], columns=states_t1.columns)\n",
        "  states_t1 = states_t1.append(nan_row)\n",
        "  assert(states_t0.shape == states_t1.shape)\n",
        "  return states_t1\n",
        "\n",
        "def get_labels(features):\n",
        "  return features[:].shift(-1).add_suffix('_t+1')\n",
        "\n",
        "df_labels = get_labels(df_states)\n",
        "print(df_labels.tail(2))\n"
      ],
      "execution_count": 9,
      "outputs": [
        {
          "output_type": "stream",
          "text": [
            "         Vtrue,_ktas _t+1  ...     rpm_1,_prop _t+1\n",
            "6484            127.53832  ...           2604.68213\n",
            "6485                  NaN  ...                  NaN\n",
            "\n",
            "[2 rows x 10 columns]\n"
          ],
          "name": "stdout"
        }
      ]
    },
    {
      "cell_type": "code",
      "metadata": {
        "id": "QrIc5hWyvzkK",
        "colab_type": "code",
        "colab": {}
      },
      "source": [
        "def split_train_test(dataset):\n",
        "  train_size = int(len(dataset) * 0.67)\n",
        "  test_size = len(dataset) - train_size\n",
        "  train, test = dataset[0:train_size,:], dataset[train_size:len(dataset),:]\n",
        "  return train, test\n"
      ],
      "execution_count": 0,
      "outputs": []
    },
    {
      "cell_type": "code",
      "metadata": {
        "id": "wFF9QfAdv8CQ",
        "colab_type": "code",
        "colab": {}
      },
      "source": [
        "df_features = df_actions.join(df_states)\n",
        "assert(len(df_features) == len(df_labels))\n",
        "\n",
        "features = df_features.values\n",
        "labels = df_labels.values\n",
        "\n",
        "train_X, test_X = split_train_test(features)\n",
        "train_Y, test_Y = split_train_test(labels)"
      ],
      "execution_count": 0,
      "outputs": []
    },
    {
      "cell_type": "code",
      "metadata": {
        "id": "YpDcgWG3LiCO",
        "colab_type": "code",
        "outputId": "904954f5-3c19-4c3f-eb86-774abf0732d8",
        "colab": {
          "base_uri": "https://localhost:8080/",
          "height": 227
        }
      },
      "source": [
        "print(train_X.shape)\n",
        "print(train_Y.shape)\n",
        "print(test_X.shape)\n",
        "print(test_Y.shape)"
      ],
      "execution_count": 1,
      "outputs": [
        {
          "output_type": "error",
          "ename": "NameError",
          "evalue": "ignored",
          "traceback": [
            "\u001b[0;31m---------------------------------------------------------------------------\u001b[0m",
            "\u001b[0;31mNameError\u001b[0m                                 Traceback (most recent call last)",
            "\u001b[0;32m<ipython-input-1-2f59a27af298>\u001b[0m in \u001b[0;36m<module>\u001b[0;34m()\u001b[0m\n\u001b[0;32m----> 1\u001b[0;31m \u001b[0mprint\u001b[0m\u001b[0;34m(\u001b[0m\u001b[0mtrain_X\u001b[0m\u001b[0;34m.\u001b[0m\u001b[0mshape\u001b[0m\u001b[0;34m)\u001b[0m\u001b[0;34m\u001b[0m\u001b[0;34m\u001b[0m\u001b[0m\n\u001b[0m\u001b[1;32m      2\u001b[0m \u001b[0mprint\u001b[0m\u001b[0;34m(\u001b[0m\u001b[0mtrain_Y\u001b[0m\u001b[0;34m.\u001b[0m\u001b[0mshape\u001b[0m\u001b[0;34m)\u001b[0m\u001b[0;34m\u001b[0m\u001b[0;34m\u001b[0m\u001b[0m\n\u001b[1;32m      3\u001b[0m \u001b[0mprint\u001b[0m\u001b[0;34m(\u001b[0m\u001b[0mtest_X\u001b[0m\u001b[0;34m.\u001b[0m\u001b[0mshape\u001b[0m\u001b[0;34m)\u001b[0m\u001b[0;34m\u001b[0m\u001b[0;34m\u001b[0m\u001b[0m\n\u001b[1;32m      4\u001b[0m \u001b[0mprint\u001b[0m\u001b[0;34m(\u001b[0m\u001b[0mtest_Y\u001b[0m\u001b[0;34m.\u001b[0m\u001b[0mshape\u001b[0m\u001b[0;34m)\u001b[0m\u001b[0;34m\u001b[0m\u001b[0;34m\u001b[0m\u001b[0m\n",
            "\u001b[0;31mNameError\u001b[0m: name 'train_X' is not defined"
          ]
        }
      ]
    },
    {
      "cell_type": "code",
      "metadata": {
        "id": "KwMj6E7mBL9m",
        "colab_type": "code",
        "outputId": "58adae31-b920-463c-8fba-f8d290c370d3",
        "colab": {
          "base_uri": "https://localhost:8080/",
          "height": 306
        }
      },
      "source": [
        "features_nr = train_X.shape[1]\n",
        "target_nr = train_Y.shape[1]\n",
        "\n",
        "\n",
        "baseline_model = keras.Sequential([\n",
        "    # `input_shape` is only required here so that `.summary` works.\n",
        "    keras.layers.Dense(features_nr, activation='relu', \n",
        "                       input_shape=(features_nr,)),\n",
        "    keras.layers.Dense(400, activation='relu'),\n",
        "    keras.layers.Dense(400, activation='relu'),\n",
        "    keras.layers.Dense(target_nr)\n",
        "])\n",
        "\n",
        "baseline_model.compile(optimizer='adam',\n",
        "                       loss='mean_squared_error',\n",
        "                       metrics=['accuracy', 'binary_crossentropy', 'mean_squared_error'])\n",
        "\n",
        "baseline_model.summary()\n"
      ],
      "execution_count": 35,
      "outputs": [
        {
          "output_type": "stream",
          "text": [
            "Model: \"sequential_10\"\n",
            "_________________________________________________________________\n",
            "Layer (type)                 Output Shape              Param #   \n",
            "=================================================================\n",
            "dense_44 (Dense)             (None, 13)                182       \n",
            "_________________________________________________________________\n",
            "dense_45 (Dense)             (None, 400)               5600      \n",
            "_________________________________________________________________\n",
            "dense_46 (Dense)             (None, 400)               160400    \n",
            "_________________________________________________________________\n",
            "dense_47 (Dense)             (None, 10)                4010      \n",
            "=================================================================\n",
            "Total params: 170,192\n",
            "Trainable params: 170,192\n",
            "Non-trainable params: 0\n",
            "_________________________________________________________________\n"
          ],
          "name": "stdout"
        }
      ]
    },
    {
      "cell_type": "code",
      "metadata": {
        "id": "DDmtdBRxJKJd",
        "colab_type": "code",
        "outputId": "e94bb597-4f5e-4c54-d46b-e55c431e2d70",
        "colab": {
          "base_uri": "https://localhost:8080/",
          "height": 776
        }
      },
      "source": [
        "baseline_history = baseline_model.fit(train_X,\n",
        "                                      train_Y,\n",
        "                                      epochs=20,\n",
        "                                      batch_size=512,\n",
        "                                      validation_data=(test_X, test_Y),\n",
        "                                      verbose=2)\n"
      ],
      "execution_count": 43,
      "outputs": [
        {
          "output_type": "stream",
          "text": [
            "Train on 4345 samples, validate on 2141 samples\n",
            "Epoch 1/20\n",
            "4345/4345 - 0s - loss: 9.3323 - accuracy: 1.0000 - binary_crossentropy: -6.6663e+03 - mean_squared_error: 9.3323 - val_loss: nan - val_accuracy: 0.9995 - val_binary_crossentropy: nan - val_mean_squared_error: nan\n",
            "Epoch 2/20\n",
            "4345/4345 - 0s - loss: 6.0379 - accuracy: 1.0000 - binary_crossentropy: -6.6670e+03 - mean_squared_error: 6.0379 - val_loss: nan - val_accuracy: 0.9995 - val_binary_crossentropy: nan - val_mean_squared_error: nan\n",
            "Epoch 3/20\n",
            "4345/4345 - 0s - loss: 5.1040 - accuracy: 1.0000 - binary_crossentropy: -6.6681e+03 - mean_squared_error: 5.1040 - val_loss: nan - val_accuracy: 0.9995 - val_binary_crossentropy: nan - val_mean_squared_error: nan\n",
            "Epoch 4/20\n",
            "4345/4345 - 0s - loss: 4.7419 - accuracy: 1.0000 - binary_crossentropy: -6.6686e+03 - mean_squared_error: 4.7419 - val_loss: nan - val_accuracy: 0.9995 - val_binary_crossentropy: nan - val_mean_squared_error: nan\n",
            "Epoch 5/20\n",
            "4345/4345 - 0s - loss: 4.8404 - accuracy: 1.0000 - binary_crossentropy: -6.6687e+03 - mean_squared_error: 4.8404 - val_loss: nan - val_accuracy: 0.9995 - val_binary_crossentropy: nan - val_mean_squared_error: nan\n",
            "Epoch 6/20\n",
            "4345/4345 - 0s - loss: 4.5520 - accuracy: 1.0000 - binary_crossentropy: -6.6691e+03 - mean_squared_error: 4.5520 - val_loss: nan - val_accuracy: 0.9995 - val_binary_crossentropy: nan - val_mean_squared_error: nan\n",
            "Epoch 7/20\n",
            "4345/4345 - 0s - loss: 4.5819 - accuracy: 1.0000 - binary_crossentropy: -6.6687e+03 - mean_squared_error: 4.5819 - val_loss: nan - val_accuracy: 0.9995 - val_binary_crossentropy: nan - val_mean_squared_error: nan\n",
            "Epoch 8/20\n",
            "4345/4345 - 0s - loss: 4.6473 - accuracy: 1.0000 - binary_crossentropy: -6.6689e+03 - mean_squared_error: 4.6473 - val_loss: nan - val_accuracy: 0.9995 - val_binary_crossentropy: nan - val_mean_squared_error: nan\n",
            "Epoch 9/20\n",
            "4345/4345 - 0s - loss: 4.6324 - accuracy: 1.0000 - binary_crossentropy: -6.6690e+03 - mean_squared_error: 4.6324 - val_loss: nan - val_accuracy: 0.9995 - val_binary_crossentropy: nan - val_mean_squared_error: nan\n",
            "Epoch 10/20\n",
            "4345/4345 - 0s - loss: 4.4433 - accuracy: 1.0000 - binary_crossentropy: -6.6692e+03 - mean_squared_error: 4.4433 - val_loss: nan - val_accuracy: 0.9995 - val_binary_crossentropy: nan - val_mean_squared_error: nan\n",
            "Epoch 11/20\n",
            "4345/4345 - 0s - loss: 5.5233 - accuracy: 1.0000 - binary_crossentropy: -6.6675e+03 - mean_squared_error: 5.5233 - val_loss: nan - val_accuracy: 0.9995 - val_binary_crossentropy: nan - val_mean_squared_error: nan\n",
            "Epoch 12/20\n",
            "4345/4345 - 0s - loss: 9.7742 - accuracy: 1.0000 - binary_crossentropy: -6.6668e+03 - mean_squared_error: 9.7742 - val_loss: nan - val_accuracy: 0.9995 - val_binary_crossentropy: nan - val_mean_squared_error: nan\n",
            "Epoch 13/20\n",
            "4345/4345 - 0s - loss: 5.2705 - accuracy: 1.0000 - binary_crossentropy: -6.6680e+03 - mean_squared_error: 5.2705 - val_loss: nan - val_accuracy: 0.9995 - val_binary_crossentropy: nan - val_mean_squared_error: nan\n",
            "Epoch 14/20\n",
            "4345/4345 - 0s - loss: 5.1628 - accuracy: 1.0000 - binary_crossentropy: -6.6677e+03 - mean_squared_error: 5.1628 - val_loss: nan - val_accuracy: 0.9995 - val_binary_crossentropy: nan - val_mean_squared_error: nan\n",
            "Epoch 15/20\n",
            "4345/4345 - 0s - loss: 5.5530 - accuracy: 1.0000 - binary_crossentropy: -6.6677e+03 - mean_squared_error: 5.5530 - val_loss: nan - val_accuracy: 0.9995 - val_binary_crossentropy: nan - val_mean_squared_error: nan\n",
            "Epoch 16/20\n",
            "4345/4345 - 0s - loss: 4.8407 - accuracy: 1.0000 - binary_crossentropy: -6.6683e+03 - mean_squared_error: 4.8407 - val_loss: nan - val_accuracy: 0.9995 - val_binary_crossentropy: nan - val_mean_squared_error: nan\n",
            "Epoch 17/20\n",
            "4345/4345 - 0s - loss: 4.8528 - accuracy: 1.0000 - binary_crossentropy: -6.6684e+03 - mean_squared_error: 4.8528 - val_loss: nan - val_accuracy: 0.9995 - val_binary_crossentropy: nan - val_mean_squared_error: nan\n",
            "Epoch 18/20\n",
            "4345/4345 - 0s - loss: 4.7121 - accuracy: 1.0000 - binary_crossentropy: -6.6686e+03 - mean_squared_error: 4.7121 - val_loss: nan - val_accuracy: 0.9995 - val_binary_crossentropy: nan - val_mean_squared_error: nan\n",
            "Epoch 19/20\n",
            "4345/4345 - 0s - loss: 5.0298 - accuracy: 1.0000 - binary_crossentropy: -6.6682e+03 - mean_squared_error: 5.0298 - val_loss: nan - val_accuracy: 0.9995 - val_binary_crossentropy: nan - val_mean_squared_error: nan\n",
            "Epoch 20/20\n",
            "4345/4345 - 0s - loss: 7.7448 - accuracy: 1.0000 - binary_crossentropy: -6.6659e+03 - mean_squared_error: 7.7448 - val_loss: nan - val_accuracy: 0.9995 - val_binary_crossentropy: nan - val_mean_squared_error: nan\n"
          ],
          "name": "stdout"
        }
      ]
    },
    {
      "cell_type": "code",
      "metadata": {
        "colab_type": "code",
        "outputId": "6c371b7a-d4f6-41b8-847f-62c50c514625",
        "id": "y1nPVitqy77m",
        "colab": {
          "base_uri": "https://localhost:8080/",
          "height": 342
        }
      },
      "source": [
        "features_nr = train_X.shape[1]\n",
        "target_nr = train_Y.shape[1]\n",
        "\n",
        "\n",
        "bigger_model = keras.Sequential([\n",
        "    # `input_shape` is only required here so that `.summary` works.\n",
        "    keras.layers.Dense(features_nr, activation='relu', \n",
        "                       input_shape=(features_nr,)),\n",
        "    keras.layers.Dense(1200, activation='relu'),\n",
        "    keras.layers.Dense(600, activation='relu'),\n",
        "    keras.layers.Dense(600, activation='relu'),\n",
        "    keras.layers.Dense(target_nr)\n",
        "])\n",
        "\n",
        "bigger_model.compile(optimizer='adam',\n",
        "                       loss='mean_squared_error',\n",
        "                       metrics=['accuracy', 'binary_crossentropy', 'mean_squared_error'])\n",
        "\n",
        "bigger_model.summary()\n"
      ],
      "execution_count": 37,
      "outputs": [
        {
          "output_type": "stream",
          "text": [
            "Model: \"sequential_11\"\n",
            "_________________________________________________________________\n",
            "Layer (type)                 Output Shape              Param #   \n",
            "=================================================================\n",
            "dense_48 (Dense)             (None, 13)                182       \n",
            "_________________________________________________________________\n",
            "dense_49 (Dense)             (None, 1200)              16800     \n",
            "_________________________________________________________________\n",
            "dense_50 (Dense)             (None, 600)               720600    \n",
            "_________________________________________________________________\n",
            "dense_51 (Dense)             (None, 600)               360600    \n",
            "_________________________________________________________________\n",
            "dense_52 (Dense)             (None, 10)                6010      \n",
            "=================================================================\n",
            "Total params: 1,104,192\n",
            "Trainable params: 1,104,192\n",
            "Non-trainable params: 0\n",
            "_________________________________________________________________\n"
          ],
          "name": "stdout"
        }
      ]
    },
    {
      "cell_type": "code",
      "metadata": {
        "id": "JSXT0RUfzUkf",
        "colab_type": "code",
        "colab": {
          "base_uri": "https://localhost:8080/",
          "height": 776
        },
        "outputId": "3884fa95-8fc7-4378-8e7b-c0e04772c273"
      },
      "source": [
        "bigger_history = bigger_model.fit(train_X,\n",
        "                                      train_Y,\n",
        "                                      epochs=20,\n",
        "                                      validation_data=(test_X, test_Y),\n",
        "                                      verbose=2)\n"
      ],
      "execution_count": 38,
      "outputs": [
        {
          "output_type": "stream",
          "text": [
            "Train on 4345 samples, validate on 2141 samples\n",
            "Epoch 1/20\n",
            "4345/4345 - 3s - loss: 28945.4268 - accuracy: 1.0000 - binary_crossentropy: -6.5503e+03 - mean_squared_error: 28945.4219 - val_loss: nan - val_accuracy: 0.9995 - val_binary_crossentropy: nan - val_mean_squared_error: nan\n",
            "Epoch 2/20\n",
            "4345/4345 - 2s - loss: 1971.0327 - accuracy: 1.0000 - binary_crossentropy: -6.6613e+03 - mean_squared_error: 1971.0330 - val_loss: nan - val_accuracy: 0.9995 - val_binary_crossentropy: nan - val_mean_squared_error: nan\n",
            "Epoch 3/20\n",
            "4345/4345 - 2s - loss: 255.0240 - accuracy: 1.0000 - binary_crossentropy: -6.6668e+03 - mean_squared_error: 255.0240 - val_loss: nan - val_accuracy: 0.9995 - val_binary_crossentropy: nan - val_mean_squared_error: nan\n",
            "Epoch 4/20\n",
            "4345/4345 - 2s - loss: 195.9120 - accuracy: 1.0000 - binary_crossentropy: -6.6667e+03 - mean_squared_error: 195.9120 - val_loss: nan - val_accuracy: 0.9995 - val_binary_crossentropy: nan - val_mean_squared_error: nan\n",
            "Epoch 5/20\n",
            "4345/4345 - 2s - loss: 156.9733 - accuracy: 1.0000 - binary_crossentropy: -6.6666e+03 - mean_squared_error: 156.9733 - val_loss: nan - val_accuracy: 0.9995 - val_binary_crossentropy: nan - val_mean_squared_error: nan\n",
            "Epoch 6/20\n",
            "4345/4345 - 2s - loss: 111.0225 - accuracy: 1.0000 - binary_crossentropy: -6.6666e+03 - mean_squared_error: 111.0224 - val_loss: nan - val_accuracy: 0.9995 - val_binary_crossentropy: nan - val_mean_squared_error: nan\n",
            "Epoch 7/20\n",
            "4345/4345 - 2s - loss: 74.1997 - accuracy: 1.0000 - binary_crossentropy: -6.6661e+03 - mean_squared_error: 74.1997 - val_loss: nan - val_accuracy: 0.9995 - val_binary_crossentropy: nan - val_mean_squared_error: nan\n",
            "Epoch 8/20\n",
            "4345/4345 - 2s - loss: 40.8918 - accuracy: 1.0000 - binary_crossentropy: -6.6664e+03 - mean_squared_error: 40.8918 - val_loss: nan - val_accuracy: 0.9995 - val_binary_crossentropy: nan - val_mean_squared_error: nan\n",
            "Epoch 9/20\n",
            "4345/4345 - 2s - loss: 20.5149 - accuracy: 1.0000 - binary_crossentropy: -6.6673e+03 - mean_squared_error: 20.5149 - val_loss: nan - val_accuracy: 0.9995 - val_binary_crossentropy: nan - val_mean_squared_error: nan\n",
            "Epoch 10/20\n",
            "4345/4345 - 2s - loss: 12.5046 - accuracy: 1.0000 - binary_crossentropy: -6.6678e+03 - mean_squared_error: 12.5046 - val_loss: nan - val_accuracy: 0.9995 - val_binary_crossentropy: nan - val_mean_squared_error: nan\n",
            "Epoch 11/20\n",
            "4345/4345 - 2s - loss: 11.2084 - accuracy: 1.0000 - binary_crossentropy: -6.6682e+03 - mean_squared_error: 11.2084 - val_loss: nan - val_accuracy: 0.9995 - val_binary_crossentropy: nan - val_mean_squared_error: nan\n",
            "Epoch 12/20\n",
            "4345/4345 - 2s - loss: 10.6822 - accuracy: 1.0000 - binary_crossentropy: -6.6680e+03 - mean_squared_error: 10.6822 - val_loss: nan - val_accuracy: 0.9995 - val_binary_crossentropy: nan - val_mean_squared_error: nan\n",
            "Epoch 13/20\n",
            "4345/4345 - 2s - loss: 15.0478 - accuracy: 1.0000 - binary_crossentropy: -6.6676e+03 - mean_squared_error: 15.0478 - val_loss: nan - val_accuracy: 0.9995 - val_binary_crossentropy: nan - val_mean_squared_error: nan\n",
            "Epoch 14/20\n",
            "4345/4345 - 3s - loss: 27.4415 - accuracy: 1.0000 - binary_crossentropy: -6.6665e+03 - mean_squared_error: 27.4415 - val_loss: nan - val_accuracy: 0.9995 - val_binary_crossentropy: nan - val_mean_squared_error: nan\n",
            "Epoch 15/20\n",
            "4345/4345 - 3s - loss: 25.0748 - accuracy: 1.0000 - binary_crossentropy: -6.6661e+03 - mean_squared_error: 25.0748 - val_loss: nan - val_accuracy: 0.9995 - val_binary_crossentropy: nan - val_mean_squared_error: nan\n",
            "Epoch 16/20\n",
            "4345/4345 - 3s - loss: 17.4075 - accuracy: 1.0000 - binary_crossentropy: -6.6668e+03 - mean_squared_error: 17.4075 - val_loss: nan - val_accuracy: 0.9995 - val_binary_crossentropy: nan - val_mean_squared_error: nan\n",
            "Epoch 17/20\n",
            "4345/4345 - 3s - loss: 14.3183 - accuracy: 1.0000 - binary_crossentropy: -6.6672e+03 - mean_squared_error: 14.3183 - val_loss: nan - val_accuracy: 0.9995 - val_binary_crossentropy: nan - val_mean_squared_error: nan\n",
            "Epoch 18/20\n",
            "4345/4345 - 3s - loss: 14.9545 - accuracy: 1.0000 - binary_crossentropy: -6.6670e+03 - mean_squared_error: 14.9545 - val_loss: nan - val_accuracy: 0.9995 - val_binary_crossentropy: nan - val_mean_squared_error: nan\n",
            "Epoch 19/20\n",
            "4345/4345 - 3s - loss: 34.1635 - accuracy: 1.0000 - binary_crossentropy: -6.6654e+03 - mean_squared_error: 34.1635 - val_loss: nan - val_accuracy: 0.9995 - val_binary_crossentropy: nan - val_mean_squared_error: nan\n",
            "Epoch 20/20\n",
            "4345/4345 - 3s - loss: 17.0382 - accuracy: 1.0000 - binary_crossentropy: -6.6663e+03 - mean_squared_error: 17.0382 - val_loss: nan - val_accuracy: 0.9995 - val_binary_crossentropy: nan - val_mean_squared_error: nan\n"
          ],
          "name": "stdout"
        }
      ]
    },
    {
      "cell_type": "code",
      "metadata": {
        "id": "aXfrHnXmzhAL",
        "colab_type": "code",
        "colab": {
          "base_uri": "https://localhost:8080/",
          "height": 306
        },
        "outputId": "459e25f7-1178-4b00-9b86-4bf6f5ea30b7"
      },
      "source": [
        "features_nr = train_X.shape[1]\n",
        "target_nr = train_Y.shape[1]\n",
        "\n",
        "\n",
        "smaller_model = keras.Sequential([\n",
        "    # `input_shape` is only required here so that `.summary` works.\n",
        "    keras.layers.Dense(features_nr, activation='relu', \n",
        "                       input_shape=(features_nr,)),\n",
        "    keras.layers.Dense(100, activation='relu'),\n",
        "    keras.layers.Dense(100, activation='relu'),\n",
        "    keras.layers.Dense(target_nr)\n",
        "])\n",
        "\n",
        "smaller_model.compile(optimizer='adam',\n",
        "                       loss='mean_squared_error',\n",
        "                       metrics=['accuracy', 'binary_crossentropy', 'mean_squared_error'])\n",
        "\n",
        "smaller_model.summary()"
      ],
      "execution_count": 39,
      "outputs": [
        {
          "output_type": "stream",
          "text": [
            "Model: \"sequential_12\"\n",
            "_________________________________________________________________\n",
            "Layer (type)                 Output Shape              Param #   \n",
            "=================================================================\n",
            "dense_53 (Dense)             (None, 13)                182       \n",
            "_________________________________________________________________\n",
            "dense_54 (Dense)             (None, 100)               1400      \n",
            "_________________________________________________________________\n",
            "dense_55 (Dense)             (None, 100)               10100     \n",
            "_________________________________________________________________\n",
            "dense_56 (Dense)             (None, 10)                1010      \n",
            "=================================================================\n",
            "Total params: 12,692\n",
            "Trainable params: 12,692\n",
            "Non-trainable params: 0\n",
            "_________________________________________________________________\n"
          ],
          "name": "stdout"
        }
      ]
    },
    {
      "cell_type": "code",
      "metadata": {
        "id": "5NNjmD0KzgzZ",
        "colab_type": "code",
        "colab": {
          "base_uri": "https://localhost:8080/",
          "height": 776
        },
        "outputId": "f7ea6973-33e9-42f9-be7d-62e33d557a95"
      },
      "source": [
        "smaller_history = smaller_model.fit(train_X,\n",
        "                                      train_Y,\n",
        "                                      epochs=20,\n",
        "                                      validation_data=(test_X, test_Y),\n",
        "                                      verbose=2)\n"
      ],
      "execution_count": 40,
      "outputs": [
        {
          "output_type": "stream",
          "text": [
            "Train on 4345 samples, validate on 2141 samples\n",
            "Epoch 1/20\n",
            "4345/4345 - 1s - loss: 87656.8389 - accuracy: 1.0000 - binary_crossentropy: -6.4096e+03 - mean_squared_error: 87656.8594 - val_loss: nan - val_accuracy: 0.9995 - val_binary_crossentropy: nan - val_mean_squared_error: nan\n",
            "Epoch 2/20\n",
            "4345/4345 - 0s - loss: 1450.7840 - accuracy: 1.0000 - binary_crossentropy: -6.6594e+03 - mean_squared_error: 1450.7842 - val_loss: nan - val_accuracy: 0.9995 - val_binary_crossentropy: nan - val_mean_squared_error: nan\n",
            "Epoch 3/20\n",
            "4345/4345 - 0s - loss: 259.2105 - accuracy: 1.0000 - binary_crossentropy: -6.6662e+03 - mean_squared_error: 259.2105 - val_loss: nan - val_accuracy: 0.9995 - val_binary_crossentropy: nan - val_mean_squared_error: nan\n",
            "Epoch 4/20\n",
            "4345/4345 - 0s - loss: 172.6628 - accuracy: 1.0000 - binary_crossentropy: -6.6668e+03 - mean_squared_error: 172.6628 - val_loss: nan - val_accuracy: 0.9995 - val_binary_crossentropy: nan - val_mean_squared_error: nan\n",
            "Epoch 5/20\n",
            "4345/4345 - 0s - loss: 103.1503 - accuracy: 1.0000 - binary_crossentropy: -6.6669e+03 - mean_squared_error: 103.1503 - val_loss: nan - val_accuracy: 0.9995 - val_binary_crossentropy: nan - val_mean_squared_error: nan\n",
            "Epoch 6/20\n",
            "4345/4345 - 0s - loss: 47.5015 - accuracy: 1.0000 - binary_crossentropy: -6.6674e+03 - mean_squared_error: 47.5015 - val_loss: nan - val_accuracy: 0.9995 - val_binary_crossentropy: nan - val_mean_squared_error: nan\n",
            "Epoch 7/20\n",
            "4345/4345 - 0s - loss: 16.5100 - accuracy: 1.0000 - binary_crossentropy: -6.6678e+03 - mean_squared_error: 16.5100 - val_loss: nan - val_accuracy: 0.9995 - val_binary_crossentropy: nan - val_mean_squared_error: nan\n",
            "Epoch 8/20\n",
            "4345/4345 - 0s - loss: 8.5823 - accuracy: 1.0000 - binary_crossentropy: -6.6684e+03 - mean_squared_error: 8.5823 - val_loss: nan - val_accuracy: 0.9995 - val_binary_crossentropy: nan - val_mean_squared_error: nan\n",
            "Epoch 9/20\n",
            "4345/4345 - 0s - loss: 6.8902 - accuracy: 1.0000 - binary_crossentropy: -6.6687e+03 - mean_squared_error: 6.8902 - val_loss: nan - val_accuracy: 0.9995 - val_binary_crossentropy: nan - val_mean_squared_error: nan\n",
            "Epoch 10/20\n",
            "4345/4345 - 0s - loss: 6.4255 - accuracy: 1.0000 - binary_crossentropy: -6.6689e+03 - mean_squared_error: 6.4255 - val_loss: nan - val_accuracy: 0.9995 - val_binary_crossentropy: nan - val_mean_squared_error: nan\n",
            "Epoch 11/20\n",
            "4345/4345 - 0s - loss: 6.3088 - accuracy: 1.0000 - binary_crossentropy: -6.6689e+03 - mean_squared_error: 6.3088 - val_loss: nan - val_accuracy: 0.9995 - val_binary_crossentropy: nan - val_mean_squared_error: nan\n",
            "Epoch 12/20\n",
            "4345/4345 - 0s - loss: 5.9650 - accuracy: 1.0000 - binary_crossentropy: -6.6689e+03 - mean_squared_error: 5.9650 - val_loss: nan - val_accuracy: 0.9995 - val_binary_crossentropy: nan - val_mean_squared_error: nan\n",
            "Epoch 13/20\n",
            "4345/4345 - 0s - loss: 5.9053 - accuracy: 1.0000 - binary_crossentropy: -6.6688e+03 - mean_squared_error: 5.9053 - val_loss: nan - val_accuracy: 0.9995 - val_binary_crossentropy: nan - val_mean_squared_error: nan\n",
            "Epoch 14/20\n",
            "4345/4345 - 0s - loss: 6.1440 - accuracy: 1.0000 - binary_crossentropy: -6.6688e+03 - mean_squared_error: 6.1440 - val_loss: nan - val_accuracy: 0.9995 - val_binary_crossentropy: nan - val_mean_squared_error: nan\n",
            "Epoch 15/20\n",
            "4345/4345 - 0s - loss: 5.9070 - accuracy: 1.0000 - binary_crossentropy: -6.6688e+03 - mean_squared_error: 5.9070 - val_loss: nan - val_accuracy: 0.9995 - val_binary_crossentropy: nan - val_mean_squared_error: nan\n",
            "Epoch 16/20\n",
            "4345/4345 - 0s - loss: 5.8327 - accuracy: 1.0000 - binary_crossentropy: -6.6688e+03 - mean_squared_error: 5.8327 - val_loss: nan - val_accuracy: 0.9995 - val_binary_crossentropy: nan - val_mean_squared_error: nan\n",
            "Epoch 17/20\n",
            "4345/4345 - 0s - loss: 6.0090 - accuracy: 1.0000 - binary_crossentropy: -6.6687e+03 - mean_squared_error: 6.0090 - val_loss: nan - val_accuracy: 0.9995 - val_binary_crossentropy: nan - val_mean_squared_error: nan\n",
            "Epoch 18/20\n",
            "4345/4345 - 0s - loss: 6.0030 - accuracy: 1.0000 - binary_crossentropy: -6.6687e+03 - mean_squared_error: 6.0030 - val_loss: nan - val_accuracy: 0.9995 - val_binary_crossentropy: nan - val_mean_squared_error: nan\n",
            "Epoch 19/20\n",
            "4345/4345 - 0s - loss: 5.7936 - accuracy: 1.0000 - binary_crossentropy: -6.6687e+03 - mean_squared_error: 5.7936 - val_loss: nan - val_accuracy: 0.9995 - val_binary_crossentropy: nan - val_mean_squared_error: nan\n",
            "Epoch 20/20\n",
            "4345/4345 - 0s - loss: 6.8046 - accuracy: 1.0000 - binary_crossentropy: -6.6685e+03 - mean_squared_error: 6.8046 - val_loss: nan - val_accuracy: 0.9995 - val_binary_crossentropy: nan - val_mean_squared_error: nan\n"
          ],
          "name": "stdout"
        }
      ]
    },
    {
      "cell_type": "code",
      "metadata": {
        "id": "JKAcPR8EJXsC",
        "colab_type": "code",
        "colab": {
          "base_uri": "https://localhost:8080/",
          "height": 609
        },
        "outputId": "e6336601-c014-4b42-e9ee-9e52d7a95802"
      },
      "source": [
        "def plot_history(histories, key='mean_squared_error'):\n",
        "  plt.figure(figsize=(16,10))\n",
        "\n",
        "  for name, history in histories:\n",
        "    val = plt.plot(history.epoch, history.history['val_'+key],\n",
        "                   '--', label=name.title()+' Val')\n",
        "    plt.plot(history.epoch, history.history[key], color=val[0].get_color(),\n",
        "             label=name.title()+' Train')\n",
        "\n",
        "  plt.xlabel('Epochs')\n",
        "  plt.ylabel(key.replace('_',' ').title())\n",
        "  plt.legend()\n",
        "\n",
        "  plt.xlim([0,max(history.epoch)])\n",
        "\n",
        "\n",
        "plot_history([('baseline', baseline_history),\n",
        "              ('smaller', smaller_history),\n",
        "              ('bigger', bigger_history)])\n"
      ],
      "execution_count": 41,
      "outputs": [
        {
          "output_type": "display_data",
          "data": {
            "image/png": "[encoded data removed]",
            "text/plain": [
              "<Figure size 1152x720 with 1 Axes>"
            ]
          },
          "metadata": {
            "tags": []
          }
        }
      ]
    },
    {
      "cell_type": "code",
      "metadata": {
        "id": "qUZj0AZM0DGc",
        "colab_type": "code",
        "colab": {}
      },
      "source": [
        ""
      ],
      "execution_count": 0,
      "outputs": []
    }
  ]
}