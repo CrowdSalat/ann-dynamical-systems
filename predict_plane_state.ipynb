{
  "nbformat": 4,
  "nbformat_minor": 0,
  "metadata": {
    "colab": {
      "name": "predict_plane_state.ipynb",
      "provenance": [],
      "collapsed_sections": [],
      "include_colab_link": true
    },
    "kernelspec": {
      "name": "python3",
      "display_name": "Python 3"
    },
    "accelerator": "GPU"
  },
  "cells": [
    {
      "cell_type": "markdown",
      "metadata": {
        "id": "view-in-github",
        "colab_type": "text"
      },
      "source": [
        "<a href=\"https://colab.research.google.com/github/CrowdSalat/ann-dynamical-systems/blob/master/predict_plane_state.ipynb\" target=\"_parent\"><img src=\"https://colab.research.google.com/assets/colab-badge.svg\" alt=\"Open In Colab\"/></a>"
      ]
    },
    {
      "cell_type": "markdown",
      "metadata": {
        "id": "Pa9Mju9lc4Ll",
        "colab_type": "text"
      },
      "source": [
        "# predict plane state\n",
        "\n",
        "Uses actions and a input state to predict the outputstate."
      ]
    },
    {
      "cell_type": "markdown",
      "metadata": {
        "id": "ijDD21X-gnli",
        "colab_type": "text"
      },
      "source": [
        "## imports"
      ]
    },
    {
      "cell_type": "code",
      "metadata": {
        "id": "_Z4pV678a1zv",
        "colab_type": "code",
        "outputId": "e2174c6f-5644-4aec-90c1-b00ff5ebd15f",
        "colab": {
          "base_uri": "https://localhost:8080/",
          "height": 35
        }
      },
      "source": [
        "try:\n",
        "  # %tensorflow_version only exists in Colab.\n",
        "  %tensorflow_version 2.x\n",
        "except Exception:\n",
        "  pass"
      ],
      "execution_count": 2,
      "outputs": [
        {
          "output_type": "stream",
          "text": [
            "TensorFlow 2.x selected.\n"
          ],
          "name": "stdout"
        }
      ]
    },
    {
      "cell_type": "code",
      "metadata": {
        "id": "2p4YwEK_f7kq",
        "colab_type": "code",
        "outputId": "03832371-84c5-4310-816a-28e9783683b3",
        "colab": {
          "base_uri": "https://localhost:8080/",
          "height": 35
        }
      },
      "source": [
        "import pandas as pd\n",
        "import numpy as np\n",
        "import os\n",
        "import sys\n",
        "import matplotlib.pyplot as plt\n",
        "from sklearn.preprocessing import MinMaxScaler\n",
        "from sklearn.metrics import mean_squared_error\n",
        "\n",
        "from sklearn.model_selection import train_test_split\n",
        "\n",
        "\n",
        "import tensorflow as tf\n",
        "print(tf.__version__)\n",
        "from tensorflow import keras\n",
        "\n",
        "from tensorflow.keras.models import Sequential\n",
        "from tensorflow.keras.layers import Dense\n",
        "from tensorflow.keras.layers import *"
      ],
      "execution_count": 13,
      "outputs": [
        {
          "output_type": "stream",
          "text": [
            "2.0.0-rc2\n"
          ],
          "name": "stdout"
        }
      ]
    },
    {
      "cell_type": "code",
      "metadata": {
        "id": "PrIcpWs4wjLk",
        "colab_type": "code",
        "outputId": "71ce0c9a-78be-48e5-d113-356927470172",
        "colab": {
          "base_uri": "https://localhost:8080/",
          "height": 576
        }
      },
      "source": [
        "from tensorflow.python.client import device_lib\n",
        "print(device_lib.list_local_devices())"
      ],
      "execution_count": 4,
      "outputs": [
        {
          "output_type": "stream",
          "text": [
            "[name: \"/device:CPU:0\"\n",
            "device_type: \"CPU\"\n",
            "memory_limit: 268435456\n",
            "locality {\n",
            "}\n",
            "incarnation: 4449000914056722978\n",
            ", name: \"/device:XLA_CPU:0\"\n",
            "device_type: \"XLA_CPU\"\n",
            "memory_limit: 17179869184\n",
            "locality {\n",
            "}\n",
            "incarnation: 17155272376605075971\n",
            "physical_device_desc: \"device: XLA_CPU device\"\n",
            ", name: \"/device:XLA_GPU:0\"\n",
            "device_type: \"XLA_GPU\"\n",
            "memory_limit: 17179869184\n",
            "locality {\n",
            "}\n",
            "incarnation: 14396163223560150867\n",
            "physical_device_desc: \"device: XLA_GPU device\"\n",
            ", name: \"/device:GPU:0\"\n",
            "device_type: \"GPU\"\n",
            "memory_limit: 11330115994\n",
            "locality {\n",
            "  bus_id: 1\n",
            "  links {\n",
            "  }\n",
            "}\n",
            "incarnation: 11447649034033417873\n",
            "physical_device_desc: \"device: 0, name: Tesla K80, pci bus id: 0000:00:04.0, compute capability: 3.7\"\n",
            "]\n"
          ],
          "name": "stdout"
        }
      ]
    },
    {
      "cell_type": "markdown",
      "metadata": {
        "id": "rmj8c18xllpT",
        "colab_type": "text"
      },
      "source": [
        "## load files"
      ]
    },
    {
      "cell_type": "code",
      "metadata": {
        "id": "nUEqcpzvltdo",
        "colab_type": "code",
        "colab": {}
      },
      "source": [
        "file = 'dataset_all.csv'"
      ],
      "execution_count": 0,
      "outputs": []
    },
    {
      "cell_type": "code",
      "metadata": {
        "id": "TuGWEMS1loFz",
        "colab_type": "code",
        "outputId": "bd85548e-28cd-4a22-cd62-4a78ee9d0788",
        "colab": {
          "base_uri": "https://localhost:8080/",
          "height": 145
        }
      },
      "source": [
        "from google.colab import drive\n",
        "drive.mount('/content/drive')\n",
        "\n",
        "root_dir = '/content/drive/My Drive/xplane_data' \n",
        "os.chdir(root_dir)\n",
        "print ('working dir: ' + os.getcwd())"
      ],
      "execution_count": 6,
      "outputs": [
        {
          "output_type": "stream",
          "text": [
            "Go to this URL in a browser: https://accounts.google.com/o/oauth2/auth?client_id=947318989803-6bn6qk8qdgf4n4g3pfee6491hc0brc4i.apps.googleusercontent.com&redirect_uri=urn%3Aietf%3Awg%3Aoauth%3A2.0%3Aoob&scope=email%20https%3A%2F%2Fwww.googleapis.com%2Fauth%2Fdocs.test%20https%3A%2F%2Fwww.googleapis.com%2Fauth%2Fdrive%20https%3A%2F%2Fwww.googleapis.com%2Fauth%2Fdrive.photos.readonly%20https%3A%2F%2Fwww.googleapis.com%2Fauth%2Fpeopleapi.readonly&response_type=code\n",
            "\n",
            "Enter your authorization code:\n",
            "··········\n",
            "Mounted at /content/drive\n",
            "working dir: /content/drive/My Drive/xplane_data\n"
          ],
          "name": "stdout"
        }
      ]
    },
    {
      "cell_type": "markdown",
      "metadata": {
        "id": "EOM6RVAIduGr",
        "colab_type": "text"
      },
      "source": [
        "## actions & states\n",
        "actions and states at time t are the input for the network.\n",
        "\n",
        "the states at time t + 1 are the desired output of the network.\n"
      ]
    },
    {
      "cell_type": "code",
      "metadata": {
        "id": "YH9bVQ3YDyTh",
        "colab_type": "code",
        "outputId": "997edf1b-074f-498e-9cd4-60672769c6ce",
        "colab": {
          "base_uri": "https://localhost:8080/",
          "height": 55
        }
      },
      "source": [
        "col_m_time      = '   missn,_time '\n",
        "col_t_time      = '   _totl,_time '\n",
        "col_yaw_v       = '   ____Q,rad/s '\n",
        "col_heading_mag = '   hding,__mag '\n",
        "col_yaw_deg     = '   _beta,__deg '\n",
        "col_roll_deg    = '   _roll,__deg '\n",
        "col_roll_v      = '   ____R,rad/s '\n",
        "col_pitch_deg   = '   pitch,__deg '\n",
        "col_pitch_v     = '   ____P,rad/s '\n",
        "col_alt         = '   __alt,ftmsl '\n",
        "col_vv          = '   __VVI,__fpm '\n",
        "col_v           = '   Vtrue,_ktas '\n",
        "col_rpm_prop    = '   rpm_1,_prop '\n",
        "col_throttle     = '   thro1,_part '\n",
        "\n",
        "cols_state = [ \n",
        "    col_yaw_v,\n",
        "    col_yaw_deg,\n",
        "    col_roll_deg,\n",
        "    col_roll_v,\n",
        "    col_pitch_deg,\n",
        "    col_pitch_v,\n",
        "    col_vv,\n",
        "    col_alt,\n",
        "    col_v,\n",
        "    col_rpm_prop,\n",
        "    col_throttle,\n",
        "]\n",
        "\n",
        "cols_time = [\n",
        "    col_m_time,\n",
        "    col_t_time,\n",
        "]\n",
        "\n",
        "col_elev_servo                  = '   _elev,servo '\n",
        "col_ailrn_servo                  = '   ailrn,servo '\n",
        "col_ruddr_servo                  = '   ruddr,servo '\n",
        "\n",
        "cols_action = [\n",
        "    col_elev_servo,\n",
        "    col_ailrn_servo,\n",
        "    col_ruddr_servo\n",
        "]\n",
        "\n",
        "# all input columns\n",
        "cols_features = []\n",
        "cols_features.extend(cols_state)\n",
        "cols_features.extend(cols_action)\n",
        "\n",
        "# orga column\n",
        "col_dataset_index = 'dataset_index'\n",
        "col_maneuver_index = 'maneuver_index'\n",
        "col_maneuver_name = 'maneuver_name'\n",
        "col_maneuver_datapoint_index = 'maneuver_datapoint_index'\n",
        "col_maneuver_type = 'maneuver_type'\n",
        "\n",
        "\n",
        "label_prefix = 't+1_'\n",
        "cols_label = [label_prefix + col_state for col_state in cols_state]\n",
        "print(cols_label)\n"
      ],
      "execution_count": 7,
      "outputs": [
        {
          "output_type": "stream",
          "text": [
            "['t+1_   ____Q,rad/s ', 't+1_   _beta,__deg ', 't+1_   _roll,__deg ', 't+1_   ____R,rad/s ', 't+1_   pitch,__deg ', 't+1_   ____P,rad/s ', 't+1_   __VVI,__fpm ', 't+1_   __alt,ftmsl ', 't+1_   Vtrue,_ktas ', 't+1_   rpm_1,_prop ', 't+1_   thro1,_part ']\n"
          ],
          "name": "stdout"
        }
      ]
    },
    {
      "cell_type": "code",
      "metadata": {
        "id": "uByPEHX3fS2G",
        "colab_type": "code",
        "outputId": "d2f03dd3-ccec-4733-a8a2-1c2c1eee0977",
        "colab": {
          "base_uri": "https://localhost:8080/",
          "height": 53
        }
      },
      "source": [
        "def load_xplane_csv(csv_path, columns):\n",
        "    return pd.read_csv(csv_path, delimiter=',', usecols = columns, \n",
        "                       float_precision='high')\n",
        "\n",
        "df_features = load_xplane_csv(file, cols_features)\n",
        "\n",
        "df_labels = load_xplane_csv(file, cols_label)\n",
        "\n",
        "print(len(df_features))\n",
        "print(len(df_labels))\n",
        "assert(len(df_features) == len(df_labels))\n"
      ],
      "execution_count": 8,
      "outputs": [
        {
          "output_type": "stream",
          "text": [
            "380538\n",
            "380538\n"
          ],
          "name": "stdout"
        }
      ]
    },
    {
      "cell_type": "markdown",
      "metadata": {
        "id": "zZ-jcsk-LoRs",
        "colab_type": "text"
      },
      "source": [
        "drop nan rows in both features and in labels"
      ]
    },
    {
      "cell_type": "code",
      "metadata": {
        "id": "d9ERQNmbLnkB",
        "colab_type": "code",
        "colab": {
          "base_uri": "https://localhost:8080/",
          "height": 53
        },
        "outputId": "74654f5d-ba91-406f-b5d9-dc6cad2224ae"
      },
      "source": [
        "df_nan = df_labels.isna().any(axis=1)\n",
        "\n",
        "for i in range(0, len(df_nan)):\n",
        "  if df_nan[i] == True:\n",
        "    df_features.drop(index=i, inplace=True)\n",
        "\n",
        "df_labels.dropna(inplace=True)\n",
        "\n",
        "print(len(df_features))\n",
        "print(len(df_labels))"
      ],
      "execution_count": 9,
      "outputs": [
        {
          "output_type": "stream",
          "text": [
            "380074\n",
            "380074\n"
          ],
          "name": "stdout"
        }
      ]
    },
    {
      "cell_type": "code",
      "metadata": {
        "id": "QrIc5hWyvzkK",
        "colab_type": "code",
        "colab": {}
      },
      "source": [
        "def split_train_test(dataset):\n",
        "  train_size = int(len(dataset) * 0.67)\n",
        "  test_size = len(dataset) - train_size\n",
        "  train, test = dataset[0:train_size,:], dataset[train_size:len(dataset),:]\n",
        "  return train, test\n"
      ],
      "execution_count": 0,
      "outputs": []
    },
    {
      "cell_type": "code",
      "metadata": {
        "id": "wFF9QfAdv8CQ",
        "colab_type": "code",
        "colab": {}
      },
      "source": [
        "features = df_features.values\n",
        "labels = df_labels.values\n",
        "\n",
        "#train_X, test_X = split_train_test(features)\n",
        "#train_Y, test_Y = split_train_test(labels)\n",
        "train_X, test_X, train_Y, test_Y  = train_test_split(features,labels, test_size=0.2, random_state=42)\n"
      ],
      "execution_count": 0,
      "outputs": []
    },
    {
      "cell_type": "code",
      "metadata": {
        "id": "YpDcgWG3LiCO",
        "colab_type": "code",
        "outputId": "cc3fd3ba-39ef-4f72-ada2-82d4249ffe70",
        "colab": {
          "base_uri": "https://localhost:8080/",
          "height": 89
        }
      },
      "source": [
        "print(train_X.shape)\n",
        "print(train_Y.shape)\n",
        "print(test_X.shape)\n",
        "print(test_Y.shape)"
      ],
      "execution_count": 16,
      "outputs": [
        {
          "output_type": "stream",
          "text": [
            "(304059, 14)\n",
            "(304059, 11)\n",
            "(76015, 14)\n",
            "(76015, 11)\n"
          ],
          "name": "stdout"
        }
      ]
    },
    {
      "cell_type": "code",
      "metadata": {
        "id": "KwMj6E7mBL9m",
        "colab_type": "code",
        "outputId": "97b6b78f-0416-4326-90d9-548dd02aab66",
        "colab": {
          "base_uri": "https://localhost:8080/",
          "height": 522
        }
      },
      "source": [
        "features_nr = train_X.shape[1]\n",
        "target_nr = train_Y.shape[1]\n",
        "\n",
        "\n",
        "baseline_model = keras.Sequential()\n",
        "\n",
        "baseline_model.add(Dense(1200,input_shape=(features_nr,), \n",
        "                         kernel_initializer='he_uniform'))\n",
        "baseline_model.add(BatchNormalization())\n",
        "baseline_model.add(ReLU())\n",
        "\n",
        "baseline_model.add(Dense(600,input_shape=(features_nr,)))\n",
        "baseline_model.add(BatchNormalization())\n",
        "baseline_model.add(ReLU())\n",
        "\n",
        "baseline_model.add(Dense(600,input_shape=(features_nr,)))\n",
        "baseline_model.add(BatchNormalization())\n",
        "baseline_model.add(ReLU())\n",
        "\n",
        "baseline_model.add(Dense(target_nr ))\n",
        "\n",
        "baseline_model.compile(optimizer='adam',\n",
        "                       loss='mean_squared_error',\n",
        "                       metrics=['accuracy', 'binary_crossentropy', 'mean_squared_error'])\n",
        "\n",
        "baseline_model.summary()\n"
      ],
      "execution_count": 17,
      "outputs": [
        {
          "output_type": "stream",
          "text": [
            "Model: \"sequential\"\n",
            "_________________________________________________________________\n",
            "Layer (type)                 Output Shape              Param #   \n",
            "=================================================================\n",
            "dense (Dense)                (None, 1200)              18000     \n",
            "_________________________________________________________________\n",
            "batch_normalization (BatchNo (None, 1200)              4800      \n",
            "_________________________________________________________________\n",
            "re_lu (ReLU)                 (None, 1200)              0         \n",
            "_________________________________________________________________\n",
            "dense_1 (Dense)              (None, 600)               720600    \n",
            "_________________________________________________________________\n",
            "batch_normalization_1 (Batch (None, 600)               2400      \n",
            "_________________________________________________________________\n",
            "re_lu_1 (ReLU)               (None, 600)               0         \n",
            "_________________________________________________________________\n",
            "dense_2 (Dense)              (None, 600)               360600    \n",
            "_________________________________________________________________\n",
            "batch_normalization_2 (Batch (None, 600)               2400      \n",
            "_________________________________________________________________\n",
            "re_lu_2 (ReLU)               (None, 600)               0         \n",
            "_________________________________________________________________\n",
            "dense_3 (Dense)              (None, 11)                6611      \n",
            "=================================================================\n",
            "Total params: 1,115,411\n",
            "Trainable params: 1,110,611\n",
            "Non-trainable params: 4,800\n",
            "_________________________________________________________________\n"
          ],
          "name": "stdout"
        }
      ]
    },
    {
      "cell_type": "code",
      "metadata": {
        "id": "DDmtdBRxJKJd",
        "colab_type": "code",
        "outputId": "f046c4f0-68b1-4af6-e64d-a8dd5440dc11",
        "colab": {
          "base_uri": "https://localhost:8080/",
          "height": 776
        }
      },
      "source": [
        "baseline_history = baseline_model.fit(train_X,\n",
        "                                      train_Y,\n",
        "                                      epochs=100,\n",
        "                                      batch_size=64,\n",
        "                                      validation_data=(test_X, test_Y),\n",
        "                                      verbose=2)\n"
      ],
      "execution_count": 47,
      "outputs": [
        {
          "output_type": "stream",
          "text": [
            "Train on 254649 samples, validate on 125425 samples\n",
            "Epoch 1/20\n",
            "254649/254649 - 27s - loss: 334831.3672 - accuracy: 0.9507 - binary_crossentropy: -7.4405e+03 - mean_squared_error: 334830.8750 - val_loss: 9014.4786 - val_accuracy: 0.9969 - val_binary_crossentropy: -8.6258e+03 - val_mean_squared_error: 9014.4766\n",
            "Epoch 2/20\n",
            "254649/254649 - 25s - loss: 4391.5614 - accuracy: 0.9597 - binary_crossentropy: -7.4880e+03 - mean_squared_error: 4391.5562 - val_loss: 751.8407 - val_accuracy: 0.9956 - val_binary_crossentropy: -8.6327e+03 - val_mean_squared_error: 751.8411\n",
            "Epoch 3/20\n",
            "254649/254649 - 25s - loss: 3151.8305 - accuracy: 0.9561 - binary_crossentropy: -7.4881e+03 - mean_squared_error: 3151.8330 - val_loss: 486.5068 - val_accuracy: 0.9999 - val_binary_crossentropy: -8.6287e+03 - val_mean_squared_error: 486.5070\n",
            "Epoch 4/20\n",
            "254649/254649 - 25s - loss: 3090.9815 - accuracy: 0.9554 - binary_crossentropy: -7.4881e+03 - mean_squared_error: 3090.9773 - val_loss: 277.1463 - val_accuracy: 0.9994 - val_binary_crossentropy: -8.6277e+03 - val_mean_squared_error: 277.1462\n",
            "Epoch 5/20\n",
            "254649/254649 - 26s - loss: 2984.8282 - accuracy: 0.9558 - binary_crossentropy: -7.4880e+03 - mean_squared_error: 2984.8325 - val_loss: 3617.0466 - val_accuracy: 0.9949 - val_binary_crossentropy: -8.6236e+03 - val_mean_squared_error: 3617.0461\n",
            "Epoch 6/20\n",
            "254649/254649 - 26s - loss: 2921.6025 - accuracy: 0.9559 - binary_crossentropy: -7.4880e+03 - mean_squared_error: 2921.6028 - val_loss: 119.7719 - val_accuracy: 0.9998 - val_binary_crossentropy: -8.6315e+03 - val_mean_squared_error: 119.7719\n",
            "Epoch 7/20\n",
            "254649/254649 - 25s - loss: 2934.9934 - accuracy: 0.9547 - binary_crossentropy: -7.4881e+03 - mean_squared_error: 2934.9951 - val_loss: 763.4979 - val_accuracy: 0.9998 - val_binary_crossentropy: -8.6330e+03 - val_mean_squared_error: 763.4984\n",
            "Epoch 8/20\n",
            "254649/254649 - 25s - loss: 2824.8305 - accuracy: 0.9555 - binary_crossentropy: -7.4881e+03 - mean_squared_error: 2824.8320 - val_loss: 880.4782 - val_accuracy: 0.9975 - val_binary_crossentropy: -8.6314e+03 - val_mean_squared_error: 880.4778\n",
            "Epoch 9/20\n",
            "254649/254649 - 26s - loss: 2846.9649 - accuracy: 0.9557 - binary_crossentropy: -7.4880e+03 - mean_squared_error: 2846.9622 - val_loss: 341.4410 - val_accuracy: 0.9965 - val_binary_crossentropy: -8.6308e+03 - val_mean_squared_error: 341.4408\n",
            "Epoch 10/20\n",
            "254649/254649 - 25s - loss: 2880.0370 - accuracy: 0.9565 - binary_crossentropy: -7.4880e+03 - mean_squared_error: 2880.0408 - val_loss: 738.2671 - val_accuracy: 0.9999 - val_binary_crossentropy: -8.6308e+03 - val_mean_squared_error: 738.2669\n",
            "Epoch 11/20\n",
            "254649/254649 - 26s - loss: 2901.5155 - accuracy: 0.9547 - binary_crossentropy: -7.4880e+03 - mean_squared_error: 2901.5134 - val_loss: 164.1774 - val_accuracy: 0.9999 - val_binary_crossentropy: -8.6324e+03 - val_mean_squared_error: 164.1773\n",
            "Epoch 12/20\n",
            "254649/254649 - 25s - loss: 2899.8561 - accuracy: 0.9551 - binary_crossentropy: -7.4880e+03 - mean_squared_error: 2899.8560 - val_loss: 437.4986 - val_accuracy: 0.9997 - val_binary_crossentropy: -8.6316e+03 - val_mean_squared_error: 437.4988\n",
            "Epoch 13/20\n",
            "254649/254649 - 25s - loss: 2810.1654 - accuracy: 0.9560 - binary_crossentropy: -7.4880e+03 - mean_squared_error: 2810.1648 - val_loss: 139.5120 - val_accuracy: 0.9973 - val_binary_crossentropy: -8.6304e+03 - val_mean_squared_error: 139.5120\n",
            "Epoch 14/20\n",
            "254649/254649 - 26s - loss: 2982.0210 - accuracy: 0.9541 - binary_crossentropy: -7.4881e+03 - mean_squared_error: 2982.0171 - val_loss: 846.9082 - val_accuracy: 0.9970 - val_binary_crossentropy: -8.6322e+03 - val_mean_squared_error: 846.9089\n",
            "Epoch 15/20\n",
            "254649/254649 - 25s - loss: 2942.8551 - accuracy: 0.9543 - binary_crossentropy: -7.4881e+03 - mean_squared_error: 2942.8550 - val_loss: 867.6308 - val_accuracy: 0.9998 - val_binary_crossentropy: -8.6316e+03 - val_mean_squared_error: 867.6313\n",
            "Epoch 16/20\n",
            "254649/254649 - 25s - loss: 2930.7851 - accuracy: 0.9550 - binary_crossentropy: -7.4881e+03 - mean_squared_error: 2930.7842 - val_loss: 938.1625 - val_accuracy: 0.9997 - val_binary_crossentropy: -8.6302e+03 - val_mean_squared_error: 938.1627\n",
            "Epoch 17/20\n",
            "254649/254649 - 25s - loss: 2942.4066 - accuracy: 0.9542 - binary_crossentropy: -7.4880e+03 - mean_squared_error: 2942.4065 - val_loss: 573.6344 - val_accuracy: 0.9997 - val_binary_crossentropy: -8.6314e+03 - val_mean_squared_error: 573.6346\n",
            "Epoch 18/20\n",
            "254649/254649 - 25s - loss: 2958.8417 - accuracy: 0.9546 - binary_crossentropy: -7.4880e+03 - mean_squared_error: 2958.8428 - val_loss: 766.1743 - val_accuracy: 0.9999 - val_binary_crossentropy: -8.6323e+03 - val_mean_squared_error: 766.1742\n",
            "Epoch 19/20\n",
            "254649/254649 - 25s - loss: 2894.2008 - accuracy: 0.9552 - binary_crossentropy: -7.4881e+03 - mean_squared_error: 2894.1987 - val_loss: 1411.4157 - val_accuracy: 0.9953 - val_binary_crossentropy: -8.6313e+03 - val_mean_squared_error: 1411.4171\n",
            "Epoch 20/20\n",
            "254649/254649 - 26s - loss: 2926.4558 - accuracy: 0.9546 - binary_crossentropy: -7.4881e+03 - mean_squared_error: 2926.4541 - val_loss: 94.3790 - val_accuracy: 0.9983 - val_binary_crossentropy: -8.6303e+03 - val_mean_squared_error: 94.3790\n"
          ],
          "name": "stdout"
        }
      ]
    },
    {
      "cell_type": "code",
      "metadata": {
        "id": "DxQg934JhE_H",
        "colab_type": "code",
        "colab": {}
      },
      "source": [
        "baseline_model.save_weights('./checkpoints/baseline_model')\n",
        "#baseline_model.load_weights('./checkpoints/baseline_model')"
      ],
      "execution_count": 0,
      "outputs": []
    },
    {
      "cell_type": "code",
      "metadata": {
        "colab_type": "code",
        "id": "y1nPVitqy77m",
        "colab": {}
      },
      "source": [
        "features_nr = train_X.shape[1]\n",
        "target_nr = train_Y.shape[1]\n",
        "\n",
        "\n",
        "features_nr = train_X.shape[1]\n",
        "target_nr = train_Y.shape[1]\n",
        "\n",
        "\n",
        "bigger_model = keras.Sequential()\n",
        "\n",
        "bigger_model.add(Dense(1200,input_shape=(features_nr,), \n",
        "                         kernel_initializer='he_uniform'))\n",
        "bigger_model.add(BatchNormalization())\n",
        "bigger_model.add(ReLU())\n",
        "\n",
        "bigger_model.add(Dense(1000,input_shape=(features_nr,)))\n",
        "bigger_model.add(BatchNormalization())\n",
        "bigger_model.add(ReLU())\n",
        "\n",
        "bigger_model.add(Dense(800,input_shape=(features_nr,)))\n",
        "bigger_model.add(BatchNormalization())\n",
        "bigger_model.add(ReLU())\n",
        "\n",
        "bigger_model.add(Dense(target_nr ))\n",
        "\n",
        "bigger_model.compile(optimizer='adam',\n",
        "                       loss='mean_squared_error',\n",
        "                       metrics=['accuracy', 'binary_crossentropy', 'mean_squared_error'])\n",
        "\n",
        "bigger_model.summary()"
      ],
      "execution_count": 0,
      "outputs": []
    },
    {
      "cell_type": "code",
      "metadata": {
        "id": "JSXT0RUfzUkf",
        "colab_type": "code",
        "colab": {}
      },
      "source": [
        "bigger_history = bigger_model.fit(train_X,\n",
        "                                      train_Y,\n",
        "                                      epochs=100,\n",
        "                                      validation_data=(test_X, test_Y),\n",
        "                                      verbose=2)\n"
      ],
      "execution_count": 0,
      "outputs": []
    },
    {
      "cell_type": "code",
      "metadata": {
        "id": "bVpcwX8hg6E-",
        "colab_type": "code",
        "colab": {}
      },
      "source": [
        "bigger_model.save_weights('./checkpoints/bigger_model')\n",
        "#bigger_model.load_weights('./checkpoints/bigger_model')"
      ],
      "execution_count": 0,
      "outputs": []
    },
    {
      "cell_type": "code",
      "metadata": {
        "id": "aXfrHnXmzhAL",
        "colab_type": "code",
        "colab": {}
      },
      "source": [
        "features_nr = train_X.shape[1]\n",
        "target_nr = train_Y.shape[1]\n",
        "\n",
        "\n",
        "smaller_model = keras.Sequential()\n",
        "\n",
        "smaller_model.add(Dense(600,input_shape=(features_nr,), \n",
        "                         kernel_initializer='he_uniform'))\n",
        "smaller_model.add(BatchNormalization())\n",
        "smaller_model.add(ReLU())\n",
        "\n",
        "smaller_model.add(Dense(400,input_shape=(features_nr,)))\n",
        "smaller_model.add(BatchNormalization())\n",
        "smaller_model.add(ReLU())\n",
        "\n",
        "smaller_model.add(Dense(400,input_shape=(features_nr,)))\n",
        "smaller_model.add(BatchNormalization())\n",
        "smaller_model.add(ReLU())\n",
        "\n",
        "smaller_model.add(Dense(target_nr ))\n",
        "\n",
        "smaller_model.compile(optimizer='adam',\n",
        "                       loss='mean_squared_error',\n",
        "                       metrics=['accuracy', 'binary_crossentropy', 'mean_squared_error'])\n",
        "\n",
        "smaller_model.summary()"
      ],
      "execution_count": 0,
      "outputs": []
    },
    {
      "cell_type": "code",
      "metadata": {
        "id": "5NNjmD0KzgzZ",
        "colab_type": "code",
        "colab": {}
      },
      "source": [
        "smaller_history = smaller_model.fit(train_X,\n",
        "                                      train_Y,\n",
        "                                      epochs=100,\n",
        "                                      validation_data=(test_X, test_Y),\n",
        "                                      verbose=2)\n"
      ],
      "execution_count": 0,
      "outputs": []
    },
    {
      "cell_type": "code",
      "metadata": {
        "id": "GJo8WPnagrmC",
        "colab_type": "code",
        "colab": {}
      },
      "source": [
        "smaller_model.save_weights('./checkpoints/smaller_model')\n",
        "#smaller_model.load_weights('./checkpoints/smaller_model')\n"
      ],
      "execution_count": 0,
      "outputs": []
    },
    {
      "cell_type": "code",
      "metadata": {
        "id": "JKAcPR8EJXsC",
        "colab_type": "code",
        "colab": {}
      },
      "source": [
        "def save_plots_before_show(diagramm_name):\n",
        "  diagramm_folder = './diagramms'\n",
        "\n",
        "  if not os.path.exists(diagramm_folder):\n",
        "      os.makedirs(diagramm_folder)\n",
        "\n",
        "  plt.savefig(diagramm_folder + '/' diagramm_name +'.pdf')\n",
        "  plt.savefig(diagramm_folder + '/' diagramm_name +'.svg')\n",
        "  plt.savefig(diagramm_folder + '/' diagramm_name +'.png')\n",
        "\n",
        "def plot_history(histories, key='mea\n",
        "  plt.figure(figsize=(16,10))\n",
        "\n",
        "  for name, history in histories:\n",
        "    val = plt.plot(history.epoch, history.history['val_'+key],\n",
        "                   '--', label=name.title()+' Val')\n",
        "    plt.plot(history.epoch, history.history[key], color=val[0].get_color(),\n",
        "             label=name.title()+' Train')\n",
        "\n",
        "  plt.xlabel('Epochs')\n",
        "  plt.ylabel(key.replace('_',' ').title())\n",
        "  plt.legend()\n",
        "\n",
        "  plt.xlim([0,max(history.epoch)])\n",
        "  save_plots_before_show('baseline_model_history')\n",
        "  plt.show()\n",
        "\n",
        "\n",
        "plot_history([('baseline', baseline_history),\n",
        "              ('smaller', smaller_history),\n",
        "              ('bigger', bigger_history)])\n"
      ],
      "execution_count": 0,
      "outputs": []
    },
    {
      "cell_type": "code",
      "metadata": {
        "id": "qUZj0AZM0DGc",
        "colab_type": "code",
        "colab": {}
      },
      "source": [
        ""
      ],
      "execution_count": 0,
      "outputs": []
    }
  ]
}