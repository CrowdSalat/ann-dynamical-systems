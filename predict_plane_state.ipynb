{
  "nbformat": 4,
  "nbformat_minor": 0,
  "metadata": {
    "colab": {
      "name": "predict_plane_state.ipynb",
      "provenance": [],
      "collapsed_sections": [],
      "include_colab_link": true
    },
    "kernelspec": {
      "name": "python3",
      "display_name": "Python 3"
    },
    "accelerator": "GPU"
  },
  "cells": [
    {
      "cell_type": "markdown",
      "metadata": {
        "id": "view-in-github",
        "colab_type": "text"
      },
      "source": [
        "<a href=\"https://colab.research.google.com/github/CrowdSalat/ann-dynamical-systems/blob/master/predict_plane_state.ipynb\" target=\"_parent\"><img src=\"https://colab.research.google.com/assets/colab-badge.svg\" alt=\"Open In Colab\"/></a>"
      ]
    },
    {
      "cell_type": "markdown",
      "metadata": {
        "id": "Pa9Mju9lc4Ll",
        "colab_type": "text"
      },
      "source": [
        "# predict plane state\n",
        "\n",
        "Uses actions and a input state to predict the outputstate."
      ]
    },
    {
      "cell_type": "markdown",
      "metadata": {
        "id": "ijDD21X-gnli",
        "colab_type": "text"
      },
      "source": [
        "## imports"
      ]
    },
    {
      "cell_type": "code",
      "metadata": {
        "id": "_Z4pV678a1zv",
        "colab_type": "code",
        "outputId": "096dc2dd-afb0-42d2-8370-2756b1dc08f5",
        "colab": {
          "base_uri": "https://localhost:8080/",
          "height": 35
        }
      },
      "source": [
        "try:\n",
        "  # %tensorflow_version only exists in Colab.\n",
        "  %tensorflow_version 2.x\n",
        "except Exception:\n",
        "  pass"
      ],
      "execution_count": 2,
      "outputs": [
        {
          "output_type": "stream",
          "text": [
            "TensorFlow 2.x selected.\n"
          ],
          "name": "stdout"
        }
      ]
    },
    {
      "cell_type": "code",
      "metadata": {
        "id": "2p4YwEK_f7kq",
        "colab_type": "code",
        "outputId": "c830b92e-028f-4dac-bbcd-ab3885a3369d",
        "colab": {
          "base_uri": "https://localhost:8080/",
          "height": 53
        }
      },
      "source": [
        "import pandas as pd\n",
        "import numpy as np\n",
        "import os\n",
        "import sys\n",
        "import matplotlib.pyplot as plt\n",
        "\n",
        "from keras.models import Sequential\n",
        "from keras.layers import Dense\n",
        "from sklearn.preprocessing import MinMaxScaler\n",
        "from sklearn.metrics import mean_squared_error\n",
        "\n",
        "\n",
        "import tensorflow as tf\n",
        "print(tf.__version__)\n",
        "from tensorflow import keras"
      ],
      "execution_count": 3,
      "outputs": [
        {
          "output_type": "stream",
          "text": [
            "Using TensorFlow backend.\n"
          ],
          "name": "stderr"
        },
        {
          "output_type": "stream",
          "text": [
            "2.0.0-rc2\n"
          ],
          "name": "stdout"
        }
      ]
    },
    {
      "cell_type": "code",
      "metadata": {
        "id": "PrIcpWs4wjLk",
        "colab_type": "code",
        "outputId": "e7fd4941-dba2-4ab6-cda1-709f96cb938c",
        "colab": {
          "base_uri": "https://localhost:8080/",
          "height": 576
        }
      },
      "source": [
        "from tensorflow.python.client import device_lib\n",
        "print(device_lib.list_local_devices())"
      ],
      "execution_count": 4,
      "outputs": [
        {
          "output_type": "stream",
          "text": [
            "[name: \"/device:CPU:0\"\n",
            "device_type: \"CPU\"\n",
            "memory_limit: 268435456\n",
            "locality {\n",
            "}\n",
            "incarnation: 6506714422744143479\n",
            ", name: \"/device:XLA_CPU:0\"\n",
            "device_type: \"XLA_CPU\"\n",
            "memory_limit: 17179869184\n",
            "locality {\n",
            "}\n",
            "incarnation: 9445666636864103508\n",
            "physical_device_desc: \"device: XLA_CPU device\"\n",
            ", name: \"/device:XLA_GPU:0\"\n",
            "device_type: \"XLA_GPU\"\n",
            "memory_limit: 17179869184\n",
            "locality {\n",
            "}\n",
            "incarnation: 5362004702129574304\n",
            "physical_device_desc: \"device: XLA_GPU device\"\n",
            ", name: \"/device:GPU:0\"\n",
            "device_type: \"GPU\"\n",
            "memory_limit: 11330115994\n",
            "locality {\n",
            "  bus_id: 1\n",
            "  links {\n",
            "  }\n",
            "}\n",
            "incarnation: 709947053083502333\n",
            "physical_device_desc: \"device: 0, name: Tesla K80, pci bus id: 0000:00:04.0, compute capability: 3.7\"\n",
            "]\n"
          ],
          "name": "stdout"
        }
      ]
    },
    {
      "cell_type": "markdown",
      "metadata": {
        "id": "rmj8c18xllpT",
        "colab_type": "text"
      },
      "source": [
        "## load files"
      ]
    },
    {
      "cell_type": "code",
      "metadata": {
        "id": "nUEqcpzvltdo",
        "colab_type": "code",
        "colab": {}
      },
      "source": [
        "file = 'dataset_all.csv'"
      ],
      "execution_count": 0,
      "outputs": []
    },
    {
      "cell_type": "code",
      "metadata": {
        "id": "TuGWEMS1loFz",
        "colab_type": "code",
        "outputId": "4398bae7-ad05-473d-cb5f-e66094f01b4e",
        "colab": {
          "base_uri": "https://localhost:8080/",
          "height": 145
        }
      },
      "source": [
        "from google.colab import drive\n",
        "drive.mount('/content/drive')\n",
        "\n",
        "root_dir = '/content/drive/My Drive/xplane_data' \n",
        "os.chdir(root_dir)\n",
        "print ('working dir: ' + os.getcwd())"
      ],
      "execution_count": 5,
      "outputs": [
        {
          "output_type": "stream",
          "text": [
            "Go to this URL in a browser: https://accounts.google.com/o/oauth2/auth?client_id=947318989803-6bn6qk8qdgf4n4g3pfee6491hc0brc4i.apps.googleusercontent.com&redirect_uri=urn%3Aietf%3Awg%3Aoauth%3A2.0%3Aoob&scope=email%20https%3A%2F%2Fwww.googleapis.com%2Fauth%2Fdocs.test%20https%3A%2F%2Fwww.googleapis.com%2Fauth%2Fdrive%20https%3A%2F%2Fwww.googleapis.com%2Fauth%2Fdrive.photos.readonly%20https%3A%2F%2Fwww.googleapis.com%2Fauth%2Fpeopleapi.readonly&response_type=code\n",
            "\n",
            "Enter your authorization code:\n",
            "··········\n",
            "Mounted at /content/drive\n",
            "working dir: /content/drive/My Drive/xplane_data\n"
          ],
          "name": "stdout"
        }
      ]
    },
    {
      "cell_type": "markdown",
      "metadata": {
        "id": "EOM6RVAIduGr",
        "colab_type": "text"
      },
      "source": [
        "## actions & states\n",
        "actions and states at time t are the input for the network.\n",
        "\n",
        "the states at time t + 1 are the desired output of the network.\n"
      ]
    },
    {
      "cell_type": "code",
      "metadata": {
        "id": "YH9bVQ3YDyTh",
        "colab_type": "code",
        "outputId": "1fe4701a-a172-40c7-dea8-72eec21f5355",
        "colab": {
          "base_uri": "https://localhost:8080/",
          "height": 55
        }
      },
      "source": [
        "col_m_time      = '   missn,_time '\n",
        "col_t_time      = '   _totl,_time '\n",
        "col_yaw_v       = '   ____Q,rad/s '\n",
        "col_heading_mag = '   hding,__mag '\n",
        "col_yaw_deg     = '   _beta,__deg '\n",
        "col_roll_deg    = '   _roll,__deg '\n",
        "col_roll_v      = '   ____R,rad/s '\n",
        "col_pitch_deg   = '   pitch,__deg '\n",
        "col_pitch_v     = '   ____P,rad/s '\n",
        "col_alt         = '   __alt,ftmsl '\n",
        "col_vv          = '   __VVI,__fpm '\n",
        "col_v           = '   Vtrue,_ktas '\n",
        "col_rpm_prop    = '   rpm_1,_prop '\n",
        "col_throttle     = '   thro1,_part '\n",
        "\n",
        "cols_state = [ \n",
        "    col_yaw_v,\n",
        "    col_yaw_deg,\n",
        "    col_roll_deg,\n",
        "    col_roll_v,\n",
        "    col_pitch_deg,\n",
        "    col_pitch_v,\n",
        "    col_vv,\n",
        "    col_alt,\n",
        "    col_v,\n",
        "    col_rpm_prop,\n",
        "    col_throttle,\n",
        "]\n",
        "\n",
        "cols_time = [\n",
        "    col_m_time,\n",
        "    col_t_time,\n",
        "]\n",
        "\n",
        "col_elev_servo                  = '   _elev,servo '\n",
        "col_ailrn_servo                  = '   ailrn,servo '\n",
        "col_ruddr_servo                  = '   ruddr,servo '\n",
        "\n",
        "cols_action = [\n",
        "    col_elev_servo,\n",
        "    col_ailrn_servo,\n",
        "    col_ruddr_servo\n",
        "]\n",
        "\n",
        "# all input columns\n",
        "cols_features = []\n",
        "cols_features.extend(cols_state)\n",
        "cols_features.extend(cols_action)\n",
        "\n",
        "# orga column\n",
        "col_dataset_index = 'dataset_index'\n",
        "col_maneuver_index = 'maneuver_index'\n",
        "col_maneuver_name = 'maneuver_name'\n",
        "col_maneuver_datapoint_index = 'maneuver_datapoint_index'\n",
        "col_maneuver_type = 'maneuver_type'\n",
        "\n",
        "\n",
        "label_prefix = 't+1_'\n",
        "cols_label = [label_prefix + col_state for col_state in cols_state]\n",
        "print(cols_label)\n"
      ],
      "execution_count": 6,
      "outputs": [
        {
          "output_type": "stream",
          "text": [
            "['t+1_   ____Q,rad/s ', 't+1_   _beta,__deg ', 't+1_   _roll,__deg ', 't+1_   ____R,rad/s ', 't+1_   pitch,__deg ', 't+1_   ____P,rad/s ', 't+1_   __VVI,__fpm ', 't+1_   __alt,ftmsl ', 't+1_   Vtrue,_ktas ', 't+1_   rpm_1,_prop ', 't+1_   thro1,_part ']\n"
          ],
          "name": "stdout"
        }
      ]
    },
    {
      "cell_type": "code",
      "metadata": {
        "id": "uByPEHX3fS2G",
        "colab_type": "code",
        "outputId": "8379830a-635e-40a3-c07a-23cb51f2624e",
        "colab": {
          "base_uri": "https://localhost:8080/",
          "height": 53
        }
      },
      "source": [
        "def load_xplane_csv(csv_path, columns):\n",
        "    return pd.read_csv(csv_path, delimiter=',', usecols = columns, \n",
        "                       float_precision='high')\n",
        "\n",
        "df_features = load_xplane_csv(file, cols_features)\n",
        "\n",
        "df_labels = load_xplane_csv(file, cols_label)\n",
        "\n",
        "print(len(df_features))\n",
        "print(len(df_labels))\n",
        "assert(len(df_features) == len(df_labels))\n"
      ],
      "execution_count": 12,
      "outputs": [
        {
          "output_type": "stream",
          "text": [
            "380538\n",
            "380538\n"
          ],
          "name": "stdout"
        }
      ]
    },
    {
      "cell_type": "code",
      "metadata": {
        "id": "QrIc5hWyvzkK",
        "colab_type": "code",
        "colab": {}
      },
      "source": [
        "def split_train_test(dataset):\n",
        "  train_size = int(len(dataset) * 0.67)\n",
        "  test_size = len(dataset) - train_size\n",
        "  train, test = dataset[0:train_size,:], dataset[train_size:len(dataset),:]\n",
        "  return train, test\n"
      ],
      "execution_count": 0,
      "outputs": []
    },
    {
      "cell_type": "code",
      "metadata": {
        "id": "wFF9QfAdv8CQ",
        "colab_type": "code",
        "colab": {}
      },
      "source": [
        "features = df_features.values\n",
        "labels = df_labels.values\n",
        "\n",
        "train_X, test_X = split_train_test(features)\n",
        "train_Y, test_Y = split_train_test(labels)"
      ],
      "execution_count": 0,
      "outputs": []
    },
    {
      "cell_type": "code",
      "metadata": {
        "id": "YpDcgWG3LiCO",
        "colab_type": "code",
        "outputId": "3d1becba-9332-4298-8da8-f27f9ef05c9e",
        "colab": {
          "base_uri": "https://localhost:8080/",
          "height": 89
        }
      },
      "source": [
        "print(train_X.shape)\n",
        "print(train_Y.shape)\n",
        "print(test_X.shape)\n",
        "print(test_Y.shape)"
      ],
      "execution_count": 15,
      "outputs": [
        {
          "output_type": "stream",
          "text": [
            "(254960, 14)\n",
            "(254960, 11)\n",
            "(125578, 14)\n",
            "(125578, 11)\n"
          ],
          "name": "stdout"
        }
      ]
    },
    {
      "cell_type": "code",
      "metadata": {
        "id": "KwMj6E7mBL9m",
        "colab_type": "code",
        "outputId": "86f10bb2-cb47-41ba-9cfb-da5a581d90de",
        "colab": {
          "base_uri": "https://localhost:8080/",
          "height": 414
        }
      },
      "source": [
        "features_nr = train_X.shape[1]\n",
        "target_nr = train_Y.shape[1]\n",
        "\n",
        "\n",
        "baseline_model = keras.Sequential([\n",
        "    # `input_shape` is only required here so that `.summary` works.\n",
        "    keras.layers.Dense(features_nr, activation='relu', \n",
        "                       input_shape=(features_nr,)),\n",
        "    keras.layers.BatchNormalization(),\n",
        "    keras.layers.Dense(400, activation='relu'),\n",
        "    keras.layers.BatchNormalization(),\n",
        "    keras.layers.Dense(400, activation='relu'),\n",
        "    keras.layers.BatchNormalization(),\n",
        "    keras.layers.Dense(target_nr)\n",
        "])\n",
        "\n",
        "baseline_model.compile(optimizer='adam',\n",
        "                       loss='mean_squared_error',\n",
        "                       metrics=['accuracy', 'binary_crossentropy', 'mean_squared_error'])\n",
        "\n",
        "baseline_model.summary()\n"
      ],
      "execution_count": 17,
      "outputs": [
        {
          "output_type": "stream",
          "text": [
            "Model: \"sequential_1\"\n",
            "_________________________________________________________________\n",
            "Layer (type)                 Output Shape              Param #   \n",
            "=================================================================\n",
            "dense_4 (Dense)              (None, 14)                210       \n",
            "_________________________________________________________________\n",
            "batch_normalization_2 (Batch (None, 14)                56        \n",
            "_________________________________________________________________\n",
            "dense_5 (Dense)              (None, 400)               6000      \n",
            "_________________________________________________________________\n",
            "batch_normalization_3 (Batch (None, 400)               1600      \n",
            "_________________________________________________________________\n",
            "dense_6 (Dense)              (None, 400)               160400    \n",
            "_________________________________________________________________\n",
            "batch_normalization_4 (Batch (None, 400)               1600      \n",
            "_________________________________________________________________\n",
            "dense_7 (Dense)              (None, 11)                4411      \n",
            "=================================================================\n",
            "Total params: 174,277\n",
            "Trainable params: 172,649\n",
            "Non-trainable params: 1,628\n",
            "_________________________________________________________________\n"
          ],
          "name": "stdout"
        }
      ]
    },
    {
      "cell_type": "code",
      "metadata": {
        "id": "DDmtdBRxJKJd",
        "colab_type": "code",
        "outputId": "5949d944-9792-499c-b484-2efbcc532eca",
        "colab": {
          "base_uri": "https://localhost:8080/",
          "height": 776
        }
      },
      "source": [
        "baseline_history = baseline_model.fit(train_X,\n",
        "                                      train_Y,\n",
        "                                      epochs=20,\n",
        "                                      batch_size=512,\n",
        "                                      validation_data=(test_X, test_Y),\n",
        "                                      verbose=2)\n"
      ],
      "execution_count": 18,
      "outputs": [
        {
          "output_type": "stream",
          "text": [
            "Train on 254960 samples, validate on 125578 samples\n",
            "Epoch 1/20\n",
            "254960/254960 - 8s - loss: nan - accuracy: 0.0015 - binary_crossentropy: nan - mean_squared_error: nan - val_loss: nan - val_accuracy: 7.6447e-04 - val_binary_crossentropy: nan - val_mean_squared_error: nan\n",
            "Epoch 2/20\n",
            "254960/254960 - 6s - loss: nan - accuracy: 0.0014 - binary_crossentropy: nan - mean_squared_error: nan - val_loss: nan - val_accuracy: 7.6447e-04 - val_binary_crossentropy: nan - val_mean_squared_error: nan\n",
            "Epoch 3/20\n",
            "254960/254960 - 5s - loss: nan - accuracy: 0.0014 - binary_crossentropy: nan - mean_squared_error: nan - val_loss: nan - val_accuracy: 7.6447e-04 - val_binary_crossentropy: nan - val_mean_squared_error: nan\n",
            "Epoch 4/20\n",
            "254960/254960 - 6s - loss: nan - accuracy: 0.0014 - binary_crossentropy: nan - mean_squared_error: nan - val_loss: nan - val_accuracy: 7.6447e-04 - val_binary_crossentropy: nan - val_mean_squared_error: nan\n",
            "Epoch 5/20\n",
            "254960/254960 - 6s - loss: nan - accuracy: 0.0014 - binary_crossentropy: nan - mean_squared_error: nan - val_loss: nan - val_accuracy: 7.6447e-04 - val_binary_crossentropy: nan - val_mean_squared_error: nan\n",
            "Epoch 6/20\n",
            "254960/254960 - 5s - loss: nan - accuracy: 0.0014 - binary_crossentropy: nan - mean_squared_error: nan - val_loss: nan - val_accuracy: 7.6447e-04 - val_binary_crossentropy: nan - val_mean_squared_error: nan\n",
            "Epoch 7/20\n",
            "254960/254960 - 5s - loss: nan - accuracy: 0.0014 - binary_crossentropy: nan - mean_squared_error: nan - val_loss: nan - val_accuracy: 7.6447e-04 - val_binary_crossentropy: nan - val_mean_squared_error: nan\n",
            "Epoch 8/20\n",
            "254960/254960 - 6s - loss: nan - accuracy: 0.0014 - binary_crossentropy: nan - mean_squared_error: nan - val_loss: nan - val_accuracy: 7.6447e-04 - val_binary_crossentropy: nan - val_mean_squared_error: nan\n",
            "Epoch 9/20\n",
            "254960/254960 - 6s - loss: nan - accuracy: 0.0014 - binary_crossentropy: nan - mean_squared_error: nan - val_loss: nan - val_accuracy: 7.6447e-04 - val_binary_crossentropy: nan - val_mean_squared_error: nan\n",
            "Epoch 10/20\n",
            "254960/254960 - 5s - loss: nan - accuracy: 0.0014 - binary_crossentropy: nan - mean_squared_error: nan - val_loss: nan - val_accuracy: 7.6447e-04 - val_binary_crossentropy: nan - val_mean_squared_error: nan\n",
            "Epoch 11/20\n",
            "254960/254960 - 5s - loss: nan - accuracy: 0.0014 - binary_crossentropy: nan - mean_squared_error: nan - val_loss: nan - val_accuracy: 7.6447e-04 - val_binary_crossentropy: nan - val_mean_squared_error: nan\n",
            "Epoch 12/20\n",
            "254960/254960 - 6s - loss: nan - accuracy: 0.0014 - binary_crossentropy: nan - mean_squared_error: nan - val_loss: nan - val_accuracy: 7.6447e-04 - val_binary_crossentropy: nan - val_mean_squared_error: nan\n",
            "Epoch 13/20\n",
            "254960/254960 - 6s - loss: nan - accuracy: 0.0014 - binary_crossentropy: nan - mean_squared_error: nan - val_loss: nan - val_accuracy: 7.6447e-04 - val_binary_crossentropy: nan - val_mean_squared_error: nan\n",
            "Epoch 14/20\n",
            "254960/254960 - 5s - loss: nan - accuracy: 0.0014 - binary_crossentropy: nan - mean_squared_error: nan - val_loss: nan - val_accuracy: 7.6447e-04 - val_binary_crossentropy: nan - val_mean_squared_error: nan\n",
            "Epoch 15/20\n",
            "254960/254960 - 6s - loss: nan - accuracy: 0.0014 - binary_crossentropy: nan - mean_squared_error: nan - val_loss: nan - val_accuracy: 7.6447e-04 - val_binary_crossentropy: nan - val_mean_squared_error: nan\n",
            "Epoch 16/20\n",
            "254960/254960 - 6s - loss: nan - accuracy: 0.0014 - binary_crossentropy: nan - mean_squared_error: nan - val_loss: nan - val_accuracy: 7.6447e-04 - val_binary_crossentropy: nan - val_mean_squared_error: nan\n",
            "Epoch 17/20\n",
            "254960/254960 - 6s - loss: nan - accuracy: 0.0014 - binary_crossentropy: nan - mean_squared_error: nan - val_loss: nan - val_accuracy: 7.6447e-04 - val_binary_crossentropy: nan - val_mean_squared_error: nan\n",
            "Epoch 18/20\n",
            "254960/254960 - 6s - loss: nan - accuracy: 0.0014 - binary_crossentropy: nan - mean_squared_error: nan - val_loss: nan - val_accuracy: 7.6447e-04 - val_binary_crossentropy: nan - val_mean_squared_error: nan\n",
            "Epoch 19/20\n",
            "254960/254960 - 6s - loss: nan - accuracy: 0.0014 - binary_crossentropy: nan - mean_squared_error: nan - val_loss: nan - val_accuracy: 7.6447e-04 - val_binary_crossentropy: nan - val_mean_squared_error: nan\n",
            "Epoch 20/20\n",
            "254960/254960 - 6s - loss: nan - accuracy: 0.0014 - binary_crossentropy: nan - mean_squared_error: nan - val_loss: nan - val_accuracy: 7.6447e-04 - val_binary_crossentropy: nan - val_mean_squared_error: nan\n"
          ],
          "name": "stdout"
        }
      ]
    },
    {
      "cell_type": "code",
      "metadata": {
        "colab_type": "code",
        "outputId": "07d5dc0d-7c2e-4d75-d044-dc8a48206d15",
        "id": "y1nPVitqy77m",
        "colab": {
          "base_uri": "https://localhost:8080/",
          "height": 342
        }
      },
      "source": [
        "features_nr = train_X.shape[1]\n",
        "target_nr = train_Y.shape[1]\n",
        "\n",
        "\n",
        "bigger_model = keras.Sequential([\n",
        "    # `input_shape` is only required here so that `.summary` works.\n",
        "    keras.layers.Dense(features_nr, activation='relu', \n",
        "                       input_shape=(features_nr,)),\n",
        "    keras.layers.Dense(1200, activation='relu'),\n",
        "    keras.layers.Dense(600, activation='relu'),\n",
        "    keras.layers.Dense(600, activation='relu'),\n",
        "    keras.layers.Dense(target_nr)\n",
        "])\n",
        "\n",
        "bigger_model.compile(optimizer='adam',\n",
        "                       loss='mean_squared_error',\n",
        "                       metrics=['accuracy', 'binary_crossentropy', 'mean_squared_error'])\n",
        "\n",
        "bigger_model.summary()\n"
      ],
      "execution_count": 0,
      "outputs": [
        {
          "output_type": "stream",
          "text": [
            "Model: \"sequential_1\"\n",
            "_________________________________________________________________\n",
            "Layer (type)                 Output Shape              Param #   \n",
            "=================================================================\n",
            "dense_4 (Dense)              (None, 14)                210       \n",
            "_________________________________________________________________\n",
            "dense_5 (Dense)              (None, 1200)              18000     \n",
            "_________________________________________________________________\n",
            "dense_6 (Dense)              (None, 600)               720600    \n",
            "_________________________________________________________________\n",
            "dense_7 (Dense)              (None, 600)               360600    \n",
            "_________________________________________________________________\n",
            "dense_8 (Dense)              (None, 11)                6611      \n",
            "=================================================================\n",
            "Total params: 1,106,021\n",
            "Trainable params: 1,106,021\n",
            "Non-trainable params: 0\n",
            "_________________________________________________________________\n"
          ],
          "name": "stdout"
        }
      ]
    },
    {
      "cell_type": "code",
      "metadata": {
        "id": "JSXT0RUfzUkf",
        "colab_type": "code",
        "outputId": "fc455e4a-c9e3-43ca-d0db-2703cec33413",
        "colab": {
          "base_uri": "https://localhost:8080/",
          "height": 776
        }
      },
      "source": [
        "bigger_history = bigger_model.fit(train_X,\n",
        "                                      train_Y,\n",
        "                                      epochs=20,\n",
        "                                      validation_data=(test_X, test_Y),\n",
        "                                      verbose=2)\n"
      ],
      "execution_count": 0,
      "outputs": [
        {
          "output_type": "stream",
          "text": [
            "Train on 254960 samples, validate on 125578 samples\n",
            "Epoch 1/20\n",
            "254960/254960 - 56s - loss: nan - accuracy: 0.0021 - binary_crossentropy: nan - mean_squared_error: nan - val_loss: nan - val_accuracy: 7.6447e-04 - val_binary_crossentropy: nan - val_mean_squared_error: nan\n",
            "Epoch 2/20\n",
            "254960/254960 - 56s - loss: nan - accuracy: 0.0014 - binary_crossentropy: nan - mean_squared_error: nan - val_loss: nan - val_accuracy: 7.6447e-04 - val_binary_crossentropy: nan - val_mean_squared_error: nan\n",
            "Epoch 3/20\n",
            "254960/254960 - 55s - loss: nan - accuracy: 0.0014 - binary_crossentropy: nan - mean_squared_error: nan - val_loss: nan - val_accuracy: 7.6447e-04 - val_binary_crossentropy: nan - val_mean_squared_error: nan\n",
            "Epoch 4/20\n",
            "254960/254960 - 56s - loss: nan - accuracy: 0.0014 - binary_crossentropy: nan - mean_squared_error: nan - val_loss: nan - val_accuracy: 7.6447e-04 - val_binary_crossentropy: nan - val_mean_squared_error: nan\n",
            "Epoch 5/20\n",
            "254960/254960 - 56s - loss: nan - accuracy: 0.0014 - binary_crossentropy: nan - mean_squared_error: nan - val_loss: nan - val_accuracy: 7.6447e-04 - val_binary_crossentropy: nan - val_mean_squared_error: nan\n",
            "Epoch 6/20\n",
            "254960/254960 - 56s - loss: nan - accuracy: 0.0014 - binary_crossentropy: nan - mean_squared_error: nan - val_loss: nan - val_accuracy: 7.6447e-04 - val_binary_crossentropy: nan - val_mean_squared_error: nan\n",
            "Epoch 7/20\n",
            "254960/254960 - 56s - loss: nan - accuracy: 0.0014 - binary_crossentropy: nan - mean_squared_error: nan - val_loss: nan - val_accuracy: 7.6447e-04 - val_binary_crossentropy: nan - val_mean_squared_error: nan\n",
            "Epoch 8/20\n",
            "254960/254960 - 56s - loss: nan - accuracy: 0.0014 - binary_crossentropy: nan - mean_squared_error: nan - val_loss: nan - val_accuracy: 7.6447e-04 - val_binary_crossentropy: nan - val_mean_squared_error: nan\n",
            "Epoch 9/20\n",
            "254960/254960 - 55s - loss: nan - accuracy: 0.0014 - binary_crossentropy: nan - mean_squared_error: nan - val_loss: nan - val_accuracy: 7.6447e-04 - val_binary_crossentropy: nan - val_mean_squared_error: nan\n",
            "Epoch 10/20\n",
            "254960/254960 - 56s - loss: nan - accuracy: 0.0014 - binary_crossentropy: nan - mean_squared_error: nan - val_loss: nan - val_accuracy: 7.6447e-04 - val_binary_crossentropy: nan - val_mean_squared_error: nan\n",
            "Epoch 11/20\n",
            "254960/254960 - 55s - loss: nan - accuracy: 0.0014 - binary_crossentropy: nan - mean_squared_error: nan - val_loss: nan - val_accuracy: 7.6447e-04 - val_binary_crossentropy: nan - val_mean_squared_error: nan\n",
            "Epoch 12/20\n",
            "254960/254960 - 56s - loss: nan - accuracy: 0.0014 - binary_crossentropy: nan - mean_squared_error: nan - val_loss: nan - val_accuracy: 7.6447e-04 - val_binary_crossentropy: nan - val_mean_squared_error: nan\n",
            "Epoch 13/20\n",
            "254960/254960 - 55s - loss: nan - accuracy: 0.0014 - binary_crossentropy: nan - mean_squared_error: nan - val_loss: nan - val_accuracy: 7.6447e-04 - val_binary_crossentropy: nan - val_mean_squared_error: nan\n",
            "Epoch 14/20\n",
            "254960/254960 - 55s - loss: nan - accuracy: 0.0014 - binary_crossentropy: nan - mean_squared_error: nan - val_loss: nan - val_accuracy: 7.6447e-04 - val_binary_crossentropy: nan - val_mean_squared_error: nan\n",
            "Epoch 15/20\n",
            "254960/254960 - 55s - loss: nan - accuracy: 0.0014 - binary_crossentropy: nan - mean_squared_error: nan - val_loss: nan - val_accuracy: 7.6447e-04 - val_binary_crossentropy: nan - val_mean_squared_error: nan\n",
            "Epoch 16/20\n",
            "254960/254960 - 57s - loss: nan - accuracy: 0.0014 - binary_crossentropy: nan - mean_squared_error: nan - val_loss: nan - val_accuracy: 7.6447e-04 - val_binary_crossentropy: nan - val_mean_squared_error: nan\n",
            "Epoch 17/20\n",
            "254960/254960 - 55s - loss: nan - accuracy: 0.0014 - binary_crossentropy: nan - mean_squared_error: nan - val_loss: nan - val_accuracy: 7.6447e-04 - val_binary_crossentropy: nan - val_mean_squared_error: nan\n",
            "Epoch 18/20\n",
            "254960/254960 - 55s - loss: nan - accuracy: 0.0014 - binary_crossentropy: nan - mean_squared_error: nan - val_loss: nan - val_accuracy: 7.6447e-04 - val_binary_crossentropy: nan - val_mean_squared_error: nan\n",
            "Epoch 19/20\n",
            "254960/254960 - 55s - loss: nan - accuracy: 0.0014 - binary_crossentropy: nan - mean_squared_error: nan - val_loss: nan - val_accuracy: 7.6447e-04 - val_binary_crossentropy: nan - val_mean_squared_error: nan\n",
            "Epoch 20/20\n",
            "254960/254960 - 55s - loss: nan - accuracy: 0.0014 - binary_crossentropy: nan - mean_squared_error: nan - val_loss: nan - val_accuracy: 7.6447e-04 - val_binary_crossentropy: nan - val_mean_squared_error: nan\n"
          ],
          "name": "stdout"
        }
      ]
    },
    {
      "cell_type": "code",
      "metadata": {
        "id": "aXfrHnXmzhAL",
        "colab_type": "code",
        "outputId": "02ee0770-0164-4234-f816-b0aaad2556ba",
        "colab": {
          "base_uri": "https://localhost:8080/",
          "height": 306
        }
      },
      "source": [
        "features_nr = train_X.shape[1]\n",
        "target_nr = train_Y.shape[1]\n",
        "\n",
        "\n",
        "smaller_model = keras.Sequential([\n",
        "    # `input_shape` is only required here so that `.summary` works.\n",
        "    keras.layers.Dense(features_nr, activation='relu', \n",
        "                       input_shape=(features_nr,)),\n",
        "    keras.layers.Dense(100, activation='relu'),\n",
        "    keras.layers.Dense(100, activation='relu'),\n",
        "    keras.layers.Dense(target_nr)\n",
        "])\n",
        "\n",
        "smaller_model.compile(optimizer='adam',\n",
        "                       loss='mean_squared_error',\n",
        "                       metrics=['accuracy', 'binary_crossentropy', 'mean_squared_error'])\n",
        "\n",
        "smaller_model.summary()"
      ],
      "execution_count": 0,
      "outputs": [
        {
          "output_type": "stream",
          "text": [
            "Model: \"sequential_2\"\n",
            "_________________________________________________________________\n",
            "Layer (type)                 Output Shape              Param #   \n",
            "=================================================================\n",
            "dense_9 (Dense)              (None, 14)                210       \n",
            "_________________________________________________________________\n",
            "dense_10 (Dense)             (None, 100)               1500      \n",
            "_________________________________________________________________\n",
            "dense_11 (Dense)             (None, 100)               10100     \n",
            "_________________________________________________________________\n",
            "dense_12 (Dense)             (None, 11)                1111      \n",
            "=================================================================\n",
            "Total params: 12,921\n",
            "Trainable params: 12,921\n",
            "Non-trainable params: 0\n",
            "_________________________________________________________________\n"
          ],
          "name": "stdout"
        }
      ]
    },
    {
      "cell_type": "code",
      "metadata": {
        "id": "5NNjmD0KzgzZ",
        "colab_type": "code",
        "outputId": "38ecb451-a50b-4c08-de8d-a8b3bf21ee17",
        "colab": {
          "base_uri": "https://localhost:8080/",
          "height": 776
        }
      },
      "source": [
        "smaller_history = smaller_model.fit(train_X,\n",
        "                                      train_Y,\n",
        "                                      epochs=20,\n",
        "                                      validation_data=(test_X, test_Y),\n",
        "                                      verbose=2)\n"
      ],
      "execution_count": 0,
      "outputs": [
        {
          "output_type": "stream",
          "text": [
            "Train on 254960 samples, validate on 125578 samples\n",
            "Epoch 1/20\n",
            "254960/254960 - 47s - loss: nan - accuracy: 0.0022 - binary_crossentropy: nan - mean_squared_error: nan - val_loss: nan - val_accuracy: 7.6447e-04 - val_binary_crossentropy: nan - val_mean_squared_error: nan\n",
            "Epoch 2/20\n",
            "254960/254960 - 46s - loss: nan - accuracy: 0.0014 - binary_crossentropy: nan - mean_squared_error: nan - val_loss: nan - val_accuracy: 7.6447e-04 - val_binary_crossentropy: nan - val_mean_squared_error: nan\n",
            "Epoch 3/20\n",
            "254960/254960 - 46s - loss: nan - accuracy: 0.0014 - binary_crossentropy: nan - mean_squared_error: nan - val_loss: nan - val_accuracy: 7.6447e-04 - val_binary_crossentropy: nan - val_mean_squared_error: nan\n",
            "Epoch 4/20\n",
            "254960/254960 - 46s - loss: nan - accuracy: 0.0014 - binary_crossentropy: nan - mean_squared_error: nan - val_loss: nan - val_accuracy: 7.6447e-04 - val_binary_crossentropy: nan - val_mean_squared_error: nan\n",
            "Epoch 5/20\n",
            "254960/254960 - 46s - loss: nan - accuracy: 0.0014 - binary_crossentropy: nan - mean_squared_error: nan - val_loss: nan - val_accuracy: 7.6447e-04 - val_binary_crossentropy: nan - val_mean_squared_error: nan\n",
            "Epoch 6/20\n",
            "254960/254960 - 46s - loss: nan - accuracy: 0.0014 - binary_crossentropy: nan - mean_squared_error: nan - val_loss: nan - val_accuracy: 7.6447e-04 - val_binary_crossentropy: nan - val_mean_squared_error: nan\n",
            "Epoch 7/20\n",
            "254960/254960 - 46s - loss: nan - accuracy: 0.0014 - binary_crossentropy: nan - mean_squared_error: nan - val_loss: nan - val_accuracy: 7.6447e-04 - val_binary_crossentropy: nan - val_mean_squared_error: nan\n",
            "Epoch 8/20\n",
            "254960/254960 - 47s - loss: nan - accuracy: 0.0014 - binary_crossentropy: nan - mean_squared_error: nan - val_loss: nan - val_accuracy: 7.6447e-04 - val_binary_crossentropy: nan - val_mean_squared_error: nan\n",
            "Epoch 9/20\n",
            "254960/254960 - 46s - loss: nan - accuracy: 0.0014 - binary_crossentropy: nan - mean_squared_error: nan - val_loss: nan - val_accuracy: 7.6447e-04 - val_binary_crossentropy: nan - val_mean_squared_error: nan\n",
            "Epoch 10/20\n",
            "254960/254960 - 46s - loss: nan - accuracy: 0.0014 - binary_crossentropy: nan - mean_squared_error: nan - val_loss: nan - val_accuracy: 7.6447e-04 - val_binary_crossentropy: nan - val_mean_squared_error: nan\n",
            "Epoch 11/20\n",
            "254960/254960 - 46s - loss: nan - accuracy: 0.0014 - binary_crossentropy: nan - mean_squared_error: nan - val_loss: nan - val_accuracy: 7.6447e-04 - val_binary_crossentropy: nan - val_mean_squared_error: nan\n",
            "Epoch 12/20\n",
            "254960/254960 - 46s - loss: nan - accuracy: 0.0014 - binary_crossentropy: nan - mean_squared_error: nan - val_loss: nan - val_accuracy: 7.6447e-04 - val_binary_crossentropy: nan - val_mean_squared_error: nan\n",
            "Epoch 13/20\n",
            "254960/254960 - 46s - loss: nan - accuracy: 0.0014 - binary_crossentropy: nan - mean_squared_error: nan - val_loss: nan - val_accuracy: 7.6447e-04 - val_binary_crossentropy: nan - val_mean_squared_error: nan\n",
            "Epoch 14/20\n",
            "254960/254960 - 46s - loss: nan - accuracy: 0.0014 - binary_crossentropy: nan - mean_squared_error: nan - val_loss: nan - val_accuracy: 7.6447e-04 - val_binary_crossentropy: nan - val_mean_squared_error: nan\n",
            "Epoch 15/20\n",
            "254960/254960 - 47s - loss: nan - accuracy: 0.0014 - binary_crossentropy: nan - mean_squared_error: nan - val_loss: nan - val_accuracy: 7.6447e-04 - val_binary_crossentropy: nan - val_mean_squared_error: nan\n",
            "Epoch 16/20\n",
            "254960/254960 - 45s - loss: nan - accuracy: 0.0014 - binary_crossentropy: nan - mean_squared_error: nan - val_loss: nan - val_accuracy: 7.6447e-04 - val_binary_crossentropy: nan - val_mean_squared_error: nan\n",
            "Epoch 17/20\n",
            "254960/254960 - 46s - loss: nan - accuracy: 0.0014 - binary_crossentropy: nan - mean_squared_error: nan - val_loss: nan - val_accuracy: 7.6447e-04 - val_binary_crossentropy: nan - val_mean_squared_error: nan\n",
            "Epoch 18/20\n",
            "254960/254960 - 45s - loss: nan - accuracy: 0.0014 - binary_crossentropy: nan - mean_squared_error: nan - val_loss: nan - val_accuracy: 7.6447e-04 - val_binary_crossentropy: nan - val_mean_squared_error: nan\n",
            "Epoch 19/20\n",
            "254960/254960 - 45s - loss: nan - accuracy: 0.0014 - binary_crossentropy: nan - mean_squared_error: nan - val_loss: nan - val_accuracy: 7.6447e-04 - val_binary_crossentropy: nan - val_mean_squared_error: nan\n",
            "Epoch 20/20\n",
            "254960/254960 - 45s - loss: nan - accuracy: 0.0014 - binary_crossentropy: nan - mean_squared_error: nan - val_loss: nan - val_accuracy: 7.6447e-04 - val_binary_crossentropy: nan - val_mean_squared_error: nan\n"
          ],
          "name": "stdout"
        }
      ]
    },
    {
      "cell_type": "code",
      "metadata": {
        "id": "JKAcPR8EJXsC",
        "colab_type": "code",
        "outputId": "af1afeef-6935-4a34-a5dd-fc958b22537c",
        "colab": {
          "base_uri": "https://localhost:8080/",
          "height": 609
        }
      },
      "source": [
        "def plot_history(histories, key='accuracy'):\n",
        "  plt.figure(figsize=(16,10))\n",
        "\n",
        "  for name, history in histories:\n",
        "    val = plt.plot(history.epoch, history.history['val_'+key],\n",
        "                   '--', label=name.title()+' Val')\n",
        "    plt.plot(history.epoch, history.history[key], color=val[0].get_color(),\n",
        "             label=name.title()+' Train')\n",
        "\n",
        "  plt.xlabel('Epochs')\n",
        "  plt.ylabel(key.replace('_',' ').title())\n",
        "  plt.legend()\n",
        "\n",
        "  plt.xlim([0,max(history.epoch)])\n",
        "\n",
        "\n",
        "plot_history([('baseline', baseline_history),\n",
        "              ('smaller', smaller_history),\n",
        "              ('bigger', bigger_history)])\n"
      ],
      "execution_count": 0,
      "outputs": [
        {
          "output_type": "display_data",
          "data": {
            "image/png": "[encoded data removed]",
            "text/plain": [
              "<Figure size 1152x720 with 1 Axes>"
            ]
          },
          "metadata": {
            "tags": []
          }
        }
      ]
    },
    {
      "cell_type": "code",
      "metadata": {
        "id": "qUZj0AZM0DGc",
        "colab_type": "code",
        "colab": {}
      },
      "source": [
        ""
      ],
      "execution_count": 0,
      "outputs": []
    }
  ]
}