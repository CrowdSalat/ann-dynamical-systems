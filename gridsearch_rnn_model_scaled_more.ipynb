{
  "nbformat": 4,
  "nbformat_minor": 0,
  "metadata": {
    "colab": {
      "name": "gridsearch_rnn_model_scaled_more.ipynb",
      "provenance": [],
      "collapsed_sections": [],
      "toc_visible": true,
      "include_colab_link": true
    },
    "kernelspec": {
      "name": "python3",
      "display_name": "Python 3"
    },
    "accelerator": "GPU"
  },
  "cells": [
    {
      "cell_type": "markdown",
      "metadata": {
        "id": "view-in-github",
        "colab_type": "text"
      },
      "source": [
        "<a href=\"https://colab.research.google.com/github/CrowdSalat/ann-dynamical-systems/blob/master/gridsearch_rnn_model_scaled_more.ipynb\" target=\"_parent\"><img src=\"https://colab.research.google.com/assets/colab-badge.svg\" alt=\"Open In Colab\"/></a>"
      ]
    },
    {
      "cell_type": "markdown",
      "metadata": {
        "id": "Pa9Mju9lc4Ll",
        "colab_type": "text"
      },
      "source": [
        "# overview\n",
        "\n",
        "Uses actions and an input state to predict the output state."
      ]
    },
    {
      "cell_type": "markdown",
      "metadata": {
        "id": "ijDD21X-gnli",
        "colab_type": "text"
      },
      "source": [
        "# imports"
      ]
    },
    {
      "cell_type": "code",
      "metadata": {
        "id": "_Z4pV678a1zv",
        "colab_type": "code",
        "outputId": "092a8ba6-90d4-4275-b190-02e2f57f39dd",
        "colab": {
          "base_uri": "https://localhost:8080/",
          "height": 35
        }
      },
      "source": [
        "try:\n",
        "  # %tensorflow_version only exists in Colab.\n",
        "  %tensorflow_version 2.x\n",
        "except Exception:\n",
        "  pass"
      ],
      "execution_count": 0,
      "outputs": [
        {
          "output_type": "stream",
          "text": [
            "TensorFlow 2.x selected.\n"
          ],
          "name": "stdout"
        }
      ]
    },
    {
      "cell_type": "code",
      "metadata": {
        "id": "2p4YwEK_f7kq",
        "colab_type": "code",
        "outputId": "36ba6c10-1065-4924-e111-17cadc978652",
        "colab": {
          "base_uri": "https://localhost:8080/",
          "height": 35
        }
      },
      "source": [
        "import pandas as pd\n",
        "import numpy as np\n",
        "import os\n",
        "import sys\n",
        "import datetime\n",
        "import math\n",
        "import pickle\n",
        "import matplotlib.pyplot as plt\n",
        "from sklearn.preprocessing import MinMaxScaler\n",
        "from sklearn.metrics import mean_squared_error\n",
        "from sklearn.metrics import mean_absolute_error\n",
        "\n",
        "from sklearn.model_selection import train_test_split\n",
        "from sklearn.preprocessing import MinMaxScaler\n",
        "\n",
        "\n",
        "import tensorflow as tf\n",
        "print(tf.__version__)\n",
        "from tensorflow import keras\n",
        "\n",
        "from tensorflow.keras.models import Sequential\n",
        "from tensorflow.keras.layers import Dense\n",
        "from tensorflow.keras.layers import *\n",
        "from tensorflow.keras import metrics"
      ],
      "execution_count": 0,
      "outputs": [
        {
          "output_type": "stream",
          "text": [
            "2.0.0\n"
          ],
          "name": "stdout"
        }
      ]
    },
    {
      "cell_type": "code",
      "metadata": {
        "id": "PrIcpWs4wjLk",
        "colab_type": "code",
        "outputId": "9d800d0f-b586-4498-930a-12d7c35e6887",
        "colab": {
          "base_uri": "https://localhost:8080/",
          "height": 567
        }
      },
      "source": [
        "from tensorflow.python.client import device_lib\n",
        "print(device_lib.list_local_devices())"
      ],
      "execution_count": 0,
      "outputs": [
        {
          "output_type": "stream",
          "text": [
            "[name: \"/device:CPU:0\"\n",
            "device_type: \"CPU\"\n",
            "memory_limit: 268435456\n",
            "locality {\n",
            "}\n",
            "incarnation: 11725221820837674663\n",
            ", name: \"/device:XLA_CPU:0\"\n",
            "device_type: \"XLA_CPU\"\n",
            "memory_limit: 17179869184\n",
            "locality {\n",
            "}\n",
            "incarnation: 13812874479073028021\n",
            "physical_device_desc: \"device: XLA_CPU device\"\n",
            ", name: \"/device:XLA_GPU:0\"\n",
            "device_type: \"XLA_GPU\"\n",
            "memory_limit: 17179869184\n",
            "locality {\n",
            "}\n",
            "incarnation: 5434169764358397968\n",
            "physical_device_desc: \"device: XLA_GPU device\"\n",
            ", name: \"/device:GPU:0\"\n",
            "device_type: \"GPU\"\n",
            "memory_limit: 11330115994\n",
            "locality {\n",
            "  bus_id: 1\n",
            "  links {\n",
            "  }\n",
            "}\n",
            "incarnation: 10379750410238614876\n",
            "physical_device_desc: \"device: 0, name: Tesla K80, pci bus id: 0000:00:04.0, compute capability: 3.7\"\n",
            "]\n"
          ],
          "name": "stdout"
        }
      ]
    },
    {
      "cell_type": "markdown",
      "metadata": {
        "id": "rmj8c18xllpT",
        "colab_type": "text"
      },
      "source": [
        "# mount drive"
      ]
    },
    {
      "cell_type": "code",
      "metadata": {
        "id": "nUEqcpzvltdo",
        "colab_type": "code",
        "colab": {}
      },
      "source": [
        "file = 'dataset_all_01.csv'"
      ],
      "execution_count": 0,
      "outputs": []
    },
    {
      "cell_type": "code",
      "metadata": {
        "id": "TuGWEMS1loFz",
        "colab_type": "code",
        "outputId": "bf3efc31-2b98-45c5-dd87-2c4e9d6c55fa",
        "colab": {
          "base_uri": "https://localhost:8080/",
          "height": 143
        }
      },
      "source": [
        "from google.colab import drive\n",
        "drive.mount('/content/drive')\n",
        "\n",
        "root_dir = '/content/drive/My Drive/xplane_data' \n",
        "os.chdir(root_dir)\n",
        "print ('working dir: ' + os.getcwd())"
      ],
      "execution_count": 0,
      "outputs": [
        {
          "output_type": "stream",
          "text": [
            "Go to this URL in a browser: https://accounts.google.com/o/oauth2/auth?client_id=947318989803-6bn6qk8qdgf4n4g3pfee6491hc0brc4i.apps.googleusercontent.com&redirect_uri=urn%3Aietf%3Awg%3Aoauth%3A2.0%3Aoob&scope=email%20https%3A%2F%2Fwww.googleapis.com%2Fauth%2Fdocs.test%20https%3A%2F%2Fwww.googleapis.com%2Fauth%2Fdrive%20https%3A%2F%2Fwww.googleapis.com%2Fauth%2Fdrive.photos.readonly%20https%3A%2F%2Fwww.googleapis.com%2Fauth%2Fpeopleapi.readonly&response_type=code\n",
            "\n",
            "Enter your authorization code:\n",
            "··········\n",
            "Mounted at /content/drive\n",
            "working dir: /content/drive/My Drive/xplane_data\n"
          ],
          "name": "stdout"
        }
      ]
    },
    {
      "cell_type": "markdown",
      "metadata": {
        "id": "EF4tx110HmOj",
        "colab_type": "text"
      },
      "source": [
        "# load and prepare data"
      ]
    },
    {
      "cell_type": "markdown",
      "metadata": {
        "id": "EOM6RVAIduGr",
        "colab_type": "text"
      },
      "source": [
        "## define features (actions & states)\n",
        "actions and states at time t are the input for the network.\n",
        "\n",
        "the states at time t + 1 are the desired output of the network.\n"
      ]
    },
    {
      "cell_type": "code",
      "metadata": {
        "id": "YH9bVQ3YDyTh",
        "colab_type": "code",
        "outputId": "c11e3c14-7f69-434a-abfd-3bdae4c1e869",
        "colab": {
          "base_uri": "https://localhost:8080/",
          "height": 55
        }
      },
      "source": [
        "col_m_time      = '   missn,_time '\n",
        "col_t_time      = '   _totl,_time '\n",
        "col_yaw_v       = '   ____Q,rad/s '\n",
        "\n",
        "col_yaw_deg     = '   _beta,__deg '\n",
        "col_roll_deg    = '   _roll,__deg '\n",
        "col_roll_v      = '   ____R,rad/s '\n",
        "col_pitch_deg   = '   pitch,__deg '\n",
        "col_pitch_v     = '   ____P,rad/s '\n",
        "col_alt         = '   __alt,ftmsl '\n",
        "col_vv          = '   __VVI,__fpm '\n",
        "col_v           = '   Vtrue,_ktas '\n",
        "col_rpm_prop    = '   rpm_1,_prop '\n",
        "col_throttle     = '   thro1,_part '\n",
        "\n",
        "cols_state = [ \n",
        "    col_yaw_v,\n",
        "    col_yaw_deg,\n",
        "    col_roll_deg,\n",
        "    col_roll_v,\n",
        "    col_pitch_deg,\n",
        "    col_pitch_v,\n",
        "    col_vv,\n",
        "    col_alt,\n",
        "    col_v,\n",
        "    col_rpm_prop,\n",
        "    col_throttle,\n",
        "]\n",
        "\n",
        "cols_time = [\n",
        "    col_m_time,\n",
        "    col_t_time,\n",
        "]\n",
        "\n",
        "col_elev_servo                  = '   _elev,servo '\n",
        "col_ailrn_servo                  = '   ailrn,servo '\n",
        "col_ruddr_servo                  = '   ruddr,servo '\n",
        "\n",
        "cols_action = [\n",
        "    col_elev_servo,\n",
        "    col_ailrn_servo,\n",
        "    col_ruddr_servo\n",
        "]\n",
        "\n",
        "# all input columns\n",
        "cols_features = []\n",
        "cols_features.extend(cols_state)\n",
        "cols_features.extend(cols_action)\n",
        "\n",
        "# orga column\n",
        "col_dataset_index = 'dataset_index'\n",
        "col_maneuver_index = 'maneuver_index'\n",
        "col_maneuver_name = 'maneuver_name'\n",
        "col_maneuver_datapoint_index = 'maneuver_datapoint_index'\n",
        "col_maneuver_type = 'maneuver_type'\n",
        "\n",
        "\n",
        "label_prefix = 't+1_'\n",
        "cols_label = [label_prefix + col_state for col_state in cols_state]\n",
        "print(cols_label)\n"
      ],
      "execution_count": 0,
      "outputs": [
        {
          "output_type": "stream",
          "text": [
            "['t+1_   ____Q,rad/s ', 't+1_   _beta,__deg ', 't+1_   _roll,__deg ', 't+1_   ____R,rad/s ', 't+1_   pitch,__deg ', 't+1_   ____P,rad/s ', 't+1_   __VVI,__fpm ', 't+1_   __alt,ftmsl ', 't+1_   Vtrue,_ktas ', 't+1_   rpm_1,_prop ', 't+1_   thro1,_part ']\n"
          ],
          "name": "stdout"
        }
      ]
    },
    {
      "cell_type": "markdown",
      "metadata": {
        "id": "gDSNkVBaDv2V",
        "colab_type": "text"
      },
      "source": [
        "## load data"
      ]
    },
    {
      "cell_type": "code",
      "metadata": {
        "id": "uByPEHX3fS2G",
        "colab_type": "code",
        "outputId": "49e0a698-ff2b-4bdc-e5f9-48015346c541",
        "colab": {
          "base_uri": "https://localhost:8080/",
          "height": 52
        }
      },
      "source": [
        "def load_xplane_csv(csv_path, columns):\n",
        "    return pd.read_csv(csv_path, delimiter=',', usecols = columns, \n",
        "                       float_precision='high')\n",
        "\n",
        "df_features = load_xplane_csv(file, cols_features)\n",
        "\n",
        "df_labels = load_xplane_csv(file, cols_label)\n",
        "\n",
        "print(len(df_features))\n",
        "print(len(df_labels))\n",
        "assert(len(df_features) == len(df_labels))\n"
      ],
      "execution_count": 0,
      "outputs": [
        {
          "output_type": "stream",
          "text": [
            "477893\n",
            "477893\n"
          ],
          "name": "stdout"
        }
      ]
    },
    {
      "cell_type": "markdown",
      "metadata": {
        "id": "GFoo4xF1ECKM",
        "colab_type": "text"
      },
      "source": [
        "## drop nan in features and labels"
      ]
    },
    {
      "cell_type": "markdown",
      "metadata": {
        "id": "zZ-jcsk-LoRs",
        "colab_type": "text"
      },
      "source": [
        "drop nan rows in both features and in labels"
      ]
    },
    {
      "cell_type": "code",
      "metadata": {
        "id": "d9ERQNmbLnkB",
        "colab_type": "code",
        "outputId": "22ce8ebb-c5be-4020-9ab1-3e5418e8078b",
        "colab": {
          "base_uri": "https://localhost:8080/",
          "height": 52
        }
      },
      "source": [
        "df_nan = df_labels.isna().any(axis=1)\n",
        "\n",
        "for i in range(0, len(df_nan)):\n",
        "  if df_nan[i] == True:\n",
        "    df_features.drop(index=i, inplace=True)\n",
        "\n",
        "df_labels.dropna(inplace=True)\n",
        "\n",
        "print(len(df_features))\n",
        "print(len(df_labels))"
      ],
      "execution_count": 0,
      "outputs": [
        {
          "output_type": "stream",
          "text": [
            "477290\n",
            "477290\n"
          ],
          "name": "stdout"
        }
      ]
    },
    {
      "cell_type": "code",
      "metadata": {
        "id": "QrIc5hWyvzkK",
        "colab_type": "code",
        "colab": {}
      },
      "source": [
        "def split_train_test(dataset):\n",
        "  train_size = int(len(dataset) * 0.67)\n",
        "  test_size = len(dataset) - train_size\n",
        "  train, test = dataset[0:train_size,:], dataset[train_size:len(dataset),:]\n",
        "  return train, test\n"
      ],
      "execution_count": 0,
      "outputs": []
    },
    {
      "cell_type": "markdown",
      "metadata": {
        "id": "sWg6-HwsEKZ7",
        "colab_type": "text"
      },
      "source": [
        "## split data"
      ]
    },
    {
      "cell_type": "code",
      "metadata": {
        "id": "RW9vgEExoYB8",
        "colab_type": "code",
        "colab": {}
      },
      "source": [
        "features = df_features.values\n",
        "labels = df_labels.values"
      ],
      "execution_count": 0,
      "outputs": []
    },
    {
      "cell_type": "code",
      "metadata": {
        "id": "wFF9QfAdv8CQ",
        "colab_type": "code",
        "colab": {}
      },
      "source": [
        "train_X, test_X, train_Y, test_Y  = train_test_split(features,labels, test_size=0.2, random_state=42)"
      ],
      "execution_count": 0,
      "outputs": []
    },
    {
      "cell_type": "code",
      "metadata": {
        "id": "YpDcgWG3LiCO",
        "colab_type": "code",
        "outputId": "13bb0d0a-f3b1-4dd1-8f53-b0f30ea1cbbe",
        "colab": {
          "base_uri": "https://localhost:8080/",
          "height": 88
        }
      },
      "source": [
        "print(train_X.shape)\n",
        "print(train_Y.shape)\n",
        "print(test_X.shape)\n",
        "print(test_Y.shape)"
      ],
      "execution_count": 0,
      "outputs": [
        {
          "output_type": "stream",
          "text": [
            "(381832, 14)\n",
            "(381832, 11)\n",
            "(95458, 14)\n",
            "(95458, 11)\n"
          ],
          "name": "stdout"
        }
      ]
    },
    {
      "cell_type": "markdown",
      "metadata": {
        "id": "8iyEoupyiORe",
        "colab_type": "text"
      },
      "source": [
        "## scale data"
      ]
    },
    {
      "cell_type": "code",
      "metadata": {
        "id": "DexT4psKoaPF",
        "colab_type": "code",
        "colab": {}
      },
      "source": [
        "feature_scaler = MinMaxScaler()\n",
        "feature_scaler.fit(train_X)\n",
        "\n",
        "train_X = feature_scaler.transform(train_X)\n",
        "test_X = feature_scaler.transform(test_X)\n"
      ],
      "execution_count": 0,
      "outputs": []
    },
    {
      "cell_type": "code",
      "metadata": {
        "id": "PAm6Gm6TqoEw",
        "colab_type": "code",
        "colab": {}
      },
      "source": [
        "label_scaler = MinMaxScaler()\n",
        "label_scaler.fit(train_Y)\n",
        "\n",
        "train_Y = label_scaler.transform(train_Y)\n",
        "test_Y = label_scaler.transform(test_Y)"
      ],
      "execution_count": 0,
      "outputs": []
    },
    {
      "cell_type": "code",
      "metadata": {
        "id": "Ew0U2dwl1TuN",
        "colab_type": "code",
        "colab": {}
      },
      "source": [
        "# create scaled df\n",
        "scaled_df_features = pd.DataFrame(feature_scaler.transform(df_features), columns=df_features.columns)\n",
        "scaled_df_labels = pd.DataFrame(label_scaler.transform(df_labels), columns=df_labels.columns)"
      ],
      "execution_count": 0,
      "outputs": []
    },
    {
      "cell_type": "code",
      "metadata": {
        "id": "jjMPJ7gH1p_O",
        "colab_type": "code",
        "outputId": "c95e4aa3-1e71-47f7-92fb-073cabf3bea1",
        "colab": {
          "base_uri": "https://localhost:8080/",
          "height": 320
        }
      },
      "source": [
        "df_features.describe()"
      ],
      "execution_count": 0,
      "outputs": [
        {
          "output_type": "execute_result",
          "data": {
            "text/html": [
              "<div>\n",
              "<style scoped>\n",
              "    .dataframe tbody tr th:only-of-type {\n",
              "        vertical-align: middle;\n",
              "    }\n",
              "\n",
              "    .dataframe tbody tr th {\n",
              "        vertical-align: top;\n",
              "    }\n",
              "\n",
              "    .dataframe thead th {\n",
              "        text-align: right;\n",
              "    }\n",
              "</style>\n",
              "<table border=\"1\" class=\"dataframe\">\n",
              "  <thead>\n",
              "    <tr style=\"text-align: right;\">\n",
              "      <th></th>\n",
              "      <th>Vtrue,_ktas</th>\n",
              "      <th>__VVI,__fpm</th>\n",
              "      <th>____Q,rad/s</th>\n",
              "      <th>____P,rad/s</th>\n",
              "      <th>____R,rad/s</th>\n",
              "      <th>pitch,__deg</th>\n",
              "      <th>_roll,__deg</th>\n",
              "      <th>_beta,__deg</th>\n",
              "      <th>__alt,ftmsl</th>\n",
              "      <th>thro1,_part</th>\n",
              "      <th>rpm_1,_prop</th>\n",
              "      <th>_elev,servo</th>\n",
              "      <th>ailrn,servo</th>\n",
              "      <th>ruddr,servo</th>\n",
              "    </tr>\n",
              "  </thead>\n",
              "  <tbody>\n",
              "    <tr>\n",
              "      <th>count</th>\n",
              "      <td>477290.000000</td>\n",
              "      <td>477290.000000</td>\n",
              "      <td>477290.000000</td>\n",
              "      <td>477290.000000</td>\n",
              "      <td>477290.000000</td>\n",
              "      <td>477290.000000</td>\n",
              "      <td>477290.000000</td>\n",
              "      <td>477290.000000</td>\n",
              "      <td>477290.000000</td>\n",
              "      <td>477290.000000</td>\n",
              "      <td>477290.000000</td>\n",
              "      <td>477290.000000</td>\n",
              "      <td>477290.000000</td>\n",
              "      <td>477290.0</td>\n",
              "    </tr>\n",
              "    <tr>\n",
              "      <th>mean</th>\n",
              "      <td>119.567353</td>\n",
              "      <td>31.868167</td>\n",
              "      <td>0.003814</td>\n",
              "      <td>-0.000023</td>\n",
              "      <td>-0.001840</td>\n",
              "      <td>-0.653563</td>\n",
              "      <td>-0.791051</td>\n",
              "      <td>0.006402</td>\n",
              "      <td>2714.494715</td>\n",
              "      <td>0.837601</td>\n",
              "      <td>2490.420838</td>\n",
              "      <td>-0.000023</td>\n",
              "      <td>-0.014557</td>\n",
              "      <td>0.0</td>\n",
              "    </tr>\n",
              "    <tr>\n",
              "      <th>std</th>\n",
              "      <td>10.113279</td>\n",
              "      <td>274.992679</td>\n",
              "      <td>0.007108</td>\n",
              "      <td>0.017348</td>\n",
              "      <td>0.023905</td>\n",
              "      <td>1.684671</td>\n",
              "      <td>8.876412</td>\n",
              "      <td>0.137679</td>\n",
              "      <td>1357.480837</td>\n",
              "      <td>0.082115</td>\n",
              "      <td>127.216137</td>\n",
              "      <td>0.002304</td>\n",
              "      <td>0.022662</td>\n",
              "      <td>0.0</td>\n",
              "    </tr>\n",
              "    <tr>\n",
              "      <th>min</th>\n",
              "      <td>66.424780</td>\n",
              "      <td>-1917.888180</td>\n",
              "      <td>-0.039450</td>\n",
              "      <td>-0.109810</td>\n",
              "      <td>-0.054820</td>\n",
              "      <td>-9.313510</td>\n",
              "      <td>-23.851520</td>\n",
              "      <td>-0.689970</td>\n",
              "      <td>805.092900</td>\n",
              "      <td>0.796080</td>\n",
              "      <td>2106.257810</td>\n",
              "      <td>-0.089790</td>\n",
              "      <td>-0.159740</td>\n",
              "      <td>0.0</td>\n",
              "    </tr>\n",
              "    <tr>\n",
              "      <th>25%</th>\n",
              "      <td>116.120002</td>\n",
              "      <td>-38.766265</td>\n",
              "      <td>-0.000010</td>\n",
              "      <td>-0.000410</td>\n",
              "      <td>-0.010880</td>\n",
              "      <td>-1.284538</td>\n",
              "      <td>-4.070882</td>\n",
              "      <td>-0.082300</td>\n",
              "      <td>1411.464812</td>\n",
              "      <td>0.796080</td>\n",
              "      <td>2424.051882</td>\n",
              "      <td>-0.000110</td>\n",
              "      <td>-0.017030</td>\n",
              "      <td>0.0</td>\n",
              "    </tr>\n",
              "    <tr>\n",
              "      <th>50%</th>\n",
              "      <td>118.825780</td>\n",
              "      <td>0.342395</td>\n",
              "      <td>0.001120</td>\n",
              "      <td>-0.000000</td>\n",
              "      <td>-0.000020</td>\n",
              "      <td>-0.787040</td>\n",
              "      <td>-0.104720</td>\n",
              "      <td>0.004390</td>\n",
              "      <td>2622.403565</td>\n",
              "      <td>0.796080</td>\n",
              "      <td>2458.394655</td>\n",
              "      <td>0.000000</td>\n",
              "      <td>-0.015220</td>\n",
              "      <td>0.0</td>\n",
              "    </tr>\n",
              "    <tr>\n",
              "      <th>75%</th>\n",
              "      <td>122.744895</td>\n",
              "      <td>165.376283</td>\n",
              "      <td>0.010170</td>\n",
              "      <td>0.000390</td>\n",
              "      <td>0.000847</td>\n",
              "      <td>-0.151363</td>\n",
              "      <td>0.212638</td>\n",
              "      <td>0.073260</td>\n",
              "      <td>3896.206053</td>\n",
              "      <td>0.796080</td>\n",
              "      <td>2504.543460</td>\n",
              "      <td>0.000070</td>\n",
              "      <td>-0.011370</td>\n",
              "      <td>0.0</td>\n",
              "    </tr>\n",
              "    <tr>\n",
              "      <th>max</th>\n",
              "      <td>155.436650</td>\n",
              "      <td>978.538330</td>\n",
              "      <td>0.041650</td>\n",
              "      <td>0.111310</td>\n",
              "      <td>0.055400</td>\n",
              "      <td>11.796170</td>\n",
              "      <td>25.924920</td>\n",
              "      <td>0.353550</td>\n",
              "      <td>5080.888180</td>\n",
              "      <td>1.000000</td>\n",
              "      <td>2811.808840</td>\n",
              "      <td>0.045100</td>\n",
              "      <td>0.124900</td>\n",
              "      <td>0.0</td>\n",
              "    </tr>\n",
              "  </tbody>\n",
              "</table>\n",
              "</div>"
            ],
            "text/plain": [
              "          Vtrue,_ktas      __VVI,__fpm   ...     ailrn,servo      ruddr,servo \n",
              "count    477290.000000    477290.000000  ...    477290.000000         477290.0\n",
              "mean        119.567353        31.868167  ...        -0.014557              0.0\n",
              "std          10.113279       274.992679  ...         0.022662              0.0\n",
              "min          66.424780     -1917.888180  ...        -0.159740              0.0\n",
              "25%         116.120002       -38.766265  ...        -0.017030              0.0\n",
              "50%         118.825780         0.342395  ...        -0.015220              0.0\n",
              "75%         122.744895       165.376283  ...        -0.011370              0.0\n",
              "max         155.436650       978.538330  ...         0.124900              0.0\n",
              "\n",
              "[8 rows x 14 columns]"
            ]
          },
          "metadata": {
            "tags": []
          },
          "execution_count": 16
        }
      ]
    },
    {
      "cell_type": "code",
      "metadata": {
        "id": "yYHbRVEG4Q6U",
        "colab_type": "code",
        "outputId": "7abdeed0-6884-4e2f-b837-2f52618b1086",
        "colab": {
          "base_uri": "https://localhost:8080/",
          "height": 320
        }
      },
      "source": [
        "scaled_df_features.describe()"
      ],
      "execution_count": 0,
      "outputs": [
        {
          "output_type": "execute_result",
          "data": {
            "text/html": [
              "<div>\n",
              "<style scoped>\n",
              "    .dataframe tbody tr th:only-of-type {\n",
              "        vertical-align: middle;\n",
              "    }\n",
              "\n",
              "    .dataframe tbody tr th {\n",
              "        vertical-align: top;\n",
              "    }\n",
              "\n",
              "    .dataframe thead th {\n",
              "        text-align: right;\n",
              "    }\n",
              "</style>\n",
              "<table border=\"1\" class=\"dataframe\">\n",
              "  <thead>\n",
              "    <tr style=\"text-align: right;\">\n",
              "      <th></th>\n",
              "      <th>Vtrue,_ktas</th>\n",
              "      <th>__VVI,__fpm</th>\n",
              "      <th>____Q,rad/s</th>\n",
              "      <th>____P,rad/s</th>\n",
              "      <th>____R,rad/s</th>\n",
              "      <th>pitch,__deg</th>\n",
              "      <th>_roll,__deg</th>\n",
              "      <th>_beta,__deg</th>\n",
              "      <th>__alt,ftmsl</th>\n",
              "      <th>thro1,_part</th>\n",
              "      <th>rpm_1,_prop</th>\n",
              "      <th>_elev,servo</th>\n",
              "      <th>ailrn,servo</th>\n",
              "      <th>ruddr,servo</th>\n",
              "    </tr>\n",
              "  </thead>\n",
              "  <tbody>\n",
              "    <tr>\n",
              "      <th>count</th>\n",
              "      <td>477290.000000</td>\n",
              "      <td>477290.000000</td>\n",
              "      <td>477290.000000</td>\n",
              "      <td>477290.000000</td>\n",
              "      <td>477290.000000</td>\n",
              "      <td>477290.000000</td>\n",
              "      <td>477290.000000</td>\n",
              "      <td>477290.000000</td>\n",
              "      <td>4.772900e+05</td>\n",
              "      <td>477290.000000</td>\n",
              "      <td>477290.000000</td>\n",
              "      <td>477290.000000</td>\n",
              "      <td>477290.000000</td>\n",
              "      <td>477290.0</td>\n",
              "    </tr>\n",
              "    <tr>\n",
              "      <th>mean</th>\n",
              "      <td>0.597028</td>\n",
              "      <td>0.673159</td>\n",
              "      <td>0.533466</td>\n",
              "      <td>0.496506</td>\n",
              "      <td>0.480678</td>\n",
              "      <td>0.410273</td>\n",
              "      <td>0.463281</td>\n",
              "      <td>0.667330</td>\n",
              "      <td>4.465606e-01</td>\n",
              "      <td>0.203613</td>\n",
              "      <td>0.544487</td>\n",
              "      <td>0.665484</td>\n",
              "      <td>0.510059</td>\n",
              "      <td>0.0</td>\n",
              "    </tr>\n",
              "    <tr>\n",
              "      <th>std</th>\n",
              "      <td>0.113617</td>\n",
              "      <td>0.094942</td>\n",
              "      <td>0.087647</td>\n",
              "      <td>0.078456</td>\n",
              "      <td>0.216880</td>\n",
              "      <td>0.079813</td>\n",
              "      <td>0.178326</td>\n",
              "      <td>0.131938</td>\n",
              "      <td>3.174807e-01</td>\n",
              "      <td>0.402681</td>\n",
              "      <td>0.180307</td>\n",
              "      <td>0.017080</td>\n",
              "      <td>0.079616</td>\n",
              "      <td>0.0</td>\n",
              "    </tr>\n",
              "    <tr>\n",
              "      <th>min</th>\n",
              "      <td>0.000000</td>\n",
              "      <td>0.000000</td>\n",
              "      <td>0.000000</td>\n",
              "      <td>0.000000</td>\n",
              "      <td>0.000000</td>\n",
              "      <td>0.000000</td>\n",
              "      <td>0.000000</td>\n",
              "      <td>0.000000</td>\n",
              "      <td>-5.566223e-07</td>\n",
              "      <td>0.000000</td>\n",
              "      <td>0.000000</td>\n",
              "      <td>0.000000</td>\n",
              "      <td>0.000000</td>\n",
              "      <td>0.0</td>\n",
              "    </tr>\n",
              "    <tr>\n",
              "      <th>25%</th>\n",
              "      <td>0.558299</td>\n",
              "      <td>0.648773</td>\n",
              "      <td>0.486313</td>\n",
              "      <td>0.494754</td>\n",
              "      <td>0.398657</td>\n",
              "      <td>0.380380</td>\n",
              "      <td>0.397390</td>\n",
              "      <td>0.582327</td>\n",
              "      <td>1.418146e-01</td>\n",
              "      <td>0.000000</td>\n",
              "      <td>0.450420</td>\n",
              "      <td>0.664838</td>\n",
              "      <td>0.501370</td>\n",
              "      <td>0.0</td>\n",
              "    </tr>\n",
              "    <tr>\n",
              "      <th>50%</th>\n",
              "      <td>0.588697</td>\n",
              "      <td>0.662275</td>\n",
              "      <td>0.500247</td>\n",
              "      <td>0.496608</td>\n",
              "      <td>0.497187</td>\n",
              "      <td>0.403949</td>\n",
              "      <td>0.477069</td>\n",
              "      <td>0.665402</td>\n",
              "      <td>4.250228e-01</td>\n",
              "      <td>0.000000</td>\n",
              "      <td>0.499095</td>\n",
              "      <td>0.665653</td>\n",
              "      <td>0.507729</td>\n",
              "      <td>0.0</td>\n",
              "    </tr>\n",
              "    <tr>\n",
              "      <th>75%</th>\n",
              "      <td>0.632726</td>\n",
              "      <td>0.719253</td>\n",
              "      <td>0.611837</td>\n",
              "      <td>0.498372</td>\n",
              "      <td>0.505058</td>\n",
              "      <td>0.434065</td>\n",
              "      <td>0.483445</td>\n",
              "      <td>0.731399</td>\n",
              "      <td>7.229333e-01</td>\n",
              "      <td>0.000000</td>\n",
              "      <td>0.564503</td>\n",
              "      <td>0.666172</td>\n",
              "      <td>0.521255</td>\n",
              "      <td>0.0</td>\n",
              "    </tr>\n",
              "    <tr>\n",
              "      <th>max</th>\n",
              "      <td>1.000000</td>\n",
              "      <td>1.000000</td>\n",
              "      <td>1.000000</td>\n",
              "      <td>1.000000</td>\n",
              "      <td>1.000000</td>\n",
              "      <td>1.000090</td>\n",
              "      <td>1.000000</td>\n",
              "      <td>1.000000</td>\n",
              "      <td>1.000001e+00</td>\n",
              "      <td>1.000000</td>\n",
              "      <td>1.000000</td>\n",
              "      <td>1.000000</td>\n",
              "      <td>1.000000</td>\n",
              "      <td>0.0</td>\n",
              "    </tr>\n",
              "  </tbody>\n",
              "</table>\n",
              "</div>"
            ],
            "text/plain": [
              "          Vtrue,_ktas      __VVI,__fpm   ...     ailrn,servo      ruddr,servo \n",
              "count    477290.000000    477290.000000  ...    477290.000000         477290.0\n",
              "mean          0.597028         0.673159  ...         0.510059              0.0\n",
              "std           0.113617         0.094942  ...         0.079616              0.0\n",
              "min           0.000000         0.000000  ...         0.000000              0.0\n",
              "25%           0.558299         0.648773  ...         0.501370              0.0\n",
              "50%           0.588697         0.662275  ...         0.507729              0.0\n",
              "75%           0.632726         0.719253  ...         0.521255              0.0\n",
              "max           1.000000         1.000000  ...         1.000000              0.0\n",
              "\n",
              "[8 rows x 14 columns]"
            ]
          },
          "metadata": {
            "tags": []
          },
          "execution_count": 17
        }
      ]
    },
    {
      "cell_type": "code",
      "metadata": {
        "id": "GivIW68e2R18",
        "colab_type": "code",
        "outputId": "7a1344e8-eaf6-4a8e-f48c-46106027a89f",
        "colab": {
          "base_uri": "https://localhost:8080/",
          "height": 337
        }
      },
      "source": [
        "df_labels.describe()"
      ],
      "execution_count": 0,
      "outputs": [
        {
          "output_type": "execute_result",
          "data": {
            "text/html": [
              "<div>\n",
              "<style scoped>\n",
              "    .dataframe tbody tr th:only-of-type {\n",
              "        vertical-align: middle;\n",
              "    }\n",
              "\n",
              "    .dataframe tbody tr th {\n",
              "        vertical-align: top;\n",
              "    }\n",
              "\n",
              "    .dataframe thead th {\n",
              "        text-align: right;\n",
              "    }\n",
              "</style>\n",
              "<table border=\"1\" class=\"dataframe\">\n",
              "  <thead>\n",
              "    <tr style=\"text-align: right;\">\n",
              "      <th></th>\n",
              "      <th>t+1_   ____Q,rad/s</th>\n",
              "      <th>t+1_   _beta,__deg</th>\n",
              "      <th>t+1_   _roll,__deg</th>\n",
              "      <th>t+1_   ____R,rad/s</th>\n",
              "      <th>t+1_   pitch,__deg</th>\n",
              "      <th>t+1_   ____P,rad/s</th>\n",
              "      <th>t+1_   __VVI,__fpm</th>\n",
              "      <th>t+1_   __alt,ftmsl</th>\n",
              "      <th>t+1_   Vtrue,_ktas</th>\n",
              "      <th>t+1_   rpm_1,_prop</th>\n",
              "      <th>t+1_   thro1,_part</th>\n",
              "    </tr>\n",
              "  </thead>\n",
              "  <tbody>\n",
              "    <tr>\n",
              "      <th>count</th>\n",
              "      <td>477290.000000</td>\n",
              "      <td>477290.000000</td>\n",
              "      <td>477290.000000</td>\n",
              "      <td>477290.000000</td>\n",
              "      <td>477290.000000</td>\n",
              "      <td>477290.000000</td>\n",
              "      <td>477290.000000</td>\n",
              "      <td>477290.000000</td>\n",
              "      <td>477290.000000</td>\n",
              "      <td>477290.000000</td>\n",
              "      <td>477290.000000</td>\n",
              "    </tr>\n",
              "    <tr>\n",
              "      <th>mean</th>\n",
              "      <td>0.003815</td>\n",
              "      <td>0.006402</td>\n",
              "      <td>-0.791050</td>\n",
              "      <td>-0.001840</td>\n",
              "      <td>-0.653565</td>\n",
              "      <td>-0.000023</td>\n",
              "      <td>31.866864</td>\n",
              "      <td>2714.494657</td>\n",
              "      <td>119.567394</td>\n",
              "      <td>2490.421446</td>\n",
              "      <td>0.837601</td>\n",
              "    </tr>\n",
              "    <tr>\n",
              "      <th>std</th>\n",
              "      <td>0.007105</td>\n",
              "      <td>0.137680</td>\n",
              "      <td>8.876411</td>\n",
              "      <td>0.023905</td>\n",
              "      <td>1.684673</td>\n",
              "      <td>0.017348</td>\n",
              "      <td>274.991234</td>\n",
              "      <td>1357.480898</td>\n",
              "      <td>10.113312</td>\n",
              "      <td>127.216670</td>\n",
              "      <td>0.082115</td>\n",
              "    </tr>\n",
              "    <tr>\n",
              "      <th>min</th>\n",
              "      <td>-0.038680</td>\n",
              "      <td>-0.689970</td>\n",
              "      <td>-23.851520</td>\n",
              "      <td>-0.054820</td>\n",
              "      <td>-9.313510</td>\n",
              "      <td>-0.109810</td>\n",
              "      <td>-1917.888180</td>\n",
              "      <td>805.092900</td>\n",
              "      <td>66.424780</td>\n",
              "      <td>2106.257810</td>\n",
              "      <td>0.796080</td>\n",
              "    </tr>\n",
              "    <tr>\n",
              "      <th>25%</th>\n",
              "      <td>-0.000010</td>\n",
              "      <td>-0.082300</td>\n",
              "      <td>-4.070882</td>\n",
              "      <td>-0.010888</td>\n",
              "      <td>-1.284488</td>\n",
              "      <td>-0.000410</td>\n",
              "      <td>-38.766265</td>\n",
              "      <td>1411.464812</td>\n",
              "      <td>116.120015</td>\n",
              "      <td>2424.051882</td>\n",
              "      <td>0.796080</td>\n",
              "    </tr>\n",
              "    <tr>\n",
              "      <th>50%</th>\n",
              "      <td>0.001120</td>\n",
              "      <td>0.004390</td>\n",
              "      <td>-0.104720</td>\n",
              "      <td>-0.000020</td>\n",
              "      <td>-0.787045</td>\n",
              "      <td>0.000000</td>\n",
              "      <td>0.342395</td>\n",
              "      <td>2622.403565</td>\n",
              "      <td>118.825780</td>\n",
              "      <td>2458.394900</td>\n",
              "      <td>0.796080</td>\n",
              "    </tr>\n",
              "    <tr>\n",
              "      <th>75%</th>\n",
              "      <td>0.010160</td>\n",
              "      <td>0.073260</td>\n",
              "      <td>0.212860</td>\n",
              "      <td>0.000850</td>\n",
              "      <td>-0.151363</td>\n",
              "      <td>0.000390</td>\n",
              "      <td>165.372623</td>\n",
              "      <td>3896.206053</td>\n",
              "      <td>122.745007</td>\n",
              "      <td>2504.543950</td>\n",
              "      <td>0.796080</td>\n",
              "    </tr>\n",
              "    <tr>\n",
              "      <th>max</th>\n",
              "      <td>0.041650</td>\n",
              "      <td>0.353550</td>\n",
              "      <td>25.924920</td>\n",
              "      <td>0.055400</td>\n",
              "      <td>11.796170</td>\n",
              "      <td>0.111310</td>\n",
              "      <td>978.538330</td>\n",
              "      <td>5080.888180</td>\n",
              "      <td>155.436650</td>\n",
              "      <td>2811.808840</td>\n",
              "      <td>1.000000</td>\n",
              "    </tr>\n",
              "  </tbody>\n",
              "</table>\n",
              "</div>"
            ],
            "text/plain": [
              "       t+1_   ____Q,rad/s   ...  t+1_   thro1,_part \n",
              "count        477290.000000  ...        477290.000000\n",
              "mean              0.003815  ...             0.837601\n",
              "std               0.007105  ...             0.082115\n",
              "min              -0.038680  ...             0.796080\n",
              "25%              -0.000010  ...             0.796080\n",
              "50%               0.001120  ...             0.796080\n",
              "75%               0.010160  ...             0.796080\n",
              "max               0.041650  ...             1.000000\n",
              "\n",
              "[8 rows x 11 columns]"
            ]
          },
          "metadata": {
            "tags": []
          },
          "execution_count": 18
        }
      ]
    },
    {
      "cell_type": "code",
      "metadata": {
        "id": "ovbayfsz4V26",
        "colab_type": "code",
        "outputId": "026dbd8a-a2a6-4de4-8997-deac71737372",
        "colab": {
          "base_uri": "https://localhost:8080/",
          "height": 337
        }
      },
      "source": [
        "scaled_df_labels.describe()"
      ],
      "execution_count": 0,
      "outputs": [
        {
          "output_type": "execute_result",
          "data": {
            "text/html": [
              "<div>\n",
              "<style scoped>\n",
              "    .dataframe tbody tr th:only-of-type {\n",
              "        vertical-align: middle;\n",
              "    }\n",
              "\n",
              "    .dataframe tbody tr th {\n",
              "        vertical-align: top;\n",
              "    }\n",
              "\n",
              "    .dataframe thead th {\n",
              "        text-align: right;\n",
              "    }\n",
              "</style>\n",
              "<table border=\"1\" class=\"dataframe\">\n",
              "  <thead>\n",
              "    <tr style=\"text-align: right;\">\n",
              "      <th></th>\n",
              "      <th>t+1_   ____Q,rad/s</th>\n",
              "      <th>t+1_   _beta,__deg</th>\n",
              "      <th>t+1_   _roll,__deg</th>\n",
              "      <th>t+1_   ____R,rad/s</th>\n",
              "      <th>t+1_   pitch,__deg</th>\n",
              "      <th>t+1_   ____P,rad/s</th>\n",
              "      <th>t+1_   __VVI,__fpm</th>\n",
              "      <th>t+1_   __alt,ftmsl</th>\n",
              "      <th>t+1_   Vtrue,_ktas</th>\n",
              "      <th>t+1_   rpm_1,_prop</th>\n",
              "      <th>t+1_   thro1,_part</th>\n",
              "    </tr>\n",
              "  </thead>\n",
              "  <tbody>\n",
              "    <tr>\n",
              "      <th>count</th>\n",
              "      <td>477290.000000</td>\n",
              "      <td>477290.000000</td>\n",
              "      <td>477290.000000</td>\n",
              "      <td>477290.000000</td>\n",
              "      <td>477290.000000</td>\n",
              "      <td>477290.000000</td>\n",
              "      <td>477290.000000</td>\n",
              "      <td>477290.000000</td>\n",
              "      <td>477290.000000</td>\n",
              "      <td>477290.000000</td>\n",
              "      <td>477290.000000</td>\n",
              "    </tr>\n",
              "    <tr>\n",
              "      <th>mean</th>\n",
              "      <td>0.529000</td>\n",
              "      <td>0.667368</td>\n",
              "      <td>0.463281</td>\n",
              "      <td>0.480678</td>\n",
              "      <td>0.410236</td>\n",
              "      <td>0.496619</td>\n",
              "      <td>0.673159</td>\n",
              "      <td>0.446561</td>\n",
              "      <td>0.597028</td>\n",
              "      <td>0.544487</td>\n",
              "      <td>0.203615</td>\n",
              "    </tr>\n",
              "    <tr>\n",
              "      <th>std</th>\n",
              "      <td>0.088447</td>\n",
              "      <td>0.131945</td>\n",
              "      <td>0.178326</td>\n",
              "      <td>0.216880</td>\n",
              "      <td>0.079806</td>\n",
              "      <td>0.078474</td>\n",
              "      <td>0.094942</td>\n",
              "      <td>0.317480</td>\n",
              "      <td>0.113618</td>\n",
              "      <td>0.180308</td>\n",
              "      <td>0.402682</td>\n",
              "    </tr>\n",
              "    <tr>\n",
              "      <th>min</th>\n",
              "      <td>0.000000</td>\n",
              "      <td>0.000000</td>\n",
              "      <td>0.000000</td>\n",
              "      <td>0.000000</td>\n",
              "      <td>0.000000</td>\n",
              "      <td>0.000000</td>\n",
              "      <td>0.000000</td>\n",
              "      <td>0.000000</td>\n",
              "      <td>0.000000</td>\n",
              "      <td>0.000000</td>\n",
              "      <td>0.000000</td>\n",
              "    </tr>\n",
              "    <tr>\n",
              "      <th>25%</th>\n",
              "      <td>0.481389</td>\n",
              "      <td>0.582361</td>\n",
              "      <td>0.397390</td>\n",
              "      <td>0.398589</td>\n",
              "      <td>0.380348</td>\n",
              "      <td>0.494866</td>\n",
              "      <td>0.648773</td>\n",
              "      <td>0.141815</td>\n",
              "      <td>0.558299</td>\n",
              "      <td>0.450420</td>\n",
              "      <td>0.000000</td>\n",
              "    </tr>\n",
              "    <tr>\n",
              "      <th>50%</th>\n",
              "      <td>0.495456</td>\n",
              "      <td>0.665440</td>\n",
              "      <td>0.477069</td>\n",
              "      <td>0.497187</td>\n",
              "      <td>0.403913</td>\n",
              "      <td>0.496720</td>\n",
              "      <td>0.662275</td>\n",
              "      <td>0.425023</td>\n",
              "      <td>0.588697</td>\n",
              "      <td>0.499095</td>\n",
              "      <td>0.000000</td>\n",
              "    </tr>\n",
              "    <tr>\n",
              "      <th>75%</th>\n",
              "      <td>0.607992</td>\n",
              "      <td>0.731442</td>\n",
              "      <td>0.483449</td>\n",
              "      <td>0.505081</td>\n",
              "      <td>0.434026</td>\n",
              "      <td>0.498485</td>\n",
              "      <td>0.719252</td>\n",
              "      <td>0.722933</td>\n",
              "      <td>0.632727</td>\n",
              "      <td>0.564504</td>\n",
              "      <td>0.000000</td>\n",
              "    </tr>\n",
              "    <tr>\n",
              "      <th>max</th>\n",
              "      <td>1.000000</td>\n",
              "      <td>1.000058</td>\n",
              "      <td>1.000000</td>\n",
              "      <td>1.000000</td>\n",
              "      <td>1.000000</td>\n",
              "      <td>1.000226</td>\n",
              "      <td>1.000000</td>\n",
              "      <td>1.000000</td>\n",
              "      <td>1.000000</td>\n",
              "      <td>1.000000</td>\n",
              "      <td>1.000000</td>\n",
              "    </tr>\n",
              "  </tbody>\n",
              "</table>\n",
              "</div>"
            ],
            "text/plain": [
              "       t+1_   ____Q,rad/s   ...  t+1_   thro1,_part \n",
              "count        477290.000000  ...        477290.000000\n",
              "mean              0.529000  ...             0.203615\n",
              "std               0.088447  ...             0.402682\n",
              "min               0.000000  ...             0.000000\n",
              "25%               0.481389  ...             0.000000\n",
              "50%               0.495456  ...             0.000000\n",
              "75%               0.607992  ...             0.000000\n",
              "max               1.000000  ...             1.000000\n",
              "\n",
              "[8 rows x 11 columns]"
            ]
          },
          "metadata": {
            "tags": []
          },
          "execution_count": 19
        }
      ]
    },
    {
      "cell_type": "markdown",
      "metadata": {
        "id": "S_kDrS1qH7kc",
        "colab_type": "text"
      },
      "source": [
        "# train models"
      ]
    },
    {
      "cell_type": "markdown",
      "metadata": {
        "id": "rjgpogwABFhX",
        "colab_type": "text"
      },
      "source": [
        "## define callbacks functions"
      ]
    },
    {
      "cell_type": "code",
      "metadata": {
        "id": "18w_KQkpBFEY",
        "colab_type": "code",
        "colab": {}
      },
      "source": [
        "def prepare_tensorboard_callback(model_name=''):\n",
        "  logs_base_dir = \"./tensorbaord_logs\"\n",
        "  model_log_dir = datetime.datetime.now().strftime(\"%Y%m%d-%H%M%S\") + '_' + model_name\n",
        "  target_log_dir = os.path.join(logs_base_dir, model_log_dir)\n",
        "  os.makedirs(target_log_dir, exist_ok=True)\n",
        "  tensorboard_callback = tf.keras.callbacks.TensorBoard(target_log_dir, histogram_freq=1)\n",
        "  return tensorboard_callback\n"
      ],
      "execution_count": 0,
      "outputs": []
    },
    {
      "cell_type": "code",
      "metadata": {
        "id": "MYl_6s7sBMpy",
        "colab_type": "code",
        "colab": {}
      },
      "source": [
        "def prepare_checkpoint_callback(model_name):\n",
        "  checkpoint_base_dir = './checkpoints'\n",
        "  os.makedirs(checkpoint_base_dir, exist_ok=True)\n",
        "  filepath = os.path.join(checkpoint_base_dir, 'cp_'+ model_name)\n",
        "  cp_callback = tf.keras.callbacks.ModelCheckpoint(filepath=filepath,\n",
        "                                                  save_weights_only=True,\n",
        "                                                  verbose=1)\n",
        "  return cp_callback "
      ],
      "execution_count": 0,
      "outputs": []
    },
    {
      "cell_type": "markdown",
      "metadata": {
        "id": "3y07Q50xkLvG",
        "colab_type": "text"
      },
      "source": [
        "## define plot_and_save functions"
      ]
    },
    {
      "cell_type": "code",
      "metadata": {
        "id": "RPDma-JqgyaM",
        "colab_type": "code",
        "outputId": "69c0d8ef-2c12-4826-b082-989892110bd8",
        "colab": {
          "base_uri": "https://localhost:8080/",
          "height": 35
        }
      },
      "source": [
        "base_folder = './results'\n",
        "notebook_folder = 'gridsearch_model_scaled_more'\n",
        "results_folder = os.path.join(base_folder, notebook_folder)\n",
        "os.makedirs(results_folder, exist_ok=True)\n",
        "print('results_folder : ', results_folder)\n",
        "\n",
        "saved_model_weight = 'saved_weights'\n",
        "saved_model_weight_path = os.path.join(results_folder, saved_model_weight)\n",
        "os.makedirs(saved_model_weight_path, exist_ok=True)\n"
      ],
      "execution_count": 0,
      "outputs": [
        {
          "output_type": "stream",
          "text": [
            "results_folder :  ./results/gridsearch_model_scaled_more\n"
          ],
          "name": "stdout"
        }
      ]
    },
    {
      "cell_type": "markdown",
      "metadata": {
        "id": "l8uMddMPkSc1",
        "colab_type": "text"
      },
      "source": [
        "### loss historie"
      ]
    },
    {
      "cell_type": "code",
      "metadata": {
        "id": "I9UHTxwnkWyp",
        "colab_type": "code",
        "colab": {}
      },
      "source": [
        "def save_plots_before_show(diagramm_name):\n",
        "  if not os.path.exists(results_folder):\n",
        "      os.makedirs(diagramm_folder)\n",
        "\n",
        "  plt.savefig(results_folder + '/' + diagramm_name +'.pdf')\n",
        "  plt.savefig(results_folder + '/' + diagramm_name +'.svg')\n",
        "  plt.savefig(results_folder + '/' + diagramm_name +'.png')\n",
        "\n",
        "def pas_history(model_tupels, histories, key='mean_squared_error'):\n",
        "  model_names = [model_tupel[0] for model_tupel in model_tupels]\n",
        "  plt.figure(figsize=(16,10))\n",
        "  for i, history in enumerate(histories):\n",
        "    history_epoch= range(0, len(history['loss']) )\n",
        "\n",
        "    val = plt.plot(history_epoch, history['val_'+key],\n",
        "                   '--', label=model_names[i]+' Val')\n",
        "    plt.plot(history_epoch, history[key], color=val[0].get_color(),\n",
        "             label=model_names[i]+' Train')\n",
        "\n",
        "  plt.xlabel('Epochs')\n",
        "  plt.yscale(\"log\")\n",
        "  plt.ylabel(key.replace('_',' ').title())\n",
        "  plt.legend()\n",
        "\n",
        "  plt.xlim([0,max(history_epoch)])\n",
        "  save_plots_before_show('history_loss'+'_'+key)\n",
        "  plt.show()"
      ],
      "execution_count": 0,
      "outputs": []
    },
    {
      "cell_type": "markdown",
      "metadata": {
        "id": "VJNfegiglg59",
        "colab_type": "text"
      },
      "source": [
        "### metrics (overall and for all single targets )\n",
        "\n"
      ]
    },
    {
      "cell_type": "code",
      "metadata": {
        "id": "be-UQiKHli16",
        "colab_type": "code",
        "colab": {}
      },
      "source": [
        "def pas_metrics_scaled(model_tupel):\n",
        "  model_name = model_tupel[0]\n",
        "  model = model_tupel[1]\n",
        "  df = _df_prediction_metrics(model, scaled=True)\n",
        "  file_path = os.path.join(results_folder, model_name + '_scaled.csv')\n",
        "  df.to_csv(path_or_buf=file_path)\n",
        "  return df\n",
        "  \n",
        "def pas_metrics(model_tupel):\n",
        "  model_name = model_tupel[0]\n",
        "  model = model_tupel[1]\n",
        "  df = _df_prediction_metrics(model, scaled=False)\n",
        "  file_path = os.path.join(results_folder, model_name + '.csv')\n",
        "  df.to_csv(path_or_buf=file_path)\n",
        "  return df\n",
        "\n",
        "\n",
        "def _df_prediction_metrics(model, scaled):\n",
        "  '''\n",
        "  creates describe dataframe of labels and \n",
        "  connect them with mse,rmse and mae per target and overall \n",
        "  '''\n",
        "  pred_Y = model.predict(test_X)\n",
        "  \n",
        "  if scaled:\n",
        "    labels = scaled_df_labels\n",
        "    truth_Y = test_Y\n",
        "  else:\n",
        "    labels = df_labels\n",
        "    pred_Y = label_scaler.inverse_transform(pred_Y)\n",
        "    truth_Y = label_scaler.inverse_transform(test_Y)\n",
        "\n",
        "\n",
        "  mses = mean_squared_error(truth_Y, pred_Y, multioutput='raw_values')\n",
        "  rmses = np.array([math.sqrt(mse) for mse in mses])\n",
        "  maes = mean_absolute_error(truth_Y, pred_Y, multioutput='raw_values')\n",
        "  # average over list should do the job as well\n",
        "  mse = mean_squared_error(truth_Y, pred_Y)\n",
        "  rmse = math.sqrt(mse)\n",
        "  mae = mean_absolute_error(truth_Y, pred_Y)\n",
        "\n",
        "\n",
        "  df_describe = labels.describe()\n",
        "  df_mse_per_feature = pd.DataFrame(data=mses.reshape(1,-1),    # values\n",
        "            index=['mses'],     # index\n",
        "            columns=labels.columns)  #  column names\n",
        "  df_rmse_per_feature = pd.DataFrame(data=rmses.reshape(1,-1),    # values\n",
        "        index=['rmes'],     # index\n",
        "        columns=labels.columns)  #  column names\n",
        "  df_mae_per_feature = pd.DataFrame(data=maes.reshape(1,-1),    # values\n",
        "        index=['maes'],     # index\n",
        "        columns=labels.columns)  #  column names\n",
        "  \n",
        "  \n",
        "  df_mse_all = pd.DataFrame(data=mse,    # values\n",
        "            index=['mse'],     # index\n",
        "            columns=labels.columns)  #  column names\n",
        "  df_rmse_all = pd.DataFrame(data=rmse,    # values\n",
        "        index=['rme'],     # index\n",
        "        columns=labels.columns)  #  column names\n",
        "  df_mae_all = pd.DataFrame(data=mae,    # values\n",
        "        index=['mae'],     # index\n",
        "        columns=labels.columns)  #  column names\n",
        "  \n",
        "\n",
        "  metrics = [df_mse_per_feature, df_rmse_per_feature, df_mae_per_feature, \n",
        "             df_mse_all,df_rmse_all,df_mae_all]\n",
        "  return df_describe.append(metrics)"
      ],
      "execution_count": 0,
      "outputs": []
    },
    {
      "cell_type": "markdown",
      "metadata": {
        "id": "4gaR7IV326E_",
        "colab_type": "text"
      },
      "source": [
        "## define models"
      ]
    },
    {
      "cell_type": "code",
      "metadata": {
        "id": "Fhc2M4VD2_YP",
        "colab_type": "code",
        "colab": {}
      },
      "source": [
        "features_nr = train_X.shape[1]\n",
        "target_nr = train_Y.shape[1]\n",
        "\n",
        "def create_model(model_name, layers, keras_activation, kernel_initializer, \n",
        "                 loss, metrics):\n",
        "  if not layers:\n",
        "    raise Exception('No layers defined. Expected in format [100,100]') \n",
        "\n",
        "  model = keras.Sequential(name=model_name)\n",
        "  \n",
        "  model.add(Dense(layers[0],input_shape=(features_nr,), \n",
        "                          kernel_initializer=kernel_initializer))\n",
        "  model.add(keras_activation())\n",
        "\n",
        "  for i in range(1, len(layers)):\n",
        "    layer_val = layers[i]\n",
        "    model.add(Dense(layer_val, kernel_initializer=kernel_initializer))\n",
        "    model.add(keras_activation())\n",
        "\n",
        "  model.add(Dense(target_nr ))\n",
        "\n",
        "  model.compile(optimizer='adam',\n",
        "                        loss=loss,\n",
        "                        metrics=metrics)\n",
        "\n",
        "  model.summary()\n",
        "  print(model.to_json())\n",
        "  return (model_name, model)\n"
      ],
      "execution_count": 0,
      "outputs": []
    },
    {
      "cell_type": "code",
      "metadata": {
        "id": "KwMj6E7mBL9m",
        "colab_type": "code",
        "outputId": "7983b65b-d6c8-4f31-a17f-34130de491ce",
        "colab": {
          "base_uri": "https://localhost:8080/",
          "height": 1000
        }
      },
      "source": [
        "loss='mean_squared_error',\n",
        "metrics=['mean_squared_error', 'mean_absolute_error']\n",
        "\n",
        "\n",
        "baseline_without_bn = create_model('baseline_without_bn', [1200, 600, 600], \n",
        "                                   ReLU, 'he_uniform', \n",
        "                                  loss, metrics)\n",
        "\n",
        "baseline_without_bn_elu = create_model('baseline_without_bn_elu', \n",
        "                                       [1200, 600, 600], ELU, 'he_uniform', \n",
        "             loss, metrics)\n",
        "\n",
        "\n",
        "model_3x40 = create_model('model_3x40', [400, 400, 400],  ReLU, 'he_uniform', \n",
        "             loss, metrics)\n",
        "\n",
        "model_2x50 = create_model('model_2x50', [50, 50], ReLU, 'he_uniform', \n",
        "             loss, metrics)\n",
        "\n",
        "model_3x50 = create_model('model_3x50', [50, 50, 50], ReLU, 'he_uniform', \n",
        "             loss, metrics)\n",
        "\n",
        "model_3x25 = create_model('model_3x25', [25, 25, 25], ReLU, 'he_uniform', \n",
        "             loss, metrics)\n",
        "\n",
        "\n",
        "\n",
        "\n",
        "models = [baseline_without_bn_elu, baseline_without_bn_elu, \n",
        "          model_3x40, model_2x50, model_3x50,model_3x25]"
      ],
      "execution_count": 0,
      "outputs": [
        {
          "output_type": "stream",
          "text": [
            "Model: \"baseline_without_bn\"\n",
            "_________________________________________________________________\n",
            "Layer (type)                 Output Shape              Param #   \n",
            "=================================================================\n",
            "dense_23 (Dense)             (None, 1200)              18000     \n",
            "_________________________________________________________________\n",
            "re_lu_14 (ReLU)              (None, 1200)              0         \n",
            "_________________________________________________________________\n",
            "dense_24 (Dense)             (None, 600)               720600    \n",
            "_________________________________________________________________\n",
            "re_lu_15 (ReLU)              (None, 600)               0         \n",
            "_________________________________________________________________\n",
            "dense_25 (Dense)             (None, 600)               360600    \n",
            "_________________________________________________________________\n",
            "re_lu_16 (ReLU)              (None, 600)               0         \n",
            "_________________________________________________________________\n",
            "dense_26 (Dense)             (None, 11)                6611      \n",
            "=================================================================\n",
            "Total params: 1,105,811\n",
            "Trainable params: 1,105,811\n",
            "Non-trainable params: 0\n",
            "_________________________________________________________________\n",
            "{\"class_name\": \"Sequential\", \"config\": {\"name\": \"baseline_without_bn\", \"layers\": [{\"class_name\": \"Dense\", \"config\": {\"name\": \"dense_23\", \"trainable\": true, \"batch_input_shape\": [null, 14], \"dtype\": \"float32\", \"units\": 1200, \"activation\": \"linear\", \"use_bias\": true, \"kernel_initializer\": {\"class_name\": \"VarianceScaling\", \"config\": {\"scale\": 2.0, \"mode\": \"fan_in\", \"distribution\": \"uniform\", \"seed\": null}}, \"bias_initializer\": {\"class_name\": \"Zeros\", \"config\": {}}, \"kernel_regularizer\": null, \"bias_regularizer\": null, \"activity_regularizer\": null, \"kernel_constraint\": null, \"bias_constraint\": null}}, {\"class_name\": \"ReLU\", \"config\": {\"name\": \"re_lu_14\", \"trainable\": true, \"dtype\": \"float32\", \"max_value\": null, \"negative_slope\": 0.0, \"threshold\": 0.0}}, {\"class_name\": \"Dense\", \"config\": {\"name\": \"dense_24\", \"trainable\": true, \"dtype\": \"float32\", \"units\": 600, \"activation\": \"linear\", \"use_bias\": true, \"kernel_initializer\": {\"class_name\": \"VarianceScaling\", \"config\": {\"scale\": 2.0, \"mode\": \"fan_in\", \"distribution\": \"uniform\", \"seed\": null}}, \"bias_initializer\": {\"class_name\": \"Zeros\", \"config\": {}}, \"kernel_regularizer\": null, \"bias_regularizer\": null, \"activity_regularizer\": null, \"kernel_constraint\": null, \"bias_constraint\": null}}, {\"class_name\": \"ReLU\", \"config\": {\"name\": \"re_lu_15\", \"trainable\": true, \"dtype\": \"float32\", \"max_value\": null, \"negative_slope\": 0.0, \"threshold\": 0.0}}, {\"class_name\": \"Dense\", \"config\": {\"name\": \"dense_25\", \"trainable\": true, \"dtype\": \"float32\", \"units\": 600, \"activation\": \"linear\", \"use_bias\": true, \"kernel_initializer\": {\"class_name\": \"VarianceScaling\", \"config\": {\"scale\": 2.0, \"mode\": \"fan_in\", \"distribution\": \"uniform\", \"seed\": null}}, \"bias_initializer\": {\"class_name\": \"Zeros\", \"config\": {}}, \"kernel_regularizer\": null, \"bias_regularizer\": null, \"activity_regularizer\": null, \"kernel_constraint\": null, \"bias_constraint\": null}}, {\"class_name\": \"ReLU\", \"config\": {\"name\": \"re_lu_16\", \"trainable\": true, \"dtype\": \"float32\", \"max_value\": null, \"negative_slope\": 0.0, \"threshold\": 0.0}}, {\"class_name\": \"Dense\", \"config\": {\"name\": \"dense_26\", \"trainable\": true, \"dtype\": \"float32\", \"units\": 11, \"activation\": \"linear\", \"use_bias\": true, \"kernel_initializer\": {\"class_name\": \"GlorotUniform\", \"config\": {\"seed\": null}}, \"bias_initializer\": {\"class_name\": \"Zeros\", \"config\": {}}, \"kernel_regularizer\": null, \"bias_regularizer\": null, \"activity_regularizer\": null, \"kernel_constraint\": null, \"bias_constraint\": null}}]}, \"keras_version\": \"2.2.4-tf\", \"backend\": \"tensorflow\"}\n",
            "Model: \"baseline_without_bn_elu\"\n",
            "_________________________________________________________________\n",
            "Layer (type)                 Output Shape              Param #   \n",
            "=================================================================\n",
            "dense_27 (Dense)             (None, 1200)              18000     \n",
            "_________________________________________________________________\n",
            "elu_3 (ELU)                  (None, 1200)              0         \n",
            "_________________________________________________________________\n",
            "dense_28 (Dense)             (None, 600)               720600    \n",
            "_________________________________________________________________\n",
            "elu_4 (ELU)                  (None, 600)               0         \n",
            "_________________________________________________________________\n",
            "dense_29 (Dense)             (None, 600)               360600    \n",
            "_________________________________________________________________\n",
            "elu_5 (ELU)                  (None, 600)               0         \n",
            "_________________________________________________________________\n",
            "dense_30 (Dense)             (None, 11)                6611      \n",
            "=================================================================\n",
            "Total params: 1,105,811\n",
            "Trainable params: 1,105,811\n",
            "Non-trainable params: 0\n",
            "_________________________________________________________________\n",
            "{\"class_name\": \"Sequential\", \"config\": {\"name\": \"baseline_without_bn_elu\", \"layers\": [{\"class_name\": \"Dense\", \"config\": {\"name\": \"dense_27\", \"trainable\": true, \"batch_input_shape\": [null, 14], \"dtype\": \"float32\", \"units\": 1200, \"activation\": \"linear\", \"use_bias\": true, \"kernel_initializer\": {\"class_name\": \"VarianceScaling\", \"config\": {\"scale\": 2.0, \"mode\": \"fan_in\", \"distribution\": \"uniform\", \"seed\": null}}, \"bias_initializer\": {\"class_name\": \"Zeros\", \"config\": {}}, \"kernel_regularizer\": null, \"bias_regularizer\": null, \"activity_regularizer\": null, \"kernel_constraint\": null, \"bias_constraint\": null}}, {\"class_name\": \"ELU\", \"config\": {\"name\": \"elu_3\", \"trainable\": true, \"dtype\": \"float32\", \"alpha\": 1.0}}, {\"class_name\": \"Dense\", \"config\": {\"name\": \"dense_28\", \"trainable\": true, \"dtype\": \"float32\", \"units\": 600, \"activation\": \"linear\", \"use_bias\": true, \"kernel_initializer\": {\"class_name\": \"VarianceScaling\", \"config\": {\"scale\": 2.0, \"mode\": \"fan_in\", \"distribution\": \"uniform\", \"seed\": null}}, \"bias_initializer\": {\"class_name\": \"Zeros\", \"config\": {}}, \"kernel_regularizer\": null, \"bias_regularizer\": null, \"activity_regularizer\": null, \"kernel_constraint\": null, \"bias_constraint\": null}}, {\"class_name\": \"ELU\", \"config\": {\"name\": \"elu_4\", \"trainable\": true, \"dtype\": \"float32\", \"alpha\": 1.0}}, {\"class_name\": \"Dense\", \"config\": {\"name\": \"dense_29\", \"trainable\": true, \"dtype\": \"float32\", \"units\": 600, \"activation\": \"linear\", \"use_bias\": true, \"kernel_initializer\": {\"class_name\": \"VarianceScaling\", \"config\": {\"scale\": 2.0, \"mode\": \"fan_in\", \"distribution\": \"uniform\", \"seed\": null}}, \"bias_initializer\": {\"class_name\": \"Zeros\", \"config\": {}}, \"kernel_regularizer\": null, \"bias_regularizer\": null, \"activity_regularizer\": null, \"kernel_constraint\": null, \"bias_constraint\": null}}, {\"class_name\": \"ELU\", \"config\": {\"name\": \"elu_5\", \"trainable\": true, \"dtype\": \"float32\", \"alpha\": 1.0}}, {\"class_name\": \"Dense\", \"config\": {\"name\": \"dense_30\", \"trainable\": true, \"dtype\": \"float32\", \"units\": 11, \"activation\": \"linear\", \"use_bias\": true, \"kernel_initializer\": {\"class_name\": \"GlorotUniform\", \"config\": {\"seed\": null}}, \"bias_initializer\": {\"class_name\": \"Zeros\", \"config\": {}}, \"kernel_regularizer\": null, \"bias_regularizer\": null, \"activity_regularizer\": null, \"kernel_constraint\": null, \"bias_constraint\": null}}]}, \"keras_version\": \"2.2.4-tf\", \"backend\": \"tensorflow\"}\n",
            "Model: \"model_3x40\"\n",
            "_________________________________________________________________\n",
            "Layer (type)                 Output Shape              Param #   \n",
            "=================================================================\n",
            "dense_31 (Dense)             (None, 400)               6000      \n",
            "_________________________________________________________________\n",
            "re_lu_17 (ReLU)              (None, 400)               0         \n",
            "_________________________________________________________________\n",
            "dense_32 (Dense)             (None, 400)               160400    \n",
            "_________________________________________________________________\n",
            "re_lu_18 (ReLU)              (None, 400)               0         \n",
            "_________________________________________________________________\n",
            "dense_33 (Dense)             (None, 400)               160400    \n",
            "_________________________________________________________________\n",
            "re_lu_19 (ReLU)              (None, 400)               0         \n",
            "_________________________________________________________________\n",
            "dense_34 (Dense)             (None, 11)                4411      \n",
            "=================================================================\n",
            "Total params: 331,211\n",
            "Trainable params: 331,211\n",
            "Non-trainable params: 0\n",
            "_________________________________________________________________\n",
            "{\"class_name\": \"Sequential\", \"config\": {\"name\": \"model_3x40\", \"layers\": [{\"class_name\": \"Dense\", \"config\": {\"name\": \"dense_31\", \"trainable\": true, \"batch_input_shape\": [null, 14], \"dtype\": \"float32\", \"units\": 400, \"activation\": \"linear\", \"use_bias\": true, \"kernel_initializer\": {\"class_name\": \"VarianceScaling\", \"config\": {\"scale\": 2.0, \"mode\": \"fan_in\", \"distribution\": \"uniform\", \"seed\": null}}, \"bias_initializer\": {\"class_name\": \"Zeros\", \"config\": {}}, \"kernel_regularizer\": null, \"bias_regularizer\": null, \"activity_regularizer\": null, \"kernel_constraint\": null, \"bias_constraint\": null}}, {\"class_name\": \"ReLU\", \"config\": {\"name\": \"re_lu_17\", \"trainable\": true, \"dtype\": \"float32\", \"max_value\": null, \"negative_slope\": 0.0, \"threshold\": 0.0}}, {\"class_name\": \"Dense\", \"config\": {\"name\": \"dense_32\", \"trainable\": true, \"dtype\": \"float32\", \"units\": 400, \"activation\": \"linear\", \"use_bias\": true, \"kernel_initializer\": {\"class_name\": \"VarianceScaling\", \"config\": {\"scale\": 2.0, \"mode\": \"fan_in\", \"distribution\": \"uniform\", \"seed\": null}}, \"bias_initializer\": {\"class_name\": \"Zeros\", \"config\": {}}, \"kernel_regularizer\": null, \"bias_regularizer\": null, \"activity_regularizer\": null, \"kernel_constraint\": null, \"bias_constraint\": null}}, {\"class_name\": \"ReLU\", \"config\": {\"name\": \"re_lu_18\", \"trainable\": true, \"dtype\": \"float32\", \"max_value\": null, \"negative_slope\": 0.0, \"threshold\": 0.0}}, {\"class_name\": \"Dense\", \"config\": {\"name\": \"dense_33\", \"trainable\": true, \"dtype\": \"float32\", \"units\": 400, \"activation\": \"linear\", \"use_bias\": true, \"kernel_initializer\": {\"class_name\": \"VarianceScaling\", \"config\": {\"scale\": 2.0, \"mode\": \"fan_in\", \"distribution\": \"uniform\", \"seed\": null}}, \"bias_initializer\": {\"class_name\": \"Zeros\", \"config\": {}}, \"kernel_regularizer\": null, \"bias_regularizer\": null, \"activity_regularizer\": null, \"kernel_constraint\": null, \"bias_constraint\": null}}, {\"class_name\": \"ReLU\", \"config\": {\"name\": \"re_lu_19\", \"trainable\": true, \"dtype\": \"float32\", \"max_value\": null, \"negative_slope\": 0.0, \"threshold\": 0.0}}, {\"class_name\": \"Dense\", \"config\": {\"name\": \"dense_34\", \"trainable\": true, \"dtype\": \"float32\", \"units\": 11, \"activation\": \"linear\", \"use_bias\": true, \"kernel_initializer\": {\"class_name\": \"GlorotUniform\", \"config\": {\"seed\": null}}, \"bias_initializer\": {\"class_name\": \"Zeros\", \"config\": {}}, \"kernel_regularizer\": null, \"bias_regularizer\": null, \"activity_regularizer\": null, \"kernel_constraint\": null, \"bias_constraint\": null}}]}, \"keras_version\": \"2.2.4-tf\", \"backend\": \"tensorflow\"}\n",
            "Model: \"model_2x50\"\n",
            "_________________________________________________________________\n",
            "Layer (type)                 Output Shape              Param #   \n",
            "=================================================================\n",
            "dense_35 (Dense)             (None, 50)                750       \n",
            "_________________________________________________________________\n",
            "re_lu_20 (ReLU)              (None, 50)                0         \n",
            "_________________________________________________________________\n",
            "dense_36 (Dense)             (None, 50)                2550      \n",
            "_________________________________________________________________\n",
            "re_lu_21 (ReLU)              (None, 50)                0         \n",
            "_________________________________________________________________\n",
            "dense_37 (Dense)             (None, 11)                561       \n",
            "=================================================================\n",
            "Total params: 3,861\n",
            "Trainable params: 3,861\n",
            "Non-trainable params: 0\n",
            "_________________________________________________________________\n",
            "{\"class_name\": \"Sequential\", \"config\": {\"name\": \"model_2x50\", \"layers\": [{\"class_name\": \"Dense\", \"config\": {\"name\": \"dense_35\", \"trainable\": true, \"batch_input_shape\": [null, 14], \"dtype\": \"float32\", \"units\": 50, \"activation\": \"linear\", \"use_bias\": true, \"kernel_initializer\": {\"class_name\": \"VarianceScaling\", \"config\": {\"scale\": 2.0, \"mode\": \"fan_in\", \"distribution\": \"uniform\", \"seed\": null}}, \"bias_initializer\": {\"class_name\": \"Zeros\", \"config\": {}}, \"kernel_regularizer\": null, \"bias_regularizer\": null, \"activity_regularizer\": null, \"kernel_constraint\": null, \"bias_constraint\": null}}, {\"class_name\": \"ReLU\", \"config\": {\"name\": \"re_lu_20\", \"trainable\": true, \"dtype\": \"float32\", \"max_value\": null, \"negative_slope\": 0.0, \"threshold\": 0.0}}, {\"class_name\": \"Dense\", \"config\": {\"name\": \"dense_36\", \"trainable\": true, \"dtype\": \"float32\", \"units\": 50, \"activation\": \"linear\", \"use_bias\": true, \"kernel_initializer\": {\"class_name\": \"VarianceScaling\", \"config\": {\"scale\": 2.0, \"mode\": \"fan_in\", \"distribution\": \"uniform\", \"seed\": null}}, \"bias_initializer\": {\"class_name\": \"Zeros\", \"config\": {}}, \"kernel_regularizer\": null, \"bias_regularizer\": null, \"activity_regularizer\": null, \"kernel_constraint\": null, \"bias_constraint\": null}}, {\"class_name\": \"ReLU\", \"config\": {\"name\": \"re_lu_21\", \"trainable\": true, \"dtype\": \"float32\", \"max_value\": null, \"negative_slope\": 0.0, \"threshold\": 0.0}}, {\"class_name\": \"Dense\", \"config\": {\"name\": \"dense_37\", \"trainable\": true, \"dtype\": \"float32\", \"units\": 11, \"activation\": \"linear\", \"use_bias\": true, \"kernel_initializer\": {\"class_name\": \"GlorotUniform\", \"config\": {\"seed\": null}}, \"bias_initializer\": {\"class_name\": \"Zeros\", \"config\": {}}, \"kernel_regularizer\": null, \"bias_regularizer\": null, \"activity_regularizer\": null, \"kernel_constraint\": null, \"bias_constraint\": null}}]}, \"keras_version\": \"2.2.4-tf\", \"backend\": \"tensorflow\"}\n",
            "Model: \"model_3x50\"\n",
            "_________________________________________________________________\n",
            "Layer (type)                 Output Shape              Param #   \n",
            "=================================================================\n",
            "dense_38 (Dense)             (None, 50)                750       \n",
            "_________________________________________________________________\n",
            "re_lu_22 (ReLU)              (None, 50)                0         \n",
            "_________________________________________________________________\n",
            "dense_39 (Dense)             (None, 50)                2550      \n",
            "_________________________________________________________________\n",
            "re_lu_23 (ReLU)              (None, 50)                0         \n",
            "_________________________________________________________________\n",
            "dense_40 (Dense)             (None, 50)                2550      \n",
            "_________________________________________________________________\n",
            "re_lu_24 (ReLU)              (None, 50)                0         \n",
            "_________________________________________________________________\n",
            "dense_41 (Dense)             (None, 11)                561       \n",
            "=================================================================\n",
            "Total params: 6,411\n",
            "Trainable params: 6,411\n",
            "Non-trainable params: 0\n",
            "_________________________________________________________________\n",
            "{\"class_name\": \"Sequential\", \"config\": {\"name\": \"model_3x50\", \"layers\": [{\"class_name\": \"Dense\", \"config\": {\"name\": \"dense_38\", \"trainable\": true, \"batch_input_shape\": [null, 14], \"dtype\": \"float32\", \"units\": 50, \"activation\": \"linear\", \"use_bias\": true, \"kernel_initializer\": {\"class_name\": \"VarianceScaling\", \"config\": {\"scale\": 2.0, \"mode\": \"fan_in\", \"distribution\": \"uniform\", \"seed\": null}}, \"bias_initializer\": {\"class_name\": \"Zeros\", \"config\": {}}, \"kernel_regularizer\": null, \"bias_regularizer\": null, \"activity_regularizer\": null, \"kernel_constraint\": null, \"bias_constraint\": null}}, {\"class_name\": \"ReLU\", \"config\": {\"name\": \"re_lu_22\", \"trainable\": true, \"dtype\": \"float32\", \"max_value\": null, \"negative_slope\": 0.0, \"threshold\": 0.0}}, {\"class_name\": \"Dense\", \"config\": {\"name\": \"dense_39\", \"trainable\": true, \"dtype\": \"float32\", \"units\": 50, \"activation\": \"linear\", \"use_bias\": true, \"kernel_initializer\": {\"class_name\": \"VarianceScaling\", \"config\": {\"scale\": 2.0, \"mode\": \"fan_in\", \"distribution\": \"uniform\", \"seed\": null}}, \"bias_initializer\": {\"class_name\": \"Zeros\", \"config\": {}}, \"kernel_regularizer\": null, \"bias_regularizer\": null, \"activity_regularizer\": null, \"kernel_constraint\": null, \"bias_constraint\": null}}, {\"class_name\": \"ReLU\", \"config\": {\"name\": \"re_lu_23\", \"trainable\": true, \"dtype\": \"float32\", \"max_value\": null, \"negative_slope\": 0.0, \"threshold\": 0.0}}, {\"class_name\": \"Dense\", \"config\": {\"name\": \"dense_40\", \"trainable\": true, \"dtype\": \"float32\", \"units\": 50, \"activation\": \"linear\", \"use_bias\": true, \"kernel_initializer\": {\"class_name\": \"VarianceScaling\", \"config\": {\"scale\": 2.0, \"mode\": \"fan_in\", \"distribution\": \"uniform\", \"seed\": null}}, \"bias_initializer\": {\"class_name\": \"Zeros\", \"config\": {}}, \"kernel_regularizer\": null, \"bias_regularizer\": null, \"activity_regularizer\": null, \"kernel_constraint\": null, \"bias_constraint\": null}}, {\"class_name\": \"ReLU\", \"config\": {\"name\": \"re_lu_24\", \"trainable\": true, \"dtype\": \"float32\", \"max_value\": null, \"negative_slope\": 0.0, \"threshold\": 0.0}}, {\"class_name\": \"Dense\", \"config\": {\"name\": \"dense_41\", \"trainable\": true, \"dtype\": \"float32\", \"units\": 11, \"activation\": \"linear\", \"use_bias\": true, \"kernel_initializer\": {\"class_name\": \"GlorotUniform\", \"config\": {\"seed\": null}}, \"bias_initializer\": {\"class_name\": \"Zeros\", \"config\": {}}, \"kernel_regularizer\": null, \"bias_regularizer\": null, \"activity_regularizer\": null, \"kernel_constraint\": null, \"bias_constraint\": null}}]}, \"keras_version\": \"2.2.4-tf\", \"backend\": \"tensorflow\"}\n",
            "Model: \"model_3x25\"\n",
            "_________________________________________________________________\n",
            "Layer (type)                 Output Shape              Param #   \n",
            "=================================================================\n",
            "dense_42 (Dense)             (None, 25)                375       \n",
            "_________________________________________________________________\n",
            "re_lu_25 (ReLU)              (None, 25)                0         \n",
            "_________________________________________________________________\n",
            "dense_43 (Dense)             (None, 25)                650       \n",
            "_________________________________________________________________\n",
            "re_lu_26 (ReLU)              (None, 25)                0         \n",
            "_________________________________________________________________\n",
            "dense_44 (Dense)             (None, 25)                650       \n",
            "_________________________________________________________________\n",
            "re_lu_27 (ReLU)              (None, 25)                0         \n",
            "_________________________________________________________________\n",
            "dense_45 (Dense)             (None, 11)                286       \n",
            "=================================================================\n",
            "Total params: 1,961\n",
            "Trainable params: 1,961\n",
            "Non-trainable params: 0\n",
            "_________________________________________________________________\n",
            "{\"class_name\": \"Sequential\", \"config\": {\"name\": \"model_3x25\", \"layers\": [{\"class_name\": \"Dense\", \"config\": {\"name\": \"dense_42\", \"trainable\": true, \"batch_input_shape\": [null, 14], \"dtype\": \"float32\", \"units\": 25, \"activation\": \"linear\", \"use_bias\": true, \"kernel_initializer\": {\"class_name\": \"VarianceScaling\", \"config\": {\"scale\": 2.0, \"mode\": \"fan_in\", \"distribution\": \"uniform\", \"seed\": null}}, \"bias_initializer\": {\"class_name\": \"Zeros\", \"config\": {}}, \"kernel_regularizer\": null, \"bias_regularizer\": null, \"activity_regularizer\": null, \"kernel_constraint\": null, \"bias_constraint\": null}}, {\"class_name\": \"ReLU\", \"config\": {\"name\": \"re_lu_25\", \"trainable\": true, \"dtype\": \"float32\", \"max_value\": null, \"negative_slope\": 0.0, \"threshold\": 0.0}}, {\"class_name\": \"Dense\", \"config\": {\"name\": \"dense_43\", \"trainable\": true, \"dtype\": \"float32\", \"units\": 25, \"activation\": \"linear\", \"use_bias\": true, \"kernel_initializer\": {\"class_name\": \"VarianceScaling\", \"config\": {\"scale\": 2.0, \"mode\": \"fan_in\", \"distribution\": \"uniform\", \"seed\": null}}, \"bias_initializer\": {\"class_name\": \"Zeros\", \"config\": {}}, \"kernel_regularizer\": null, \"bias_regularizer\": null, \"activity_regularizer\": null, \"kernel_constraint\": null, \"bias_constraint\": null}}, {\"class_name\": \"ReLU\", \"config\": {\"name\": \"re_lu_26\", \"trainable\": true, \"dtype\": \"float32\", \"max_value\": null, \"negative_slope\": 0.0, \"threshold\": 0.0}}, {\"class_name\": \"Dense\", \"config\": {\"name\": \"dense_44\", \"trainable\": true, \"dtype\": \"float32\", \"units\": 25, \"activation\": \"linear\", \"use_bias\": true, \"kernel_initializer\": {\"class_name\": \"VarianceScaling\", \"config\": {\"scale\": 2.0, \"mode\": \"fan_in\", \"distribution\": \"uniform\", \"seed\": null}}, \"bias_initializer\": {\"class_name\": \"Zeros\", \"config\": {}}, \"kernel_regularizer\": null, \"bias_regularizer\": null, \"activity_regularizer\": null, \"kernel_constraint\": null, \"bias_constraint\": null}}, {\"class_name\": \"ReLU\", \"config\": {\"name\": \"re_lu_27\", \"trainable\": true, \"dtype\": \"float32\", \"max_value\": null, \"negative_slope\": 0.0, \"threshold\": 0.0}}, {\"class_name\": \"Dense\", \"config\": {\"name\": \"dense_45\", \"trainable\": true, \"dtype\": \"float32\", \"units\": 11, \"activation\": \"linear\", \"use_bias\": true, \"kernel_initializer\": {\"class_name\": \"GlorotUniform\", \"config\": {\"seed\": null}}, \"bias_initializer\": {\"class_name\": \"Zeros\", \"config\": {}}, \"kernel_regularizer\": null, \"bias_regularizer\": null, \"activity_regularizer\": null, \"kernel_constraint\": null, \"bias_constraint\": null}}]}, \"keras_version\": \"2.2.4-tf\", \"backend\": \"tensorflow\"}\n"
          ],
          "name": "stdout"
        }
      ]
    },
    {
      "cell_type": "markdown",
      "metadata": {
        "id": "HtFN-OP2HlqQ",
        "colab_type": "text"
      },
      "source": [
        "## train, save and load model"
      ]
    },
    {
      "cell_type": "code",
      "metadata": {
        "id": "DDmtdBRxJKJd",
        "colab_type": "code",
        "colab": {}
      },
      "source": [
        "def train_model(model_tupel, epochs, batch_size):\n",
        "  model_name = model_tupel[0]\n",
        "  keras_model = model_tupel[1]\n",
        "  callbacks = [\n",
        "              #prepare_checkpoint_callback(model_name=model_name),\n",
        "              prepare_tensorboard_callback(model_name=model_name)\n",
        "              ]\n",
        "\n",
        "  history = keras_model.fit(train_X,\n",
        "                            train_Y,\n",
        "                            epochs=epochs,\n",
        "                            batch_size=batch_size,\n",
        "                            validation_data=(test_X, test_Y),\n",
        "                            verbose=2,\n",
        "                            callbacks=callbacks\n",
        "                            )\n",
        "  return history  \n",
        "\n",
        "def _format_model_path(model_name):\n",
        "  file_name = '{}_end'.format(model_name)\n",
        "  return os.path.join(saved_model_weight_path, file_name)\n",
        "\n",
        "def save_model(model_tupel):\n",
        "  model_name = model_tupel[0]\n",
        "  keras_model = model_tupel[1]\n",
        "  file_path = _format_model_path(model_name)\n",
        "  keras_model.save_weights(file_path)\n",
        "\n",
        "def load_model(model_tupel):\n",
        "  model_name = model_tupel[0]\n",
        "  keras_model = model_tupel[1]\n",
        "  file_path = _format_model_path(model_name)\n",
        "  exact_file_path = file_path + '.index'\n",
        "  if os.path.isfile(exact_file_path):\n",
        "    print('load model {}'.format(model_name))\n",
        "    keras_model.load_weights(file_path)\n",
        "    return True\n",
        "  else:\n",
        "    return False\n",
        "\n",
        "def _format_history_path(model_name):\n",
        "  file_name = '{}_history_dict'.format(model_name)\n",
        "  return os.path.join(results_folder, file_name)\n",
        "  \n",
        "\n",
        "def save_history(model_tupel, history):\n",
        "  file_path = _format_history_path(model_tupel[0])\n",
        "  with open(file_path, 'wb') as file_hist:\n",
        "        pickle.dump(history.history, file_hist)\n",
        "  \n",
        "\n",
        "def load_history(model_tupel):\n",
        "  file_path = _format_history_path(model_tupel[0])\n",
        "  if not os.path.isfile(file_path):\n",
        "    return dict()\n",
        "  with open(file_path, 'rb') as file_hist:\n",
        "    return pickle.load(file_hist)"
      ],
      "execution_count": 0,
      "outputs": []
    },
    {
      "cell_type": "code",
      "metadata": {
        "id": "DxQg934JhE_H",
        "colab_type": "code",
        "outputId": "6af9c281-da31-4a8b-8ea7-052e6296f129",
        "colab": {
          "base_uri": "https://localhost:8080/",
          "height": 1000
        }
      },
      "source": [
        "histories = []\n",
        "for model in models:\n",
        "  if not load_model(model):\n",
        "    print(model[0])\n",
        "    history = train_model(model, epochs=10, batch_size=32)\n",
        "    save_model(model)\n",
        "    save_history(model, history)\n",
        "    histories.append(history.history)\n",
        "    print('*******************')\n",
        "  else:\n",
        "    history = load_history(model)\n",
        "    histories.append(history)"
      ],
      "execution_count": 0,
      "outputs": [
        {
          "output_type": "stream",
          "text": [
            "baseline_without_bn_elu\n",
            "Train on 381832 samples, validate on 95458 samples\n",
            "Epoch 1/10\n",
            "381832/381832 - 68s - loss: 0.0051 - mean_squared_error: 0.0051 - mean_absolute_error: 0.0223 - val_loss: 1.4780e-04 - val_mean_squared_error: 1.4780e-04 - val_mean_absolute_error: 0.0096\n",
            "Epoch 2/10\n",
            "381832/381832 - 67s - loss: 4.4739e-04 - mean_squared_error: 4.4739e-04 - mean_absolute_error: 0.0156 - val_loss: 3.4608e-04 - val_mean_squared_error: 3.4608e-04 - val_mean_absolute_error: 0.0154\n",
            "Epoch 3/10\n",
            "381832/381832 - 67s - loss: 4.0048e-04 - mean_squared_error: 4.0048e-04 - mean_absolute_error: 0.0145 - val_loss: 2.9870e-04 - val_mean_squared_error: 2.9870e-04 - val_mean_absolute_error: 0.0124\n",
            "Epoch 4/10\n",
            "381832/381832 - 66s - loss: 3.7563e-04 - mean_squared_error: 3.7563e-04 - mean_absolute_error: 0.0142 - val_loss: 5.3683e-04 - val_mean_squared_error: 5.3683e-04 - val_mean_absolute_error: 0.0172\n",
            "Epoch 5/10\n",
            "381832/381832 - 67s - loss: 3.6506e-04 - mean_squared_error: 3.6506e-04 - mean_absolute_error: 0.0139 - val_loss: 2.7940e-04 - val_mean_squared_error: 2.7940e-04 - val_mean_absolute_error: 0.0143\n",
            "Epoch 6/10\n",
            "381832/381832 - 66s - loss: 3.6479e-04 - mean_squared_error: 3.6479e-04 - mean_absolute_error: 0.0139 - val_loss: 1.9027e-04 - val_mean_squared_error: 1.9027e-04 - val_mean_absolute_error: 0.0109\n",
            "Epoch 7/10\n",
            "381832/381832 - 67s - loss: 3.6456e-04 - mean_squared_error: 3.6456e-04 - mean_absolute_error: 0.0137 - val_loss: 7.6132e-04 - val_mean_squared_error: 7.6132e-04 - val_mean_absolute_error: 0.0205\n",
            "Epoch 8/10\n",
            "381832/381832 - 66s - loss: 3.5207e-04 - mean_squared_error: 3.5207e-04 - mean_absolute_error: 0.0135 - val_loss: 9.4498e-04 - val_mean_squared_error: 9.4498e-04 - val_mean_absolute_error: 0.0268\n",
            "Epoch 9/10\n",
            "381832/381832 - 67s - loss: 3.5082e-04 - mean_squared_error: 3.5082e-04 - mean_absolute_error: 0.0136 - val_loss: 5.0527e-04 - val_mean_squared_error: 5.0527e-04 - val_mean_absolute_error: 0.0170\n",
            "Epoch 10/10\n",
            "381832/381832 - 67s - loss: 3.5105e-04 - mean_squared_error: 3.5105e-04 - mean_absolute_error: 0.0134 - val_loss: 8.7754e-05 - val_mean_squared_error: 8.7754e-05 - val_mean_absolute_error: 0.0069\n",
            "*******************\n",
            "load model baseline_without_bn_elu\n",
            "model_3x40\n",
            "Train on 381832 samples, validate on 95458 samples\n",
            "Epoch 1/10\n",
            "381832/381832 - 60s - loss: 2.0385e-04 - mean_squared_error: 2.0385e-04 - mean_absolute_error: 0.0068 - val_loss: 4.0544e-05 - val_mean_squared_error: 4.0544e-05 - val_mean_absolute_error: 0.0051\n",
            "Epoch 2/10\n",
            "381832/381832 - 59s - loss: 2.4590e-05 - mean_squared_error: 2.4590e-05 - mean_absolute_error: 0.0036 - val_loss: 1.5383e-05 - val_mean_squared_error: 1.5383e-05 - val_mean_absolute_error: 0.0028\n",
            "Epoch 3/10\n",
            "381832/381832 - 58s - loss: 1.5397e-05 - mean_squared_error: 1.5397e-05 - mean_absolute_error: 0.0028 - val_loss: 1.1377e-05 - val_mean_squared_error: 1.1377e-05 - val_mean_absolute_error: 0.0025\n",
            "Epoch 4/10\n",
            "381832/381832 - 58s - loss: 1.1085e-05 - mean_squared_error: 1.1085e-05 - mean_absolute_error: 0.0023 - val_loss: 7.7484e-06 - val_mean_squared_error: 7.7484e-06 - val_mean_absolute_error: 0.0017\n",
            "Epoch 5/10\n",
            "381832/381832 - 59s - loss: 9.3644e-06 - mean_squared_error: 9.3644e-06 - mean_absolute_error: 0.0021 - val_loss: 1.8961e-05 - val_mean_squared_error: 1.8961e-05 - val_mean_absolute_error: 0.0036\n",
            "Epoch 6/10\n",
            "381832/381832 - 59s - loss: 8.3314e-06 - mean_squared_error: 8.3314e-06 - mean_absolute_error: 0.0020 - val_loss: 1.3501e-05 - val_mean_squared_error: 1.3501e-05 - val_mean_absolute_error: 0.0028\n",
            "Epoch 7/10\n",
            "381832/381832 - 59s - loss: 7.4755e-06 - mean_squared_error: 7.4755e-06 - mean_absolute_error: 0.0019 - val_loss: 5.5586e-06 - val_mean_squared_error: 5.5586e-06 - val_mean_absolute_error: 0.0017\n",
            "Epoch 8/10\n",
            "381832/381832 - 59s - loss: 6.6126e-06 - mean_squared_error: 6.6126e-06 - mean_absolute_error: 0.0017 - val_loss: 1.4100e-05 - val_mean_squared_error: 1.4100e-05 - val_mean_absolute_error: 0.0026\n",
            "Epoch 9/10\n",
            "381832/381832 - 59s - loss: 6.1791e-06 - mean_squared_error: 6.1791e-06 - mean_absolute_error: 0.0017 - val_loss: 8.9562e-06 - val_mean_squared_error: 8.9562e-06 - val_mean_absolute_error: 0.0021\n",
            "Epoch 10/10\n",
            "381832/381832 - 59s - loss: 6.1253e-06 - mean_squared_error: 6.1253e-06 - mean_absolute_error: 0.0016 - val_loss: 3.8908e-06 - val_mean_squared_error: 3.8908e-06 - val_mean_absolute_error: 0.0013\n",
            "*******************\n",
            "model_2x50\n",
            "Train on 381832 samples, validate on 95458 samples\n",
            "Epoch 1/10\n",
            "381832/381832 - 56s - loss: 0.0010 - mean_squared_error: 0.0010 - mean_absolute_error: 0.0071 - val_loss: 7.9049e-06 - val_mean_squared_error: 7.9049e-06 - val_mean_absolute_error: 0.0019\n",
            "Epoch 2/10\n",
            "381832/381832 - 56s - loss: 8.1958e-06 - mean_squared_error: 8.1958e-06 - mean_absolute_error: 0.0020 - val_loss: 1.3784e-05 - val_mean_squared_error: 1.3784e-05 - val_mean_absolute_error: 0.0030\n",
            "Epoch 3/10\n",
            "381832/381832 - 55s - loss: 6.2555e-06 - mean_squared_error: 6.2556e-06 - mean_absolute_error: 0.0017 - val_loss: 4.1415e-06 - val_mean_squared_error: 4.1415e-06 - val_mean_absolute_error: 0.0014\n",
            "Epoch 4/10\n",
            "381832/381832 - 56s - loss: 5.4581e-06 - mean_squared_error: 5.4581e-06 - mean_absolute_error: 0.0015 - val_loss: 5.6847e-06 - val_mean_squared_error: 5.6847e-06 - val_mean_absolute_error: 0.0017\n",
            "Epoch 5/10\n",
            "381832/381832 - 55s - loss: 4.8324e-06 - mean_squared_error: 4.8324e-06 - mean_absolute_error: 0.0014 - val_loss: 3.9033e-06 - val_mean_squared_error: 3.9033e-06 - val_mean_absolute_error: 0.0013\n",
            "Epoch 6/10\n",
            "381832/381832 - 55s - loss: 4.6091e-06 - mean_squared_error: 4.6091e-06 - mean_absolute_error: 0.0014 - val_loss: 6.4738e-06 - val_mean_squared_error: 6.4738e-06 - val_mean_absolute_error: 0.0018\n",
            "Epoch 7/10\n",
            "381832/381832 - 54s - loss: 4.4492e-06 - mean_squared_error: 4.4492e-06 - mean_absolute_error: 0.0013 - val_loss: 2.8427e-06 - val_mean_squared_error: 2.8427e-06 - val_mean_absolute_error: 9.9546e-04\n",
            "Epoch 8/10\n",
            "381832/381832 - 55s - loss: 4.2154e-06 - mean_squared_error: 4.2154e-06 - mean_absolute_error: 0.0013 - val_loss: 8.7714e-06 - val_mean_squared_error: 8.7714e-06 - val_mean_absolute_error: 0.0021\n",
            "Epoch 9/10\n",
            "381832/381832 - 55s - loss: 3.9986e-06 - mean_squared_error: 3.9986e-06 - mean_absolute_error: 0.0012 - val_loss: 3.9767e-06 - val_mean_squared_error: 3.9767e-06 - val_mean_absolute_error: 0.0013\n",
            "Epoch 10/10\n",
            "381832/381832 - 55s - loss: 4.0105e-06 - mean_squared_error: 4.0105e-06 - mean_absolute_error: 0.0012 - val_loss: 3.0286e-06 - val_mean_squared_error: 3.0286e-06 - val_mean_absolute_error: 9.3473e-04\n",
            "*******************\n",
            "model_3x50\n",
            "Train on 381832 samples, validate on 95458 samples\n",
            "Epoch 1/10\n",
            "381832/381832 - 59s - loss: 9.9945e-04 - mean_squared_error: 9.9946e-04 - mean_absolute_error: 0.0074 - val_loss: 1.8164e-05 - val_mean_squared_error: 1.8164e-05 - val_mean_absolute_error: 0.0033\n",
            "Epoch 2/10\n",
            "381832/381832 - 57s - loss: 1.1900e-05 - mean_squared_error: 1.1900e-05 - mean_absolute_error: 0.0024 - val_loss: 7.6048e-06 - val_mean_squared_error: 7.6048e-06 - val_mean_absolute_error: 0.0021\n",
            "Epoch 3/10\n",
            "381832/381832 - 58s - loss: 8.6517e-06 - mean_squared_error: 8.6517e-06 - mean_absolute_error: 0.0020 - val_loss: 4.6821e-06 - val_mean_squared_error: 4.6821e-06 - val_mean_absolute_error: 0.0014\n",
            "Epoch 4/10\n",
            "381832/381832 - 58s - loss: 7.0964e-06 - mean_squared_error: 7.0964e-06 - mean_absolute_error: 0.0018 - val_loss: 6.0849e-06 - val_mean_squared_error: 6.0849e-06 - val_mean_absolute_error: 0.0018\n",
            "Epoch 5/10\n",
            "381832/381832 - 57s - loss: 6.2014e-06 - mean_squared_error: 6.2014e-06 - mean_absolute_error: 0.0016 - val_loss: 3.3482e-06 - val_mean_squared_error: 3.3482e-06 - val_mean_absolute_error: 0.0012\n",
            "Epoch 6/10\n",
            "381832/381832 - 58s - loss: 5.4606e-06 - mean_squared_error: 5.4606e-06 - mean_absolute_error: 0.0015 - val_loss: 4.8913e-06 - val_mean_squared_error: 4.8913e-06 - val_mean_absolute_error: 0.0015\n",
            "Epoch 7/10\n",
            "381832/381832 - 58s - loss: 5.2105e-06 - mean_squared_error: 5.2105e-06 - mean_absolute_error: 0.0015 - val_loss: 2.7337e-06 - val_mean_squared_error: 2.7337e-06 - val_mean_absolute_error: 9.8261e-04\n",
            "Epoch 8/10\n",
            "381832/381832 - 57s - loss: 4.9025e-06 - mean_squared_error: 4.9025e-06 - mean_absolute_error: 0.0014 - val_loss: 5.2481e-06 - val_mean_squared_error: 5.2481e-06 - val_mean_absolute_error: 0.0017\n",
            "Epoch 9/10\n",
            "381832/381832 - 58s - loss: 4.6803e-06 - mean_squared_error: 4.6803e-06 - mean_absolute_error: 0.0014 - val_loss: 4.3035e-06 - val_mean_squared_error: 4.3035e-06 - val_mean_absolute_error: 0.0015\n",
            "Epoch 10/10\n",
            "381832/381832 - 58s - loss: 4.5694e-06 - mean_squared_error: 4.5694e-06 - mean_absolute_error: 0.0014 - val_loss: 5.0798e-06 - val_mean_squared_error: 5.0798e-06 - val_mean_absolute_error: 0.0015\n",
            "*******************\n",
            "model_3x25\n",
            "Train on 381832 samples, validate on 95458 samples\n",
            "Epoch 1/10\n",
            "381832/381832 - 58s - loss: 0.0024 - mean_squared_error: 0.0024 - mean_absolute_error: 0.0129 - val_loss: 2.8103e-05 - val_mean_squared_error: 2.8103e-05 - val_mean_absolute_error: 0.0037\n",
            "Epoch 2/10\n",
            "381832/381832 - 58s - loss: 1.2810e-05 - mean_squared_error: 1.2810e-05 - mean_absolute_error: 0.0024 - val_loss: 5.8551e-06 - val_mean_squared_error: 5.8551e-06 - val_mean_absolute_error: 0.0015\n",
            "Epoch 3/10\n",
            "381832/381832 - 57s - loss: 7.2757e-06 - mean_squared_error: 7.2757e-06 - mean_absolute_error: 0.0018 - val_loss: 4.5043e-06 - val_mean_squared_error: 4.5043e-06 - val_mean_absolute_error: 0.0013\n",
            "Epoch 4/10\n",
            "381832/381832 - 58s - loss: 6.2103e-06 - mean_squared_error: 6.2103e-06 - mean_absolute_error: 0.0016 - val_loss: 8.3069e-06 - val_mean_squared_error: 8.3069e-06 - val_mean_absolute_error: 0.0020\n",
            "Epoch 5/10\n",
            "381832/381832 - 58s - loss: 5.3768e-06 - mean_squared_error: 5.3768e-06 - mean_absolute_error: 0.0015 - val_loss: 3.5070e-06 - val_mean_squared_error: 3.5070e-06 - val_mean_absolute_error: 0.0010\n",
            "Epoch 6/10\n",
            "381832/381832 - 59s - loss: 4.9035e-06 - mean_squared_error: 4.9035e-06 - mean_absolute_error: 0.0014 - val_loss: 4.3115e-06 - val_mean_squared_error: 4.3115e-06 - val_mean_absolute_error: 0.0014\n",
            "Epoch 7/10\n",
            "381832/381832 - 57s - loss: 4.6344e-06 - mean_squared_error: 4.6344e-06 - mean_absolute_error: 0.0013 - val_loss: 3.6873e-06 - val_mean_squared_error: 3.6874e-06 - val_mean_absolute_error: 0.0012\n",
            "Epoch 8/10\n",
            "381832/381832 - 58s - loss: 4.4629e-06 - mean_squared_error: 4.4629e-06 - mean_absolute_error: 0.0013 - val_loss: 6.3876e-06 - val_mean_squared_error: 6.3876e-06 - val_mean_absolute_error: 0.0017\n",
            "Epoch 9/10\n",
            "381832/381832 - 58s - loss: 4.3845e-06 - mean_squared_error: 4.3844e-06 - mean_absolute_error: 0.0013 - val_loss: 4.1023e-06 - val_mean_squared_error: 4.1023e-06 - val_mean_absolute_error: 0.0014\n",
            "Epoch 10/10\n",
            "381832/381832 - 58s - loss: 4.2479e-06 - mean_squared_error: 4.2479e-06 - mean_absolute_error: 0.0013 - val_loss: 5.0692e-06 - val_mean_squared_error: 5.0692e-06 - val_mean_absolute_error: 0.0016\n",
            "*******************\n"
          ],
          "name": "stdout"
        }
      ]
    },
    {
      "cell_type": "markdown",
      "metadata": {
        "id": "XRLpUIJnZ-eq",
        "colab_type": "text"
      },
      "source": [
        "## visualize"
      ]
    },
    {
      "cell_type": "markdown",
      "metadata": {
        "id": "8X1nsxWEO59n",
        "colab_type": "text"
      },
      "source": [
        "### Test & Training Loss"
      ]
    },
    {
      "cell_type": "code",
      "metadata": {
        "id": "q7eOZ0lAe1CP",
        "colab_type": "code",
        "outputId": "9ae8d65b-cdf5-4e67-909b-68f1912c69bf",
        "colab": {
          "base_uri": "https://localhost:8080/",
          "height": 336
        }
      },
      "source": [
        "for i, history in enumerate(histories):\n",
        "  last_loss = history['loss'][-1]\n",
        "  last_val_loss = history['val_loss'][-1]\n",
        "  model_name = models[i][0]\n",
        "  print('{} model last loss: {}'.format(model_name,last_loss))\n",
        "  print('{} model last val loss: {}'.format(model_name,last_val_loss))\n",
        "  print('*******')"
      ],
      "execution_count": 0,
      "outputs": [
        {
          "output_type": "stream",
          "text": [
            "baseline_without_bn_elu model last loss: 0.0003510484156598013\n",
            "baseline_without_bn_elu model last val loss: 8.775424725603071e-05\n",
            "*******\n",
            "baseline_without_bn_elu model last loss: 0.0003510484156598013\n",
            "baseline_without_bn_elu model last val loss: 8.775424725603071e-05\n",
            "*******\n",
            "model_3x40 model last loss: 6.1252898499820775e-06\n",
            "model_3x40 model last val loss: 3.890762899637884e-06\n",
            "*******\n",
            "model_2x50 model last loss: 4.010503187389436e-06\n",
            "model_2x50 model last val loss: 3.0286456483792197e-06\n",
            "*******\n",
            "model_3x50 model last loss: 4.569446331639252e-06\n",
            "model_3x50 model last val loss: 5.0797881042760295e-06\n",
            "*******\n",
            "model_3x25 model last loss: 4.2479259240670715e-06\n",
            "model_3x25 model last val loss: 5.069218745883315e-06\n",
            "*******\n"
          ],
          "name": "stdout"
        }
      ]
    },
    {
      "cell_type": "code",
      "metadata": {
        "id": "gbFhTgXGITKV",
        "colab_type": "code",
        "outputId": "5e627210-8ecc-4c9f-90da-972dc6dd0c0f",
        "colab": {
          "base_uri": "https://localhost:8080/",
          "height": 629
        }
      },
      "source": [
        "pas_history(models, histories=histories)"
      ],
      "execution_count": 0,
      "outputs": [
        {
          "output_type": "display_data",
          "data": {
            "image/png": "[encoded data removed]",
            "text/plain": [
              "<Figure size 1152x720 with 1 Axes>"
            ]
          },
          "metadata": {
            "tags": []
          }
        }
      ]
    },
    {
      "cell_type": "markdown",
      "metadata": {
        "id": "4vT7MLiJPSQ2",
        "colab_type": "text"
      },
      "source": [
        "\n",
        "### MSE per target (scaled)"
      ]
    },
    {
      "cell_type": "code",
      "metadata": {
        "id": "o03Cq_x5nhRe",
        "colab_type": "code",
        "outputId": "b890734a-f1bb-4dcb-9c27-15f3cd3cf294",
        "colab": {
          "base_uri": "https://localhost:8080/",
          "height": 1000
        }
      },
      "source": [
        "for model_tupel in models:\n",
        "  df = pas_metrics_scaled(model_tupel)\n",
        "  print(model_tupel[0])\n",
        "  with pd.option_context('display.max_rows', None, 'display.max_columns', None,\n",
        "                         'display.width', 1000): \n",
        "    print(df)\n",
        "  print('*********************************************************')"
      ],
      "execution_count": 0,
      "outputs": [
        {
          "output_type": "stream",
          "text": [
            "baseline_without_bn_elu\n",
            "       t+1_   ____Q,rad/s   t+1_   _beta,__deg   t+1_   _roll,__deg   t+1_   ____R,rad/s   t+1_   pitch,__deg   t+1_   ____P,rad/s   t+1_   __VVI,__fpm   t+1_   __alt,ftmsl   t+1_   Vtrue,_ktas   t+1_   rpm_1,_prop   t+1_   thro1,_part \n",
            "count        477290.000000        477290.000000        477290.000000        477290.000000        477290.000000        477290.000000        477290.000000        477290.000000        477290.000000        477290.000000        477290.000000\n",
            "mean              0.529000             0.667368             0.463281             0.480678             0.410236             0.496619             0.673159             0.446561             0.597028             0.544487             0.203615\n",
            "std               0.088447             0.131945             0.178326             0.216880             0.079806             0.078474             0.094942             0.317480             0.113618             0.180308             0.402682\n",
            "min               0.000000             0.000000             0.000000             0.000000             0.000000             0.000000             0.000000             0.000000             0.000000             0.000000             0.000000\n",
            "25%               0.481389             0.582361             0.397390             0.398589             0.380348             0.494866             0.648773             0.141815             0.558299             0.450420             0.000000\n",
            "50%               0.495456             0.665440             0.477069             0.497187             0.403913             0.496720             0.662275             0.425023             0.588697             0.499095             0.000000\n",
            "75%               0.607992             0.731442             0.483449             0.505081             0.434026             0.498485             0.719252             0.722933             0.632727             0.564504             0.000000\n",
            "max               1.000000             1.000058             1.000000             1.000000             1.000000             1.000226             1.000000             1.000000             1.000000             1.000000             1.000000\n",
            "mses              0.000195             0.000022             0.000081             0.000017             0.000353             0.000024             0.000090             0.000131             0.000024             0.000024             0.000005\n",
            "rmes              0.013958             0.004716             0.009008             0.004065             0.018780             0.004880             0.009464             0.011436             0.004940             0.004927             0.002244\n",
            "maes              0.013494             0.003904             0.007949             0.002959             0.017975             0.003421             0.006421             0.010557             0.003927             0.004085             0.001633\n",
            "mse               0.000088             0.000088             0.000088             0.000088             0.000088             0.000088             0.000088             0.000088             0.000088             0.000088             0.000088\n",
            "rme               0.009368             0.009368             0.009368             0.009368             0.009368             0.009368             0.009368             0.009368             0.009368             0.009368             0.009368\n",
            "mae               0.006939             0.006939             0.006939             0.006939             0.006939             0.006939             0.006939             0.006939             0.006939             0.006939             0.006939\n",
            "*********************************************************\n",
            "baseline_without_bn_elu\n",
            "       t+1_   ____Q,rad/s   t+1_   _beta,__deg   t+1_   _roll,__deg   t+1_   ____R,rad/s   t+1_   pitch,__deg   t+1_   ____P,rad/s   t+1_   __VVI,__fpm   t+1_   __alt,ftmsl   t+1_   Vtrue,_ktas   t+1_   rpm_1,_prop   t+1_   thro1,_part \n",
            "count        477290.000000        477290.000000        477290.000000        477290.000000        477290.000000        477290.000000        477290.000000        477290.000000        477290.000000        477290.000000        477290.000000\n",
            "mean              0.529000             0.667368             0.463281             0.480678             0.410236             0.496619             0.673159             0.446561             0.597028             0.544487             0.203615\n",
            "std               0.088447             0.131945             0.178326             0.216880             0.079806             0.078474             0.094942             0.317480             0.113618             0.180308             0.402682\n",
            "min               0.000000             0.000000             0.000000             0.000000             0.000000             0.000000             0.000000             0.000000             0.000000             0.000000             0.000000\n",
            "25%               0.481389             0.582361             0.397390             0.398589             0.380348             0.494866             0.648773             0.141815             0.558299             0.450420             0.000000\n",
            "50%               0.495456             0.665440             0.477069             0.497187             0.403913             0.496720             0.662275             0.425023             0.588697             0.499095             0.000000\n",
            "75%               0.607992             0.731442             0.483449             0.505081             0.434026             0.498485             0.719252             0.722933             0.632727             0.564504             0.000000\n",
            "max               1.000000             1.000058             1.000000             1.000000             1.000000             1.000226             1.000000             1.000000             1.000000             1.000000             1.000000\n",
            "mses              0.000195             0.000022             0.000081             0.000017             0.000353             0.000024             0.000090             0.000131             0.000024             0.000024             0.000005\n",
            "rmes              0.013958             0.004716             0.009008             0.004065             0.018780             0.004880             0.009464             0.011436             0.004940             0.004927             0.002244\n",
            "maes              0.013494             0.003904             0.007949             0.002959             0.017975             0.003421             0.006421             0.010557             0.003927             0.004085             0.001633\n",
            "mse               0.000088             0.000088             0.000088             0.000088             0.000088             0.000088             0.000088             0.000088             0.000088             0.000088             0.000088\n",
            "rme               0.009368             0.009368             0.009368             0.009368             0.009368             0.009368             0.009368             0.009368             0.009368             0.009368             0.009368\n",
            "mae               0.006939             0.006939             0.006939             0.006939             0.006939             0.006939             0.006939             0.006939             0.006939             0.006939             0.006939\n",
            "*********************************************************\n",
            "model_3x40\n",
            "       t+1_   ____Q,rad/s   t+1_   _beta,__deg   t+1_   _roll,__deg   t+1_   ____R,rad/s   t+1_   pitch,__deg   t+1_   ____P,rad/s   t+1_   __VVI,__fpm   t+1_   __alt,ftmsl   t+1_   Vtrue,_ktas   t+1_   rpm_1,_prop   t+1_   thro1,_part \n",
            "count        477290.000000        477290.000000        477290.000000        477290.000000        477290.000000        477290.000000        477290.000000        477290.000000        477290.000000        477290.000000        477290.000000\n",
            "mean              0.529000             0.667368             0.463281             0.480678             0.410236             0.496619             0.673159             0.446561             0.597028             0.544487             0.203615\n",
            "std               0.088447             0.131945             0.178326             0.216880             0.079806             0.078474             0.094942             0.317480             0.113618             0.180308             0.402682\n",
            "min               0.000000             0.000000             0.000000             0.000000             0.000000             0.000000             0.000000             0.000000             0.000000             0.000000             0.000000\n",
            "25%               0.481389             0.582361             0.397390             0.398589             0.380348             0.494866             0.648773             0.141815             0.558299             0.450420             0.000000\n",
            "50%               0.495456             0.665440             0.477069             0.497187             0.403913             0.496720             0.662275             0.425023             0.588697             0.499095             0.000000\n",
            "75%               0.607992             0.731442             0.483449             0.505081             0.434026             0.498485             0.719252             0.722933             0.632727             0.564504             0.000000\n",
            "max               1.000000             1.000058             1.000000             1.000000             1.000000             1.000226             1.000000             1.000000             1.000000             1.000000             1.000000\n",
            "mses              0.000004             0.000006             0.000003             0.000004             0.000003             0.000004             0.000003             0.000012             0.000002             0.000001             0.000002\n",
            "rmes              0.001873             0.002493             0.001806             0.001957             0.001610             0.001886             0.001597             0.003458             0.001323             0.001178             0.001481\n",
            "maes              0.001001             0.002242             0.001469             0.001553             0.001217             0.001518             0.001087             0.001483             0.000950             0.000724             0.000664\n",
            "mse               0.000004             0.000004             0.000004             0.000004             0.000004             0.000004             0.000004             0.000004             0.000004             0.000004             0.000004\n",
            "rme               0.001973             0.001973             0.001973             0.001973             0.001973             0.001973             0.001973             0.001973             0.001973             0.001973             0.001973\n",
            "mae               0.001264             0.001264             0.001264             0.001264             0.001264             0.001264             0.001264             0.001264             0.001264             0.001264             0.001264\n",
            "*********************************************************\n",
            "model_2x50\n",
            "       t+1_   ____Q,rad/s   t+1_   _beta,__deg   t+1_   _roll,__deg   t+1_   ____R,rad/s   t+1_   pitch,__deg   t+1_   ____P,rad/s   t+1_   __VVI,__fpm   t+1_   __alt,ftmsl   t+1_   Vtrue,_ktas   t+1_   rpm_1,_prop   t+1_   thro1,_part \n",
            "count        477290.000000        477290.000000         4.772900e+05        477290.000000         4.772900e+05        477290.000000         4.772900e+05        477290.000000         4.772900e+05         4.772900e+05         4.772900e+05\n",
            "mean              0.529000             0.667368         4.632808e-01             0.480678         4.102357e-01             0.496619         6.731588e-01             0.446561         5.970284e-01         5.444874e-01         2.036155e-01\n",
            "std               0.088447             0.131945         1.783255e-01             0.216880         7.980569e-02             0.078474         9.494155e-02             0.317480         1.136176e-01         1.803082e-01         4.026823e-01\n",
            "min               0.000000             0.000000         0.000000e+00             0.000000         0.000000e+00             0.000000         0.000000e+00             0.000000         0.000000e+00         0.000000e+00         0.000000e+00\n",
            "25%               0.481389             0.582361         3.973896e-01             0.398589         3.803479e-01             0.494866         6.487725e-01             0.141815         5.582990e-01         4.504197e-01         0.000000e+00\n",
            "50%               0.495456             0.665440         4.770691e-01             0.497187         4.039126e-01             0.496720         6.622749e-01             0.425023         5.886968e-01         4.990951e-01         0.000000e+00\n",
            "75%               0.607992             0.731442         4.834492e-01             0.505081         4.340259e-01             0.498485         7.192521e-01             0.722933         6.327272e-01         5.645037e-01         0.000000e+00\n",
            "max               1.000000             1.000058         1.000000e+00             1.000000         1.000000e+00             1.000226         1.000000e+00             1.000000         1.000000e+00         1.000000e+00         1.000000e+00\n",
            "mses              0.000015             0.000002         6.349669e-07             0.000001         2.694899e-07             0.000003         4.255080e-07             0.000009         3.525727e-07         6.954944e-07         7.629341e-07\n",
            "rmes              0.003874             0.001442         7.968481e-04             0.001164         5.191242e-04             0.001789         6.523097e-04             0.002921         5.937783e-04         8.339631e-04         8.734610e-04\n",
            "maes              0.003313             0.001315         5.382289e-04             0.001059         3.860479e-04             0.001319         3.735897e-04             0.000465         3.334290e-04         6.187296e-04         5.606529e-04\n",
            "mse               0.000003             0.000003         3.028646e-06             0.000003         3.028646e-06             0.000003         3.028646e-06             0.000003         3.028646e-06         3.028646e-06         3.028646e-06\n",
            "rme               0.001740             0.001740         1.740300e-03             0.001740         1.740300e-03             0.001740         1.740300e-03             0.001740         1.740300e-03         1.740300e-03         1.740300e-03\n",
            "mae               0.000935             0.000935         9.347306e-04             0.000935         9.347306e-04             0.000935         9.347306e-04             0.000935         9.347306e-04         9.347306e-04         9.347306e-04\n",
            "*********************************************************\n",
            "model_3x50\n",
            "       t+1_   ____Q,rad/s   t+1_   _beta,__deg   t+1_   _roll,__deg   t+1_   ____R,rad/s   t+1_   pitch,__deg   t+1_   ____P,rad/s   t+1_   __VVI,__fpm   t+1_   __alt,ftmsl   t+1_   Vtrue,_ktas   t+1_   rpm_1,_prop   t+1_   thro1,_part \n",
            "count        477290.000000        477290.000000         4.772900e+05         4.772900e+05        477290.000000        477290.000000        477290.000000        477290.000000        477290.000000        477290.000000         4.772900e+05\n",
            "mean              0.529000             0.667368         4.632808e-01         4.806785e-01             0.410236             0.496619             0.673159             0.446561             0.597028             0.544487         2.036155e-01\n",
            "std               0.088447             0.131945         1.783255e-01         2.168802e-01             0.079806             0.078474             0.094942             0.317480             0.113618             0.180308         4.026823e-01\n",
            "min               0.000000             0.000000         0.000000e+00         0.000000e+00             0.000000             0.000000             0.000000             0.000000             0.000000             0.000000         0.000000e+00\n",
            "25%               0.481389             0.582361         3.973896e-01         3.985892e-01             0.380348             0.494866             0.648773             0.141815             0.558299             0.450420         0.000000e+00\n",
            "50%               0.495456             0.665440         4.770691e-01         4.971874e-01             0.403913             0.496720             0.662275             0.425023             0.588697             0.499095         0.000000e+00\n",
            "75%               0.607992             0.731442         4.834492e-01         5.050807e-01             0.434026             0.498485             0.719252             0.722933             0.632727             0.564504         0.000000e+00\n",
            "max               1.000000             1.000058         1.000000e+00         1.000000e+00             1.000000             1.000226             1.000000             1.000000             1.000000             1.000000         1.000000e+00\n",
            "mses              0.000026             0.000005         3.080936e-07         4.307578e-07             0.000002             0.000008             0.000001             0.000009             0.000001             0.000003         5.978290e-07\n",
            "rmes              0.005098             0.002166         5.550618e-04         6.563214e-04             0.001480             0.002808             0.001017             0.002965             0.001167             0.001611         7.731941e-04\n",
            "maes              0.004826             0.002057         4.283387e-04         4.799994e-04             0.001380             0.002501             0.000904             0.000682             0.001040             0.001514         3.921705e-04\n",
            "mse               0.000005             0.000005         5.079788e-06         5.079788e-06             0.000005             0.000005             0.000005             0.000005             0.000005             0.000005         5.079788e-06\n",
            "rme               0.002254             0.002254         2.253839e-03         2.253839e-03             0.002254             0.002254             0.002254             0.002254             0.002254             0.002254         2.253839e-03\n",
            "mae               0.001473             0.001473         1.473042e-03         1.473042e-03             0.001473             0.001473             0.001473             0.001473             0.001473             0.001473         1.473042e-03\n",
            "*********************************************************\n",
            "model_3x25\n",
            "       t+1_   ____Q,rad/s   t+1_   _beta,__deg   t+1_   _roll,__deg   t+1_   ____R,rad/s   t+1_   pitch,__deg   t+1_   ____P,rad/s   t+1_   __VVI,__fpm   t+1_   __alt,ftmsl   t+1_   Vtrue,_ktas   t+1_   rpm_1,_prop   t+1_   thro1,_part \n",
            "count        477290.000000        477290.000000        477290.000000        477290.000000        477290.000000        477290.000000         4.772900e+05        477290.000000        477290.000000         4.772900e+05         4.772900e+05\n",
            "mean              0.529000             0.667368             0.463281             0.480678             0.410236             0.496619         6.731588e-01             0.446561             0.597028         5.444874e-01         2.036155e-01\n",
            "std               0.088447             0.131945             0.178326             0.216880             0.079806             0.078474         9.494155e-02             0.317480             0.113618         1.803082e-01         4.026823e-01\n",
            "min               0.000000             0.000000             0.000000             0.000000             0.000000             0.000000         0.000000e+00             0.000000             0.000000         0.000000e+00         0.000000e+00\n",
            "25%               0.481389             0.582361             0.397390             0.398589             0.380348             0.494866         6.487725e-01             0.141815             0.558299         4.504197e-01         0.000000e+00\n",
            "50%               0.495456             0.665440             0.477069             0.497187             0.403913             0.496720         6.622749e-01             0.425023             0.588697         4.990951e-01         0.000000e+00\n",
            "75%               0.607992             0.731442             0.483449             0.505081             0.434026             0.498485         7.192521e-01             0.722933             0.632727         5.645037e-01         0.000000e+00\n",
            "max               1.000000             1.000058             1.000000             1.000000             1.000000             1.000226         1.000000e+00             1.000000             1.000000         1.000000e+00         1.000000e+00\n",
            "mses              0.000012             0.000003             0.000005             0.000013             0.000003             0.000005         3.939083e-07             0.000012             0.000001         8.771195e-07         7.152448e-07\n",
            "rmes              0.003447             0.001826             0.002178             0.003600             0.001723             0.002252         6.276212e-04             0.003420             0.001060         9.365466e-04         8.457215e-04\n",
            "maes              0.002569             0.001619             0.001956             0.003467             0.001606             0.001835         3.622516e-04             0.001728             0.000754         6.841659e-04         5.485383e-04\n",
            "mse               0.000005             0.000005             0.000005             0.000005             0.000005             0.000005         5.069218e-06             0.000005             0.000005         5.069218e-06         5.069218e-06\n",
            "rme               0.002251             0.002251             0.002251             0.002251             0.002251             0.002251         2.251492e-03             0.002251             0.002251         2.251492e-03         2.251492e-03\n",
            "mae               0.001557             0.001557             0.001557             0.001557             0.001557             0.001557         1.557047e-03             0.001557             0.001557         1.557047e-03         1.557047e-03\n",
            "*********************************************************\n"
          ],
          "name": "stdout"
        }
      ]
    },
    {
      "cell_type": "markdown",
      "metadata": {
        "id": "bVhouDRRpewh",
        "colab_type": "text"
      },
      "source": [
        "### MSE per target (unscaled)"
      ]
    },
    {
      "cell_type": "code",
      "metadata": {
        "id": "oTTBfKRgRnTP",
        "colab_type": "code",
        "outputId": "e72561f7-cdb0-4cc8-8ab7-a75b10155698",
        "colab": {
          "base_uri": "https://localhost:8080/",
          "height": 1000
        }
      },
      "source": [
        "for mode_tupel in models:\n",
        "  df = pas_metrics(mode_tupel)\n",
        "  print(model_tupel[0])\n",
        "  with pd.option_context('display.max_rows', None, 'display.max_columns', None,\n",
        "                        'display.width', 1000):  \n",
        "    print(df)\n",
        "  print('*********************************************************')"
      ],
      "execution_count": 0,
      "outputs": [
        {
          "output_type": "stream",
          "text": [
            "model_3x25\n",
            "       t+1_   ____Q,rad/s   t+1_   _beta,__deg   t+1_   _roll,__deg   t+1_   ____R,rad/s   t+1_   pitch,__deg   t+1_   ____P,rad/s   t+1_   __VVI,__fpm   t+1_   __alt,ftmsl   t+1_   Vtrue,_ktas   t+1_   rpm_1,_prop   t+1_   thro1,_part \n",
            "count        477290.000000        477290.000000        477290.000000         4.772900e+05        477290.000000        477290.000000        477290.000000        477290.000000        477290.000000        477290.000000         4.772900e+05\n",
            "mean              0.003815             0.006402            -0.791050        -1.839620e-03            -0.653565            -0.000023            31.866864          2714.494657           119.567394          2490.421446         8.376013e-01\n",
            "std               0.007105             0.137680             8.876411         2.390454e-02             1.684673             0.017348           274.991234          1357.480898            10.113312           127.216670         8.211498e-02\n",
            "min              -0.038680            -0.689970           -23.851520        -5.482000e-02            -9.313510            -0.109810         -1917.888180           805.092900            66.424780          2106.257810         7.960800e-01\n",
            "25%              -0.000010            -0.082300            -4.070882        -1.088750e-02            -1.284488            -0.000410           -38.766265          1411.464812           116.120015          2424.051882         7.960800e-01\n",
            "50%               0.001120             0.004390            -0.104720        -2.000000e-05            -0.787045             0.000000             0.342395          2622.403565           118.825780          2458.394900         7.960800e-01\n",
            "75%               0.010160             0.073260             0.212860         8.500000e-04            -0.151363             0.000390           165.372623          3896.206053           122.745007          2504.543950         7.960800e-01\n",
            "max               0.041650             0.353550            25.924920         5.540000e-02            11.796170             0.111310           978.538330          5080.888180           155.436650          2811.808840         1.000000e+00\n",
            "mses              0.000001             0.000024             0.201036         2.007254e-07             0.157163             0.000001           751.481616          2391.169146             0.193338            12.083719         2.093968e-07\n",
            "rmes              0.001121             0.004921             0.448371         4.480238e-04             0.396438             0.001079            27.413165            48.899582             0.439702             3.476164         4.575990e-04\n",
            "maes              0.001084             0.004073             0.395690         3.260940e-04             0.379443             0.000756            18.599161            45.139878             0.349585             2.882262         3.329491e-04\n",
            "mse             286.844186           286.844186           286.844186         2.868442e+02           286.844186           286.844186           286.844186           286.844186           286.844186           286.844186         2.868442e+02\n",
            "rme              16.936475            16.936475            16.936475         1.693648e+01            16.936475            16.936475            16.936475            16.936475            16.936475            16.936475         1.693648e+01\n",
            "mae               6.159326             6.159326             6.159326         6.159326e+00             6.159326             6.159326             6.159326             6.159326             6.159326             6.159326         6.159326e+00\n",
            "*********************************************************\n",
            "model_3x25\n",
            "       t+1_   ____Q,rad/s   t+1_   _beta,__deg   t+1_   _roll,__deg   t+1_   ____R,rad/s   t+1_   pitch,__deg   t+1_   ____P,rad/s   t+1_   __VVI,__fpm   t+1_   __alt,ftmsl   t+1_   Vtrue,_ktas   t+1_   rpm_1,_prop   t+1_   thro1,_part \n",
            "count        477290.000000        477290.000000        477290.000000         4.772900e+05        477290.000000        477290.000000        477290.000000        477290.000000        477290.000000        477290.000000         4.772900e+05\n",
            "mean              0.003815             0.006402            -0.791050        -1.839620e-03            -0.653565            -0.000023            31.866864          2714.494657           119.567394          2490.421446         8.376013e-01\n",
            "std               0.007105             0.137680             8.876411         2.390454e-02             1.684673             0.017348           274.991234          1357.480898            10.113312           127.216670         8.211498e-02\n",
            "min              -0.038680            -0.689970           -23.851520        -5.482000e-02            -9.313510            -0.109810         -1917.888180           805.092900            66.424780          2106.257810         7.960800e-01\n",
            "25%              -0.000010            -0.082300            -4.070882        -1.088750e-02            -1.284488            -0.000410           -38.766265          1411.464812           116.120015          2424.051882         7.960800e-01\n",
            "50%               0.001120             0.004390            -0.104720        -2.000000e-05            -0.787045             0.000000             0.342395          2622.403565           118.825780          2458.394900         7.960800e-01\n",
            "75%               0.010160             0.073260             0.212860         8.500000e-04            -0.151363             0.000390           165.372623          3896.206053           122.745007          2504.543950         7.960800e-01\n",
            "max               0.041650             0.353550            25.924920         5.540000e-02            11.796170             0.111310           978.538330          5080.888180           155.436650          2811.808840         1.000000e+00\n",
            "mses              0.000001             0.000024             0.201036         2.007254e-07             0.157163             0.000001           751.481616          2391.169146             0.193338            12.083719         2.093968e-07\n",
            "rmes              0.001121             0.004921             0.448371         4.480238e-04             0.396438             0.001079            27.413165            48.899582             0.439702             3.476164         4.575990e-04\n",
            "maes              0.001084             0.004073             0.395690         3.260940e-04             0.379443             0.000756            18.599161            45.139878             0.349585             2.882262         3.329491e-04\n",
            "mse             286.844186           286.844186           286.844186         2.868442e+02           286.844186           286.844186           286.844186           286.844186           286.844186           286.844186         2.868442e+02\n",
            "rme              16.936475            16.936475            16.936475         1.693648e+01            16.936475            16.936475            16.936475            16.936475            16.936475            16.936475         1.693648e+01\n",
            "mae               6.159326             6.159326             6.159326         6.159326e+00             6.159326             6.159326             6.159326             6.159326             6.159326             6.159326         6.159326e+00\n",
            "*********************************************************\n",
            "model_3x25\n",
            "       t+1_   ____Q,rad/s   t+1_   _beta,__deg   t+1_   _roll,__deg   t+1_   ____R,rad/s   t+1_   pitch,__deg   t+1_   ____P,rad/s   t+1_   __VVI,__fpm   t+1_   __alt,ftmsl   t+1_   Vtrue,_ktas   t+1_   rpm_1,_prop   t+1_   thro1,_part \n",
            "count         4.772900e+05        477290.000000        477290.000000         4.772900e+05        477290.000000         4.772900e+05        477290.000000        477290.000000        477290.000000        477290.000000         4.772900e+05\n",
            "mean          3.814590e-03             0.006402            -0.791050        -1.839620e-03            -0.653565        -2.251091e-05            31.866864          2714.494657           119.567394          2490.421446         8.376013e-01\n",
            "std           7.104948e-03             0.137680             8.876411         2.390454e-02             1.684673         1.734834e-02           274.991234          1357.480898            10.113312           127.216670         8.211498e-02\n",
            "min          -3.868000e-02            -0.689970           -23.851520        -5.482000e-02            -9.313510        -1.098100e-01         -1917.888180           805.092900            66.424780          2106.257810         7.960800e-01\n",
            "25%          -1.000000e-05            -0.082300            -4.070882        -1.088750e-02            -1.284488        -4.100000e-04           -38.766265          1411.464812           116.120015          2424.051882         7.960800e-01\n",
            "50%           1.120000e-03             0.004390            -0.104720        -2.000000e-05            -0.787045         0.000000e+00             0.342395          2622.403565           118.825780          2458.394900         7.960800e-01\n",
            "75%           1.016000e-02             0.073260             0.212860         8.500000e-04            -0.151363         3.900000e-04           165.372623          3896.206053           122.745007          2504.543950         7.960800e-01\n",
            "max           4.165000e-02             0.353550            25.924920         5.540000e-02            11.796170         1.113100e-01           978.538330          5080.888180           155.436650          2811.808840         1.000000e+00\n",
            "mses          2.263669e-08             0.000007             0.008081         4.653146e-08             0.001155         1.737751e-07            21.383972           218.563602             0.013874             0.690823         9.120422e-08\n",
            "rmes          1.504549e-04             0.002601             0.089893         2.157115e-04             0.033991         4.168634e-04             4.624281            14.783897             0.117787             0.831157         3.020004e-04\n",
            "maes          8.039873e-05             0.002340             0.073124         1.711481e-04             0.025700         3.356134e-04             3.148335             6.341658             0.084518             0.510884         1.354208e-04\n",
            "mse           2.187832e+01            21.878319            21.878319         2.187832e+01            21.878319         2.187832e+01            21.878319            21.878319            21.878319            21.878319         2.187832e+01\n",
            "rme           4.677427e+00             4.677427             4.677427         4.677427e+00             4.677427         4.677427e+00             4.677427             4.677427             4.677427             4.677427         4.677427e+00\n",
            "mae           9.261165e-01             0.926116             0.926116         9.261165e-01             0.926116         9.261165e-01             0.926116             0.926116             0.926116             0.926116         9.261165e-01\n",
            "*********************************************************\n",
            "model_3x25\n",
            "       t+1_   ____Q,rad/s   t+1_   _beta,__deg   t+1_   _roll,__deg   t+1_   ____R,rad/s   t+1_   pitch,__deg   t+1_   ____P,rad/s   t+1_   __VVI,__fpm   t+1_   __alt,ftmsl   t+1_   Vtrue,_ktas   t+1_   rpm_1,_prop   t+1_   thro1,_part \n",
            "count         4.772900e+05        477290.000000        477290.000000         4.772900e+05        477290.000000         4.772900e+05        477290.000000        477290.000000        477290.000000        477290.000000         4.772900e+05\n",
            "mean          3.814590e-03             0.006402            -0.791050        -1.839620e-03            -0.653565        -2.251091e-05            31.866864          2714.494657           119.567394          2490.421446         8.376013e-01\n",
            "std           7.104948e-03             0.137680             8.876411         2.390454e-02             1.684673         1.734834e-02           274.991234          1357.480898            10.113312           127.216670         8.211498e-02\n",
            "min          -3.868000e-02            -0.689970           -23.851520        -5.482000e-02            -9.313510        -1.098100e-01         -1917.888180           805.092900            66.424780          2106.257810         7.960800e-01\n",
            "25%          -1.000000e-05            -0.082300            -4.070882        -1.088750e-02            -1.284488        -4.100000e-04           -38.766265          1411.464812           116.120015          2424.051882         7.960800e-01\n",
            "50%           1.120000e-03             0.004390            -0.104720        -2.000000e-05            -0.787045         0.000000e+00             0.342395          2622.403565           118.825780          2458.394900         7.960800e-01\n",
            "75%           1.016000e-02             0.073260             0.212860         8.500000e-04            -0.151363         3.900000e-04           165.372623          3896.206053           122.745007          2504.543950         7.960800e-01\n",
            "max           4.165000e-02             0.353550            25.924920         5.540000e-02            11.796170         1.113100e-01           978.538330          5080.888180           155.436650          2811.808840         1.000000e+00\n",
            "mses          9.686502e-08             0.000002             0.001573         1.645664e-08             0.000120         1.563688e-07             3.569710           155.949504             0.002793             0.346226         3.172514e-08\n",
            "rmes          3.112315e-04             0.001504             0.039664         1.282834e-04             0.010959         3.954350e-04             1.889368            12.487974             0.052853             0.588410         1.781155e-04\n",
            "maes          2.660980e-04             0.001372             0.026791         1.167332e-04             0.008149         2.916786e-04             1.082075             1.988703             0.029679             0.436553         1.143275e-04\n",
            "mse           1.453363e+01            14.533630            14.533630         1.453363e+01            14.533630         1.453363e+01            14.533630            14.533630            14.533630            14.533630         1.453363e+01\n",
            "rme           3.812300e+00             3.812300             3.812300         3.812300e+00             3.812300         3.812300e+00             3.812300             3.812300             3.812300             3.812300         3.812300e+00\n",
            "mae           3.249193e-01             0.324919             0.324919         3.249193e-01             0.324919         3.249193e-01             0.324919             0.324919             0.324919             0.324919         3.249193e-01\n",
            "*********************************************************\n",
            "model_3x25\n",
            "       t+1_   ____Q,rad/s   t+1_   _beta,__deg   t+1_   _roll,__deg   t+1_   ____R,rad/s   t+1_   pitch,__deg   t+1_   ____P,rad/s   t+1_   __VVI,__fpm   t+1_   __alt,ftmsl   t+1_   Vtrue,_ktas   t+1_   rpm_1,_prop   t+1_   thro1,_part \n",
            "count         4.772900e+05        477290.000000        477290.000000         4.772900e+05        477290.000000         4.772900e+05        477290.000000        477290.000000        477290.000000        477290.000000         4.772900e+05\n",
            "mean          3.814590e-03             0.006402            -0.791050        -1.839620e-03            -0.653565        -2.251091e-05            31.866864          2714.494657           119.567394          2490.421446         8.376013e-01\n",
            "std           7.104948e-03             0.137680             8.876411         2.390454e-02             1.684673         1.734834e-02           274.991234          1357.480898            10.113312           127.216670         8.211498e-02\n",
            "min          -3.868000e-02            -0.689970           -23.851520        -5.482000e-02            -9.313510        -1.098100e-01         -1917.888180           805.092900            66.424780          2106.257810         7.960800e-01\n",
            "25%          -1.000000e-05            -0.082300            -4.070882        -1.088750e-02            -1.284488        -4.100000e-04           -38.766265          1411.464812           116.120015          2424.051882         7.960800e-01\n",
            "50%           1.120000e-03             0.004390            -0.104720        -2.000000e-05            -0.787045         0.000000e+00             0.342395          2622.403565           118.825780          2458.394900         7.960800e-01\n",
            "75%           1.016000e-02             0.073260             0.212860         8.500000e-04            -0.151363         3.900000e-04           165.372623          3896.206053           122.745007          2504.543950         7.960800e-01\n",
            "max           4.165000e-02             0.353550            25.924920         5.540000e-02            11.796170         1.113100e-01           978.538330          5080.888180           155.436650          2811.808840         1.000000e+00\n",
            "mses          1.677155e-07             0.000005             0.000763         5.233047e-09             0.000976         3.854846e-07             8.669380           160.679764             0.010783             1.292611         2.485958e-08\n",
            "rmes          4.095308e-04             0.002260             0.027629         7.233980e-05             0.031247         6.208741e-04             2.944381            12.675952             0.103839             1.136931         1.576692e-04\n",
            "maes          3.876456e-04             0.002146             0.021321         5.290560e-05             0.029129         5.528470e-04             2.618443             2.915000             0.092551             1.068205         7.997068e-05\n",
            "mse           1.551403e+01            15.514026            15.514026         1.551403e+01            15.514026         1.551403e+01            15.514026            15.514026            15.514026            15.514026         1.551403e+01\n",
            "rme           3.938785e+00             3.938785             3.938785         3.938785e+00             3.938785         3.938785e+00             3.938785             3.938785             3.938785             3.938785         3.938785e+00\n",
            "mae           6.134427e-01             0.613443             0.613443         6.134427e-01             0.613443         6.134427e-01             0.613443             0.613443             0.613443             0.613443         6.134427e-01\n",
            "*********************************************************\n",
            "model_3x25\n",
            "       t+1_   ____Q,rad/s   t+1_   _beta,__deg   t+1_   _roll,__deg   t+1_   ____R,rad/s   t+1_   pitch,__deg   t+1_   ____P,rad/s   t+1_   __VVI,__fpm   t+1_   __alt,ftmsl   t+1_   Vtrue,_ktas   t+1_   rpm_1,_prop   t+1_   thro1,_part \n",
            "count         4.772900e+05        477290.000000        477290.000000         4.772900e+05        477290.000000         4.772900e+05        477290.000000        477290.000000        477290.000000        477290.000000         4.772900e+05\n",
            "mean          3.814590e-03             0.006402            -0.791050        -1.839620e-03            -0.653565        -2.251091e-05            31.866864          2714.494657           119.567394          2490.421446         8.376013e-01\n",
            "std           7.104948e-03             0.137680             8.876411         2.390454e-02             1.684673         1.734834e-02           274.991234          1357.480898            10.113312           127.216670         8.211498e-02\n",
            "min          -3.868000e-02            -0.689970           -23.851520        -5.482000e-02            -9.313510        -1.098100e-01         -1917.888180           805.092900            66.424780          2106.257810         7.960800e-01\n",
            "25%          -1.000000e-05            -0.082300            -4.070882        -1.088750e-02            -1.284488        -4.100000e-04           -38.766265          1411.464812           116.120015          2424.051882         7.960800e-01\n",
            "50%           1.120000e-03             0.004390            -0.104720        -2.000000e-05            -0.787045         0.000000e+00             0.342395          2622.403565           118.825780          2458.394900         7.960800e-01\n",
            "75%           1.016000e-02             0.073260             0.212860         8.500000e-04            -0.151363         3.900000e-04           165.372623          3896.206053           122.745007          2504.543950         7.960800e-01\n",
            "max           4.165000e-02             0.353550            25.924920         5.540000e-02            11.796170         1.113100e-01           978.538330          5080.888180           155.436650          2811.808840         1.000000e+00\n",
            "mses          7.665678e-08             0.000004             0.011749         1.574700e-07             0.001323         2.477758e-07             3.304607           213.789095             0.008900             0.436627         2.974198e-08\n",
            "rmes          2.768696e-04             0.001906             0.108393         3.968249e-04             0.036376         4.977709e-04             1.817858            14.621528             0.094341             0.660778         1.724586e-04\n",
            "maes          2.063526e-04             0.001689             0.097340         3.821355e-04             0.033893         4.056067e-04             1.049235             7.389457             0.067080             0.482708         1.118571e-04\n",
            "mse           1.977748e+01            19.777482            19.777482         1.977748e+01            19.777482         1.977748e+01            19.777482            19.777482            19.777482            19.777482         1.977748e+01\n",
            "rme           4.447188e+00             4.447188             4.447188         4.447188e+00             4.447188         4.447188e+00             4.447188             4.447188             4.447188             4.447188         4.447188e+00\n",
            "mae           8.293188e-01             0.829319             0.829319         8.293188e-01             0.829319         8.293188e-01             0.829319             0.829319             0.829319             0.829319         8.293188e-01\n",
            "*********************************************************\n"
          ],
          "name": "stdout"
        }
      ]
    },
    {
      "cell_type": "code",
      "metadata": {
        "id": "N-8LmbK2eki9",
        "colab_type": "code",
        "colab": {}
      },
      "source": [
        ""
      ],
      "execution_count": 0,
      "outputs": []
    }
  ]
}