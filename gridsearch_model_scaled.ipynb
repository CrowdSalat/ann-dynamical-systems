{
  "nbformat": 4,
  "nbformat_minor": 0,
  "metadata": {
    "colab": {
      "name": "gridsearch_model_scaled.ipynb",
      "provenance": [],
      "collapsed_sections": [],
      "toc_visible": true,
      "include_colab_link": true
    },
    "kernelspec": {
      "name": "python3",
      "display_name": "Python 3"
    },
    "accelerator": "GPU"
  },
  "cells": [
    {
      "cell_type": "markdown",
      "metadata": {
        "id": "view-in-github",
        "colab_type": "text"
      },
      "source": [
        "<a href=\"https://colab.research.google.com/github/CrowdSalat/ann-dynamical-systems/blob/master/gridsearch_model_scaled.ipynb\" target=\"_parent\"><img src=\"https://colab.research.google.com/assets/colab-badge.svg\" alt=\"Open In Colab\"/></a>"
      ]
    },
    {
      "cell_type": "markdown",
      "metadata": {
        "id": "Pa9Mju9lc4Ll",
        "colab_type": "text"
      },
      "source": [
        "# overview\n",
        "\n",
        "Uses actions and an input state to predict the output state."
      ]
    },
    {
      "cell_type": "markdown",
      "metadata": {
        "id": "ijDD21X-gnli",
        "colab_type": "text"
      },
      "source": [
        "# imports"
      ]
    },
    {
      "cell_type": "code",
      "metadata": {
        "id": "_Z4pV678a1zv",
        "colab_type": "code",
        "outputId": "ada5f9e4-40fc-4c26-80b1-cf9808f22be4",
        "colab": {
          "base_uri": "https://localhost:8080/",
          "height": 35
        }
      },
      "source": [
        "try:\n",
        "  # %tensorflow_version only exists in Colab.\n",
        "  %tensorflow_version 2.x\n",
        "except Exception:\n",
        "  pass"
      ],
      "execution_count": 1,
      "outputs": [
        {
          "output_type": "stream",
          "text": [
            "TensorFlow 2.x selected.\n"
          ],
          "name": "stdout"
        }
      ]
    },
    {
      "cell_type": "code",
      "metadata": {
        "id": "2p4YwEK_f7kq",
        "colab_type": "code",
        "outputId": "d51bd7b1-f3e1-42fe-db94-76da151fff27",
        "colab": {
          "base_uri": "https://localhost:8080/",
          "height": 35
        }
      },
      "source": [
        "import pandas as pd\n",
        "import numpy as np\n",
        "import os\n",
        "import sys\n",
        "import datetime\n",
        "import math\n",
        "import pickle\n",
        "import matplotlib.pyplot as plt\n",
        "from sklearn.preprocessing import MinMaxScaler\n",
        "from sklearn.metrics import mean_squared_error\n",
        "from sklearn.metrics import mean_absolute_error\n",
        "\n",
        "from sklearn.model_selection import train_test_split\n",
        "from sklearn.preprocessing import MinMaxScaler\n",
        "\n",
        "\n",
        "import tensorflow as tf\n",
        "print(tf.__version__)\n",
        "from tensorflow import keras\n",
        "\n",
        "from tensorflow.keras.models import Sequential\n",
        "from tensorflow.keras.layers import Dense\n",
        "from tensorflow.keras.layers import *\n",
        "from tensorflow.keras import metrics"
      ],
      "execution_count": 2,
      "outputs": [
        {
          "output_type": "stream",
          "text": [
            "2.0.0\n"
          ],
          "name": "stdout"
        }
      ]
    },
    {
      "cell_type": "code",
      "metadata": {
        "id": "PrIcpWs4wjLk",
        "colab_type": "code",
        "outputId": "3af63603-c993-423a-b3d8-343ca3943a55",
        "colab": {
          "base_uri": "https://localhost:8080/",
          "height": 567
        }
      },
      "source": [
        "from tensorflow.python.client import device_lib\n",
        "print(device_lib.list_local_devices())"
      ],
      "execution_count": 3,
      "outputs": [
        {
          "output_type": "stream",
          "text": [
            "[name: \"/device:CPU:0\"\n",
            "device_type: \"CPU\"\n",
            "memory_limit: 268435456\n",
            "locality {\n",
            "}\n",
            "incarnation: 5299293262610674563\n",
            ", name: \"/device:XLA_CPU:0\"\n",
            "device_type: \"XLA_CPU\"\n",
            "memory_limit: 17179869184\n",
            "locality {\n",
            "}\n",
            "incarnation: 11765783648112272085\n",
            "physical_device_desc: \"device: XLA_CPU device\"\n",
            ", name: \"/device:XLA_GPU:0\"\n",
            "device_type: \"XLA_GPU\"\n",
            "memory_limit: 17179869184\n",
            "locality {\n",
            "}\n",
            "incarnation: 3110559376267011595\n",
            "physical_device_desc: \"device: XLA_GPU device\"\n",
            ", name: \"/device:GPU:0\"\n",
            "device_type: \"GPU\"\n",
            "memory_limit: 11330115994\n",
            "locality {\n",
            "  bus_id: 1\n",
            "  links {\n",
            "  }\n",
            "}\n",
            "incarnation: 18199493840907851773\n",
            "physical_device_desc: \"device: 0, name: Tesla K80, pci bus id: 0000:00:04.0, compute capability: 3.7\"\n",
            "]\n"
          ],
          "name": "stdout"
        }
      ]
    },
    {
      "cell_type": "markdown",
      "metadata": {
        "id": "rmj8c18xllpT",
        "colab_type": "text"
      },
      "source": [
        "# mount drive"
      ]
    },
    {
      "cell_type": "code",
      "metadata": {
        "id": "nUEqcpzvltdo",
        "colab_type": "code",
        "colab": {}
      },
      "source": [
        "file = 'dataset_all_01.csv'"
      ],
      "execution_count": 0,
      "outputs": []
    },
    {
      "cell_type": "code",
      "metadata": {
        "id": "TuGWEMS1loFz",
        "colab_type": "code",
        "outputId": "7fee6f5c-7fcc-40e1-8efe-e80c19cf4cc9",
        "colab": {
          "base_uri": "https://localhost:8080/",
          "height": 72
        }
      },
      "source": [
        "from google.colab import drive\n",
        "drive.mount('/content/drive')\n",
        "\n",
        "root_dir = '/content/drive/My Drive/xplane_data' \n",
        "os.chdir(root_dir)\n",
        "print ('working dir: ' + os.getcwd())"
      ],
      "execution_count": 5,
      "outputs": [
        {
          "output_type": "stream",
          "text": [
            "Drive already mounted at /content/drive; to attempt to forcibly remount, call drive.mount(\"/content/drive\", force_remount=True).\n",
            "working dir: /content/drive/My Drive/xplane_data\n"
          ],
          "name": "stdout"
        }
      ]
    },
    {
      "cell_type": "markdown",
      "metadata": {
        "id": "EF4tx110HmOj",
        "colab_type": "text"
      },
      "source": [
        "# load and prepare data"
      ]
    },
    {
      "cell_type": "markdown",
      "metadata": {
        "id": "EOM6RVAIduGr",
        "colab_type": "text"
      },
      "source": [
        "## define features (actions & states)\n",
        "actions and states at time t are the input for the network.\n",
        "\n",
        "the states at time t + 1 are the desired output of the network.\n"
      ]
    },
    {
      "cell_type": "code",
      "metadata": {
        "id": "YH9bVQ3YDyTh",
        "colab_type": "code",
        "outputId": "f82f30b7-28e3-4500-9e24-35f2cade3e3e",
        "colab": {
          "base_uri": "https://localhost:8080/",
          "height": 55
        }
      },
      "source": [
        "col_m_time      = '   missn,_time '\n",
        "col_t_time      = '   _totl,_time '\n",
        "col_yaw_v       = '   ____Q,rad/s '\n",
        "\n",
        "col_yaw_deg     = '   _beta,__deg '\n",
        "col_roll_deg    = '   _roll,__deg '\n",
        "col_roll_v      = '   ____R,rad/s '\n",
        "col_pitch_deg   = '   pitch,__deg '\n",
        "col_pitch_v     = '   ____P,rad/s '\n",
        "col_alt         = '   __alt,ftmsl '\n",
        "col_vv          = '   __VVI,__fpm '\n",
        "col_v           = '   Vtrue,_ktas '\n",
        "col_rpm_prop    = '   rpm_1,_prop '\n",
        "col_throttle     = '   thro1,_part '\n",
        "\n",
        "cols_state = [ \n",
        "    col_yaw_v,\n",
        "    col_yaw_deg,\n",
        "    col_roll_deg,\n",
        "    col_roll_v,\n",
        "    col_pitch_deg,\n",
        "    col_pitch_v,\n",
        "    col_vv,\n",
        "    col_alt,\n",
        "    col_v,\n",
        "    col_rpm_prop,\n",
        "    col_throttle,\n",
        "]\n",
        "\n",
        "cols_time = [\n",
        "    col_m_time,\n",
        "    col_t_time,\n",
        "]\n",
        "\n",
        "col_elev_servo                  = '   _elev,servo '\n",
        "col_ailrn_servo                  = '   ailrn,servo '\n",
        "col_ruddr_servo                  = '   ruddr,servo '\n",
        "\n",
        "cols_action = [\n",
        "    col_elev_servo,\n",
        "    col_ailrn_servo,\n",
        "    col_ruddr_servo\n",
        "]\n",
        "\n",
        "# all input columns\n",
        "cols_features = []\n",
        "cols_features.extend(cols_state)\n",
        "cols_features.extend(cols_action)\n",
        "\n",
        "# orga column\n",
        "col_dataset_index = 'dataset_index'\n",
        "col_maneuver_index = 'maneuver_index'\n",
        "col_maneuver_name = 'maneuver_name'\n",
        "col_maneuver_datapoint_index = 'maneuver_datapoint_index'\n",
        "col_maneuver_type = 'maneuver_type'\n",
        "\n",
        "\n",
        "label_prefix = 't+1_'\n",
        "cols_label = [label_prefix + col_state for col_state in cols_state]\n",
        "print(cols_label)\n"
      ],
      "execution_count": 6,
      "outputs": [
        {
          "output_type": "stream",
          "text": [
            "['t+1_   ____Q,rad/s ', 't+1_   _beta,__deg ', 't+1_   _roll,__deg ', 't+1_   ____R,rad/s ', 't+1_   pitch,__deg ', 't+1_   ____P,rad/s ', 't+1_   __VVI,__fpm ', 't+1_   __alt,ftmsl ', 't+1_   Vtrue,_ktas ', 't+1_   rpm_1,_prop ', 't+1_   thro1,_part ']\n"
          ],
          "name": "stdout"
        }
      ]
    },
    {
      "cell_type": "markdown",
      "metadata": {
        "id": "gDSNkVBaDv2V",
        "colab_type": "text"
      },
      "source": [
        "## load data"
      ]
    },
    {
      "cell_type": "code",
      "metadata": {
        "id": "uByPEHX3fS2G",
        "colab_type": "code",
        "outputId": "03928300-9c0b-441d-ff8f-dc0060276c80",
        "colab": {
          "base_uri": "https://localhost:8080/",
          "height": 52
        }
      },
      "source": [
        "def load_xplane_csv(csv_path, columns):\n",
        "    return pd.read_csv(csv_path, delimiter=',', usecols = columns, \n",
        "                       float_precision='high')\n",
        "\n",
        "df_features = load_xplane_csv(file, cols_features)\n",
        "\n",
        "df_labels = load_xplane_csv(file, cols_label)\n",
        "\n",
        "print(len(df_features))\n",
        "print(len(df_labels))\n",
        "assert(len(df_features) == len(df_labels))\n"
      ],
      "execution_count": 7,
      "outputs": [
        {
          "output_type": "stream",
          "text": [
            "477893\n",
            "477893\n"
          ],
          "name": "stdout"
        }
      ]
    },
    {
      "cell_type": "markdown",
      "metadata": {
        "id": "GFoo4xF1ECKM",
        "colab_type": "text"
      },
      "source": [
        "## drop nan in features and labels"
      ]
    },
    {
      "cell_type": "markdown",
      "metadata": {
        "id": "zZ-jcsk-LoRs",
        "colab_type": "text"
      },
      "source": [
        "drop nan rows in both features and in labels"
      ]
    },
    {
      "cell_type": "code",
      "metadata": {
        "id": "d9ERQNmbLnkB",
        "colab_type": "code",
        "outputId": "64951d74-43f8-4204-96e1-75c6451e6097",
        "colab": {
          "base_uri": "https://localhost:8080/",
          "height": 52
        }
      },
      "source": [
        "df_nan = df_labels.isna().any(axis=1)\n",
        "\n",
        "for i in range(0, len(df_nan)):\n",
        "  if df_nan[i] == True:\n",
        "    df_features.drop(index=i, inplace=True)\n",
        "\n",
        "df_labels.dropna(inplace=True)\n",
        "\n",
        "print(len(df_features))\n",
        "print(len(df_labels))"
      ],
      "execution_count": 8,
      "outputs": [
        {
          "output_type": "stream",
          "text": [
            "477290\n",
            "477290\n"
          ],
          "name": "stdout"
        }
      ]
    },
    {
      "cell_type": "code",
      "metadata": {
        "id": "QrIc5hWyvzkK",
        "colab_type": "code",
        "colab": {}
      },
      "source": [
        "def split_train_test(dataset):\n",
        "  train_size = int(len(dataset) * 0.67)\n",
        "  test_size = len(dataset) - train_size\n",
        "  train, test = dataset[0:train_size,:], dataset[train_size:len(dataset),:]\n",
        "  return train, test\n"
      ],
      "execution_count": 0,
      "outputs": []
    },
    {
      "cell_type": "markdown",
      "metadata": {
        "id": "sWg6-HwsEKZ7",
        "colab_type": "text"
      },
      "source": [
        "## split data"
      ]
    },
    {
      "cell_type": "code",
      "metadata": {
        "id": "RW9vgEExoYB8",
        "colab_type": "code",
        "colab": {}
      },
      "source": [
        "features = df_features.values\n",
        "labels = df_labels.values"
      ],
      "execution_count": 0,
      "outputs": []
    },
    {
      "cell_type": "code",
      "metadata": {
        "id": "wFF9QfAdv8CQ",
        "colab_type": "code",
        "colab": {}
      },
      "source": [
        "train_X, test_X, train_Y, test_Y  = train_test_split(features,labels, test_size=0.2, random_state=42)"
      ],
      "execution_count": 0,
      "outputs": []
    },
    {
      "cell_type": "code",
      "metadata": {
        "id": "YpDcgWG3LiCO",
        "colab_type": "code",
        "outputId": "44a7e820-2487-41bc-e8be-4b42c29f1c92",
        "colab": {
          "base_uri": "https://localhost:8080/",
          "height": 88
        }
      },
      "source": [
        "print(train_X.shape)\n",
        "print(train_Y.shape)\n",
        "print(test_X.shape)\n",
        "print(test_Y.shape)"
      ],
      "execution_count": 12,
      "outputs": [
        {
          "output_type": "stream",
          "text": [
            "(381832, 14)\n",
            "(381832, 11)\n",
            "(95458, 14)\n",
            "(95458, 11)\n"
          ],
          "name": "stdout"
        }
      ]
    },
    {
      "cell_type": "markdown",
      "metadata": {
        "id": "8iyEoupyiORe",
        "colab_type": "text"
      },
      "source": [
        "## scale data"
      ]
    },
    {
      "cell_type": "code",
      "metadata": {
        "id": "DexT4psKoaPF",
        "colab_type": "code",
        "colab": {}
      },
      "source": [
        "feature_scaler = MinMaxScaler()\n",
        "feature_scaler.fit(train_X)\n",
        "\n",
        "train_X = feature_scaler.transform(train_X)\n",
        "test_X = feature_scaler.transform(test_X)\n"
      ],
      "execution_count": 0,
      "outputs": []
    },
    {
      "cell_type": "code",
      "metadata": {
        "id": "PAm6Gm6TqoEw",
        "colab_type": "code",
        "colab": {}
      },
      "source": [
        "label_scaler = MinMaxScaler()\n",
        "label_scaler.fit(train_Y)\n",
        "\n",
        "train_Y = label_scaler.transform(train_Y)\n",
        "test_Y = label_scaler.transform(test_Y)"
      ],
      "execution_count": 0,
      "outputs": []
    },
    {
      "cell_type": "code",
      "metadata": {
        "id": "Ew0U2dwl1TuN",
        "colab_type": "code",
        "colab": {}
      },
      "source": [
        "# create scaled df\n",
        "scaled_df_features = pd.DataFrame(feature_scaler.transform(df_features), columns=df_features.columns)\n",
        "scaled_df_labels = pd.DataFrame(label_scaler.transform(df_labels), columns=df_labels.columns)"
      ],
      "execution_count": 0,
      "outputs": []
    },
    {
      "cell_type": "code",
      "metadata": {
        "id": "jjMPJ7gH1p_O",
        "colab_type": "code",
        "outputId": "49482549-1a65-4e3a-d3a8-44e3ee3e7ccf",
        "colab": {
          "base_uri": "https://localhost:8080/",
          "height": 320
        }
      },
      "source": [
        "df_features.describe()"
      ],
      "execution_count": 16,
      "outputs": [
        {
          "output_type": "execute_result",
          "data": {
            "text/html": [
              "<div>\n",
              "<style scoped>\n",
              "    .dataframe tbody tr th:only-of-type {\n",
              "        vertical-align: middle;\n",
              "    }\n",
              "\n",
              "    .dataframe tbody tr th {\n",
              "        vertical-align: top;\n",
              "    }\n",
              "\n",
              "    .dataframe thead th {\n",
              "        text-align: right;\n",
              "    }\n",
              "</style>\n",
              "<table border=\"1\" class=\"dataframe\">\n",
              "  <thead>\n",
              "    <tr style=\"text-align: right;\">\n",
              "      <th></th>\n",
              "      <th>Vtrue,_ktas</th>\n",
              "      <th>__VVI,__fpm</th>\n",
              "      <th>____Q,rad/s</th>\n",
              "      <th>____P,rad/s</th>\n",
              "      <th>____R,rad/s</th>\n",
              "      <th>pitch,__deg</th>\n",
              "      <th>_roll,__deg</th>\n",
              "      <th>_beta,__deg</th>\n",
              "      <th>__alt,ftmsl</th>\n",
              "      <th>thro1,_part</th>\n",
              "      <th>rpm_1,_prop</th>\n",
              "      <th>_elev,servo</th>\n",
              "      <th>ailrn,servo</th>\n",
              "      <th>ruddr,servo</th>\n",
              "    </tr>\n",
              "  </thead>\n",
              "  <tbody>\n",
              "    <tr>\n",
              "      <th>count</th>\n",
              "      <td>477290.000000</td>\n",
              "      <td>477290.000000</td>\n",
              "      <td>477290.000000</td>\n",
              "      <td>477290.000000</td>\n",
              "      <td>477290.000000</td>\n",
              "      <td>477290.000000</td>\n",
              "      <td>477290.000000</td>\n",
              "      <td>477290.000000</td>\n",
              "      <td>477290.000000</td>\n",
              "      <td>477290.000000</td>\n",
              "      <td>477290.000000</td>\n",
              "      <td>477290.000000</td>\n",
              "      <td>477290.000000</td>\n",
              "      <td>477290.0</td>\n",
              "    </tr>\n",
              "    <tr>\n",
              "      <th>mean</th>\n",
              "      <td>119.567353</td>\n",
              "      <td>31.868167</td>\n",
              "      <td>0.003814</td>\n",
              "      <td>-0.000023</td>\n",
              "      <td>-0.001840</td>\n",
              "      <td>-0.653563</td>\n",
              "      <td>-0.791051</td>\n",
              "      <td>0.006402</td>\n",
              "      <td>2714.494715</td>\n",
              "      <td>0.837601</td>\n",
              "      <td>2490.420838</td>\n",
              "      <td>-0.000023</td>\n",
              "      <td>-0.014557</td>\n",
              "      <td>0.0</td>\n",
              "    </tr>\n",
              "    <tr>\n",
              "      <th>std</th>\n",
              "      <td>10.113279</td>\n",
              "      <td>274.992679</td>\n",
              "      <td>0.007108</td>\n",
              "      <td>0.017348</td>\n",
              "      <td>0.023905</td>\n",
              "      <td>1.684671</td>\n",
              "      <td>8.876412</td>\n",
              "      <td>0.137679</td>\n",
              "      <td>1357.480837</td>\n",
              "      <td>0.082115</td>\n",
              "      <td>127.216137</td>\n",
              "      <td>0.002304</td>\n",
              "      <td>0.022662</td>\n",
              "      <td>0.0</td>\n",
              "    </tr>\n",
              "    <tr>\n",
              "      <th>min</th>\n",
              "      <td>66.424780</td>\n",
              "      <td>-1917.888180</td>\n",
              "      <td>-0.039450</td>\n",
              "      <td>-0.109810</td>\n",
              "      <td>-0.054820</td>\n",
              "      <td>-9.313510</td>\n",
              "      <td>-23.851520</td>\n",
              "      <td>-0.689970</td>\n",
              "      <td>805.092900</td>\n",
              "      <td>0.796080</td>\n",
              "      <td>2106.257810</td>\n",
              "      <td>-0.089790</td>\n",
              "      <td>-0.159740</td>\n",
              "      <td>0.0</td>\n",
              "    </tr>\n",
              "    <tr>\n",
              "      <th>25%</th>\n",
              "      <td>116.120002</td>\n",
              "      <td>-38.766265</td>\n",
              "      <td>-0.000010</td>\n",
              "      <td>-0.000410</td>\n",
              "      <td>-0.010880</td>\n",
              "      <td>-1.284538</td>\n",
              "      <td>-4.070882</td>\n",
              "      <td>-0.082300</td>\n",
              "      <td>1411.464812</td>\n",
              "      <td>0.796080</td>\n",
              "      <td>2424.051882</td>\n",
              "      <td>-0.000110</td>\n",
              "      <td>-0.017030</td>\n",
              "      <td>0.0</td>\n",
              "    </tr>\n",
              "    <tr>\n",
              "      <th>50%</th>\n",
              "      <td>118.825780</td>\n",
              "      <td>0.342395</td>\n",
              "      <td>0.001120</td>\n",
              "      <td>-0.000000</td>\n",
              "      <td>-0.000020</td>\n",
              "      <td>-0.787040</td>\n",
              "      <td>-0.104720</td>\n",
              "      <td>0.004390</td>\n",
              "      <td>2622.403565</td>\n",
              "      <td>0.796080</td>\n",
              "      <td>2458.394655</td>\n",
              "      <td>0.000000</td>\n",
              "      <td>-0.015220</td>\n",
              "      <td>0.0</td>\n",
              "    </tr>\n",
              "    <tr>\n",
              "      <th>75%</th>\n",
              "      <td>122.744895</td>\n",
              "      <td>165.376283</td>\n",
              "      <td>0.010170</td>\n",
              "      <td>0.000390</td>\n",
              "      <td>0.000847</td>\n",
              "      <td>-0.151363</td>\n",
              "      <td>0.212638</td>\n",
              "      <td>0.073260</td>\n",
              "      <td>3896.206053</td>\n",
              "      <td>0.796080</td>\n",
              "      <td>2504.543460</td>\n",
              "      <td>0.000070</td>\n",
              "      <td>-0.011370</td>\n",
              "      <td>0.0</td>\n",
              "    </tr>\n",
              "    <tr>\n",
              "      <th>max</th>\n",
              "      <td>155.436650</td>\n",
              "      <td>978.538330</td>\n",
              "      <td>0.041650</td>\n",
              "      <td>0.111310</td>\n",
              "      <td>0.055400</td>\n",
              "      <td>11.796170</td>\n",
              "      <td>25.924920</td>\n",
              "      <td>0.353550</td>\n",
              "      <td>5080.888180</td>\n",
              "      <td>1.000000</td>\n",
              "      <td>2811.808840</td>\n",
              "      <td>0.045100</td>\n",
              "      <td>0.124900</td>\n",
              "      <td>0.0</td>\n",
              "    </tr>\n",
              "  </tbody>\n",
              "</table>\n",
              "</div>"
            ],
            "text/plain": [
              "          Vtrue,_ktas      __VVI,__fpm   ...     ailrn,servo      ruddr,servo \n",
              "count    477290.000000    477290.000000  ...    477290.000000         477290.0\n",
              "mean        119.567353        31.868167  ...        -0.014557              0.0\n",
              "std          10.113279       274.992679  ...         0.022662              0.0\n",
              "min          66.424780     -1917.888180  ...        -0.159740              0.0\n",
              "25%         116.120002       -38.766265  ...        -0.017030              0.0\n",
              "50%         118.825780         0.342395  ...        -0.015220              0.0\n",
              "75%         122.744895       165.376283  ...        -0.011370              0.0\n",
              "max         155.436650       978.538330  ...         0.124900              0.0\n",
              "\n",
              "[8 rows x 14 columns]"
            ]
          },
          "metadata": {
            "tags": []
          },
          "execution_count": 16
        }
      ]
    },
    {
      "cell_type": "code",
      "metadata": {
        "id": "yYHbRVEG4Q6U",
        "colab_type": "code",
        "outputId": "286429a7-46f6-4902-a6c0-84e463f7b50a",
        "colab": {
          "base_uri": "https://localhost:8080/",
          "height": 320
        }
      },
      "source": [
        "scaled_df_features.describe()"
      ],
      "execution_count": 17,
      "outputs": [
        {
          "output_type": "execute_result",
          "data": {
            "text/html": [
              "<div>\n",
              "<style scoped>\n",
              "    .dataframe tbody tr th:only-of-type {\n",
              "        vertical-align: middle;\n",
              "    }\n",
              "\n",
              "    .dataframe tbody tr th {\n",
              "        vertical-align: top;\n",
              "    }\n",
              "\n",
              "    .dataframe thead th {\n",
              "        text-align: right;\n",
              "    }\n",
              "</style>\n",
              "<table border=\"1\" class=\"dataframe\">\n",
              "  <thead>\n",
              "    <tr style=\"text-align: right;\">\n",
              "      <th></th>\n",
              "      <th>Vtrue,_ktas</th>\n",
              "      <th>__VVI,__fpm</th>\n",
              "      <th>____Q,rad/s</th>\n",
              "      <th>____P,rad/s</th>\n",
              "      <th>____R,rad/s</th>\n",
              "      <th>pitch,__deg</th>\n",
              "      <th>_roll,__deg</th>\n",
              "      <th>_beta,__deg</th>\n",
              "      <th>__alt,ftmsl</th>\n",
              "      <th>thro1,_part</th>\n",
              "      <th>rpm_1,_prop</th>\n",
              "      <th>_elev,servo</th>\n",
              "      <th>ailrn,servo</th>\n",
              "      <th>ruddr,servo</th>\n",
              "    </tr>\n",
              "  </thead>\n",
              "  <tbody>\n",
              "    <tr>\n",
              "      <th>count</th>\n",
              "      <td>477290.000000</td>\n",
              "      <td>477290.000000</td>\n",
              "      <td>477290.000000</td>\n",
              "      <td>477290.000000</td>\n",
              "      <td>477290.000000</td>\n",
              "      <td>477290.000000</td>\n",
              "      <td>477290.000000</td>\n",
              "      <td>477290.000000</td>\n",
              "      <td>4.772900e+05</td>\n",
              "      <td>477290.000000</td>\n",
              "      <td>477290.000000</td>\n",
              "      <td>477290.000000</td>\n",
              "      <td>477290.000000</td>\n",
              "      <td>477290.0</td>\n",
              "    </tr>\n",
              "    <tr>\n",
              "      <th>mean</th>\n",
              "      <td>0.597028</td>\n",
              "      <td>0.673159</td>\n",
              "      <td>0.533466</td>\n",
              "      <td>0.496506</td>\n",
              "      <td>0.480678</td>\n",
              "      <td>0.410273</td>\n",
              "      <td>0.463281</td>\n",
              "      <td>0.667330</td>\n",
              "      <td>4.465606e-01</td>\n",
              "      <td>0.203613</td>\n",
              "      <td>0.544487</td>\n",
              "      <td>0.665484</td>\n",
              "      <td>0.510059</td>\n",
              "      <td>0.0</td>\n",
              "    </tr>\n",
              "    <tr>\n",
              "      <th>std</th>\n",
              "      <td>0.113617</td>\n",
              "      <td>0.094942</td>\n",
              "      <td>0.087647</td>\n",
              "      <td>0.078456</td>\n",
              "      <td>0.216880</td>\n",
              "      <td>0.079813</td>\n",
              "      <td>0.178326</td>\n",
              "      <td>0.131938</td>\n",
              "      <td>3.174807e-01</td>\n",
              "      <td>0.402681</td>\n",
              "      <td>0.180307</td>\n",
              "      <td>0.017080</td>\n",
              "      <td>0.079616</td>\n",
              "      <td>0.0</td>\n",
              "    </tr>\n",
              "    <tr>\n",
              "      <th>min</th>\n",
              "      <td>0.000000</td>\n",
              "      <td>0.000000</td>\n",
              "      <td>0.000000</td>\n",
              "      <td>0.000000</td>\n",
              "      <td>0.000000</td>\n",
              "      <td>0.000000</td>\n",
              "      <td>0.000000</td>\n",
              "      <td>0.000000</td>\n",
              "      <td>-5.566223e-07</td>\n",
              "      <td>0.000000</td>\n",
              "      <td>0.000000</td>\n",
              "      <td>0.000000</td>\n",
              "      <td>0.000000</td>\n",
              "      <td>0.0</td>\n",
              "    </tr>\n",
              "    <tr>\n",
              "      <th>25%</th>\n",
              "      <td>0.558299</td>\n",
              "      <td>0.648773</td>\n",
              "      <td>0.486313</td>\n",
              "      <td>0.494754</td>\n",
              "      <td>0.398657</td>\n",
              "      <td>0.380380</td>\n",
              "      <td>0.397390</td>\n",
              "      <td>0.582327</td>\n",
              "      <td>1.418146e-01</td>\n",
              "      <td>0.000000</td>\n",
              "      <td>0.450420</td>\n",
              "      <td>0.664838</td>\n",
              "      <td>0.501370</td>\n",
              "      <td>0.0</td>\n",
              "    </tr>\n",
              "    <tr>\n",
              "      <th>50%</th>\n",
              "      <td>0.588697</td>\n",
              "      <td>0.662275</td>\n",
              "      <td>0.500247</td>\n",
              "      <td>0.496608</td>\n",
              "      <td>0.497187</td>\n",
              "      <td>0.403949</td>\n",
              "      <td>0.477069</td>\n",
              "      <td>0.665402</td>\n",
              "      <td>4.250228e-01</td>\n",
              "      <td>0.000000</td>\n",
              "      <td>0.499095</td>\n",
              "      <td>0.665653</td>\n",
              "      <td>0.507729</td>\n",
              "      <td>0.0</td>\n",
              "    </tr>\n",
              "    <tr>\n",
              "      <th>75%</th>\n",
              "      <td>0.632726</td>\n",
              "      <td>0.719253</td>\n",
              "      <td>0.611837</td>\n",
              "      <td>0.498372</td>\n",
              "      <td>0.505058</td>\n",
              "      <td>0.434065</td>\n",
              "      <td>0.483445</td>\n",
              "      <td>0.731399</td>\n",
              "      <td>7.229333e-01</td>\n",
              "      <td>0.000000</td>\n",
              "      <td>0.564503</td>\n",
              "      <td>0.666172</td>\n",
              "      <td>0.521255</td>\n",
              "      <td>0.0</td>\n",
              "    </tr>\n",
              "    <tr>\n",
              "      <th>max</th>\n",
              "      <td>1.000000</td>\n",
              "      <td>1.000000</td>\n",
              "      <td>1.000000</td>\n",
              "      <td>1.000000</td>\n",
              "      <td>1.000000</td>\n",
              "      <td>1.000090</td>\n",
              "      <td>1.000000</td>\n",
              "      <td>1.000000</td>\n",
              "      <td>1.000001e+00</td>\n",
              "      <td>1.000000</td>\n",
              "      <td>1.000000</td>\n",
              "      <td>1.000000</td>\n",
              "      <td>1.000000</td>\n",
              "      <td>0.0</td>\n",
              "    </tr>\n",
              "  </tbody>\n",
              "</table>\n",
              "</div>"
            ],
            "text/plain": [
              "          Vtrue,_ktas      __VVI,__fpm   ...     ailrn,servo      ruddr,servo \n",
              "count    477290.000000    477290.000000  ...    477290.000000         477290.0\n",
              "mean          0.597028         0.673159  ...         0.510059              0.0\n",
              "std           0.113617         0.094942  ...         0.079616              0.0\n",
              "min           0.000000         0.000000  ...         0.000000              0.0\n",
              "25%           0.558299         0.648773  ...         0.501370              0.0\n",
              "50%           0.588697         0.662275  ...         0.507729              0.0\n",
              "75%           0.632726         0.719253  ...         0.521255              0.0\n",
              "max           1.000000         1.000000  ...         1.000000              0.0\n",
              "\n",
              "[8 rows x 14 columns]"
            ]
          },
          "metadata": {
            "tags": []
          },
          "execution_count": 17
        }
      ]
    },
    {
      "cell_type": "code",
      "metadata": {
        "id": "GivIW68e2R18",
        "colab_type": "code",
        "outputId": "678c6785-009d-4ca9-80dd-7cebb7c47688",
        "colab": {
          "base_uri": "https://localhost:8080/",
          "height": 337
        }
      },
      "source": [
        "df_labels.describe()"
      ],
      "execution_count": 18,
      "outputs": [
        {
          "output_type": "execute_result",
          "data": {
            "text/html": [
              "<div>\n",
              "<style scoped>\n",
              "    .dataframe tbody tr th:only-of-type {\n",
              "        vertical-align: middle;\n",
              "    }\n",
              "\n",
              "    .dataframe tbody tr th {\n",
              "        vertical-align: top;\n",
              "    }\n",
              "\n",
              "    .dataframe thead th {\n",
              "        text-align: right;\n",
              "    }\n",
              "</style>\n",
              "<table border=\"1\" class=\"dataframe\">\n",
              "  <thead>\n",
              "    <tr style=\"text-align: right;\">\n",
              "      <th></th>\n",
              "      <th>t+1_   ____Q,rad/s</th>\n",
              "      <th>t+1_   _beta,__deg</th>\n",
              "      <th>t+1_   _roll,__deg</th>\n",
              "      <th>t+1_   ____R,rad/s</th>\n",
              "      <th>t+1_   pitch,__deg</th>\n",
              "      <th>t+1_   ____P,rad/s</th>\n",
              "      <th>t+1_   __VVI,__fpm</th>\n",
              "      <th>t+1_   __alt,ftmsl</th>\n",
              "      <th>t+1_   Vtrue,_ktas</th>\n",
              "      <th>t+1_   rpm_1,_prop</th>\n",
              "      <th>t+1_   thro1,_part</th>\n",
              "    </tr>\n",
              "  </thead>\n",
              "  <tbody>\n",
              "    <tr>\n",
              "      <th>count</th>\n",
              "      <td>477290.000000</td>\n",
              "      <td>477290.000000</td>\n",
              "      <td>477290.000000</td>\n",
              "      <td>477290.000000</td>\n",
              "      <td>477290.000000</td>\n",
              "      <td>477290.000000</td>\n",
              "      <td>477290.000000</td>\n",
              "      <td>477290.000000</td>\n",
              "      <td>477290.000000</td>\n",
              "      <td>477290.000000</td>\n",
              "      <td>477290.000000</td>\n",
              "    </tr>\n",
              "    <tr>\n",
              "      <th>mean</th>\n",
              "      <td>0.003815</td>\n",
              "      <td>0.006402</td>\n",
              "      <td>-0.791050</td>\n",
              "      <td>-0.001840</td>\n",
              "      <td>-0.653565</td>\n",
              "      <td>-0.000023</td>\n",
              "      <td>31.866864</td>\n",
              "      <td>2714.494657</td>\n",
              "      <td>119.567394</td>\n",
              "      <td>2490.421446</td>\n",
              "      <td>0.837601</td>\n",
              "    </tr>\n",
              "    <tr>\n",
              "      <th>std</th>\n",
              "      <td>0.007105</td>\n",
              "      <td>0.137680</td>\n",
              "      <td>8.876411</td>\n",
              "      <td>0.023905</td>\n",
              "      <td>1.684673</td>\n",
              "      <td>0.017348</td>\n",
              "      <td>274.991234</td>\n",
              "      <td>1357.480898</td>\n",
              "      <td>10.113312</td>\n",
              "      <td>127.216670</td>\n",
              "      <td>0.082115</td>\n",
              "    </tr>\n",
              "    <tr>\n",
              "      <th>min</th>\n",
              "      <td>-0.038680</td>\n",
              "      <td>-0.689970</td>\n",
              "      <td>-23.851520</td>\n",
              "      <td>-0.054820</td>\n",
              "      <td>-9.313510</td>\n",
              "      <td>-0.109810</td>\n",
              "      <td>-1917.888180</td>\n",
              "      <td>805.092900</td>\n",
              "      <td>66.424780</td>\n",
              "      <td>2106.257810</td>\n",
              "      <td>0.796080</td>\n",
              "    </tr>\n",
              "    <tr>\n",
              "      <th>25%</th>\n",
              "      <td>-0.000010</td>\n",
              "      <td>-0.082300</td>\n",
              "      <td>-4.070882</td>\n",
              "      <td>-0.010888</td>\n",
              "      <td>-1.284488</td>\n",
              "      <td>-0.000410</td>\n",
              "      <td>-38.766265</td>\n",
              "      <td>1411.464812</td>\n",
              "      <td>116.120015</td>\n",
              "      <td>2424.051882</td>\n",
              "      <td>0.796080</td>\n",
              "    </tr>\n",
              "    <tr>\n",
              "      <th>50%</th>\n",
              "      <td>0.001120</td>\n",
              "      <td>0.004390</td>\n",
              "      <td>-0.104720</td>\n",
              "      <td>-0.000020</td>\n",
              "      <td>-0.787045</td>\n",
              "      <td>0.000000</td>\n",
              "      <td>0.342395</td>\n",
              "      <td>2622.403565</td>\n",
              "      <td>118.825780</td>\n",
              "      <td>2458.394900</td>\n",
              "      <td>0.796080</td>\n",
              "    </tr>\n",
              "    <tr>\n",
              "      <th>75%</th>\n",
              "      <td>0.010160</td>\n",
              "      <td>0.073260</td>\n",
              "      <td>0.212860</td>\n",
              "      <td>0.000850</td>\n",
              "      <td>-0.151363</td>\n",
              "      <td>0.000390</td>\n",
              "      <td>165.372623</td>\n",
              "      <td>3896.206053</td>\n",
              "      <td>122.745007</td>\n",
              "      <td>2504.543950</td>\n",
              "      <td>0.796080</td>\n",
              "    </tr>\n",
              "    <tr>\n",
              "      <th>max</th>\n",
              "      <td>0.041650</td>\n",
              "      <td>0.353550</td>\n",
              "      <td>25.924920</td>\n",
              "      <td>0.055400</td>\n",
              "      <td>11.796170</td>\n",
              "      <td>0.111310</td>\n",
              "      <td>978.538330</td>\n",
              "      <td>5080.888180</td>\n",
              "      <td>155.436650</td>\n",
              "      <td>2811.808840</td>\n",
              "      <td>1.000000</td>\n",
              "    </tr>\n",
              "  </tbody>\n",
              "</table>\n",
              "</div>"
            ],
            "text/plain": [
              "       t+1_   ____Q,rad/s   ...  t+1_   thro1,_part \n",
              "count        477290.000000  ...        477290.000000\n",
              "mean              0.003815  ...             0.837601\n",
              "std               0.007105  ...             0.082115\n",
              "min              -0.038680  ...             0.796080\n",
              "25%              -0.000010  ...             0.796080\n",
              "50%               0.001120  ...             0.796080\n",
              "75%               0.010160  ...             0.796080\n",
              "max               0.041650  ...             1.000000\n",
              "\n",
              "[8 rows x 11 columns]"
            ]
          },
          "metadata": {
            "tags": []
          },
          "execution_count": 18
        }
      ]
    },
    {
      "cell_type": "code",
      "metadata": {
        "id": "ovbayfsz4V26",
        "colab_type": "code",
        "outputId": "794feb82-c8fa-4e6f-cc30-cd81301b94cd",
        "colab": {
          "base_uri": "https://localhost:8080/",
          "height": 337
        }
      },
      "source": [
        "scaled_df_labels.describe()"
      ],
      "execution_count": 19,
      "outputs": [
        {
          "output_type": "execute_result",
          "data": {
            "text/html": [
              "<div>\n",
              "<style scoped>\n",
              "    .dataframe tbody tr th:only-of-type {\n",
              "        vertical-align: middle;\n",
              "    }\n",
              "\n",
              "    .dataframe tbody tr th {\n",
              "        vertical-align: top;\n",
              "    }\n",
              "\n",
              "    .dataframe thead th {\n",
              "        text-align: right;\n",
              "    }\n",
              "</style>\n",
              "<table border=\"1\" class=\"dataframe\">\n",
              "  <thead>\n",
              "    <tr style=\"text-align: right;\">\n",
              "      <th></th>\n",
              "      <th>t+1_   ____Q,rad/s</th>\n",
              "      <th>t+1_   _beta,__deg</th>\n",
              "      <th>t+1_   _roll,__deg</th>\n",
              "      <th>t+1_   ____R,rad/s</th>\n",
              "      <th>t+1_   pitch,__deg</th>\n",
              "      <th>t+1_   ____P,rad/s</th>\n",
              "      <th>t+1_   __VVI,__fpm</th>\n",
              "      <th>t+1_   __alt,ftmsl</th>\n",
              "      <th>t+1_   Vtrue,_ktas</th>\n",
              "      <th>t+1_   rpm_1,_prop</th>\n",
              "      <th>t+1_   thro1,_part</th>\n",
              "    </tr>\n",
              "  </thead>\n",
              "  <tbody>\n",
              "    <tr>\n",
              "      <th>count</th>\n",
              "      <td>477290.000000</td>\n",
              "      <td>477290.000000</td>\n",
              "      <td>477290.000000</td>\n",
              "      <td>477290.000000</td>\n",
              "      <td>477290.000000</td>\n",
              "      <td>477290.000000</td>\n",
              "      <td>477290.000000</td>\n",
              "      <td>477290.000000</td>\n",
              "      <td>477290.000000</td>\n",
              "      <td>477290.000000</td>\n",
              "      <td>477290.000000</td>\n",
              "    </tr>\n",
              "    <tr>\n",
              "      <th>mean</th>\n",
              "      <td>0.529000</td>\n",
              "      <td>0.667368</td>\n",
              "      <td>0.463281</td>\n",
              "      <td>0.480678</td>\n",
              "      <td>0.410236</td>\n",
              "      <td>0.496619</td>\n",
              "      <td>0.673159</td>\n",
              "      <td>0.446561</td>\n",
              "      <td>0.597028</td>\n",
              "      <td>0.544487</td>\n",
              "      <td>0.203615</td>\n",
              "    </tr>\n",
              "    <tr>\n",
              "      <th>std</th>\n",
              "      <td>0.088447</td>\n",
              "      <td>0.131945</td>\n",
              "      <td>0.178326</td>\n",
              "      <td>0.216880</td>\n",
              "      <td>0.079806</td>\n",
              "      <td>0.078474</td>\n",
              "      <td>0.094942</td>\n",
              "      <td>0.317480</td>\n",
              "      <td>0.113618</td>\n",
              "      <td>0.180308</td>\n",
              "      <td>0.402682</td>\n",
              "    </tr>\n",
              "    <tr>\n",
              "      <th>min</th>\n",
              "      <td>0.000000</td>\n",
              "      <td>0.000000</td>\n",
              "      <td>0.000000</td>\n",
              "      <td>0.000000</td>\n",
              "      <td>0.000000</td>\n",
              "      <td>0.000000</td>\n",
              "      <td>0.000000</td>\n",
              "      <td>0.000000</td>\n",
              "      <td>0.000000</td>\n",
              "      <td>0.000000</td>\n",
              "      <td>0.000000</td>\n",
              "    </tr>\n",
              "    <tr>\n",
              "      <th>25%</th>\n",
              "      <td>0.481389</td>\n",
              "      <td>0.582361</td>\n",
              "      <td>0.397390</td>\n",
              "      <td>0.398589</td>\n",
              "      <td>0.380348</td>\n",
              "      <td>0.494866</td>\n",
              "      <td>0.648773</td>\n",
              "      <td>0.141815</td>\n",
              "      <td>0.558299</td>\n",
              "      <td>0.450420</td>\n",
              "      <td>0.000000</td>\n",
              "    </tr>\n",
              "    <tr>\n",
              "      <th>50%</th>\n",
              "      <td>0.495456</td>\n",
              "      <td>0.665440</td>\n",
              "      <td>0.477069</td>\n",
              "      <td>0.497187</td>\n",
              "      <td>0.403913</td>\n",
              "      <td>0.496720</td>\n",
              "      <td>0.662275</td>\n",
              "      <td>0.425023</td>\n",
              "      <td>0.588697</td>\n",
              "      <td>0.499095</td>\n",
              "      <td>0.000000</td>\n",
              "    </tr>\n",
              "    <tr>\n",
              "      <th>75%</th>\n",
              "      <td>0.607992</td>\n",
              "      <td>0.731442</td>\n",
              "      <td>0.483449</td>\n",
              "      <td>0.505081</td>\n",
              "      <td>0.434026</td>\n",
              "      <td>0.498485</td>\n",
              "      <td>0.719252</td>\n",
              "      <td>0.722933</td>\n",
              "      <td>0.632727</td>\n",
              "      <td>0.564504</td>\n",
              "      <td>0.000000</td>\n",
              "    </tr>\n",
              "    <tr>\n",
              "      <th>max</th>\n",
              "      <td>1.000000</td>\n",
              "      <td>1.000058</td>\n",
              "      <td>1.000000</td>\n",
              "      <td>1.000000</td>\n",
              "      <td>1.000000</td>\n",
              "      <td>1.000226</td>\n",
              "      <td>1.000000</td>\n",
              "      <td>1.000000</td>\n",
              "      <td>1.000000</td>\n",
              "      <td>1.000000</td>\n",
              "      <td>1.000000</td>\n",
              "    </tr>\n",
              "  </tbody>\n",
              "</table>\n",
              "</div>"
            ],
            "text/plain": [
              "       t+1_   ____Q,rad/s   ...  t+1_   thro1,_part \n",
              "count        477290.000000  ...        477290.000000\n",
              "mean              0.529000  ...             0.203615\n",
              "std               0.088447  ...             0.402682\n",
              "min               0.000000  ...             0.000000\n",
              "25%               0.481389  ...             0.000000\n",
              "50%               0.495456  ...             0.000000\n",
              "75%               0.607992  ...             0.000000\n",
              "max               1.000000  ...             1.000000\n",
              "\n",
              "[8 rows x 11 columns]"
            ]
          },
          "metadata": {
            "tags": []
          },
          "execution_count": 19
        }
      ]
    },
    {
      "cell_type": "markdown",
      "metadata": {
        "id": "S_kDrS1qH7kc",
        "colab_type": "text"
      },
      "source": [
        "# train models"
      ]
    },
    {
      "cell_type": "markdown",
      "metadata": {
        "id": "rjgpogwABFhX",
        "colab_type": "text"
      },
      "source": [
        "## define callbacks functions"
      ]
    },
    {
      "cell_type": "code",
      "metadata": {
        "id": "18w_KQkpBFEY",
        "colab_type": "code",
        "colab": {}
      },
      "source": [
        "def prepare_tensorboard_callback(model_name=''):\n",
        "  logs_base_dir = \"./tensorbaord_logs\"\n",
        "  model_log_dir = datetime.datetime.now().strftime(\"%Y%m%d-%H%M%S\") + '_' + model_name\n",
        "  target_log_dir = os.path.join(logs_base_dir, model_log_dir)\n",
        "  os.makedirs(target_log_dir, exist_ok=True)\n",
        "  tensorboard_callback = tf.keras.callbacks.TensorBoard(target_log_dir, histogram_freq=1)\n",
        "  return tensorboard_callback\n"
      ],
      "execution_count": 0,
      "outputs": []
    },
    {
      "cell_type": "code",
      "metadata": {
        "id": "MYl_6s7sBMpy",
        "colab_type": "code",
        "colab": {}
      },
      "source": [
        "def prepare_checkpoint_callback(model_name):\n",
        "  checkpoint_base_dir = './checkpoints'\n",
        "  os.makedirs(checkpoint_base_dir, exist_ok=True)\n",
        "  filepath = os.path.join(checkpoint_base_dir, 'cp_'+ model_name)\n",
        "  cp_callback = tf.keras.callbacks.ModelCheckpoint(filepath=filepath,\n",
        "                                                  save_weights_only=True,\n",
        "                                                  verbose=1)\n",
        "  return cp_callback "
      ],
      "execution_count": 0,
      "outputs": []
    },
    {
      "cell_type": "markdown",
      "metadata": {
        "id": "3y07Q50xkLvG",
        "colab_type": "text"
      },
      "source": [
        "## define plot_and_save functions"
      ]
    },
    {
      "cell_type": "code",
      "metadata": {
        "id": "RPDma-JqgyaM",
        "colab_type": "code",
        "outputId": "5f6b16b1-cc61-4597-d96f-64b7c463d32e",
        "colab": {
          "base_uri": "https://localhost:8080/",
          "height": 35
        }
      },
      "source": [
        "base_folder = './results'\n",
        "notebook_folder = 'gridsearch_model_scaled'\n",
        "results_folder = os.path.join(base_folder, notebook_folder)\n",
        "os.makedirs(results_folder, exist_ok=True)\n",
        "print('results_folder : ', results_folder)\n",
        "\n",
        "saved_model_weight = 'saved_weights'\n",
        "saved_model_weight_path = os.path.join(results_folder, saved_model_weight)\n",
        "os.makedirs(saved_model_weight_path, exist_ok=True)\n"
      ],
      "execution_count": 22,
      "outputs": [
        {
          "output_type": "stream",
          "text": [
            "results_folder :  ./results/gridsearch_model_scaled\n"
          ],
          "name": "stdout"
        }
      ]
    },
    {
      "cell_type": "markdown",
      "metadata": {
        "id": "l8uMddMPkSc1",
        "colab_type": "text"
      },
      "source": [
        "### loss historie"
      ]
    },
    {
      "cell_type": "code",
      "metadata": {
        "id": "I9UHTxwnkWyp",
        "colab_type": "code",
        "colab": {}
      },
      "source": [
        "def save_plots_before_show(diagramm_name):\n",
        "  if not os.path.exists(results_folder):\n",
        "      os.makedirs(diagramm_folder)\n",
        "\n",
        "  plt.savefig(results_folder + '/' + diagramm_name +'.pdf')\n",
        "  plt.savefig(results_folder + '/' + diagramm_name +'.svg')\n",
        "  plt.savefig(results_folder + '/' + diagramm_name +'.png')\n",
        "\n",
        "def pas_history(model_tupels, histories, key='mean_squared_error'):\n",
        "  model_names = [model_tupel[0] for model_tupel in model_tupels]\n",
        "  plt.figure(figsize=(16,10))\n",
        "  for i, history in enumerate(histories):\n",
        "    history_epoch= range(0, len(history['loss']) )\n",
        "\n",
        "    val = plt.plot(history_epoch, history['val_'+key],\n",
        "                   '--', label=model_names[i]+' Val')\n",
        "    plt.plot(history_epoch, history[key], color=val[0].get_color(),\n",
        "             label=model_names[i]+' Train')\n",
        "\n",
        "  plt.xlabel('Epochs')\n",
        "  plt.yscale(\"log\")\n",
        "  plt.ylabel(key.replace('_',' ').title())\n",
        "  plt.legend()\n",
        "\n",
        "  plt.xlim([0,max(history_epoch)])\n",
        "  save_plots_before_show('history_loss'+'_'+key)\n",
        "  plt.show()"
      ],
      "execution_count": 0,
      "outputs": []
    },
    {
      "cell_type": "markdown",
      "metadata": {
        "id": "VJNfegiglg59",
        "colab_type": "text"
      },
      "source": [
        "### metrics (overall and for all single targets )\n",
        "\n"
      ]
    },
    {
      "cell_type": "code",
      "metadata": {
        "id": "be-UQiKHli16",
        "colab_type": "code",
        "colab": {}
      },
      "source": [
        "def pas_metrics_scaled(model_tupel):\n",
        "  model_name = model_tupel[0]\n",
        "  model = model_tupel[1]\n",
        "  df = _df_prediction_metrics(model, scaled=True)\n",
        "  file_path = os.path.join(results_folder, model_name + '_scaled.csv')\n",
        "  df.to_csv(path_or_buf=file_path)\n",
        "  return df\n",
        "  \n",
        "def pas_metrics(model_tupel):\n",
        "  model_name = model_tupel[0]\n",
        "  model = model_tupel[1]\n",
        "  df = _df_prediction_metrics(model, scaled=False)\n",
        "  file_path = os.path.join(results_folder, model_name + '.csv')\n",
        "  df.to_csv(path_or_buf=file_path)\n",
        "  return df\n",
        "\n",
        "\n",
        "def _df_prediction_metrics(model, scaled):\n",
        "  '''\n",
        "  creates describe dataframe of labels and \n",
        "  connect them with mse,rmse and mae per target and overall \n",
        "  '''\n",
        "  pred_Y = model.predict(test_X)\n",
        "  \n",
        "  if scaled:\n",
        "    labels = scaled_df_labels\n",
        "    truth_Y = test_Y\n",
        "  else:\n",
        "    labels = df_labels\n",
        "    pred_Y = label_scaler.inverse_transform(pred_Y)\n",
        "    truth_Y = label_scaler.inverse_transform(test_Y)\n",
        "\n",
        "\n",
        "  mses = mean_squared_error(truth_Y, pred_Y, multioutput='raw_values')\n",
        "  rmses = np.array([math.sqrt(mse) for mse in mses])\n",
        "  maes = mean_absolute_error(truth_Y, pred_Y, multioutput='raw_values')\n",
        "  # average over list should do the job as well\n",
        "  mse = mean_squared_error(truth_Y, pred_Y)\n",
        "  rmse = math.sqrt(mse)\n",
        "  mae = mean_absolute_error(truth_Y, pred_Y)\n",
        "\n",
        "\n",
        "  df_describe = labels.describe()\n",
        "  df_mse_per_feature = pd.DataFrame(data=mses.reshape(1,-1),    # values\n",
        "            index=['mses'],     # index\n",
        "            columns=labels.columns)  #  column names\n",
        "  df_rmse_per_feature = pd.DataFrame(data=rmses.reshape(1,-1),    # values\n",
        "        index=['rmes'],     # index\n",
        "        columns=labels.columns)  #  column names\n",
        "  df_mae_per_feature = pd.DataFrame(data=maes.reshape(1,-1),    # values\n",
        "        index=['maes'],     # index\n",
        "        columns=labels.columns)  #  column names\n",
        "  \n",
        "  \n",
        "  df_mse_all = pd.DataFrame(data=mse,    # values\n",
        "            index=['mse'],     # index\n",
        "            columns=labels.columns)  #  column names\n",
        "  df_rmse_all = pd.DataFrame(data=rmse,    # values\n",
        "        index=['rme'],     # index\n",
        "        columns=labels.columns)  #  column names\n",
        "  df_mae_all = pd.DataFrame(data=mae,    # values\n",
        "        index=['mae'],     # index\n",
        "        columns=labels.columns)  #  column names\n",
        "  \n",
        "\n",
        "  metrics = [df_mse_per_feature, df_rmse_per_feature, df_mae_per_feature, \n",
        "             df_mse_all,df_rmse_all,df_mae_all]\n",
        "  return df_describe.append(metrics)"
      ],
      "execution_count": 0,
      "outputs": []
    },
    {
      "cell_type": "markdown",
      "metadata": {
        "id": "4gaR7IV326E_",
        "colab_type": "text"
      },
      "source": [
        "## define models"
      ]
    },
    {
      "cell_type": "code",
      "metadata": {
        "id": "Fhc2M4VD2_YP",
        "colab_type": "code",
        "colab": {}
      },
      "source": [
        "features_nr = train_X.shape[1]\n",
        "target_nr = train_Y.shape[1]\n",
        "\n",
        "def create_model(model_name, layers, keras_activation, kernel_initializer, \n",
        "                 loss, metrics):\n",
        "  if not layers:\n",
        "    raise Exception('No layers defined. Expected in format [100,100]') \n",
        "\n",
        "  model = keras.Sequential(name=model_name)\n",
        "  \n",
        "  model.add(Dense(layers[0],input_shape=(features_nr,), \n",
        "                          kernel_initializer=kernel_initializer))\n",
        "  model.add(keras_activation())\n",
        "\n",
        "  for i in range(1, len(layers)):\n",
        "    layer_val = layers[i]\n",
        "    model.add(Dense(layer_val, kernel_initializer=kernel_initializer))\n",
        "    model.add(keras_activation())\n",
        "\n",
        "  model.add(Dense(target_nr ))\n",
        "\n",
        "  model.compile(optimizer='adam',\n",
        "                        loss=loss,\n",
        "                        metrics=metrics)\n",
        "\n",
        "  model.summary()\n",
        "  print(model.to_json())\n",
        "  return (model_name, model)\n"
      ],
      "execution_count": 0,
      "outputs": []
    },
    {
      "cell_type": "code",
      "metadata": {
        "id": "KwMj6E7mBL9m",
        "colab_type": "code",
        "outputId": "e8f94570-fffd-486b-ad1f-de1ddb6abb10",
        "colab": {
          "base_uri": "https://localhost:8080/",
          "height": 1000
        }
      },
      "source": [
        "keras_activation = ReLU\n",
        "kernel_initializer='he_uniform'\n",
        "loss='mean_squared_error',\n",
        "metrics=['mean_squared_error', 'mean_absolute_error']\n",
        "\n",
        "\n",
        "model1 = create_model('model1', [400, 400], keras_activation, kernel_initializer, \n",
        "             loss, metrics)\n",
        "\n",
        "model2 = create_model('model2', [200, 200], keras_activation, kernel_initializer, \n",
        "             loss, metrics)\n",
        "\n",
        "\n",
        "model3 = create_model('model3', [100, 100], keras_activation, kernel_initializer, \n",
        "             loss, metrics)\n",
        "\n",
        "model4 = create_model('model4', [200], keras_activation, kernel_initializer, \n",
        "             loss, metrics)\n",
        "\n",
        "\n",
        "models = [model1, model2, model3, model4]"
      ],
      "execution_count": 26,
      "outputs": [
        {
          "output_type": "stream",
          "text": [
            "Model: \"model1\"\n",
            "_________________________________________________________________\n",
            "Layer (type)                 Output Shape              Param #   \n",
            "=================================================================\n",
            "dense (Dense)                (None, 400)               6000      \n",
            "_________________________________________________________________\n",
            "re_lu (ReLU)                 (None, 400)               0         \n",
            "_________________________________________________________________\n",
            "dense_1 (Dense)              (None, 400)               160400    \n",
            "_________________________________________________________________\n",
            "re_lu_1 (ReLU)               (None, 400)               0         \n",
            "_________________________________________________________________\n",
            "dense_2 (Dense)              (None, 11)                4411      \n",
            "=================================================================\n",
            "Total params: 170,811\n",
            "Trainable params: 170,811\n",
            "Non-trainable params: 0\n",
            "_________________________________________________________________\n",
            "{\"class_name\": \"Sequential\", \"config\": {\"name\": \"model1\", \"layers\": [{\"class_name\": \"Dense\", \"config\": {\"name\": \"dense\", \"trainable\": true, \"batch_input_shape\": [null, 14], \"dtype\": \"float32\", \"units\": 400, \"activation\": \"linear\", \"use_bias\": true, \"kernel_initializer\": {\"class_name\": \"VarianceScaling\", \"config\": {\"scale\": 2.0, \"mode\": \"fan_in\", \"distribution\": \"uniform\", \"seed\": null}}, \"bias_initializer\": {\"class_name\": \"Zeros\", \"config\": {}}, \"kernel_regularizer\": null, \"bias_regularizer\": null, \"activity_regularizer\": null, \"kernel_constraint\": null, \"bias_constraint\": null}}, {\"class_name\": \"ReLU\", \"config\": {\"name\": \"re_lu\", \"trainable\": true, \"dtype\": \"float32\", \"max_value\": null, \"negative_slope\": 0.0, \"threshold\": 0.0}}, {\"class_name\": \"Dense\", \"config\": {\"name\": \"dense_1\", \"trainable\": true, \"dtype\": \"float32\", \"units\": 400, \"activation\": \"linear\", \"use_bias\": true, \"kernel_initializer\": {\"class_name\": \"VarianceScaling\", \"config\": {\"scale\": 2.0, \"mode\": \"fan_in\", \"distribution\": \"uniform\", \"seed\": null}}, \"bias_initializer\": {\"class_name\": \"Zeros\", \"config\": {}}, \"kernel_regularizer\": null, \"bias_regularizer\": null, \"activity_regularizer\": null, \"kernel_constraint\": null, \"bias_constraint\": null}}, {\"class_name\": \"ReLU\", \"config\": {\"name\": \"re_lu_1\", \"trainable\": true, \"dtype\": \"float32\", \"max_value\": null, \"negative_slope\": 0.0, \"threshold\": 0.0}}, {\"class_name\": \"Dense\", \"config\": {\"name\": \"dense_2\", \"trainable\": true, \"dtype\": \"float32\", \"units\": 11, \"activation\": \"linear\", \"use_bias\": true, \"kernel_initializer\": {\"class_name\": \"GlorotUniform\", \"config\": {\"seed\": null}}, \"bias_initializer\": {\"class_name\": \"Zeros\", \"config\": {}}, \"kernel_regularizer\": null, \"bias_regularizer\": null, \"activity_regularizer\": null, \"kernel_constraint\": null, \"bias_constraint\": null}}]}, \"keras_version\": \"2.2.4-tf\", \"backend\": \"tensorflow\"}\n",
            "Model: \"model2\"\n",
            "_________________________________________________________________\n",
            "Layer (type)                 Output Shape              Param #   \n",
            "=================================================================\n",
            "dense_3 (Dense)              (None, 200)               3000      \n",
            "_________________________________________________________________\n",
            "re_lu_2 (ReLU)               (None, 200)               0         \n",
            "_________________________________________________________________\n",
            "dense_4 (Dense)              (None, 200)               40200     \n",
            "_________________________________________________________________\n",
            "re_lu_3 (ReLU)               (None, 200)               0         \n",
            "_________________________________________________________________\n",
            "dense_5 (Dense)              (None, 11)                2211      \n",
            "=================================================================\n",
            "Total params: 45,411\n",
            "Trainable params: 45,411\n",
            "Non-trainable params: 0\n",
            "_________________________________________________________________\n",
            "{\"class_name\": \"Sequential\", \"config\": {\"name\": \"model2\", \"layers\": [{\"class_name\": \"Dense\", \"config\": {\"name\": \"dense_3\", \"trainable\": true, \"batch_input_shape\": [null, 14], \"dtype\": \"float32\", \"units\": 200, \"activation\": \"linear\", \"use_bias\": true, \"kernel_initializer\": {\"class_name\": \"VarianceScaling\", \"config\": {\"scale\": 2.0, \"mode\": \"fan_in\", \"distribution\": \"uniform\", \"seed\": null}}, \"bias_initializer\": {\"class_name\": \"Zeros\", \"config\": {}}, \"kernel_regularizer\": null, \"bias_regularizer\": null, \"activity_regularizer\": null, \"kernel_constraint\": null, \"bias_constraint\": null}}, {\"class_name\": \"ReLU\", \"config\": {\"name\": \"re_lu_2\", \"trainable\": true, \"dtype\": \"float32\", \"max_value\": null, \"negative_slope\": 0.0, \"threshold\": 0.0}}, {\"class_name\": \"Dense\", \"config\": {\"name\": \"dense_4\", \"trainable\": true, \"dtype\": \"float32\", \"units\": 200, \"activation\": \"linear\", \"use_bias\": true, \"kernel_initializer\": {\"class_name\": \"VarianceScaling\", \"config\": {\"scale\": 2.0, \"mode\": \"fan_in\", \"distribution\": \"uniform\", \"seed\": null}}, \"bias_initializer\": {\"class_name\": \"Zeros\", \"config\": {}}, \"kernel_regularizer\": null, \"bias_regularizer\": null, \"activity_regularizer\": null, \"kernel_constraint\": null, \"bias_constraint\": null}}, {\"class_name\": \"ReLU\", \"config\": {\"name\": \"re_lu_3\", \"trainable\": true, \"dtype\": \"float32\", \"max_value\": null, \"negative_slope\": 0.0, \"threshold\": 0.0}}, {\"class_name\": \"Dense\", \"config\": {\"name\": \"dense_5\", \"trainable\": true, \"dtype\": \"float32\", \"units\": 11, \"activation\": \"linear\", \"use_bias\": true, \"kernel_initializer\": {\"class_name\": \"GlorotUniform\", \"config\": {\"seed\": null}}, \"bias_initializer\": {\"class_name\": \"Zeros\", \"config\": {}}, \"kernel_regularizer\": null, \"bias_regularizer\": null, \"activity_regularizer\": null, \"kernel_constraint\": null, \"bias_constraint\": null}}]}, \"keras_version\": \"2.2.4-tf\", \"backend\": \"tensorflow\"}\n",
            "Model: \"model3\"\n",
            "_________________________________________________________________\n",
            "Layer (type)                 Output Shape              Param #   \n",
            "=================================================================\n",
            "dense_6 (Dense)              (None, 100)               1500      \n",
            "_________________________________________________________________\n",
            "re_lu_4 (ReLU)               (None, 100)               0         \n",
            "_________________________________________________________________\n",
            "dense_7 (Dense)              (None, 100)               10100     \n",
            "_________________________________________________________________\n",
            "re_lu_5 (ReLU)               (None, 100)               0         \n",
            "_________________________________________________________________\n",
            "dense_8 (Dense)              (None, 11)                1111      \n",
            "=================================================================\n",
            "Total params: 12,711\n",
            "Trainable params: 12,711\n",
            "Non-trainable params: 0\n",
            "_________________________________________________________________\n",
            "{\"class_name\": \"Sequential\", \"config\": {\"name\": \"model3\", \"layers\": [{\"class_name\": \"Dense\", \"config\": {\"name\": \"dense_6\", \"trainable\": true, \"batch_input_shape\": [null, 14], \"dtype\": \"float32\", \"units\": 100, \"activation\": \"linear\", \"use_bias\": true, \"kernel_initializer\": {\"class_name\": \"VarianceScaling\", \"config\": {\"scale\": 2.0, \"mode\": \"fan_in\", \"distribution\": \"uniform\", \"seed\": null}}, \"bias_initializer\": {\"class_name\": \"Zeros\", \"config\": {}}, \"kernel_regularizer\": null, \"bias_regularizer\": null, \"activity_regularizer\": null, \"kernel_constraint\": null, \"bias_constraint\": null}}, {\"class_name\": \"ReLU\", \"config\": {\"name\": \"re_lu_4\", \"trainable\": true, \"dtype\": \"float32\", \"max_value\": null, \"negative_slope\": 0.0, \"threshold\": 0.0}}, {\"class_name\": \"Dense\", \"config\": {\"name\": \"dense_7\", \"trainable\": true, \"dtype\": \"float32\", \"units\": 100, \"activation\": \"linear\", \"use_bias\": true, \"kernel_initializer\": {\"class_name\": \"VarianceScaling\", \"config\": {\"scale\": 2.0, \"mode\": \"fan_in\", \"distribution\": \"uniform\", \"seed\": null}}, \"bias_initializer\": {\"class_name\": \"Zeros\", \"config\": {}}, \"kernel_regularizer\": null, \"bias_regularizer\": null, \"activity_regularizer\": null, \"kernel_constraint\": null, \"bias_constraint\": null}}, {\"class_name\": \"ReLU\", \"config\": {\"name\": \"re_lu_5\", \"trainable\": true, \"dtype\": \"float32\", \"max_value\": null, \"negative_slope\": 0.0, \"threshold\": 0.0}}, {\"class_name\": \"Dense\", \"config\": {\"name\": \"dense_8\", \"trainable\": true, \"dtype\": \"float32\", \"units\": 11, \"activation\": \"linear\", \"use_bias\": true, \"kernel_initializer\": {\"class_name\": \"GlorotUniform\", \"config\": {\"seed\": null}}, \"bias_initializer\": {\"class_name\": \"Zeros\", \"config\": {}}, \"kernel_regularizer\": null, \"bias_regularizer\": null, \"activity_regularizer\": null, \"kernel_constraint\": null, \"bias_constraint\": null}}]}, \"keras_version\": \"2.2.4-tf\", \"backend\": \"tensorflow\"}\n",
            "Model: \"model4\"\n",
            "_________________________________________________________________\n",
            "Layer (type)                 Output Shape              Param #   \n",
            "=================================================================\n",
            "dense_9 (Dense)              (None, 200)               3000      \n",
            "_________________________________________________________________\n",
            "re_lu_6 (ReLU)               (None, 200)               0         \n",
            "_________________________________________________________________\n",
            "dense_10 (Dense)             (None, 11)                2211      \n",
            "=================================================================\n",
            "Total params: 5,211\n",
            "Trainable params: 5,211\n",
            "Non-trainable params: 0\n",
            "_________________________________________________________________\n",
            "{\"class_name\": \"Sequential\", \"config\": {\"name\": \"model4\", \"layers\": [{\"class_name\": \"Dense\", \"config\": {\"name\": \"dense_9\", \"trainable\": true, \"batch_input_shape\": [null, 14], \"dtype\": \"float32\", \"units\": 200, \"activation\": \"linear\", \"use_bias\": true, \"kernel_initializer\": {\"class_name\": \"VarianceScaling\", \"config\": {\"scale\": 2.0, \"mode\": \"fan_in\", \"distribution\": \"uniform\", \"seed\": null}}, \"bias_initializer\": {\"class_name\": \"Zeros\", \"config\": {}}, \"kernel_regularizer\": null, \"bias_regularizer\": null, \"activity_regularizer\": null, \"kernel_constraint\": null, \"bias_constraint\": null}}, {\"class_name\": \"ReLU\", \"config\": {\"name\": \"re_lu_6\", \"trainable\": true, \"dtype\": \"float32\", \"max_value\": null, \"negative_slope\": 0.0, \"threshold\": 0.0}}, {\"class_name\": \"Dense\", \"config\": {\"name\": \"dense_10\", \"trainable\": true, \"dtype\": \"float32\", \"units\": 11, \"activation\": \"linear\", \"use_bias\": true, \"kernel_initializer\": {\"class_name\": \"GlorotUniform\", \"config\": {\"seed\": null}}, \"bias_initializer\": {\"class_name\": \"Zeros\", \"config\": {}}, \"kernel_regularizer\": null, \"bias_regularizer\": null, \"activity_regularizer\": null, \"kernel_constraint\": null, \"bias_constraint\": null}}]}, \"keras_version\": \"2.2.4-tf\", \"backend\": \"tensorflow\"}\n"
          ],
          "name": "stdout"
        }
      ]
    },
    {
      "cell_type": "markdown",
      "metadata": {
        "id": "HtFN-OP2HlqQ",
        "colab_type": "text"
      },
      "source": [
        "## train, save and load model"
      ]
    },
    {
      "cell_type": "code",
      "metadata": {
        "id": "DDmtdBRxJKJd",
        "colab_type": "code",
        "colab": {}
      },
      "source": [
        "def train_model(model_tupel, epochs, batch_size):\n",
        "  model_name = model_tupel[0]\n",
        "  keras_model = model_tupel[1]\n",
        "  callbacks = [\n",
        "              #prepare_checkpoint_callback(model_name=model_name),\n",
        "              prepare_tensorboard_callback(model_name=model_name)\n",
        "              ]\n",
        "\n",
        "  history = keras_model.fit(train_X,\n",
        "                            train_Y,\n",
        "                            epochs=epochs,\n",
        "                            batch_size=batch_size,\n",
        "                            validation_data=(test_X, test_Y),\n",
        "                            verbose=2,\n",
        "                            callbacks=callbacks\n",
        "                            )\n",
        "  return history  \n",
        "\n",
        "def _format_model_path(model_name):\n",
        "  file_name = '{}_end'.format(model_name)\n",
        "  return os.path.join(saved_model_weight_path, file_name)\n",
        "\n",
        "def save_model(model_tupel):\n",
        "  model_name = model_tupel[0]\n",
        "  keras_model = model_tupel[1]\n",
        "  file_path = _format_model_path(model_name)\n",
        "  keras_model.save_weights(file_path)\n",
        "\n",
        "def load_model(model_tupel):\n",
        "  model_name = model_tupel[0]\n",
        "  keras_model = model_tupel[1]\n",
        "  file_path = _format_model_path(model_name)\n",
        "  exact_file_path = file_path + '.index'\n",
        "  if os.path.isfile(exact_file_path):\n",
        "    print('load model {}'.format(model_name))\n",
        "    keras_model.load_weights(file_path)\n",
        "    return True\n",
        "  else:\n",
        "    return False\n",
        "\n",
        "def _format_history_path(model_name):\n",
        "  file_name = '{}_history_dict'.format(model_name)\n",
        "  return os.path.join(results_folder, file_name)\n",
        "  \n",
        "\n",
        "def save_history(model_tupel, history):\n",
        "  file_path = _format_history_path(model_tupel[0])\n",
        "  with open(file_path, 'wb') as file_hist:\n",
        "        pickle.dump(history.history, file_hist)\n",
        "  \n",
        "\n",
        "def load_history(model_tupel):\n",
        "  file_path = _format_history_path(model_tupel[0])\n",
        "  if not os.path.isfile(file_path):\n",
        "    return dict()\n",
        "  with open(file_path, 'rb') as file_hist:\n",
        "    return pickle.load(file_hist)"
      ],
      "execution_count": 0,
      "outputs": []
    },
    {
      "cell_type": "code",
      "metadata": {
        "id": "DxQg934JhE_H",
        "colab_type": "code",
        "outputId": "482a2d62-a152-49ff-d690-e23e5b956690",
        "colab": {
          "base_uri": "https://localhost:8080/",
          "height": 1000
        }
      },
      "source": [
        "histories = []\n",
        "for model in models:\n",
        "  if not load_model(model):\n",
        "    print(model[0])\n",
        "    history = train_model(model, epochs=10, batch_size=32)\n",
        "    save_model(model)\n",
        "    save_history(model, history)\n",
        "    histories.append(history.history)\n",
        "    print('*******************')\n",
        "  else:\n",
        "    history = load_history(model)\n",
        "    histories.append(history)"
      ],
      "execution_count": 29,
      "outputs": [
        {
          "output_type": "stream",
          "text": [
            "model1\n",
            "Train on 381832 samples, validate on 95458 samples\n",
            "Epoch 1/10\n",
            "381832/381832 - 56s - loss: 2.7677e-06 - mean_squared_error: 2.7677e-06 - mean_absolute_error: 0.0010 - val_loss: 4.3490e-06 - val_mean_squared_error: 4.3490e-06 - val_mean_absolute_error: 0.0016\n",
            "Epoch 2/10\n",
            "381832/381832 - 56s - loss: 2.8787e-06 - mean_squared_error: 2.8787e-06 - mean_absolute_error: 0.0010 - val_loss: 3.1384e-06 - val_mean_squared_error: 3.1384e-06 - val_mean_absolute_error: 0.0012\n",
            "Epoch 3/10\n",
            "381832/381832 - 56s - loss: 2.7702e-06 - mean_squared_error: 2.7702e-06 - mean_absolute_error: 9.9222e-04 - val_loss: 2.2048e-06 - val_mean_squared_error: 2.2048e-06 - val_mean_absolute_error: 9.2239e-04\n",
            "Epoch 4/10\n",
            "381832/381832 - 56s - loss: 2.6650e-06 - mean_squared_error: 2.6650e-06 - mean_absolute_error: 9.8217e-04 - val_loss: 2.2484e-06 - val_mean_squared_error: 2.2484e-06 - val_mean_absolute_error: 9.0138e-04\n",
            "Epoch 5/10\n",
            "381832/381832 - 56s - loss: 2.7100e-06 - mean_squared_error: 2.7101e-06 - mean_absolute_error: 9.6027e-04 - val_loss: 3.8056e-06 - val_mean_squared_error: 3.8056e-06 - val_mean_absolute_error: 0.0013\n",
            "Epoch 6/10\n",
            "381832/381832 - 56s - loss: 2.6326e-06 - mean_squared_error: 2.6326e-06 - mean_absolute_error: 9.6187e-04 - val_loss: 2.9483e-06 - val_mean_squared_error: 2.9483e-06 - val_mean_absolute_error: 0.0012\n",
            "Epoch 7/10\n",
            "381832/381832 - 56s - loss: 2.6522e-06 - mean_squared_error: 2.6522e-06 - mean_absolute_error: 9.4233e-04 - val_loss: 1.8507e-06 - val_mean_squared_error: 1.8507e-06 - val_mean_absolute_error: 7.8296e-04\n",
            "Epoch 8/10\n",
            "381832/381832 - 56s - loss: 2.6111e-06 - mean_squared_error: 2.6111e-06 - mean_absolute_error: 9.3181e-04 - val_loss: 2.1769e-06 - val_mean_squared_error: 2.1769e-06 - val_mean_absolute_error: 9.0079e-04\n",
            "Epoch 9/10\n",
            "381832/381832 - 55s - loss: 2.4376e-06 - mean_squared_error: 2.4376e-06 - mean_absolute_error: 9.3123e-04 - val_loss: 1.3090e-05 - val_mean_squared_error: 1.3090e-05 - val_mean_absolute_error: 0.0023\n",
            "Epoch 10/10\n",
            "381832/381832 - 55s - loss: 2.5115e-06 - mean_squared_error: 2.5115e-06 - mean_absolute_error: 9.2652e-04 - val_loss: 1.7241e-06 - val_mean_squared_error: 1.7241e-06 - val_mean_absolute_error: 6.6321e-04\n",
            "*******************\n",
            "model2\n",
            "Train on 381832 samples, validate on 95458 samples\n",
            "Epoch 1/10\n",
            "381832/381832 - 57s - loss: 3.5685e-04 - mean_squared_error: 3.5685e-04 - mean_absolute_error: 0.0068 - val_loss: 2.2138e-05 - val_mean_squared_error: 2.2138e-05 - val_mean_absolute_error: 0.0036\n",
            "Epoch 2/10\n",
            "381832/381832 - 55s - loss: 2.1539e-05 - mean_squared_error: 2.1539e-05 - mean_absolute_error: 0.0034 - val_loss: 1.2171e-05 - val_mean_squared_error: 1.2171e-05 - val_mean_absolute_error: 0.0027\n",
            "Epoch 3/10\n",
            "381832/381832 - 56s - loss: 1.1514e-05 - mean_squared_error: 1.1514e-05 - mean_absolute_error: 0.0024 - val_loss: 1.1955e-05 - val_mean_squared_error: 1.1955e-05 - val_mean_absolute_error: 0.0027\n",
            "Epoch 4/10\n",
            "381832/381832 - 55s - loss: 8.2749e-06 - mean_squared_error: 8.2749e-06 - mean_absolute_error: 0.0020 - val_loss: 8.9415e-06 - val_mean_squared_error: 8.9415e-06 - val_mean_absolute_error: 0.0023\n",
            "Epoch 5/10\n",
            "381832/381832 - 55s - loss: 6.6482e-06 - mean_squared_error: 6.6482e-06 - mean_absolute_error: 0.0018 - val_loss: 4.1762e-06 - val_mean_squared_error: 4.1762e-06 - val_mean_absolute_error: 0.0014\n",
            "Epoch 6/10\n",
            "381832/381832 - 55s - loss: 5.7899e-06 - mean_squared_error: 5.7899e-06 - mean_absolute_error: 0.0016 - val_loss: 4.1060e-06 - val_mean_squared_error: 4.1060e-06 - val_mean_absolute_error: 0.0014\n",
            "Epoch 7/10\n",
            "381832/381832 - 56s - loss: 5.3257e-06 - mean_squared_error: 5.3257e-06 - mean_absolute_error: 0.0015 - val_loss: 4.2662e-06 - val_mean_squared_error: 4.2662e-06 - val_mean_absolute_error: 0.0014\n",
            "Epoch 8/10\n",
            "381832/381832 - 54s - loss: 4.7789e-06 - mean_squared_error: 4.7789e-06 - mean_absolute_error: 0.0014 - val_loss: 3.6095e-06 - val_mean_squared_error: 3.6095e-06 - val_mean_absolute_error: 0.0013\n",
            "Epoch 9/10\n",
            "381832/381832 - 54s - loss: 4.4086e-06 - mean_squared_error: 4.4086e-06 - mean_absolute_error: 0.0014 - val_loss: 5.8899e-06 - val_mean_squared_error: 5.8899e-06 - val_mean_absolute_error: 0.0017\n",
            "Epoch 10/10\n",
            "381832/381832 - 54s - loss: 4.1283e-06 - mean_squared_error: 4.1283e-06 - mean_absolute_error: 0.0013 - val_loss: 4.8785e-06 - val_mean_squared_error: 4.8785e-06 - val_mean_absolute_error: 0.0015\n",
            "*******************\n",
            "model3\n",
            "Train on 381832 samples, validate on 95458 samples\n",
            "Epoch 1/10\n",
            "381832/381832 - 55s - loss: 4.4607e-04 - mean_squared_error: 4.4607e-04 - mean_absolute_error: 0.0062 - val_loss: 4.4146e-05 - val_mean_squared_error: 4.4146e-05 - val_mean_absolute_error: 0.0054\n",
            "Epoch 2/10\n",
            "381832/381832 - 56s - loss: 1.2808e-05 - mean_squared_error: 1.2808e-05 - mean_absolute_error: 0.0026 - val_loss: 1.8276e-05 - val_mean_squared_error: 1.8276e-05 - val_mean_absolute_error: 0.0034\n",
            "Epoch 3/10\n",
            "381832/381832 - 55s - loss: 8.5094e-06 - mean_squared_error: 8.5094e-06 - mean_absolute_error: 0.0021 - val_loss: 5.4468e-06 - val_mean_squared_error: 5.4468e-06 - val_mean_absolute_error: 0.0017\n",
            "Epoch 4/10\n",
            "381832/381832 - 56s - loss: 6.9382e-06 - mean_squared_error: 6.9382e-06 - mean_absolute_error: 0.0018 - val_loss: 3.4365e-06 - val_mean_squared_error: 3.4365e-06 - val_mean_absolute_error: 0.0012\n",
            "Epoch 5/10\n",
            "381832/381832 - 55s - loss: 5.8677e-06 - mean_squared_error: 5.8678e-06 - mean_absolute_error: 0.0016 - val_loss: 3.0717e-06 - val_mean_squared_error: 3.0717e-06 - val_mean_absolute_error: 0.0011\n",
            "Epoch 6/10\n",
            "381832/381832 - 55s - loss: 5.3297e-06 - mean_squared_error: 5.3297e-06 - mean_absolute_error: 0.0015 - val_loss: 4.0146e-06 - val_mean_squared_error: 4.0146e-06 - val_mean_absolute_error: 0.0013\n",
            "Epoch 7/10\n",
            "381832/381832 - 55s - loss: 4.7001e-06 - mean_squared_error: 4.7001e-06 - mean_absolute_error: 0.0014 - val_loss: 7.5654e-06 - val_mean_squared_error: 7.5654e-06 - val_mean_absolute_error: 0.0021\n",
            "Epoch 8/10\n",
            "381832/381832 - 56s - loss: 4.2486e-06 - mean_squared_error: 4.2486e-06 - mean_absolute_error: 0.0013 - val_loss: 3.0744e-06 - val_mean_squared_error: 3.0744e-06 - val_mean_absolute_error: 0.0012\n",
            "Epoch 9/10\n",
            "381832/381832 - 56s - loss: 4.2707e-06 - mean_squared_error: 4.2707e-06 - mean_absolute_error: 0.0013 - val_loss: 2.3908e-06 - val_mean_squared_error: 2.3908e-06 - val_mean_absolute_error: 8.1985e-04\n",
            "Epoch 10/10\n",
            "381832/381832 - 56s - loss: 3.6636e-06 - mean_squared_error: 3.6636e-06 - mean_absolute_error: 0.0012 - val_loss: 2.5877e-06 - val_mean_squared_error: 2.5877e-06 - val_mean_absolute_error: 0.0010\n",
            "*******************\n",
            "model4\n",
            "Train on 381832 samples, validate on 95458 samples\n",
            "Epoch 1/10\n",
            "381832/381832 - 54s - loss: 7.3440e-04 - mean_squared_error: 7.3440e-04 - mean_absolute_error: 0.0071 - val_loss: 2.0652e-05 - val_mean_squared_error: 2.0652e-05 - val_mean_absolute_error: 0.0036\n",
            "Epoch 2/10\n",
            "381832/381832 - 53s - loss: 1.3938e-05 - mean_squared_error: 1.3938e-05 - mean_absolute_error: 0.0027 - val_loss: 1.7055e-05 - val_mean_squared_error: 1.7055e-05 - val_mean_absolute_error: 0.0032\n",
            "Epoch 3/10\n",
            "381832/381832 - 53s - loss: 1.0158e-05 - mean_squared_error: 1.0158e-05 - mean_absolute_error: 0.0023 - val_loss: 8.4433e-06 - val_mean_squared_error: 8.4433e-06 - val_mean_absolute_error: 0.0021\n",
            "Epoch 4/10\n",
            "381832/381832 - 54s - loss: 8.8871e-06 - mean_squared_error: 8.8871e-06 - mean_absolute_error: 0.0021 - val_loss: 3.2125e-05 - val_mean_squared_error: 3.2125e-05 - val_mean_absolute_error: 0.0050\n",
            "Epoch 5/10\n",
            "381832/381832 - 53s - loss: 7.6491e-06 - mean_squared_error: 7.6491e-06 - mean_absolute_error: 0.0019 - val_loss: 4.7911e-06 - val_mean_squared_error: 4.7911e-06 - val_mean_absolute_error: 0.0016\n",
            "Epoch 6/10\n",
            "381832/381832 - 53s - loss: 7.2048e-06 - mean_squared_error: 7.2048e-06 - mean_absolute_error: 0.0018 - val_loss: 5.4671e-06 - val_mean_squared_error: 5.4671e-06 - val_mean_absolute_error: 0.0017\n",
            "Epoch 7/10\n",
            "381832/381832 - 53s - loss: 6.3469e-06 - mean_squared_error: 6.3469e-06 - mean_absolute_error: 0.0017 - val_loss: 7.7399e-06 - val_mean_squared_error: 7.7399e-06 - val_mean_absolute_error: 0.0021\n",
            "Epoch 8/10\n",
            "381832/381832 - 53s - loss: 5.9946e-06 - mean_squared_error: 5.9946e-06 - mean_absolute_error: 0.0016 - val_loss: 5.3991e-06 - val_mean_squared_error: 5.3991e-06 - val_mean_absolute_error: 0.0017\n",
            "Epoch 9/10\n",
            "381832/381832 - 53s - loss: 5.6611e-06 - mean_squared_error: 5.6611e-06 - mean_absolute_error: 0.0016 - val_loss: 9.2594e-06 - val_mean_squared_error: 9.2594e-06 - val_mean_absolute_error: 0.0022\n",
            "Epoch 10/10\n",
            "381832/381832 - 53s - loss: 4.9827e-06 - mean_squared_error: 4.9827e-06 - mean_absolute_error: 0.0015 - val_loss: 4.6019e-06 - val_mean_squared_error: 4.6019e-06 - val_mean_absolute_error: 0.0016\n",
            "*******************\n"
          ],
          "name": "stdout"
        }
      ]
    },
    {
      "cell_type": "markdown",
      "metadata": {
        "id": "XRLpUIJnZ-eq",
        "colab_type": "text"
      },
      "source": [
        "## visualize"
      ]
    },
    {
      "cell_type": "markdown",
      "metadata": {
        "id": "8X1nsxWEO59n",
        "colab_type": "text"
      },
      "source": [
        "### Test & Training Loss"
      ]
    },
    {
      "cell_type": "code",
      "metadata": {
        "id": "q7eOZ0lAe1CP",
        "colab_type": "code",
        "colab": {
          "base_uri": "https://localhost:8080/",
          "height": 230
        },
        "outputId": "6d9ca07f-31cc-4954-9927-3b95fc52427b"
      },
      "source": [
        "for i, history in enumerate(histories):\n",
        "  last_loss = history['loss'][-1]\n",
        "  last_val_loss = history['val_loss'][-1]\n",
        "  model_name = models[i][0]\n",
        "  print('{} model last loss: {}'.format(model_name,last_loss))\n",
        "  print('{} model last val loss: {}'.format(model_name,last_val_loss))\n",
        "  print('*******')"
      ],
      "execution_count": 30,
      "outputs": [
        {
          "output_type": "stream",
          "text": [
            "model1 model last loss: 2.511526923562726e-06\n",
            "model1 model last val loss: 1.724075451628941e-06\n",
            "*******\n",
            "model2 model last loss: 4.128292949851825e-06\n",
            "model2 model last val loss: 4.878468452858382e-06\n",
            "*******\n",
            "model3 model last loss: 3.6636337901715974e-06\n",
            "model3 model last val loss: 2.587691262992593e-06\n",
            "*******\n",
            "model4 model last loss: 4.982668848558092e-06\n",
            "model4 model last val loss: 4.601870442990998e-06\n",
            "*******\n"
          ],
          "name": "stdout"
        }
      ]
    },
    {
      "cell_type": "code",
      "metadata": {
        "id": "gbFhTgXGITKV",
        "colab_type": "code",
        "outputId": "85f8b634-b708-4e2c-cba9-863ddf988bc2",
        "colab": {
          "base_uri": "https://localhost:8080/",
          "height": 632
        }
      },
      "source": [
        "pas_history(models, histories=histories)"
      ],
      "execution_count": 31,
      "outputs": [
        {
          "output_type": "display_data",
          "data": {
            "image/png": "[encoded data removed]",
            "text/plain": [
              "<Figure size 1152x720 with 1 Axes>"
            ]
          },
          "metadata": {
            "tags": []
          }
        }
      ]
    },
    {
      "cell_type": "markdown",
      "metadata": {
        "id": "4vT7MLiJPSQ2",
        "colab_type": "text"
      },
      "source": [
        "\n",
        "### MSE per target (scaled)"
      ]
    },
    {
      "cell_type": "code",
      "metadata": {
        "id": "o03Cq_x5nhRe",
        "colab_type": "code",
        "colab": {
          "base_uri": "https://localhost:8080/",
          "height": 1000
        },
        "outputId": "9ba960ef-2d73-43cf-fed9-f27ff9daa54d"
      },
      "source": [
        "for model_tupel in models:\n",
        "  df = pas_metrics_scaled(model_tupel)\n",
        "  print(model_tupel[0])\n",
        "  with pd.option_context('display.max_rows', None, 'display.max_columns', None,\n",
        "                         'display.width', 1000): \n",
        "    print(df)\n",
        "  print('*********************************************************')"
      ],
      "execution_count": 36,
      "outputs": [
        {
          "output_type": "stream",
          "text": [
            "model1\n",
            "       t+1_   ____Q,rad/s   t+1_   _beta,__deg   t+1_   _roll,__deg   t+1_   ____R,rad/s   t+1_   pitch,__deg   t+1_   ____P,rad/s   t+1_   __VVI,__fpm   t+1_   __alt,ftmsl   t+1_   Vtrue,_ktas   t+1_   rpm_1,_prop   t+1_   thro1,_part \n",
            "count        477290.000000         4.772900e+05         4.772900e+05         4.772900e+05        477290.000000        477290.000000         4.772900e+05        477290.000000         4.772900e+05         4.772900e+05         4.772900e+05\n",
            "mean              0.529000         6.673681e-01         4.632808e-01         4.806785e-01             0.410236             0.496619         6.731588e-01             0.446561         5.970284e-01         5.444874e-01         2.036155e-01\n",
            "std               0.088447         1.319452e-01         1.783255e-01         2.168802e-01             0.079806             0.078474         9.494155e-02             0.317480         1.136176e-01         1.803082e-01         4.026823e-01\n",
            "min               0.000000         0.000000e+00         0.000000e+00         0.000000e+00             0.000000             0.000000         0.000000e+00             0.000000         0.000000e+00         0.000000e+00         0.000000e+00\n",
            "25%               0.481389         5.823606e-01         3.973896e-01         3.985892e-01             0.380348             0.494866         6.487725e-01             0.141815         5.582990e-01         4.504197e-01         0.000000e+00\n",
            "50%               0.495456         6.654400e-01         4.770691e-01         4.971874e-01             0.403913             0.496720         6.622749e-01             0.425023         5.886968e-01         4.990951e-01         0.000000e+00\n",
            "75%               0.607992         7.314416e-01         4.834492e-01         5.050807e-01             0.434026             0.498485         7.192521e-01             0.722933         6.327272e-01         5.645037e-01         0.000000e+00\n",
            "max               1.000000         1.000058e+00         1.000000e+00         1.000000e+00             1.000000             1.000226         1.000000e+00             1.000000         1.000000e+00         1.000000e+00         1.000000e+00\n",
            "mses              0.000002         5.557100e-07         5.657009e-07         3.451841e-07             0.000003             0.000001         2.828736e-07             0.000009         5.532314e-07         8.405517e-07         7.015207e-07\n",
            "rmes              0.001473         7.454596e-04         7.521309e-04         5.875237e-04             0.001740             0.001099         5.318587e-04             0.002952         7.437952e-04         9.168161e-04         8.375683e-04\n",
            "maes              0.000993         5.599482e-04         6.283050e-04         3.909107e-04             0.001636             0.000628         3.465227e-04             0.000478         5.279440e-04         6.691437e-04         4.383890e-04\n",
            "mse               0.000002         1.724075e-06         1.724075e-06         1.724075e-06             0.000002             0.000002         1.724075e-06             0.000002         1.724075e-06         1.724075e-06         1.724075e-06\n",
            "rme               0.001313         1.313041e-03         1.313041e-03         1.313041e-03             0.001313             0.001313         1.313041e-03             0.001313         1.313041e-03         1.313041e-03         1.313041e-03\n",
            "mae               0.000663         6.632078e-04         6.632078e-04         6.632078e-04             0.000663             0.000663         6.632078e-04             0.000663         6.632078e-04         6.632078e-04         6.632078e-04\n",
            "*********************************************************\n",
            "model2\n",
            "       t+1_   ____Q,rad/s   t+1_   _beta,__deg   t+1_   _roll,__deg   t+1_   ____R,rad/s   t+1_   pitch,__deg   t+1_   ____P,rad/s   t+1_   __VVI,__fpm   t+1_   __alt,ftmsl   t+1_   Vtrue,_ktas   t+1_   rpm_1,_prop   t+1_   thro1,_part \n",
            "count        477290.000000        477290.000000        477290.000000         4.772900e+05         4.772900e+05        477290.000000         4.772900e+05        477290.000000        477290.000000        477290.000000        477290.000000\n",
            "mean              0.529000             0.667368             0.463281         4.806785e-01         4.102357e-01             0.496619         6.731588e-01             0.446561             0.597028             0.544487             0.203615\n",
            "std               0.088447             0.131945             0.178326         2.168802e-01         7.980569e-02             0.078474         9.494155e-02             0.317480             0.113618             0.180308             0.402682\n",
            "min               0.000000             0.000000             0.000000         0.000000e+00         0.000000e+00             0.000000         0.000000e+00             0.000000             0.000000             0.000000             0.000000\n",
            "25%               0.481389             0.582361             0.397390         3.985892e-01         3.803479e-01             0.494866         6.487725e-01             0.141815             0.558299             0.450420             0.000000\n",
            "50%               0.495456             0.665440             0.477069         4.971874e-01         4.039126e-01             0.496720         6.622749e-01             0.425023             0.588697             0.499095             0.000000\n",
            "75%               0.607992             0.731442             0.483449         5.050807e-01         4.340259e-01             0.498485         7.192521e-01             0.722933             0.632727             0.564504             0.000000\n",
            "max               1.000000             1.000058             1.000000         1.000000e+00         1.000000e+00             1.000226         1.000000e+00             1.000000             1.000000             1.000000             1.000000\n",
            "mses              0.000004             0.000001             0.000003         7.445883e-07         5.163890e-07             0.000005         8.121407e-07             0.000010             0.000002             0.000006             0.000021\n",
            "rmes              0.001899             0.001218             0.001630         8.628953e-04         7.186021e-04             0.002211         9.011885e-04             0.003155             0.001537             0.002443             0.004546\n",
            "maes              0.001308             0.000778             0.001523         6.071343e-04         4.533714e-04             0.001878         6.887257e-04             0.001053             0.001380             0.002333             0.004379\n",
            "mse               0.000005             0.000005             0.000005         4.878469e-06         4.878469e-06             0.000005         4.878469e-06             0.000005             0.000005             0.000005             0.000005\n",
            "rme               0.002209             0.002209             0.002209         2.208726e-03         2.208726e-03             0.002209         2.208726e-03             0.002209             0.002209             0.002209             0.002209\n",
            "mae               0.001489             0.001489             0.001489         1.489240e-03         1.489240e-03             0.001489         1.489240e-03             0.001489             0.001489             0.001489             0.001489\n",
            "*********************************************************\n",
            "model3\n",
            "       t+1_   ____Q,rad/s   t+1_   _beta,__deg   t+1_   _roll,__deg   t+1_   ____R,rad/s   t+1_   pitch,__deg   t+1_   ____P,rad/s   t+1_   __VVI,__fpm   t+1_   __alt,ftmsl   t+1_   Vtrue,_ktas   t+1_   rpm_1,_prop   t+1_   thro1,_part \n",
            "count        477290.000000        477290.000000         4.772900e+05         4.772900e+05         4.772900e+05        477290.000000        477290.000000        477290.000000         4.772900e+05        477290.000000         4.772900e+05\n",
            "mean              0.529000             0.667368         4.632808e-01         4.806785e-01         4.102357e-01             0.496619             0.673159             0.446561         5.970284e-01             0.544487         2.036155e-01\n",
            "std               0.088447             0.131945         1.783255e-01         2.168802e-01         7.980569e-02             0.078474             0.094942             0.317480         1.136176e-01             0.180308         4.026823e-01\n",
            "min               0.000000             0.000000         0.000000e+00         0.000000e+00         0.000000e+00             0.000000             0.000000             0.000000         0.000000e+00             0.000000         0.000000e+00\n",
            "25%               0.481389             0.582361         3.973896e-01         3.985892e-01         3.803479e-01             0.494866             0.648773             0.141815         5.582990e-01             0.450420         0.000000e+00\n",
            "50%               0.495456             0.665440         4.770691e-01         4.971874e-01         4.039126e-01             0.496720             0.662275             0.425023         5.886968e-01             0.499095         0.000000e+00\n",
            "75%               0.607992             0.731442         4.834492e-01         5.050807e-01         4.340259e-01             0.498485             0.719252             0.722933         6.327272e-01             0.564504         0.000000e+00\n",
            "max               1.000000             1.000058         1.000000e+00         1.000000e+00         1.000000e+00             1.000226             1.000000             1.000000         1.000000e+00             1.000000         1.000000e+00\n",
            "mses              0.000005             0.000002         5.853074e-07         8.973162e-07         3.441905e-07             0.000001             0.000003             0.000013         3.569461e-07             0.000002         9.908034e-07\n",
            "rmes              0.002194             0.001331         7.650539e-04         9.472677e-04         5.866775e-04             0.001130             0.001655             0.003613         5.974497e-04             0.001277         9.953911e-04\n",
            "maes              0.001699             0.001079         5.626938e-04         7.133839e-04         4.294082e-04             0.000673             0.001541             0.002111         3.578011e-04             0.001143         7.170004e-04\n",
            "mse               0.000003             0.000003         2.587691e-06         2.587691e-06         2.587691e-06             0.000003             0.000003             0.000003         2.587691e-06             0.000003         2.587691e-06\n",
            "rme               0.001609             0.001609         1.608630e-03         1.608630e-03         1.608630e-03             0.001609             0.001609             0.001609         1.608630e-03             0.001609         1.608630e-03\n",
            "mae               0.001003             0.001003         1.002572e-03         1.002572e-03         1.002572e-03             0.001003             0.001003             0.001003         1.002572e-03             0.001003         1.002572e-03\n",
            "*********************************************************\n",
            "model4\n",
            "       t+1_   ____Q,rad/s   t+1_   _beta,__deg   t+1_   _roll,__deg   t+1_   ____R,rad/s   t+1_   pitch,__deg   t+1_   ____P,rad/s   t+1_   __VVI,__fpm   t+1_   __alt,ftmsl   t+1_   Vtrue,_ktas   t+1_   rpm_1,_prop   t+1_   thro1,_part \n",
            "count        477290.000000        477290.000000        477290.000000        477290.000000        477290.000000        477290.000000        477290.000000        477290.000000        477290.000000        477290.000000         4.772900e+05\n",
            "mean              0.529000             0.667368             0.463281             0.480678             0.410236             0.496619             0.673159             0.446561             0.597028             0.544487         2.036155e-01\n",
            "std               0.088447             0.131945             0.178326             0.216880             0.079806             0.078474             0.094942             0.317480             0.113618             0.180308         4.026823e-01\n",
            "min               0.000000             0.000000             0.000000             0.000000             0.000000             0.000000             0.000000             0.000000             0.000000             0.000000         0.000000e+00\n",
            "25%               0.481389             0.582361             0.397390             0.398589             0.380348             0.494866             0.648773             0.141815             0.558299             0.450420         0.000000e+00\n",
            "50%               0.495456             0.665440             0.477069             0.497187             0.403913             0.496720             0.662275             0.425023             0.588697             0.499095         0.000000e+00\n",
            "75%               0.607992             0.731442             0.483449             0.505081             0.434026             0.498485             0.719252             0.722933             0.632727             0.564504         0.000000e+00\n",
            "max               1.000000             1.000058             1.000000             1.000000             1.000000             1.000226             1.000000             1.000000             1.000000             1.000000         1.000000e+00\n",
            "mses              0.000005             0.000002             0.000003             0.000001             0.000008             0.000005             0.000006             0.000009             0.000005             0.000004         8.165025e-07\n",
            "rmes              0.002336             0.001538             0.001824             0.001082             0.002830             0.002198             0.002546             0.003015             0.002217             0.002038         9.036053e-04\n",
            "maes              0.001699             0.001203             0.001238             0.000871             0.002467             0.001850             0.002449             0.000844             0.002062             0.001935         6.537798e-04\n",
            "mse               0.000005             0.000005             0.000005             0.000005             0.000005             0.000005             0.000005             0.000005             0.000005             0.000005         4.601870e-06\n",
            "rme               0.002145             0.002145             0.002145             0.002145             0.002145             0.002145             0.002145             0.002145             0.002145             0.002145         2.145197e-03\n",
            "mae               0.001570             0.001570             0.001570             0.001570             0.001570             0.001570             0.001570             0.001570             0.001570             0.001570         1.570279e-03\n",
            "*********************************************************\n"
          ],
          "name": "stdout"
        }
      ]
    },
    {
      "cell_type": "markdown",
      "metadata": {
        "id": "bVhouDRRpewh",
        "colab_type": "text"
      },
      "source": [
        "### MSE per target (unscaled)"
      ]
    },
    {
      "cell_type": "code",
      "metadata": {
        "id": "oTTBfKRgRnTP",
        "colab_type": "code",
        "colab": {
          "base_uri": "https://localhost:8080/",
          "height": 1000
        },
        "outputId": "c602ddd0-94bb-453c-8693-f6092dd7fd70"
      },
      "source": [
        "for mode_tupel in models:\n",
        "  df = pas_metrics(mode_tupel)\n",
        "  print(model_tupel[0])\n",
        "  with pd.option_context('display.max_rows', None, 'display.max_columns', None,\n",
        "                        'display.width', 1000):  \n",
        "    print(df)\n",
        "  print('*********************************************************')"
      ],
      "execution_count": 35,
      "outputs": [
        {
          "output_type": "stream",
          "text": [
            "model1\n",
            "       t+1_   ____Q,rad/s   t+1_   _beta,__deg   t+1_   _roll,__deg   t+1_   ____R,rad/s   t+1_   pitch,__deg   t+1_   ____P,rad/s   t+1_   __VVI,__fpm   t+1_   __alt,ftmsl   t+1_   Vtrue,_ktas   t+1_   rpm_1,_prop   t+1_   thro1,_part \n",
            "count         4.772900e+05         4.772900e+05        477290.000000         4.772900e+05        477290.000000         4.772900e+05        477290.000000        477290.000000        477290.000000        477290.000000         4.772900e+05\n",
            "mean          3.814590e-03         6.401959e-03            -0.791050        -1.839620e-03            -0.653565        -2.251091e-05            31.866864          2714.494657           119.567394          2490.421446         8.376013e-01\n",
            "std           7.104948e-03         1.376795e-01             8.876411         2.390454e-02             1.684673         1.734834e-02           274.991234          1357.480898            10.113312           127.216670         8.211498e-02\n",
            "min          -3.868000e-02        -6.899700e-01           -23.851520        -5.482000e-02            -9.313510        -1.098100e-01         -1917.888180           805.092900            66.424780          2106.257810         7.960800e-01\n",
            "25%          -1.000000e-05        -8.230000e-02            -4.070882        -1.088750e-02            -1.284488        -4.100000e-04           -38.766265          1411.464812           116.120015          2424.051882         7.960800e-01\n",
            "50%           1.120000e-03         4.390000e-03            -0.104720        -2.000000e-05            -0.787045         0.000000e+00             0.342395          2622.403565           118.825780          2458.394900         7.960800e-01\n",
            "75%           1.016000e-02         7.326000e-02             0.212860         8.500000e-04            -0.151363         3.900000e-04           165.372623          3896.206053           122.745007          2504.543950         7.960800e-01\n",
            "max           4.165000e-02         3.535500e-01            25.924920         5.540000e-02            11.796170         1.113100e-01           978.538330          5080.888180           155.436650          2811.808840         1.000000e+00\n",
            "mses          1.400000e-08         6.050628e-07             0.001402         4.193443e-09             0.001350         5.899103e-08             2.373109           159.316943             0.004383             0.418441         2.917095e-08\n",
            "rmes          1.183216e-04         7.778578e-04             0.037438         6.475680e-05             0.036741         2.428807e-04             1.540490            12.622082             0.066207             0.646870         1.707950e-04\n",
            "maes          7.979859e-05         5.842842e-04             0.031275         4.308609e-05             0.034527         1.387359e-04             1.003678             2.041909             0.046994             0.472128         8.939512e-05\n",
            "mse           1.473778e+01         1.473778e+01            14.737784         1.473778e+01            14.737784         1.473778e+01            14.737784            14.737784            14.737784            14.737784         1.473778e+01\n",
            "rme           3.838982e+00         3.838982e+00             3.838982         3.838982e+00             3.838982         3.838982e+00             3.838982             3.838982             3.838982             3.838982         3.838982e+00\n",
            "mae           3.301314e-01         3.301314e-01             0.330131         3.301314e-01             0.330131         3.301314e-01             0.330131             0.330131             0.330131             0.330131         3.301314e-01\n",
            "*********************************************************\n",
            "model1\n",
            "       t+1_   ____Q,rad/s   t+1_   _beta,__deg   t+1_   _roll,__deg   t+1_   ____R,rad/s   t+1_   pitch,__deg   t+1_   ____P,rad/s   t+1_   __VVI,__fpm   t+1_   __alt,ftmsl   t+1_   Vtrue,_ktas   t+1_   rpm_1,_prop   t+1_   thro1,_part \n",
            "count         4.772900e+05        477290.000000        477290.000000         4.772900e+05        477290.000000         4.772900e+05        477290.000000        477290.000000        477290.000000        477290.000000         4.772900e+05\n",
            "mean          3.814590e-03             0.006402            -0.791050        -1.839620e-03            -0.653565        -2.251091e-05            31.866864          2714.494657           119.567394          2490.421446         8.376013e-01\n",
            "std           7.104948e-03             0.137680             8.876411         2.390454e-02             1.684673         1.734834e-02           274.991234          1357.480898            10.113312           127.216670         8.211498e-02\n",
            "min          -3.868000e-02            -0.689970           -23.851520        -5.482000e-02            -9.313510        -1.098100e-01         -1917.888180           805.092900            66.424780          2106.257810         7.960800e-01\n",
            "25%          -1.000000e-05            -0.082300            -4.070882        -1.088750e-02            -1.284488        -4.100000e-04           -38.766265          1411.464812           116.120015          2424.051882         7.960800e-01\n",
            "50%           1.120000e-03             0.004390            -0.104720        -2.000000e-05            -0.787045         0.000000e+00             0.342395          2622.403565           118.825780          2458.394900         7.960800e-01\n",
            "75%           1.016000e-02             0.073260             0.212860         8.500000e-04            -0.151363         3.900000e-04           165.372623          3896.206053           122.745007          2504.543950         7.960800e-01\n",
            "max           4.165000e-02             0.353550            25.924920         5.540000e-02            11.796170         1.113100e-01           978.538330          5080.888180           155.436650          2811.808840         1.000000e+00\n",
            "mses          2.326846e-08             0.000002             0.006585         9.045604e-09             0.000230         2.389708e-07             6.813280           181.996601             0.018714             2.970648         8.594700e-07\n",
            "rmes          1.525400e-04             0.001271             0.081148         9.510838e-05             0.015169         4.888464e-04             2.610226            13.490612             0.136801             1.723557         9.270760e-04\n",
            "maes          1.050792e-04             0.000812             0.075807         6.691839e-05             0.009571         4.151627e-04             1.994843             4.500448             0.122880             1.646247         8.929744e-04\n",
            "mse           1.743691e+01            17.436915            17.436915         1.743691e+01            17.436915         1.743691e+01            17.436915            17.436915            17.436915            17.436915         1.743691e+01\n",
            "rme           4.175753e+00             4.175753             4.175753         4.175753e+00             4.175753         4.175753e+00             4.175753             4.175753             4.175753             4.175753         4.175753e+00\n",
            "mae           7.592808e-01             0.759281             0.759281         7.592808e-01             0.759281         7.592808e-01             0.759281             0.759281             0.759281             0.759281         7.592808e-01\n",
            "*********************************************************\n",
            "model1\n",
            "       t+1_   ____Q,rad/s   t+1_   _beta,__deg   t+1_   _roll,__deg   t+1_   ____R,rad/s   t+1_   pitch,__deg   t+1_   ____P,rad/s   t+1_   __VVI,__fpm   t+1_   __alt,ftmsl   t+1_   Vtrue,_ktas   t+1_   rpm_1,_prop   t+1_   thro1,_part \n",
            "count         4.772900e+05        477290.000000        477290.000000         4.772900e+05        477290.000000         4.772900e+05        477290.000000        477290.000000        477290.000000        477290.000000         4.772900e+05\n",
            "mean          3.814590e-03             0.006402            -0.791050        -1.839620e-03            -0.653565        -2.251091e-05            31.866864          2714.494657           119.567394          2490.421446         8.376013e-01\n",
            "std           7.104948e-03             0.137680             8.876411         2.390454e-02             1.684673         1.734834e-02           274.991234          1357.480898            10.113312           127.216670         8.211498e-02\n",
            "min          -3.868000e-02            -0.689970           -23.851520        -5.482000e-02            -9.313510        -1.098100e-01         -1917.888180           805.092900            66.424780          2106.257810         7.960800e-01\n",
            "25%          -1.000000e-05            -0.082300            -4.070882        -1.088750e-02            -1.284488        -4.100000e-04           -38.766265          1411.464812           116.120015          2424.051882         7.960800e-01\n",
            "50%           1.120000e-03             0.004390            -0.104720        -2.000000e-05            -0.787045         0.000000e+00             0.342395          2622.403565           118.825780          2458.394900         7.960800e-01\n",
            "75%           1.016000e-02             0.073260             0.212860         8.500000e-04            -0.151363         3.900000e-04           165.372623          3896.206053           122.745007          2504.543950         7.960800e-01\n",
            "max           4.165000e-02             0.353550            25.924920         5.540000e-02            11.796170         1.113100e-01           978.538330          5080.888180           155.436650          2811.808840         1.000000e+00\n",
            "mses          3.106575e-08             0.000002             0.001450         1.090102e-08             0.000153         6.237674e-08            22.982855           238.714149             0.002828             0.811454         4.120094e-08\n",
            "rmes          1.762548e-04             0.001389             0.038082         1.044080e-04             0.012385         2.497534e-04             4.794044            15.450377             0.053180             0.900807         2.029801e-04\n",
            "maes          1.365108e-04             0.001126             0.028009         7.862925e-05             0.009065         1.488493e-04             4.463400             9.028191             0.031848             0.806724         1.462107e-04\n",
            "mse           2.386481e+01            23.864808            23.864808         2.386481e+01            23.864808         2.386481e+01            23.864808            23.864808            23.864808            23.864808         2.386481e+01\n",
            "rme           4.885162e+00             4.885162             4.885162         4.885162e+00             4.885162         4.885162e+00             4.885162             4.885162             4.885162             4.885162         4.885162e+00\n",
            "mae           1.306261e+00             1.306261             1.306261         1.306261e+00             1.306261         1.306261e+00             1.306261             1.306261             1.306261             1.306261         1.306261e+00\n",
            "*********************************************************\n",
            "model1\n",
            "       t+1_   ____Q,rad/s   t+1_   _beta,__deg   t+1_   _roll,__deg   t+1_   ____R,rad/s   t+1_   pitch,__deg   t+1_   ____P,rad/s   t+1_   __VVI,__fpm   t+1_   __alt,ftmsl   t+1_   Vtrue,_ktas   t+1_   rpm_1,_prop   t+1_   thro1,_part \n",
            "count         4.772900e+05        477290.000000        477290.000000         4.772900e+05        477290.000000         4.772900e+05        477290.000000        477290.000000        477290.000000        477290.000000         4.772900e+05\n",
            "mean          3.814590e-03             0.006402            -0.791050        -1.839620e-03            -0.653565        -2.251091e-05            31.866864          2714.494657           119.567394          2490.421446         8.376013e-01\n",
            "std           7.104948e-03             0.137680             8.876411         2.390454e-02             1.684673         1.734834e-02           274.991234          1357.480898            10.113312           127.216670         8.211498e-02\n",
            "min          -3.868000e-02            -0.689970           -23.851520        -5.482000e-02            -9.313510        -1.098100e-01         -1917.888180           805.092900            66.424780          2106.257810         7.960800e-01\n",
            "25%          -1.000000e-05            -0.082300            -4.070882        -1.088750e-02            -1.284488        -4.100000e-04           -38.766265          1411.464812           116.120015          2424.051882         7.960800e-01\n",
            "50%           1.120000e-03             0.004390            -0.104720        -2.000000e-05            -0.787045         0.000000e+00             0.342395          2622.403565           118.825780          2458.394900         7.960800e-01\n",
            "75%           1.016000e-02             0.073260             0.212860         8.500000e-04            -0.151363         3.900000e-04           165.372623          3896.206053           122.745007          2504.543950         7.960800e-01\n",
            "max           4.165000e-02             0.353550            25.924920         5.540000e-02            11.796170         1.113100e-01           978.538330          5080.888180           155.436650          2811.808840         1.000000e+00\n",
            "mses          3.521719e-08             0.000003             0.008245         1.421847e-08             0.003569         2.360781e-07            54.360144           166.241940             0.038949             2.068217         3.395291e-08\n",
            "rmes          1.876624e-04             0.001605             0.090803         1.192412e-04             0.059742         4.858787e-04             7.372933            12.893484             0.197354             1.438130         1.842631e-04\n",
            "maes          1.364813e-04             0.001255             0.061645         9.605619e-05             0.052082         4.089277e-04             7.094369             3.610053             0.183581             1.365034         1.333187e-04\n",
            "mse           2.024737e+01            20.247370            20.247370         2.024737e+01            20.247370         2.024737e+01            20.247370            20.247370            20.247370            20.247370         2.024737e+01\n",
            "rme           4.499708e+00             4.499708             4.499708         4.499708e+00             4.499708         4.499708e+00             4.499708             4.499708             4.499708             4.499708         4.499708e+00\n",
            "mae           1.124436e+00             1.124436             1.124436         1.124436e+00             1.124436         1.124436e+00             1.124436             1.124436             1.124436             1.124436         1.124436e+00\n",
            "*********************************************************\n"
          ],
          "name": "stdout"
        }
      ]
    },
    {
      "cell_type": "code",
      "metadata": {
        "id": "N-8LmbK2eki9",
        "colab_type": "code",
        "colab": {}
      },
      "source": [
        ""
      ],
      "execution_count": 0,
      "outputs": []
    }
  ]
}