{
  "nbformat": 4,
  "nbformat_minor": 0,
  "metadata": {
    "colab": {
      "name": "02_gridsearch_bn.ipynb",
      "provenance": [],
      "collapsed_sections": [],
      "toc_visible": true,
      "machine_shape": "hm",
      "include_colab_link": true
    },
    "kernelspec": {
      "name": "python3",
      "display_name": "Python 3"
    },
    "accelerator": "GPU"
  },
  "cells": [
    {
      "cell_type": "markdown",
      "metadata": {
        "id": "view-in-github",
        "colab_type": "text"
      },
      "source": [
        "<a href=\"https://colab.research.google.com/github/CrowdSalat/ann-dynamical-systems/blob/master/02_gridsearch_bn.ipynb\" target=\"_parent\"><img src=\"https://colab.research.google.com/assets/colab-badge.svg\" alt=\"Open In Colab\"/></a>"
      ]
    },
    {
      "cell_type": "markdown",
      "metadata": {
        "id": "Pa9Mju9lc4Ll",
        "colab_type": "text"
      },
      "source": [
        "# overview\n",
        "\n",
        "Uses actions and an input state to predict the output state."
      ]
    },
    {
      "cell_type": "markdown",
      "metadata": {
        "id": "ijDD21X-gnli",
        "colab_type": "text"
      },
      "source": [
        "# imports"
      ]
    },
    {
      "cell_type": "code",
      "metadata": {
        "id": "_Z4pV678a1zv",
        "colab_type": "code",
        "outputId": "fc9d24eb-3103-4e97-ca20-9435499fec70",
        "colab": {
          "base_uri": "https://localhost:8080/",
          "height": 35
        }
      },
      "source": [
        "try:\n",
        "  # %tensorflow_version only exists in Colab.\n",
        "  %tensorflow_version 2.x\n",
        "except Exception:\n",
        "  pass"
      ],
      "execution_count": 0,
      "outputs": [
        {
          "output_type": "stream",
          "text": [
            "TensorFlow 2.x selected.\n"
          ],
          "name": "stdout"
        }
      ]
    },
    {
      "cell_type": "code",
      "metadata": {
        "id": "2p4YwEK_f7kq",
        "colab_type": "code",
        "outputId": "d026f460-5d56-4549-de9e-61f53caf010a",
        "colab": {
          "base_uri": "https://localhost:8080/",
          "height": 35
        }
      },
      "source": [
        "import pandas as pd\n",
        "import numpy as np\n",
        "import os\n",
        "import sys\n",
        "import datetime\n",
        "import math\n",
        "import pickle\n",
        "import matplotlib.pyplot as plt\n",
        "from sklearn.preprocessing import MinMaxScaler\n",
        "from sklearn.metrics import mean_squared_error\n",
        "from sklearn.metrics import mean_absolute_error\n",
        "\n",
        "from sklearn.model_selection import train_test_split\n",
        "from sklearn.preprocessing import MinMaxScaler\n",
        "\n",
        "\n",
        "import tensorflow as tf\n",
        "print(tf.__version__)\n",
        "from tensorflow import keras\n",
        "\n",
        "from tensorflow.keras.models import Sequential\n",
        "from tensorflow.keras.layers import Dense\n",
        "from tensorflow.keras.layers import *\n",
        "from tensorflow.keras import metrics"
      ],
      "execution_count": 0,
      "outputs": [
        {
          "output_type": "stream",
          "text": [
            "2.0.0\n"
          ],
          "name": "stdout"
        }
      ]
    },
    {
      "cell_type": "code",
      "metadata": {
        "id": "RPDma-JqgyaM",
        "colab_type": "code",
        "outputId": "7ecf6ed8-1907-4e95-883f-22ecd27f9591",
        "colab": {
          "base_uri": "https://localhost:8080/",
          "height": 35
        }
      },
      "source": [
        "base_folder = './results'\n",
        "notebook_folder = '02_gridsearch_bn'\n",
        "results_folder = os.path.join(base_folder, notebook_folder)\n",
        "os.makedirs(results_folder, exist_ok=True)\n",
        "print('results_folder : ', results_folder)\n",
        "\n",
        "saved_model_weight = 'saved_weights'\n",
        "saved_model_weight_path = os.path.join(results_folder, saved_model_weight)\n",
        "os.makedirs(saved_model_weight_path, exist_ok=True)\n"
      ],
      "execution_count": 0,
      "outputs": [
        {
          "output_type": "stream",
          "text": [
            "results_folder :  ./results/02_gridsearch_bn\n"
          ],
          "name": "stdout"
        }
      ]
    },
    {
      "cell_type": "markdown",
      "metadata": {
        "id": "rmj8c18xllpT",
        "colab_type": "text"
      },
      "source": [
        "# mount drive"
      ]
    },
    {
      "cell_type": "code",
      "metadata": {
        "id": "nUEqcpzvltdo",
        "colab_type": "code",
        "colab": {}
      },
      "source": [
        "file = 'dataset_all_01.csv'"
      ],
      "execution_count": 0,
      "outputs": []
    },
    {
      "cell_type": "code",
      "metadata": {
        "id": "TuGWEMS1loFz",
        "colab_type": "code",
        "outputId": "1df31ef0-04a2-45d9-9a84-5bfed92e6ef7",
        "colab": {
          "base_uri": "https://localhost:8080/",
          "height": 144
        }
      },
      "source": [
        "from google.colab import drive\n",
        "drive.mount('/content/drive')\n",
        "\n",
        "root_dir = '/content/drive/My Drive/xplane_data' \n",
        "os.chdir(root_dir)\n",
        "print ('working dir: ' + os.getcwd())"
      ],
      "execution_count": 0,
      "outputs": [
        {
          "output_type": "stream",
          "text": [
            "Go to this URL in a browser: https://accounts.google.com/o/oauth2/auth?client_id=947318989803-6bn6qk8qdgf4n4g3pfee6491hc0brc4i.apps.googleusercontent.com&redirect_uri=urn%3Aietf%3Awg%3Aoauth%3A2.0%3Aoob&scope=email%20https%3A%2F%2Fwww.googleapis.com%2Fauth%2Fdocs.test%20https%3A%2F%2Fwww.googleapis.com%2Fauth%2Fdrive%20https%3A%2F%2Fwww.googleapis.com%2Fauth%2Fdrive.photos.readonly%20https%3A%2F%2Fwww.googleapis.com%2Fauth%2Fpeopleapi.readonly&response_type=code\n",
            "\n",
            "Enter your authorization code:\n",
            "··········\n",
            "Mounted at /content/drive\n",
            "working dir: /content/drive/My Drive/xplane_data\n"
          ],
          "name": "stdout"
        }
      ]
    },
    {
      "cell_type": "markdown",
      "metadata": {
        "id": "EF4tx110HmOj",
        "colab_type": "text"
      },
      "source": [
        "# load data"
      ]
    },
    {
      "cell_type": "markdown",
      "metadata": {
        "id": "EOM6RVAIduGr",
        "colab_type": "text"
      },
      "source": [
        "## define features (actions & states)\n",
        "actions and states at time t (t-1, t-2 ...) are the input for the network.\n",
        "\n",
        "the states at time t + 1 are the desired output of the network.\n"
      ]
    },
    {
      "cell_type": "code",
      "metadata": {
        "id": "YH9bVQ3YDyTh",
        "colab_type": "code",
        "colab": {}
      },
      "source": [
        "col_m_time      = '   missn,_time '\n",
        "col_t_time      = '   _totl,_time '\n",
        "col_yaw_v       = '   ____Q,rad/s '\n",
        "\n",
        "col_yaw_deg     = '   _beta,__deg '\n",
        "col_roll_deg    = '   _roll,__deg '\n",
        "col_roll_v      = '   ____R,rad/s '\n",
        "col_pitch_deg   = '   pitch,__deg '\n",
        "col_pitch_v     = '   ____P,rad/s '\n",
        "col_alt         = '   __alt,ftmsl '\n",
        "col_vv          = '   __VVI,__fpm '\n",
        "col_v           = '   Vtrue,_ktas '\n",
        "col_rpm_prop    = '   rpm_1,_prop '\n",
        "col_throttle     = '   thro1,_part '\n",
        "\n",
        "cols_state = [ \n",
        "    col_yaw_v,\n",
        "    col_yaw_deg,\n",
        "    col_roll_deg,\n",
        "    col_roll_v,\n",
        "    col_pitch_deg,\n",
        "    col_pitch_v,\n",
        "    col_vv,\n",
        "    col_alt,\n",
        "    col_v,\n",
        "\n",
        "]\n",
        "\n",
        "cols_time = [\n",
        "    col_m_time,\n",
        "    col_t_time,\n",
        "]\n",
        "\n",
        "col_elev_servo                  = '   _elev,servo '\n",
        "col_ailrn_servo                  = '   ailrn,servo '\n",
        "col_ruddr_servo                  = '   ruddr,servo '\n",
        "\n",
        "cols_action = [\n",
        "    col_elev_servo,\n",
        "    col_ailrn_servo,\n",
        "    col_ruddr_servo,\n",
        "    col_rpm_prop,\n",
        "    col_throttle,\n",
        "]\n",
        "\n",
        "# all input columns\n",
        "cols_features = []\n",
        "cols_features.extend(cols_state)\n",
        "cols_features.extend(cols_action)\n",
        "\n",
        "# orga column\n",
        "col_dataset_index = 'dataset_index'\n",
        "col_maneuver_index = 'maneuver_index'\n",
        "col_maneuver_name = 'maneuver_name'\n",
        "col_maneuver_datapoint_index = 'maneuver_datapoint_index'\n",
        "col_maneuver_type = 'maneuver_type'\n",
        "cols_org = [col_dataset_index, col_maneuver_index, col_maneuver_name,\n",
        "            col_maneuver_datapoint_index,col_maneuver_type]\n",
        "\n"
      ],
      "execution_count": 0,
      "outputs": []
    },
    {
      "cell_type": "markdown",
      "metadata": {
        "id": "gDSNkVBaDv2V",
        "colab_type": "text"
      },
      "source": [
        "## load data"
      ]
    },
    {
      "cell_type": "code",
      "metadata": {
        "id": "uByPEHX3fS2G",
        "colab_type": "code",
        "outputId": "7e59aed7-9043-441a-e367-7fd816e8cb78",
        "colab": {
          "base_uri": "https://localhost:8080/",
          "height": 204
        }
      },
      "source": [
        "def load_xplane_csv(csv_path, columns):\n",
        "    return pd.read_csv(csv_path, delimiter=',', usecols = columns, \n",
        "                       float_precision='high')\n",
        "\n",
        "df_data = load_xplane_csv(file, cols_org + cols_state + cols_action)\n",
        "\n",
        "print(len(cols_org))\n",
        "print(len(cols_state))\n",
        "print(len(cols_action))\n",
        "print(df_data.shape)\n",
        "df_data.head(2)"
      ],
      "execution_count": 0,
      "outputs": [
        {
          "output_type": "stream",
          "text": [
            "5\n",
            "9\n",
            "5\n",
            "(477893, 19)\n"
          ],
          "name": "stdout"
        },
        {
          "output_type": "execute_result",
          "data": {
            "text/html": [
              "<div>\n",
              "<style scoped>\n",
              "    .dataframe tbody tr th:only-of-type {\n",
              "        vertical-align: middle;\n",
              "    }\n",
              "\n",
              "    .dataframe tbody tr th {\n",
              "        vertical-align: top;\n",
              "    }\n",
              "\n",
              "    .dataframe thead th {\n",
              "        text-align: right;\n",
              "    }\n",
              "</style>\n",
              "<table border=\"1\" class=\"dataframe\">\n",
              "  <thead>\n",
              "    <tr style=\"text-align: right;\">\n",
              "      <th></th>\n",
              "      <th>dataset_index</th>\n",
              "      <th>maneuver_index</th>\n",
              "      <th>maneuver_name</th>\n",
              "      <th>maneuver_type</th>\n",
              "      <th>maneuver_datapoint_index</th>\n",
              "      <th>Vtrue,_ktas</th>\n",
              "      <th>__VVI,__fpm</th>\n",
              "      <th>____Q,rad/s</th>\n",
              "      <th>____P,rad/s</th>\n",
              "      <th>____R,rad/s</th>\n",
              "      <th>pitch,__deg</th>\n",
              "      <th>_roll,__deg</th>\n",
              "      <th>_beta,__deg</th>\n",
              "      <th>__alt,ftmsl</th>\n",
              "      <th>thro1,_part</th>\n",
              "      <th>rpm_1,_prop</th>\n",
              "      <th>_elev,servo</th>\n",
              "      <th>ailrn,servo</th>\n",
              "      <th>ruddr,servo</th>\n",
              "    </tr>\n",
              "  </thead>\n",
              "  <tbody>\n",
              "    <tr>\n",
              "      <th>0</th>\n",
              "      <td>0</td>\n",
              "      <td>0</td>\n",
              "      <td>0</td>\n",
              "      <td>0</td>\n",
              "      <td>0</td>\n",
              "      <td>115.86147</td>\n",
              "      <td>665.39697</td>\n",
              "      <td>-0.03945</td>\n",
              "      <td>-0.00235</td>\n",
              "      <td>0.00008</td>\n",
              "      <td>-0.03584</td>\n",
              "      <td>-0.10129</td>\n",
              "      <td>0.00793</td>\n",
              "      <td>953.06787</td>\n",
              "      <td>0.79608</td>\n",
              "      <td>2443.89453</td>\n",
              "      <td>-0.00489</td>\n",
              "      <td>-0.01818</td>\n",
              "      <td>0.0</td>\n",
              "    </tr>\n",
              "    <tr>\n",
              "      <th>1</th>\n",
              "      <td>0</td>\n",
              "      <td>0</td>\n",
              "      <td>0</td>\n",
              "      <td>0</td>\n",
              "      <td>1</td>\n",
              "      <td>115.85403</td>\n",
              "      <td>650.10065</td>\n",
              "      <td>-0.03868</td>\n",
              "      <td>-0.00234</td>\n",
              "      <td>0.00007</td>\n",
              "      <td>-0.14285</td>\n",
              "      <td>-0.10772</td>\n",
              "      <td>0.00770</td>\n",
              "      <td>953.30768</td>\n",
              "      <td>0.79608</td>\n",
              "      <td>2443.77563</td>\n",
              "      <td>0.00134</td>\n",
              "      <td>-0.01815</td>\n",
              "      <td>0.0</td>\n",
              "    </tr>\n",
              "  </tbody>\n",
              "</table>\n",
              "</div>"
            ],
            "text/plain": [
              "   dataset_index  maneuver_index  ...     ailrn,servo      ruddr,servo \n",
              "0              0               0  ...         -0.01818              0.0\n",
              "1              0               0  ...         -0.01815              0.0\n",
              "\n",
              "[2 rows x 19 columns]"
            ]
          },
          "metadata": {
            "tags": []
          },
          "execution_count": 8
        }
      ]
    },
    {
      "cell_type": "markdown",
      "metadata": {
        "id": "47xDI8rfLJTv",
        "colab_type": "text"
      },
      "source": [
        "# define data preperation functions"
      ]
    },
    {
      "cell_type": "code",
      "metadata": {
        "id": "-EBCtY9f7KnC",
        "colab_type": "code",
        "colab": {}
      },
      "source": [
        "def series_to_supervised(data, n_in=1, n_out=1, dropnan=True, cols_label=None):\n",
        "\tdata_in = data.drop(cols_org, axis=1)\n",
        "\tif cols_label == None:\n",
        "\t\tdata_out = data_in.drop(cols_action, axis=1)\n",
        "\telse:\n",
        "\t\tif type(cols_label) != list:\n",
        "\t\t\tcols_label = [cols_label]\n",
        "\t\tdata_out = data_in[cols_label]\n",
        "\n",
        "\tcols_in = data_in.columns\n",
        "\tcols_out = data_out.columns\n",
        "\tcols, names = list(), list()\n",
        "\t# input sequence (t-n, ... t-1, t)\n",
        "\tfor i in range(n_in, 0, -1):\n",
        "\t\tcols.append(data_in.shift(i))\n",
        "\t\tif i == 1:\n",
        "\t\t\tnames += [('%s(t)' % (col_in)) for col_in in cols_in]\n",
        "\t\telse:\n",
        "\t\t\tnames += [('%s(t-%d)' % (col_in, i-1)) for col_in in cols_in]\n",
        "\n",
        "\t# forecast sequence (t+1, ... t+n)\n",
        "\tfor i in range(0, n_out):\n",
        "\t\tcols.append(data_out.shift(-i))\n",
        "\t\tnames += [('%s(t+%d)' % (col_out, i+1)) for col_out in cols_out]\n",
        "\t# put it all together\n",
        "\tagg = pd.concat(cols, axis=1)\n",
        "\tagg.columns = names\n",
        "\t# drop rows with NaN values\n",
        "\tif dropnan:\n",
        "\t\tagg.dropna(inplace=True)\n",
        "\treturn agg, cols_out"
      ],
      "execution_count": 0,
      "outputs": []
    },
    {
      "cell_type": "code",
      "metadata": {
        "id": "nOzBV1rYVGCn",
        "colab_type": "code",
        "colab": {}
      },
      "source": [
        "def split_feature_label(data_labeled, n_input_steps):\n",
        "  data_X = data_labeled.values[:, 0:n_input_steps*len(cols_features)]\n",
        "  data_Y = data_labeled.values[:, n_input_steps*len(cols_features):]\n",
        "  return data_X, data_Y"
      ],
      "execution_count": 0,
      "outputs": []
    },
    {
      "cell_type": "code",
      "metadata": {
        "id": "otFsVggWMbpz",
        "colab_type": "code",
        "colab": {}
      },
      "source": [
        "def scale_data(data_X, data_Y):\n",
        "  feature_scaler = MinMaxScaler()\n",
        "  data_X = feature_scaler.fit_transform(data_X)\n",
        "  label_scaler = MinMaxScaler()\n",
        "  data_Y = label_scaler.fit_transform(data_Y)\n",
        "  return feature_scaler, label_scaler, data_X, data_Y"
      ],
      "execution_count": 0,
      "outputs": []
    },
    {
      "cell_type": "code",
      "metadata": {
        "id": "bYXja56FWJnk",
        "colab_type": "code",
        "colab": {}
      },
      "source": [
        "def prepare_datasets(data, n_in=1, n_out=1):\n",
        "  #train-test-split\n",
        "  test = data.query('dataset_index==4')\n",
        "  train = data.query('dataset_index!=4')\n",
        "  \n",
        "  #add-label\n",
        "  test_labeled, labels = series_to_supervised(test, n_in=n_in, n_out=n_out,dropnan=True)\n",
        "  train_labeled, labels = series_to_supervised(train, n_in=n_in, n_out=n_out,dropnan=True)\n",
        "  \n",
        "\n",
        "  #split-feature-label\n",
        "  train_X, train_Y = split_feature_label(train_labeled, n_in)\n",
        "  test_X, test_Y = split_feature_label(test_labeled, n_in)\n",
        "  #scale-feat\n",
        "  feature_scaler, label_scaler, train_X, train_Y = scale_data(train_X, train_Y)\n",
        "  #scale-label\n",
        "  test_X, test_Y = feature_scaler.transform(test_X), label_scaler.transform(test_Y)\n",
        "\n",
        "  return train_X, train_Y, test_X, test_Y, feature_scaler, label_scaler, labels\n",
        "\n",
        "\n",
        "#TODO für RNN muss noch reshape stattfinden"
      ],
      "execution_count": 0,
      "outputs": []
    },
    {
      "cell_type": "markdown",
      "metadata": {
        "id": "S_kDrS1qH7kc",
        "colab_type": "text"
      },
      "source": [
        "# train models"
      ]
    },
    {
      "cell_type": "markdown",
      "metadata": {
        "id": "rjgpogwABFhX",
        "colab_type": "text"
      },
      "source": [
        "## define callbacks functions"
      ]
    },
    {
      "cell_type": "code",
      "metadata": {
        "id": "18w_KQkpBFEY",
        "colab_type": "code",
        "colab": {}
      },
      "source": [
        "def prepare_tensorboard_callback(model_name=''):\n",
        "  logs_base_dir = \"./tensorbaord_logs\"\n",
        "  model_log_dir = datetime.datetime.now().strftime(\"%Y%m%d-%H%M%S\") + '_' + model_name\n",
        "  target_log_dir = os.path.join(logs_base_dir, model_log_dir)\n",
        "  os.makedirs(target_log_dir, exist_ok=True)\n",
        "  tensorboard_callback = tf.keras.callbacks.TensorBoard(target_log_dir, histogram_freq=1)\n",
        "  return tensorboard_callback\n"
      ],
      "execution_count": 0,
      "outputs": []
    },
    {
      "cell_type": "code",
      "metadata": {
        "id": "MYl_6s7sBMpy",
        "colab_type": "code",
        "colab": {}
      },
      "source": [
        "def prepare_checkpoint_callback(model_name):\n",
        "  checkpoint_base_dir = './checkpoints'\n",
        "  os.makedirs(checkpoint_base_dir, exist_ok=True)\n",
        "  filepath = os.path.join(checkpoint_base_dir, 'cp_'+ model_name)\n",
        "  cp_callback = tf.keras.callbacks.ModelCheckpoint(filepath=filepath,\n",
        "                                                  save_weights_only=True,\n",
        "                                                  verbose=1)\n",
        "  return cp_callback "
      ],
      "execution_count": 0,
      "outputs": []
    },
    {
      "cell_type": "markdown",
      "metadata": {
        "id": "3y07Q50xkLvG",
        "colab_type": "text"
      },
      "source": [
        "## define plot_and_save functions"
      ]
    },
    {
      "cell_type": "markdown",
      "metadata": {
        "id": "l8uMddMPkSc1",
        "colab_type": "text"
      },
      "source": [
        "### loss historie"
      ]
    },
    {
      "cell_type": "code",
      "metadata": {
        "id": "I9UHTxwnkWyp",
        "colab_type": "code",
        "colab": {}
      },
      "source": [
        "def save_plots_before_show(diagramm_name):\n",
        "  if not os.path.exists(results_folder):\n",
        "      os.makedirs(diagramm_folder)\n",
        "\n",
        "  plt.savefig(results_folder + '/' + diagramm_name +'.pdf')\n",
        "  plt.savefig(results_folder + '/' + diagramm_name +'.svg')\n",
        "  plt.savefig(results_folder + '/' + diagramm_name +'.png')\n",
        "\n",
        "def pas_history(model_tupels, histories, key='mean_squared_error'):\n",
        "  model_names = [model_tupel[0] for model_tupel in model_tupels]\n",
        "  plt.figure(figsize=(16,10))\n",
        "  for i, history in enumerate(histories):\n",
        "    history_epoch= range(0, len(history['loss']) )\n",
        "\n",
        "    val = plt.plot(history_epoch, history['val_'+key],\n",
        "                   '--', label=model_names[i]+' Val')\n",
        "    plt.plot(history_epoch, history[key], color=val[0].get_color(),\n",
        "             label=model_names[i]+' Train')\n",
        "\n",
        "  plt.xlabel('Epochs')\n",
        "  plt.yscale(\"log\")\n",
        "  plt.ylabel(key.replace('_',' ').title())\n",
        "  plt.legend()\n",
        "\n",
        "  plt.xlim([0,max(history_epoch)])\n",
        "  save_plots_before_show('history_loss'+'_'+key)\n",
        "  plt.show()"
      ],
      "execution_count": 0,
      "outputs": []
    },
    {
      "cell_type": "markdown",
      "metadata": {
        "id": "VJNfegiglg59",
        "colab_type": "text"
      },
      "source": [
        "### metrics (overall and for all single targets )\n",
        "\n"
      ]
    },
    {
      "cell_type": "code",
      "metadata": {
        "id": "be-UQiKHli16",
        "colab_type": "code",
        "colab": {}
      },
      "source": [
        "def pas_metrics_scaled(model_tupel):\n",
        "  model_name = model_tupel[0]\n",
        "  df = _df_prediction_metrics(model_tupel, scaled=True)\n",
        "  file_path = os.path.join(results_folder, model_name + '_scaled.csv')\n",
        "  df.to_csv(path_or_buf=file_path)\n",
        "  return df\n",
        "  \n",
        "def pas_metrics(model_tupel):\n",
        "  model_name = model_tupel[0]\n",
        "  df = _df_prediction_metrics(model_tupel, scaled=False)\n",
        "  file_path = os.path.join(results_folder, model_name + '.csv')\n",
        "  df.to_csv(path_or_buf=file_path)\n",
        "  return df\n",
        "\n",
        "\n",
        "def _df_prediction_metrics(model_tupel, scaled):\n",
        "  '''\n",
        "  creates describe dataframe of labels and \n",
        "  connect them with mse,rmse and mae per target and overall \n",
        "  '''\n",
        "  \n",
        "  model = model_tupel[1]\n",
        "  train_X, train_Y, test_X, test_Y = model_tupel[2]\n",
        "  cols_label = model_tupel[4]\n",
        "\n",
        "\n",
        "  pred_Y = model.predict(test_X)\n",
        "  \n",
        "  if scaled:\n",
        "    truth_Y = test_Y\n",
        "  else:\n",
        "    label_scaler = model_tupel[3]\n",
        "    pred_Y = label_scaler.inverse_transform(pred_Y)\n",
        "    truth_Y = label_scaler.inverse_transform(test_Y)\n",
        "\n",
        "  df_describe = pd.DataFrame(truth_Y,columns=cols_label).describe()\n",
        "  mses = mean_squared_error(truth_Y, pred_Y, multioutput='raw_values')\n",
        "  rmses = np.array([math.sqrt(mse) for mse in mses])\n",
        "  maes = mean_absolute_error(truth_Y, pred_Y, multioutput='raw_values')\n",
        "  # average over list should do the job as well\n",
        "  mse = mean_squared_error(truth_Y, pred_Y)\n",
        "  rmse = math.sqrt(mse)\n",
        "  mae = mean_absolute_error(truth_Y, pred_Y)\n",
        "\n",
        "\n",
        "  df_mse_per_feature = pd.DataFrame(data=mses.reshape(1,-1),    # values\n",
        "            index=['mses'],     # index\n",
        "            columns=cols_label)  #  column names\n",
        "  df_rmse_per_feature = pd.DataFrame(data=rmses.reshape(1,-1),    # values\n",
        "        index=['rmes'],     # index\n",
        "        columns=cols_label)  #  column names\n",
        "  df_mae_per_feature = pd.DataFrame(data=maes.reshape(1,-1),    # values\n",
        "        index=['maes'],     # index\n",
        "        columns=cols_label)  #  column names\n",
        "  \n",
        "  \n",
        "  df_mse_all = pd.DataFrame(data=mse,    # values\n",
        "            index=['mse'],     # index\n",
        "            columns=cols_label)  #  column names\n",
        "  df_rmse_all = pd.DataFrame(data=rmse,    # values\n",
        "        index=['rme'],     # index\n",
        "        columns=cols_label)  #  column names\n",
        "  df_mae_all = pd.DataFrame(data=mae,    # values\n",
        "        index=['mae'],     # index\n",
        "        columns=cols_label)  #  column names\n",
        "  \n",
        "\n",
        "  metrics = [df_mse_per_feature, df_rmse_per_feature, df_mae_per_feature, \n",
        "             df_mse_all,df_rmse_all,df_mae_all]\n",
        "  return df_describe.append(metrics)"
      ],
      "execution_count": 0,
      "outputs": []
    },
    {
      "cell_type": "markdown",
      "metadata": {
        "id": "4gaR7IV326E_",
        "colab_type": "text"
      },
      "source": [
        "## define models"
      ]
    },
    {
      "cell_type": "code",
      "metadata": {
        "id": "Fhc2M4VD2_YP",
        "colab_type": "code",
        "colab": {}
      },
      "source": [
        "def create_model(model_name, layers, keras_activation, kernel_initializer, \n",
        "                 loss, metrics,  n_in=1, n_out=1):\n",
        "  if not layers:\n",
        "    raise Exception('No layers defined. Expected in format [100,100]') \n",
        "\n",
        " #prepare data\n",
        "  train_X, train_Y, test_X, test_Y, feature_scaler, label_scaler, labels = prepare_datasets(df_data, n_in, n_out)\n",
        "  features_nr = train_X.shape[1]\n",
        "  target_nr = train_Y.shape[1]\n",
        "    \n",
        "  model = keras.Sequential(name=model_name)\n",
        "  \n",
        "  model.add(Dense(layers[0],input_shape=(features_nr,), \n",
        "                          kernel_initializer=kernel_initializer))\n",
        "  model.add(keras_activation())\n",
        "  for i in range(1, len(layers)):\n",
        "    layer_val = layers[i]\n",
        "    model.add(Dense(layer_val, kernel_initializer=kernel_initializer))\n",
        "    model.add(keras_activation())\n",
        "\n",
        "  model.add(Dense(target_nr ))\n",
        "\n",
        "  model.compile(optimizer='adam',\n",
        "                        loss=loss,\n",
        "                        metrics=metrics)\n",
        "\n",
        "  model.summary()\n",
        "  print(model.to_json())\n",
        "  print(train_X.shape, train_Y.shape, test_X.shape, test_Y.shape)\n",
        "  return (model_name, model, (train_X, train_Y, test_X, test_Y), label_scaler, labels)\n"
      ],
      "execution_count": 0,
      "outputs": []
    },
    {
      "cell_type": "code",
      "metadata": {
        "id": "KwMj6E7mBL9m",
        "colab_type": "code",
        "outputId": "a4dbdcf9-eafc-4caa-a69a-a9709f790889",
        "colab": {
          "base_uri": "https://localhost:8080/",
          "height": 1000
        }
      },
      "source": [
        "loss='mean_squared_error',\n",
        "metrics=['mean_squared_error', 'mean_absolute_error']\n",
        "\n",
        "\n",
        "\n",
        "baseline_without_bn = create_model('baseline_without_bn', [1200, 600, 600], ReLU, 'he_uniform', \n",
        "             loss, metrics, 1,1)\n",
        "\n",
        "model_2x400 = create_model('model_2x400', [400, 400], ReLU, 'he_uniform', \n",
        "             loss, metrics)\n",
        "\n",
        "model_2x200 = create_model('model_2x200', [200, 200], ReLU, 'he_uniform', \n",
        "             loss, metrics)\n",
        "\n",
        "\n",
        "model_2x100 = create_model('model_2x100', [100, 100], ReLU, 'he_uniform', \n",
        "             loss, metrics)\n",
        "\n",
        "model_2x50 = create_model('model_2x50', [50, 50], ReLU, 'he_uniform', \n",
        "             loss, metrics)\n",
        "\n",
        "model_200 = create_model('model_200', [200], ReLU, 'he_uniform', \n",
        "             loss, metrics)\n",
        "\n",
        "\n",
        "\n",
        "models = [baseline_without_bn,\n",
        "          model_2x400,\n",
        "          model_2x200,\n",
        "          model_2x100,\n",
        "          model_2x50,\n",
        "          model_200        \n",
        "]"
      ],
      "execution_count": 0,
      "outputs": [
        {
          "output_type": "stream",
          "text": [
            "Model: \"baseline_without_bn\"\n",
            "_________________________________________________________________\n",
            "Layer (type)                 Output Shape              Param #   \n",
            "=================================================================\n",
            "dense (Dense)                (None, 1200)              18000     \n",
            "_________________________________________________________________\n",
            "re_lu (ReLU)                 (None, 1200)              0         \n",
            "_________________________________________________________________\n",
            "dense_1 (Dense)              (None, 600)               720600    \n",
            "_________________________________________________________________\n",
            "re_lu_1 (ReLU)               (None, 600)               0         \n",
            "_________________________________________________________________\n",
            "dense_2 (Dense)              (None, 600)               360600    \n",
            "_________________________________________________________________\n",
            "re_lu_2 (ReLU)               (None, 600)               0         \n",
            "_________________________________________________________________\n",
            "dense_3 (Dense)              (None, 9)                 5409      \n",
            "=================================================================\n",
            "Total params: 1,104,609\n",
            "Trainable params: 1,104,609\n",
            "Non-trainable params: 0\n",
            "_________________________________________________________________\n",
            "{\"class_name\": \"Sequential\", \"config\": {\"name\": \"baseline_without_bn\", \"layers\": [{\"class_name\": \"Dense\", \"config\": {\"name\": \"dense\", \"trainable\": true, \"batch_input_shape\": [null, 14], \"dtype\": \"float32\", \"units\": 1200, \"activation\": \"linear\", \"use_bias\": true, \"kernel_initializer\": {\"class_name\": \"VarianceScaling\", \"config\": {\"scale\": 2.0, \"mode\": \"fan_in\", \"distribution\": \"uniform\", \"seed\": null}}, \"bias_initializer\": {\"class_name\": \"Zeros\", \"config\": {}}, \"kernel_regularizer\": null, \"bias_regularizer\": null, \"activity_regularizer\": null, \"kernel_constraint\": null, \"bias_constraint\": null}}, {\"class_name\": \"ReLU\", \"config\": {\"name\": \"re_lu\", \"trainable\": true, \"dtype\": \"float32\", \"max_value\": null, \"negative_slope\": 0.0, \"threshold\": 0.0}}, {\"class_name\": \"Dense\", \"config\": {\"name\": \"dense_1\", \"trainable\": true, \"dtype\": \"float32\", \"units\": 600, \"activation\": \"linear\", \"use_bias\": true, \"kernel_initializer\": {\"class_name\": \"VarianceScaling\", \"config\": {\"scale\": 2.0, \"mode\": \"fan_in\", \"distribution\": \"uniform\", \"seed\": null}}, \"bias_initializer\": {\"class_name\": \"Zeros\", \"config\": {}}, \"kernel_regularizer\": null, \"bias_regularizer\": null, \"activity_regularizer\": null, \"kernel_constraint\": null, \"bias_constraint\": null}}, {\"class_name\": \"ReLU\", \"config\": {\"name\": \"re_lu_1\", \"trainable\": true, \"dtype\": \"float32\", \"max_value\": null, \"negative_slope\": 0.0, \"threshold\": 0.0}}, {\"class_name\": \"Dense\", \"config\": {\"name\": \"dense_2\", \"trainable\": true, \"dtype\": \"float32\", \"units\": 600, \"activation\": \"linear\", \"use_bias\": true, \"kernel_initializer\": {\"class_name\": \"VarianceScaling\", \"config\": {\"scale\": 2.0, \"mode\": \"fan_in\", \"distribution\": \"uniform\", \"seed\": null}}, \"bias_initializer\": {\"class_name\": \"Zeros\", \"config\": {}}, \"kernel_regularizer\": null, \"bias_regularizer\": null, \"activity_regularizer\": null, \"kernel_constraint\": null, \"bias_constraint\": null}}, {\"class_name\": \"ReLU\", \"config\": {\"name\": \"re_lu_2\", \"trainable\": true, \"dtype\": \"float32\", \"max_value\": null, \"negative_slope\": 0.0, \"threshold\": 0.0}}, {\"class_name\": \"Dense\", \"config\": {\"name\": \"dense_3\", \"trainable\": true, \"dtype\": \"float32\", \"units\": 9, \"activation\": \"linear\", \"use_bias\": true, \"kernel_initializer\": {\"class_name\": \"GlorotUniform\", \"config\": {\"seed\": null}}, \"bias_initializer\": {\"class_name\": \"Zeros\", \"config\": {}}, \"kernel_regularizer\": null, \"bias_regularizer\": null, \"activity_regularizer\": null, \"kernel_constraint\": null, \"bias_constraint\": null}}]}, \"keras_version\": \"2.2.4-tf\", \"backend\": \"tensorflow\"}\n",
            "(330984, 14) (330984, 9) (146907, 14) (146907, 9)\n",
            "Model: \"model_2x400\"\n",
            "_________________________________________________________________\n",
            "Layer (type)                 Output Shape              Param #   \n",
            "=================================================================\n",
            "dense_4 (Dense)              (None, 400)               6000      \n",
            "_________________________________________________________________\n",
            "re_lu_3 (ReLU)               (None, 400)               0         \n",
            "_________________________________________________________________\n",
            "dense_5 (Dense)              (None, 400)               160400    \n",
            "_________________________________________________________________\n",
            "re_lu_4 (ReLU)               (None, 400)               0         \n",
            "_________________________________________________________________\n",
            "dense_6 (Dense)              (None, 9)                 3609      \n",
            "=================================================================\n",
            "Total params: 170,009\n",
            "Trainable params: 170,009\n",
            "Non-trainable params: 0\n",
            "_________________________________________________________________\n",
            "{\"class_name\": \"Sequential\", \"config\": {\"name\": \"model_2x400\", \"layers\": [{\"class_name\": \"Dense\", \"config\": {\"name\": \"dense_4\", \"trainable\": true, \"batch_input_shape\": [null, 14], \"dtype\": \"float32\", \"units\": 400, \"activation\": \"linear\", \"use_bias\": true, \"kernel_initializer\": {\"class_name\": \"VarianceScaling\", \"config\": {\"scale\": 2.0, \"mode\": \"fan_in\", \"distribution\": \"uniform\", \"seed\": null}}, \"bias_initializer\": {\"class_name\": \"Zeros\", \"config\": {}}, \"kernel_regularizer\": null, \"bias_regularizer\": null, \"activity_regularizer\": null, \"kernel_constraint\": null, \"bias_constraint\": null}}, {\"class_name\": \"ReLU\", \"config\": {\"name\": \"re_lu_3\", \"trainable\": true, \"dtype\": \"float32\", \"max_value\": null, \"negative_slope\": 0.0, \"threshold\": 0.0}}, {\"class_name\": \"Dense\", \"config\": {\"name\": \"dense_5\", \"trainable\": true, \"dtype\": \"float32\", \"units\": 400, \"activation\": \"linear\", \"use_bias\": true, \"kernel_initializer\": {\"class_name\": \"VarianceScaling\", \"config\": {\"scale\": 2.0, \"mode\": \"fan_in\", \"distribution\": \"uniform\", \"seed\": null}}, \"bias_initializer\": {\"class_name\": \"Zeros\", \"config\": {}}, \"kernel_regularizer\": null, \"bias_regularizer\": null, \"activity_regularizer\": null, \"kernel_constraint\": null, \"bias_constraint\": null}}, {\"class_name\": \"ReLU\", \"config\": {\"name\": \"re_lu_4\", \"trainable\": true, \"dtype\": \"float32\", \"max_value\": null, \"negative_slope\": 0.0, \"threshold\": 0.0}}, {\"class_name\": \"Dense\", \"config\": {\"name\": \"dense_6\", \"trainable\": true, \"dtype\": \"float32\", \"units\": 9, \"activation\": \"linear\", \"use_bias\": true, \"kernel_initializer\": {\"class_name\": \"GlorotUniform\", \"config\": {\"seed\": null}}, \"bias_initializer\": {\"class_name\": \"Zeros\", \"config\": {}}, \"kernel_regularizer\": null, \"bias_regularizer\": null, \"activity_regularizer\": null, \"kernel_constraint\": null, \"bias_constraint\": null}}]}, \"keras_version\": \"2.2.4-tf\", \"backend\": \"tensorflow\"}\n",
            "(330984, 14) (330984, 9) (146907, 14) (146907, 9)\n",
            "Model: \"model_2x200\"\n",
            "_________________________________________________________________\n",
            "Layer (type)                 Output Shape              Param #   \n",
            "=================================================================\n",
            "dense_7 (Dense)              (None, 200)               3000      \n",
            "_________________________________________________________________\n",
            "re_lu_5 (ReLU)               (None, 200)               0         \n",
            "_________________________________________________________________\n",
            "dense_8 (Dense)              (None, 200)               40200     \n",
            "_________________________________________________________________\n",
            "re_lu_6 (ReLU)               (None, 200)               0         \n",
            "_________________________________________________________________\n",
            "dense_9 (Dense)              (None, 9)                 1809      \n",
            "=================================================================\n",
            "Total params: 45,009\n",
            "Trainable params: 45,009\n",
            "Non-trainable params: 0\n",
            "_________________________________________________________________\n",
            "{\"class_name\": \"Sequential\", \"config\": {\"name\": \"model_2x200\", \"layers\": [{\"class_name\": \"Dense\", \"config\": {\"name\": \"dense_7\", \"trainable\": true, \"batch_input_shape\": [null, 14], \"dtype\": \"float32\", \"units\": 200, \"activation\": \"linear\", \"use_bias\": true, \"kernel_initializer\": {\"class_name\": \"VarianceScaling\", \"config\": {\"scale\": 2.0, \"mode\": \"fan_in\", \"distribution\": \"uniform\", \"seed\": null}}, \"bias_initializer\": {\"class_name\": \"Zeros\", \"config\": {}}, \"kernel_regularizer\": null, \"bias_regularizer\": null, \"activity_regularizer\": null, \"kernel_constraint\": null, \"bias_constraint\": null}}, {\"class_name\": \"ReLU\", \"config\": {\"name\": \"re_lu_5\", \"trainable\": true, \"dtype\": \"float32\", \"max_value\": null, \"negative_slope\": 0.0, \"threshold\": 0.0}}, {\"class_name\": \"Dense\", \"config\": {\"name\": \"dense_8\", \"trainable\": true, \"dtype\": \"float32\", \"units\": 200, \"activation\": \"linear\", \"use_bias\": true, \"kernel_initializer\": {\"class_name\": \"VarianceScaling\", \"config\": {\"scale\": 2.0, \"mode\": \"fan_in\", \"distribution\": \"uniform\", \"seed\": null}}, \"bias_initializer\": {\"class_name\": \"Zeros\", \"config\": {}}, \"kernel_regularizer\": null, \"bias_regularizer\": null, \"activity_regularizer\": null, \"kernel_constraint\": null, \"bias_constraint\": null}}, {\"class_name\": \"ReLU\", \"config\": {\"name\": \"re_lu_6\", \"trainable\": true, \"dtype\": \"float32\", \"max_value\": null, \"negative_slope\": 0.0, \"threshold\": 0.0}}, {\"class_name\": \"Dense\", \"config\": {\"name\": \"dense_9\", \"trainable\": true, \"dtype\": \"float32\", \"units\": 9, \"activation\": \"linear\", \"use_bias\": true, \"kernel_initializer\": {\"class_name\": \"GlorotUniform\", \"config\": {\"seed\": null}}, \"bias_initializer\": {\"class_name\": \"Zeros\", \"config\": {}}, \"kernel_regularizer\": null, \"bias_regularizer\": null, \"activity_regularizer\": null, \"kernel_constraint\": null, \"bias_constraint\": null}}]}, \"keras_version\": \"2.2.4-tf\", \"backend\": \"tensorflow\"}\n",
            "(330984, 14) (330984, 9) (146907, 14) (146907, 9)\n",
            "Model: \"model_2x100\"\n",
            "_________________________________________________________________\n",
            "Layer (type)                 Output Shape              Param #   \n",
            "=================================================================\n",
            "dense_10 (Dense)             (None, 100)               1500      \n",
            "_________________________________________________________________\n",
            "re_lu_7 (ReLU)               (None, 100)               0         \n",
            "_________________________________________________________________\n",
            "dense_11 (Dense)             (None, 100)               10100     \n",
            "_________________________________________________________________\n",
            "re_lu_8 (ReLU)               (None, 100)               0         \n",
            "_________________________________________________________________\n",
            "dense_12 (Dense)             (None, 9)                 909       \n",
            "=================================================================\n",
            "Total params: 12,509\n",
            "Trainable params: 12,509\n",
            "Non-trainable params: 0\n",
            "_________________________________________________________________\n",
            "{\"class_name\": \"Sequential\", \"config\": {\"name\": \"model_2x100\", \"layers\": [{\"class_name\": \"Dense\", \"config\": {\"name\": \"dense_10\", \"trainable\": true, \"batch_input_shape\": [null, 14], \"dtype\": \"float32\", \"units\": 100, \"activation\": \"linear\", \"use_bias\": true, \"kernel_initializer\": {\"class_name\": \"VarianceScaling\", \"config\": {\"scale\": 2.0, \"mode\": \"fan_in\", \"distribution\": \"uniform\", \"seed\": null}}, \"bias_initializer\": {\"class_name\": \"Zeros\", \"config\": {}}, \"kernel_regularizer\": null, \"bias_regularizer\": null, \"activity_regularizer\": null, \"kernel_constraint\": null, \"bias_constraint\": null}}, {\"class_name\": \"ReLU\", \"config\": {\"name\": \"re_lu_7\", \"trainable\": true, \"dtype\": \"float32\", \"max_value\": null, \"negative_slope\": 0.0, \"threshold\": 0.0}}, {\"class_name\": \"Dense\", \"config\": {\"name\": \"dense_11\", \"trainable\": true, \"dtype\": \"float32\", \"units\": 100, \"activation\": \"linear\", \"use_bias\": true, \"kernel_initializer\": {\"class_name\": \"VarianceScaling\", \"config\": {\"scale\": 2.0, \"mode\": \"fan_in\", \"distribution\": \"uniform\", \"seed\": null}}, \"bias_initializer\": {\"class_name\": \"Zeros\", \"config\": {}}, \"kernel_regularizer\": null, \"bias_regularizer\": null, \"activity_regularizer\": null, \"kernel_constraint\": null, \"bias_constraint\": null}}, {\"class_name\": \"ReLU\", \"config\": {\"name\": \"re_lu_8\", \"trainable\": true, \"dtype\": \"float32\", \"max_value\": null, \"negative_slope\": 0.0, \"threshold\": 0.0}}, {\"class_name\": \"Dense\", \"config\": {\"name\": \"dense_12\", \"trainable\": true, \"dtype\": \"float32\", \"units\": 9, \"activation\": \"linear\", \"use_bias\": true, \"kernel_initializer\": {\"class_name\": \"GlorotUniform\", \"config\": {\"seed\": null}}, \"bias_initializer\": {\"class_name\": \"Zeros\", \"config\": {}}, \"kernel_regularizer\": null, \"bias_regularizer\": null, \"activity_regularizer\": null, \"kernel_constraint\": null, \"bias_constraint\": null}}]}, \"keras_version\": \"2.2.4-tf\", \"backend\": \"tensorflow\"}\n",
            "(330984, 14) (330984, 9) (146907, 14) (146907, 9)\n",
            "Model: \"model_2x50\"\n",
            "_________________________________________________________________\n",
            "Layer (type)                 Output Shape              Param #   \n",
            "=================================================================\n",
            "dense_13 (Dense)             (None, 50)                750       \n",
            "_________________________________________________________________\n",
            "re_lu_9 (ReLU)               (None, 50)                0         \n",
            "_________________________________________________________________\n",
            "dense_14 (Dense)             (None, 50)                2550      \n",
            "_________________________________________________________________\n",
            "re_lu_10 (ReLU)              (None, 50)                0         \n",
            "_________________________________________________________________\n",
            "dense_15 (Dense)             (None, 9)                 459       \n",
            "=================================================================\n",
            "Total params: 3,759\n",
            "Trainable params: 3,759\n",
            "Non-trainable params: 0\n",
            "_________________________________________________________________\n",
            "{\"class_name\": \"Sequential\", \"config\": {\"name\": \"model_2x50\", \"layers\": [{\"class_name\": \"Dense\", \"config\": {\"name\": \"dense_13\", \"trainable\": true, \"batch_input_shape\": [null, 14], \"dtype\": \"float32\", \"units\": 50, \"activation\": \"linear\", \"use_bias\": true, \"kernel_initializer\": {\"class_name\": \"VarianceScaling\", \"config\": {\"scale\": 2.0, \"mode\": \"fan_in\", \"distribution\": \"uniform\", \"seed\": null}}, \"bias_initializer\": {\"class_name\": \"Zeros\", \"config\": {}}, \"kernel_regularizer\": null, \"bias_regularizer\": null, \"activity_regularizer\": null, \"kernel_constraint\": null, \"bias_constraint\": null}}, {\"class_name\": \"ReLU\", \"config\": {\"name\": \"re_lu_9\", \"trainable\": true, \"dtype\": \"float32\", \"max_value\": null, \"negative_slope\": 0.0, \"threshold\": 0.0}}, {\"class_name\": \"Dense\", \"config\": {\"name\": \"dense_14\", \"trainable\": true, \"dtype\": \"float32\", \"units\": 50, \"activation\": \"linear\", \"use_bias\": true, \"kernel_initializer\": {\"class_name\": \"VarianceScaling\", \"config\": {\"scale\": 2.0, \"mode\": \"fan_in\", \"distribution\": \"uniform\", \"seed\": null}}, \"bias_initializer\": {\"class_name\": \"Zeros\", \"config\": {}}, \"kernel_regularizer\": null, \"bias_regularizer\": null, \"activity_regularizer\": null, \"kernel_constraint\": null, \"bias_constraint\": null}}, {\"class_name\": \"ReLU\", \"config\": {\"name\": \"re_lu_10\", \"trainable\": true, \"dtype\": \"float32\", \"max_value\": null, \"negative_slope\": 0.0, \"threshold\": 0.0}}, {\"class_name\": \"Dense\", \"config\": {\"name\": \"dense_15\", \"trainable\": true, \"dtype\": \"float32\", \"units\": 9, \"activation\": \"linear\", \"use_bias\": true, \"kernel_initializer\": {\"class_name\": \"GlorotUniform\", \"config\": {\"seed\": null}}, \"bias_initializer\": {\"class_name\": \"Zeros\", \"config\": {}}, \"kernel_regularizer\": null, \"bias_regularizer\": null, \"activity_regularizer\": null, \"kernel_constraint\": null, \"bias_constraint\": null}}]}, \"keras_version\": \"2.2.4-tf\", \"backend\": \"tensorflow\"}\n",
            "(330984, 14) (330984, 9) (146907, 14) (146907, 9)\n",
            "Model: \"model_200\"\n",
            "_________________________________________________________________\n",
            "Layer (type)                 Output Shape              Param #   \n",
            "=================================================================\n",
            "dense_16 (Dense)             (None, 200)               3000      \n",
            "_________________________________________________________________\n",
            "re_lu_11 (ReLU)              (None, 200)               0         \n",
            "_________________________________________________________________\n",
            "dense_17 (Dense)             (None, 9)                 1809      \n",
            "=================================================================\n",
            "Total params: 4,809\n",
            "Trainable params: 4,809\n",
            "Non-trainable params: 0\n",
            "_________________________________________________________________\n",
            "{\"class_name\": \"Sequential\", \"config\": {\"name\": \"model_200\", \"layers\": [{\"class_name\": \"Dense\", \"config\": {\"name\": \"dense_16\", \"trainable\": true, \"batch_input_shape\": [null, 14], \"dtype\": \"float32\", \"units\": 200, \"activation\": \"linear\", \"use_bias\": true, \"kernel_initializer\": {\"class_name\": \"VarianceScaling\", \"config\": {\"scale\": 2.0, \"mode\": \"fan_in\", \"distribution\": \"uniform\", \"seed\": null}}, \"bias_initializer\": {\"class_name\": \"Zeros\", \"config\": {}}, \"kernel_regularizer\": null, \"bias_regularizer\": null, \"activity_regularizer\": null, \"kernel_constraint\": null, \"bias_constraint\": null}}, {\"class_name\": \"ReLU\", \"config\": {\"name\": \"re_lu_11\", \"trainable\": true, \"dtype\": \"float32\", \"max_value\": null, \"negative_slope\": 0.0, \"threshold\": 0.0}}, {\"class_name\": \"Dense\", \"config\": {\"name\": \"dense_17\", \"trainable\": true, \"dtype\": \"float32\", \"units\": 9, \"activation\": \"linear\", \"use_bias\": true, \"kernel_initializer\": {\"class_name\": \"GlorotUniform\", \"config\": {\"seed\": null}}, \"bias_initializer\": {\"class_name\": \"Zeros\", \"config\": {}}, \"kernel_regularizer\": null, \"bias_regularizer\": null, \"activity_regularizer\": null, \"kernel_constraint\": null, \"bias_constraint\": null}}]}, \"keras_version\": \"2.2.4-tf\", \"backend\": \"tensorflow\"}\n",
            "(330984, 14) (330984, 9) (146907, 14) (146907, 9)\n"
          ],
          "name": "stdout"
        }
      ]
    },
    {
      "cell_type": "markdown",
      "metadata": {
        "id": "HtFN-OP2HlqQ",
        "colab_type": "text"
      },
      "source": [
        "## train, save and load model"
      ]
    },
    {
      "cell_type": "code",
      "metadata": {
        "id": "DDmtdBRxJKJd",
        "colab_type": "code",
        "colab": {}
      },
      "source": [
        "def train_model(model_tupel, epochs, batch_size):\n",
        "  model_name = model_tupel[0]\n",
        "  keras_model = model_tupel[1]\n",
        "  train_X, train_Y, test_X, test_Y = model_tupel[2]\n",
        "\n",
        "  callbacks = [\n",
        "              #prepare_checkpoint_callback(model_name=model_name),\n",
        "              #prepare_tensorboard_callback(model_name=model_name)\n",
        "              ]\n",
        "\n",
        "  history = keras_model.fit(train_X,\n",
        "                            train_Y,\n",
        "                            epochs=epochs,\n",
        "                            batch_size=batch_size,\n",
        "                            validation_data=(test_X, test_Y),\n",
        "                            verbose=2,\n",
        "                            callbacks=callbacks\n",
        "                            )\n",
        "  return history  \n",
        "\n",
        "def _format_model_path(model_name):\n",
        "  file_name = '{}_end'.format(model_name)\n",
        "  return os.path.join(saved_model_weight_path, file_name)\n",
        "\n",
        "def save_model(model_tupel):\n",
        "  model_name = model_tupel[0]\n",
        "  keras_model = model_tupel[1]\n",
        "  file_path = _format_model_path(model_name)\n",
        "  keras_model.save_weights(file_path)\n",
        "\n",
        "def load_model(model_tupel):\n",
        "  model_name = model_tupel[0]\n",
        "  keras_model = model_tupel[1]\n",
        "  file_path = _format_model_path(model_name)\n",
        "  exact_file_path = file_path + '.index'\n",
        "  if os.path.isfile(exact_file_path):\n",
        "    print('load model {}'.format(model_name))\n",
        "    keras_model.load_weights(file_path)\n",
        "    return True\n",
        "  else:\n",
        "    return False\n",
        "\n",
        "def _format_history_path(model_name):\n",
        "  file_name = '{}_history_dict'.format(model_name)\n",
        "  return os.path.join(results_folder, file_name)\n",
        "  \n",
        "\n",
        "def save_history(model_tupel, history):\n",
        "  file_path = _format_history_path(model_tupel[0])\n",
        "  with open(file_path, 'wb') as file_hist:\n",
        "        pickle.dump(history.history, file_hist)\n",
        "  \n",
        "\n",
        "def load_history(model_tupel):\n",
        "  file_path = _format_history_path(model_tupel[0])\n",
        "  if not os.path.isfile(file_path):\n",
        "    return dict()\n",
        "  with open(file_path, 'rb') as file_hist:\n",
        "    return pickle.load(file_hist)"
      ],
      "execution_count": 0,
      "outputs": []
    },
    {
      "cell_type": "code",
      "metadata": {
        "id": "DxQg934JhE_H",
        "colab_type": "code",
        "outputId": "37339cb6-db2d-4f8e-bb91-fc9ddc185615",
        "colab": {
          "base_uri": "https://localhost:8080/",
          "height": 124
        }
      },
      "source": [
        "histories = []\n",
        "for model in models:\n",
        "  if not load_model(model):\n",
        "    print(model[0])\n",
        "    history = train_model(model, epochs=20, batch_size=64)\n",
        "    save_model(model)\n",
        "    save_history(model, history)\n",
        "    histories.append(history.history)\n",
        "    print('*******************')\n",
        "  else:\n",
        "    history = load_history(model)\n",
        "    histories.append(history)"
      ],
      "execution_count": 0,
      "outputs": [
        {
          "output_type": "stream",
          "text": [
            "load model baseline_without_bn\n",
            "load model model_2x400\n",
            "load model model_2x200\n",
            "load model model_2x100\n",
            "load model model_2x50\n",
            "load model model_200\n"
          ],
          "name": "stdout"
        }
      ]
    },
    {
      "cell_type": "markdown",
      "metadata": {
        "id": "XRLpUIJnZ-eq",
        "colab_type": "text"
      },
      "source": [
        "## visualize"
      ]
    },
    {
      "cell_type": "markdown",
      "metadata": {
        "id": "8X1nsxWEO59n",
        "colab_type": "text"
      },
      "source": [
        "### Test & Training Loss"
      ]
    },
    {
      "cell_type": "code",
      "metadata": {
        "id": "q7eOZ0lAe1CP",
        "colab_type": "code",
        "outputId": "92354ff1-52e0-4fd4-e220-1f904b272b02",
        "colab": {
          "base_uri": "https://localhost:8080/",
          "height": 339
        }
      },
      "source": [
        "for i, history in enumerate(histories):\n",
        "  last_loss = history['loss'][-1]\n",
        "  last_val_loss = history['val_loss'][-1]\n",
        "  model_name = models[i][0]\n",
        "  print('{} model last loss: {}'.format(model_name,last_loss))\n",
        "  print('{} model last val loss: {}'.format(model_name,last_val_loss))\n",
        "  print('*******')"
      ],
      "execution_count": 0,
      "outputs": [
        {
          "output_type": "stream",
          "text": [
            "baseline_without_bn model last loss: 5.276408297225394e-06\n",
            "baseline_without_bn model last val loss: 8.208799323532643e-05\n",
            "*******\n",
            "model_2x400 model last loss: 4.489533097681325e-06\n",
            "model_2x400 model last val loss: 2.1381204021969733e-05\n",
            "*******\n",
            "model_2x200 model last loss: 4.732697750994481e-06\n",
            "model_2x200 model last val loss: 3.0606115425619344e-05\n",
            "*******\n",
            "model_2x100 model last loss: 4.642930349803882e-06\n",
            "model_2x100 model last val loss: 7.456937663509483e-05\n",
            "*******\n",
            "model_2x50 model last loss: 4.496992539701901e-06\n",
            "model_2x50 model last val loss: 7.323844084331738e-05\n",
            "*******\n",
            "model_200 model last loss: 6.274419079691996e-06\n",
            "model_200 model last val loss: 2.9729933688048903e-05\n",
            "*******\n"
          ],
          "name": "stdout"
        }
      ]
    },
    {
      "cell_type": "code",
      "metadata": {
        "id": "gbFhTgXGITKV",
        "colab_type": "code",
        "outputId": "d7d01da7-256c-476e-8c56-9dc3225ff66e",
        "colab": {
          "base_uri": "https://localhost:8080/",
          "height": 606
        }
      },
      "source": [
        "pas_history(models, histories=histories)"
      ],
      "execution_count": 0,
      "outputs": [
        {
          "output_type": "display_data",
          "data": {
            "image/png": "[encoded data removed]",
            "text/plain": [
              "<Figure size 1152x720 with 1 Axes>"
            ]
          },
          "metadata": {
            "tags": []
          }
        }
      ]
    },
    {
      "cell_type": "markdown",
      "metadata": {
        "id": "4vT7MLiJPSQ2",
        "colab_type": "text"
      },
      "source": [
        "\n",
        "### MSE per target (scaled)"
      ]
    },
    {
      "cell_type": "code",
      "metadata": {
        "id": "o03Cq_x5nhRe",
        "colab_type": "code",
        "outputId": "09840c20-68fc-49e2-8139-6477c618a362",
        "colab": {
          "base_uri": "https://localhost:8080/",
          "height": 1000
        }
      },
      "source": [
        "for model_tupel in models:\n",
        "  df = pas_metrics_scaled(model_tupel)\n",
        "  print(model_tupel[0])\n",
        "  with pd.option_context('display.max_rows', None, 'display.max_columns', None,\n",
        "                         'display.width', 1000): \n",
        "    print(df)\n",
        "  print('*********************************************************')"
      ],
      "execution_count": 0,
      "outputs": [
        {
          "output_type": "stream",
          "text": [
            "baseline_without_bn\n",
            "          Vtrue,_ktas      __VVI,__fpm      ____Q,rad/s      ____P,rad/s      ____R,rad/s      pitch,__deg      _roll,__deg      _beta,__deg      __alt,ftmsl \n",
            "count    146907.000000    146907.000000    146907.000000    146907.000000    146907.000000    146907.000000    146907.000000    146907.000000    146907.000000\n",
            "mean          0.504412         0.737227         0.570341         0.485060         0.485233         0.531587         0.464654         0.620080         0.541116\n",
            "std           0.106511         0.106115         0.096593         0.137143         0.297851         0.109146         0.243538         0.211064         0.313282\n",
            "min          -0.145712         0.315198         0.075314        -0.114067         0.001815         0.194934         0.019929        -0.224448         0.020174\n",
            "25%           0.491325         0.719309         0.483381         0.478066         0.141444         0.498651         0.178618         0.402814         0.258517\n",
            "50%           0.516065         0.736735         0.612474         0.485824         0.495373         0.523474         0.475117         0.619407         0.502333\n",
            "75%           0.540668         0.757760         0.622681         0.493745         0.817728         0.538931         0.733206         0.857215         0.743406\n",
            "max           0.863996         1.112528         0.958919         1.093909         0.990564         1.288604         0.928746         1.008269         0.980654\n",
            "mses          0.000107         0.000113         0.000087         0.000068         0.000058         0.000019         0.000056         0.000089         0.000142\n",
            "rmes          0.010329         0.010636         0.009339         0.008253         0.007635         0.004333         0.007471         0.009439         0.011902\n",
            "maes          0.003421         0.003957         0.003804         0.004001         0.002882         0.002097         0.003031         0.003405         0.002727\n",
            "mse           0.000082         0.000082         0.000082         0.000082         0.000082         0.000082         0.000082         0.000082         0.000082\n",
            "rme           0.009060         0.009060         0.009060         0.009060         0.009060         0.009060         0.009060         0.009060         0.009060\n",
            "mae           0.003258         0.003258         0.003258         0.003258         0.003258         0.003258         0.003258         0.003258         0.003258\n",
            "*********************************************************\n",
            "model_2x400\n",
            "          Vtrue,_ktas      __VVI,__fpm      ____Q,rad/s      ____P,rad/s      ____R,rad/s      pitch,__deg      _roll,__deg      _beta,__deg      __alt,ftmsl \n",
            "count    146907.000000    146907.000000    146907.000000    146907.000000    146907.000000    146907.000000    146907.000000    146907.000000    146907.000000\n",
            "mean          0.504412         0.737227         0.570341         0.485060         0.485233         0.531587         0.464654         0.620080         0.541116\n",
            "std           0.106511         0.106115         0.096593         0.137143         0.297851         0.109146         0.243538         0.211064         0.313282\n",
            "min          -0.145712         0.315198         0.075314        -0.114067         0.001815         0.194934         0.019929        -0.224448         0.020174\n",
            "25%           0.491325         0.719309         0.483381         0.478066         0.141444         0.498651         0.178618         0.402814         0.258517\n",
            "50%           0.516065         0.736735         0.612474         0.485824         0.495373         0.523474         0.475117         0.619407         0.502333\n",
            "75%           0.540668         0.757760         0.622681         0.493745         0.817728         0.538931         0.733206         0.857215         0.743406\n",
            "max           0.863996         1.112528         0.958919         1.093909         0.990564         1.288604         0.928746         1.008269         0.980654\n",
            "mses          0.000024         0.000030         0.000024         0.000020         0.000016         0.000020         0.000015         0.000021         0.000022\n",
            "rmes          0.004875         0.005485         0.004866         0.004519         0.003943         0.004515         0.003844         0.004635         0.004722\n",
            "maes          0.001996         0.002540         0.002224         0.002251         0.002029         0.002089         0.001599         0.002544         0.001658\n",
            "mse           0.000021         0.000021         0.000021         0.000021         0.000021         0.000021         0.000021         0.000021         0.000021\n",
            "rme           0.004624         0.004624         0.004624         0.004624         0.004624         0.004624         0.004624         0.004624         0.004624\n",
            "mae           0.002103         0.002103         0.002103         0.002103         0.002103         0.002103         0.002103         0.002103         0.002103\n",
            "*********************************************************\n",
            "model_2x200\n",
            "          Vtrue,_ktas      __VVI,__fpm      ____Q,rad/s      ____P,rad/s      ____R,rad/s      pitch,__deg      _roll,__deg      _beta,__deg      __alt,ftmsl \n",
            "count    146907.000000    146907.000000    146907.000000    146907.000000    146907.000000    146907.000000    146907.000000    146907.000000    146907.000000\n",
            "mean          0.504412         0.737227         0.570341         0.485060         0.485233         0.531587         0.464654         0.620080         0.541116\n",
            "std           0.106511         0.106115         0.096593         0.137143         0.297851         0.109146         0.243538         0.211064         0.313282\n",
            "min          -0.145712         0.315198         0.075314        -0.114067         0.001815         0.194934         0.019929        -0.224448         0.020174\n",
            "25%           0.491325         0.719309         0.483381         0.478066         0.141444         0.498651         0.178618         0.402814         0.258517\n",
            "50%           0.516065         0.736735         0.612474         0.485824         0.495373         0.523474         0.475117         0.619407         0.502333\n",
            "75%           0.540668         0.757760         0.622681         0.493745         0.817728         0.538931         0.733206         0.857215         0.743406\n",
            "max           0.863996         1.112528         0.958919         1.093909         0.990564         1.288604         0.928746         1.008269         0.980654\n",
            "mses          0.000023         0.000020         0.000046         0.000031         0.000027         0.000023         0.000020         0.000058         0.000027\n",
            "rmes          0.004839         0.004436         0.006759         0.005573         0.005152         0.004804         0.004499         0.007649         0.005222\n",
            "maes          0.001879         0.002100         0.003079         0.002663         0.002567         0.002357         0.001955         0.003602         0.002438\n",
            "mse           0.000031         0.000031         0.000031         0.000031         0.000031         0.000031         0.000031         0.000031         0.000031\n",
            "rme           0.005532         0.005532         0.005532         0.005532         0.005532         0.005532         0.005532         0.005532         0.005532\n",
            "mae           0.002516         0.002516         0.002516         0.002516         0.002516         0.002516         0.002516         0.002516         0.002516\n",
            "*********************************************************\n",
            "model_2x100\n",
            "          Vtrue,_ktas      __VVI,__fpm      ____Q,rad/s      ____P,rad/s      ____R,rad/s      pitch,__deg      _roll,__deg      _beta,__deg      __alt,ftmsl \n",
            "count    146907.000000    146907.000000    146907.000000    146907.000000    146907.000000    146907.000000    146907.000000    146907.000000    146907.000000\n",
            "mean          0.504412         0.737227         0.570341         0.485060         0.485233         0.531587         0.464654         0.620080         0.541116\n",
            "std           0.106511         0.106115         0.096593         0.137143         0.297851         0.109146         0.243538         0.211064         0.313282\n",
            "min          -0.145712         0.315198         0.075314        -0.114067         0.001815         0.194934         0.019929        -0.224448         0.020174\n",
            "25%           0.491325         0.719309         0.483381         0.478066         0.141444         0.498651         0.178618         0.402814         0.258517\n",
            "50%           0.516065         0.736735         0.612474         0.485824         0.495373         0.523474         0.475117         0.619407         0.502333\n",
            "75%           0.540668         0.757760         0.622681         0.493745         0.817728         0.538931         0.733206         0.857215         0.743406\n",
            "max           0.863996         1.112528         0.958919         1.093909         0.990564         1.288604         0.928746         1.008269         0.980654\n",
            "mses          0.000220         0.000032         0.000059         0.000064         0.000019         0.000047         0.000014         0.000082         0.000134\n",
            "rmes          0.014832         0.005689         0.007673         0.008003         0.004362         0.006846         0.003801         0.009048         0.011560\n",
            "maes          0.003528         0.002359         0.003857         0.005501         0.002403         0.002069         0.001761         0.004076         0.002324\n",
            "mse           0.000075         0.000075         0.000075         0.000075         0.000075         0.000075         0.000075         0.000075         0.000075\n",
            "rme           0.008635         0.008635         0.008635         0.008635         0.008635         0.008635         0.008635         0.008635         0.008635\n",
            "mae           0.003098         0.003098         0.003098         0.003098         0.003098         0.003098         0.003098         0.003098         0.003098\n",
            "*********************************************************\n",
            "model_2x50\n",
            "          Vtrue,_ktas      __VVI,__fpm      ____Q,rad/s      ____P,rad/s      ____R,rad/s      pitch,__deg      _roll,__deg      _beta,__deg      __alt,ftmsl \n",
            "count    146907.000000    146907.000000    146907.000000    146907.000000    146907.000000    146907.000000    146907.000000    146907.000000    146907.000000\n",
            "mean          0.504412         0.737227         0.570341         0.485060         0.485233         0.531587         0.464654         0.620080         0.541116\n",
            "std           0.106511         0.106115         0.096593         0.137143         0.297851         0.109146         0.243538         0.211064         0.313282\n",
            "min          -0.145712         0.315198         0.075314        -0.114067         0.001815         0.194934         0.019929        -0.224448         0.020174\n",
            "25%           0.491325         0.719309         0.483381         0.478066         0.141444         0.498651         0.178618         0.402814         0.258517\n",
            "50%           0.516065         0.736735         0.612474         0.485824         0.495373         0.523474         0.475117         0.619407         0.502333\n",
            "75%           0.540668         0.757760         0.622681         0.493745         0.817728         0.538931         0.733206         0.857215         0.743406\n",
            "max           0.863996         1.112528         0.958919         1.093909         0.990564         1.288604         0.928746         1.008269         0.980654\n",
            "mses          0.000173         0.000094         0.000038         0.000029         0.000017         0.000261         0.000018         0.000015         0.000015\n",
            "rmes          0.013137         0.009702         0.006152         0.005361         0.004154         0.016157         0.004228         0.003813         0.003889\n",
            "maes          0.002141         0.002942         0.001766         0.002624         0.002461         0.002719         0.002933         0.001370         0.001252\n",
            "mse           0.000073         0.000073         0.000073         0.000073         0.000073         0.000073         0.000073         0.000073         0.000073\n",
            "rme           0.008558         0.008558         0.008558         0.008558         0.008558         0.008558         0.008558         0.008558         0.008558\n",
            "mae           0.002245         0.002245         0.002245         0.002245         0.002245         0.002245         0.002245         0.002245         0.002245\n",
            "*********************************************************\n",
            "model_200\n",
            "          Vtrue,_ktas      __VVI,__fpm      ____Q,rad/s      ____P,rad/s      ____R,rad/s      pitch,__deg      _roll,__deg      _beta,__deg      __alt,ftmsl \n",
            "count    146907.000000    146907.000000    146907.000000    146907.000000    146907.000000    146907.000000    146907.000000    146907.000000    146907.000000\n",
            "mean          0.504412         0.737227         0.570341         0.485060         0.485233         0.531587         0.464654         0.620080         0.541116\n",
            "std           0.106511         0.106115         0.096593         0.137143         0.297851         0.109146         0.243538         0.211064         0.313282\n",
            "min          -0.145712         0.315198         0.075314        -0.114067         0.001815         0.194934         0.019929        -0.224448         0.020174\n",
            "25%           0.491325         0.719309         0.483381         0.478066         0.141444         0.498651         0.178618         0.402814         0.258517\n",
            "50%           0.516065         0.736735         0.612474         0.485824         0.495373         0.523474         0.475117         0.619407         0.502333\n",
            "75%           0.540668         0.757760         0.622681         0.493745         0.817728         0.538931         0.733206         0.857215         0.743406\n",
            "max           0.863996         1.112528         0.958919         1.093909         0.990564         1.288604         0.928746         1.008269         0.980654\n",
            "mses          0.000023         0.000029         0.000043         0.000034         0.000041         0.000025         0.000013         0.000034         0.000025\n",
            "rmes          0.004807         0.005419         0.006577         0.005829         0.006426         0.004952         0.003667         0.005835         0.004953\n",
            "maes          0.001901         0.002708         0.003610         0.003528         0.004939         0.002855         0.001559         0.002975         0.001722\n",
            "mse           0.000030         0.000030         0.000030         0.000030         0.000030         0.000030         0.000030         0.000030         0.000030\n",
            "rme           0.005453         0.005453         0.005453         0.005453         0.005453         0.005453         0.005453         0.005453         0.005453\n",
            "mae           0.002866         0.002866         0.002866         0.002866         0.002866         0.002866         0.002866         0.002866         0.002866\n",
            "*********************************************************\n"
          ],
          "name": "stdout"
        }
      ]
    },
    {
      "cell_type": "markdown",
      "metadata": {
        "id": "bVhouDRRpewh",
        "colab_type": "text"
      },
      "source": [
        "### MSE per target (unscaled)"
      ]
    },
    {
      "cell_type": "code",
      "metadata": {
        "id": "crfMWfnKuAXz",
        "colab_type": "code",
        "outputId": "e84eb704-dcc9-4d6a-b811-2ad119d0ceb0",
        "colab": {
          "base_uri": "https://localhost:8080/",
          "height": 35
        }
      },
      "source": [
        "models[1][0]"
      ],
      "execution_count": 0,
      "outputs": [
        {
          "output_type": "execute_result",
          "data": {
            "text/plain": [
              "'model_2x400'"
            ]
          },
          "metadata": {
            "tags": []
          },
          "execution_count": 24
        }
      ]
    },
    {
      "cell_type": "code",
      "metadata": {
        "id": "oTTBfKRgRnTP",
        "colab_type": "code",
        "outputId": "7cfc205c-fd9a-4820-b9d6-005a786d66c7",
        "colab": {
          "base_uri": "https://localhost:8080/",
          "height": 1000
        }
      },
      "source": [
        "for model_tupel in models:\n",
        "  df = pas_metrics(model_tupel)\n",
        "  print(model_tupel[0])\n",
        "  with pd.option_context('display.max_rows', None, 'display.max_columns', None,\n",
        "                        'display.width', 1000):  \n",
        "    print(df)\n",
        "  print('*********************************************************')"
      ],
      "execution_count": 0,
      "outputs": [
        {
          "output_type": "stream",
          "text": [
            "baseline_without_bn\n",
            "          Vtrue,_ktas      __VVI,__fpm      ____Q,rad/s      ____P,rad/s      ____R,rad/s      pitch,__deg      _roll,__deg      _beta,__deg      __alt,ftmsl \n",
            "count    146907.000000    146907.000000     1.469070e+05    146907.000000     1.469070e+05    146907.000000    146907.000000    146907.000000    146907.000000\n",
            "mean        116.933735         1.454978     7.135510e-03        -0.000140    -1.337600e-03        -0.605152        -0.722674         0.024940      3118.794644\n",
            "std           8.275017       276.265852     7.759326e-03         0.025104     3.282916e-02         1.788004        12.122463         0.178670      1339.530659\n",
            "min          66.424780     -1097.281130    -3.263000e-02        -0.109810    -5.462000e-02        -6.120130       -22.859510        -0.689970       891.350710\n",
            "25%         115.917000       -45.193610     1.500000e-04        -0.001420    -3.923000e-02        -1.144705       -14.960540        -0.158980      1910.458070\n",
            "50%         117.839070         0.174230     1.052000e-02         0.000000    -2.200000e-04        -0.738060        -0.201880         0.024370      2952.964840\n",
            "75%         119.750560        54.913025     1.134000e-02         0.001450     3.531000e-02        -0.484845        12.644855         0.225680      3983.743410\n",
            "max         144.870320       978.538330     3.835000e-02         0.111310     5.436000e-02        11.796170        22.378150         0.353550      4998.167480\n",
            "mses          0.643941       766.818409     5.628063e-07         0.000002     7.082025e-07         0.005038         0.138282         0.000064      2590.028072\n",
            "rmes          0.802459        27.691486     7.502042e-04         0.001511     8.415477e-04         0.070978         0.371862         0.007990        50.892318\n",
            "maes          0.265778        10.301625     3.055617e-04         0.000732     3.176651e-04         0.034353         0.150889         0.002882        11.659804\n",
            "mse         373.070423       373.070423     3.730704e+02       373.070423     3.730704e+02       373.070423       373.070423       373.070423       373.070423\n",
            "rme          19.315031        19.315031     1.931503e+01        19.315031     1.931503e+01        19.315031        19.315031        19.315031        19.315031\n",
            "mae           2.490743         2.490743     2.490743e+00         2.490743     2.490743e+00         2.490743         2.490743         2.490743         2.490743\n",
            "*********************************************************\n",
            "model_2x400\n",
            "          Vtrue,_ktas      __VVI,__fpm      ____Q,rad/s      ____P,rad/s      ____R,rad/s      pitch,__deg      _roll,__deg      _beta,__deg      __alt,ftmsl \n",
            "count    146907.000000    146907.000000     1.469070e+05     1.469070e+05     1.469070e+05    146907.000000    146907.000000    146907.000000    146907.000000\n",
            "mean        116.933735         1.454978     7.135510e-03    -1.397062e-04    -1.337600e-03        -0.605152        -0.722674         0.024940      3118.794644\n",
            "std           8.275017       276.265852     7.759326e-03     2.510405e-02     3.282916e-02         1.788004        12.122463         0.178670      1339.530659\n",
            "min          66.424780     -1097.281130    -3.263000e-02    -1.098100e-01    -5.462000e-02        -6.120130       -22.859510        -0.689970       891.350710\n",
            "25%         115.917000       -45.193610     1.500000e-04    -1.420000e-03    -3.923000e-02        -1.144705       -14.960540        -0.158980      1910.458070\n",
            "50%         117.839070         0.174230     1.052000e-02     0.000000e+00    -2.200000e-04        -0.738060        -0.201880         0.024370      2952.964840\n",
            "75%         119.750560        54.913025     1.134000e-02     1.450000e-03     3.531000e-02        -0.484845        12.644855         0.225680      3983.743410\n",
            "max         144.870320       978.538330     3.835000e-02     1.113100e-01     5.436000e-02        11.796170        22.378150         0.353550      4998.167480\n",
            "mses          0.143427       203.917737     1.528036e-07     6.841849e-07     1.888336e-07         0.005471         0.036620         0.000015       407.613921\n",
            "rmes          0.378718        14.279977     3.909010e-04     8.271547e-04     4.345499e-04         0.073966         0.191364         0.003923        20.189451\n",
            "maes          0.155066         6.613953     1.786312e-04     4.120728e-04     2.235994e-04         0.034218         0.079577         0.002154         7.088151\n",
            "mse          67.968577        67.968577     6.796858e+01     6.796858e+01     6.796858e+01        67.968577        67.968577        67.968577        67.968577\n",
            "rme           8.244306         8.244306     8.244306e+00     8.244306e+00     8.244306e+00         8.244306         8.244306         8.244306         8.244306\n",
            "mae           1.552659         1.552659     1.552659e+00     1.552659e+00     1.552659e+00         1.552659         1.552659         1.552659         1.552659\n",
            "*********************************************************\n",
            "model_2x200\n",
            "          Vtrue,_ktas      __VVI,__fpm      ____Q,rad/s      ____P,rad/s      ____R,rad/s      pitch,__deg      _roll,__deg      _beta,__deg      __alt,ftmsl \n",
            "count    146907.000000    146907.000000     1.469070e+05    146907.000000     1.469070e+05    146907.000000    146907.000000    146907.000000    146907.000000\n",
            "mean        116.933735         1.454978     7.135510e-03        -0.000140    -1.337600e-03        -0.605152        -0.722674         0.024940      3118.794644\n",
            "std           8.275017       276.265852     7.759326e-03         0.025104     3.282916e-02         1.788004        12.122463         0.178670      1339.530659\n",
            "min          66.424780     -1097.281130    -3.263000e-02        -0.109810    -5.462000e-02        -6.120130       -22.859510        -0.689970       891.350710\n",
            "25%         115.917000       -45.193610     1.500000e-04        -0.001420    -3.923000e-02        -1.144705       -14.960540        -0.158980      1910.458070\n",
            "50%         117.839070         0.174230     1.052000e-02         0.000000    -2.200000e-04        -0.738060        -0.201880         0.024370      2952.964840\n",
            "75%         119.750560        54.913025     1.134000e-02         0.001450     3.531000e-02        -0.484845        12.644855         0.225680      3983.743410\n",
            "max         144.870320       978.538330     3.835000e-02         0.111310     5.436000e-02        11.796170        22.378150         0.353550      4998.167480\n",
            "mses          0.141339       133.397802     2.947612e-07         0.000001     3.224062e-07         0.006194         0.050141         0.000042       498.505816\n",
            "rmes          0.375950        11.549797     5.429192e-04         0.001020     5.678083e-04         0.078704         0.223922         0.006475        22.327244\n",
            "maes          0.145946         5.468103     2.473508e-04         0.000487     2.828872e-04         0.038612         0.097325         0.003049        10.423881\n",
            "mse          70.233482        70.233482     7.023348e+01        70.233482     7.023348e+01        70.233482        70.233482        70.233482        70.233482\n",
            "rme           8.380542         8.380542     8.380542e+00         8.380542     8.380542e+00         8.380542         8.380542         8.380542         8.380542\n",
            "mae           1.797548         1.797548     1.797548e+00         1.797548     1.797548e+00         1.797548         1.797548         1.797548         1.797548\n",
            "*********************************************************\n",
            "model_2x100\n",
            "          Vtrue,_ktas      __VVI,__fpm      ____Q,rad/s      ____P,rad/s      ____R,rad/s      pitch,__deg      _roll,__deg      _beta,__deg      __alt,ftmsl \n",
            "count    146907.000000    146907.000000     1.469070e+05    146907.000000     1.469070e+05    146907.000000    146907.000000    146907.000000    146907.000000\n",
            "mean        116.933735         1.454978     7.135510e-03        -0.000140    -1.337600e-03        -0.605152        -0.722674         0.024940      3118.794644\n",
            "std           8.275017       276.265852     7.759326e-03         0.025104     3.282916e-02         1.788004        12.122463         0.178670      1339.530659\n",
            "min          66.424780     -1097.281130    -3.263000e-02        -0.109810    -5.462000e-02        -6.120130       -22.859510        -0.689970       891.350710\n",
            "25%         115.917000       -45.193610     1.500000e-04        -0.001420    -3.923000e-02        -1.144705       -14.960540        -0.158980      1910.458070\n",
            "50%         117.839070         0.174230     1.052000e-02         0.000000    -2.200000e-04        -0.738060        -0.201880         0.024370      2952.964840\n",
            "75%         119.750560        54.913025     1.134000e-02         0.001450     3.531000e-02        -0.484845        12.644855         0.225680      3983.743410\n",
            "max         144.870320       978.538330     3.835000e-02         0.111310     5.436000e-02        11.796170        22.378150         0.353550      4998.167480\n",
            "mses          1.327818       219.390209     3.799254e-07         0.000002     2.311243e-07         0.012577         0.035799         0.000059      2443.204299\n",
            "rmes          1.152310        14.811827     6.163809e-04         0.001465     4.807539e-04         0.112148         0.189206         0.007659        49.428780\n",
            "maes          0.274090         6.141106     3.098318e-04         0.001007     2.648688e-04         0.033899         0.087666         0.003451         9.935267\n",
            "mse         295.996752       295.996752     2.959968e+02       295.996752     2.959968e+02       295.996752       295.996752       295.996752       295.996752\n",
            "rme          17.204556        17.204556     1.720456e+01        17.204556     1.720456e+01        17.204556        17.204556        17.204556        17.204556\n",
            "mae           1.830784         1.830784     1.830784e+00         1.830784     1.830784e+00         1.830784         1.830784         1.830784         1.830784\n",
            "*********************************************************\n",
            "model_2x50\n",
            "          Vtrue,_ktas      __VVI,__fpm      ____Q,rad/s      ____P,rad/s      ____R,rad/s      pitch,__deg      _roll,__deg      _beta,__deg      __alt,ftmsl \n",
            "count    146907.000000    146907.000000     1.469070e+05     1.469070e+05     1.469070e+05    146907.000000    146907.000000    146907.000000    146907.000000\n",
            "mean        116.933735         1.454978     7.135510e-03    -1.397062e-04    -1.337600e-03        -0.605152        -0.722674         0.024940      3118.794644\n",
            "std           8.275017       276.265852     7.759326e-03     2.510405e-02     3.282916e-02         1.788004        12.122463         0.178670      1339.530659\n",
            "min          66.424780     -1097.281130    -3.263000e-02    -1.098100e-01    -5.462000e-02        -6.120130       -22.859510        -0.689970       891.350710\n",
            "25%         115.917000       -45.193610     1.500000e-04    -1.420000e-03    -3.923000e-02        -1.144705       -14.960540        -0.158980      1910.458070\n",
            "50%         117.839070         0.174230     1.052000e-02     0.000000e+00    -2.200000e-04        -0.738060        -0.201880         0.024370      2952.964840\n",
            "75%         119.750560        54.913025     1.134000e-02     1.450000e-03     3.531000e-02        -0.484845        12.644855         0.225680      3983.743410\n",
            "max         144.870320       978.538330     3.835000e-02     1.113100e-01     5.436000e-02        11.796170        22.378150         0.353550      4998.167480\n",
            "mses          1.041639       638.018100     2.442111e-07     9.630630e-07     2.096729e-07         0.070058         0.044296         0.000010       276.495651\n",
            "rmes          1.020607        25.259020     4.941772e-04     9.813577e-04     4.579006e-04         0.264685         0.210466         0.003228        16.628158\n",
            "maes          0.166322         7.658347     1.418576e-04     4.804143e-04     2.712764e-04         0.044536         0.145988         0.001160         5.351357\n",
            "mse         101.741084       101.741084     1.017411e+02     1.017411e+02     1.017411e+02       101.741084       101.741084       101.741084       101.741084\n",
            "rme          10.086679        10.086679     1.008668e+01     1.008668e+01     1.008668e+01        10.086679        10.086679        10.086679        10.086679\n",
            "mae           1.485401         1.485401     1.485401e+00     1.485401e+00     1.485401e+00         1.485401         1.485401         1.485401         1.485401\n",
            "*********************************************************\n",
            "model_200\n",
            "          Vtrue,_ktas      __VVI,__fpm      ____Q,rad/s      ____P,rad/s      ____R,rad/s      pitch,__deg      _roll,__deg      _beta,__deg      __alt,ftmsl \n",
            "count    146907.000000    146907.000000     1.469070e+05    146907.000000     1.469070e+05    146907.000000    146907.000000    146907.000000    146907.000000\n",
            "mean        116.933735         1.454978     7.135510e-03        -0.000140    -1.337600e-03        -0.605152        -0.722674         0.024940      3118.794644\n",
            "std           8.275017       276.265852     7.759326e-03         0.025104     3.282916e-02         1.788004        12.122463         0.178670      1339.530659\n",
            "min          66.424780     -1097.281130    -3.263000e-02        -0.109810    -5.462000e-02        -6.120130       -22.859510        -0.689970       891.350710\n",
            "25%         115.917000       -45.193610     1.500000e-04        -0.001420    -3.923000e-02        -1.144705       -14.960540        -0.158980      1910.458070\n",
            "50%         117.839070         0.174230     1.052000e-02         0.000000    -2.200000e-04        -0.738060        -0.201880         0.024370      2952.964840\n",
            "75%         119.750560        54.913025     1.134000e-02         0.001450     3.531000e-02        -0.484845        12.644855         0.225680      3983.743410\n",
            "max         144.870320       978.538330     3.835000e-02         0.111310     5.436000e-02        11.796170        22.378150         0.353550      4998.167480\n",
            "mses          0.139488       199.050957     2.791498e-07         0.000001     5.016424e-07         0.006582         0.033323         0.000024       448.458179\n",
            "rmes          0.373480        14.108542     5.283463e-04         0.001067     7.082672e-04         0.081130         0.182546         0.004940        21.176831\n",
            "maes          0.147709         7.048945     2.900047e-04         0.000646     5.444180e-04         0.046765         0.077595         0.002519         7.361832\n",
            "mse          71.965395        71.965395     7.196540e+01        71.965395     7.196540e+01        71.965395        71.965395        71.965395        71.965395\n",
            "rme           8.483242         8.483242     8.483242e+00         8.483242     8.483242e+00         8.483242         8.483242         8.483242         8.483242\n",
            "mae           1.631872         1.631872     1.631872e+00         1.631872     1.631872e+00         1.631872         1.631872         1.631872         1.631872\n",
            "*********************************************************\n"
          ],
          "name": "stdout"
        }
      ]
    },
    {
      "cell_type": "markdown",
      "metadata": {
        "id": "DTCw_9XlMi9P",
        "colab_type": "text"
      },
      "source": [
        "#latex"
      ]
    },
    {
      "cell_type": "code",
      "metadata": {
        "id": "rRfK9vukMkXV",
        "colab_type": "code",
        "colab": {}
      },
      "source": [
        "def _df_prediction_metrics_all(model_tupel, scaled):\n",
        "  \n",
        "  model_name =  model_tupel[0]\n",
        "  model = model_tupel[1]\n",
        "  train_X, train_Y, test_X, test_Y = model_tupel[2]\n",
        "  cols_label = model_tupel[4]\n",
        "\n",
        "\n",
        "  pred_Y = model.predict(test_X)\n",
        "  \n",
        "  if scaled:\n",
        "    truth_Y = test_Y\n",
        "  else:\n",
        "    label_scaler = model_tupel[3]\n",
        "    pred_Y = label_scaler.inverse_transform(pred_Y)\n",
        "    truth_Y = label_scaler.inverse_transform(test_Y)\n",
        "\n",
        "  df_describe = pd.DataFrame(truth_Y,columns=cols_label).describe()\n",
        "  mses = mean_squared_error(truth_Y, pred_Y, multioutput='raw_values')\n",
        "  #rmses = np.array([math.sqrt(mse) for mse in mses])\n",
        "  #maes = mean_absolute_error(truth_Y, pred_Y, multioutput='raw_values')\n",
        "  # average over list should do the job as well\n",
        "  mse = mean_squared_error(truth_Y, pred_Y)\n",
        "  rmse = math.sqrt(mse)\n",
        "  mae = mean_absolute_error(truth_Y, pred_Y)\n",
        "\n",
        "\n",
        "  df_mse_per_feature = pd.DataFrame(data=mses.reshape(1,-1),    # values\n",
        "            index=[model_name],     # index\n",
        "            columns=cols_label)  #  column names\n",
        "  \n",
        "  df_mse_per_feature['MSE'] = mse\n",
        "  df_mse_per_feature['RMSE'] = rmse\n",
        "  df_mse_per_feature['MAE'] = mae\n",
        "\n",
        "\n",
        "  #df_rmse_per_feature = pd.DataFrame(data=rmses.reshape(1,-1),    # values\n",
        "   #     index=['rmes'],     # index\n",
        "  #      columns=cols_label)  #  column names\n",
        "  #df_mae_per_feature = pd.DataFrame(data=maes.reshape(1,-1),    # values\n",
        "    #    index=['maes'],     # index\n",
        "   #     columns=cols_label)  #  column names\n",
        "  \n",
        "  return df_mse_per_feature\n",
        "\n",
        "\n",
        "def pas_metrics_all(models):\n",
        "  cols_trans = ['MSE', 'RMSE', 'MAE', col_vv,col_alt, col_v]\n",
        "  cols_rot = [col_roll_deg, col_pitch_deg, col_yaw_deg, col_pitch_v, col_yaw_v, col_roll_v]\n",
        "  rows_trans = []\n",
        "  rows_rot = []\n",
        "\n",
        "  for model_tupel in models:\n",
        "    model_row = _df_prediction_metrics_all(model_tupel, scaled=False)\n",
        "    rows_trans.append(model_row[cols_trans])\n",
        "    rows_rot.append(model_row[cols_rot])\n",
        "\n",
        "  df_trans = pd.concat(rows_trans).round(2)\n",
        "  file_path = os.path.join(results_folder, 'all_mse_trans' + '.csv')\n",
        "  df_trans.to_csv(path_or_buf=file_path)\n",
        "  \n",
        "  df_rot = pd.concat(rows_rot).round(10)\n",
        "  file_path = os.path.join(results_folder, 'all_mse_rot' + '.csv')\n",
        "  df_rot.to_csv(path_or_buf=file_path)\n",
        "  return df_trans, df_rot\n",
        "\n",
        "\n",
        "df_trans, df_rot = pas_metrics_all(models)\n",
        "  "
      ],
      "execution_count": 0,
      "outputs": []
    },
    {
      "cell_type": "code",
      "metadata": {
        "id": "EJx7-29ZM4yp",
        "colab_type": "code",
        "outputId": "09280526-251d-472e-ef66-23ba16620931",
        "colab": {
          "base_uri": "https://localhost:8080/",
          "height": 238
        }
      },
      "source": [
        "df_trans"
      ],
      "execution_count": 0,
      "outputs": [
        {
          "output_type": "execute_result",
          "data": {
            "text/html": [
              "<div>\n",
              "<style scoped>\n",
              "    .dataframe tbody tr th:only-of-type {\n",
              "        vertical-align: middle;\n",
              "    }\n",
              "\n",
              "    .dataframe tbody tr th {\n",
              "        vertical-align: top;\n",
              "    }\n",
              "\n",
              "    .dataframe thead th {\n",
              "        text-align: right;\n",
              "    }\n",
              "</style>\n",
              "<table border=\"1\" class=\"dataframe\">\n",
              "  <thead>\n",
              "    <tr style=\"text-align: right;\">\n",
              "      <th></th>\n",
              "      <th>MSE</th>\n",
              "      <th>RMSE</th>\n",
              "      <th>MAE</th>\n",
              "      <th>__VVI,__fpm</th>\n",
              "      <th>__alt,ftmsl</th>\n",
              "      <th>Vtrue,_ktas</th>\n",
              "    </tr>\n",
              "  </thead>\n",
              "  <tbody>\n",
              "    <tr>\n",
              "      <th>baseline_without_bn</th>\n",
              "      <td>373.07</td>\n",
              "      <td>19.32</td>\n",
              "      <td>2.49</td>\n",
              "      <td>766.82</td>\n",
              "      <td>2590.03</td>\n",
              "      <td>0.64</td>\n",
              "    </tr>\n",
              "    <tr>\n",
              "      <th>model_2x400</th>\n",
              "      <td>67.97</td>\n",
              "      <td>8.24</td>\n",
              "      <td>1.55</td>\n",
              "      <td>203.92</td>\n",
              "      <td>407.61</td>\n",
              "      <td>0.14</td>\n",
              "    </tr>\n",
              "    <tr>\n",
              "      <th>model_2x200</th>\n",
              "      <td>70.23</td>\n",
              "      <td>8.38</td>\n",
              "      <td>1.80</td>\n",
              "      <td>133.40</td>\n",
              "      <td>498.51</td>\n",
              "      <td>0.14</td>\n",
              "    </tr>\n",
              "    <tr>\n",
              "      <th>model_2x100</th>\n",
              "      <td>296.00</td>\n",
              "      <td>17.20</td>\n",
              "      <td>1.83</td>\n",
              "      <td>219.39</td>\n",
              "      <td>2443.20</td>\n",
              "      <td>1.33</td>\n",
              "    </tr>\n",
              "    <tr>\n",
              "      <th>model_2x50</th>\n",
              "      <td>101.74</td>\n",
              "      <td>10.09</td>\n",
              "      <td>1.49</td>\n",
              "      <td>638.02</td>\n",
              "      <td>276.50</td>\n",
              "      <td>1.04</td>\n",
              "    </tr>\n",
              "    <tr>\n",
              "      <th>model_200</th>\n",
              "      <td>71.97</td>\n",
              "      <td>8.48</td>\n",
              "      <td>1.63</td>\n",
              "      <td>199.05</td>\n",
              "      <td>448.46</td>\n",
              "      <td>0.14</td>\n",
              "    </tr>\n",
              "  </tbody>\n",
              "</table>\n",
              "</div>"
            ],
            "text/plain": [
              "                        MSE   RMSE  ...     __alt,ftmsl      Vtrue,_ktas \n",
              "baseline_without_bn  373.07  19.32  ...          2590.03             0.64\n",
              "model_2x400           67.97   8.24  ...           407.61             0.14\n",
              "model_2x200           70.23   8.38  ...           498.51             0.14\n",
              "model_2x100          296.00  17.20  ...          2443.20             1.33\n",
              "model_2x50           101.74  10.09  ...           276.50             1.04\n",
              "model_200             71.97   8.48  ...           448.46             0.14\n",
              "\n",
              "[6 rows x 6 columns]"
            ]
          },
          "metadata": {
            "tags": []
          },
          "execution_count": 27
        }
      ]
    },
    {
      "cell_type": "code",
      "metadata": {
        "id": "fJUMzC7HM5jz",
        "colab_type": "code",
        "outputId": "00ba49f7-c5ad-4192-f484-9e5030bb6744",
        "colab": {
          "base_uri": "https://localhost:8080/",
          "height": 238
        }
      },
      "source": [
        "df_rot"
      ],
      "execution_count": 0,
      "outputs": [
        {
          "output_type": "execute_result",
          "data": {
            "text/html": [
              "<div>\n",
              "<style scoped>\n",
              "    .dataframe tbody tr th:only-of-type {\n",
              "        vertical-align: middle;\n",
              "    }\n",
              "\n",
              "    .dataframe tbody tr th {\n",
              "        vertical-align: top;\n",
              "    }\n",
              "\n",
              "    .dataframe thead th {\n",
              "        text-align: right;\n",
              "    }\n",
              "</style>\n",
              "<table border=\"1\" class=\"dataframe\">\n",
              "  <thead>\n",
              "    <tr style=\"text-align: right;\">\n",
              "      <th></th>\n",
              "      <th>_roll,__deg</th>\n",
              "      <th>pitch,__deg</th>\n",
              "      <th>_beta,__deg</th>\n",
              "      <th>____P,rad/s</th>\n",
              "      <th>____Q,rad/s</th>\n",
              "      <th>____R,rad/s</th>\n",
              "    </tr>\n",
              "  </thead>\n",
              "  <tbody>\n",
              "    <tr>\n",
              "      <th>baseline_without_bn</th>\n",
              "      <td>0.138282</td>\n",
              "      <td>0.005038</td>\n",
              "      <td>0.000064</td>\n",
              "      <td>2.282300e-06</td>\n",
              "      <td>5.628000e-07</td>\n",
              "      <td>7.082000e-07</td>\n",
              "    </tr>\n",
              "    <tr>\n",
              "      <th>model_2x400</th>\n",
              "      <td>0.036620</td>\n",
              "      <td>0.005471</td>\n",
              "      <td>0.000015</td>\n",
              "      <td>6.842000e-07</td>\n",
              "      <td>1.528000e-07</td>\n",
              "      <td>1.888000e-07</td>\n",
              "    </tr>\n",
              "    <tr>\n",
              "      <th>model_2x200</th>\n",
              "      <td>0.050141</td>\n",
              "      <td>0.006194</td>\n",
              "      <td>0.000042</td>\n",
              "      <td>1.040600e-06</td>\n",
              "      <td>2.948000e-07</td>\n",
              "      <td>3.224000e-07</td>\n",
              "    </tr>\n",
              "    <tr>\n",
              "      <th>model_2x100</th>\n",
              "      <td>0.035799</td>\n",
              "      <td>0.012577</td>\n",
              "      <td>0.000059</td>\n",
              "      <td>2.146300e-06</td>\n",
              "      <td>3.799000e-07</td>\n",
              "      <td>2.311000e-07</td>\n",
              "    </tr>\n",
              "    <tr>\n",
              "      <th>model_2x50</th>\n",
              "      <td>0.044296</td>\n",
              "      <td>0.070058</td>\n",
              "      <td>0.000010</td>\n",
              "      <td>9.631000e-07</td>\n",
              "      <td>2.442000e-07</td>\n",
              "      <td>2.097000e-07</td>\n",
              "    </tr>\n",
              "    <tr>\n",
              "      <th>model_200</th>\n",
              "      <td>0.033323</td>\n",
              "      <td>0.006582</td>\n",
              "      <td>0.000024</td>\n",
              "      <td>1.138700e-06</td>\n",
              "      <td>2.791000e-07</td>\n",
              "      <td>5.016000e-07</td>\n",
              "    </tr>\n",
              "  </tbody>\n",
              "</table>\n",
              "</div>"
            ],
            "text/plain": [
              "                        _roll,__deg   ...     ____R,rad/s \n",
              "baseline_without_bn         0.138282  ...     7.082000e-07\n",
              "model_2x400                 0.036620  ...     1.888000e-07\n",
              "model_2x200                 0.050141  ...     3.224000e-07\n",
              "model_2x100                 0.035799  ...     2.311000e-07\n",
              "model_2x50                  0.044296  ...     2.097000e-07\n",
              "model_200                   0.033323  ...     5.016000e-07\n",
              "\n",
              "[6 rows x 6 columns]"
            ]
          },
          "metadata": {
            "tags": []
          },
          "execution_count": 28
        }
      ]
    },
    {
      "cell_type": "markdown",
      "metadata": {
        "id": "z40fMP9Ttc9Q",
        "colab_type": "text"
      },
      "source": [
        "#predict one ahead"
      ]
    },
    {
      "cell_type": "code",
      "metadata": {
        "id": "Vxp9pJ3PmbjQ",
        "colab_type": "code",
        "outputId": "a7f797bb-1563-4e54-e82d-741c612ff786",
        "colab": {
          "base_uri": "https://localhost:8080/",
          "height": 172
        }
      },
      "source": [
        "STOP"
      ],
      "execution_count": 0,
      "outputs": [
        {
          "output_type": "error",
          "ename": "NameError",
          "evalue": "ignored",
          "traceback": [
            "\u001b[0;31m---------------------------------------------------------------------------\u001b[0m",
            "\u001b[0;31mNameError\u001b[0m                                 Traceback (most recent call last)",
            "\u001b[0;32m<ipython-input-32-ee4decdca3b8>\u001b[0m in \u001b[0;36m<module>\u001b[0;34m()\u001b[0m\n\u001b[0;32m----> 1\u001b[0;31m \u001b[0mSTOP\u001b[0m\u001b[0;34m\u001b[0m\u001b[0;34m\u001b[0m\u001b[0m\n\u001b[0m",
            "\u001b[0;31mNameError\u001b[0m: name 'STOP' is not defined"
          ]
        }
      ]
    },
    {
      "cell_type": "code",
      "metadata": {
        "id": "N-8LmbK2eki9",
        "colab_type": "code",
        "colab": {}
      },
      "source": [
        "# TODO step ahead vohersage\n",
        "# columns bei mse tabellen scheinen stuss zu sein, \n",
        "#da bei unscaled unverhältnismäßige größen rauskommen\n",
        "# am besten mal gegen diein gridsearch alt verwendeten spaltenreihenfolge abgleichen\n",
        "\n",
        "def predict_sequence(model, data_X, n_seq_len):\n",
        "  '''\n",
        "  frickel für jeden lag die action raus\n",
        "  vorhersage erwartet auch lag also frickel das wieder zusammen\n",
        "  '''\n",
        "  data_X[:, :]\n",
        "  preds = []\n",
        "  pred_y = model.predict(start_x)\n",
        "  for i in range(n_seq_len):\n",
        "    model.predict(pred_y)\n",
        "\n",
        "\n",
        "#for model_tupel in models:\n",
        " model = model_tupel[1]\n",
        "  train_X, train_Y, test_X, test_Y = model_tupel[2]\n",
        "  cols_label = model_tupel[4]\n",
        "  label_scaler = model_tupel[3]\n",
        "  \n",
        "  pred_Y = predict_ahead(train_X)\n",
        "  pred_Y = label_scaler.inverse_transform(pred_Y)\n",
        "  train_Y = label_scaler.inverse_transform(train_Y)\n",
        "  \n",
        "  \n",
        "  plot_lines('red')\n",
        "\n",
        "def predict_ahead(model, data_X):\n",
        "  preds = []\n",
        "  pred_y = model.predict(data_X[0,:])\n",
        "  preds.append(pred_y)\n",
        "  for i in range(1,len(data_X)):\n",
        "    pred_y = model.predict(pred_y)\n",
        "    preds.append(pred_y)\n",
        "  return preds\n",
        "    \n"
      ],
      "execution_count": 0,
      "outputs": []
    }
  ]
}