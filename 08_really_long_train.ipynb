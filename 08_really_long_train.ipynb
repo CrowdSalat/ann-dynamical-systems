{
  "nbformat": 4,
  "nbformat_minor": 0,
  "metadata": {
    "colab": {
      "name": "08_really_long_train.ipynb",
      "provenance": [],
      "collapsed_sections": [],
      "toc_visible": true,
      "machine_shape": "hm",
      "include_colab_link": true
    },
    "kernelspec": {
      "name": "python3",
      "display_name": "Python 3"
    },
    "accelerator": "GPU"
  },
  "cells": [
    {
      "cell_type": "markdown",
      "metadata": {
        "id": "view-in-github",
        "colab_type": "text"
      },
      "source": [
        "<a href=\"https://colab.research.google.com/github/CrowdSalat/ann-dynamical-systems/blob/master/08_really_long_train.ipynb\" target=\"_parent\"><img src=\"https://colab.research.google.com/assets/colab-badge.svg\" alt=\"Open In Colab\"/></a>"
      ]
    },
    {
      "cell_type": "markdown",
      "metadata": {
        "id": "Pa9Mju9lc4Ll",
        "colab_type": "text"
      },
      "source": [
        "# overview\n",
        "\n",
        "Uses actions and an input state to predict the output state."
      ]
    },
    {
      "cell_type": "markdown",
      "metadata": {
        "id": "ijDD21X-gnli",
        "colab_type": "text"
      },
      "source": [
        "# imports"
      ]
    },
    {
      "cell_type": "code",
      "metadata": {
        "id": "_Z4pV678a1zv",
        "colab_type": "code",
        "outputId": "bb7a2b2e-6383-451f-e377-ca57a2b64ead",
        "colab": {
          "base_uri": "https://localhost:8080/",
          "height": 35
        }
      },
      "source": [
        "try:\n",
        "  # %tensorflow_version only exists in Colab.\n",
        "  %tensorflow_version 2.x\n",
        "except Exception:\n",
        "  pass"
      ],
      "execution_count": 0,
      "outputs": [
        {
          "output_type": "stream",
          "text": [
            "TensorFlow 2.x selected.\n"
          ],
          "name": "stdout"
        }
      ]
    },
    {
      "cell_type": "code",
      "metadata": {
        "id": "2p4YwEK_f7kq",
        "colab_type": "code",
        "outputId": "3632cd6b-033f-49f6-e4e8-aeda87ba2726",
        "colab": {
          "base_uri": "https://localhost:8080/",
          "height": 35
        }
      },
      "source": [
        "import pandas as pd\n",
        "import numpy as np\n",
        "import os\n",
        "import sys\n",
        "import datetime\n",
        "import math\n",
        "import pickle\n",
        "import matplotlib.pyplot as plt\n",
        "from sklearn.preprocessing import MinMaxScaler\n",
        "from sklearn.metrics import mean_squared_error\n",
        "from sklearn.metrics import mean_absolute_error\n",
        "\n",
        "from sklearn.model_selection import train_test_split\n",
        "from sklearn.preprocessing import MinMaxScaler\n",
        "\n",
        "\n",
        "import tensorflow as tf\n",
        "print(tf.__version__)\n",
        "from tensorflow import keras\n",
        "\n",
        "from tensorflow.keras.models import Sequential\n",
        "from tensorflow.keras.layers import Dense\n",
        "from tensorflow.keras.layers import *\n",
        "from tensorflow.keras import metrics"
      ],
      "execution_count": 0,
      "outputs": [
        {
          "output_type": "stream",
          "text": [
            "2.0.0\n"
          ],
          "name": "stdout"
        }
      ]
    },
    {
      "cell_type": "code",
      "metadata": {
        "id": "RPDma-JqgyaM",
        "colab_type": "code",
        "outputId": "3fa41b63-11dc-442c-cd71-d9e8084c43e4",
        "colab": {
          "base_uri": "https://localhost:8080/",
          "height": 35
        }
      },
      "source": [
        "base_folder = './results'\n",
        "notebook_folder = '08_really_long_train'\n",
        "results_folder = os.path.join(base_folder, notebook_folder)\n",
        "os.makedirs(results_folder, exist_ok=True)\n",
        "print('results_folder : ', results_folder)\n",
        "\n",
        "saved_model_weight = 'saved_weights'\n",
        "saved_model_weight_path = os.path.join(results_folder, saved_model_weight)\n",
        "os.makedirs(saved_model_weight_path, exist_ok=True)\n"
      ],
      "execution_count": 0,
      "outputs": [
        {
          "output_type": "stream",
          "text": [
            "results_folder :  ./results/08_really_long_train\n"
          ],
          "name": "stdout"
        }
      ]
    },
    {
      "cell_type": "markdown",
      "metadata": {
        "id": "rmj8c18xllpT",
        "colab_type": "text"
      },
      "source": [
        "# mount drive"
      ]
    },
    {
      "cell_type": "code",
      "metadata": {
        "id": "nUEqcpzvltdo",
        "colab_type": "code",
        "colab": {}
      },
      "source": [
        "file = 'dataset_all_01.csv'"
      ],
      "execution_count": 0,
      "outputs": []
    },
    {
      "cell_type": "code",
      "metadata": {
        "id": "TuGWEMS1loFz",
        "colab_type": "code",
        "outputId": "f5ebd4c9-aae3-498f-848e-473863f4b941",
        "colab": {
          "base_uri": "https://localhost:8080/",
          "height": 144
        }
      },
      "source": [
        "from google.colab import drive\n",
        "drive.mount('/content/drive')\n",
        "\n",
        "root_dir = '/content/drive/My Drive/xplane_data' \n",
        "os.chdir(root_dir)\n",
        "print ('working dir: ' + os.getcwd())"
      ],
      "execution_count": 0,
      "outputs": [
        {
          "output_type": "stream",
          "text": [
            "Go to this URL in a browser: https://accounts.google.com/o/oauth2/auth?client_id=947318989803-6bn6qk8qdgf4n4g3pfee6491hc0brc4i.apps.googleusercontent.com&redirect_uri=urn%3aietf%3awg%3aoauth%3a2.0%3aoob&response_type=code&scope=email%20https%3a%2f%2fwww.googleapis.com%2fauth%2fdocs.test%20https%3a%2f%2fwww.googleapis.com%2fauth%2fdrive%20https%3a%2f%2fwww.googleapis.com%2fauth%2fdrive.photos.readonly%20https%3a%2f%2fwww.googleapis.com%2fauth%2fpeopleapi.readonly\n",
            "\n",
            "Enter your authorization code:\n",
            "··········\n",
            "Mounted at /content/drive\n",
            "working dir: /content/drive/My Drive/xplane_data\n"
          ],
          "name": "stdout"
        }
      ]
    },
    {
      "cell_type": "markdown",
      "metadata": {
        "id": "EF4tx110HmOj",
        "colab_type": "text"
      },
      "source": [
        "# load data"
      ]
    },
    {
      "cell_type": "markdown",
      "metadata": {
        "id": "EOM6RVAIduGr",
        "colab_type": "text"
      },
      "source": [
        "## define features (actions & states)\n",
        "actions and states at time t (t-1, t-2 ...) are the input for the network.\n",
        "\n",
        "the states at time t + 1 are the desired output of the network.\n"
      ]
    },
    {
      "cell_type": "code",
      "metadata": {
        "id": "YH9bVQ3YDyTh",
        "colab_type": "code",
        "colab": {}
      },
      "source": [
        "col_m_time      = '   missn,_time '\n",
        "col_t_time      = '   _totl,_time '\n",
        "col_yaw_v       = '   ____Q,rad/s '\n",
        "\n",
        "col_yaw_deg     = '   _beta,__deg '\n",
        "col_roll_deg    = '   _roll,__deg '\n",
        "col_roll_v      = '   ____R,rad/s '\n",
        "col_pitch_deg   = '   pitch,__deg '\n",
        "col_pitch_v     = '   ____P,rad/s '\n",
        "col_alt         = '   __alt,ftmsl '\n",
        "col_vv          = '   __VVI,__fpm '\n",
        "col_v           = '   Vtrue,_ktas '\n",
        "col_rpm_prop    = '   rpm_1,_prop '\n",
        "col_throttle     = '   thro1,_part '\n",
        "\n",
        "cols_state = [ \n",
        "    col_yaw_v,\n",
        "    col_yaw_deg,\n",
        "    col_roll_deg,\n",
        "    col_roll_v,\n",
        "    col_pitch_deg,\n",
        "    col_pitch_v,\n",
        "    col_vv,\n",
        "    col_alt,\n",
        "    col_v,\n",
        "\n",
        "]\n",
        "\n",
        "cols_time = [\n",
        "    col_m_time,\n",
        "    col_t_time,\n",
        "]\n",
        "\n",
        "col_elev_servo                  = '   _elev,servo '\n",
        "col_ailrn_servo                  = '   ailrn,servo '\n",
        "col_ruddr_servo                  = '   ruddr,servo '\n",
        "\n",
        "cols_action = [\n",
        "    col_elev_servo,\n",
        "    col_ailrn_servo,\n",
        "    col_ruddr_servo,\n",
        "    col_rpm_prop,\n",
        "    col_throttle,\n",
        "]\n",
        "\n",
        "# all input columns\n",
        "cols_features = []\n",
        "cols_features.extend(cols_state)\n",
        "cols_features.extend(cols_action)\n",
        "\n",
        "# orga column\n",
        "col_dataset_index = 'dataset_index'\n",
        "col_maneuver_index = 'maneuver_index'\n",
        "col_maneuver_name = 'maneuver_name'\n",
        "col_maneuver_datapoint_index = 'maneuver_datapoint_index'\n",
        "col_maneuver_type = 'maneuver_type'\n",
        "cols_org = [col_dataset_index, col_maneuver_index, col_maneuver_name,\n",
        "            col_maneuver_datapoint_index,col_maneuver_type]\n",
        "\n"
      ],
      "execution_count": 0,
      "outputs": []
    },
    {
      "cell_type": "markdown",
      "metadata": {
        "id": "gDSNkVBaDv2V",
        "colab_type": "text"
      },
      "source": [
        "## load data"
      ]
    },
    {
      "cell_type": "code",
      "metadata": {
        "id": "uByPEHX3fS2G",
        "colab_type": "code",
        "outputId": "4961a902-f4f7-4d4b-9e1e-9e72a5165b5b",
        "colab": {
          "base_uri": "https://localhost:8080/",
          "height": 204
        }
      },
      "source": [
        "def load_xplane_csv(csv_path, columns):\n",
        "    return pd.read_csv(csv_path, delimiter=',', usecols = columns, \n",
        "                       float_precision='high')\n",
        "\n",
        "df_data = load_xplane_csv(file, cols_org + cols_state + cols_action)\n",
        "\n",
        "print(len(cols_org))\n",
        "print(len(cols_state))\n",
        "print(len(cols_action))\n",
        "print(df_data.shape)\n",
        "df_data.head(2)"
      ],
      "execution_count": 0,
      "outputs": [
        {
          "output_type": "stream",
          "text": [
            "5\n",
            "9\n",
            "5\n",
            "(477893, 19)\n"
          ],
          "name": "stdout"
        },
        {
          "output_type": "execute_result",
          "data": {
            "text/html": [
              "<div>\n",
              "<style scoped>\n",
              "    .dataframe tbody tr th:only-of-type {\n",
              "        vertical-align: middle;\n",
              "    }\n",
              "\n",
              "    .dataframe tbody tr th {\n",
              "        vertical-align: top;\n",
              "    }\n",
              "\n",
              "    .dataframe thead th {\n",
              "        text-align: right;\n",
              "    }\n",
              "</style>\n",
              "<table border=\"1\" class=\"dataframe\">\n",
              "  <thead>\n",
              "    <tr style=\"text-align: right;\">\n",
              "      <th></th>\n",
              "      <th>dataset_index</th>\n",
              "      <th>maneuver_index</th>\n",
              "      <th>maneuver_name</th>\n",
              "      <th>maneuver_type</th>\n",
              "      <th>maneuver_datapoint_index</th>\n",
              "      <th>Vtrue,_ktas</th>\n",
              "      <th>__VVI,__fpm</th>\n",
              "      <th>____Q,rad/s</th>\n",
              "      <th>____P,rad/s</th>\n",
              "      <th>____R,rad/s</th>\n",
              "      <th>pitch,__deg</th>\n",
              "      <th>_roll,__deg</th>\n",
              "      <th>_beta,__deg</th>\n",
              "      <th>__alt,ftmsl</th>\n",
              "      <th>thro1,_part</th>\n",
              "      <th>rpm_1,_prop</th>\n",
              "      <th>_elev,servo</th>\n",
              "      <th>ailrn,servo</th>\n",
              "      <th>ruddr,servo</th>\n",
              "    </tr>\n",
              "  </thead>\n",
              "  <tbody>\n",
              "    <tr>\n",
              "      <th>0</th>\n",
              "      <td>0</td>\n",
              "      <td>0</td>\n",
              "      <td>0</td>\n",
              "      <td>0</td>\n",
              "      <td>0</td>\n",
              "      <td>115.86147</td>\n",
              "      <td>665.39697</td>\n",
              "      <td>-0.03945</td>\n",
              "      <td>-0.00235</td>\n",
              "      <td>0.00008</td>\n",
              "      <td>-0.03584</td>\n",
              "      <td>-0.10129</td>\n",
              "      <td>0.00793</td>\n",
              "      <td>953.06787</td>\n",
              "      <td>0.79608</td>\n",
              "      <td>2443.89453</td>\n",
              "      <td>-0.00489</td>\n",
              "      <td>-0.01818</td>\n",
              "      <td>0.0</td>\n",
              "    </tr>\n",
              "    <tr>\n",
              "      <th>1</th>\n",
              "      <td>0</td>\n",
              "      <td>0</td>\n",
              "      <td>0</td>\n",
              "      <td>0</td>\n",
              "      <td>1</td>\n",
              "      <td>115.85403</td>\n",
              "      <td>650.10065</td>\n",
              "      <td>-0.03868</td>\n",
              "      <td>-0.00234</td>\n",
              "      <td>0.00007</td>\n",
              "      <td>-0.14285</td>\n",
              "      <td>-0.10772</td>\n",
              "      <td>0.00770</td>\n",
              "      <td>953.30768</td>\n",
              "      <td>0.79608</td>\n",
              "      <td>2443.77563</td>\n",
              "      <td>0.00134</td>\n",
              "      <td>-0.01815</td>\n",
              "      <td>0.0</td>\n",
              "    </tr>\n",
              "  </tbody>\n",
              "</table>\n",
              "</div>"
            ],
            "text/plain": [
              "   dataset_index  maneuver_index  ...     ailrn,servo      ruddr,servo \n",
              "0              0               0  ...         -0.01818              0.0\n",
              "1              0               0  ...         -0.01815              0.0\n",
              "\n",
              "[2 rows x 19 columns]"
            ]
          },
          "metadata": {
            "tags": []
          },
          "execution_count": 7
        }
      ]
    },
    {
      "cell_type": "markdown",
      "metadata": {
        "id": "47xDI8rfLJTv",
        "colab_type": "text"
      },
      "source": [
        "# define data preperation functions"
      ]
    },
    {
      "cell_type": "code",
      "metadata": {
        "id": "-EBCtY9f7KnC",
        "colab_type": "code",
        "colab": {}
      },
      "source": [
        "def series_to_supervised(data, n_in=1, n_out=1, dropnan=True, cols_label=None):\n",
        "\tdata_in = data.drop(cols_org, axis=1)\n",
        "\tif cols_label == None:\n",
        "\t\tdata_out = data_in.drop(cols_action, axis=1)\n",
        "\telse:\n",
        "\t\tif type(cols_label) != list:\n",
        "\t\t\tcols_label = [cols_label]\n",
        "\t\tdata_out = data_in[cols_label]\n",
        "\n",
        "\tcols_in = data_in.columns\n",
        "\tcols_out = data_out.columns\n",
        "\tcols, names = list(), list()\n",
        "\t# input sequence (t-n, ... t-1, t)\n",
        "\tfor i in range(n_in, 0, -1):\n",
        "\t\tcols.append(data_in.shift(i))\n",
        "\t\tif i == 1:\n",
        "\t\t\tnames += [('%s(t)' % (col_in)) for col_in in cols_in]\n",
        "\t\telse:\n",
        "\t\t\tnames += [('%s(t-%d)' % (col_in, i-1)) for col_in in cols_in]\n",
        "\n",
        "\t# forecast sequence (t+1, ... t+n)\n",
        "\tfor i in range(0, n_out):\n",
        "\t\tcols.append(data_out.shift(-i))\n",
        "\t\tnames += [('%s(t+%d)' % (col_out, i+1)) for col_out in cols_out]\n",
        "\t# put it all together\n",
        "\tagg = pd.concat(cols, axis=1)\n",
        "\tagg.columns = names\n",
        "\t# drop rows with NaN values\n",
        "\tif dropnan:\n",
        "\t\tagg.dropna(inplace=True)\n",
        "\treturn agg, cols_out"
      ],
      "execution_count": 0,
      "outputs": []
    },
    {
      "cell_type": "code",
      "metadata": {
        "id": "nOzBV1rYVGCn",
        "colab_type": "code",
        "colab": {}
      },
      "source": [
        "def split_feature_label(data_labeled, n_input_steps):\n",
        "  data_X = data_labeled.values[:, 0:n_input_steps*len(cols_features)]\n",
        "  data_Y = data_labeled.values[:, n_input_steps*len(cols_features):]\n",
        "  return data_X, data_Y"
      ],
      "execution_count": 0,
      "outputs": []
    },
    {
      "cell_type": "code",
      "metadata": {
        "id": "otFsVggWMbpz",
        "colab_type": "code",
        "colab": {}
      },
      "source": [
        "def scale_data(data_X, data_Y):\n",
        "  feature_scaler = MinMaxScaler()\n",
        "  data_X = feature_scaler.fit_transform(data_X)\n",
        "  label_scaler = MinMaxScaler()\n",
        "  data_Y = label_scaler.fit_transform(data_Y)\n",
        "  return feature_scaler, label_scaler, data_X, data_Y"
      ],
      "execution_count": 0,
      "outputs": []
    },
    {
      "cell_type": "code",
      "metadata": {
        "id": "bYXja56FWJnk",
        "colab_type": "code",
        "colab": {}
      },
      "source": [
        "def prepare_datasets(data, n_in=1, n_out=1):\n",
        "  #train-test-split\n",
        "  test = data.query('dataset_index==4')\n",
        "  train = data.query('dataset_index!=4')\n",
        "  \n",
        "  #add-label\n",
        "  test_labeled, labels = series_to_supervised(test, n_in=n_in, n_out=n_out,dropnan=True)\n",
        "  train_labeled, labels = series_to_supervised(train, n_in=n_in, n_out=n_out,dropnan=True)\n",
        "  \n",
        "\n",
        "  #split-feature-label\n",
        "  train_X, train_Y = split_feature_label(train_labeled, n_in)\n",
        "  test_X, test_Y = split_feature_label(test_labeled, n_in)\n",
        "  #scale-feat\n",
        "  feature_scaler, label_scaler, train_X, train_Y = scale_data(train_X, train_Y)\n",
        "  #scale-label\n",
        "  test_X, test_Y = feature_scaler.transform(test_X), label_scaler.transform(test_Y)\n",
        "\n",
        "  return train_X, train_Y, test_X, test_Y, feature_scaler, label_scaler, labels\n",
        "\n",
        "\n",
        "#TODO für RNN muss noch reshape stattfinden"
      ],
      "execution_count": 0,
      "outputs": []
    },
    {
      "cell_type": "markdown",
      "metadata": {
        "id": "S_kDrS1qH7kc",
        "colab_type": "text"
      },
      "source": [
        "# train models"
      ]
    },
    {
      "cell_type": "markdown",
      "metadata": {
        "id": "rjgpogwABFhX",
        "colab_type": "text"
      },
      "source": [
        "## define callbacks functions"
      ]
    },
    {
      "cell_type": "code",
      "metadata": {
        "id": "18w_KQkpBFEY",
        "colab_type": "code",
        "colab": {}
      },
      "source": [
        "def prepare_tensorboard_callback(model_name=''):\n",
        "  logs_base_dir = \"./tensorbaord_logs\"\n",
        "  model_log_dir = datetime.datetime.now().strftime(\"%Y%m%d-%H%M%S\") + '_' + model_name\n",
        "  target_log_dir = os.path.join(logs_base_dir, model_log_dir)\n",
        "  os.makedirs(target_log_dir, exist_ok=True)\n",
        "  tensorboard_callback = tf.keras.callbacks.TensorBoard(target_log_dir, histogram_freq=1)\n",
        "  return tensorboard_callback\n"
      ],
      "execution_count": 0,
      "outputs": []
    },
    {
      "cell_type": "code",
      "metadata": {
        "id": "MYl_6s7sBMpy",
        "colab_type": "code",
        "colab": {}
      },
      "source": [
        "def prepare_checkpoint_callback(model_name):\n",
        "  checkpoint_base_dir = './checkpoints'\n",
        "  os.makedirs(checkpoint_base_dir, exist_ok=True)\n",
        "  filepath = os.path.join(checkpoint_base_dir, 'cp_'+ model_name)\n",
        "  cp_callback = tf.keras.callbacks.ModelCheckpoint(filepath=filepath,\n",
        "                                                  save_weights_only=True,\n",
        "                                                  verbose=1)\n",
        "  return cp_callback "
      ],
      "execution_count": 0,
      "outputs": []
    },
    {
      "cell_type": "markdown",
      "metadata": {
        "id": "3y07Q50xkLvG",
        "colab_type": "text"
      },
      "source": [
        "## define plot_and_save functions"
      ]
    },
    {
      "cell_type": "markdown",
      "metadata": {
        "id": "l8uMddMPkSc1",
        "colab_type": "text"
      },
      "source": [
        "### loss historie"
      ]
    },
    {
      "cell_type": "code",
      "metadata": {
        "id": "I9UHTxwnkWyp",
        "colab_type": "code",
        "colab": {}
      },
      "source": [
        "def save_plots_before_show(diagramm_name):\n",
        "  if not os.path.exists(results_folder):\n",
        "      os.makedirs(diagramm_folder)\n",
        "\n",
        "  plt.savefig(results_folder + '/' + diagramm_name +'.pdf')\n",
        "  plt.savefig(results_folder + '/' + diagramm_name +'.svg')\n",
        "  plt.savefig(results_folder + '/' + diagramm_name +'.png')\n",
        "\n",
        "def pas_history(model_tupels, histories, key='mean_squared_error'):\n",
        "  model_names = [model_tupel[0] for model_tupel in model_tupels]\n",
        "  plt.figure(figsize=(16,10))\n",
        "  for i, history in enumerate(histories):\n",
        "    history_epoch= range(0, len(history['loss']) )\n",
        "\n",
        "    val = plt.plot(history_epoch, history['val_'+key],\n",
        "                   '--', label=model_names[i]+' Val')\n",
        "    plt.plot(history_epoch, history[key], color=val[0].get_color(),\n",
        "             label=model_names[i]+' Train')\n",
        "\n",
        "  plt.xlabel('Epochs')\n",
        "  plt.yscale(\"log\")\n",
        "  plt.ylabel(key.replace('_',' ').title())\n",
        "  plt.legend()\n",
        "\n",
        "  plt.xlim([0,max(history_epoch)])\n",
        "  save_plots_before_show('history_loss'+'_'+key)\n",
        "  plt.show()"
      ],
      "execution_count": 0,
      "outputs": []
    },
    {
      "cell_type": "markdown",
      "metadata": {
        "id": "VJNfegiglg59",
        "colab_type": "text"
      },
      "source": [
        "### metrics (overall and for all single targets )\n",
        "\n"
      ]
    },
    {
      "cell_type": "code",
      "metadata": {
        "id": "be-UQiKHli16",
        "colab_type": "code",
        "colab": {}
      },
      "source": [
        "def pas_metrics_scaled(model_tupel):\n",
        "  model_name = model_tupel[0]\n",
        "  df = _df_prediction_metrics(model_tupel, scaled=True)\n",
        "  file_path = os.path.join(results_folder, model_name + '_scaled.csv')\n",
        "  df.to_csv(path_or_buf=file_path)\n",
        "  return df\n",
        "  \n",
        "def pas_metrics(model_tupel):\n",
        "  model_name = model_tupel[0]\n",
        "  df = _df_prediction_metrics(model_tupel, scaled=False)\n",
        "  file_path = os.path.join(results_folder, model_name + '.csv')\n",
        "  df.to_csv(path_or_buf=file_path)\n",
        "  return df\n",
        "\n",
        "\n",
        "def _df_prediction_metrics(model_tupel, scaled):\n",
        "  '''\n",
        "  creates describe dataframe of labels and \n",
        "  connect them with mse,rmse and mae per target and overall \n",
        "  '''\n",
        "  \n",
        "  model = model_tupel[1]\n",
        "  train_X, train_Y, test_X, test_Y = model_tupel[2]\n",
        "  cols_label = model_tupel[4]\n",
        "\n",
        "\n",
        "  pred_Y = model.predict(test_X)\n",
        "  \n",
        "  if scaled:\n",
        "    truth_Y = test_Y\n",
        "  else:\n",
        "    label_scaler = model_tupel[3]\n",
        "    pred_Y = label_scaler.inverse_transform(pred_Y)\n",
        "    truth_Y = label_scaler.inverse_transform(test_Y)\n",
        "\n",
        "  df_describe = pd.DataFrame(truth_Y,columns=cols_label).describe()\n",
        "  mses = mean_squared_error(truth_Y, pred_Y, multioutput='raw_values')\n",
        "  rmses = np.array([math.sqrt(mse) for mse in mses])\n",
        "  maes = mean_absolute_error(truth_Y, pred_Y, multioutput='raw_values')\n",
        "  # average over list should do the job as well\n",
        "  mse = mean_squared_error(truth_Y, pred_Y)\n",
        "  rmse = math.sqrt(mse)\n",
        "  mae = mean_absolute_error(truth_Y, pred_Y)\n",
        "\n",
        "\n",
        "  df_mse_per_feature = pd.DataFrame(data=mses.reshape(1,-1),    # values\n",
        "            index=['mses'],     # index\n",
        "            columns=cols_label)  #  column names\n",
        "  df_rmse_per_feature = pd.DataFrame(data=rmses.reshape(1,-1),    # values\n",
        "        index=['rmes'],     # index\n",
        "        columns=cols_label)  #  column names\n",
        "  df_mae_per_feature = pd.DataFrame(data=maes.reshape(1,-1),    # values\n",
        "        index=['maes'],     # index\n",
        "        columns=cols_label)  #  column names\n",
        "  \n",
        "  \n",
        "  df_mse_all = pd.DataFrame(data=mse,    # values\n",
        "            index=['mse'],     # index\n",
        "            columns=cols_label)  #  column names\n",
        "  df_rmse_all = pd.DataFrame(data=rmse,    # values\n",
        "        index=['rme'],     # index\n",
        "        columns=cols_label)  #  column names\n",
        "  df_mae_all = pd.DataFrame(data=mae,    # values\n",
        "        index=['mae'],     # index\n",
        "        columns=cols_label)  #  column names\n",
        "  \n",
        "\n",
        "  metrics = [df_mse_per_feature, df_rmse_per_feature, df_mae_per_feature, \n",
        "             df_mse_all,df_rmse_all,df_mae_all]\n",
        "  return df_describe.append(metrics)"
      ],
      "execution_count": 0,
      "outputs": []
    },
    {
      "cell_type": "markdown",
      "metadata": {
        "id": "4gaR7IV326E_",
        "colab_type": "text"
      },
      "source": [
        "## define models"
      ]
    },
    {
      "cell_type": "code",
      "metadata": {
        "id": "Fhc2M4VD2_YP",
        "colab_type": "code",
        "colab": {}
      },
      "source": [
        "def create_model(model_name, layers, keras_activation, kernel_initializer, \n",
        "                 loss, metrics,  n_in=1, n_out=1):\n",
        "  if not layers:\n",
        "    raise Exception('No layers defined. Expected in format [100,100]') \n",
        "\n",
        " #prepare data\n",
        "  train_X, train_Y, test_X, test_Y, feature_scaler, label_scaler, labels = prepare_datasets(df_data, n_in, n_out)\n",
        "  features_nr = train_X.shape[1]\n",
        "  target_nr = train_Y.shape[1]\n",
        "    \n",
        "  model = keras.Sequential(name=model_name)\n",
        "  \n",
        "  model.add(Dense(layers[0],input_shape=(features_nr,), \n",
        "                          kernel_initializer=kernel_initializer))\n",
        "  model.add(keras_activation())\n",
        "  for i in range(1, len(layers)):\n",
        "    layer_val = layers[i]\n",
        "    model.add(Dense(layer_val, kernel_initializer=kernel_initializer))\n",
        "    model.add(keras_activation())\n",
        "\n",
        "  model.add(Dense(target_nr ))\n",
        "\n",
        "  model.compile(optimizer='adam',\n",
        "                        loss=loss,\n",
        "                        metrics=metrics)\n",
        "\n",
        "  model.summary()\n",
        "  print(model.to_json())\n",
        "  print(train_X.shape, train_Y.shape, test_X.shape, test_Y.shape)\n",
        "  return (model_name, model, (train_X, train_Y, test_X, test_Y), label_scaler, labels)\n"
      ],
      "execution_count": 0,
      "outputs": []
    },
    {
      "cell_type": "code",
      "metadata": {
        "id": "KwMj6E7mBL9m",
        "colab_type": "code",
        "outputId": "1c9ab487-7754-442f-df20-9dd8640dc11e",
        "colab": {
          "base_uri": "https://localhost:8080/",
          "height": 323
        }
      },
      "source": [
        "loss='mean_squared_error',\n",
        "metrics=['mean_squared_error', 'mean_absolute_error']\n",
        "\n",
        "\n",
        "model_200_lag2 = create_model('model_200_lag2', [200], ReLU, 'he_uniform', \n",
        "             loss, metrics,2,1)\n",
        "\n",
        "models = [\n",
        "          model_200_lag2,\n",
        "\n",
        "      \n",
        "]"
      ],
      "execution_count": 0,
      "outputs": [
        {
          "output_type": "stream",
          "text": [
            "Model: \"model_200_lag2\"\n",
            "_________________________________________________________________\n",
            "Layer (type)                 Output Shape              Param #   \n",
            "=================================================================\n",
            "dense (Dense)                (None, 200)               5800      \n",
            "_________________________________________________________________\n",
            "re_lu (ReLU)                 (None, 200)               0         \n",
            "_________________________________________________________________\n",
            "dense_1 (Dense)              (None, 9)                 1809      \n",
            "=================================================================\n",
            "Total params: 7,609\n",
            "Trainable params: 7,609\n",
            "Non-trainable params: 0\n",
            "_________________________________________________________________\n",
            "{\"class_name\": \"Sequential\", \"config\": {\"name\": \"model_200_lag2\", \"layers\": [{\"class_name\": \"Dense\", \"config\": {\"name\": \"dense\", \"trainable\": true, \"batch_input_shape\": [null, 28], \"dtype\": \"float32\", \"units\": 200, \"activation\": \"linear\", \"use_bias\": true, \"kernel_initializer\": {\"class_name\": \"VarianceScaling\", \"config\": {\"scale\": 2.0, \"mode\": \"fan_in\", \"distribution\": \"uniform\", \"seed\": null}}, \"bias_initializer\": {\"class_name\": \"Zeros\", \"config\": {}}, \"kernel_regularizer\": null, \"bias_regularizer\": null, \"activity_regularizer\": null, \"kernel_constraint\": null, \"bias_constraint\": null}}, {\"class_name\": \"ReLU\", \"config\": {\"name\": \"re_lu\", \"trainable\": true, \"dtype\": \"float32\", \"max_value\": null, \"negative_slope\": 0.0, \"threshold\": 0.0}}, {\"class_name\": \"Dense\", \"config\": {\"name\": \"dense_1\", \"trainable\": true, \"dtype\": \"float32\", \"units\": 9, \"activation\": \"linear\", \"use_bias\": true, \"kernel_initializer\": {\"class_name\": \"GlorotUniform\", \"config\": {\"seed\": null}}, \"bias_initializer\": {\"class_name\": \"Zeros\", \"config\": {}}, \"kernel_regularizer\": null, \"bias_regularizer\": null, \"activity_regularizer\": null, \"kernel_constraint\": null, \"bias_constraint\": null}}]}, \"keras_version\": \"2.2.4-tf\", \"backend\": \"tensorflow\"}\n",
            "(330983, 28) (330983, 9) (146906, 28) (146906, 9)\n"
          ],
          "name": "stdout"
        }
      ]
    },
    {
      "cell_type": "markdown",
      "metadata": {
        "id": "HtFN-OP2HlqQ",
        "colab_type": "text"
      },
      "source": [
        "## train, save and load model"
      ]
    },
    {
      "cell_type": "code",
      "metadata": {
        "id": "DDmtdBRxJKJd",
        "colab_type": "code",
        "colab": {}
      },
      "source": [
        "def train_model(model_tupel, epochs, batch_size):\n",
        "  model_name = model_tupel[0]\n",
        "  keras_model = model_tupel[1]\n",
        "  train_X, train_Y, test_X, test_Y = model_tupel[2]\n",
        "\n",
        "  callbacks = [\n",
        "              #prepare_checkpoint_callback(model_name=model_name),\n",
        "              prepare_tensorboard_callback(model_name=model_name)\n",
        "              ]\n",
        "\n",
        "  history = keras_model.fit(train_X,\n",
        "                            train_Y,\n",
        "                            epochs=epochs,\n",
        "                            batch_size=batch_size,\n",
        "                            validation_data=(test_X, test_Y),\n",
        "                            verbose=2,\n",
        "                            callbacks=callbacks\n",
        "                            )\n",
        "  return history  \n",
        "\n",
        "def _format_model_path(model_name):\n",
        "  file_name = '{}_end'.format(model_name)\n",
        "  return os.path.join(saved_model_weight_path, file_name)\n",
        "\n",
        "def save_model(model_tupel):\n",
        "  model_name = model_tupel[0]\n",
        "  keras_model = model_tupel[1]\n",
        "  file_path = _format_model_path(model_name)\n",
        "  keras_model.save_weights(file_path)\n",
        "\n",
        "def load_model(model_tupel):\n",
        "  model_name = model_tupel[0]\n",
        "  keras_model = model_tupel[1]\n",
        "  file_path = _format_model_path(model_name)\n",
        "  exact_file_path = file_path + '.index'\n",
        "  if os.path.isfile(exact_file_path):\n",
        "    print('load model {}'.format(model_name))\n",
        "    keras_model.load_weights(file_path)\n",
        "    return True\n",
        "  else:\n",
        "    return False\n",
        "\n",
        "def _format_history_path(model_name):\n",
        "  file_name = '{}_history_dict'.format(model_name)\n",
        "  return os.path.join(results_folder, file_name)\n",
        "  \n",
        "\n",
        "def save_history(model_tupel, history):\n",
        "  file_path = _format_history_path(model_tupel[0])\n",
        "  with open(file_path, 'wb') as file_hist:\n",
        "        pickle.dump(history.history, file_hist)\n",
        "  \n",
        "\n",
        "def load_history(model_tupel):\n",
        "  file_path = _format_history_path(model_tupel[0])\n",
        "  if not os.path.isfile(file_path):\n",
        "    return dict()\n",
        "  with open(file_path, 'rb') as file_hist:\n",
        "    return pickle.load(file_hist)"
      ],
      "execution_count": 0,
      "outputs": []
    },
    {
      "cell_type": "code",
      "metadata": {
        "id": "DxQg934JhE_H",
        "colab_type": "code",
        "outputId": "20ffbccb-a122-490b-80b1-fbd69da17717",
        "colab": {
          "base_uri": "https://localhost:8080/",
          "height": 35
        }
      },
      "source": [
        "histories = []\n",
        "for model in models:\n",
        "  if not load_model(model):\n",
        "    print(model[0])\n",
        "    history = train_model(model, epochs=1000, batch_size=64)\n",
        "    save_model(model)\n",
        "    save_history(model, history)\n",
        "    histories.append(history.history)\n",
        "    print('*******************')\n",
        "  else:\n",
        "    history = load_history(model)\n",
        "    histories.append(history)"
      ],
      "execution_count": 0,
      "outputs": [
        {
          "output_type": "stream",
          "text": [
            "load model model_200_lag2\n"
          ],
          "name": "stdout"
        }
      ]
    },
    {
      "cell_type": "markdown",
      "metadata": {
        "id": "XRLpUIJnZ-eq",
        "colab_type": "text"
      },
      "source": [
        "## visualize"
      ]
    },
    {
      "cell_type": "markdown",
      "metadata": {
        "id": "8X1nsxWEO59n",
        "colab_type": "text"
      },
      "source": [
        "### Test & Training Loss"
      ]
    },
    {
      "cell_type": "code",
      "metadata": {
        "id": "q7eOZ0lAe1CP",
        "colab_type": "code",
        "outputId": "154922fe-d232-44d3-cc82-e3cf9c3515f8",
        "colab": {
          "base_uri": "https://localhost:8080/",
          "height": 71
        }
      },
      "source": [
        "for i, history in enumerate(histories):\n",
        "  last_loss = history['loss'][-1]\n",
        "  last_val_loss = history['val_loss'][-1]\n",
        "  model_name = models[i][0]\n",
        "  print('{} model last loss: {}'.format(model_name,last_loss))\n",
        "  print('{} model last val loss: {}'.format(model_name,last_val_loss))\n",
        "  print('*******')"
      ],
      "execution_count": 0,
      "outputs": [
        {
          "output_type": "stream",
          "text": [
            "model_200_lag2 model last loss: 2.123449638634479e-06\n",
            "model_200_lag2 model last val loss: 4.4403691179777104e-05\n",
            "*******\n"
          ],
          "name": "stdout"
        }
      ]
    },
    {
      "cell_type": "code",
      "metadata": {
        "id": "gbFhTgXGITKV",
        "colab_type": "code",
        "outputId": "83058159-908d-441f-c0fe-0806ab60bf79",
        "colab": {
          "base_uri": "https://localhost:8080/",
          "height": 606
        }
      },
      "source": [
        "pas_history(models, histories=histories)"
      ],
      "execution_count": 0,
      "outputs": [
        {
          "output_type": "display_data",
          "data": {
            "image/png": "[encoded data removed]",
            "text/plain": [
              "<Figure size 1152x720 with 1 Axes>"
            ]
          },
          "metadata": {
            "tags": []
          }
        }
      ]
    },
    {
      "cell_type": "markdown",
      "metadata": {
        "id": "4vT7MLiJPSQ2",
        "colab_type": "text"
      },
      "source": [
        "\n",
        "### MSE per target (scaled)"
      ]
    },
    {
      "cell_type": "code",
      "metadata": {
        "id": "o03Cq_x5nhRe",
        "colab_type": "code",
        "outputId": "be8738be-47c4-44d3-fa5d-2c8be2875da8",
        "colab": {
          "base_uri": "https://localhost:8080/",
          "height": 321
        }
      },
      "source": [
        "for model_tupel in models:\n",
        "  df = pas_metrics_scaled(model_tupel)\n",
        "  print(model_tupel[0])\n",
        "  with pd.option_context('display.max_rows', None, 'display.max_columns', None,\n",
        "                         'display.width', 1000): \n",
        "    print(df)\n",
        "  print('*********************************************************')"
      ],
      "execution_count": 0,
      "outputs": [
        {
          "output_type": "stream",
          "text": [
            "model_200_lag2\n",
            "          Vtrue,_ktas      __VVI,__fpm      ____Q,rad/s      ____P,rad/s      ____R,rad/s      pitch,__deg      _roll,__deg      _beta,__deg      __alt,ftmsl \n",
            "count    146906.000000    146906.000000    146906.000000    146906.000000    146906.000000    146906.000000    146906.000000    146906.000000    146906.000000\n",
            "mean          0.504411         0.737227         0.567109         0.485060         0.485233         0.531587         0.464654         0.620080         0.541120\n",
            "std           0.106512         0.106115         0.097320         0.137144         0.297852         0.109146         0.243539         0.211064         0.313280\n",
            "min          -0.145712         0.315198         0.068356        -0.114067         0.001815         0.194934         0.019929        -0.224448         0.020174\n",
            "25%           0.491325         0.719309         0.479493         0.478066         0.141444         0.498650         0.178618         0.402814         0.258518\n",
            "50%           0.516065         0.736735         0.609557         0.485824         0.495373         0.523474         0.475117         0.619407         0.502335\n",
            "75%           0.540668         0.757761         0.619842         0.493745         0.817728         0.538931         0.733207         0.857215         0.743406\n",
            "max           0.863996         1.112528         0.958610         1.093909         0.990564         1.288604         0.928746         1.008269         0.980654\n",
            "mses          0.000156         0.000043         0.000034         0.000043         0.000029         0.000050         0.000013         0.000024         0.000007\n",
            "rmes          0.012482         0.006594         0.005841         0.006580         0.005345         0.007041         0.003593         0.004950         0.002718\n",
            "maes          0.001817         0.001690         0.001552         0.001735         0.001661         0.001279         0.000871         0.001151         0.000516\n",
            "mse           0.000044         0.000044         0.000044         0.000044         0.000044         0.000044         0.000044         0.000044         0.000044\n",
            "rme           0.006664         0.006664         0.006664         0.006664         0.006664         0.006664         0.006664         0.006664         0.006664\n",
            "mae           0.001363         0.001363         0.001363         0.001363         0.001363         0.001363         0.001363         0.001363         0.001363\n",
            "*********************************************************\n"
          ],
          "name": "stdout"
        }
      ]
    },
    {
      "cell_type": "markdown",
      "metadata": {
        "id": "bVhouDRRpewh",
        "colab_type": "text"
      },
      "source": [
        "### MSE per target (unscaled)"
      ]
    },
    {
      "cell_type": "code",
      "metadata": {
        "id": "oTTBfKRgRnTP",
        "colab_type": "code",
        "outputId": "a201b25c-d14a-49d1-9d79-fbe1cee5b206",
        "colab": {
          "base_uri": "https://localhost:8080/",
          "height": 321
        }
      },
      "source": [
        "for model_tupel in models:\n",
        "  df = pas_metrics(model_tupel)\n",
        "  print(model_tupel[0])\n",
        "  with pd.option_context('display.max_rows', None, 'display.max_columns', None,\n",
        "                        'display.width', 1000):  \n",
        "    print(df)\n",
        "  print('*********************************************************')"
      ],
      "execution_count": 0,
      "outputs": [
        {
          "output_type": "stream",
          "text": [
            "model_200_lag2\n",
            "          Vtrue,_ktas      __VVI,__fpm      ____Q,rad/s      ____P,rad/s      ____R,rad/s      pitch,__deg      _roll,__deg      _beta,__deg      __alt,ftmsl \n",
            "count    146906.000000    146906.000000     1.469060e+05    146906.000000     1.469060e+05    146906.000000    146906.000000    146906.000000    146906.000000\n",
            "mean        116.933706         1.454796     7.135563e-03        -0.000140    -1.337612e-03        -0.605149        -0.722679         0.024941      3118.809754\n",
            "std           8.275038       276.266783     7.759325e-03         0.025104     3.282927e-02         1.788010        12.122505         0.178670      1339.522697\n",
            "min          66.424780     -1097.281130    -3.263000e-02        -0.109810    -5.462000e-02        -6.120130       -22.859510        -0.689970       891.350710\n",
            "25%         115.917000       -45.194615     1.500000e-04        -0.001420    -3.923000e-02        -1.144713       -14.960540        -0.158980      1910.463807\n",
            "50%         117.839070         0.174215     1.052000e-02         0.000000    -2.200000e-04        -0.738055        -0.201900         0.024370      2952.976195\n",
            "75%         119.750535        54.915493     1.134000e-02         0.001450     3.531000e-02        -0.484833        12.644902         0.225680      3983.744630\n",
            "max         144.870320       978.538330     3.835000e-02         0.111310     5.436000e-02        11.796170        22.378150         0.353550      4998.167480\n",
            "mses          0.940445       294.731026     2.168869e-07         0.000001     3.470345e-07         0.013303         0.031986         0.000018       135.031929\n",
            "rmes          0.969765        17.167732     4.657111e-04         0.001204     5.890963e-04         0.115337         0.178848         0.004190        11.620324\n",
            "maes          0.141169         4.398694     1.237125e-04         0.000318     1.830249e-04         0.020954         0.043346         0.000975         2.206192\n",
            "mse          47.860968        47.860968     4.786097e+01        47.860968     4.786097e+01        47.860968        47.860968        47.860968        47.860968\n",
            "rme           6.918162         6.918162     6.918162e+00         6.918162     6.918162e+00         6.918162         6.918162         6.918162         6.918162\n",
            "mae           0.756884         0.756884     7.568838e-01         0.756884     7.568838e-01         0.756884         0.756884         0.756884         0.756884\n",
            "*********************************************************\n"
          ],
          "name": "stdout"
        }
      ]
    },
    {
      "cell_type": "markdown",
      "metadata": {
        "id": "DTCw_9XlMi9P",
        "colab_type": "text"
      },
      "source": [
        "#latex"
      ]
    },
    {
      "cell_type": "code",
      "metadata": {
        "id": "rRfK9vukMkXV",
        "colab_type": "code",
        "colab": {}
      },
      "source": [
        "def _df_prediction_metrics_all(model_tupel, scaled):\n",
        "  \n",
        "  model_name =  model_tupel[0]\n",
        "  model = model_tupel[1]\n",
        "  train_X, train_Y, test_X, test_Y = model_tupel[2]\n",
        "  cols_label = model_tupel[4]\n",
        "\n",
        "\n",
        "  pred_Y = model.predict(test_X)\n",
        "  \n",
        "  if scaled:\n",
        "    truth_Y = test_Y\n",
        "  else:\n",
        "    label_scaler = model_tupel[3]\n",
        "    pred_Y = label_scaler.inverse_transform(pred_Y)\n",
        "    truth_Y = label_scaler.inverse_transform(test_Y)\n",
        "\n",
        "  df_describe = pd.DataFrame(truth_Y,columns=cols_label).describe()\n",
        "  mses = mean_squared_error(truth_Y, pred_Y, multioutput='raw_values')\n",
        "  #rmses = np.array([math.sqrt(mse) for mse in mses])\n",
        "  #maes = mean_absolute_error(truth_Y, pred_Y, multioutput='raw_values')\n",
        "  # average over list should do the job as well\n",
        "  mse = mean_squared_error(truth_Y, pred_Y)\n",
        "  rmse = math.sqrt(mse)\n",
        "  mae = mean_absolute_error(truth_Y, pred_Y)\n",
        "\n",
        "\n",
        "  df_mse_per_feature = pd.DataFrame(data=mses.reshape(1,-1),    # values\n",
        "            index=[model_name],     # index\n",
        "            columns=cols_label)  #  column names\n",
        "  \n",
        "  df_mse_per_feature['MSE'] = mse\n",
        "  df_mse_per_feature['RMSE'] = rmse\n",
        "  df_mse_per_feature['MAE'] = mae\n",
        "\n",
        "\n",
        "  #df_rmse_per_feature = pd.DataFrame(data=rmses.reshape(1,-1),    # values\n",
        "   #     index=['rmes'],     # index\n",
        "  #      columns=cols_label)  #  column names\n",
        "  #df_mae_per_feature = pd.DataFrame(data=maes.reshape(1,-1),    # values\n",
        "    #    index=['maes'],     # index\n",
        "   #     columns=cols_label)  #  column names\n",
        "  \n",
        "  return df_mse_per_feature\n",
        "\n",
        "\n",
        "def pas_metrics_all(models):\n",
        "  cols_trans = ['MSE', 'RMSE', 'MAE', col_vv,col_alt, col_v]\n",
        "  cols_rot = [col_roll_deg, col_pitch_deg, col_yaw_deg, col_pitch_v, col_yaw_v, col_roll_v]\n",
        "  rows_trans = []\n",
        "  rows_rot = []\n",
        "\n",
        "  for model_tupel in models:\n",
        "    model_row = _df_prediction_metrics_all(model_tupel, scaled=False)\n",
        "    rows_trans.append(model_row[cols_trans])\n",
        "    rows_rot.append(model_row[cols_rot])\n",
        "\n",
        "  df_trans = pd.concat(rows_trans).round(2)\n",
        "  file_path = os.path.join(results_folder, 'all_mse_trans' + '.csv')\n",
        "  df_trans.to_csv(path_or_buf=file_path)\n",
        "  \n",
        "  df_rot = pd.concat(rows_rot).round(10)\n",
        "  file_path = os.path.join(results_folder, 'all_mse_rot' + '.csv')\n",
        "  df_rot.to_csv(path_or_buf=file_path)\n",
        "  return df_trans, df_rot\n",
        "\n",
        "\n",
        "df_trans, df_rot = pas_metrics_all(models)\n",
        "  "
      ],
      "execution_count": 0,
      "outputs": []
    },
    {
      "cell_type": "code",
      "metadata": {
        "id": "EJx7-29ZM4yp",
        "colab_type": "code",
        "outputId": "25bb06d2-802b-4f53-c4cf-9b28a7deabc9",
        "colab": {
          "base_uri": "https://localhost:8080/",
          "height": 81
        }
      },
      "source": [
        "df_trans"
      ],
      "execution_count": 0,
      "outputs": [
        {
          "output_type": "execute_result",
          "data": {
            "text/html": [
              "<div>\n",
              "<style scoped>\n",
              "    .dataframe tbody tr th:only-of-type {\n",
              "        vertical-align: middle;\n",
              "    }\n",
              "\n",
              "    .dataframe tbody tr th {\n",
              "        vertical-align: top;\n",
              "    }\n",
              "\n",
              "    .dataframe thead th {\n",
              "        text-align: right;\n",
              "    }\n",
              "</style>\n",
              "<table border=\"1\" class=\"dataframe\">\n",
              "  <thead>\n",
              "    <tr style=\"text-align: right;\">\n",
              "      <th></th>\n",
              "      <th>MSE</th>\n",
              "      <th>RMSE</th>\n",
              "      <th>MAE</th>\n",
              "      <th>__VVI,__fpm</th>\n",
              "      <th>__alt,ftmsl</th>\n",
              "      <th>Vtrue,_ktas</th>\n",
              "    </tr>\n",
              "  </thead>\n",
              "  <tbody>\n",
              "    <tr>\n",
              "      <th>model_200_lag2</th>\n",
              "      <td>47.86</td>\n",
              "      <td>6.92</td>\n",
              "      <td>0.76</td>\n",
              "      <td>294.73</td>\n",
              "      <td>135.03</td>\n",
              "      <td>0.94</td>\n",
              "    </tr>\n",
              "  </tbody>\n",
              "</table>\n",
              "</div>"
            ],
            "text/plain": [
              "                  MSE  RMSE  ...     __alt,ftmsl      Vtrue,_ktas \n",
              "model_200_lag2  47.86  6.92  ...           135.03             0.94\n",
              "\n",
              "[1 rows x 6 columns]"
            ]
          },
          "metadata": {
            "tags": []
          },
          "execution_count": 25
        }
      ]
    },
    {
      "cell_type": "code",
      "metadata": {
        "id": "fJUMzC7HM5jz",
        "colab_type": "code",
        "outputId": "edb27ef2-f7d6-4596-b51f-d18c2b4e2fd0",
        "colab": {
          "base_uri": "https://localhost:8080/",
          "height": 81
        }
      },
      "source": [
        "df_rot"
      ],
      "execution_count": 0,
      "outputs": [
        {
          "output_type": "execute_result",
          "data": {
            "text/html": [
              "<div>\n",
              "<style scoped>\n",
              "    .dataframe tbody tr th:only-of-type {\n",
              "        vertical-align: middle;\n",
              "    }\n",
              "\n",
              "    .dataframe tbody tr th {\n",
              "        vertical-align: top;\n",
              "    }\n",
              "\n",
              "    .dataframe thead th {\n",
              "        text-align: right;\n",
              "    }\n",
              "</style>\n",
              "<table border=\"1\" class=\"dataframe\">\n",
              "  <thead>\n",
              "    <tr style=\"text-align: right;\">\n",
              "      <th></th>\n",
              "      <th>_roll,__deg</th>\n",
              "      <th>pitch,__deg</th>\n",
              "      <th>_beta,__deg</th>\n",
              "      <th>____P,rad/s</th>\n",
              "      <th>____Q,rad/s</th>\n",
              "      <th>____R,rad/s</th>\n",
              "    </tr>\n",
              "  </thead>\n",
              "  <tbody>\n",
              "    <tr>\n",
              "      <th>model_200_lag2</th>\n",
              "      <td>0.031986</td>\n",
              "      <td>0.013303</td>\n",
              "      <td>0.000018</td>\n",
              "      <td>0.000001</td>\n",
              "      <td>2.169000e-07</td>\n",
              "      <td>3.470000e-07</td>\n",
              "    </tr>\n",
              "  </tbody>\n",
              "</table>\n",
              "</div>"
            ],
            "text/plain": [
              "                   _roll,__deg   ...     ____R,rad/s \n",
              "model_200_lag2         0.031986  ...     3.470000e-07\n",
              "\n",
              "[1 rows x 6 columns]"
            ]
          },
          "metadata": {
            "tags": []
          },
          "execution_count": 26
        }
      ]
    },
    {
      "cell_type": "markdown",
      "metadata": {
        "id": "z40fMP9Ttc9Q",
        "colab_type": "text"
      },
      "source": [
        "#predict one ahead"
      ]
    },
    {
      "cell_type": "code",
      "metadata": {
        "id": "N-8LmbK2eki9",
        "colab_type": "code",
        "colab": {}
      },
      "source": [
        "def make_prediction(model, test_X, seq_len, n_labels, seq_start=0):\n",
        "  predictions = np.empty(n_labels).reshape(1,-1)  \n",
        "  input_state = test_X[seq_start,:].reshape(1,-1)\n",
        "  for i in range(seq_start , seq_start+ seq_len):\n",
        "    pred_Y = model.predict(input_state)\n",
        "    state_offset = pred_Y.shape[1]\n",
        "    action_t1 = test_X[i+1, state_offset:]\n",
        "    input_state = np.concatenate((pred_Y, action_t1.reshape(1,-1)), axis=None).reshape(1,-1)\n",
        "    predictions = np.concatenate((predictions,pred_Y))\n",
        "  return np.delete(predictions, (0), axis=0) #delete first empty row\n",
        "\n",
        "def get_descaled_dataframe(test_Y, predictions, label_scaler):\n",
        "  truth = test_Y[:len(predictions),:]\n",
        "  truth = label_scaler.inverse_transform(truth)\n",
        "  predictions = label_scaler.inverse_transform(predictions)\n",
        "  df_pred = pd.DataFrame(data=predictions, columns=label) \n",
        "  df_real = pd.DataFrame(data=truth, columns=label) \n",
        "  return df_real, df_pred\n",
        "\n",
        "def print_pred_and_actual(pred, actual):\n",
        "  pred_columns = pred.columns\n",
        "  actual_columns = actual.columns\n",
        "  #pred_column_name = pred_columns[0]\n",
        "  #actual_column_name = actual_columns[0]\n",
        "  for pred_column_name, actual_column_name in zip(pred_columns,actual_columns):\n",
        "    pred_column = pred[pred_column_name]\n",
        "    actual_column = actual[actual_column_name]\n",
        "    #for i in range(len(actual_column)):\n",
        "    true = plt.plot(range(0, len(actual_column)), actual_column, label=pred_column_name+' true')\n",
        "    plt.plot(range(0, len(actual_column)), pred_column,'--',color=true[0].get_color(), label=actual_column_name+' pred')\n",
        "    plt.xlabel('Zeitschritte')\n",
        "    plt.ylabel(pred_column_name)\n",
        "    plt.legend()\n",
        "    plt.show()"
      ],
      "execution_count": 0,
      "outputs": []
    },
    {
      "cell_type": "code",
      "metadata": {
        "id": "WpjSxgRRts-r",
        "colab_type": "code",
        "outputId": "118159b3-2c0e-4989-c3f7-ac6acdc2045c",
        "colab": {
          "base_uri": "https://localhost:8080/",
          "height": 35
        }
      },
      "source": [
        "model_tupel = models[0]\n",
        "\n",
        "model = model_tupel[1]\n",
        "train_X, train_Y, test_X, test_Y = model_tupel[2]\n",
        "label_scaler = model_tupel[3]\n",
        "label = model_tupel[4]\n",
        "\n",
        "print(model_tupel[0])\n",
        "\n",
        "predictions = make_prediction(model, test_X, 100, len(cols_state), 0)"
      ],
      "execution_count": 0,
      "outputs": [
        {
          "output_type": "stream",
          "text": [
            "model_200_lag2\n"
          ],
          "name": "stdout"
        }
      ]
    },
    {
      "cell_type": "code",
      "metadata": {
        "id": "LbkoGGOytuBI",
        "colab_type": "code",
        "colab": {}
      },
      "source": [
        "df_real, df_pred = get_descaled_dataframe(test_Y, predictions, label_scaler)"
      ],
      "execution_count": 0,
      "outputs": []
    },
    {
      "cell_type": "code",
      "metadata": {
        "id": "WIoXReFn4Cqq",
        "colab_type": "code",
        "outputId": "80c0396d-0d9c-4f1c-c5f5-ceebd81c743f",
        "colab": {
          "base_uri": "https://localhost:8080/",
          "height": 424
        }
      },
      "source": [
        "df_real"
      ],
      "execution_count": 0,
      "outputs": [
        {
          "output_type": "execute_result",
          "data": {
            "text/html": [
              "<div>\n",
              "<style scoped>\n",
              "    .dataframe tbody tr th:only-of-type {\n",
              "        vertical-align: middle;\n",
              "    }\n",
              "\n",
              "    .dataframe tbody tr th {\n",
              "        vertical-align: top;\n",
              "    }\n",
              "\n",
              "    .dataframe thead th {\n",
              "        text-align: right;\n",
              "    }\n",
              "</style>\n",
              "<table border=\"1\" class=\"dataframe\">\n",
              "  <thead>\n",
              "    <tr style=\"text-align: right;\">\n",
              "      <th></th>\n",
              "      <th>Vtrue,_ktas</th>\n",
              "      <th>__VVI,__fpm</th>\n",
              "      <th>____Q,rad/s</th>\n",
              "      <th>____P,rad/s</th>\n",
              "      <th>____R,rad/s</th>\n",
              "      <th>pitch,__deg</th>\n",
              "      <th>_roll,__deg</th>\n",
              "      <th>_beta,__deg</th>\n",
              "      <th>__alt,ftmsl</th>\n",
              "    </tr>\n",
              "  </thead>\n",
              "  <tbody>\n",
              "    <tr>\n",
              "      <th>0</th>\n",
              "      <td>121.08601</td>\n",
              "      <td>28.55564</td>\n",
              "      <td>-0.00074</td>\n",
              "      <td>0.00076</td>\n",
              "      <td>0.00041</td>\n",
              "      <td>-1.01844</td>\n",
              "      <td>-0.06571</td>\n",
              "      <td>0.01865</td>\n",
              "      <td>898.95416</td>\n",
              "    </tr>\n",
              "    <tr>\n",
              "      <th>1</th>\n",
              "      <td>121.08266</td>\n",
              "      <td>28.95666</td>\n",
              "      <td>-0.00074</td>\n",
              "      <td>0.00073</td>\n",
              "      <td>0.00042</td>\n",
              "      <td>-1.02024</td>\n",
              "      <td>-0.06388</td>\n",
              "      <td>0.01912</td>\n",
              "      <td>898.97791</td>\n",
              "    </tr>\n",
              "    <tr>\n",
              "      <th>2</th>\n",
              "      <td>121.07909</td>\n",
              "      <td>29.34724</td>\n",
              "      <td>-0.00075</td>\n",
              "      <td>0.00070</td>\n",
              "      <td>0.00042</td>\n",
              "      <td>-1.02221</td>\n",
              "      <td>-0.06201</td>\n",
              "      <td>0.01958</td>\n",
              "      <td>899.00311</td>\n",
              "    </tr>\n",
              "    <tr>\n",
              "      <th>3</th>\n",
              "      <td>121.07558</td>\n",
              "      <td>29.69239</td>\n",
              "      <td>-0.00077</td>\n",
              "      <td>0.00066</td>\n",
              "      <td>0.00042</td>\n",
              "      <td>-1.02419</td>\n",
              "      <td>-0.06025</td>\n",
              "      <td>0.02003</td>\n",
              "      <td>899.02783</td>\n",
              "    </tr>\n",
              "    <tr>\n",
              "      <th>4</th>\n",
              "      <td>121.07197</td>\n",
              "      <td>30.00993</td>\n",
              "      <td>-0.00078</td>\n",
              "      <td>0.00062</td>\n",
              "      <td>0.00041</td>\n",
              "      <td>-1.02630</td>\n",
              "      <td>-0.05851</td>\n",
              "      <td>0.02048</td>\n",
              "      <td>899.05328</td>\n",
              "    </tr>\n",
              "    <tr>\n",
              "      <th>...</th>\n",
              "      <td>...</td>\n",
              "      <td>...</td>\n",
              "      <td>...</td>\n",
              "      <td>...</td>\n",
              "      <td>...</td>\n",
              "      <td>...</td>\n",
              "      <td>...</td>\n",
              "      <td>...</td>\n",
              "      <td>...</td>\n",
              "    </tr>\n",
              "    <tr>\n",
              "      <th>95</th>\n",
              "      <td>120.89255</td>\n",
              "      <td>3.55850</td>\n",
              "      <td>-0.00010</td>\n",
              "      <td>-0.00065</td>\n",
              "      <td>0.00008</td>\n",
              "      <td>-1.15733</td>\n",
              "      <td>-0.14310</td>\n",
              "      <td>0.02213</td>\n",
              "      <td>899.95483</td>\n",
              "    </tr>\n",
              "    <tr>\n",
              "      <th>96</th>\n",
              "      <td>120.89164</td>\n",
              "      <td>3.37366</td>\n",
              "      <td>-0.00010</td>\n",
              "      <td>-0.00065</td>\n",
              "      <td>0.00007</td>\n",
              "      <td>-1.15758</td>\n",
              "      <td>-0.14478</td>\n",
              "      <td>0.02217</td>\n",
              "      <td>899.95483</td>\n",
              "    </tr>\n",
              "    <tr>\n",
              "      <th>97</th>\n",
              "      <td>120.89073</td>\n",
              "      <td>3.19174</td>\n",
              "      <td>-0.00009</td>\n",
              "      <td>-0.00064</td>\n",
              "      <td>0.00007</td>\n",
              "      <td>-1.15780</td>\n",
              "      <td>-0.14649</td>\n",
              "      <td>0.02218</td>\n",
              "      <td>899.95483</td>\n",
              "    </tr>\n",
              "    <tr>\n",
              "      <th>98</th>\n",
              "      <td>120.88983</td>\n",
              "      <td>3.01555</td>\n",
              "      <td>-0.00009</td>\n",
              "      <td>-0.00064</td>\n",
              "      <td>0.00006</td>\n",
              "      <td>-1.15801</td>\n",
              "      <td>-0.14817</td>\n",
              "      <td>0.02219</td>\n",
              "      <td>899.95471</td>\n",
              "    </tr>\n",
              "    <tr>\n",
              "      <th>99</th>\n",
              "      <td>120.88890</td>\n",
              "      <td>2.83889</td>\n",
              "      <td>-0.00008</td>\n",
              "      <td>-0.00063</td>\n",
              "      <td>0.00006</td>\n",
              "      <td>-1.15821</td>\n",
              "      <td>-0.14989</td>\n",
              "      <td>0.02222</td>\n",
              "      <td>899.95453</td>\n",
              "    </tr>\n",
              "  </tbody>\n",
              "</table>\n",
              "<p>100 rows × 9 columns</p>\n",
              "</div>"
            ],
            "text/plain": [
              "       Vtrue,_ktas      __VVI,__fpm   ...     _beta,__deg      __alt,ftmsl \n",
              "0         121.08601         28.55564  ...          0.01865        898.95416\n",
              "1         121.08266         28.95666  ...          0.01912        898.97791\n",
              "2         121.07909         29.34724  ...          0.01958        899.00311\n",
              "3         121.07558         29.69239  ...          0.02003        899.02783\n",
              "4         121.07197         30.00993  ...          0.02048        899.05328\n",
              "..              ...              ...  ...              ...              ...\n",
              "95        120.89255          3.55850  ...          0.02213        899.95483\n",
              "96        120.89164          3.37366  ...          0.02217        899.95483\n",
              "97        120.89073          3.19174  ...          0.02218        899.95483\n",
              "98        120.88983          3.01555  ...          0.02219        899.95471\n",
              "99        120.88890          2.83889  ...          0.02222        899.95453\n",
              "\n",
              "[100 rows x 9 columns]"
            ]
          },
          "metadata": {
            "tags": []
          },
          "execution_count": 30
        }
      ]
    },
    {
      "cell_type": "code",
      "metadata": {
        "id": "9J1obbqt4Doa",
        "colab_type": "code",
        "outputId": "63858949-2cee-4bb2-9966-8501775a0e3e",
        "colab": {
          "base_uri": "https://localhost:8080/",
          "height": 424
        }
      },
      "source": [
        "df_pred"
      ],
      "execution_count": 0,
      "outputs": [
        {
          "output_type": "execute_result",
          "data": {
            "text/html": [
              "<div>\n",
              "<style scoped>\n",
              "    .dataframe tbody tr th:only-of-type {\n",
              "        vertical-align: middle;\n",
              "    }\n",
              "\n",
              "    .dataframe tbody tr th {\n",
              "        vertical-align: top;\n",
              "    }\n",
              "\n",
              "    .dataframe thead th {\n",
              "        text-align: right;\n",
              "    }\n",
              "</style>\n",
              "<table border=\"1\" class=\"dataframe\">\n",
              "  <thead>\n",
              "    <tr style=\"text-align: right;\">\n",
              "      <th></th>\n",
              "      <th>Vtrue,_ktas</th>\n",
              "      <th>__VVI,__fpm</th>\n",
              "      <th>____Q,rad/s</th>\n",
              "      <th>____P,rad/s</th>\n",
              "      <th>____R,rad/s</th>\n",
              "      <th>pitch,__deg</th>\n",
              "      <th>_roll,__deg</th>\n",
              "      <th>_beta,__deg</th>\n",
              "      <th>__alt,ftmsl</th>\n",
              "    </tr>\n",
              "  </thead>\n",
              "  <tbody>\n",
              "    <tr>\n",
              "      <th>0</th>\n",
              "      <td>121.116821</td>\n",
              "      <td>27.295136</td>\n",
              "      <td>-0.000785</td>\n",
              "      <td>0.000917</td>\n",
              "      <td>0.000307</td>\n",
              "      <td>-1.020129</td>\n",
              "      <td>-0.080699</td>\n",
              "      <td>0.018765</td>\n",
              "      <td>898.534403</td>\n",
              "    </tr>\n",
              "    <tr>\n",
              "      <th>1</th>\n",
              "      <td>121.124762</td>\n",
              "      <td>29.637089</td>\n",
              "      <td>-0.000491</td>\n",
              "      <td>0.000846</td>\n",
              "      <td>0.000318</td>\n",
              "      <td>-1.025316</td>\n",
              "      <td>-0.075521</td>\n",
              "      <td>0.019087</td>\n",
              "      <td>899.073911</td>\n",
              "    </tr>\n",
              "    <tr>\n",
              "      <th>2</th>\n",
              "      <td>121.118520</td>\n",
              "      <td>29.658038</td>\n",
              "      <td>-0.000616</td>\n",
              "      <td>0.000820</td>\n",
              "      <td>0.000327</td>\n",
              "      <td>-1.028549</td>\n",
              "      <td>-0.074230</td>\n",
              "      <td>0.019599</td>\n",
              "      <td>898.936296</td>\n",
              "    </tr>\n",
              "    <tr>\n",
              "      <th>3</th>\n",
              "      <td>121.112894</td>\n",
              "      <td>30.291632</td>\n",
              "      <td>-0.000579</td>\n",
              "      <td>0.000783</td>\n",
              "      <td>0.000331</td>\n",
              "      <td>-1.031152</td>\n",
              "      <td>-0.071512</td>\n",
              "      <td>0.020026</td>\n",
              "      <td>898.999684</td>\n",
              "    </tr>\n",
              "    <tr>\n",
              "      <th>4</th>\n",
              "      <td>121.107286</td>\n",
              "      <td>30.540228</td>\n",
              "      <td>-0.000621</td>\n",
              "      <td>0.000742</td>\n",
              "      <td>0.000331</td>\n",
              "      <td>-1.033374</td>\n",
              "      <td>-0.070112</td>\n",
              "      <td>0.020493</td>\n",
              "      <td>898.994659</td>\n",
              "    </tr>\n",
              "    <tr>\n",
              "      <th>...</th>\n",
              "      <td>...</td>\n",
              "      <td>...</td>\n",
              "      <td>...</td>\n",
              "      <td>...</td>\n",
              "      <td>...</td>\n",
              "      <td>...</td>\n",
              "      <td>...</td>\n",
              "      <td>...</td>\n",
              "      <td>...</td>\n",
              "    </tr>\n",
              "    <tr>\n",
              "      <th>95</th>\n",
              "      <td>120.923991</td>\n",
              "      <td>4.532315</td>\n",
              "      <td>0.000059</td>\n",
              "      <td>-0.000532</td>\n",
              "      <td>-0.000011</td>\n",
              "      <td>-1.165555</td>\n",
              "      <td>-0.158256</td>\n",
              "      <td>0.022430</td>\n",
              "      <td>899.949402</td>\n",
              "    </tr>\n",
              "    <tr>\n",
              "      <th>96</th>\n",
              "      <td>120.923509</td>\n",
              "      <td>4.333066</td>\n",
              "      <td>0.000068</td>\n",
              "      <td>-0.000530</td>\n",
              "      <td>-0.000014</td>\n",
              "      <td>-1.165653</td>\n",
              "      <td>-0.160267</td>\n",
              "      <td>0.022473</td>\n",
              "      <td>899.965538</td>\n",
              "    </tr>\n",
              "    <tr>\n",
              "      <th>97</th>\n",
              "      <td>120.922565</td>\n",
              "      <td>4.120471</td>\n",
              "      <td>0.000064</td>\n",
              "      <td>-0.000534</td>\n",
              "      <td>-0.000022</td>\n",
              "      <td>-1.165893</td>\n",
              "      <td>-0.162214</td>\n",
              "      <td>0.022516</td>\n",
              "      <td>899.943787</td>\n",
              "    </tr>\n",
              "    <tr>\n",
              "      <th>98</th>\n",
              "      <td>120.921615</td>\n",
              "      <td>3.979569</td>\n",
              "      <td>0.000080</td>\n",
              "      <td>-0.000516</td>\n",
              "      <td>-0.000024</td>\n",
              "      <td>-1.166082</td>\n",
              "      <td>-0.163494</td>\n",
              "      <td>0.022496</td>\n",
              "      <td>899.966270</td>\n",
              "    </tr>\n",
              "    <tr>\n",
              "      <th>99</th>\n",
              "      <td>120.920824</td>\n",
              "      <td>3.763871</td>\n",
              "      <td>0.000073</td>\n",
              "      <td>-0.000524</td>\n",
              "      <td>-0.000032</td>\n",
              "      <td>-1.166277</td>\n",
              "      <td>-0.165528</td>\n",
              "      <td>0.022537</td>\n",
              "      <td>899.943707</td>\n",
              "    </tr>\n",
              "  </tbody>\n",
              "</table>\n",
              "<p>100 rows × 9 columns</p>\n",
              "</div>"
            ],
            "text/plain": [
              "       Vtrue,_ktas      __VVI,__fpm   ...     _beta,__deg      __alt,ftmsl \n",
              "0        121.116821        27.295136  ...         0.018765       898.534403\n",
              "1        121.124762        29.637089  ...         0.019087       899.073911\n",
              "2        121.118520        29.658038  ...         0.019599       898.936296\n",
              "3        121.112894        30.291632  ...         0.020026       898.999684\n",
              "4        121.107286        30.540228  ...         0.020493       898.994659\n",
              "..              ...              ...  ...              ...              ...\n",
              "95       120.923991         4.532315  ...         0.022430       899.949402\n",
              "96       120.923509         4.333066  ...         0.022473       899.965538\n",
              "97       120.922565         4.120471  ...         0.022516       899.943787\n",
              "98       120.921615         3.979569  ...         0.022496       899.966270\n",
              "99       120.920824         3.763871  ...         0.022537       899.943707\n",
              "\n",
              "[100 rows x 9 columns]"
            ]
          },
          "metadata": {
            "tags": []
          },
          "execution_count": 31
        }
      ]
    },
    {
      "cell_type": "code",
      "metadata": {
        "id": "EM3aCfNBt_gx",
        "colab_type": "code",
        "outputId": "9ca5bab4-6e0a-4433-d20e-95deff8ef2e9",
        "colab": {
          "base_uri": "https://localhost:8080/",
          "height": 1000
        }
      },
      "source": [
        "print_pred_and_actual(df_pred, df_real)\n"
      ],
      "execution_count": 0,
      "outputs": [
        {
          "output_type": "display_data",
          "data": {
            "image/png": "[encoded data removed]",
            "text/plain": [
              "<Figure size 432x288 with 1 Axes>"
            ]
          },
          "metadata": {
            "tags": []
          }
        },
        {
          "output_type": "display_data",
          "data": {
            "image/png": "[encoded data removed]",
            "text/plain": [
              "<Figure size 432x288 with 1 Axes>"
            ]
          },
          "metadata": {
            "tags": []
          }
        },
        {
          "output_type": "display_data",
          "data": {
            "image/png": "[encoded data removed]",
            "text/plain": [
              "<Figure size 432x288 with 1 Axes>"
            ]
          },
          "metadata": {
            "tags": []
          }
        },
        {
          "output_type": "display_data",
          "data": {
            "image/png": "[encoded data removed]",
            "text/plain": [
              "<Figure size 432x288 with 1 Axes>"
            ]
          },
          "metadata": {
            "tags": []
          }
        },
        {
          "output_type": "display_data",
          "data": {
            "image/png": "[encoded data removed]",
            "text/plain": [
              "<Figure size 432x288 with 1 Axes>"
            ]
          },
          "metadata": {
            "tags": []
          }
        },
        {
          "output_type": "display_data",
          "data": {
            "image/png": "[encoded data removed]",
            "text/plain": [
              "<Figure size 432x288 with 1 Axes>"
            ]
          },
          "metadata": {
            "tags": []
          }
        },
        {
          "output_type": "display_data",
          "data": {
            "image/png": "[encoded data removed]",
            "text/plain": [
              "<Figure size 432x288 with 1 Axes>"
            ]
          },
          "metadata": {
            "tags": []
          }
        },
        {
          "output_type": "display_data",
          "data": {
            "image/png": "[encoded data removed]",
            "text/plain": [
              "<Figure size 432x288 with 1 Axes>"
            ]
          },
          "metadata": {
            "tags": []
          }
        },
        {
          "output_type": "display_data",
          "data": {
            "image/png": "[encoded data removed]",
            "text/plain": [
              "<Figure size 432x288 with 1 Axes>"
            ]
          },
          "metadata": {
            "tags": []
          }
        }
      ]
    },
    {
      "cell_type": "code",
      "metadata": {
        "id": "js2zRzanuGG4",
        "colab_type": "code",
        "colab": {}
      },
      "source": [
        ""
      ],
      "execution_count": 0,
      "outputs": []
    }
  ]
}