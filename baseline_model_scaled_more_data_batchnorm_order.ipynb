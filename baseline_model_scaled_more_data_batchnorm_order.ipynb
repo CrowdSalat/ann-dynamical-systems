{
  "nbformat": 4,
  "nbformat_minor": 0,
  "metadata": {
    "colab": {
      "name": "baseline-model-scaled-more-data_batchnorm-order.ipynb",
      "provenance": [],
      "collapsed_sections": [],
      "toc_visible": true,
      "include_colab_link": true
    },
    "kernelspec": {
      "name": "python3",
      "display_name": "Python 3"
    },
    "accelerator": "GPU"
  },
  "cells": [
    {
      "cell_type": "markdown",
      "metadata": {
        "id": "view-in-github",
        "colab_type": "text"
      },
      "source": [
        "<a href=\"https://colab.research.google.com/github/CrowdSalat/ann-dynamical-systems/blob/master/baseline_model_scaled_more_data_batchnorm_order.ipynb\" target=\"_parent\"><img src=\"https://colab.research.google.com/assets/colab-badge.svg\" alt=\"Open In Colab\"/></a>"
      ]
    },
    {
      "cell_type": "markdown",
      "metadata": {
        "id": "Pa9Mju9lc4Ll",
        "colab_type": "text"
      },
      "source": [
        "# overview\n",
        "\n",
        "Uses actions and an input state to predict the output state."
      ]
    },
    {
      "cell_type": "markdown",
      "metadata": {
        "id": "xioJfiocKYyp",
        "colab_type": "text"
      },
      "source": [
        "History mse\n",
        "mse all\n",
        "History mae\n",
        "mae all\n",
        "mse per target scaled\n",
        "mse per target unscaled\n",
        "\n",
        "vllt deutliche kleineres model\n",
        "batch norm after acitivation"
      ]
    },
    {
      "cell_type": "markdown",
      "metadata": {
        "id": "ijDD21X-gnli",
        "colab_type": "text"
      },
      "source": [
        "# imports"
      ]
    },
    {
      "cell_type": "code",
      "metadata": {
        "id": "_Z4pV678a1zv",
        "colab_type": "code",
        "outputId": "8a43ef73-473a-4781-99be-d2083867470d",
        "colab": {
          "base_uri": "https://localhost:8080/",
          "height": 35
        }
      },
      "source": [
        "try:\n",
        "  # %tensorflow_version only exists in Colab.\n",
        "  %tensorflow_version 2.x\n",
        "except Exception:\n",
        "  pass"
      ],
      "execution_count": 0,
      "outputs": [
        {
          "output_type": "stream",
          "text": [
            "TensorFlow 2.x selected.\n"
          ],
          "name": "stdout"
        }
      ]
    },
    {
      "cell_type": "code",
      "metadata": {
        "id": "2p4YwEK_f7kq",
        "colab_type": "code",
        "outputId": "f4b60c8d-c991-4b25-93d6-97e744a19da3",
        "colab": {
          "base_uri": "https://localhost:8080/",
          "height": 35
        }
      },
      "source": [
        "import pandas as pd\n",
        "import numpy as np\n",
        "import os\n",
        "import sys\n",
        "import datetime\n",
        "import matplotlib.pyplot as plt\n",
        "from sklearn.preprocessing import MinMaxScaler\n",
        "from sklearn.metrics import mean_squared_error\n",
        "\n",
        "from sklearn.model_selection import train_test_split\n",
        "from sklearn.preprocessing import MinMaxScaler\n",
        "\n",
        "\n",
        "import tensorflow as tf\n",
        "print(tf.__version__)\n",
        "from tensorflow import keras\n",
        "\n",
        "from tensorflow.keras.models import Sequential\n",
        "from tensorflow.keras.layers import Dense\n",
        "from tensorflow.keras.layers import *\n",
        "from tensorflow.keras import metrics"
      ],
      "execution_count": 1,
      "outputs": [
        {
          "output_type": "stream",
          "text": [
            "1.15.0-rc3\n"
          ],
          "name": "stdout"
        }
      ]
    },
    {
      "cell_type": "markdown",
      "metadata": {
        "id": "rmj8c18xllpT",
        "colab_type": "text"
      },
      "source": [
        "# mount drive"
      ]
    },
    {
      "cell_type": "code",
      "metadata": {
        "id": "nUEqcpzvltdo",
        "colab_type": "code",
        "colab": {}
      },
      "source": [
        "file = 'dataset_all_01.csv'"
      ],
      "execution_count": 0,
      "outputs": []
    },
    {
      "cell_type": "code",
      "metadata": {
        "id": "TuGWEMS1loFz",
        "colab_type": "code",
        "outputId": "b4ad0494-5a71-4025-8b9c-39cd8aac0f8d",
        "colab": {
          "base_uri": "https://localhost:8080/",
          "height": 72
        }
      },
      "source": [
        "from google.colab import drive\n",
        "drive.mount('/content/drive')\n",
        "\n",
        "root_dir = '/content/drive/My Drive/xplane_data' \n",
        "os.chdir(root_dir)\n",
        "print ('working dir: ' + os.getcwd())"
      ],
      "execution_count": 4,
      "outputs": [
        {
          "output_type": "stream",
          "text": [
            "Drive already mounted at /content/drive; to attempt to forcibly remount, call drive.mount(\"/content/drive\", force_remount=True).\n",
            "working dir: /content/drive/My Drive/xplane_data\n"
          ],
          "name": "stdout"
        }
      ]
    },
    {
      "cell_type": "markdown",
      "metadata": {
        "id": "EF4tx110HmOj",
        "colab_type": "text"
      },
      "source": [
        "# load and prepare data"
      ]
    },
    {
      "cell_type": "markdown",
      "metadata": {
        "id": "EOM6RVAIduGr",
        "colab_type": "text"
      },
      "source": [
        "## define features (actions & states)\n",
        "actions and states at time t are the input for the network.\n",
        "\n",
        "the states at time t + 1 are the desired output of the network.\n"
      ]
    },
    {
      "cell_type": "code",
      "metadata": {
        "id": "YH9bVQ3YDyTh",
        "colab_type": "code",
        "outputId": "5ed975c4-95d9-499b-b196-5f5838748b1e",
        "colab": {
          "base_uri": "https://localhost:8080/",
          "height": 55
        }
      },
      "source": [
        "col_m_time      = '   missn,_time '\n",
        "col_t_time      = '   _totl,_time '\n",
        "col_yaw_v       = '   ____Q,rad/s '\n",
        "\n",
        "col_yaw_deg     = '   _beta,__deg '\n",
        "col_roll_deg    = '   _roll,__deg '\n",
        "col_roll_v      = '   ____R,rad/s '\n",
        "col_pitch_deg   = '   pitch,__deg '\n",
        "col_pitch_v     = '   ____P,rad/s '\n",
        "col_alt         = '   __alt,ftmsl '\n",
        "col_vv          = '   __VVI,__fpm '\n",
        "col_v           = '   Vtrue,_ktas '\n",
        "col_rpm_prop    = '   rpm_1,_prop '\n",
        "col_throttle     = '   thro1,_part '\n",
        "\n",
        "cols_state = [ \n",
        "    col_yaw_v,\n",
        "    col_yaw_deg,\n",
        "    col_roll_deg,\n",
        "    col_roll_v,\n",
        "    col_pitch_deg,\n",
        "    col_pitch_v,\n",
        "    col_vv,\n",
        "    col_alt,\n",
        "    col_v,\n",
        "    col_rpm_prop,\n",
        "    col_throttle,\n",
        "]\n",
        "\n",
        "cols_time = [\n",
        "    col_m_time,\n",
        "    col_t_time,\n",
        "]\n",
        "\n",
        "col_elev_servo                  = '   _elev,servo '\n",
        "col_ailrn_servo                  = '   ailrn,servo '\n",
        "col_ruddr_servo                  = '   ruddr,servo '\n",
        "\n",
        "cols_action = [\n",
        "    col_elev_servo,\n",
        "    col_ailrn_servo,\n",
        "    col_ruddr_servo\n",
        "]\n",
        "\n",
        "# all input columns\n",
        "cols_features = []\n",
        "cols_features.extend(cols_state)\n",
        "cols_features.extend(cols_action)\n",
        "\n",
        "# orga column\n",
        "col_dataset_index = 'dataset_index'\n",
        "col_maneuver_index = 'maneuver_index'\n",
        "col_maneuver_name = 'maneuver_name'\n",
        "col_maneuver_datapoint_index = 'maneuver_datapoint_index'\n",
        "col_maneuver_type = 'maneuver_type'\n",
        "\n",
        "\n",
        "label_prefix = 't+1_'\n",
        "cols_label = [label_prefix + col_state for col_state in cols_state]\n",
        "print(cols_label)\n"
      ],
      "execution_count": 5,
      "outputs": [
        {
          "output_type": "stream",
          "text": [
            "['t+1_   ____Q,rad/s ', 't+1_   _beta,__deg ', 't+1_   _roll,__deg ', 't+1_   ____R,rad/s ', 't+1_   pitch,__deg ', 't+1_   ____P,rad/s ', 't+1_   __VVI,__fpm ', 't+1_   __alt,ftmsl ', 't+1_   Vtrue,_ktas ', 't+1_   rpm_1,_prop ', 't+1_   thro1,_part ']\n"
          ],
          "name": "stdout"
        }
      ]
    },
    {
      "cell_type": "markdown",
      "metadata": {
        "id": "gDSNkVBaDv2V",
        "colab_type": "text"
      },
      "source": [
        "## load data"
      ]
    },
    {
      "cell_type": "code",
      "metadata": {
        "id": "uByPEHX3fS2G",
        "colab_type": "code",
        "outputId": "08e71249-570e-42ae-96ab-14c5b507c893",
        "colab": {
          "base_uri": "https://localhost:8080/",
          "height": 52
        }
      },
      "source": [
        "def load_xplane_csv(csv_path, columns):\n",
        "    return pd.read_csv(csv_path, delimiter=',', usecols = columns, \n",
        "                       float_precision='high')\n",
        "\n",
        "df_features = load_xplane_csv(file, cols_features)\n",
        "\n",
        "df_labels = load_xplane_csv(file, cols_label)\n",
        "\n",
        "print(len(df_features))\n",
        "print(len(df_labels))\n",
        "assert(len(df_features) == len(df_labels))\n"
      ],
      "execution_count": 6,
      "outputs": [
        {
          "output_type": "stream",
          "text": [
            "477893\n",
            "477893\n"
          ],
          "name": "stdout"
        }
      ]
    },
    {
      "cell_type": "markdown",
      "metadata": {
        "id": "GFoo4xF1ECKM",
        "colab_type": "text"
      },
      "source": [
        "## drop nan in features and labels"
      ]
    },
    {
      "cell_type": "markdown",
      "metadata": {
        "id": "zZ-jcsk-LoRs",
        "colab_type": "text"
      },
      "source": [
        "drop nan rows in both features and in labels"
      ]
    },
    {
      "cell_type": "code",
      "metadata": {
        "id": "d9ERQNmbLnkB",
        "colab_type": "code",
        "outputId": "eff8e593-94c5-478f-a505-62ca133d4da1",
        "colab": {
          "base_uri": "https://localhost:8080/",
          "height": 52
        }
      },
      "source": [
        "df_nan = df_labels.isna().any(axis=1)\n",
        "\n",
        "for i in range(0, len(df_nan)):\n",
        "  if df_nan[i] == True:\n",
        "    df_features.drop(index=i, inplace=True)\n",
        "\n",
        "df_labels.dropna(inplace=True)\n",
        "\n",
        "print(len(df_features))\n",
        "print(len(df_labels))"
      ],
      "execution_count": 7,
      "outputs": [
        {
          "output_type": "stream",
          "text": [
            "477290\n",
            "477290\n"
          ],
          "name": "stdout"
        }
      ]
    },
    {
      "cell_type": "code",
      "metadata": {
        "id": "QrIc5hWyvzkK",
        "colab_type": "code",
        "colab": {}
      },
      "source": [
        "def split_train_test(dataset):\n",
        "  train_size = int(len(dataset) * 0.67)\n",
        "  test_size = len(dataset) - train_size\n",
        "  train, test = dataset[0:train_size,:], dataset[train_size:len(dataset),:]\n",
        "  return train, test\n"
      ],
      "execution_count": 0,
      "outputs": []
    },
    {
      "cell_type": "markdown",
      "metadata": {
        "id": "sWg6-HwsEKZ7",
        "colab_type": "text"
      },
      "source": [
        "## split data"
      ]
    },
    {
      "cell_type": "code",
      "metadata": {
        "id": "RW9vgEExoYB8",
        "colab_type": "code",
        "colab": {}
      },
      "source": [
        "features = df_features.values\n",
        "labels = df_labels.values"
      ],
      "execution_count": 0,
      "outputs": []
    },
    {
      "cell_type": "code",
      "metadata": {
        "id": "wFF9QfAdv8CQ",
        "colab_type": "code",
        "colab": {}
      },
      "source": [
        "train_X, test_X, train_Y, test_Y  = train_test_split(features,labels, test_size=0.2, random_state=42)"
      ],
      "execution_count": 0,
      "outputs": []
    },
    {
      "cell_type": "code",
      "metadata": {
        "id": "YpDcgWG3LiCO",
        "colab_type": "code",
        "outputId": "3fd84351-d0e4-4f45-f12c-5594e8afa5e6",
        "colab": {
          "base_uri": "https://localhost:8080/",
          "height": 88
        }
      },
      "source": [
        "print(train_X.shape)\n",
        "print(train_Y.shape)\n",
        "print(test_X.shape)\n",
        "print(test_Y.shape)"
      ],
      "execution_count": 11,
      "outputs": [
        {
          "output_type": "stream",
          "text": [
            "(381832, 14)\n",
            "(381832, 11)\n",
            "(95458, 14)\n",
            "(95458, 11)\n"
          ],
          "name": "stdout"
        }
      ]
    },
    {
      "cell_type": "markdown",
      "metadata": {
        "id": "8iyEoupyiORe",
        "colab_type": "text"
      },
      "source": [
        "## scale data"
      ]
    },
    {
      "cell_type": "code",
      "metadata": {
        "id": "DexT4psKoaPF",
        "colab_type": "code",
        "colab": {}
      },
      "source": [
        "feature_scaler = MinMaxScaler()\n",
        "feature_scaler.fit(train_X)\n",
        "\n",
        "train_X = feature_scaler.transform(train_X)\n",
        "test_X = feature_scaler.transform(test_X)\n"
      ],
      "execution_count": 0,
      "outputs": []
    },
    {
      "cell_type": "code",
      "metadata": {
        "id": "PAm6Gm6TqoEw",
        "colab_type": "code",
        "colab": {}
      },
      "source": [
        "label_scaler = MinMaxScaler()\n",
        "label_scaler.fit(train_Y)\n",
        "\n",
        "train_Y = label_scaler.transform(train_Y)\n",
        "test_Y = label_scaler.transform(test_Y)"
      ],
      "execution_count": 0,
      "outputs": []
    },
    {
      "cell_type": "code",
      "metadata": {
        "id": "Ew0U2dwl1TuN",
        "colab_type": "code",
        "colab": {}
      },
      "source": [
        "# create scaled df\n",
        "scaled_df_features = pd.DataFrame(feature_scaler.transform(df_features), columns=df_features.columns)\n",
        "scaled_df_labels = pd.DataFrame(label_scaler.transform(df_labels), columns=df_labels.columns)"
      ],
      "execution_count": 0,
      "outputs": []
    },
    {
      "cell_type": "code",
      "metadata": {
        "id": "jjMPJ7gH1p_O",
        "colab_type": "code",
        "outputId": "3ab793d0-c708-4edb-b3c2-c84dbdd6232c",
        "colab": {
          "base_uri": "https://localhost:8080/",
          "height": 320
        }
      },
      "source": [
        "df_features.describe()"
      ],
      "execution_count": 15,
      "outputs": [
        {
          "output_type": "execute_result",
          "data": {
            "text/html": [
              "<div>\n",
              "<style scoped>\n",
              "    .dataframe tbody tr th:only-of-type {\n",
              "        vertical-align: middle;\n",
              "    }\n",
              "\n",
              "    .dataframe tbody tr th {\n",
              "        vertical-align: top;\n",
              "    }\n",
              "\n",
              "    .dataframe thead th {\n",
              "        text-align: right;\n",
              "    }\n",
              "</style>\n",
              "<table border=\"1\" class=\"dataframe\">\n",
              "  <thead>\n",
              "    <tr style=\"text-align: right;\">\n",
              "      <th></th>\n",
              "      <th>Vtrue,_ktas</th>\n",
              "      <th>__VVI,__fpm</th>\n",
              "      <th>____Q,rad/s</th>\n",
              "      <th>____P,rad/s</th>\n",
              "      <th>____R,rad/s</th>\n",
              "      <th>pitch,__deg</th>\n",
              "      <th>_roll,__deg</th>\n",
              "      <th>_beta,__deg</th>\n",
              "      <th>__alt,ftmsl</th>\n",
              "      <th>thro1,_part</th>\n",
              "      <th>rpm_1,_prop</th>\n",
              "      <th>_elev,servo</th>\n",
              "      <th>ailrn,servo</th>\n",
              "      <th>ruddr,servo</th>\n",
              "    </tr>\n",
              "  </thead>\n",
              "  <tbody>\n",
              "    <tr>\n",
              "      <th>count</th>\n",
              "      <td>477290.000000</td>\n",
              "      <td>477290.000000</td>\n",
              "      <td>477290.000000</td>\n",
              "      <td>477290.000000</td>\n",
              "      <td>477290.000000</td>\n",
              "      <td>477290.000000</td>\n",
              "      <td>477290.000000</td>\n",
              "      <td>477290.000000</td>\n",
              "      <td>477290.000000</td>\n",
              "      <td>477290.000000</td>\n",
              "      <td>477290.000000</td>\n",
              "      <td>477290.000000</td>\n",
              "      <td>477290.000000</td>\n",
              "      <td>477290.0</td>\n",
              "    </tr>\n",
              "    <tr>\n",
              "      <th>mean</th>\n",
              "      <td>119.567353</td>\n",
              "      <td>31.868167</td>\n",
              "      <td>0.003814</td>\n",
              "      <td>-0.000023</td>\n",
              "      <td>-0.001840</td>\n",
              "      <td>-0.653563</td>\n",
              "      <td>-0.791051</td>\n",
              "      <td>0.006402</td>\n",
              "      <td>2714.494715</td>\n",
              "      <td>0.837601</td>\n",
              "      <td>2490.420838</td>\n",
              "      <td>-0.000023</td>\n",
              "      <td>-0.014557</td>\n",
              "      <td>0.0</td>\n",
              "    </tr>\n",
              "    <tr>\n",
              "      <th>std</th>\n",
              "      <td>10.113279</td>\n",
              "      <td>274.992679</td>\n",
              "      <td>0.007108</td>\n",
              "      <td>0.017348</td>\n",
              "      <td>0.023905</td>\n",
              "      <td>1.684671</td>\n",
              "      <td>8.876412</td>\n",
              "      <td>0.137679</td>\n",
              "      <td>1357.480837</td>\n",
              "      <td>0.082115</td>\n",
              "      <td>127.216137</td>\n",
              "      <td>0.002304</td>\n",
              "      <td>0.022662</td>\n",
              "      <td>0.0</td>\n",
              "    </tr>\n",
              "    <tr>\n",
              "      <th>min</th>\n",
              "      <td>66.424780</td>\n",
              "      <td>-1917.888180</td>\n",
              "      <td>-0.039450</td>\n",
              "      <td>-0.109810</td>\n",
              "      <td>-0.054820</td>\n",
              "      <td>-9.313510</td>\n",
              "      <td>-23.851520</td>\n",
              "      <td>-0.689970</td>\n",
              "      <td>805.092900</td>\n",
              "      <td>0.796080</td>\n",
              "      <td>2106.257810</td>\n",
              "      <td>-0.089790</td>\n",
              "      <td>-0.159740</td>\n",
              "      <td>0.0</td>\n",
              "    </tr>\n",
              "    <tr>\n",
              "      <th>25%</th>\n",
              "      <td>116.120002</td>\n",
              "      <td>-38.766265</td>\n",
              "      <td>-0.000010</td>\n",
              "      <td>-0.000410</td>\n",
              "      <td>-0.010880</td>\n",
              "      <td>-1.284538</td>\n",
              "      <td>-4.070882</td>\n",
              "      <td>-0.082300</td>\n",
              "      <td>1411.464812</td>\n",
              "      <td>0.796080</td>\n",
              "      <td>2424.051882</td>\n",
              "      <td>-0.000110</td>\n",
              "      <td>-0.017030</td>\n",
              "      <td>0.0</td>\n",
              "    </tr>\n",
              "    <tr>\n",
              "      <th>50%</th>\n",
              "      <td>118.825780</td>\n",
              "      <td>0.342395</td>\n",
              "      <td>0.001120</td>\n",
              "      <td>-0.000000</td>\n",
              "      <td>-0.000020</td>\n",
              "      <td>-0.787040</td>\n",
              "      <td>-0.104720</td>\n",
              "      <td>0.004390</td>\n",
              "      <td>2622.403565</td>\n",
              "      <td>0.796080</td>\n",
              "      <td>2458.394655</td>\n",
              "      <td>0.000000</td>\n",
              "      <td>-0.015220</td>\n",
              "      <td>0.0</td>\n",
              "    </tr>\n",
              "    <tr>\n",
              "      <th>75%</th>\n",
              "      <td>122.744895</td>\n",
              "      <td>165.376283</td>\n",
              "      <td>0.010170</td>\n",
              "      <td>0.000390</td>\n",
              "      <td>0.000847</td>\n",
              "      <td>-0.151363</td>\n",
              "      <td>0.212638</td>\n",
              "      <td>0.073260</td>\n",
              "      <td>3896.206053</td>\n",
              "      <td>0.796080</td>\n",
              "      <td>2504.543460</td>\n",
              "      <td>0.000070</td>\n",
              "      <td>-0.011370</td>\n",
              "      <td>0.0</td>\n",
              "    </tr>\n",
              "    <tr>\n",
              "      <th>max</th>\n",
              "      <td>155.436650</td>\n",
              "      <td>978.538330</td>\n",
              "      <td>0.041650</td>\n",
              "      <td>0.111310</td>\n",
              "      <td>0.055400</td>\n",
              "      <td>11.796170</td>\n",
              "      <td>25.924920</td>\n",
              "      <td>0.353550</td>\n",
              "      <td>5080.888180</td>\n",
              "      <td>1.000000</td>\n",
              "      <td>2811.808840</td>\n",
              "      <td>0.045100</td>\n",
              "      <td>0.124900</td>\n",
              "      <td>0.0</td>\n",
              "    </tr>\n",
              "  </tbody>\n",
              "</table>\n",
              "</div>"
            ],
            "text/plain": [
              "          Vtrue,_ktas      __VVI,__fpm   ...     ailrn,servo      ruddr,servo \n",
              "count    477290.000000    477290.000000  ...    477290.000000         477290.0\n",
              "mean        119.567353        31.868167  ...        -0.014557              0.0\n",
              "std          10.113279       274.992679  ...         0.022662              0.0\n",
              "min          66.424780     -1917.888180  ...        -0.159740              0.0\n",
              "25%         116.120002       -38.766265  ...        -0.017030              0.0\n",
              "50%         118.825780         0.342395  ...        -0.015220              0.0\n",
              "75%         122.744895       165.376283  ...        -0.011370              0.0\n",
              "max         155.436650       978.538330  ...         0.124900              0.0\n",
              "\n",
              "[8 rows x 14 columns]"
            ]
          },
          "metadata": {
            "tags": []
          },
          "execution_count": 15
        }
      ]
    },
    {
      "cell_type": "code",
      "metadata": {
        "id": "yYHbRVEG4Q6U",
        "colab_type": "code",
        "outputId": "6758b4a7-8bcd-4a17-f97f-d8c641251a3d",
        "colab": {
          "base_uri": "https://localhost:8080/",
          "height": 320
        }
      },
      "source": [
        "scaled_df_features.describe()"
      ],
      "execution_count": 16,
      "outputs": [
        {
          "output_type": "execute_result",
          "data": {
            "text/html": [
              "<div>\n",
              "<style scoped>\n",
              "    .dataframe tbody tr th:only-of-type {\n",
              "        vertical-align: middle;\n",
              "    }\n",
              "\n",
              "    .dataframe tbody tr th {\n",
              "        vertical-align: top;\n",
              "    }\n",
              "\n",
              "    .dataframe thead th {\n",
              "        text-align: right;\n",
              "    }\n",
              "</style>\n",
              "<table border=\"1\" class=\"dataframe\">\n",
              "  <thead>\n",
              "    <tr style=\"text-align: right;\">\n",
              "      <th></th>\n",
              "      <th>Vtrue,_ktas</th>\n",
              "      <th>__VVI,__fpm</th>\n",
              "      <th>____Q,rad/s</th>\n",
              "      <th>____P,rad/s</th>\n",
              "      <th>____R,rad/s</th>\n",
              "      <th>pitch,__deg</th>\n",
              "      <th>_roll,__deg</th>\n",
              "      <th>_beta,__deg</th>\n",
              "      <th>__alt,ftmsl</th>\n",
              "      <th>thro1,_part</th>\n",
              "      <th>rpm_1,_prop</th>\n",
              "      <th>_elev,servo</th>\n",
              "      <th>ailrn,servo</th>\n",
              "      <th>ruddr,servo</th>\n",
              "    </tr>\n",
              "  </thead>\n",
              "  <tbody>\n",
              "    <tr>\n",
              "      <th>count</th>\n",
              "      <td>477290.000000</td>\n",
              "      <td>477290.000000</td>\n",
              "      <td>477290.000000</td>\n",
              "      <td>477290.000000</td>\n",
              "      <td>477290.000000</td>\n",
              "      <td>477290.000000</td>\n",
              "      <td>477290.000000</td>\n",
              "      <td>477290.000000</td>\n",
              "      <td>4.772900e+05</td>\n",
              "      <td>477290.000000</td>\n",
              "      <td>477290.000000</td>\n",
              "      <td>477290.000000</td>\n",
              "      <td>477290.000000</td>\n",
              "      <td>477290.0</td>\n",
              "    </tr>\n",
              "    <tr>\n",
              "      <th>mean</th>\n",
              "      <td>0.597028</td>\n",
              "      <td>0.673159</td>\n",
              "      <td>0.533466</td>\n",
              "      <td>0.496506</td>\n",
              "      <td>0.480678</td>\n",
              "      <td>0.410273</td>\n",
              "      <td>0.463281</td>\n",
              "      <td>0.667330</td>\n",
              "      <td>4.465606e-01</td>\n",
              "      <td>0.203613</td>\n",
              "      <td>0.544487</td>\n",
              "      <td>0.665484</td>\n",
              "      <td>0.510059</td>\n",
              "      <td>0.0</td>\n",
              "    </tr>\n",
              "    <tr>\n",
              "      <th>std</th>\n",
              "      <td>0.113617</td>\n",
              "      <td>0.094942</td>\n",
              "      <td>0.087647</td>\n",
              "      <td>0.078456</td>\n",
              "      <td>0.216880</td>\n",
              "      <td>0.079813</td>\n",
              "      <td>0.178326</td>\n",
              "      <td>0.131938</td>\n",
              "      <td>3.174807e-01</td>\n",
              "      <td>0.402681</td>\n",
              "      <td>0.180307</td>\n",
              "      <td>0.017080</td>\n",
              "      <td>0.079616</td>\n",
              "      <td>0.0</td>\n",
              "    </tr>\n",
              "    <tr>\n",
              "      <th>min</th>\n",
              "      <td>0.000000</td>\n",
              "      <td>0.000000</td>\n",
              "      <td>0.000000</td>\n",
              "      <td>0.000000</td>\n",
              "      <td>0.000000</td>\n",
              "      <td>0.000000</td>\n",
              "      <td>0.000000</td>\n",
              "      <td>0.000000</td>\n",
              "      <td>-5.566223e-07</td>\n",
              "      <td>0.000000</td>\n",
              "      <td>0.000000</td>\n",
              "      <td>0.000000</td>\n",
              "      <td>0.000000</td>\n",
              "      <td>0.0</td>\n",
              "    </tr>\n",
              "    <tr>\n",
              "      <th>25%</th>\n",
              "      <td>0.558299</td>\n",
              "      <td>0.648773</td>\n",
              "      <td>0.486313</td>\n",
              "      <td>0.494754</td>\n",
              "      <td>0.398657</td>\n",
              "      <td>0.380380</td>\n",
              "      <td>0.397390</td>\n",
              "      <td>0.582327</td>\n",
              "      <td>1.418146e-01</td>\n",
              "      <td>0.000000</td>\n",
              "      <td>0.450420</td>\n",
              "      <td>0.664838</td>\n",
              "      <td>0.501370</td>\n",
              "      <td>0.0</td>\n",
              "    </tr>\n",
              "    <tr>\n",
              "      <th>50%</th>\n",
              "      <td>0.588697</td>\n",
              "      <td>0.662275</td>\n",
              "      <td>0.500247</td>\n",
              "      <td>0.496608</td>\n",
              "      <td>0.497187</td>\n",
              "      <td>0.403949</td>\n",
              "      <td>0.477069</td>\n",
              "      <td>0.665402</td>\n",
              "      <td>4.250228e-01</td>\n",
              "      <td>0.000000</td>\n",
              "      <td>0.499095</td>\n",
              "      <td>0.665653</td>\n",
              "      <td>0.507729</td>\n",
              "      <td>0.0</td>\n",
              "    </tr>\n",
              "    <tr>\n",
              "      <th>75%</th>\n",
              "      <td>0.632726</td>\n",
              "      <td>0.719253</td>\n",
              "      <td>0.611837</td>\n",
              "      <td>0.498372</td>\n",
              "      <td>0.505058</td>\n",
              "      <td>0.434065</td>\n",
              "      <td>0.483445</td>\n",
              "      <td>0.731399</td>\n",
              "      <td>7.229333e-01</td>\n",
              "      <td>0.000000</td>\n",
              "      <td>0.564503</td>\n",
              "      <td>0.666172</td>\n",
              "      <td>0.521255</td>\n",
              "      <td>0.0</td>\n",
              "    </tr>\n",
              "    <tr>\n",
              "      <th>max</th>\n",
              "      <td>1.000000</td>\n",
              "      <td>1.000000</td>\n",
              "      <td>1.000000</td>\n",
              "      <td>1.000000</td>\n",
              "      <td>1.000000</td>\n",
              "      <td>1.000090</td>\n",
              "      <td>1.000000</td>\n",
              "      <td>1.000000</td>\n",
              "      <td>1.000001e+00</td>\n",
              "      <td>1.000000</td>\n",
              "      <td>1.000000</td>\n",
              "      <td>1.000000</td>\n",
              "      <td>1.000000</td>\n",
              "      <td>0.0</td>\n",
              "    </tr>\n",
              "  </tbody>\n",
              "</table>\n",
              "</div>"
            ],
            "text/plain": [
              "          Vtrue,_ktas      __VVI,__fpm   ...     ailrn,servo      ruddr,servo \n",
              "count    477290.000000    477290.000000  ...    477290.000000         477290.0\n",
              "mean          0.597028         0.673159  ...         0.510059              0.0\n",
              "std           0.113617         0.094942  ...         0.079616              0.0\n",
              "min           0.000000         0.000000  ...         0.000000              0.0\n",
              "25%           0.558299         0.648773  ...         0.501370              0.0\n",
              "50%           0.588697         0.662275  ...         0.507729              0.0\n",
              "75%           0.632726         0.719253  ...         0.521255              0.0\n",
              "max           1.000000         1.000000  ...         1.000000              0.0\n",
              "\n",
              "[8 rows x 14 columns]"
            ]
          },
          "metadata": {
            "tags": []
          },
          "execution_count": 16
        }
      ]
    },
    {
      "cell_type": "code",
      "metadata": {
        "id": "GivIW68e2R18",
        "colab_type": "code",
        "outputId": "aac9d2be-66c2-433a-ced7-f523a639fe20",
        "colab": {
          "base_uri": "https://localhost:8080/",
          "height": 337
        }
      },
      "source": [
        "df_labels.describe()"
      ],
      "execution_count": 17,
      "outputs": [
        {
          "output_type": "execute_result",
          "data": {
            "text/html": [
              "<div>\n",
              "<style scoped>\n",
              "    .dataframe tbody tr th:only-of-type {\n",
              "        vertical-align: middle;\n",
              "    }\n",
              "\n",
              "    .dataframe tbody tr th {\n",
              "        vertical-align: top;\n",
              "    }\n",
              "\n",
              "    .dataframe thead th {\n",
              "        text-align: right;\n",
              "    }\n",
              "</style>\n",
              "<table border=\"1\" class=\"dataframe\">\n",
              "  <thead>\n",
              "    <tr style=\"text-align: right;\">\n",
              "      <th></th>\n",
              "      <th>t+1_   ____Q,rad/s</th>\n",
              "      <th>t+1_   _beta,__deg</th>\n",
              "      <th>t+1_   _roll,__deg</th>\n",
              "      <th>t+1_   ____R,rad/s</th>\n",
              "      <th>t+1_   pitch,__deg</th>\n",
              "      <th>t+1_   ____P,rad/s</th>\n",
              "      <th>t+1_   __VVI,__fpm</th>\n",
              "      <th>t+1_   __alt,ftmsl</th>\n",
              "      <th>t+1_   Vtrue,_ktas</th>\n",
              "      <th>t+1_   rpm_1,_prop</th>\n",
              "      <th>t+1_   thro1,_part</th>\n",
              "    </tr>\n",
              "  </thead>\n",
              "  <tbody>\n",
              "    <tr>\n",
              "      <th>count</th>\n",
              "      <td>477290.000000</td>\n",
              "      <td>477290.000000</td>\n",
              "      <td>477290.000000</td>\n",
              "      <td>477290.000000</td>\n",
              "      <td>477290.000000</td>\n",
              "      <td>477290.000000</td>\n",
              "      <td>477290.000000</td>\n",
              "      <td>477290.000000</td>\n",
              "      <td>477290.000000</td>\n",
              "      <td>477290.000000</td>\n",
              "      <td>477290.000000</td>\n",
              "    </tr>\n",
              "    <tr>\n",
              "      <th>mean</th>\n",
              "      <td>0.003815</td>\n",
              "      <td>0.006402</td>\n",
              "      <td>-0.791050</td>\n",
              "      <td>-0.001840</td>\n",
              "      <td>-0.653565</td>\n",
              "      <td>-0.000023</td>\n",
              "      <td>31.866864</td>\n",
              "      <td>2714.494657</td>\n",
              "      <td>119.567394</td>\n",
              "      <td>2490.421446</td>\n",
              "      <td>0.837601</td>\n",
              "    </tr>\n",
              "    <tr>\n",
              "      <th>std</th>\n",
              "      <td>0.007105</td>\n",
              "      <td>0.137680</td>\n",
              "      <td>8.876411</td>\n",
              "      <td>0.023905</td>\n",
              "      <td>1.684673</td>\n",
              "      <td>0.017348</td>\n",
              "      <td>274.991234</td>\n",
              "      <td>1357.480898</td>\n",
              "      <td>10.113312</td>\n",
              "      <td>127.216670</td>\n",
              "      <td>0.082115</td>\n",
              "    </tr>\n",
              "    <tr>\n",
              "      <th>min</th>\n",
              "      <td>-0.038680</td>\n",
              "      <td>-0.689970</td>\n",
              "      <td>-23.851520</td>\n",
              "      <td>-0.054820</td>\n",
              "      <td>-9.313510</td>\n",
              "      <td>-0.109810</td>\n",
              "      <td>-1917.888180</td>\n",
              "      <td>805.092900</td>\n",
              "      <td>66.424780</td>\n",
              "      <td>2106.257810</td>\n",
              "      <td>0.796080</td>\n",
              "    </tr>\n",
              "    <tr>\n",
              "      <th>25%</th>\n",
              "      <td>-0.000010</td>\n",
              "      <td>-0.082300</td>\n",
              "      <td>-4.070882</td>\n",
              "      <td>-0.010888</td>\n",
              "      <td>-1.284488</td>\n",
              "      <td>-0.000410</td>\n",
              "      <td>-38.766265</td>\n",
              "      <td>1411.464812</td>\n",
              "      <td>116.120015</td>\n",
              "      <td>2424.051882</td>\n",
              "      <td>0.796080</td>\n",
              "    </tr>\n",
              "    <tr>\n",
              "      <th>50%</th>\n",
              "      <td>0.001120</td>\n",
              "      <td>0.004390</td>\n",
              "      <td>-0.104720</td>\n",
              "      <td>-0.000020</td>\n",
              "      <td>-0.787045</td>\n",
              "      <td>0.000000</td>\n",
              "      <td>0.342395</td>\n",
              "      <td>2622.403565</td>\n",
              "      <td>118.825780</td>\n",
              "      <td>2458.394900</td>\n",
              "      <td>0.796080</td>\n",
              "    </tr>\n",
              "    <tr>\n",
              "      <th>75%</th>\n",
              "      <td>0.010160</td>\n",
              "      <td>0.073260</td>\n",
              "      <td>0.212860</td>\n",
              "      <td>0.000850</td>\n",
              "      <td>-0.151363</td>\n",
              "      <td>0.000390</td>\n",
              "      <td>165.372623</td>\n",
              "      <td>3896.206053</td>\n",
              "      <td>122.745007</td>\n",
              "      <td>2504.543950</td>\n",
              "      <td>0.796080</td>\n",
              "    </tr>\n",
              "    <tr>\n",
              "      <th>max</th>\n",
              "      <td>0.041650</td>\n",
              "      <td>0.353550</td>\n",
              "      <td>25.924920</td>\n",
              "      <td>0.055400</td>\n",
              "      <td>11.796170</td>\n",
              "      <td>0.111310</td>\n",
              "      <td>978.538330</td>\n",
              "      <td>5080.888180</td>\n",
              "      <td>155.436650</td>\n",
              "      <td>2811.808840</td>\n",
              "      <td>1.000000</td>\n",
              "    </tr>\n",
              "  </tbody>\n",
              "</table>\n",
              "</div>"
            ],
            "text/plain": [
              "       t+1_   ____Q,rad/s   ...  t+1_   thro1,_part \n",
              "count        477290.000000  ...        477290.000000\n",
              "mean              0.003815  ...             0.837601\n",
              "std               0.007105  ...             0.082115\n",
              "min              -0.038680  ...             0.796080\n",
              "25%              -0.000010  ...             0.796080\n",
              "50%               0.001120  ...             0.796080\n",
              "75%               0.010160  ...             0.796080\n",
              "max               0.041650  ...             1.000000\n",
              "\n",
              "[8 rows x 11 columns]"
            ]
          },
          "metadata": {
            "tags": []
          },
          "execution_count": 17
        }
      ]
    },
    {
      "cell_type": "code",
      "metadata": {
        "id": "ovbayfsz4V26",
        "colab_type": "code",
        "outputId": "f097a885-0e73-4edc-9c56-758902458398",
        "colab": {
          "base_uri": "https://localhost:8080/",
          "height": 337
        }
      },
      "source": [
        "scaled_df_labels.describe()"
      ],
      "execution_count": 18,
      "outputs": [
        {
          "output_type": "execute_result",
          "data": {
            "text/html": [
              "<div>\n",
              "<style scoped>\n",
              "    .dataframe tbody tr th:only-of-type {\n",
              "        vertical-align: middle;\n",
              "    }\n",
              "\n",
              "    .dataframe tbody tr th {\n",
              "        vertical-align: top;\n",
              "    }\n",
              "\n",
              "    .dataframe thead th {\n",
              "        text-align: right;\n",
              "    }\n",
              "</style>\n",
              "<table border=\"1\" class=\"dataframe\">\n",
              "  <thead>\n",
              "    <tr style=\"text-align: right;\">\n",
              "      <th></th>\n",
              "      <th>t+1_   ____Q,rad/s</th>\n",
              "      <th>t+1_   _beta,__deg</th>\n",
              "      <th>t+1_   _roll,__deg</th>\n",
              "      <th>t+1_   ____R,rad/s</th>\n",
              "      <th>t+1_   pitch,__deg</th>\n",
              "      <th>t+1_   ____P,rad/s</th>\n",
              "      <th>t+1_   __VVI,__fpm</th>\n",
              "      <th>t+1_   __alt,ftmsl</th>\n",
              "      <th>t+1_   Vtrue,_ktas</th>\n",
              "      <th>t+1_   rpm_1,_prop</th>\n",
              "      <th>t+1_   thro1,_part</th>\n",
              "    </tr>\n",
              "  </thead>\n",
              "  <tbody>\n",
              "    <tr>\n",
              "      <th>count</th>\n",
              "      <td>477290.000000</td>\n",
              "      <td>477290.000000</td>\n",
              "      <td>477290.000000</td>\n",
              "      <td>477290.000000</td>\n",
              "      <td>477290.000000</td>\n",
              "      <td>477290.000000</td>\n",
              "      <td>477290.000000</td>\n",
              "      <td>477290.000000</td>\n",
              "      <td>477290.000000</td>\n",
              "      <td>477290.000000</td>\n",
              "      <td>477290.000000</td>\n",
              "    </tr>\n",
              "    <tr>\n",
              "      <th>mean</th>\n",
              "      <td>0.529000</td>\n",
              "      <td>0.667368</td>\n",
              "      <td>0.463281</td>\n",
              "      <td>0.480678</td>\n",
              "      <td>0.410236</td>\n",
              "      <td>0.496619</td>\n",
              "      <td>0.673159</td>\n",
              "      <td>0.446561</td>\n",
              "      <td>0.597028</td>\n",
              "      <td>0.544487</td>\n",
              "      <td>0.203615</td>\n",
              "    </tr>\n",
              "    <tr>\n",
              "      <th>std</th>\n",
              "      <td>0.088447</td>\n",
              "      <td>0.131945</td>\n",
              "      <td>0.178326</td>\n",
              "      <td>0.216880</td>\n",
              "      <td>0.079806</td>\n",
              "      <td>0.078474</td>\n",
              "      <td>0.094942</td>\n",
              "      <td>0.317480</td>\n",
              "      <td>0.113618</td>\n",
              "      <td>0.180308</td>\n",
              "      <td>0.402682</td>\n",
              "    </tr>\n",
              "    <tr>\n",
              "      <th>min</th>\n",
              "      <td>0.000000</td>\n",
              "      <td>0.000000</td>\n",
              "      <td>0.000000</td>\n",
              "      <td>0.000000</td>\n",
              "      <td>0.000000</td>\n",
              "      <td>0.000000</td>\n",
              "      <td>0.000000</td>\n",
              "      <td>0.000000</td>\n",
              "      <td>0.000000</td>\n",
              "      <td>0.000000</td>\n",
              "      <td>0.000000</td>\n",
              "    </tr>\n",
              "    <tr>\n",
              "      <th>25%</th>\n",
              "      <td>0.481389</td>\n",
              "      <td>0.582361</td>\n",
              "      <td>0.397390</td>\n",
              "      <td>0.398589</td>\n",
              "      <td>0.380348</td>\n",
              "      <td>0.494866</td>\n",
              "      <td>0.648773</td>\n",
              "      <td>0.141815</td>\n",
              "      <td>0.558299</td>\n",
              "      <td>0.450420</td>\n",
              "      <td>0.000000</td>\n",
              "    </tr>\n",
              "    <tr>\n",
              "      <th>50%</th>\n",
              "      <td>0.495456</td>\n",
              "      <td>0.665440</td>\n",
              "      <td>0.477069</td>\n",
              "      <td>0.497187</td>\n",
              "      <td>0.403913</td>\n",
              "      <td>0.496720</td>\n",
              "      <td>0.662275</td>\n",
              "      <td>0.425023</td>\n",
              "      <td>0.588697</td>\n",
              "      <td>0.499095</td>\n",
              "      <td>0.000000</td>\n",
              "    </tr>\n",
              "    <tr>\n",
              "      <th>75%</th>\n",
              "      <td>0.607992</td>\n",
              "      <td>0.731442</td>\n",
              "      <td>0.483449</td>\n",
              "      <td>0.505081</td>\n",
              "      <td>0.434026</td>\n",
              "      <td>0.498485</td>\n",
              "      <td>0.719252</td>\n",
              "      <td>0.722933</td>\n",
              "      <td>0.632727</td>\n",
              "      <td>0.564504</td>\n",
              "      <td>0.000000</td>\n",
              "    </tr>\n",
              "    <tr>\n",
              "      <th>max</th>\n",
              "      <td>1.000000</td>\n",
              "      <td>1.000058</td>\n",
              "      <td>1.000000</td>\n",
              "      <td>1.000000</td>\n",
              "      <td>1.000000</td>\n",
              "      <td>1.000226</td>\n",
              "      <td>1.000000</td>\n",
              "      <td>1.000000</td>\n",
              "      <td>1.000000</td>\n",
              "      <td>1.000000</td>\n",
              "      <td>1.000000</td>\n",
              "    </tr>\n",
              "  </tbody>\n",
              "</table>\n",
              "</div>"
            ],
            "text/plain": [
              "       t+1_   ____Q,rad/s   ...  t+1_   thro1,_part \n",
              "count        477290.000000  ...        477290.000000\n",
              "mean              0.529000  ...             0.203615\n",
              "std               0.088447  ...             0.402682\n",
              "min               0.000000  ...             0.000000\n",
              "25%               0.481389  ...             0.000000\n",
              "50%               0.495456  ...             0.000000\n",
              "75%               0.607992  ...             0.000000\n",
              "max               1.000000  ...             1.000000\n",
              "\n",
              "[8 rows x 11 columns]"
            ]
          },
          "metadata": {
            "tags": []
          },
          "execution_count": 18
        }
      ]
    },
    {
      "cell_type": "markdown",
      "metadata": {
        "id": "S_kDrS1qH7kc",
        "colab_type": "text"
      },
      "source": [
        "# train models"
      ]
    },
    {
      "cell_type": "markdown",
      "metadata": {
        "id": "rjgpogwABFhX",
        "colab_type": "text"
      },
      "source": [
        "## define callbacks"
      ]
    },
    {
      "cell_type": "code",
      "metadata": {
        "id": "18w_KQkpBFEY",
        "colab_type": "code",
        "colab": {}
      },
      "source": [
        "def prepare_tensorboard_callback(model_name=''):\n",
        "  logs_base_dir = \"./tensorbaord_logs\"\n",
        "  os.makedirs(logs_base_dir, exist_ok=True)\n",
        "  log_dir = datetime.datetime.now().strftime(\"%Y%m%d-%H%M%S\") + '_' + model_name\n",
        "  logdir = os.path.join(logs_base_dir, datetime.datetime.now().strftime(\"%Y%m%d-%H%M%S\"))\n",
        "  tensorboard_callback = tf.keras.callbacks.TensorBoard(logdir, histogram_freq=1)\n",
        "  return tensorboard_callback\n"
      ],
      "execution_count": 0,
      "outputs": []
    },
    {
      "cell_type": "code",
      "metadata": {
        "id": "MYl_6s7sBMpy",
        "colab_type": "code",
        "colab": {}
      },
      "source": [
        "def prepare_checkpoint_callback(model_name=datetime.datetime.now().strftime(\"%Y%m%d-%H%M%S\")):\n",
        "  checkpoint_base_dir = './checkpoints'\n",
        "  os.makedirs(checkpoint_base_dir, exist_ok=True)\n",
        "\n",
        "  filepath = os.path.join(checkpoint_base_dir, 'cp_'+model_name)\n",
        "\n",
        "  cp_callback = tf.keras.callbacks.ModelCheckpoint(filepath=filepath,\n",
        "                                                  save_weights_only=True,\n",
        "                                                  verbose=1)\n",
        "  return cp_callback"
      ],
      "execution_count": 0,
      "outputs": []
    },
    {
      "cell_type": "markdown",
      "metadata": {
        "id": "WzL_LXGtICYA",
        "colab_type": "text"
      },
      "source": [
        "## baseline model\n",
        "\n"
      ]
    },
    {
      "cell_type": "markdown",
      "metadata": {
        "id": "o2-MCCaAL0BD",
        "colab_type": "text"
      },
      "source": [
        "#baseline with orrect batch norm"
      ]
    },
    {
      "cell_type": "code",
      "metadata": {
        "id": "kEQ7qS2zLzCn",
        "colab_type": "code",
        "colab": {
          "base_uri": "https://localhost:8080/",
          "height": 587
        },
        "outputId": "ad040b43-60ee-4727-e84e-37486afa7f45"
      },
      "source": [
        "features_nr = train_X.shape[1]\n",
        "target_nr = train_Y.shape[1]\n",
        "\n",
        "baseline_model = keras.Sequential()\n",
        "\n",
        "baseline_model.add(Dense(1200,input_shape=(features_nr,), \n",
        "                         kernel_initializer='he_uniform'))\n",
        "baseline_model.add(ReLU())\n",
        "baseline_model.add(BatchNormalization())\n",
        "\n",
        "baseline_model.add(Dense(600, kernel_initializer='he_uniform'))\n",
        "baseline_model.add(ReLU())\n",
        "baseline_model.add(BatchNormalization())\n",
        "\n",
        "baseline_model.add(Dense(600, kernel_initializer='he_uniform'))\n",
        "baseline_model.add(ReLU())\n",
        "baseline_model.add(BatchNormalization())\n",
        "\n",
        "baseline_model.add(Dense(target_nr,activation='linear'))\n",
        "\n",
        "baseline_model.compile(optimizer='adam',\n",
        "                       loss='mean_squared_error',\n",
        "                       metrics=[metrics.mean_squared_error, \n",
        "                                metrics.mean_absolute_error, \n",
        "                                metrics.mean_absolute_percentage_error])\n",
        "\n",
        "baseline_model.summary()\n"
      ],
      "execution_count": 21,
      "outputs": [
        {
          "output_type": "stream",
          "text": [
            "WARNING:tensorflow:From /usr/local/lib/python3.6/dist-packages/tensorflow_core/python/ops/resource_variable_ops.py:1630: calling BaseResourceVariable.__init__ (from tensorflow.python.ops.resource_variable_ops) with constraint is deprecated and will be removed in a future version.\n",
            "Instructions for updating:\n",
            "If using Keras pass *_constraint arguments to layers.\n",
            "Model: \"sequential\"\n",
            "_________________________________________________________________\n",
            "Layer (type)                 Output Shape              Param #   \n",
            "=================================================================\n",
            "dense (Dense)                (None, 1200)              18000     \n",
            "_________________________________________________________________\n",
            "re_lu (ReLU)                 (None, 1200)              0         \n",
            "_________________________________________________________________\n",
            "batch_normalization (BatchNo (None, 1200)              4800      \n",
            "_________________________________________________________________\n",
            "dense_1 (Dense)              (None, 600)               720600    \n",
            "_________________________________________________________________\n",
            "re_lu_1 (ReLU)               (None, 600)               0         \n",
            "_________________________________________________________________\n",
            "batch_normalization_1 (Batch (None, 600)               2400      \n",
            "_________________________________________________________________\n",
            "dense_2 (Dense)              (None, 600)               360600    \n",
            "_________________________________________________________________\n",
            "re_lu_2 (ReLU)               (None, 600)               0         \n",
            "_________________________________________________________________\n",
            "batch_normalization_2 (Batch (None, 600)               2400      \n",
            "_________________________________________________________________\n",
            "dense_3 (Dense)              (None, 11)                6611      \n",
            "=================================================================\n",
            "Total params: 1,115,411\n",
            "Trainable params: 1,110,611\n",
            "Non-trainable params: 4,800\n",
            "_________________________________________________________________\n"
          ],
          "name": "stdout"
        }
      ]
    },
    {
      "cell_type": "code",
      "metadata": {
        "id": "XWmmhrSEL-FT",
        "colab_type": "code",
        "colab": {
          "base_uri": "https://localhost:8080/",
          "height": 409
        },
        "outputId": "a7d0d841-0850-42fe-914d-b08597f60eaa"
      },
      "source": [
        "callbacks = [\n",
        "            #prepare_checkpoint_callback(model_name='baseline'),\n",
        "            #prepare_tensorboard_callback()\n",
        "            ]\n",
        "\n",
        "baseline_history = baseline_model.fit(train_X,\n",
        "                                      train_Y,\n",
        "                                      epochs=10,\n",
        "                                      validation_data=(test_X, test_Y),\n",
        "                                      verbose=2,\n",
        "                                      callbacks=callbacks\n",
        "                                      )\n"
      ],
      "execution_count": 22,
      "outputs": [
        {
          "output_type": "stream",
          "text": [
            "Train on 381832 samples, validate on 95458 samples\n",
            "Epoch 1/10\n",
            "381832/381832 - 107s - loss: 0.0061 - mean_squared_error: 0.0061 - mean_absolute_error: 0.0491 - mean_absolute_percentage_error: 5032317.5000 - val_loss: 0.0033 - val_mean_squared_error: 0.0033 - val_mean_absolute_error: 0.0447 - val_mean_absolute_percentage_error: 2508731.2500\n",
            "Epoch 2/10\n",
            "381832/381832 - 104s - loss: 0.0024 - mean_squared_error: 0.0024 - mean_absolute_error: 0.0354 - mean_absolute_percentage_error: 4419807.0000 - val_loss: 0.0075 - val_mean_squared_error: 0.0075 - val_mean_absolute_error: 0.0476 - val_mean_absolute_percentage_error: 8956590.0000\n",
            "Epoch 3/10\n",
            "381832/381832 - 104s - loss: 0.0019 - mean_squared_error: 0.0019 - mean_absolute_error: 0.0314 - mean_absolute_percentage_error: 4340941.5000 - val_loss: 9.6552e-04 - val_mean_squared_error: 9.6552e-04 - val_mean_absolute_error: 0.0214 - val_mean_absolute_percentage_error: 1438950.1250\n",
            "Epoch 4/10\n",
            "381832/381832 - 106s - loss: 0.0017 - mean_squared_error: 0.0017 - mean_absolute_error: 0.0295 - mean_absolute_percentage_error: 4232075.0000 - val_loss: 5.9291e-04 - val_mean_squared_error: 5.9290e-04 - val_mean_absolute_error: 0.0182 - val_mean_absolute_percentage_error: 1628571.0000\n",
            "Epoch 5/10\n",
            "381832/381832 - 104s - loss: 0.0015 - mean_squared_error: 0.0015 - mean_absolute_error: 0.0281 - mean_absolute_percentage_error: 4164926.2500 - val_loss: 0.0012 - val_mean_squared_error: 0.0012 - val_mean_absolute_error: 0.0234 - val_mean_absolute_percentage_error: 1942837.2500\n",
            "Epoch 6/10\n",
            "381832/381832 - 105s - loss: 0.0015 - mean_squared_error: 0.0015 - mean_absolute_error: 0.0273 - mean_absolute_percentage_error: 4197328.5000 - val_loss: 9.1345e-04 - val_mean_squared_error: 9.1345e-04 - val_mean_absolute_error: 0.0217 - val_mean_absolute_percentage_error: 1363541.5000\n",
            "Epoch 7/10\n",
            "381832/381832 - 104s - loss: 0.0014 - mean_squared_error: 0.0014 - mean_absolute_error: 0.0264 - mean_absolute_percentage_error: 4156169.0000 - val_loss: 1.4489e-04 - val_mean_squared_error: 1.4489e-04 - val_mean_absolute_error: 0.0090 - val_mean_absolute_percentage_error: 638593.1250\n",
            "Epoch 8/10\n",
            "381832/381832 - 106s - loss: 0.0014 - mean_squared_error: 0.0014 - mean_absolute_error: 0.0259 - mean_absolute_percentage_error: 4173774.7500 - val_loss: 1.3542e-04 - val_mean_squared_error: 1.3542e-04 - val_mean_absolute_error: 0.0078 - val_mean_absolute_percentage_error: 700604.3125\n",
            "Epoch 9/10\n",
            "381832/381832 - 105s - loss: 0.0013 - mean_squared_error: 0.0013 - mean_absolute_error: 0.0254 - mean_absolute_percentage_error: 4113779.0000 - val_loss: 1.2901e-04 - val_mean_squared_error: 1.2901e-04 - val_mean_absolute_error: 0.0074 - val_mean_absolute_percentage_error: 258283.8281\n",
            "Epoch 10/10\n",
            "381832/381832 - 107s - loss: 0.0013 - mean_squared_error: 0.0013 - mean_absolute_error: 0.0254 - mean_absolute_percentage_error: 4121480.0000 - val_loss: 4.5769e-04 - val_mean_squared_error: 4.5769e-04 - val_mean_absolute_error: 0.0104 - val_mean_absolute_percentage_error: 1067224.3750\n"
          ],
          "name": "stdout"
        }
      ]
    },
    {
      "cell_type": "code",
      "metadata": {
        "id": "eIH9e6lsDvlq",
        "colab_type": "code",
        "colab": {}
      },
      "source": [
        "baseline_model.save_weights('./checkpoints/baseline_scaled_more_data_batchnorm_end')"
      ],
      "execution_count": 0,
      "outputs": []
    },
    {
      "cell_type": "markdown",
      "metadata": {
        "id": "XRLpUIJnZ-eq",
        "colab_type": "text"
      },
      "source": [
        "## visualize"
      ]
    },
    {
      "cell_type": "code",
      "metadata": {
        "id": "JKAcPR8EJXsC",
        "colab_type": "code",
        "colab": {}
      },
      "source": [
        "def save_plots_before_show(diagramm_name):\n",
        "  diagramm_folder = './diagramms'\n",
        "\n",
        "  if not os.path.exists(diagramm_folder):\n",
        "      os.makedirs(diagramm_folder)\n",
        "\n",
        "  plt.savefig(diagramm_folder + '/' + diagramm_name +'.pdf')\n",
        "  plt.savefig(diagramm_folder + '/' + diagramm_name +'.svg')\n",
        "  plt.savefig(diagramm_folder + '/' + diagramm_name +'.png')\n",
        "\n",
        "def plot_history(histories, key='mean_squared_error', file_name=''):\n",
        "  plt.figure(figsize=(16,10))\n",
        "\n",
        "  for name, history in histories:\n",
        "    val = plt.plot(history.epoch, history.history['val_'+key],\n",
        "                   '--', label=name.title()+' Val')\n",
        "    plt.plot(history.epoch, history.history[key], color=val[0].get_color(),\n",
        "             label=name.title()+' Train')\n",
        "\n",
        "  plt.xlabel('Epochs')\n",
        "  plt.yscale(\"log\")\n",
        "  plt.ylabel(key.replace('_',' ').title())\n",
        "  plt.legend()\n",
        "\n",
        "  plt.xlim([0,max(history.epoch)])\n",
        "  save_plots_before_show(file_name+'_'+key)\n",
        "  plt.show()"
      ],
      "execution_count": 0,
      "outputs": []
    },
    {
      "cell_type": "code",
      "metadata": {
        "id": "qUZj0AZM0DGc",
        "colab_type": "code",
        "outputId": "2c16efaf-ae76-4815-9624-b72fead096d5",
        "colab": {
          "base_uri": "https://localhost:8080/",
          "height": 35
        }
      },
      "source": [
        "#baseline_model.load_weights('./checkpoints/baseline_scaled_more_data_small_end')\n"
      ],
      "execution_count": 0,
      "outputs": [
        {
          "output_type": "execute_result",
          "data": {
            "text/plain": [
              "<tensorflow.python.training.tracking.util.CheckpointLoadStatus at 0x7f180ea11b00>"
            ]
          },
          "metadata": {
            "tags": []
          },
          "execution_count": 18
        }
      ]
    },
    {
      "cell_type": "markdown",
      "metadata": {
        "id": "YDPrceCes5_w",
        "colab_type": "text"
      },
      "source": [
        ""
      ]
    },
    {
      "cell_type": "markdown",
      "metadata": {
        "id": "8X1nsxWEO59n",
        "colab_type": "text"
      },
      "source": [
        "### Test & Training MSE"
      ]
    },
    {
      "cell_type": "code",
      "metadata": {
        "id": "LRqfiaJzNytg",
        "colab_type": "code",
        "outputId": "a4631da7-7131-4929-bfa0-3d968e70762e",
        "colab": {
          "base_uri": "https://localhost:8080/",
          "height": 629
        }
      },
      "source": [
        "plot_history([('baseline_mse', baseline_history),],\n",
        "              key='mean_absolute_error',\n",
        "             file_name='scaled_more_data_small_mea')\n"
      ],
      "execution_count": 25,
      "outputs": [
        {
          "output_type": "display_data",
          "data": {
            "image/png": "[encoded data removed]",
            "text/plain": [
              "<Figure size 1152x720 with 1 Axes>"
            ]
          },
          "metadata": {
            "tags": []
          }
        }
      ]
    },
    {
      "cell_type": "code",
      "metadata": {
        "id": "TSEK3ThitSlS",
        "colab_type": "code",
        "outputId": "64348cb2-e60e-484d-a4e8-ddc57bb6629b",
        "colab": {
          "base_uri": "https://localhost:8080/",
          "height": 629
        }
      },
      "source": [
        "plot_history([('baseline_mse', baseline_history),],\n",
        "              key='mean_squared_error',\n",
        "             file_name='scaled_more_data_small_msa')\n"
      ],
      "execution_count": 26,
      "outputs": [
        {
          "output_type": "display_data",
          "data": {
            "image/png": "[encoded data removed]",
            "text/plain": [
              "<Figure size 1152x720 with 1 Axes>"
            ]
          },
          "metadata": {
            "tags": []
          }
        }
      ]
    },
    {
      "cell_type": "code",
      "metadata": {
        "id": "Z6B9GT5vnD4Q",
        "colab_type": "code",
        "outputId": "b246d6ee-9d94-44ec-c335-5612b8b8a56f",
        "colab": {
          "base_uri": "https://localhost:8080/",
          "height": 72
        }
      },
      "source": [
        "baseline_mse = baseline_model.evaluate(test_X, test_Y)[0]\n",
        "print('baseline_mse '+  str(baseline_mse))\n"
      ],
      "execution_count": 27,
      "outputs": [
        {
          "output_type": "stream",
          "text": [
            "95458/95458 [==============================] - 9s 94us/sample - loss: 4.5769e-04 - mean_squared_error: 4.5769e-04 - mean_absolute_error: 0.0104 - mean_absolute_percentage_error: 1067223.7500\n",
            "baseline_mse 0.00045769043077007154\n"
          ],
          "name": "stdout"
        }
      ]
    },
    {
      "cell_type": "markdown",
      "metadata": {
        "id": "4vT7MLiJPSQ2",
        "colab_type": "text"
      },
      "source": [
        "\n",
        "### MSE per target (scaled)"
      ]
    },
    {
      "cell_type": "code",
      "metadata": {
        "id": "o03Cq_x5nhRe",
        "colab_type": "code",
        "colab": {}
      },
      "source": [
        "from sklearn.metrics import mean_squared_error\n",
        "\n",
        "def mse(model):\n",
        "  pred_Y = model.predict(test_X)\n",
        "  mse = mean_squared_error(test_Y, pred_Y, multioutput='raw_values')\n",
        "  \n",
        "  mse_per_feature = pd.DataFrame(data=mse.reshape(1,-1),    # values\n",
        "              index=['mse'],     # index\n",
        "              columns=df_labels.columns)  #  column names\n",
        "  return scaled_df_labels.describe().append(mse_per_feature)\n"
      ],
      "execution_count": 0,
      "outputs": []
    },
    {
      "cell_type": "code",
      "metadata": {
        "id": "YFwKHr2UfcxK",
        "colab_type": "code",
        "outputId": "d7091e86-adcc-4d0a-f6ef-4d8c95788d33",
        "colab": {
          "base_uri": "https://localhost:8080/",
          "height": 369
        }
      },
      "source": [
        "mses_baseline = mse(baseline_model)\n",
        "mses_baseline.head(20)"
      ],
      "execution_count": 29,
      "outputs": [
        {
          "output_type": "execute_result",
          "data": {
            "text/html": [
              "<div>\n",
              "<style scoped>\n",
              "    .dataframe tbody tr th:only-of-type {\n",
              "        vertical-align: middle;\n",
              "    }\n",
              "\n",
              "    .dataframe tbody tr th {\n",
              "        vertical-align: top;\n",
              "    }\n",
              "\n",
              "    .dataframe thead th {\n",
              "        text-align: right;\n",
              "    }\n",
              "</style>\n",
              "<table border=\"1\" class=\"dataframe\">\n",
              "  <thead>\n",
              "    <tr style=\"text-align: right;\">\n",
              "      <th></th>\n",
              "      <th>t+1_   ____Q,rad/s</th>\n",
              "      <th>t+1_   _beta,__deg</th>\n",
              "      <th>t+1_   _roll,__deg</th>\n",
              "      <th>t+1_   ____R,rad/s</th>\n",
              "      <th>t+1_   pitch,__deg</th>\n",
              "      <th>t+1_   ____P,rad/s</th>\n",
              "      <th>t+1_   __VVI,__fpm</th>\n",
              "      <th>t+1_   __alt,ftmsl</th>\n",
              "      <th>t+1_   Vtrue,_ktas</th>\n",
              "      <th>t+1_   rpm_1,_prop</th>\n",
              "      <th>t+1_   thro1,_part</th>\n",
              "    </tr>\n",
              "  </thead>\n",
              "  <tbody>\n",
              "    <tr>\n",
              "      <th>count</th>\n",
              "      <td>477290.000000</td>\n",
              "      <td>477290.000000</td>\n",
              "      <td>477290.000000</td>\n",
              "      <td>477290.000000</td>\n",
              "      <td>477290.000000</td>\n",
              "      <td>477290.000000</td>\n",
              "      <td>477290.000000</td>\n",
              "      <td>477290.000000</td>\n",
              "      <td>477290.000000</td>\n",
              "      <td>477290.000000</td>\n",
              "      <td>477290.000000</td>\n",
              "    </tr>\n",
              "    <tr>\n",
              "      <th>mean</th>\n",
              "      <td>0.529000</td>\n",
              "      <td>0.667368</td>\n",
              "      <td>0.463281</td>\n",
              "      <td>0.480678</td>\n",
              "      <td>0.410236</td>\n",
              "      <td>0.496619</td>\n",
              "      <td>0.673159</td>\n",
              "      <td>0.446561</td>\n",
              "      <td>0.597028</td>\n",
              "      <td>0.544487</td>\n",
              "      <td>0.203615</td>\n",
              "    </tr>\n",
              "    <tr>\n",
              "      <th>std</th>\n",
              "      <td>0.088447</td>\n",
              "      <td>0.131945</td>\n",
              "      <td>0.178326</td>\n",
              "      <td>0.216880</td>\n",
              "      <td>0.079806</td>\n",
              "      <td>0.078474</td>\n",
              "      <td>0.094942</td>\n",
              "      <td>0.317480</td>\n",
              "      <td>0.113618</td>\n",
              "      <td>0.180308</td>\n",
              "      <td>0.402682</td>\n",
              "    </tr>\n",
              "    <tr>\n",
              "      <th>min</th>\n",
              "      <td>0.000000</td>\n",
              "      <td>0.000000</td>\n",
              "      <td>0.000000</td>\n",
              "      <td>0.000000</td>\n",
              "      <td>0.000000</td>\n",
              "      <td>0.000000</td>\n",
              "      <td>0.000000</td>\n",
              "      <td>0.000000</td>\n",
              "      <td>0.000000</td>\n",
              "      <td>0.000000</td>\n",
              "      <td>0.000000</td>\n",
              "    </tr>\n",
              "    <tr>\n",
              "      <th>25%</th>\n",
              "      <td>0.481389</td>\n",
              "      <td>0.582361</td>\n",
              "      <td>0.397390</td>\n",
              "      <td>0.398589</td>\n",
              "      <td>0.380348</td>\n",
              "      <td>0.494866</td>\n",
              "      <td>0.648773</td>\n",
              "      <td>0.141815</td>\n",
              "      <td>0.558299</td>\n",
              "      <td>0.450420</td>\n",
              "      <td>0.000000</td>\n",
              "    </tr>\n",
              "    <tr>\n",
              "      <th>50%</th>\n",
              "      <td>0.495456</td>\n",
              "      <td>0.665440</td>\n",
              "      <td>0.477069</td>\n",
              "      <td>0.497187</td>\n",
              "      <td>0.403913</td>\n",
              "      <td>0.496720</td>\n",
              "      <td>0.662275</td>\n",
              "      <td>0.425023</td>\n",
              "      <td>0.588697</td>\n",
              "      <td>0.499095</td>\n",
              "      <td>0.000000</td>\n",
              "    </tr>\n",
              "    <tr>\n",
              "      <th>75%</th>\n",
              "      <td>0.607992</td>\n",
              "      <td>0.731442</td>\n",
              "      <td>0.483449</td>\n",
              "      <td>0.505081</td>\n",
              "      <td>0.434026</td>\n",
              "      <td>0.498485</td>\n",
              "      <td>0.719252</td>\n",
              "      <td>0.722933</td>\n",
              "      <td>0.632727</td>\n",
              "      <td>0.564504</td>\n",
              "      <td>0.000000</td>\n",
              "    </tr>\n",
              "    <tr>\n",
              "      <th>max</th>\n",
              "      <td>1.000000</td>\n",
              "      <td>1.000058</td>\n",
              "      <td>1.000000</td>\n",
              "      <td>1.000000</td>\n",
              "      <td>1.000000</td>\n",
              "      <td>1.000226</td>\n",
              "      <td>1.000000</td>\n",
              "      <td>1.000000</td>\n",
              "      <td>1.000000</td>\n",
              "      <td>1.000000</td>\n",
              "      <td>1.000000</td>\n",
              "    </tr>\n",
              "    <tr>\n",
              "      <th>mse</th>\n",
              "      <td>0.000228</td>\n",
              "      <td>0.000191</td>\n",
              "      <td>0.000191</td>\n",
              "      <td>0.000245</td>\n",
              "      <td>0.001770</td>\n",
              "      <td>0.000275</td>\n",
              "      <td>0.000671</td>\n",
              "      <td>0.000329</td>\n",
              "      <td>0.000322</td>\n",
              "      <td>0.000293</td>\n",
              "      <td>0.000519</td>\n",
              "    </tr>\n",
              "  </tbody>\n",
              "</table>\n",
              "</div>"
            ],
            "text/plain": [
              "       t+1_   ____Q,rad/s   ...  t+1_   thro1,_part \n",
              "count        477290.000000  ...        477290.000000\n",
              "mean              0.529000  ...             0.203615\n",
              "std               0.088447  ...             0.402682\n",
              "min               0.000000  ...             0.000000\n",
              "25%               0.481389  ...             0.000000\n",
              "50%               0.495456  ...             0.000000\n",
              "75%               0.607992  ...             0.000000\n",
              "max               1.000000  ...             1.000000\n",
              "mse               0.000228  ...             0.000519\n",
              "\n",
              "[9 rows x 11 columns]"
            ]
          },
          "metadata": {
            "tags": []
          },
          "execution_count": 29
        }
      ]
    },
    {
      "cell_type": "markdown",
      "metadata": {
        "id": "bVhouDRRpewh",
        "colab_type": "text"
      },
      "source": [
        "### MSE per target (unscaled)"
      ]
    },
    {
      "cell_type": "code",
      "metadata": {
        "id": "oTTBfKRgRnTP",
        "colab_type": "code",
        "colab": {}
      },
      "source": [
        "def mse_denormalized(model):\n",
        "  pred_Y = model.predict(test_X)\n",
        "  unscaled_pred_Y = label_scaler.inverse_transform(pred_Y)\n",
        "  unscaled_test_Y = label_scaler.inverse_transform(test_Y)\n",
        "  mse = mean_squared_error(unscaled_test_Y, unscaled_pred_Y, multioutput='raw_values')\n",
        "\n",
        "\n",
        "  mse_per_feature = pd.DataFrame(data=mse.reshape(1,-1),    # values\n",
        "              index=['mse'],     # index\n",
        "              columns=df_labels.columns)  #  column names\n",
        "  return df_labels.describe().append(mse_per_feature)\n"
      ],
      "execution_count": 0,
      "outputs": []
    },
    {
      "cell_type": "code",
      "metadata": {
        "id": "i8ECuknTSiMF",
        "colab_type": "code",
        "outputId": "9c595fe5-9970-4f42-f76d-4f3ec751b05e",
        "colab": {
          "base_uri": "https://localhost:8080/",
          "height": 369
        }
      },
      "source": [
        "mse_denormalized(baseline_model).head(20)\n"
      ],
      "execution_count": 31,
      "outputs": [
        {
          "output_type": "execute_result",
          "data": {
            "text/html": [
              "<div>\n",
              "<style scoped>\n",
              "    .dataframe tbody tr th:only-of-type {\n",
              "        vertical-align: middle;\n",
              "    }\n",
              "\n",
              "    .dataframe tbody tr th {\n",
              "        vertical-align: top;\n",
              "    }\n",
              "\n",
              "    .dataframe thead th {\n",
              "        text-align: right;\n",
              "    }\n",
              "</style>\n",
              "<table border=\"1\" class=\"dataframe\">\n",
              "  <thead>\n",
              "    <tr style=\"text-align: right;\">\n",
              "      <th></th>\n",
              "      <th>t+1_   ____Q,rad/s</th>\n",
              "      <th>t+1_   _beta,__deg</th>\n",
              "      <th>t+1_   _roll,__deg</th>\n",
              "      <th>t+1_   ____R,rad/s</th>\n",
              "      <th>t+1_   pitch,__deg</th>\n",
              "      <th>t+1_   ____P,rad/s</th>\n",
              "      <th>t+1_   __VVI,__fpm</th>\n",
              "      <th>t+1_   __alt,ftmsl</th>\n",
              "      <th>t+1_   Vtrue,_ktas</th>\n",
              "      <th>t+1_   rpm_1,_prop</th>\n",
              "      <th>t+1_   thro1,_part</th>\n",
              "    </tr>\n",
              "  </thead>\n",
              "  <tbody>\n",
              "    <tr>\n",
              "      <th>count</th>\n",
              "      <td>477290.000000</td>\n",
              "      <td>477290.000000</td>\n",
              "      <td>477290.000000</td>\n",
              "      <td>477290.000000</td>\n",
              "      <td>477290.000000</td>\n",
              "      <td>477290.000000</td>\n",
              "      <td>477290.000000</td>\n",
              "      <td>477290.000000</td>\n",
              "      <td>477290.000000</td>\n",
              "      <td>477290.000000</td>\n",
              "      <td>477290.000000</td>\n",
              "    </tr>\n",
              "    <tr>\n",
              "      <th>mean</th>\n",
              "      <td>0.003815</td>\n",
              "      <td>0.006402</td>\n",
              "      <td>-0.791050</td>\n",
              "      <td>-0.001840</td>\n",
              "      <td>-0.653565</td>\n",
              "      <td>-0.000023</td>\n",
              "      <td>31.866864</td>\n",
              "      <td>2714.494657</td>\n",
              "      <td>119.567394</td>\n",
              "      <td>2490.421446</td>\n",
              "      <td>0.837601</td>\n",
              "    </tr>\n",
              "    <tr>\n",
              "      <th>std</th>\n",
              "      <td>0.007105</td>\n",
              "      <td>0.137680</td>\n",
              "      <td>8.876411</td>\n",
              "      <td>0.023905</td>\n",
              "      <td>1.684673</td>\n",
              "      <td>0.017348</td>\n",
              "      <td>274.991234</td>\n",
              "      <td>1357.480898</td>\n",
              "      <td>10.113312</td>\n",
              "      <td>127.216670</td>\n",
              "      <td>0.082115</td>\n",
              "    </tr>\n",
              "    <tr>\n",
              "      <th>min</th>\n",
              "      <td>-0.038680</td>\n",
              "      <td>-0.689970</td>\n",
              "      <td>-23.851520</td>\n",
              "      <td>-0.054820</td>\n",
              "      <td>-9.313510</td>\n",
              "      <td>-0.109810</td>\n",
              "      <td>-1917.888180</td>\n",
              "      <td>805.092900</td>\n",
              "      <td>66.424780</td>\n",
              "      <td>2106.257810</td>\n",
              "      <td>0.796080</td>\n",
              "    </tr>\n",
              "    <tr>\n",
              "      <th>25%</th>\n",
              "      <td>-0.000010</td>\n",
              "      <td>-0.082300</td>\n",
              "      <td>-4.070882</td>\n",
              "      <td>-0.010888</td>\n",
              "      <td>-1.284488</td>\n",
              "      <td>-0.000410</td>\n",
              "      <td>-38.766265</td>\n",
              "      <td>1411.464812</td>\n",
              "      <td>116.120015</td>\n",
              "      <td>2424.051882</td>\n",
              "      <td>0.796080</td>\n",
              "    </tr>\n",
              "    <tr>\n",
              "      <th>50%</th>\n",
              "      <td>0.001120</td>\n",
              "      <td>0.004390</td>\n",
              "      <td>-0.104720</td>\n",
              "      <td>-0.000020</td>\n",
              "      <td>-0.787045</td>\n",
              "      <td>0.000000</td>\n",
              "      <td>0.342395</td>\n",
              "      <td>2622.403565</td>\n",
              "      <td>118.825780</td>\n",
              "      <td>2458.394900</td>\n",
              "      <td>0.796080</td>\n",
              "    </tr>\n",
              "    <tr>\n",
              "      <th>75%</th>\n",
              "      <td>0.010160</td>\n",
              "      <td>0.073260</td>\n",
              "      <td>0.212860</td>\n",
              "      <td>0.000850</td>\n",
              "      <td>-0.151363</td>\n",
              "      <td>0.000390</td>\n",
              "      <td>165.372623</td>\n",
              "      <td>3896.206053</td>\n",
              "      <td>122.745007</td>\n",
              "      <td>2504.543950</td>\n",
              "      <td>0.796080</td>\n",
              "    </tr>\n",
              "    <tr>\n",
              "      <th>max</th>\n",
              "      <td>0.041650</td>\n",
              "      <td>0.353550</td>\n",
              "      <td>25.924920</td>\n",
              "      <td>0.055400</td>\n",
              "      <td>11.796170</td>\n",
              "      <td>0.111310</td>\n",
              "      <td>978.538330</td>\n",
              "      <td>5080.888180</td>\n",
              "      <td>155.436650</td>\n",
              "      <td>2811.808840</td>\n",
              "      <td>1.000000</td>\n",
              "    </tr>\n",
              "    <tr>\n",
              "      <th>mse</th>\n",
              "      <td>0.000001</td>\n",
              "      <td>0.000207</td>\n",
              "      <td>0.473661</td>\n",
              "      <td>0.000003</td>\n",
              "      <td>0.788797</td>\n",
              "      <td>0.000013</td>\n",
              "      <td>5631.376804</td>\n",
              "      <td>6020.216275</td>\n",
              "      <td>2.549204</td>\n",
              "      <td>145.851233</td>\n",
              "      <td>0.000022</td>\n",
              "    </tr>\n",
              "  </tbody>\n",
              "</table>\n",
              "</div>"
            ],
            "text/plain": [
              "       t+1_   ____Q,rad/s   ...  t+1_   thro1,_part \n",
              "count        477290.000000  ...        477290.000000\n",
              "mean              0.003815  ...             0.837601\n",
              "std               0.007105  ...             0.082115\n",
              "min              -0.038680  ...             0.796080\n",
              "25%              -0.000010  ...             0.796080\n",
              "50%               0.001120  ...             0.796080\n",
              "75%               0.010160  ...             0.796080\n",
              "max               0.041650  ...             1.000000\n",
              "mse               0.000001  ...             0.000022\n",
              "\n",
              "[9 rows x 11 columns]"
            ]
          },
          "metadata": {
            "tags": []
          },
          "execution_count": 31
        }
      ]
    },
    {
      "cell_type": "code",
      "metadata": {
        "id": "A0dpJrDUS33H",
        "colab_type": "code",
        "colab": {}
      },
      "source": [
        ""
      ],
      "execution_count": 0,
      "outputs": []
    }
  ]
}