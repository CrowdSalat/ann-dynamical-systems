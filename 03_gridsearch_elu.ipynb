{
  "nbformat": 4,
  "nbformat_minor": 0,
  "metadata": {
    "colab": {
      "name": "03_gridsearch_elu.ipynb",
      "provenance": [],
      "collapsed_sections": [],
      "toc_visible": true,
      "machine_shape": "hm",
      "include_colab_link": true
    },
    "kernelspec": {
      "name": "python3",
      "display_name": "Python 3"
    },
    "accelerator": "GPU"
  },
  "cells": [
    {
      "cell_type": "markdown",
      "metadata": {
        "id": "view-in-github",
        "colab_type": "text"
      },
      "source": [
        "<a href=\"https://colab.research.google.com/github/CrowdSalat/ann-dynamical-systems/blob/master/03_gridsearch_elu.ipynb\" target=\"_parent\"><img src=\"https://colab.research.google.com/assets/colab-badge.svg\" alt=\"Open In Colab\"/></a>"
      ]
    },
    {
      "cell_type": "markdown",
      "metadata": {
        "id": "Pa9Mju9lc4Ll",
        "colab_type": "text"
      },
      "source": [
        "# overview\n",
        "\n",
        "Uses actions and an input state to predict the output state."
      ]
    },
    {
      "cell_type": "markdown",
      "metadata": {
        "id": "ijDD21X-gnli",
        "colab_type": "text"
      },
      "source": [
        "# imports"
      ]
    },
    {
      "cell_type": "code",
      "metadata": {
        "id": "_Z4pV678a1zv",
        "colab_type": "code",
        "outputId": "415d8461-f76a-40bd-fd52-0aafb62d708b",
        "colab": {
          "base_uri": "https://localhost:8080/",
          "height": 35
        }
      },
      "source": [
        "try:\n",
        "  # %tensorflow_version only exists in Colab.\n",
        "  %tensorflow_version 2.x\n",
        "except Exception:\n",
        "  pass"
      ],
      "execution_count": 0,
      "outputs": [
        {
          "output_type": "stream",
          "text": [
            "TensorFlow 2.x selected.\n"
          ],
          "name": "stdout"
        }
      ]
    },
    {
      "cell_type": "code",
      "metadata": {
        "id": "2p4YwEK_f7kq",
        "colab_type": "code",
        "outputId": "b11c11f4-e673-4026-a42e-ed3f414e70c4",
        "colab": {
          "base_uri": "https://localhost:8080/",
          "height": 35
        }
      },
      "source": [
        "import pandas as pd\n",
        "import numpy as np\n",
        "import os\n",
        "import sys\n",
        "import datetime\n",
        "import math\n",
        "import pickle\n",
        "import matplotlib.pyplot as plt\n",
        "from sklearn.preprocessing import MinMaxScaler\n",
        "from sklearn.metrics import mean_squared_error\n",
        "from sklearn.metrics import mean_absolute_error\n",
        "\n",
        "from sklearn.model_selection import train_test_split\n",
        "from sklearn.preprocessing import MinMaxScaler\n",
        "\n",
        "\n",
        "import tensorflow as tf\n",
        "print(tf.__version__)\n",
        "from tensorflow import keras\n",
        "\n",
        "from tensorflow.keras.models import Sequential\n",
        "from tensorflow.keras.layers import Dense\n",
        "from tensorflow.keras.layers import *\n",
        "from tensorflow.keras import metrics"
      ],
      "execution_count": 0,
      "outputs": [
        {
          "output_type": "stream",
          "text": [
            "2.0.0\n"
          ],
          "name": "stdout"
        }
      ]
    },
    {
      "cell_type": "code",
      "metadata": {
        "id": "RPDma-JqgyaM",
        "colab_type": "code",
        "outputId": "a16bee52-4e90-43ff-cfb9-69a751379f46",
        "colab": {
          "base_uri": "https://localhost:8080/",
          "height": 35
        }
      },
      "source": [
        "base_folder = './results'\n",
        "notebook_folder = '03_gridsearch_elu'\n",
        "results_folder = os.path.join(base_folder, notebook_folder)\n",
        "os.makedirs(results_folder, exist_ok=True)\n",
        "print('results_folder : ', results_folder)\n",
        "\n",
        "saved_model_weight = 'saved_weights'\n",
        "saved_model_weight_path = os.path.join(results_folder, saved_model_weight)\n",
        "os.makedirs(saved_model_weight_path, exist_ok=True)\n"
      ],
      "execution_count": 0,
      "outputs": [
        {
          "output_type": "stream",
          "text": [
            "results_folder :  ./results/03_gridsearch_elu\n"
          ],
          "name": "stdout"
        }
      ]
    },
    {
      "cell_type": "markdown",
      "metadata": {
        "id": "rmj8c18xllpT",
        "colab_type": "text"
      },
      "source": [
        "# mount drive"
      ]
    },
    {
      "cell_type": "code",
      "metadata": {
        "id": "nUEqcpzvltdo",
        "colab_type": "code",
        "colab": {}
      },
      "source": [
        "file = 'dataset_all_01.csv'"
      ],
      "execution_count": 0,
      "outputs": []
    },
    {
      "cell_type": "code",
      "metadata": {
        "id": "TuGWEMS1loFz",
        "colab_type": "code",
        "outputId": "8c158cfe-70d0-40b4-e472-c2b577292f23",
        "colab": {
          "base_uri": "https://localhost:8080/",
          "height": 144
        }
      },
      "source": [
        "from google.colab import drive\n",
        "drive.mount('/content/drive')\n",
        "\n",
        "root_dir = '/content/drive/My Drive/xplane_data' \n",
        "os.chdir(root_dir)\n",
        "print ('working dir: ' + os.getcwd())"
      ],
      "execution_count": 0,
      "outputs": [
        {
          "output_type": "stream",
          "text": [
            "Go to this URL in a browser: https://accounts.google.com/o/oauth2/auth?client_id=947318989803-6bn6qk8qdgf4n4g3pfee6491hc0brc4i.apps.googleusercontent.com&redirect_uri=urn%3Aietf%3Awg%3Aoauth%3A2.0%3Aoob&scope=email%20https%3A%2F%2Fwww.googleapis.com%2Fauth%2Fdocs.test%20https%3A%2F%2Fwww.googleapis.com%2Fauth%2Fdrive%20https%3A%2F%2Fwww.googleapis.com%2Fauth%2Fdrive.photos.readonly%20https%3A%2F%2Fwww.googleapis.com%2Fauth%2Fpeopleapi.readonly&response_type=code\n",
            "\n",
            "Enter your authorization code:\n",
            "··········\n",
            "Mounted at /content/drive\n",
            "working dir: /content/drive/My Drive/xplane_data\n"
          ],
          "name": "stdout"
        }
      ]
    },
    {
      "cell_type": "markdown",
      "metadata": {
        "id": "EF4tx110HmOj",
        "colab_type": "text"
      },
      "source": [
        "# load data"
      ]
    },
    {
      "cell_type": "markdown",
      "metadata": {
        "id": "EOM6RVAIduGr",
        "colab_type": "text"
      },
      "source": [
        "## define features (actions & states)\n",
        "actions and states at time t (t-1, t-2 ...) are the input for the network.\n",
        "\n",
        "the states at time t + 1 are the desired output of the network.\n"
      ]
    },
    {
      "cell_type": "code",
      "metadata": {
        "id": "YH9bVQ3YDyTh",
        "colab_type": "code",
        "colab": {}
      },
      "source": [
        "col_m_time      = '   missn,_time '\n",
        "col_t_time      = '   _totl,_time '\n",
        "col_yaw_v       = '   ____Q,rad/s '\n",
        "\n",
        "col_yaw_deg     = '   _beta,__deg '\n",
        "col_roll_deg    = '   _roll,__deg '\n",
        "col_roll_v      = '   ____R,rad/s '\n",
        "col_pitch_deg   = '   pitch,__deg '\n",
        "col_pitch_v     = '   ____P,rad/s '\n",
        "col_alt         = '   __alt,ftmsl '\n",
        "col_vv          = '   __VVI,__fpm '\n",
        "col_v           = '   Vtrue,_ktas '\n",
        "col_rpm_prop    = '   rpm_1,_prop '\n",
        "col_throttle     = '   thro1,_part '\n",
        "\n",
        "cols_state = [ \n",
        "    col_yaw_v,\n",
        "    col_yaw_deg,\n",
        "    col_roll_deg,\n",
        "    col_roll_v,\n",
        "    col_pitch_deg,\n",
        "    col_pitch_v,\n",
        "    col_vv,\n",
        "    col_alt,\n",
        "    col_v,\n",
        "\n",
        "]\n",
        "\n",
        "cols_time = [\n",
        "    col_m_time,\n",
        "    col_t_time,\n",
        "]\n",
        "\n",
        "col_elev_servo                  = '   _elev,servo '\n",
        "col_ailrn_servo                  = '   ailrn,servo '\n",
        "col_ruddr_servo                  = '   ruddr,servo '\n",
        "\n",
        "cols_action = [\n",
        "    col_elev_servo,\n",
        "    col_ailrn_servo,\n",
        "    col_ruddr_servo,\n",
        "    col_rpm_prop,\n",
        "    col_throttle,\n",
        "]\n",
        "\n",
        "# all input columns\n",
        "cols_features = []\n",
        "cols_features.extend(cols_state)\n",
        "cols_features.extend(cols_action)\n",
        "\n",
        "# orga column\n",
        "col_dataset_index = 'dataset_index'\n",
        "col_maneuver_index = 'maneuver_index'\n",
        "col_maneuver_name = 'maneuver_name'\n",
        "col_maneuver_datapoint_index = 'maneuver_datapoint_index'\n",
        "col_maneuver_type = 'maneuver_type'\n",
        "cols_org = [col_dataset_index, col_maneuver_index, col_maneuver_name,\n",
        "            col_maneuver_datapoint_index,col_maneuver_type]\n",
        "\n"
      ],
      "execution_count": 0,
      "outputs": []
    },
    {
      "cell_type": "markdown",
      "metadata": {
        "id": "gDSNkVBaDv2V",
        "colab_type": "text"
      },
      "source": [
        "## load data"
      ]
    },
    {
      "cell_type": "code",
      "metadata": {
        "id": "uByPEHX3fS2G",
        "colab_type": "code",
        "outputId": "db3fd763-9a88-4434-a0ca-827f8b5644bf",
        "colab": {
          "base_uri": "https://localhost:8080/",
          "height": 204
        }
      },
      "source": [
        "def load_xplane_csv(csv_path, columns):\n",
        "    return pd.read_csv(csv_path, delimiter=',', usecols = columns, \n",
        "                       float_precision='high')\n",
        "\n",
        "df_data = load_xplane_csv(file, cols_org + cols_state + cols_action)\n",
        "\n",
        "print(len(cols_org))\n",
        "print(len(cols_state))\n",
        "print(len(cols_action))\n",
        "print(df_data.shape)\n",
        "df_data.head(2)"
      ],
      "execution_count": 0,
      "outputs": [
        {
          "output_type": "stream",
          "text": [
            "5\n",
            "9\n",
            "5\n",
            "(477893, 19)\n"
          ],
          "name": "stdout"
        },
        {
          "output_type": "execute_result",
          "data": {
            "text/html": [
              "<div>\n",
              "<style scoped>\n",
              "    .dataframe tbody tr th:only-of-type {\n",
              "        vertical-align: middle;\n",
              "    }\n",
              "\n",
              "    .dataframe tbody tr th {\n",
              "        vertical-align: top;\n",
              "    }\n",
              "\n",
              "    .dataframe thead th {\n",
              "        text-align: right;\n",
              "    }\n",
              "</style>\n",
              "<table border=\"1\" class=\"dataframe\">\n",
              "  <thead>\n",
              "    <tr style=\"text-align: right;\">\n",
              "      <th></th>\n",
              "      <th>dataset_index</th>\n",
              "      <th>maneuver_index</th>\n",
              "      <th>maneuver_name</th>\n",
              "      <th>maneuver_type</th>\n",
              "      <th>maneuver_datapoint_index</th>\n",
              "      <th>Vtrue,_ktas</th>\n",
              "      <th>__VVI,__fpm</th>\n",
              "      <th>____Q,rad/s</th>\n",
              "      <th>____P,rad/s</th>\n",
              "      <th>____R,rad/s</th>\n",
              "      <th>pitch,__deg</th>\n",
              "      <th>_roll,__deg</th>\n",
              "      <th>_beta,__deg</th>\n",
              "      <th>__alt,ftmsl</th>\n",
              "      <th>thro1,_part</th>\n",
              "      <th>rpm_1,_prop</th>\n",
              "      <th>_elev,servo</th>\n",
              "      <th>ailrn,servo</th>\n",
              "      <th>ruddr,servo</th>\n",
              "    </tr>\n",
              "  </thead>\n",
              "  <tbody>\n",
              "    <tr>\n",
              "      <th>0</th>\n",
              "      <td>0</td>\n",
              "      <td>0</td>\n",
              "      <td>0</td>\n",
              "      <td>0</td>\n",
              "      <td>0</td>\n",
              "      <td>115.86147</td>\n",
              "      <td>665.39697</td>\n",
              "      <td>-0.03945</td>\n",
              "      <td>-0.00235</td>\n",
              "      <td>0.00008</td>\n",
              "      <td>-0.03584</td>\n",
              "      <td>-0.10129</td>\n",
              "      <td>0.00793</td>\n",
              "      <td>953.06787</td>\n",
              "      <td>0.79608</td>\n",
              "      <td>2443.89453</td>\n",
              "      <td>-0.00489</td>\n",
              "      <td>-0.01818</td>\n",
              "      <td>0.0</td>\n",
              "    </tr>\n",
              "    <tr>\n",
              "      <th>1</th>\n",
              "      <td>0</td>\n",
              "      <td>0</td>\n",
              "      <td>0</td>\n",
              "      <td>0</td>\n",
              "      <td>1</td>\n",
              "      <td>115.85403</td>\n",
              "      <td>650.10065</td>\n",
              "      <td>-0.03868</td>\n",
              "      <td>-0.00234</td>\n",
              "      <td>0.00007</td>\n",
              "      <td>-0.14285</td>\n",
              "      <td>-0.10772</td>\n",
              "      <td>0.00770</td>\n",
              "      <td>953.30768</td>\n",
              "      <td>0.79608</td>\n",
              "      <td>2443.77563</td>\n",
              "      <td>0.00134</td>\n",
              "      <td>-0.01815</td>\n",
              "      <td>0.0</td>\n",
              "    </tr>\n",
              "  </tbody>\n",
              "</table>\n",
              "</div>"
            ],
            "text/plain": [
              "   dataset_index  maneuver_index  ...     ailrn,servo      ruddr,servo \n",
              "0              0               0  ...         -0.01818              0.0\n",
              "1              0               0  ...         -0.01815              0.0\n",
              "\n",
              "[2 rows x 19 columns]"
            ]
          },
          "metadata": {
            "tags": []
          },
          "execution_count": 7
        }
      ]
    },
    {
      "cell_type": "markdown",
      "metadata": {
        "id": "47xDI8rfLJTv",
        "colab_type": "text"
      },
      "source": [
        "# define data preperation functions"
      ]
    },
    {
      "cell_type": "code",
      "metadata": {
        "id": "-EBCtY9f7KnC",
        "colab_type": "code",
        "colab": {}
      },
      "source": [
        "def series_to_supervised(data, n_in=1, n_out=1, dropnan=True, cols_label=None):\n",
        "\tdata_in = data.drop(cols_org, axis=1)\n",
        "\tif cols_label == None:\n",
        "\t\tdata_out = data_in.drop(cols_action, axis=1)\n",
        "\telse:\n",
        "\t\tif type(cols_label) != list:\n",
        "\t\t\tcols_label = [cols_label]\n",
        "\t\tdata_out = data_in[cols_label]\n",
        "\n",
        "\tcols_in = data_in.columns\n",
        "\tcols_out = data_out.columns\n",
        "\tcols, names = list(), list()\n",
        "\t# input sequence (t-n, ... t-1, t)\n",
        "\tfor i in range(n_in, 0, -1):\n",
        "\t\tcols.append(data_in.shift(i))\n",
        "\t\tif i == 1:\n",
        "\t\t\tnames += [('%s(t)' % (col_in)) for col_in in cols_in]\n",
        "\t\telse:\n",
        "\t\t\tnames += [('%s(t-%d)' % (col_in, i-1)) for col_in in cols_in]\n",
        "\n",
        "\t# forecast sequence (t+1, ... t+n)\n",
        "\tfor i in range(0, n_out):\n",
        "\t\tcols.append(data_out.shift(-i))\n",
        "\t\tnames += [('%s(t+%d)' % (col_out, i+1)) for col_out in cols_out]\n",
        "\t# put it all together\n",
        "\tagg = pd.concat(cols, axis=1)\n",
        "\tagg.columns = names\n",
        "\t# drop rows with NaN values\n",
        "\tif dropnan:\n",
        "\t\tagg.dropna(inplace=True)\n",
        "\treturn agg, cols_out"
      ],
      "execution_count": 0,
      "outputs": []
    },
    {
      "cell_type": "code",
      "metadata": {
        "id": "nOzBV1rYVGCn",
        "colab_type": "code",
        "colab": {}
      },
      "source": [
        "def split_feature_label(data_labeled, n_input_steps):\n",
        "  data_X = data_labeled.values[:, 0:n_input_steps*len(cols_features)]\n",
        "  data_Y = data_labeled.values[:, n_input_steps*len(cols_features):]\n",
        "  return data_X, data_Y"
      ],
      "execution_count": 0,
      "outputs": []
    },
    {
      "cell_type": "code",
      "metadata": {
        "id": "otFsVggWMbpz",
        "colab_type": "code",
        "colab": {}
      },
      "source": [
        "def scale_data(data_X, data_Y):\n",
        "  feature_scaler = MinMaxScaler()\n",
        "  data_X = feature_scaler.fit_transform(data_X)\n",
        "  label_scaler = MinMaxScaler()\n",
        "  data_Y = label_scaler.fit_transform(data_Y)\n",
        "  return feature_scaler, label_scaler, data_X, data_Y"
      ],
      "execution_count": 0,
      "outputs": []
    },
    {
      "cell_type": "code",
      "metadata": {
        "id": "bYXja56FWJnk",
        "colab_type": "code",
        "colab": {}
      },
      "source": [
        "def prepare_datasets(data, n_in=1, n_out=1):\n",
        "  #train-test-split\n",
        "  test = data.query('dataset_index==4')\n",
        "  train = data.query('dataset_index!=4')\n",
        "  \n",
        "  #add-label\n",
        "  test_labeled, labels = series_to_supervised(test, n_in=n_in, n_out=n_out,dropnan=True)\n",
        "  train_labeled, labels = series_to_supervised(train, n_in=n_in, n_out=n_out,dropnan=True)\n",
        "  \n",
        "\n",
        "  #split-feature-label\n",
        "  train_X, train_Y = split_feature_label(train_labeled, n_in)\n",
        "  test_X, test_Y = split_feature_label(test_labeled, n_in)\n",
        "  #scale-feat\n",
        "  feature_scaler, label_scaler, train_X, train_Y = scale_data(train_X, train_Y)\n",
        "  #scale-label\n",
        "  test_X, test_Y = feature_scaler.transform(test_X), label_scaler.transform(test_Y)\n",
        "\n",
        "  return train_X, train_Y, test_X, test_Y, feature_scaler, label_scaler, labels\n",
        "\n",
        "\n",
        "#TODO für RNN muss noch reshape stattfinden"
      ],
      "execution_count": 0,
      "outputs": []
    },
    {
      "cell_type": "markdown",
      "metadata": {
        "id": "S_kDrS1qH7kc",
        "colab_type": "text"
      },
      "source": [
        "# train models"
      ]
    },
    {
      "cell_type": "markdown",
      "metadata": {
        "id": "rjgpogwABFhX",
        "colab_type": "text"
      },
      "source": [
        "## define callbacks functions"
      ]
    },
    {
      "cell_type": "code",
      "metadata": {
        "id": "18w_KQkpBFEY",
        "colab_type": "code",
        "colab": {}
      },
      "source": [
        "def prepare_tensorboard_callback(model_name=''):\n",
        "  logs_base_dir = \"./tensorbaord_logs\"\n",
        "  model_log_dir = datetime.datetime.now().strftime(\"%Y%m%d-%H%M%S\") + '_' + model_name\n",
        "  target_log_dir = os.path.join(logs_base_dir, model_log_dir)\n",
        "  os.makedirs(target_log_dir, exist_ok=True)\n",
        "  tensorboard_callback = tf.keras.callbacks.TensorBoard(target_log_dir, histogram_freq=1)\n",
        "  return tensorboard_callback\n"
      ],
      "execution_count": 0,
      "outputs": []
    },
    {
      "cell_type": "code",
      "metadata": {
        "id": "MYl_6s7sBMpy",
        "colab_type": "code",
        "colab": {}
      },
      "source": [
        "def prepare_checkpoint_callback(model_name):\n",
        "  checkpoint_base_dir = './checkpoints'\n",
        "  os.makedirs(checkpoint_base_dir, exist_ok=True)\n",
        "  filepath = os.path.join(checkpoint_base_dir, 'cp_'+ model_name)\n",
        "  cp_callback = tf.keras.callbacks.ModelCheckpoint(filepath=filepath,\n",
        "                                                  save_weights_only=True,\n",
        "                                                  verbose=1)\n",
        "  return cp_callback "
      ],
      "execution_count": 0,
      "outputs": []
    },
    {
      "cell_type": "markdown",
      "metadata": {
        "id": "3y07Q50xkLvG",
        "colab_type": "text"
      },
      "source": [
        "## define plot_and_save functions"
      ]
    },
    {
      "cell_type": "markdown",
      "metadata": {
        "id": "l8uMddMPkSc1",
        "colab_type": "text"
      },
      "source": [
        "### loss historie"
      ]
    },
    {
      "cell_type": "code",
      "metadata": {
        "id": "I9UHTxwnkWyp",
        "colab_type": "code",
        "colab": {}
      },
      "source": [
        "def save_plots_before_show(diagramm_name):\n",
        "  if not os.path.exists(results_folder):\n",
        "      os.makedirs(diagramm_folder)\n",
        "\n",
        "  plt.savefig(results_folder + '/' + diagramm_name +'.pdf')\n",
        "  plt.savefig(results_folder + '/' + diagramm_name +'.svg')\n",
        "  plt.savefig(results_folder + '/' + diagramm_name +'.png')\n",
        "\n",
        "def pas_history(model_tupels, histories, key='mean_squared_error'):\n",
        "  model_names = [model_tupel[0] for model_tupel in model_tupels]\n",
        "  plt.figure(figsize=(16,10))\n",
        "  for i, history in enumerate(histories):\n",
        "    history_epoch= range(0, len(history['loss']) )\n",
        "\n",
        "    val = plt.plot(history_epoch, history['val_'+key],\n",
        "                   '--', label=model_names[i]+' Val')\n",
        "    plt.plot(history_epoch, history[key], color=val[0].get_color(),\n",
        "             label=model_names[i]+' Train')\n",
        "\n",
        "  plt.xlabel('Epochs')\n",
        "  plt.yscale(\"log\")\n",
        "  plt.ylabel(key.replace('_',' ').title())\n",
        "  plt.legend()\n",
        "\n",
        "  plt.xlim([0,max(history_epoch)])\n",
        "  save_plots_before_show('history_loss'+'_'+key)\n",
        "  plt.show()"
      ],
      "execution_count": 0,
      "outputs": []
    },
    {
      "cell_type": "markdown",
      "metadata": {
        "id": "VJNfegiglg59",
        "colab_type": "text"
      },
      "source": [
        "### metrics (overall and for all single targets )\n",
        "\n"
      ]
    },
    {
      "cell_type": "code",
      "metadata": {
        "id": "be-UQiKHli16",
        "colab_type": "code",
        "colab": {}
      },
      "source": [
        "def pas_metrics_scaled(model_tupel):\n",
        "  model_name = model_tupel[0]\n",
        "  df = _df_prediction_metrics(model_tupel, scaled=True)\n",
        "  file_path = os.path.join(results_folder, model_name + '_scaled.csv')\n",
        "  df.to_csv(path_or_buf=file_path)\n",
        "  return df\n",
        "  \n",
        "def pas_metrics(model_tupel):\n",
        "  model_name = model_tupel[0]\n",
        "  df = _df_prediction_metrics(model_tupel, scaled=False)\n",
        "  file_path = os.path.join(results_folder, model_name + '.csv')\n",
        "  df.to_csv(path_or_buf=file_path)\n",
        "  return df\n",
        "\n",
        "\n",
        "def _df_prediction_metrics(model_tupel, scaled):\n",
        "  '''\n",
        "  creates describe dataframe of labels and \n",
        "  connect them with mse,rmse and mae per target and overall \n",
        "  '''\n",
        "  \n",
        "  model = model_tupel[1]\n",
        "  train_X, train_Y, test_X, test_Y = model_tupel[2]\n",
        "  cols_label = model_tupel[4]\n",
        "\n",
        "\n",
        "  pred_Y = model.predict(test_X)\n",
        "  \n",
        "  if scaled:\n",
        "    truth_Y = test_Y\n",
        "  else:\n",
        "    label_scaler = model_tupel[3]\n",
        "    pred_Y = label_scaler.inverse_transform(pred_Y)\n",
        "    truth_Y = label_scaler.inverse_transform(test_Y)\n",
        "\n",
        "  df_describe = pd.DataFrame(truth_Y,columns=cols_label).describe()\n",
        "  mses = mean_squared_error(truth_Y, pred_Y, multioutput='raw_values')\n",
        "  rmses = np.array([math.sqrt(mse) for mse in mses])\n",
        "  maes = mean_absolute_error(truth_Y, pred_Y, multioutput='raw_values')\n",
        "  # average over list should do the job as well\n",
        "  mse = mean_squared_error(truth_Y, pred_Y)\n",
        "  rmse = math.sqrt(mse)\n",
        "  mae = mean_absolute_error(truth_Y, pred_Y)\n",
        "\n",
        "\n",
        "  df_mse_per_feature = pd.DataFrame(data=mses.reshape(1,-1),    # values\n",
        "            index=['mses'],     # index\n",
        "            columns=cols_label)  #  column names\n",
        "  df_rmse_per_feature = pd.DataFrame(data=rmses.reshape(1,-1),    # values\n",
        "        index=['rmes'],     # index\n",
        "        columns=cols_label)  #  column names\n",
        "  df_mae_per_feature = pd.DataFrame(data=maes.reshape(1,-1),    # values\n",
        "        index=['maes'],     # index\n",
        "        columns=cols_label)  #  column names\n",
        "  \n",
        "  \n",
        "  df_mse_all = pd.DataFrame(data=mse,    # values\n",
        "            index=['mse'],     # index\n",
        "            columns=cols_label)  #  column names\n",
        "  df_rmse_all = pd.DataFrame(data=rmse,    # values\n",
        "        index=['rme'],     # index\n",
        "        columns=cols_label)  #  column names\n",
        "  df_mae_all = pd.DataFrame(data=mae,    # values\n",
        "        index=['mae'],     # index\n",
        "        columns=cols_label)  #  column names\n",
        "  \n",
        "\n",
        "  metrics = [df_mse_per_feature, df_rmse_per_feature, df_mae_per_feature, \n",
        "             df_mse_all,df_rmse_all,df_mae_all]\n",
        "  return df_describe.append(metrics)"
      ],
      "execution_count": 0,
      "outputs": []
    },
    {
      "cell_type": "markdown",
      "metadata": {
        "id": "4gaR7IV326E_",
        "colab_type": "text"
      },
      "source": [
        "## define models"
      ]
    },
    {
      "cell_type": "code",
      "metadata": {
        "id": "Fhc2M4VD2_YP",
        "colab_type": "code",
        "colab": {}
      },
      "source": [
        "def create_model(model_name, layers, keras_activation, kernel_initializer, \n",
        "                 loss, metrics,  n_in=1, n_out=1):\n",
        "  if not layers:\n",
        "    raise Exception('No layers defined. Expected in format [100,100]') \n",
        "\n",
        " #prepare data\n",
        "  train_X, train_Y, test_X, test_Y, feature_scaler, label_scaler, labels = prepare_datasets(df_data, n_in, n_out)\n",
        "  features_nr = train_X.shape[1]\n",
        "  target_nr = train_Y.shape[1]\n",
        "    \n",
        "  model = keras.Sequential(name=model_name)\n",
        "  \n",
        "  model.add(Dense(layers[0],input_shape=(features_nr,), \n",
        "                          kernel_initializer=kernel_initializer))\n",
        "  model.add(keras_activation())\n",
        "  for i in range(1, len(layers)):\n",
        "    layer_val = layers[i]\n",
        "    model.add(Dense(layer_val, kernel_initializer=kernel_initializer))\n",
        "    model.add(keras_activation())\n",
        "\n",
        "  model.add(Dense(target_nr ))\n",
        "\n",
        "  model.compile(optimizer='adam',\n",
        "                        loss=loss,\n",
        "                        metrics=metrics)\n",
        "\n",
        "  model.summary()\n",
        "  print(model.to_json())\n",
        "  print(train_X.shape, train_Y.shape, test_X.shape, test_Y.shape)\n",
        "  return (model_name, model, (train_X, train_Y, test_X, test_Y), label_scaler, labels)\n"
      ],
      "execution_count": 0,
      "outputs": []
    },
    {
      "cell_type": "code",
      "metadata": {
        "id": "KwMj6E7mBL9m",
        "colab_type": "code",
        "outputId": "4c573cb8-1420-4674-9287-ff2e7d16cb46",
        "colab": {
          "base_uri": "https://localhost:8080/",
          "height": 1000
        }
      },
      "source": [
        "loss='mean_squared_error',\n",
        "metrics=['mean_squared_error', 'mean_absolute_error']\n",
        "\n",
        "\n",
        "model_2x600 = create_model('model_2x600', [600, 600], ReLU, 'he_uniform', \n",
        "             loss, metrics)\n",
        "\n",
        "\n",
        "model_2x500 = create_model('model_2x500', [500, 500], ReLU, 'he_uniform', \n",
        "             loss, metrics)\n",
        "\n",
        "\n",
        "model_2x600_elu = create_model('model_2x600_elu', [600, 600], ELU, 'he_uniform', \n",
        "             loss, metrics)\n",
        "\n",
        "\n",
        "model_2x500_elu = create_model('model_2x500_elu', [500, 500], ELU, 'he_uniform', \n",
        "             loss, metrics)\n",
        "\n",
        "\n",
        "models = [\n",
        "          model_2x600,\n",
        "          model_2x500,\n",
        "          model_2x600_elu,\n",
        "          model_2x500_elu,\n",
        "      \n",
        "]"
      ],
      "execution_count": 0,
      "outputs": [
        {
          "output_type": "stream",
          "text": [
            "Model: \"model_2x600\"\n",
            "_________________________________________________________________\n",
            "Layer (type)                 Output Shape              Param #   \n",
            "=================================================================\n",
            "dense (Dense)                (None, 600)               9000      \n",
            "_________________________________________________________________\n",
            "re_lu (ReLU)                 (None, 600)               0         \n",
            "_________________________________________________________________\n",
            "dense_1 (Dense)              (None, 600)               360600    \n",
            "_________________________________________________________________\n",
            "re_lu_1 (ReLU)               (None, 600)               0         \n",
            "_________________________________________________________________\n",
            "dense_2 (Dense)              (None, 9)                 5409      \n",
            "=================================================================\n",
            "Total params: 375,009\n",
            "Trainable params: 375,009\n",
            "Non-trainable params: 0\n",
            "_________________________________________________________________\n",
            "{\"class_name\": \"Sequential\", \"config\": {\"name\": \"model_2x600\", \"layers\": [{\"class_name\": \"Dense\", \"config\": {\"name\": \"dense\", \"trainable\": true, \"batch_input_shape\": [null, 14], \"dtype\": \"float32\", \"units\": 600, \"activation\": \"linear\", \"use_bias\": true, \"kernel_initializer\": {\"class_name\": \"VarianceScaling\", \"config\": {\"scale\": 2.0, \"mode\": \"fan_in\", \"distribution\": \"uniform\", \"seed\": null}}, \"bias_initializer\": {\"class_name\": \"Zeros\", \"config\": {}}, \"kernel_regularizer\": null, \"bias_regularizer\": null, \"activity_regularizer\": null, \"kernel_constraint\": null, \"bias_constraint\": null}}, {\"class_name\": \"ReLU\", \"config\": {\"name\": \"re_lu\", \"trainable\": true, \"dtype\": \"float32\", \"max_value\": null, \"negative_slope\": 0.0, \"threshold\": 0.0}}, {\"class_name\": \"Dense\", \"config\": {\"name\": \"dense_1\", \"trainable\": true, \"dtype\": \"float32\", \"units\": 600, \"activation\": \"linear\", \"use_bias\": true, \"kernel_initializer\": {\"class_name\": \"VarianceScaling\", \"config\": {\"scale\": 2.0, \"mode\": \"fan_in\", \"distribution\": \"uniform\", \"seed\": null}}, \"bias_initializer\": {\"class_name\": \"Zeros\", \"config\": {}}, \"kernel_regularizer\": null, \"bias_regularizer\": null, \"activity_regularizer\": null, \"kernel_constraint\": null, \"bias_constraint\": null}}, {\"class_name\": \"ReLU\", \"config\": {\"name\": \"re_lu_1\", \"trainable\": true, \"dtype\": \"float32\", \"max_value\": null, \"negative_slope\": 0.0, \"threshold\": 0.0}}, {\"class_name\": \"Dense\", \"config\": {\"name\": \"dense_2\", \"trainable\": true, \"dtype\": \"float32\", \"units\": 9, \"activation\": \"linear\", \"use_bias\": true, \"kernel_initializer\": {\"class_name\": \"GlorotUniform\", \"config\": {\"seed\": null}}, \"bias_initializer\": {\"class_name\": \"Zeros\", \"config\": {}}, \"kernel_regularizer\": null, \"bias_regularizer\": null, \"activity_regularizer\": null, \"kernel_constraint\": null, \"bias_constraint\": null}}]}, \"keras_version\": \"2.2.4-tf\", \"backend\": \"tensorflow\"}\n",
            "(330984, 14) (330984, 9) (146907, 14) (146907, 9)\n",
            "Model: \"model_2x500\"\n",
            "_________________________________________________________________\n",
            "Layer (type)                 Output Shape              Param #   \n",
            "=================================================================\n",
            "dense_3 (Dense)              (None, 500)               7500      \n",
            "_________________________________________________________________\n",
            "re_lu_2 (ReLU)               (None, 500)               0         \n",
            "_________________________________________________________________\n",
            "dense_4 (Dense)              (None, 500)               250500    \n",
            "_________________________________________________________________\n",
            "re_lu_3 (ReLU)               (None, 500)               0         \n",
            "_________________________________________________________________\n",
            "dense_5 (Dense)              (None, 9)                 4509      \n",
            "=================================================================\n",
            "Total params: 262,509\n",
            "Trainable params: 262,509\n",
            "Non-trainable params: 0\n",
            "_________________________________________________________________\n",
            "{\"class_name\": \"Sequential\", \"config\": {\"name\": \"model_2x500\", \"layers\": [{\"class_name\": \"Dense\", \"config\": {\"name\": \"dense_3\", \"trainable\": true, \"batch_input_shape\": [null, 14], \"dtype\": \"float32\", \"units\": 500, \"activation\": \"linear\", \"use_bias\": true, \"kernel_initializer\": {\"class_name\": \"VarianceScaling\", \"config\": {\"scale\": 2.0, \"mode\": \"fan_in\", \"distribution\": \"uniform\", \"seed\": null}}, \"bias_initializer\": {\"class_name\": \"Zeros\", \"config\": {}}, \"kernel_regularizer\": null, \"bias_regularizer\": null, \"activity_regularizer\": null, \"kernel_constraint\": null, \"bias_constraint\": null}}, {\"class_name\": \"ReLU\", \"config\": {\"name\": \"re_lu_2\", \"trainable\": true, \"dtype\": \"float32\", \"max_value\": null, \"negative_slope\": 0.0, \"threshold\": 0.0}}, {\"class_name\": \"Dense\", \"config\": {\"name\": \"dense_4\", \"trainable\": true, \"dtype\": \"float32\", \"units\": 500, \"activation\": \"linear\", \"use_bias\": true, \"kernel_initializer\": {\"class_name\": \"VarianceScaling\", \"config\": {\"scale\": 2.0, \"mode\": \"fan_in\", \"distribution\": \"uniform\", \"seed\": null}}, \"bias_initializer\": {\"class_name\": \"Zeros\", \"config\": {}}, \"kernel_regularizer\": null, \"bias_regularizer\": null, \"activity_regularizer\": null, \"kernel_constraint\": null, \"bias_constraint\": null}}, {\"class_name\": \"ReLU\", \"config\": {\"name\": \"re_lu_3\", \"trainable\": true, \"dtype\": \"float32\", \"max_value\": null, \"negative_slope\": 0.0, \"threshold\": 0.0}}, {\"class_name\": \"Dense\", \"config\": {\"name\": \"dense_5\", \"trainable\": true, \"dtype\": \"float32\", \"units\": 9, \"activation\": \"linear\", \"use_bias\": true, \"kernel_initializer\": {\"class_name\": \"GlorotUniform\", \"config\": {\"seed\": null}}, \"bias_initializer\": {\"class_name\": \"Zeros\", \"config\": {}}, \"kernel_regularizer\": null, \"bias_regularizer\": null, \"activity_regularizer\": null, \"kernel_constraint\": null, \"bias_constraint\": null}}]}, \"keras_version\": \"2.2.4-tf\", \"backend\": \"tensorflow\"}\n",
            "(330984, 14) (330984, 9) (146907, 14) (146907, 9)\n",
            "Model: \"model_2x600_elu\"\n",
            "_________________________________________________________________\n",
            "Layer (type)                 Output Shape              Param #   \n",
            "=================================================================\n",
            "dense_6 (Dense)              (None, 600)               9000      \n",
            "_________________________________________________________________\n",
            "elu (ELU)                    (None, 600)               0         \n",
            "_________________________________________________________________\n",
            "dense_7 (Dense)              (None, 600)               360600    \n",
            "_________________________________________________________________\n",
            "elu_1 (ELU)                  (None, 600)               0         \n",
            "_________________________________________________________________\n",
            "dense_8 (Dense)              (None, 9)                 5409      \n",
            "=================================================================\n",
            "Total params: 375,009\n",
            "Trainable params: 375,009\n",
            "Non-trainable params: 0\n",
            "_________________________________________________________________\n",
            "{\"class_name\": \"Sequential\", \"config\": {\"name\": \"model_2x600_elu\", \"layers\": [{\"class_name\": \"Dense\", \"config\": {\"name\": \"dense_6\", \"trainable\": true, \"batch_input_shape\": [null, 14], \"dtype\": \"float32\", \"units\": 600, \"activation\": \"linear\", \"use_bias\": true, \"kernel_initializer\": {\"class_name\": \"VarianceScaling\", \"config\": {\"scale\": 2.0, \"mode\": \"fan_in\", \"distribution\": \"uniform\", \"seed\": null}}, \"bias_initializer\": {\"class_name\": \"Zeros\", \"config\": {}}, \"kernel_regularizer\": null, \"bias_regularizer\": null, \"activity_regularizer\": null, \"kernel_constraint\": null, \"bias_constraint\": null}}, {\"class_name\": \"ELU\", \"config\": {\"name\": \"elu\", \"trainable\": true, \"dtype\": \"float32\", \"alpha\": 1.0}}, {\"class_name\": \"Dense\", \"config\": {\"name\": \"dense_7\", \"trainable\": true, \"dtype\": \"float32\", \"units\": 600, \"activation\": \"linear\", \"use_bias\": true, \"kernel_initializer\": {\"class_name\": \"VarianceScaling\", \"config\": {\"scale\": 2.0, \"mode\": \"fan_in\", \"distribution\": \"uniform\", \"seed\": null}}, \"bias_initializer\": {\"class_name\": \"Zeros\", \"config\": {}}, \"kernel_regularizer\": null, \"bias_regularizer\": null, \"activity_regularizer\": null, \"kernel_constraint\": null, \"bias_constraint\": null}}, {\"class_name\": \"ELU\", \"config\": {\"name\": \"elu_1\", \"trainable\": true, \"dtype\": \"float32\", \"alpha\": 1.0}}, {\"class_name\": \"Dense\", \"config\": {\"name\": \"dense_8\", \"trainable\": true, \"dtype\": \"float32\", \"units\": 9, \"activation\": \"linear\", \"use_bias\": true, \"kernel_initializer\": {\"class_name\": \"GlorotUniform\", \"config\": {\"seed\": null}}, \"bias_initializer\": {\"class_name\": \"Zeros\", \"config\": {}}, \"kernel_regularizer\": null, \"bias_regularizer\": null, \"activity_regularizer\": null, \"kernel_constraint\": null, \"bias_constraint\": null}}]}, \"keras_version\": \"2.2.4-tf\", \"backend\": \"tensorflow\"}\n",
            "(330984, 14) (330984, 9) (146907, 14) (146907, 9)\n",
            "Model: \"model_2x500_elu\"\n",
            "_________________________________________________________________\n",
            "Layer (type)                 Output Shape              Param #   \n",
            "=================================================================\n",
            "dense_9 (Dense)              (None, 500)               7500      \n",
            "_________________________________________________________________\n",
            "elu_2 (ELU)                  (None, 500)               0         \n",
            "_________________________________________________________________\n",
            "dense_10 (Dense)             (None, 500)               250500    \n",
            "_________________________________________________________________\n",
            "elu_3 (ELU)                  (None, 500)               0         \n",
            "_________________________________________________________________\n",
            "dense_11 (Dense)             (None, 9)                 4509      \n",
            "=================================================================\n",
            "Total params: 262,509\n",
            "Trainable params: 262,509\n",
            "Non-trainable params: 0\n",
            "_________________________________________________________________\n",
            "{\"class_name\": \"Sequential\", \"config\": {\"name\": \"model_2x500_elu\", \"layers\": [{\"class_name\": \"Dense\", \"config\": {\"name\": \"dense_9\", \"trainable\": true, \"batch_input_shape\": [null, 14], \"dtype\": \"float32\", \"units\": 500, \"activation\": \"linear\", \"use_bias\": true, \"kernel_initializer\": {\"class_name\": \"VarianceScaling\", \"config\": {\"scale\": 2.0, \"mode\": \"fan_in\", \"distribution\": \"uniform\", \"seed\": null}}, \"bias_initializer\": {\"class_name\": \"Zeros\", \"config\": {}}, \"kernel_regularizer\": null, \"bias_regularizer\": null, \"activity_regularizer\": null, \"kernel_constraint\": null, \"bias_constraint\": null}}, {\"class_name\": \"ELU\", \"config\": {\"name\": \"elu_2\", \"trainable\": true, \"dtype\": \"float32\", \"alpha\": 1.0}}, {\"class_name\": \"Dense\", \"config\": {\"name\": \"dense_10\", \"trainable\": true, \"dtype\": \"float32\", \"units\": 500, \"activation\": \"linear\", \"use_bias\": true, \"kernel_initializer\": {\"class_name\": \"VarianceScaling\", \"config\": {\"scale\": 2.0, \"mode\": \"fan_in\", \"distribution\": \"uniform\", \"seed\": null}}, \"bias_initializer\": {\"class_name\": \"Zeros\", \"config\": {}}, \"kernel_regularizer\": null, \"bias_regularizer\": null, \"activity_regularizer\": null, \"kernel_constraint\": null, \"bias_constraint\": null}}, {\"class_name\": \"ELU\", \"config\": {\"name\": \"elu_3\", \"trainable\": true, \"dtype\": \"float32\", \"alpha\": 1.0}}, {\"class_name\": \"Dense\", \"config\": {\"name\": \"dense_11\", \"trainable\": true, \"dtype\": \"float32\", \"units\": 9, \"activation\": \"linear\", \"use_bias\": true, \"kernel_initializer\": {\"class_name\": \"GlorotUniform\", \"config\": {\"seed\": null}}, \"bias_initializer\": {\"class_name\": \"Zeros\", \"config\": {}}, \"kernel_regularizer\": null, \"bias_regularizer\": null, \"activity_regularizer\": null, \"kernel_constraint\": null, \"bias_constraint\": null}}]}, \"keras_version\": \"2.2.4-tf\", \"backend\": \"tensorflow\"}\n",
            "(330984, 14) (330984, 9) (146907, 14) (146907, 9)\n"
          ],
          "name": "stdout"
        }
      ]
    },
    {
      "cell_type": "markdown",
      "metadata": {
        "id": "HtFN-OP2HlqQ",
        "colab_type": "text"
      },
      "source": [
        "## train, save and load model"
      ]
    },
    {
      "cell_type": "code",
      "metadata": {
        "id": "DDmtdBRxJKJd",
        "colab_type": "code",
        "colab": {}
      },
      "source": [
        "def train_model(model_tupel, epochs, batch_size):\n",
        "  model_name = model_tupel[0]\n",
        "  keras_model = model_tupel[1]\n",
        "  train_X, train_Y, test_X, test_Y = model_tupel[2]\n",
        "\n",
        "  callbacks = [\n",
        "              #prepare_checkpoint_callback(model_name=model_name),\n",
        "              #prepare_tensorboard_callback(model_name=model_name)\n",
        "              ]\n",
        "\n",
        "  history = keras_model.fit(train_X,\n",
        "                            train_Y,\n",
        "                            epochs=epochs,\n",
        "                            batch_size=batch_size,\n",
        "                            validation_data=(test_X, test_Y),\n",
        "                            verbose=2,\n",
        "                            callbacks=callbacks\n",
        "                            )\n",
        "  return history  \n",
        "\n",
        "def _format_model_path(model_name):\n",
        "  file_name = '{}_end'.format(model_name)\n",
        "  return os.path.join(saved_model_weight_path, file_name)\n",
        "\n",
        "def save_model(model_tupel):\n",
        "  model_name = model_tupel[0]\n",
        "  keras_model = model_tupel[1]\n",
        "  file_path = _format_model_path(model_name)\n",
        "  keras_model.save_weights(file_path)\n",
        "\n",
        "def load_model(model_tupel):\n",
        "  model_name = model_tupel[0]\n",
        "  keras_model = model_tupel[1]\n",
        "  file_path = _format_model_path(model_name)\n",
        "  exact_file_path = file_path + '.index'\n",
        "  if os.path.isfile(exact_file_path):\n",
        "    print('load model {}'.format(model_name))\n",
        "    keras_model.load_weights(file_path)\n",
        "    return True\n",
        "  else:\n",
        "    return False\n",
        "\n",
        "def _format_history_path(model_name):\n",
        "  file_name = '{}_history_dict'.format(model_name)\n",
        "  return os.path.join(results_folder, file_name)\n",
        "  \n",
        "\n",
        "def save_history(model_tupel, history):\n",
        "  file_path = _format_history_path(model_tupel[0])\n",
        "  with open(file_path, 'wb') as file_hist:\n",
        "        pickle.dump(history.history, file_hist)\n",
        "  \n",
        "\n",
        "def load_history(model_tupel):\n",
        "  file_path = _format_history_path(model_tupel[0])\n",
        "  if not os.path.isfile(file_path):\n",
        "    return dict()\n",
        "  with open(file_path, 'rb') as file_hist:\n",
        "    return pickle.load(file_hist)"
      ],
      "execution_count": 0,
      "outputs": []
    },
    {
      "cell_type": "code",
      "metadata": {
        "id": "DxQg934JhE_H",
        "colab_type": "code",
        "outputId": "a1467558-6c63-4e60-c1b5-460acc9021b9",
        "colab": {
          "base_uri": "https://localhost:8080/",
          "height": 1000
        }
      },
      "source": [
        "histories = []\n",
        "for model in models:\n",
        "  if not load_model(model):\n",
        "    print(model[0])\n",
        "    history = train_model(model, epochs=20, batch_size=64)\n",
        "    save_model(model)\n",
        "    save_history(model, history)\n",
        "    histories.append(history.history)\n",
        "    print('*******************')\n",
        "  else:\n",
        "    history = load_history(model)\n",
        "    histories.append(history)"
      ],
      "execution_count": 0,
      "outputs": [
        {
          "output_type": "stream",
          "text": [
            "model_2x600\n",
            "Train on 330984 samples, validate on 146907 samples\n",
            "Epoch 1/20\n",
            "330984/330984 - 24s - loss: 6.4375e-04 - mean_squared_error: 6.4375e-04 - mean_absolute_error: 0.0100 - val_loss: 2.3723e-04 - val_mean_squared_error: 2.3723e-04 - val_mean_absolute_error: 0.0119\n",
            "Epoch 2/20\n",
            "330984/330984 - 22s - loss: 5.7512e-05 - mean_squared_error: 5.7512e-05 - mean_absolute_error: 0.0053 - val_loss: 4.1348e-05 - val_mean_squared_error: 4.1348e-05 - val_mean_absolute_error: 0.0039\n",
            "Epoch 3/20\n",
            "330984/330984 - 22s - loss: 1.9603e-05 - mean_squared_error: 1.9603e-05 - mean_absolute_error: 0.0032 - val_loss: 4.1856e-05 - val_mean_squared_error: 4.1856e-05 - val_mean_absolute_error: 0.0047\n",
            "Epoch 4/20\n",
            "330984/330984 - 23s - loss: 1.3316e-05 - mean_squared_error: 1.3316e-05 - mean_absolute_error: 0.0025 - val_loss: 3.1651e-05 - val_mean_squared_error: 3.1651e-05 - val_mean_absolute_error: 0.0036\n",
            "Epoch 5/20\n",
            "330984/330984 - 22s - loss: 1.0686e-05 - mean_squared_error: 1.0686e-05 - mean_absolute_error: 0.0022 - val_loss: 3.3938e-05 - val_mean_squared_error: 3.3938e-05 - val_mean_absolute_error: 0.0033\n",
            "Epoch 6/20\n",
            "330984/330984 - 23s - loss: 8.6787e-06 - mean_squared_error: 8.6787e-06 - mean_absolute_error: 0.0019 - val_loss: 2.1567e-04 - val_mean_squared_error: 2.1567e-04 - val_mean_absolute_error: 0.0102\n",
            "Epoch 7/20\n",
            "330984/330984 - 22s - loss: 7.6905e-06 - mean_squared_error: 7.6905e-06 - mean_absolute_error: 0.0018 - val_loss: 2.7500e-05 - val_mean_squared_error: 2.7500e-05 - val_mean_absolute_error: 0.0030\n",
            "Epoch 8/20\n",
            "330984/330984 - 22s - loss: 7.1018e-06 - mean_squared_error: 7.1018e-06 - mean_absolute_error: 0.0017 - val_loss: 2.7892e-05 - val_mean_squared_error: 2.7892e-05 - val_mean_absolute_error: 0.0029\n",
            "Epoch 9/20\n",
            "330984/330984 - 22s - loss: 6.7778e-06 - mean_squared_error: 6.7777e-06 - mean_absolute_error: 0.0016 - val_loss: 2.5338e-05 - val_mean_squared_error: 2.5338e-05 - val_mean_absolute_error: 0.0028\n",
            "Epoch 10/20\n",
            "330984/330984 - 22s - loss: 6.7134e-06 - mean_squared_error: 6.7134e-06 - mean_absolute_error: 0.0016 - val_loss: 2.3812e-05 - val_mean_squared_error: 2.3812e-05 - val_mean_absolute_error: 0.0023\n",
            "Epoch 11/20\n",
            "330984/330984 - 22s - loss: 5.6669e-06 - mean_squared_error: 5.6669e-06 - mean_absolute_error: 0.0015 - val_loss: 3.0422e-05 - val_mean_squared_error: 3.0422e-05 - val_mean_absolute_error: 0.0035\n",
            "Epoch 12/20\n",
            "330984/330984 - 22s - loss: 5.7604e-06 - mean_squared_error: 5.7604e-06 - mean_absolute_error: 0.0014 - val_loss: 2.6814e-05 - val_mean_squared_error: 2.6814e-05 - val_mean_absolute_error: 0.0029\n",
            "Epoch 13/20\n",
            "330984/330984 - 22s - loss: 5.4345e-06 - mean_squared_error: 5.4345e-06 - mean_absolute_error: 0.0014 - val_loss: 2.6699e-05 - val_mean_squared_error: 2.6699e-05 - val_mean_absolute_error: 0.0029\n",
            "Epoch 14/20\n",
            "330984/330984 - 22s - loss: 5.0344e-06 - mean_squared_error: 5.0344e-06 - mean_absolute_error: 0.0013 - val_loss: 2.4391e-05 - val_mean_squared_error: 2.4391e-05 - val_mean_absolute_error: 0.0027\n",
            "Epoch 15/20\n",
            "330984/330984 - 22s - loss: 5.1357e-06 - mean_squared_error: 5.1357e-06 - mean_absolute_error: 0.0013 - val_loss: 2.3646e-05 - val_mean_squared_error: 2.3646e-05 - val_mean_absolute_error: 0.0021\n",
            "Epoch 16/20\n",
            "330984/330984 - 22s - loss: 4.8279e-06 - mean_squared_error: 4.8279e-06 - mean_absolute_error: 0.0013 - val_loss: 2.8392e-05 - val_mean_squared_error: 2.8392e-05 - val_mean_absolute_error: 0.0031\n",
            "Epoch 17/20\n",
            "330984/330984 - 22s - loss: 4.9948e-06 - mean_squared_error: 4.9948e-06 - mean_absolute_error: 0.0013 - val_loss: 2.6152e-05 - val_mean_squared_error: 2.6152e-05 - val_mean_absolute_error: 0.0023\n",
            "Epoch 18/20\n",
            "330984/330984 - 23s - loss: 4.5711e-06 - mean_squared_error: 4.5711e-06 - mean_absolute_error: 0.0012 - val_loss: 2.7323e-05 - val_mean_squared_error: 2.7323e-05 - val_mean_absolute_error: 0.0025\n",
            "Epoch 19/20\n",
            "330984/330984 - 22s - loss: 4.6247e-06 - mean_squared_error: 4.6247e-06 - mean_absolute_error: 0.0012 - val_loss: 2.5956e-05 - val_mean_squared_error: 2.5956e-05 - val_mean_absolute_error: 0.0022\n",
            "Epoch 20/20\n",
            "330984/330984 - 22s - loss: 4.3811e-06 - mean_squared_error: 4.3811e-06 - mean_absolute_error: 0.0012 - val_loss: 2.7311e-05 - val_mean_squared_error: 2.7311e-05 - val_mean_absolute_error: 0.0024\n",
            "*******************\n",
            "model_2x500\n",
            "Train on 330984 samples, validate on 146907 samples\n",
            "Epoch 1/20\n",
            "330984/330984 - 22s - loss: 6.5979e-04 - mean_squared_error: 6.5979e-04 - mean_absolute_error: 0.0107 - val_loss: 1.7960e-04 - val_mean_squared_error: 1.7960e-04 - val_mean_absolute_error: 0.0101\n",
            "Epoch 2/20\n",
            "330984/330984 - 22s - loss: 6.1035e-05 - mean_squared_error: 6.1035e-05 - mean_absolute_error: 0.0059 - val_loss: 6.2443e-05 - val_mean_squared_error: 6.2443e-05 - val_mean_absolute_error: 0.0052\n",
            "Epoch 3/20\n",
            "330984/330984 - 22s - loss: 2.4873e-05 - mean_squared_error: 2.4873e-05 - mean_absolute_error: 0.0036 - val_loss: 4.0575e-05 - val_mean_squared_error: 4.0575e-05 - val_mean_absolute_error: 0.0041\n",
            "Epoch 4/20\n",
            "330984/330984 - 22s - loss: 1.4485e-05 - mean_squared_error: 1.4485e-05 - mean_absolute_error: 0.0026 - val_loss: 3.3657e-05 - val_mean_squared_error: 3.3657e-05 - val_mean_absolute_error: 0.0034\n",
            "Epoch 5/20\n",
            "330984/330984 - 22s - loss: 1.1213e-05 - mean_squared_error: 1.1213e-05 - mean_absolute_error: 0.0022 - val_loss: 3.1001e-05 - val_mean_squared_error: 3.1002e-05 - val_mean_absolute_error: 0.0033\n",
            "Epoch 6/20\n",
            "330984/330984 - 21s - loss: 8.7207e-06 - mean_squared_error: 8.7207e-06 - mean_absolute_error: 0.0020 - val_loss: 2.8462e-05 - val_mean_squared_error: 2.8462e-05 - val_mean_absolute_error: 0.0032\n",
            "Epoch 7/20\n",
            "330984/330984 - 22s - loss: 7.9924e-06 - mean_squared_error: 7.9924e-06 - mean_absolute_error: 0.0018 - val_loss: 6.1257e-05 - val_mean_squared_error: 6.1257e-05 - val_mean_absolute_error: 0.0053\n",
            "Epoch 8/20\n",
            "330984/330984 - 21s - loss: 7.0471e-06 - mean_squared_error: 7.0471e-06 - mean_absolute_error: 0.0017 - val_loss: 2.3842e-05 - val_mean_squared_error: 2.3842e-05 - val_mean_absolute_error: 0.0027\n",
            "Epoch 9/20\n",
            "330984/330984 - 22s - loss: 6.4901e-06 - mean_squared_error: 6.4901e-06 - mean_absolute_error: 0.0016 - val_loss: 2.5442e-05 - val_mean_squared_error: 2.5442e-05 - val_mean_absolute_error: 0.0029\n",
            "Epoch 10/20\n",
            "330984/330984 - 22s - loss: 6.1697e-06 - mean_squared_error: 6.1697e-06 - mean_absolute_error: 0.0015 - val_loss: 2.0118e-05 - val_mean_squared_error: 2.0118e-05 - val_mean_absolute_error: 0.0022\n",
            "Epoch 11/20\n",
            "330984/330984 - 21s - loss: 5.7589e-06 - mean_squared_error: 5.7590e-06 - mean_absolute_error: 0.0014 - val_loss: 2.4547e-05 - val_mean_squared_error: 2.4547e-05 - val_mean_absolute_error: 0.0031\n",
            "Epoch 12/20\n",
            "330984/330984 - 23s - loss: 5.6776e-06 - mean_squared_error: 5.6776e-06 - mean_absolute_error: 0.0014 - val_loss: 1.8668e-05 - val_mean_squared_error: 1.8668e-05 - val_mean_absolute_error: 0.0023\n",
            "Epoch 13/20\n",
            "330984/330984 - 22s - loss: 5.2808e-06 - mean_squared_error: 5.2808e-06 - mean_absolute_error: 0.0014 - val_loss: 1.8698e-05 - val_mean_squared_error: 1.8698e-05 - val_mean_absolute_error: 0.0023\n",
            "Epoch 14/20\n",
            "330984/330984 - 22s - loss: 5.2096e-06 - mean_squared_error: 5.2096e-06 - mean_absolute_error: 0.0013 - val_loss: 1.7065e-05 - val_mean_squared_error: 1.7065e-05 - val_mean_absolute_error: 0.0020\n",
            "Epoch 15/20\n",
            "330984/330984 - 22s - loss: 5.1952e-06 - mean_squared_error: 5.1952e-06 - mean_absolute_error: 0.0013 - val_loss: 1.8894e-05 - val_mean_squared_error: 1.8894e-05 - val_mean_absolute_error: 0.0020\n",
            "Epoch 16/20\n",
            "330984/330984 - 22s - loss: 4.9892e-06 - mean_squared_error: 4.9892e-06 - mean_absolute_error: 0.0013 - val_loss: 2.0519e-05 - val_mean_squared_error: 2.0519e-05 - val_mean_absolute_error: 0.0022\n",
            "Epoch 17/20\n",
            "330984/330984 - 22s - loss: 4.6606e-06 - mean_squared_error: 4.6606e-06 - mean_absolute_error: 0.0013 - val_loss: 2.1184e-05 - val_mean_squared_error: 2.1184e-05 - val_mean_absolute_error: 0.0024\n",
            "Epoch 18/20\n",
            "330984/330984 - 22s - loss: 4.5586e-06 - mean_squared_error: 4.5586e-06 - mean_absolute_error: 0.0012 - val_loss: 1.8652e-05 - val_mean_squared_error: 1.8652e-05 - val_mean_absolute_error: 0.0021\n",
            "Epoch 19/20\n",
            "330984/330984 - 22s - loss: 4.5587e-06 - mean_squared_error: 4.5587e-06 - mean_absolute_error: 0.0012 - val_loss: 1.9601e-05 - val_mean_squared_error: 1.9601e-05 - val_mean_absolute_error: 0.0021\n",
            "Epoch 20/20\n",
            "330984/330984 - 22s - loss: 4.5717e-06 - mean_squared_error: 4.5717e-06 - mean_absolute_error: 0.0012 - val_loss: 2.0211e-05 - val_mean_squared_error: 2.0211e-05 - val_mean_absolute_error: 0.0020\n",
            "*******************\n",
            "model_2x600_elu\n",
            "Train on 330984 samples, validate on 146907 samples\n",
            "Epoch 1/20\n",
            "330984/330984 - 23s - loss: 0.0027 - mean_squared_error: 0.0027 - mean_absolute_error: 0.0239 - val_loss: 1.6420e-04 - val_mean_squared_error: 1.6420e-04 - val_mean_absolute_error: 0.0103\n",
            "Epoch 2/20\n",
            "330984/330984 - 22s - loss: 4.3590e-04 - mean_squared_error: 4.3590e-04 - mean_absolute_error: 0.0148 - val_loss: 4.0168e-04 - val_mean_squared_error: 4.0168e-04 - val_mean_absolute_error: 0.0161\n",
            "Epoch 3/20\n",
            "330984/330984 - 22s - loss: 2.8267e-04 - mean_squared_error: 2.8267e-04 - mean_absolute_error: 0.0119 - val_loss: 3.3608e-04 - val_mean_squared_error: 3.3608e-04 - val_mean_absolute_error: 0.0141\n",
            "Epoch 4/20\n",
            "330984/330984 - 22s - loss: 2.6078e-04 - mean_squared_error: 2.6078e-04 - mean_absolute_error: 0.0109 - val_loss: 2.0646e-04 - val_mean_squared_error: 2.0646e-04 - val_mean_absolute_error: 0.0110\n",
            "Epoch 5/20\n",
            "330984/330984 - 22s - loss: 2.4896e-04 - mean_squared_error: 2.4896e-04 - mean_absolute_error: 0.0105 - val_loss: 6.1008e-05 - val_mean_squared_error: 6.1008e-05 - val_mean_absolute_error: 0.0045\n",
            "Epoch 6/20\n",
            "330984/330984 - 23s - loss: 2.4758e-04 - mean_squared_error: 2.4758e-04 - mean_absolute_error: 0.0103 - val_loss: 6.6642e-05 - val_mean_squared_error: 6.6642e-05 - val_mean_absolute_error: 0.0048\n",
            "Epoch 7/20\n",
            "330984/330984 - 22s - loss: 2.1178e-04 - mean_squared_error: 2.1178e-04 - mean_absolute_error: 0.0095 - val_loss: 7.9676e-05 - val_mean_squared_error: 7.9676e-05 - val_mean_absolute_error: 0.0051\n",
            "Epoch 8/20\n",
            "330984/330984 - 22s - loss: 2.2078e-04 - mean_squared_error: 2.2078e-04 - mean_absolute_error: 0.0092 - val_loss: 7.6464e-05 - val_mean_squared_error: 7.6464e-05 - val_mean_absolute_error: 0.0058\n",
            "Epoch 9/20\n",
            "330984/330984 - 22s - loss: 2.0163e-04 - mean_squared_error: 2.0163e-04 - mean_absolute_error: 0.0098 - val_loss: 2.1700e-04 - val_mean_squared_error: 2.1700e-04 - val_mean_absolute_error: 0.0116\n",
            "Epoch 10/20\n",
            "330984/330984 - 22s - loss: 2.2865e-04 - mean_squared_error: 2.2865e-04 - mean_absolute_error: 0.0092 - val_loss: 7.3109e-05 - val_mean_squared_error: 7.3109e-05 - val_mean_absolute_error: 0.0047\n",
            "Epoch 11/20\n",
            "330984/330984 - 22s - loss: 1.8700e-04 - mean_squared_error: 1.8700e-04 - mean_absolute_error: 0.0091 - val_loss: 1.2072e-04 - val_mean_squared_error: 1.2072e-04 - val_mean_absolute_error: 0.0074\n",
            "Epoch 12/20\n",
            "330984/330984 - 22s - loss: 1.8695e-04 - mean_squared_error: 1.8695e-04 - mean_absolute_error: 0.0094 - val_loss: 0.0020 - val_mean_squared_error: 0.0020 - val_mean_absolute_error: 0.0400\n",
            "Epoch 13/20\n",
            "330984/330984 - 22s - loss: 1.8105e-04 - mean_squared_error: 1.8106e-04 - mean_absolute_error: 0.0090 - val_loss: 0.0011 - val_mean_squared_error: 0.0011 - val_mean_absolute_error: 0.0307\n",
            "Epoch 14/20\n",
            "330984/330984 - 22s - loss: 1.8297e-04 - mean_squared_error: 1.8297e-04 - mean_absolute_error: 0.0091 - val_loss: 4.5695e-05 - val_mean_squared_error: 4.5695e-05 - val_mean_absolute_error: 0.0039\n",
            "Epoch 15/20\n",
            "330984/330984 - 22s - loss: 1.7347e-04 - mean_squared_error: 1.7347e-04 - mean_absolute_error: 0.0086 - val_loss: 6.2799e-05 - val_mean_squared_error: 6.2799e-05 - val_mean_absolute_error: 0.0054\n",
            "Epoch 16/20\n",
            "330984/330984 - 22s - loss: 1.6567e-04 - mean_squared_error: 1.6567e-04 - mean_absolute_error: 0.0088 - val_loss: 1.2189e-04 - val_mean_squared_error: 1.2189e-04 - val_mean_absolute_error: 0.0079\n",
            "Epoch 17/20\n",
            "330984/330984 - 22s - loss: 1.6583e-04 - mean_squared_error: 1.6583e-04 - mean_absolute_error: 0.0086 - val_loss: 1.4371e-04 - val_mean_squared_error: 1.4371e-04 - val_mean_absolute_error: 0.0094\n",
            "Epoch 18/20\n",
            "330984/330984 - 22s - loss: 1.6116e-04 - mean_squared_error: 1.6116e-04 - mean_absolute_error: 0.0085 - val_loss: 4.6236e-05 - val_mean_squared_error: 4.6236e-05 - val_mean_absolute_error: 0.0039\n",
            "Epoch 19/20\n",
            "330984/330984 - 22s - loss: 1.5848e-04 - mean_squared_error: 1.5848e-04 - mean_absolute_error: 0.0082 - val_loss: 2.1056e-04 - val_mean_squared_error: 2.1056e-04 - val_mean_absolute_error: 0.0103\n",
            "Epoch 20/20\n",
            "330984/330984 - 23s - loss: 1.4646e-04 - mean_squared_error: 1.4646e-04 - mean_absolute_error: 0.0082 - val_loss: 1.0614e-04 - val_mean_squared_error: 1.0614e-04 - val_mean_absolute_error: 0.0078\n",
            "*******************\n",
            "model_2x500_elu\n",
            "Train on 330984 samples, validate on 146907 samples\n",
            "Epoch 1/20\n",
            "330984/330984 - 23s - loss: 0.0027 - mean_squared_error: 0.0027 - mean_absolute_error: 0.0225 - val_loss: 0.0033 - val_mean_squared_error: 0.0033 - val_mean_absolute_error: 0.0391\n",
            "Epoch 2/20\n",
            "330984/330984 - 23s - loss: 3.6537e-04 - mean_squared_error: 3.6537e-04 - mean_absolute_error: 0.0131 - val_loss: 6.1856e-04 - val_mean_squared_error: 6.1856e-04 - val_mean_absolute_error: 0.0194\n",
            "Epoch 3/20\n",
            "330984/330984 - 22s - loss: 2.1796e-04 - mean_squared_error: 2.1796e-04 - mean_absolute_error: 0.0105 - val_loss: 1.4423e-04 - val_mean_squared_error: 1.4423e-04 - val_mean_absolute_error: 0.0096\n",
            "Epoch 4/20\n",
            "330984/330984 - 22s - loss: 2.1510e-04 - mean_squared_error: 2.1509e-04 - mean_absolute_error: 0.0087 - val_loss: 5.6610e-05 - val_mean_squared_error: 5.6610e-05 - val_mean_absolute_error: 0.0053\n",
            "Epoch 5/20\n",
            "330984/330984 - 22s - loss: 1.6283e-04 - mean_squared_error: 1.6283e-04 - mean_absolute_error: 0.0091 - val_loss: 3.0251e-04 - val_mean_squared_error: 3.0251e-04 - val_mean_absolute_error: 0.0140\n",
            "Epoch 6/20\n",
            "330984/330984 - 22s - loss: 1.7129e-04 - mean_squared_error: 1.7129e-04 - mean_absolute_error: 0.0083 - val_loss: 1.3434e-04 - val_mean_squared_error: 1.3434e-04 - val_mean_absolute_error: 0.0095\n",
            "Epoch 7/20\n",
            "330984/330984 - 22s - loss: 1.6233e-04 - mean_squared_error: 1.6233e-04 - mean_absolute_error: 0.0080 - val_loss: 3.3588e-04 - val_mean_squared_error: 3.3588e-04 - val_mean_absolute_error: 0.0131\n",
            "Epoch 8/20\n",
            "330984/330984 - 22s - loss: 1.4333e-04 - mean_squared_error: 1.4333e-04 - mean_absolute_error: 0.0084 - val_loss: 8.7014e-05 - val_mean_squared_error: 8.7015e-05 - val_mean_absolute_error: 0.0058\n",
            "Epoch 9/20\n",
            "330984/330984 - 22s - loss: 1.4339e-04 - mean_squared_error: 1.4339e-04 - mean_absolute_error: 0.0080 - val_loss: 2.8959e-04 - val_mean_squared_error: 2.8959e-04 - val_mean_absolute_error: 0.0123\n",
            "Epoch 10/20\n",
            "330984/330984 - 22s - loss: 1.3726e-04 - mean_squared_error: 1.3726e-04 - mean_absolute_error: 0.0081 - val_loss: 1.0104e-04 - val_mean_squared_error: 1.0104e-04 - val_mean_absolute_error: 0.0070\n",
            "Epoch 11/20\n",
            "330984/330984 - 22s - loss: 1.3877e-04 - mean_squared_error: 1.3877e-04 - mean_absolute_error: 0.0080 - val_loss: 1.8989e-04 - val_mean_squared_error: 1.8989e-04 - val_mean_absolute_error: 0.0098\n",
            "Epoch 12/20\n",
            "330984/330984 - 22s - loss: 1.3552e-04 - mean_squared_error: 1.3552e-04 - mean_absolute_error: 0.0076 - val_loss: 3.1361e-04 - val_mean_squared_error: 3.1361e-04 - val_mean_absolute_error: 0.0138\n",
            "Epoch 13/20\n",
            "330984/330984 - 22s - loss: 1.3014e-04 - mean_squared_error: 1.3014e-04 - mean_absolute_error: 0.0080 - val_loss: 7.3900e-05 - val_mean_squared_error: 7.3900e-05 - val_mean_absolute_error: 0.0056\n",
            "Epoch 14/20\n",
            "330984/330984 - 23s - loss: 1.4637e-04 - mean_squared_error: 1.4637e-04 - mean_absolute_error: 0.0071 - val_loss: 8.7216e-04 - val_mean_squared_error: 8.7216e-04 - val_mean_absolute_error: 0.0254\n",
            "Epoch 15/20\n",
            "330984/330984 - 22s - loss: 1.2785e-04 - mean_squared_error: 1.2785e-04 - mean_absolute_error: 0.0077 - val_loss: 6.5994e-04 - val_mean_squared_error: 6.5994e-04 - val_mean_absolute_error: 0.0191\n",
            "Epoch 16/20\n",
            "330984/330984 - 23s - loss: 1.2402e-04 - mean_squared_error: 1.2402e-04 - mean_absolute_error: 0.0074 - val_loss: 1.5368e-04 - val_mean_squared_error: 1.5368e-04 - val_mean_absolute_error: 0.0097\n",
            "Epoch 17/20\n",
            "330984/330984 - 22s - loss: 1.2094e-04 - mean_squared_error: 1.2094e-04 - mean_absolute_error: 0.0074 - val_loss: 1.7000e-04 - val_mean_squared_error: 1.7000e-04 - val_mean_absolute_error: 0.0100\n",
            "Epoch 18/20\n",
            "330984/330984 - 22s - loss: 1.1750e-04 - mean_squared_error: 1.1750e-04 - mean_absolute_error: 0.0073 - val_loss: 3.1039e-04 - val_mean_squared_error: 3.1039e-04 - val_mean_absolute_error: 0.0138\n",
            "Epoch 19/20\n",
            "330984/330984 - 22s - loss: 1.3154e-04 - mean_squared_error: 1.3154e-04 - mean_absolute_error: 0.0073 - val_loss: 1.7821e-04 - val_mean_squared_error: 1.7821e-04 - val_mean_absolute_error: 0.0096\n",
            "Epoch 20/20\n",
            "330984/330984 - 22s - loss: 1.0195e-04 - mean_squared_error: 1.0195e-04 - mean_absolute_error: 0.0064 - val_loss: 2.5875e-04 - val_mean_squared_error: 2.5875e-04 - val_mean_absolute_error: 0.0131\n",
            "*******************\n"
          ],
          "name": "stdout"
        }
      ]
    },
    {
      "cell_type": "markdown",
      "metadata": {
        "id": "XRLpUIJnZ-eq",
        "colab_type": "text"
      },
      "source": [
        "## visualize"
      ]
    },
    {
      "cell_type": "markdown",
      "metadata": {
        "id": "8X1nsxWEO59n",
        "colab_type": "text"
      },
      "source": [
        "### Test & Training Loss"
      ]
    },
    {
      "cell_type": "code",
      "metadata": {
        "id": "q7eOZ0lAe1CP",
        "colab_type": "code",
        "outputId": "dd28e1b2-3164-4086-b5d8-d266290bbe92",
        "colab": {
          "base_uri": "https://localhost:8080/",
          "height": 231
        }
      },
      "source": [
        "for i, history in enumerate(histories):\n",
        "  last_loss = history['loss'][-1]\n",
        "  last_val_loss = history['val_loss'][-1]\n",
        "  model_name = models[i][0]\n",
        "  print('{} model last loss: {}'.format(model_name,last_loss))\n",
        "  print('{} model last val loss: {}'.format(model_name,last_val_loss))\n",
        "  print('*******')"
      ],
      "execution_count": 0,
      "outputs": [
        {
          "output_type": "stream",
          "text": [
            "model_2x600 model last loss: 4.3811019008080855e-06\n",
            "model_2x600 model last val loss: 2.73112329618605e-05\n",
            "*******\n",
            "model_2x500 model last loss: 4.571732594760954e-06\n",
            "model_2x500 model last val loss: 2.0211370794609464e-05\n",
            "*******\n",
            "model_2x600_elu model last loss: 0.00014646402741449972\n",
            "model_2x600_elu model last val loss: 0.00010613669563114957\n",
            "*******\n",
            "model_2x500_elu model last loss: 0.0001019519197508384\n",
            "model_2x500_elu model last val loss: 0.00025875153917055915\n",
            "*******\n"
          ],
          "name": "stdout"
        }
      ]
    },
    {
      "cell_type": "code",
      "metadata": {
        "id": "gbFhTgXGITKV",
        "colab_type": "code",
        "outputId": "3151f3e2-6880-4be1-8541-756f85fec15b",
        "colab": {
          "base_uri": "https://localhost:8080/",
          "height": 606
        }
      },
      "source": [
        "pas_history(models, histories=histories)"
      ],
      "execution_count": 0,
      "outputs": [
        {
          "output_type": "display_data",
          "data": {
            "image/png": "[encoded data removed]",
            "text/plain": [
              "<Figure size 1152x720 with 1 Axes>"
            ]
          },
          "metadata": {
            "tags": []
          }
        }
      ]
    },
    {
      "cell_type": "markdown",
      "metadata": {
        "id": "4vT7MLiJPSQ2",
        "colab_type": "text"
      },
      "source": [
        "\n",
        "### MSE per target (scaled)"
      ]
    },
    {
      "cell_type": "code",
      "metadata": {
        "id": "o03Cq_x5nhRe",
        "colab_type": "code",
        "outputId": "d9ab333b-8a3e-4e78-9dbc-d72749278f6a",
        "colab": {
          "base_uri": "https://localhost:8080/",
          "height": 1000
        }
      },
      "source": [
        "for model_tupel in models:\n",
        "  df = pas_metrics_scaled(model_tupel)\n",
        "  print(model_tupel[0])\n",
        "  with pd.option_context('display.max_rows', None, 'display.max_columns', None,\n",
        "                         'display.width', 1000): \n",
        "    print(df)\n",
        "  print('*********************************************************')"
      ],
      "execution_count": 0,
      "outputs": [
        {
          "output_type": "stream",
          "text": [
            "model_2x600\n",
            "          Vtrue,_ktas      __VVI,__fpm      ____Q,rad/s      ____P,rad/s      ____R,rad/s      pitch,__deg      _roll,__deg      _beta,__deg      __alt,ftmsl \n",
            "count    146907.000000    146907.000000    146907.000000    146907.000000    146907.000000    146907.000000    146907.000000    146907.000000    146907.000000\n",
            "mean          0.504412         0.737227         0.570341         0.485060         0.485233         0.531587         0.464654         0.620080         0.541116\n",
            "std           0.106511         0.106115         0.096593         0.137143         0.297851         0.109146         0.243538         0.211064         0.313282\n",
            "min          -0.145712         0.315198         0.075314        -0.114067         0.001815         0.194934         0.019929        -0.224448         0.020174\n",
            "25%           0.491325         0.719309         0.483381         0.478066         0.141444         0.498651         0.178618         0.402814         0.258517\n",
            "50%           0.516065         0.736735         0.612474         0.485824         0.495373         0.523474         0.475117         0.619407         0.502333\n",
            "75%           0.540668         0.757760         0.622681         0.493745         0.817728         0.538931         0.733206         0.857215         0.743406\n",
            "max           0.863996         1.112528         0.958919         1.093909         0.990564         1.288604         0.928746         1.008269         0.980654\n",
            "mses          0.000020         0.000029         0.000036         0.000053         0.000019         0.000015         0.000020         0.000022         0.000032\n",
            "rmes          0.004460         0.005361         0.006008         0.007309         0.004313         0.003913         0.004427         0.004671         0.005685\n",
            "maes          0.002158         0.002391         0.002768         0.002892         0.002726         0.002179         0.001893         0.002377         0.001834\n",
            "mse           0.000027         0.000027         0.000027         0.000027         0.000027         0.000027         0.000027         0.000027         0.000027\n",
            "rme           0.005226         0.005226         0.005226         0.005226         0.005226         0.005226         0.005226         0.005226         0.005226\n",
            "mae           0.002357         0.002357         0.002357         0.002357         0.002357         0.002357         0.002357         0.002357         0.002357\n",
            "*********************************************************\n",
            "model_2x500\n",
            "          Vtrue,_ktas      __VVI,__fpm      ____Q,rad/s      ____P,rad/s      ____R,rad/s      pitch,__deg      _roll,__deg      _beta,__deg      __alt,ftmsl \n",
            "count    146907.000000    146907.000000    146907.000000    146907.000000    146907.000000    146907.000000    146907.000000    146907.000000    146907.000000\n",
            "mean          0.504412         0.737227         0.570341         0.485060         0.485233         0.531587         0.464654         0.620080         0.541116\n",
            "std           0.106511         0.106115         0.096593         0.137143         0.297851         0.109146         0.243538         0.211064         0.313282\n",
            "min          -0.145712         0.315198         0.075314        -0.114067         0.001815         0.194934         0.019929        -0.224448         0.020174\n",
            "25%           0.491325         0.719309         0.483381         0.478066         0.141444         0.498651         0.178618         0.402814         0.258517\n",
            "50%           0.516065         0.736735         0.612474         0.485824         0.495373         0.523474         0.475117         0.619407         0.502333\n",
            "75%           0.540668         0.757760         0.622681         0.493745         0.817728         0.538931         0.733206         0.857215         0.743406\n",
            "max           0.863996         1.112528         0.958919         1.093909         0.990564         1.288604         0.928746         1.008269         0.980654\n",
            "mses          0.000020         0.000032         0.000033         0.000022         0.000011         0.000014         0.000009         0.000021         0.000020\n",
            "rmes          0.004472         0.005663         0.005764         0.004659         0.003309         0.003700         0.003074         0.004566         0.004469\n",
            "maes          0.001797         0.002239         0.002369         0.002197         0.001587         0.001965         0.001962         0.002137         0.001848\n",
            "mse           0.000020         0.000020         0.000020         0.000020         0.000020         0.000020         0.000020         0.000020         0.000020\n",
            "rme           0.004496         0.004496         0.004496         0.004496         0.004496         0.004496         0.004496         0.004496         0.004496\n",
            "mae           0.002011         0.002011         0.002011         0.002011         0.002011         0.002011         0.002011         0.002011         0.002011\n",
            "*********************************************************\n",
            "model_2x600_elu\n",
            "          Vtrue,_ktas      __VVI,__fpm      ____Q,rad/s      ____P,rad/s      ____R,rad/s      pitch,__deg      _roll,__deg      _beta,__deg      __alt,ftmsl \n",
            "count    146907.000000    146907.000000    146907.000000    146907.000000    146907.000000    146907.000000    146907.000000    146907.000000    146907.000000\n",
            "mean          0.504412         0.737227         0.570341         0.485060         0.485233         0.531587         0.464654         0.620080         0.541116\n",
            "std           0.106511         0.106115         0.096593         0.137143         0.297851         0.109146         0.243538         0.211064         0.313282\n",
            "min          -0.145712         0.315198         0.075314        -0.114067         0.001815         0.194934         0.019929        -0.224448         0.020174\n",
            "25%           0.491325         0.719309         0.483381         0.478066         0.141444         0.498651         0.178618         0.402814         0.258517\n",
            "50%           0.516065         0.736735         0.612474         0.485824         0.495373         0.523474         0.475117         0.619407         0.502333\n",
            "75%           0.540668         0.757760         0.622681         0.493745         0.817728         0.538931         0.733206         0.857215         0.743406\n",
            "max           0.863996         1.112528         0.958919         1.093909         0.990564         1.288604         0.928746         1.008269         0.980654\n",
            "mses          0.000114         0.000082         0.000173         0.000042         0.000029         0.000121         0.000046         0.000065         0.000284\n",
            "rmes          0.010681         0.009057         0.013136         0.006450         0.005389         0.011004         0.006771         0.008057         0.016854\n",
            "maes          0.009073         0.007450         0.011501         0.003120         0.002894         0.009978         0.004941         0.005897         0.015426\n",
            "mse           0.000106         0.000106         0.000106         0.000106         0.000106         0.000106         0.000106         0.000106         0.000106\n",
            "rme           0.010302         0.010302         0.010302         0.010302         0.010302         0.010302         0.010302         0.010302         0.010302\n",
            "mae           0.007809         0.007809         0.007809         0.007809         0.007809         0.007809         0.007809         0.007809         0.007809\n",
            "*********************************************************\n",
            "model_2x500_elu\n",
            "          Vtrue,_ktas      __VVI,__fpm      ____Q,rad/s      ____P,rad/s      ____R,rad/s      pitch,__deg      _roll,__deg      _beta,__deg      __alt,ftmsl \n",
            "count    146907.000000    146907.000000    146907.000000    146907.000000    146907.000000    146907.000000    146907.000000    146907.000000    146907.000000\n",
            "mean          0.504412         0.737227         0.570341         0.485060         0.485233         0.531587         0.464654         0.620080         0.541116\n",
            "std           0.106511         0.106115         0.096593         0.137143         0.297851         0.109146         0.243538         0.211064         0.313282\n",
            "min          -0.145712         0.315198         0.075314        -0.114067         0.001815         0.194934         0.019929        -0.224448         0.020174\n",
            "25%           0.491325         0.719309         0.483381         0.478066         0.141444         0.498651         0.178618         0.402814         0.258517\n",
            "50%           0.516065         0.736735         0.612474         0.485824         0.495373         0.523474         0.475117         0.619407         0.502333\n",
            "75%           0.540668         0.757760         0.622681         0.493745         0.817728         0.538931         0.733206         0.857215         0.743406\n",
            "max           0.863996         1.112528         0.958919         1.093909         0.990564         1.288604         0.928746         1.008269         0.980654\n",
            "mses          0.000170         0.000461         0.000868         0.000103         0.000056         0.000097         0.000292         0.000064         0.000218\n",
            "rmes          0.013037         0.021467         0.029453         0.010144         0.007501         0.009847         0.017091         0.008019         0.014761\n",
            "maes          0.011245         0.021233         0.029118         0.008775         0.005904         0.007622         0.015903         0.006004         0.012434\n",
            "mse           0.000259         0.000259         0.000259         0.000259         0.000259         0.000259         0.000259         0.000259         0.000259\n",
            "rme           0.016086         0.016086         0.016086         0.016086         0.016086         0.016086         0.016086         0.016086         0.016086\n",
            "mae           0.013138         0.013138         0.013138         0.013138         0.013138         0.013138         0.013138         0.013138         0.013138\n",
            "*********************************************************\n"
          ],
          "name": "stdout"
        }
      ]
    },
    {
      "cell_type": "markdown",
      "metadata": {
        "id": "bVhouDRRpewh",
        "colab_type": "text"
      },
      "source": [
        "### MSE per target (unscaled)"
      ]
    },
    {
      "cell_type": "code",
      "metadata": {
        "id": "crfMWfnKuAXz",
        "colab_type": "code",
        "outputId": "d91a54ca-6fe5-4d85-9035-b38fff14d87b",
        "colab": {
          "base_uri": "https://localhost:8080/",
          "height": 35
        }
      },
      "source": [
        "models[1][0]"
      ],
      "execution_count": 0,
      "outputs": [
        {
          "output_type": "execute_result",
          "data": {
            "text/plain": [
              "'model_2x500'"
            ]
          },
          "metadata": {
            "tags": []
          },
          "execution_count": 23
        }
      ]
    },
    {
      "cell_type": "code",
      "metadata": {
        "id": "oTTBfKRgRnTP",
        "colab_type": "code",
        "outputId": "c6498682-1ed5-48b8-9830-a1029a49380d",
        "colab": {
          "base_uri": "https://localhost:8080/",
          "height": 1000
        }
      },
      "source": [
        "for model_tupel in models:\n",
        "  df = pas_metrics(model_tupel)\n",
        "  print(model_tupel[0])\n",
        "  with pd.option_context('display.max_rows', None, 'display.max_columns', None,\n",
        "                        'display.width', 1000):  \n",
        "    print(df)\n",
        "  print('*********************************************************')"
      ],
      "execution_count": 0,
      "outputs": [
        {
          "output_type": "stream",
          "text": [
            "model_2x600\n",
            "          Vtrue,_ktas      __VVI,__fpm      ____Q,rad/s      ____P,rad/s      ____R,rad/s      pitch,__deg      _roll,__deg      _beta,__deg      __alt,ftmsl \n",
            "count    146907.000000    146907.000000     1.469070e+05    146907.000000     1.469070e+05    146907.000000    146907.000000    146907.000000    146907.000000\n",
            "mean        116.933735         1.454978     7.135510e-03        -0.000140    -1.337600e-03        -0.605152        -0.722674         0.024940      3118.794644\n",
            "std           8.275017       276.265852     7.759326e-03         0.025104     3.282916e-02         1.788004        12.122463         0.178670      1339.530659\n",
            "min          66.424780     -1097.281130    -3.263000e-02        -0.109810    -5.462000e-02        -6.120130       -22.859510        -0.689970       891.350710\n",
            "25%         115.917000       -45.193610     1.500000e-04        -0.001420    -3.923000e-02        -1.144705       -14.960540        -0.158980      1910.458070\n",
            "50%         117.839070         0.174230     1.052000e-02         0.000000    -2.200000e-04        -0.738060        -0.201880         0.024370      2952.964840\n",
            "75%         119.750560        54.913025     1.134000e-02         0.001450     3.531000e-02        -0.484845        12.644855         0.225680      3983.743410\n",
            "max         144.870320       978.538330     3.835000e-02         0.111310     5.436000e-02        11.796170        22.378150         0.353550      4998.167480\n",
            "mses          0.120064       194.821453     2.328972e-07         0.000002     2.260281e-07         0.004110         0.048550         0.000016       590.878057\n",
            "rmes          0.346503        13.957846     4.825942e-04         0.001338     4.754242e-04         0.064110         0.220340         0.003954        24.307983\n",
            "maes          0.167652         6.225243     2.223383e-04         0.000529     3.004759e-04         0.035693         0.094209         0.002012         7.840837\n",
            "mse          87.319139        87.319139     8.731914e+01        87.319139     8.731914e+01        87.319139        87.319139        87.319139        87.319139\n",
            "rme           9.344471         9.344471     9.344471e+00         9.344471     9.344471e+00         9.344471         9.344471         9.344471         9.344471\n",
            "mae           1.596300         1.596300     1.596300e+00         1.596300     1.596300e+00         1.596300         1.596300         1.596300         1.596300\n",
            "*********************************************************\n",
            "model_2x500\n",
            "          Vtrue,_ktas      __VVI,__fpm      ____Q,rad/s      ____P,rad/s      ____R,rad/s      pitch,__deg      _roll,__deg      _beta,__deg      __alt,ftmsl \n",
            "count    146907.000000    146907.000000     1.469070e+05     1.469070e+05     1.469070e+05    146907.000000    146907.000000    146907.000000    146907.000000\n",
            "mean        116.933735         1.454978     7.135510e-03    -1.397062e-04    -1.337600e-03        -0.605152        -0.722674         0.024940      3118.794644\n",
            "std           8.275017       276.265852     7.759326e-03     2.510405e-02     3.282916e-02         1.788004        12.122463         0.178670      1339.530659\n",
            "min          66.424780     -1097.281130    -3.263000e-02    -1.098100e-01    -5.462000e-02        -6.120130       -22.859510        -0.689970       891.350710\n",
            "25%         115.917000       -45.193610     1.500000e-04    -1.420000e-03    -3.923000e-02        -1.144705       -14.960540        -0.158980      1910.458070\n",
            "50%         117.839070         0.174230     1.052000e-02     0.000000e+00    -2.200000e-04        -0.738060        -0.201880         0.024370      2952.964840\n",
            "75%         119.750560        54.913025     1.134000e-02     1.450000e-03     3.531000e-02        -0.484845        12.644855         0.225680      3983.743410\n",
            "max         144.870320       978.538330     3.835000e-02     1.113100e-01     5.436000e-02        11.796170        22.378150         0.353550      4998.167480\n",
            "mses          0.120732       217.343294     2.143994e-07     7.271792e-07     1.330139e-07         0.003674         0.023415         0.000015       365.108272\n",
            "rmes          0.347465        14.742567     4.630329e-04     8.527480e-04     3.647107e-04         0.060611         0.153020         0.003865        19.107807\n",
            "maes          0.139594         5.828912     1.903077e-04     4.022003e-04     1.749150e-04         0.032193         0.097674         0.001809         7.903458\n",
            "mse          64.733267        64.733267     6.473327e+01     6.473327e+01     6.473327e+01        64.733267        64.733267        64.733267        64.733267\n",
            "rme           8.045699         8.045699     8.045699e+00     8.045699e+00     8.045699e+00         8.045699         8.045699         8.045699         8.045699\n",
            "mae           1.556045         1.556045     1.556045e+00     1.556045e+00     1.556045e+00         1.556045         1.556045         1.556045         1.556045\n",
            "*********************************************************\n",
            "model_2x600_elu\n",
            "          Vtrue,_ktas      __VVI,__fpm      ____Q,rad/s      ____P,rad/s      ____R,rad/s      pitch,__deg      _roll,__deg      _beta,__deg      __alt,ftmsl \n",
            "count    146907.000000    146907.000000    146907.000000    146907.000000     1.469070e+05    146907.000000    146907.000000    146907.000000    146907.000000\n",
            "mean        116.933735         1.454978         0.007136        -0.000140    -1.337600e-03        -0.605152        -0.722674         0.024940      3118.794644\n",
            "std           8.275017       276.265852         0.007759         0.025104     3.282916e-02         1.788004        12.122463         0.178670      1339.530659\n",
            "min          66.424780     -1097.281130        -0.032630        -0.109810    -5.462000e-02        -6.120130       -22.859510        -0.689970       891.350710\n",
            "25%         115.917000       -45.193610         0.000150        -0.001420    -3.923000e-02        -1.144705       -14.960540        -0.158980      1910.458070\n",
            "50%         117.839070         0.174230         0.010520         0.000000    -2.200000e-04        -0.738060        -0.201880         0.024370      2952.964840\n",
            "75%         119.750560        54.913025         0.011340         0.001450     3.531000e-02        -0.484845        12.644855         0.225680      3983.743410\n",
            "max         144.870320       978.538330         0.038350         0.111310     5.436000e-02        11.796170        22.378150         0.353550      4998.167480\n",
            "mses          0.688590       555.939890         0.000001         0.000001     3.528089e-07         0.032498         0.113606         0.000047      5193.402125\n",
            "rmes          0.829813        23.578378         0.001055         0.001181     5.939772e-04         0.180272         0.337055         0.006820        72.065263\n",
            "maes          0.704903        19.396900         0.000924         0.000571     3.189973e-04         0.163454         0.245951         0.004992        65.960468\n",
            "mse         638.908529       638.908529       638.908529       638.908529     6.389085e+02       638.908529       638.908529       638.908529       638.908529\n",
            "rme          25.276640        25.276640        25.276640        25.276640     2.527664e+01        25.276640        25.276640        25.276640        25.276640\n",
            "mae           9.608720         9.608720         9.608720         9.608720     9.608720e+00         9.608720         9.608720         9.608720         9.608720\n",
            "*********************************************************\n",
            "model_2x500_elu\n",
            "          Vtrue,_ktas      __VVI,__fpm      ____Q,rad/s      ____P,rad/s      ____R,rad/s      pitch,__deg      _roll,__deg      _beta,__deg      __alt,ftmsl \n",
            "count    146907.000000    146907.000000    146907.000000    146907.000000     1.469070e+05    146907.000000    146907.000000    146907.000000    146907.000000\n",
            "mean        116.933735         1.454978         0.007136        -0.000140    -1.337600e-03        -0.605152        -0.722674         0.024940      3118.794644\n",
            "std           8.275017       276.265852         0.007759         0.025104     3.282916e-02         1.788004        12.122463         0.178670      1339.530659\n",
            "min          66.424780     -1097.281130        -0.032630        -0.109810    -5.462000e-02        -6.120130       -22.859510        -0.689970       891.350710\n",
            "25%         115.917000       -45.193610         0.000150        -0.001420    -3.923000e-02        -1.144705       -14.960540        -0.158980      1910.458070\n",
            "50%         117.839070         0.174230         0.010520         0.000000    -2.200000e-04        -0.738060        -0.201880         0.024370      2952.964840\n",
            "75%         119.750560        54.913025         0.011340         0.001450     3.531000e-02        -0.484845        12.644855         0.225680      3983.743410\n",
            "max         144.870320       978.538330         0.038350         0.111310     5.436000e-02        11.796170        22.378150         0.353550      4998.167480\n",
            "mses          1.025950      3123.639281         0.000006         0.000003     6.835467e-07         0.026022         0.723779         0.000046      3983.413418\n",
            "rmes          1.012892        55.889527         0.002366         0.001857     8.267688e-04         0.161313         0.850752         0.006788        63.114289\n",
            "maes          0.873604        55.279563         0.002339         0.001606     6.507599e-04         0.124870         0.791572         0.005082        53.167270\n",
            "mse         789.869834       789.869834       789.869834       789.869834     7.898698e+02       789.869834       789.869834       789.869834       789.869834\n",
            "rme          28.104623        28.104623        28.104623        28.104623     2.810462e+01        28.104623        28.104623        28.104623        28.104623\n",
            "mae          12.249618        12.249618        12.249618        12.249618     1.224962e+01        12.249618        12.249618        12.249618        12.249618\n",
            "*********************************************************\n"
          ],
          "name": "stdout"
        }
      ]
    },
    {
      "cell_type": "markdown",
      "metadata": {
        "id": "DTCw_9XlMi9P",
        "colab_type": "text"
      },
      "source": [
        "#latex"
      ]
    },
    {
      "cell_type": "code",
      "metadata": {
        "id": "rRfK9vukMkXV",
        "colab_type": "code",
        "colab": {}
      },
      "source": [
        "def _df_prediction_metrics_all(model_tupel, scaled):\n",
        "  \n",
        "  model_name =  model_tupel[0]\n",
        "  model = model_tupel[1]\n",
        "  train_X, train_Y, test_X, test_Y = model_tupel[2]\n",
        "  cols_label = model_tupel[4]\n",
        "\n",
        "\n",
        "  pred_Y = model.predict(test_X)\n",
        "  \n",
        "  if scaled:\n",
        "    truth_Y = test_Y\n",
        "  else:\n",
        "    label_scaler = model_tupel[3]\n",
        "    pred_Y = label_scaler.inverse_transform(pred_Y)\n",
        "    truth_Y = label_scaler.inverse_transform(test_Y)\n",
        "\n",
        "  df_describe = pd.DataFrame(truth_Y,columns=cols_label).describe()\n",
        "  mses = mean_squared_error(truth_Y, pred_Y, multioutput='raw_values')\n",
        "  #rmses = np.array([math.sqrt(mse) for mse in mses])\n",
        "  #maes = mean_absolute_error(truth_Y, pred_Y, multioutput='raw_values')\n",
        "  # average over list should do the job as well\n",
        "  mse = mean_squared_error(truth_Y, pred_Y)\n",
        "  rmse = math.sqrt(mse)\n",
        "  mae = mean_absolute_error(truth_Y, pred_Y)\n",
        "\n",
        "\n",
        "  df_mse_per_feature = pd.DataFrame(data=mses.reshape(1,-1),    # values\n",
        "            index=[model_name],     # index\n",
        "            columns=cols_label)  #  column names\n",
        "  \n",
        "  df_mse_per_feature['MSE'] = mse\n",
        "  df_mse_per_feature['RMSE'] = rmse\n",
        "  df_mse_per_feature['MAE'] = mae\n",
        "\n",
        "\n",
        "  #df_rmse_per_feature = pd.DataFrame(data=rmses.reshape(1,-1),    # values\n",
        "   #     index=['rmes'],     # index\n",
        "  #      columns=cols_label)  #  column names\n",
        "  #df_mae_per_feature = pd.DataFrame(data=maes.reshape(1,-1),    # values\n",
        "    #    index=['maes'],     # index\n",
        "   #     columns=cols_label)  #  column names\n",
        "  \n",
        "  return df_mse_per_feature\n",
        "\n",
        "\n",
        "def pas_metrics_all(models):\n",
        "  cols_trans = ['MSE', 'RMSE', 'MAE', col_vv,col_alt, col_v]\n",
        "  cols_rot = [col_roll_deg, col_pitch_deg, col_yaw_deg, col_pitch_v, col_yaw_v, col_roll_v]\n",
        "  rows_trans = []\n",
        "  rows_rot = []\n",
        "\n",
        "  for model_tupel in models:\n",
        "    model_row = _df_prediction_metrics_all(model_tupel, scaled=False)\n",
        "    rows_trans.append(model_row[cols_trans])\n",
        "    rows_rot.append(model_row[cols_rot])\n",
        "\n",
        "  df_trans = pd.concat(rows_trans).round(2)\n",
        "  file_path = os.path.join(results_folder, 'all_mse_trans' + '.csv')\n",
        "  df_trans.to_csv(path_or_buf=file_path)\n",
        "  \n",
        "  df_rot = pd.concat(rows_rot).round(10)\n",
        "  file_path = os.path.join(results_folder, 'all_mse_rot' + '.csv')\n",
        "  df_rot.to_csv(path_or_buf=file_path)\n",
        "  return df_trans, df_rot\n",
        "\n",
        "\n",
        "df_trans, df_rot = pas_metrics_all(models)\n",
        "  "
      ],
      "execution_count": 0,
      "outputs": []
    },
    {
      "cell_type": "code",
      "metadata": {
        "id": "EJx7-29ZM4yp",
        "colab_type": "code",
        "outputId": "34dc27ba-57b4-4371-f3a2-c2208b111baf",
        "colab": {
          "base_uri": "https://localhost:8080/",
          "height": 175
        }
      },
      "source": [
        "df_trans"
      ],
      "execution_count": 0,
      "outputs": [
        {
          "output_type": "execute_result",
          "data": {
            "text/html": [
              "<div>\n",
              "<style scoped>\n",
              "    .dataframe tbody tr th:only-of-type {\n",
              "        vertical-align: middle;\n",
              "    }\n",
              "\n",
              "    .dataframe tbody tr th {\n",
              "        vertical-align: top;\n",
              "    }\n",
              "\n",
              "    .dataframe thead th {\n",
              "        text-align: right;\n",
              "    }\n",
              "</style>\n",
              "<table border=\"1\" class=\"dataframe\">\n",
              "  <thead>\n",
              "    <tr style=\"text-align: right;\">\n",
              "      <th></th>\n",
              "      <th>MSE</th>\n",
              "      <th>RMSE</th>\n",
              "      <th>MAE</th>\n",
              "      <th>__VVI,__fpm</th>\n",
              "      <th>__alt,ftmsl</th>\n",
              "      <th>Vtrue,_ktas</th>\n",
              "    </tr>\n",
              "  </thead>\n",
              "  <tbody>\n",
              "    <tr>\n",
              "      <th>model_2x600</th>\n",
              "      <td>87.32</td>\n",
              "      <td>9.34</td>\n",
              "      <td>1.60</td>\n",
              "      <td>194.82</td>\n",
              "      <td>590.88</td>\n",
              "      <td>0.12</td>\n",
              "    </tr>\n",
              "    <tr>\n",
              "      <th>model_2x500</th>\n",
              "      <td>64.73</td>\n",
              "      <td>8.05</td>\n",
              "      <td>1.56</td>\n",
              "      <td>217.34</td>\n",
              "      <td>365.11</td>\n",
              "      <td>0.12</td>\n",
              "    </tr>\n",
              "    <tr>\n",
              "      <th>model_2x600_elu</th>\n",
              "      <td>638.91</td>\n",
              "      <td>25.28</td>\n",
              "      <td>9.61</td>\n",
              "      <td>555.94</td>\n",
              "      <td>5193.40</td>\n",
              "      <td>0.69</td>\n",
              "    </tr>\n",
              "    <tr>\n",
              "      <th>model_2x500_elu</th>\n",
              "      <td>789.87</td>\n",
              "      <td>28.10</td>\n",
              "      <td>12.25</td>\n",
              "      <td>3123.64</td>\n",
              "      <td>3983.41</td>\n",
              "      <td>1.03</td>\n",
              "    </tr>\n",
              "  </tbody>\n",
              "</table>\n",
              "</div>"
            ],
            "text/plain": [
              "                    MSE   RMSE  ...     __alt,ftmsl      Vtrue,_ktas \n",
              "model_2x600       87.32   9.34  ...           590.88             0.12\n",
              "model_2x500       64.73   8.05  ...           365.11             0.12\n",
              "model_2x600_elu  638.91  25.28  ...          5193.40             0.69\n",
              "model_2x500_elu  789.87  28.10  ...          3983.41             1.03\n",
              "\n",
              "[4 rows x 6 columns]"
            ]
          },
          "metadata": {
            "tags": []
          },
          "execution_count": 26
        }
      ]
    },
    {
      "cell_type": "code",
      "metadata": {
        "id": "fJUMzC7HM5jz",
        "colab_type": "code",
        "outputId": "e6eea2f4-b112-4b1f-b928-cc2e7950d8ec",
        "colab": {
          "base_uri": "https://localhost:8080/",
          "height": 175
        }
      },
      "source": [
        "df_rot"
      ],
      "execution_count": 0,
      "outputs": [
        {
          "output_type": "execute_result",
          "data": {
            "text/html": [
              "<div>\n",
              "<style scoped>\n",
              "    .dataframe tbody tr th:only-of-type {\n",
              "        vertical-align: middle;\n",
              "    }\n",
              "\n",
              "    .dataframe tbody tr th {\n",
              "        vertical-align: top;\n",
              "    }\n",
              "\n",
              "    .dataframe thead th {\n",
              "        text-align: right;\n",
              "    }\n",
              "</style>\n",
              "<table border=\"1\" class=\"dataframe\">\n",
              "  <thead>\n",
              "    <tr style=\"text-align: right;\">\n",
              "      <th></th>\n",
              "      <th>_roll,__deg</th>\n",
              "      <th>pitch,__deg</th>\n",
              "      <th>_beta,__deg</th>\n",
              "      <th>____P,rad/s</th>\n",
              "      <th>____Q,rad/s</th>\n",
              "      <th>____R,rad/s</th>\n",
              "    </tr>\n",
              "  </thead>\n",
              "  <tbody>\n",
              "    <tr>\n",
              "      <th>model_2x600</th>\n",
              "      <td>0.048550</td>\n",
              "      <td>0.004110</td>\n",
              "      <td>0.000016</td>\n",
              "      <td>1.790100e-06</td>\n",
              "      <td>2.329000e-07</td>\n",
              "      <td>2.260000e-07</td>\n",
              "    </tr>\n",
              "    <tr>\n",
              "      <th>model_2x500</th>\n",
              "      <td>0.023415</td>\n",
              "      <td>0.003674</td>\n",
              "      <td>0.000015</td>\n",
              "      <td>7.272000e-07</td>\n",
              "      <td>2.144000e-07</td>\n",
              "      <td>1.330000e-07</td>\n",
              "    </tr>\n",
              "    <tr>\n",
              "      <th>model_2x600_elu</th>\n",
              "      <td>0.113606</td>\n",
              "      <td>0.032498</td>\n",
              "      <td>0.000047</td>\n",
              "      <td>1.394100e-06</td>\n",
              "      <td>1.113500e-06</td>\n",
              "      <td>3.528000e-07</td>\n",
              "    </tr>\n",
              "    <tr>\n",
              "      <th>model_2x500_elu</th>\n",
              "      <td>0.723779</td>\n",
              "      <td>0.026022</td>\n",
              "      <td>0.000046</td>\n",
              "      <td>3.448000e-06</td>\n",
              "      <td>5.597900e-06</td>\n",
              "      <td>6.835000e-07</td>\n",
              "    </tr>\n",
              "  </tbody>\n",
              "</table>\n",
              "</div>"
            ],
            "text/plain": [
              "                    _roll,__deg   ...     ____R,rad/s \n",
              "model_2x600             0.048550  ...     2.260000e-07\n",
              "model_2x500             0.023415  ...     1.330000e-07\n",
              "model_2x600_elu         0.113606  ...     3.528000e-07\n",
              "model_2x500_elu         0.723779  ...     6.835000e-07\n",
              "\n",
              "[4 rows x 6 columns]"
            ]
          },
          "metadata": {
            "tags": []
          },
          "execution_count": 27
        }
      ]
    },
    {
      "cell_type": "markdown",
      "metadata": {
        "id": "z40fMP9Ttc9Q",
        "colab_type": "text"
      },
      "source": [
        "#predict one ahead"
      ]
    },
    {
      "cell_type": "code",
      "metadata": {
        "id": "Vxp9pJ3PmbjQ",
        "colab_type": "code",
        "outputId": "5b904ad9-9b1b-4bd5-ec6f-97cb0dc5883b",
        "colab": {
          "base_uri": "https://localhost:8080/",
          "height": 172
        }
      },
      "source": [
        "STOP"
      ],
      "execution_count": 0,
      "outputs": [
        {
          "output_type": "error",
          "ename": "NameError",
          "evalue": "ignored",
          "traceback": [
            "\u001b[0;31m---------------------------------------------------------------------------\u001b[0m",
            "\u001b[0;31mNameError\u001b[0m                                 Traceback (most recent call last)",
            "\u001b[0;32m<ipython-input-28-ee4decdca3b8>\u001b[0m in \u001b[0;36m<module>\u001b[0;34m()\u001b[0m\n\u001b[0;32m----> 1\u001b[0;31m \u001b[0mSTOP\u001b[0m\u001b[0;34m\u001b[0m\u001b[0;34m\u001b[0m\u001b[0m\n\u001b[0m",
            "\u001b[0;31mNameError\u001b[0m: name 'STOP' is not defined"
          ]
        }
      ]
    },
    {
      "cell_type": "code",
      "metadata": {
        "id": "N-8LmbK2eki9",
        "colab_type": "code",
        "colab": {}
      },
      "source": [
        "# TODO step ahead vohersage\n",
        "# columns bei mse tabellen scheinen stuss zu sein, \n",
        "#da bei unscaled unverhältnismäßige größen rauskommen\n",
        "# am besten mal gegen diein gridsearch alt verwendeten spaltenreihenfolge abgleichen\n",
        "\n",
        "def predict_sequence(model, data_X, n_seq_len):\n",
        "  '''\n",
        "  frickel für jeden lag die action raus\n",
        "  vorhersage erwartet auch lag also frickel das wieder zusammen\n",
        "  '''\n",
        "  data_X[:, :]\n",
        "  preds = []\n",
        "  pred_y = model.predict(start_x)\n",
        "  for i in range(n_seq_len):\n",
        "    model.predict(pred_y)\n",
        "\n",
        "\n",
        "#for model_tupel in models:\n",
        " model = model_tupel[1]\n",
        "  train_X, train_Y, test_X, test_Y = model_tupel[2]\n",
        "  cols_label = model_tupel[4]\n",
        "  label_scaler = model_tupel[3]\n",
        "  \n",
        "  pred_Y = predict_ahead(train_X)\n",
        "  pred_Y = label_scaler.inverse_transform(pred_Y)\n",
        "  train_Y = label_scaler.inverse_transform(train_Y)\n",
        "  \n",
        "  \n",
        "  plot_lines('red')\n",
        "\n",
        "def predict_ahead(model, data_X):\n",
        "  preds = []\n",
        "  pred_y = model.predict(data_X[0,:])\n",
        "  preds.append(pred_y)\n",
        "  for i in range(1,len(data_X)):\n",
        "    pred_y = model.predict(pred_y)\n",
        "    preds.append(pred_y)\n",
        "  return preds\n",
        "    \n"
      ],
      "execution_count": 0,
      "outputs": []
    }
  ]
}