{
  "nbformat": 4,
  "nbformat_minor": 0,
  "metadata": {
    "colab": {
      "name": "04_long_train.ipynb",
      "provenance": [],
      "collapsed_sections": [],
      "toc_visible": true,
      "machine_shape": "hm",
      "include_colab_link": true
    },
    "kernelspec": {
      "name": "python3",
      "display_name": "Python 3"
    },
    "accelerator": "GPU"
  },
  "cells": [
    {
      "cell_type": "markdown",
      "metadata": {
        "id": "view-in-github",
        "colab_type": "text"
      },
      "source": [
        "<a href=\"https://colab.research.google.com/github/CrowdSalat/ann-dynamical-systems/blob/master/04_long_train.ipynb\" target=\"_parent\"><img src=\"https://colab.research.google.com/assets/colab-badge.svg\" alt=\"Open In Colab\"/></a>"
      ]
    },
    {
      "cell_type": "markdown",
      "metadata": {
        "id": "Pa9Mju9lc4Ll",
        "colab_type": "text"
      },
      "source": [
        "# overview\n",
        "\n",
        "Uses actions and an input state to predict the output state."
      ]
    },
    {
      "cell_type": "markdown",
      "metadata": {
        "id": "ijDD21X-gnli",
        "colab_type": "text"
      },
      "source": [
        "# imports"
      ]
    },
    {
      "cell_type": "code",
      "metadata": {
        "id": "_Z4pV678a1zv",
        "colab_type": "code",
        "colab": {}
      },
      "source": [
        "try:\n",
        "  # %tensorflow_version only exists in Colab.\n",
        "  %tensorflow_version 2.x\n",
        "except Exception:\n",
        "  pass"
      ],
      "execution_count": 0,
      "outputs": []
    },
    {
      "cell_type": "code",
      "metadata": {
        "id": "2p4YwEK_f7kq",
        "colab_type": "code",
        "outputId": "6cb6a6d9-596a-48c2-883d-180401f97772",
        "colab": {
          "base_uri": "https://localhost:8080/",
          "height": 35
        }
      },
      "source": [
        "import pandas as pd\n",
        "import numpy as np\n",
        "import os\n",
        "import sys\n",
        "import datetime\n",
        "import math\n",
        "import pickle\n",
        "import matplotlib.pyplot as plt\n",
        "from sklearn.preprocessing import MinMaxScaler\n",
        "from sklearn.metrics import mean_squared_error\n",
        "from sklearn.metrics import mean_absolute_error\n",
        "\n",
        "from sklearn.model_selection import train_test_split\n",
        "from sklearn.preprocessing import MinMaxScaler\n",
        "\n",
        "\n",
        "import tensorflow as tf\n",
        "print(tf.__version__)\n",
        "from tensorflow import keras\n",
        "\n",
        "from tensorflow.keras.models import Sequential\n",
        "from tensorflow.keras.layers import Dense\n",
        "from tensorflow.keras.layers import *\n",
        "from tensorflow.keras import metrics"
      ],
      "execution_count": 0,
      "outputs": [
        {
          "output_type": "stream",
          "text": [
            "2.0.0\n"
          ],
          "name": "stdout"
        }
      ]
    },
    {
      "cell_type": "code",
      "metadata": {
        "id": "RPDma-JqgyaM",
        "colab_type": "code",
        "outputId": "e8953e86-c69b-42ab-a5dd-5cdb9d89af20",
        "colab": {
          "base_uri": "https://localhost:8080/",
          "height": 35
        }
      },
      "source": [
        "base_folder = './results'\n",
        "notebook_folder = '04_long_train'\n",
        "results_folder = os.path.join(base_folder, notebook_folder)\n",
        "os.makedirs(results_folder, exist_ok=True)\n",
        "print('results_folder : ', results_folder)\n",
        "\n",
        "saved_model_weight = 'saved_weights'\n",
        "saved_model_weight_path = os.path.join(results_folder, saved_model_weight)\n",
        "os.makedirs(saved_model_weight_path, exist_ok=True)\n"
      ],
      "execution_count": 0,
      "outputs": [
        {
          "output_type": "stream",
          "text": [
            "results_folder :  ./results/04_long_train\n"
          ],
          "name": "stdout"
        }
      ]
    },
    {
      "cell_type": "markdown",
      "metadata": {
        "id": "rmj8c18xllpT",
        "colab_type": "text"
      },
      "source": [
        "# mount drive"
      ]
    },
    {
      "cell_type": "code",
      "metadata": {
        "id": "nUEqcpzvltdo",
        "colab_type": "code",
        "colab": {}
      },
      "source": [
        "file = 'dataset_all_01.csv'"
      ],
      "execution_count": 0,
      "outputs": []
    },
    {
      "cell_type": "code",
      "metadata": {
        "id": "TuGWEMS1loFz",
        "colab_type": "code",
        "outputId": "73afd057-067b-4969-b025-70eaf67e6f5d",
        "colab": {
          "base_uri": "https://localhost:8080/",
          "height": 144
        }
      },
      "source": [
        "from google.colab import drive\n",
        "drive.mount('/content/drive')\n",
        "\n",
        "root_dir = '/content/drive/My Drive/xplane_data' \n",
        "os.chdir(root_dir)\n",
        "print ('working dir: ' + os.getcwd())"
      ],
      "execution_count": 0,
      "outputs": [
        {
          "output_type": "stream",
          "text": [
            "Go to this URL in a browser: https://accounts.google.com/o/oauth2/auth?client_id=947318989803-6bn6qk8qdgf4n4g3pfee6491hc0brc4i.apps.googleusercontent.com&redirect_uri=urn%3Aietf%3Awg%3Aoauth%3A2.0%3Aoob&scope=email%20https%3A%2F%2Fwww.googleapis.com%2Fauth%2Fdocs.test%20https%3A%2F%2Fwww.googleapis.com%2Fauth%2Fdrive%20https%3A%2F%2Fwww.googleapis.com%2Fauth%2Fdrive.photos.readonly%20https%3A%2F%2Fwww.googleapis.com%2Fauth%2Fpeopleapi.readonly&response_type=code\n",
            "\n",
            "Enter your authorization code:\n",
            "··········\n",
            "Mounted at /content/drive\n",
            "working dir: /content/drive/My Drive/xplane_data\n"
          ],
          "name": "stdout"
        }
      ]
    },
    {
      "cell_type": "markdown",
      "metadata": {
        "id": "EF4tx110HmOj",
        "colab_type": "text"
      },
      "source": [
        "# load data"
      ]
    },
    {
      "cell_type": "markdown",
      "metadata": {
        "id": "EOM6RVAIduGr",
        "colab_type": "text"
      },
      "source": [
        "## define features (actions & states)\n",
        "actions and states at time t (t-1, t-2 ...) are the input for the network.\n",
        "\n",
        "the states at time t + 1 are the desired output of the network.\n"
      ]
    },
    {
      "cell_type": "code",
      "metadata": {
        "id": "YH9bVQ3YDyTh",
        "colab_type": "code",
        "colab": {}
      },
      "source": [
        "col_m_time      = '   missn,_time '\n",
        "col_t_time      = '   _totl,_time '\n",
        "col_yaw_v       = '   ____Q,rad/s '\n",
        "\n",
        "col_yaw_deg     = '   _beta,__deg '\n",
        "col_roll_deg    = '   _roll,__deg '\n",
        "col_roll_v      = '   ____R,rad/s '\n",
        "col_pitch_deg   = '   pitch,__deg '\n",
        "col_pitch_v     = '   ____P,rad/s '\n",
        "col_alt         = '   __alt,ftmsl '\n",
        "col_vv          = '   __VVI,__fpm '\n",
        "col_v           = '   Vtrue,_ktas '\n",
        "col_rpm_prop    = '   rpm_1,_prop '\n",
        "col_throttle     = '   thro1,_part '\n",
        "\n",
        "cols_state = [ \n",
        "    col_yaw_v,\n",
        "    col_yaw_deg,\n",
        "    col_roll_deg,\n",
        "    col_roll_v,\n",
        "    col_pitch_deg,\n",
        "    col_pitch_v,\n",
        "    col_vv,\n",
        "    col_alt,\n",
        "    col_v,\n",
        "\n",
        "]\n",
        "\n",
        "cols_time = [\n",
        "    col_m_time,\n",
        "    col_t_time,\n",
        "]\n",
        "\n",
        "col_elev_servo                  = '   _elev,servo '\n",
        "col_ailrn_servo                  = '   ailrn,servo '\n",
        "col_ruddr_servo                  = '   ruddr,servo '\n",
        "\n",
        "cols_action = [\n",
        "    col_elev_servo,\n",
        "    col_ailrn_servo,\n",
        "    col_ruddr_servo,\n",
        "    col_rpm_prop,\n",
        "    col_throttle,\n",
        "]\n",
        "\n",
        "# all input columns\n",
        "cols_features = []\n",
        "cols_features.extend(cols_state)\n",
        "cols_features.extend(cols_action)\n",
        "\n",
        "# orga column\n",
        "col_dataset_index = 'dataset_index'\n",
        "col_maneuver_index = 'maneuver_index'\n",
        "col_maneuver_name = 'maneuver_name'\n",
        "col_maneuver_datapoint_index = 'maneuver_datapoint_index'\n",
        "col_maneuver_type = 'maneuver_type'\n",
        "cols_org = [col_dataset_index, col_maneuver_index, col_maneuver_name,\n",
        "            col_maneuver_datapoint_index,col_maneuver_type]\n",
        "\n"
      ],
      "execution_count": 0,
      "outputs": []
    },
    {
      "cell_type": "markdown",
      "metadata": {
        "id": "gDSNkVBaDv2V",
        "colab_type": "text"
      },
      "source": [
        "## load data"
      ]
    },
    {
      "cell_type": "code",
      "metadata": {
        "id": "uByPEHX3fS2G",
        "colab_type": "code",
        "outputId": "8b8da0a7-638f-4092-b1a8-d8d6359ad605",
        "colab": {
          "base_uri": "https://localhost:8080/",
          "height": 204
        }
      },
      "source": [
        "def load_xplane_csv(csv_path, columns):\n",
        "    return pd.read_csv(csv_path, delimiter=',', usecols = columns, \n",
        "                       float_precision='high')\n",
        "\n",
        "df_data = load_xplane_csv(file, cols_org + cols_state + cols_action)\n",
        "\n",
        "print(len(cols_org))\n",
        "print(len(cols_state))\n",
        "print(len(cols_action))\n",
        "print(df_data.shape)\n",
        "df_data.head(2)"
      ],
      "execution_count": 0,
      "outputs": [
        {
          "output_type": "stream",
          "text": [
            "5\n",
            "9\n",
            "5\n",
            "(477893, 19)\n"
          ],
          "name": "stdout"
        },
        {
          "output_type": "execute_result",
          "data": {
            "text/html": [
              "<div>\n",
              "<style scoped>\n",
              "    .dataframe tbody tr th:only-of-type {\n",
              "        vertical-align: middle;\n",
              "    }\n",
              "\n",
              "    .dataframe tbody tr th {\n",
              "        vertical-align: top;\n",
              "    }\n",
              "\n",
              "    .dataframe thead th {\n",
              "        text-align: right;\n",
              "    }\n",
              "</style>\n",
              "<table border=\"1\" class=\"dataframe\">\n",
              "  <thead>\n",
              "    <tr style=\"text-align: right;\">\n",
              "      <th></th>\n",
              "      <th>dataset_index</th>\n",
              "      <th>maneuver_index</th>\n",
              "      <th>maneuver_name</th>\n",
              "      <th>maneuver_type</th>\n",
              "      <th>maneuver_datapoint_index</th>\n",
              "      <th>Vtrue,_ktas</th>\n",
              "      <th>__VVI,__fpm</th>\n",
              "      <th>____Q,rad/s</th>\n",
              "      <th>____P,rad/s</th>\n",
              "      <th>____R,rad/s</th>\n",
              "      <th>pitch,__deg</th>\n",
              "      <th>_roll,__deg</th>\n",
              "      <th>_beta,__deg</th>\n",
              "      <th>__alt,ftmsl</th>\n",
              "      <th>thro1,_part</th>\n",
              "      <th>rpm_1,_prop</th>\n",
              "      <th>_elev,servo</th>\n",
              "      <th>ailrn,servo</th>\n",
              "      <th>ruddr,servo</th>\n",
              "    </tr>\n",
              "  </thead>\n",
              "  <tbody>\n",
              "    <tr>\n",
              "      <th>0</th>\n",
              "      <td>0</td>\n",
              "      <td>0</td>\n",
              "      <td>0</td>\n",
              "      <td>0</td>\n",
              "      <td>0</td>\n",
              "      <td>115.86147</td>\n",
              "      <td>665.39697</td>\n",
              "      <td>-0.03945</td>\n",
              "      <td>-0.00235</td>\n",
              "      <td>0.00008</td>\n",
              "      <td>-0.03584</td>\n",
              "      <td>-0.10129</td>\n",
              "      <td>0.00793</td>\n",
              "      <td>953.06787</td>\n",
              "      <td>0.79608</td>\n",
              "      <td>2443.89453</td>\n",
              "      <td>-0.00489</td>\n",
              "      <td>-0.01818</td>\n",
              "      <td>0.0</td>\n",
              "    </tr>\n",
              "    <tr>\n",
              "      <th>1</th>\n",
              "      <td>0</td>\n",
              "      <td>0</td>\n",
              "      <td>0</td>\n",
              "      <td>0</td>\n",
              "      <td>1</td>\n",
              "      <td>115.85403</td>\n",
              "      <td>650.10065</td>\n",
              "      <td>-0.03868</td>\n",
              "      <td>-0.00234</td>\n",
              "      <td>0.00007</td>\n",
              "      <td>-0.14285</td>\n",
              "      <td>-0.10772</td>\n",
              "      <td>0.00770</td>\n",
              "      <td>953.30768</td>\n",
              "      <td>0.79608</td>\n",
              "      <td>2443.77563</td>\n",
              "      <td>0.00134</td>\n",
              "      <td>-0.01815</td>\n",
              "      <td>0.0</td>\n",
              "    </tr>\n",
              "  </tbody>\n",
              "</table>\n",
              "</div>"
            ],
            "text/plain": [
              "   dataset_index  maneuver_index  ...     ailrn,servo      ruddr,servo \n",
              "0              0               0  ...         -0.01818              0.0\n",
              "1              0               0  ...         -0.01815              0.0\n",
              "\n",
              "[2 rows x 19 columns]"
            ]
          },
          "metadata": {
            "tags": []
          },
          "execution_count": 12
        }
      ]
    },
    {
      "cell_type": "markdown",
      "metadata": {
        "id": "47xDI8rfLJTv",
        "colab_type": "text"
      },
      "source": [
        "# define data preperation functions"
      ]
    },
    {
      "cell_type": "code",
      "metadata": {
        "id": "-EBCtY9f7KnC",
        "colab_type": "code",
        "colab": {}
      },
      "source": [
        "def series_to_supervised(data, n_in=1, n_out=1, dropnan=True, cols_label=None):\n",
        "\tdata_in = data.drop(cols_org, axis=1)\n",
        "\tif cols_label == None:\n",
        "\t\tdata_out = data_in.drop(cols_action, axis=1)\n",
        "\telse:\n",
        "\t\tif type(cols_label) != list:\n",
        "\t\t\tcols_label = [cols_label]\n",
        "\t\tdata_out = data_in[cols_label]\n",
        "\n",
        "\tcols_in = data_in.columns\n",
        "\tcols_out = data_out.columns\n",
        "\tcols, names = list(), list()\n",
        "\t# input sequence (t-n, ... t-1, t)\n",
        "\tfor i in range(n_in, 0, -1):\n",
        "\t\tcols.append(data_in.shift(i))\n",
        "\t\tif i == 1:\n",
        "\t\t\tnames += [('%s(t)' % (col_in)) for col_in in cols_in]\n",
        "\t\telse:\n",
        "\t\t\tnames += [('%s(t-%d)' % (col_in, i-1)) for col_in in cols_in]\n",
        "\n",
        "\t# forecast sequence (t+1, ... t+n)\n",
        "\tfor i in range(0, n_out):\n",
        "\t\tcols.append(data_out.shift(-i))\n",
        "\t\tnames += [('%s(t+%d)' % (col_out, i+1)) for col_out in cols_out]\n",
        "\t# put it all together\n",
        "\tagg = pd.concat(cols, axis=1)\n",
        "\tagg.columns = names\n",
        "\t# drop rows with NaN values\n",
        "\tif dropnan:\n",
        "\t\tagg.dropna(inplace=True)\n",
        "\treturn agg, cols_out"
      ],
      "execution_count": 0,
      "outputs": []
    },
    {
      "cell_type": "code",
      "metadata": {
        "id": "nOzBV1rYVGCn",
        "colab_type": "code",
        "colab": {}
      },
      "source": [
        "def split_feature_label(data_labeled, n_input_steps):\n",
        "  data_X = data_labeled.values[:, 0:n_input_steps*len(cols_features)]\n",
        "  data_Y = data_labeled.values[:, n_input_steps*len(cols_features):]\n",
        "  return data_X, data_Y"
      ],
      "execution_count": 0,
      "outputs": []
    },
    {
      "cell_type": "code",
      "metadata": {
        "id": "otFsVggWMbpz",
        "colab_type": "code",
        "colab": {}
      },
      "source": [
        "def scale_data(data_X, data_Y):\n",
        "  feature_scaler = MinMaxScaler()\n",
        "  data_X = feature_scaler.fit_transform(data_X)\n",
        "  label_scaler = MinMaxScaler()\n",
        "  data_Y = label_scaler.fit_transform(data_Y)\n",
        "  return feature_scaler, label_scaler, data_X, data_Y"
      ],
      "execution_count": 0,
      "outputs": []
    },
    {
      "cell_type": "code",
      "metadata": {
        "id": "bYXja56FWJnk",
        "colab_type": "code",
        "colab": {}
      },
      "source": [
        "def prepare_datasets(data, n_in=1, n_out=1):\n",
        "  #train-test-split\n",
        "  test = data.query('dataset_index==4')\n",
        "  train = data.query('dataset_index!=4')\n",
        "  \n",
        "  #add-label\n",
        "  test_labeled, labels = series_to_supervised(test, n_in=n_in, n_out=n_out,dropnan=True)\n",
        "  train_labeled, labels = series_to_supervised(train, n_in=n_in, n_out=n_out,dropnan=True)\n",
        "  \n",
        "\n",
        "  #split-feature-label\n",
        "  train_X, train_Y = split_feature_label(train_labeled, n_in)\n",
        "  test_X, test_Y = split_feature_label(test_labeled, n_in)\n",
        "  #scale-feat\n",
        "  feature_scaler, label_scaler, train_X, train_Y = scale_data(train_X, train_Y)\n",
        "  #scale-label\n",
        "  test_X, test_Y = feature_scaler.transform(test_X), label_scaler.transform(test_Y)\n",
        "\n",
        "  return train_X, train_Y, test_X, test_Y, feature_scaler, label_scaler, labels\n",
        "\n",
        "\n",
        "#TODO für RNN muss noch reshape stattfinden"
      ],
      "execution_count": 0,
      "outputs": []
    },
    {
      "cell_type": "markdown",
      "metadata": {
        "id": "S_kDrS1qH7kc",
        "colab_type": "text"
      },
      "source": [
        "# train models"
      ]
    },
    {
      "cell_type": "markdown",
      "metadata": {
        "id": "rjgpogwABFhX",
        "colab_type": "text"
      },
      "source": [
        "## define callbacks functions"
      ]
    },
    {
      "cell_type": "code",
      "metadata": {
        "id": "18w_KQkpBFEY",
        "colab_type": "code",
        "colab": {}
      },
      "source": [
        "def prepare_tensorboard_callback(model_name=''):\n",
        "  logs_base_dir = \"./tensorbaord_logs\"\n",
        "  model_log_dir = datetime.datetime.now().strftime(\"%Y%m%d-%H%M%S\") + '_' + model_name\n",
        "  target_log_dir = os.path.join(logs_base_dir, model_log_dir)\n",
        "  os.makedirs(target_log_dir, exist_ok=True)\n",
        "  tensorboard_callback = tf.keras.callbacks.TensorBoard(target_log_dir, histogram_freq=1)\n",
        "  return tensorboard_callback\n"
      ],
      "execution_count": 0,
      "outputs": []
    },
    {
      "cell_type": "code",
      "metadata": {
        "id": "MYl_6s7sBMpy",
        "colab_type": "code",
        "colab": {}
      },
      "source": [
        "def prepare_checkpoint_callback(model_name):\n",
        "  checkpoint_base_dir = './checkpoints'\n",
        "  os.makedirs(checkpoint_base_dir, exist_ok=True)\n",
        "  filepath = os.path.join(checkpoint_base_dir, 'cp_'+ model_name)\n",
        "  cp_callback = tf.keras.callbacks.ModelCheckpoint(filepath=filepath,\n",
        "                                                  save_weights_only=True,\n",
        "                                                  verbose=1)\n",
        "  return cp_callback "
      ],
      "execution_count": 0,
      "outputs": []
    },
    {
      "cell_type": "markdown",
      "metadata": {
        "id": "3y07Q50xkLvG",
        "colab_type": "text"
      },
      "source": [
        "## define plot_and_save functions"
      ]
    },
    {
      "cell_type": "markdown",
      "metadata": {
        "id": "l8uMddMPkSc1",
        "colab_type": "text"
      },
      "source": [
        "### loss historie"
      ]
    },
    {
      "cell_type": "code",
      "metadata": {
        "id": "I9UHTxwnkWyp",
        "colab_type": "code",
        "colab": {}
      },
      "source": [
        "def save_plots_before_show(diagramm_name):\n",
        "  if not os.path.exists(results_folder):\n",
        "      os.makedirs(diagramm_folder)\n",
        "\n",
        "  plt.savefig(results_folder + '/' + diagramm_name +'.pdf')\n",
        "  plt.savefig(results_folder + '/' + diagramm_name +'.svg')\n",
        "  plt.savefig(results_folder + '/' + diagramm_name +'.png')\n",
        "\n",
        "def pas_history(model_tupels, histories, key='mean_squared_error'):\n",
        "  model_names = [model_tupel[0] for model_tupel in model_tupels]\n",
        "  plt.figure(figsize=(16,10))\n",
        "  for i, history in enumerate(histories):\n",
        "    history_epoch= range(0, len(history['loss']) )\n",
        "\n",
        "    val = plt.plot(history_epoch, history['val_'+key],\n",
        "                   '--', label=model_names[i]+' Val')\n",
        "    plt.plot(history_epoch, history[key], color=val[0].get_color(),\n",
        "             label=model_names[i]+' Train')\n",
        "\n",
        "  plt.xlabel('Epochs')\n",
        "  plt.yscale(\"log\")\n",
        "  plt.ylabel(key.replace('_',' ').title())\n",
        "  plt.legend()\n",
        "\n",
        "  plt.xlim([0,max(history_epoch)])\n",
        "  save_plots_before_show('history_loss'+'_'+key)\n",
        "  plt.show()"
      ],
      "execution_count": 0,
      "outputs": []
    },
    {
      "cell_type": "markdown",
      "metadata": {
        "id": "VJNfegiglg59",
        "colab_type": "text"
      },
      "source": [
        "### metrics (overall and for all single targets )\n",
        "\n"
      ]
    },
    {
      "cell_type": "code",
      "metadata": {
        "id": "be-UQiKHli16",
        "colab_type": "code",
        "colab": {}
      },
      "source": [
        "def pas_metrics_scaled(model_tupel):\n",
        "  model_name = model_tupel[0]\n",
        "  df = _df_prediction_metrics(model_tupel, scaled=True)\n",
        "  file_path = os.path.join(results_folder, model_name + '_scaled.csv')\n",
        "  df.to_csv(path_or_buf=file_path)\n",
        "  return df\n",
        "  \n",
        "def pas_metrics(model_tupel):\n",
        "  model_name = model_tupel[0]\n",
        "  df = _df_prediction_metrics(model_tupel, scaled=False)\n",
        "  file_path = os.path.join(results_folder, model_name + '.csv')\n",
        "  df.to_csv(path_or_buf=file_path)\n",
        "  return df\n",
        "\n",
        "\n",
        "def _df_prediction_metrics(model_tupel, scaled):\n",
        "  '''\n",
        "  creates describe dataframe of labels and \n",
        "  connect them with mse,rmse and mae per target and overall \n",
        "  '''\n",
        "  \n",
        "  model = model_tupel[1]\n",
        "  train_X, train_Y, test_X, test_Y = model_tupel[2]\n",
        "  cols_label = model_tupel[4]\n",
        "\n",
        "\n",
        "  pred_Y = model.predict(test_X)\n",
        "  \n",
        "  if scaled:\n",
        "    truth_Y = test_Y\n",
        "  else:\n",
        "    label_scaler = model_tupel[3]\n",
        "    pred_Y = label_scaler.inverse_transform(pred_Y)\n",
        "    truth_Y = label_scaler.inverse_transform(test_Y)\n",
        "\n",
        "  df_describe = pd.DataFrame(truth_Y,columns=cols_label).describe()\n",
        "  mses = mean_squared_error(truth_Y, pred_Y, multioutput='raw_values')\n",
        "  rmses = np.array([math.sqrt(mse) for mse in mses])\n",
        "  maes = mean_absolute_error(truth_Y, pred_Y, multioutput='raw_values')\n",
        "  # average over list should do the job as well\n",
        "  mse = mean_squared_error(truth_Y, pred_Y)\n",
        "  rmse = math.sqrt(mse)\n",
        "  mae = mean_absolute_error(truth_Y, pred_Y)\n",
        "\n",
        "\n",
        "  df_mse_per_feature = pd.DataFrame(data=mses.reshape(1,-1),    # values\n",
        "            index=['mses'],     # index\n",
        "            columns=cols_label)  #  column names\n",
        "  df_rmse_per_feature = pd.DataFrame(data=rmses.reshape(1,-1),    # values\n",
        "        index=['rmes'],     # index\n",
        "        columns=cols_label)  #  column names\n",
        "  df_mae_per_feature = pd.DataFrame(data=maes.reshape(1,-1),    # values\n",
        "        index=['maes'],     # index\n",
        "        columns=cols_label)  #  column names\n",
        "  \n",
        "  \n",
        "  df_mse_all = pd.DataFrame(data=mse,    # values\n",
        "            index=['mse'],     # index\n",
        "            columns=cols_label)  #  column names\n",
        "  df_rmse_all = pd.DataFrame(data=rmse,    # values\n",
        "        index=['rme'],     # index\n",
        "        columns=cols_label)  #  column names\n",
        "  df_mae_all = pd.DataFrame(data=mae,    # values\n",
        "        index=['mae'],     # index\n",
        "        columns=cols_label)  #  column names\n",
        "  \n",
        "\n",
        "  metrics = [df_mse_per_feature, df_rmse_per_feature, df_mae_per_feature, \n",
        "             df_mse_all,df_rmse_all,df_mae_all]\n",
        "  return df_describe.append(metrics)"
      ],
      "execution_count": 0,
      "outputs": []
    },
    {
      "cell_type": "markdown",
      "metadata": {
        "id": "4gaR7IV326E_",
        "colab_type": "text"
      },
      "source": [
        "## define models"
      ]
    },
    {
      "cell_type": "code",
      "metadata": {
        "id": "Fhc2M4VD2_YP",
        "colab_type": "code",
        "colab": {}
      },
      "source": [
        "def create_model(model_name, layers, keras_activation, kernel_initializer, \n",
        "                 loss, metrics,  n_in=1, n_out=1):\n",
        "  if not layers:\n",
        "    raise Exception('No layers defined. Expected in format [100,100]') \n",
        "\n",
        " #prepare data\n",
        "  train_X, train_Y, test_X, test_Y, feature_scaler, label_scaler, labels = prepare_datasets(df_data, n_in, n_out)\n",
        "  features_nr = train_X.shape[1]\n",
        "  target_nr = train_Y.shape[1]\n",
        "    \n",
        "  model = keras.Sequential(name=model_name)\n",
        "  \n",
        "  model.add(Dense(layers[0],input_shape=(features_nr,), \n",
        "                          kernel_initializer=kernel_initializer))\n",
        "  model.add(keras_activation())\n",
        "  for i in range(1, len(layers)):\n",
        "    layer_val = layers[i]\n",
        "    model.add(Dense(layer_val, kernel_initializer=kernel_initializer))\n",
        "    model.add(keras_activation())\n",
        "\n",
        "  model.add(Dense(target_nr ))\n",
        "\n",
        "  model.compile(optimizer='adam',\n",
        "                        loss=loss,\n",
        "                        metrics=metrics)\n",
        "\n",
        "  model.summary()\n",
        "  print(model.to_json())\n",
        "  print(train_X.shape, train_Y.shape, test_X.shape, test_Y.shape)\n",
        "  return (model_name, model, (train_X, train_Y, test_X, test_Y), label_scaler, labels)\n"
      ],
      "execution_count": 0,
      "outputs": []
    },
    {
      "cell_type": "code",
      "metadata": {
        "id": "KwMj6E7mBL9m",
        "colab_type": "code",
        "outputId": "fbcf1d71-5784-4d7b-8335-b76ec29a0455",
        "colab": {
          "base_uri": "https://localhost:8080/",
          "height": 1000
        }
      },
      "source": [
        "loss='mean_squared_error',\n",
        "metrics=['mean_squared_error', 'mean_absolute_error']\n",
        "\n",
        "\n",
        "model_2x500 = create_model('model_2x500', [500, 500], ReLU, 'he_uniform', \n",
        "             loss, metrics)\n",
        "\n",
        "model_2x400 = create_model('model_2x400', [400, 400], ReLU, 'he_uniform', \n",
        "             loss, metrics)\n",
        "\n",
        "model_200 = create_model('model_200', [200], ReLU, 'he_uniform', \n",
        "             loss, metrics)\n",
        "\n",
        "models = [\n",
        "          model_2x500,\n",
        "          model_2x400,\n",
        "          model_200,\n",
        "      \n",
        "]"
      ],
      "execution_count": 0,
      "outputs": [
        {
          "output_type": "stream",
          "text": [
            "Model: \"model_2x500\"\n",
            "_________________________________________________________________\n",
            "Layer (type)                 Output Shape              Param #   \n",
            "=================================================================\n",
            "dense (Dense)                (None, 500)               7500      \n",
            "_________________________________________________________________\n",
            "re_lu (ReLU)                 (None, 500)               0         \n",
            "_________________________________________________________________\n",
            "dense_1 (Dense)              (None, 500)               250500    \n",
            "_________________________________________________________________\n",
            "re_lu_1 (ReLU)               (None, 500)               0         \n",
            "_________________________________________________________________\n",
            "dense_2 (Dense)              (None, 9)                 4509      \n",
            "=================================================================\n",
            "Total params: 262,509\n",
            "Trainable params: 262,509\n",
            "Non-trainable params: 0\n",
            "_________________________________________________________________\n",
            "{\"class_name\": \"Sequential\", \"config\": {\"name\": \"model_2x500\", \"layers\": [{\"class_name\": \"Dense\", \"config\": {\"name\": \"dense\", \"trainable\": true, \"batch_input_shape\": [null, 14], \"dtype\": \"float32\", \"units\": 500, \"activation\": \"linear\", \"use_bias\": true, \"kernel_initializer\": {\"class_name\": \"VarianceScaling\", \"config\": {\"scale\": 2.0, \"mode\": \"fan_in\", \"distribution\": \"uniform\", \"seed\": null}}, \"bias_initializer\": {\"class_name\": \"Zeros\", \"config\": {}}, \"kernel_regularizer\": null, \"bias_regularizer\": null, \"activity_regularizer\": null, \"kernel_constraint\": null, \"bias_constraint\": null}}, {\"class_name\": \"ReLU\", \"config\": {\"name\": \"re_lu\", \"trainable\": true, \"dtype\": \"float32\", \"max_value\": null, \"negative_slope\": 0.0, \"threshold\": 0.0}}, {\"class_name\": \"Dense\", \"config\": {\"name\": \"dense_1\", \"trainable\": true, \"dtype\": \"float32\", \"units\": 500, \"activation\": \"linear\", \"use_bias\": true, \"kernel_initializer\": {\"class_name\": \"VarianceScaling\", \"config\": {\"scale\": 2.0, \"mode\": \"fan_in\", \"distribution\": \"uniform\", \"seed\": null}}, \"bias_initializer\": {\"class_name\": \"Zeros\", \"config\": {}}, \"kernel_regularizer\": null, \"bias_regularizer\": null, \"activity_regularizer\": null, \"kernel_constraint\": null, \"bias_constraint\": null}}, {\"class_name\": \"ReLU\", \"config\": {\"name\": \"re_lu_1\", \"trainable\": true, \"dtype\": \"float32\", \"max_value\": null, \"negative_slope\": 0.0, \"threshold\": 0.0}}, {\"class_name\": \"Dense\", \"config\": {\"name\": \"dense_2\", \"trainable\": true, \"dtype\": \"float32\", \"units\": 9, \"activation\": \"linear\", \"use_bias\": true, \"kernel_initializer\": {\"class_name\": \"GlorotUniform\", \"config\": {\"seed\": null}}, \"bias_initializer\": {\"class_name\": \"Zeros\", \"config\": {}}, \"kernel_regularizer\": null, \"bias_regularizer\": null, \"activity_regularizer\": null, \"kernel_constraint\": null, \"bias_constraint\": null}}]}, \"keras_version\": \"2.2.4-tf\", \"backend\": \"tensorflow\"}\n",
            "(330984, 14) (330984, 9) (146907, 14) (146907, 9)\n",
            "Model: \"model_2x400\"\n",
            "_________________________________________________________________\n",
            "Layer (type)                 Output Shape              Param #   \n",
            "=================================================================\n",
            "dense_3 (Dense)              (None, 400)               6000      \n",
            "_________________________________________________________________\n",
            "re_lu_2 (ReLU)               (None, 400)               0         \n",
            "_________________________________________________________________\n",
            "dense_4 (Dense)              (None, 400)               160400    \n",
            "_________________________________________________________________\n",
            "re_lu_3 (ReLU)               (None, 400)               0         \n",
            "_________________________________________________________________\n",
            "dense_5 (Dense)              (None, 9)                 3609      \n",
            "=================================================================\n",
            "Total params: 170,009\n",
            "Trainable params: 170,009\n",
            "Non-trainable params: 0\n",
            "_________________________________________________________________\n",
            "{\"class_name\": \"Sequential\", \"config\": {\"name\": \"model_2x400\", \"layers\": [{\"class_name\": \"Dense\", \"config\": {\"name\": \"dense_3\", \"trainable\": true, \"batch_input_shape\": [null, 14], \"dtype\": \"float32\", \"units\": 400, \"activation\": \"linear\", \"use_bias\": true, \"kernel_initializer\": {\"class_name\": \"VarianceScaling\", \"config\": {\"scale\": 2.0, \"mode\": \"fan_in\", \"distribution\": \"uniform\", \"seed\": null}}, \"bias_initializer\": {\"class_name\": \"Zeros\", \"config\": {}}, \"kernel_regularizer\": null, \"bias_regularizer\": null, \"activity_regularizer\": null, \"kernel_constraint\": null, \"bias_constraint\": null}}, {\"class_name\": \"ReLU\", \"config\": {\"name\": \"re_lu_2\", \"trainable\": true, \"dtype\": \"float32\", \"max_value\": null, \"negative_slope\": 0.0, \"threshold\": 0.0}}, {\"class_name\": \"Dense\", \"config\": {\"name\": \"dense_4\", \"trainable\": true, \"dtype\": \"float32\", \"units\": 400, \"activation\": \"linear\", \"use_bias\": true, \"kernel_initializer\": {\"class_name\": \"VarianceScaling\", \"config\": {\"scale\": 2.0, \"mode\": \"fan_in\", \"distribution\": \"uniform\", \"seed\": null}}, \"bias_initializer\": {\"class_name\": \"Zeros\", \"config\": {}}, \"kernel_regularizer\": null, \"bias_regularizer\": null, \"activity_regularizer\": null, \"kernel_constraint\": null, \"bias_constraint\": null}}, {\"class_name\": \"ReLU\", \"config\": {\"name\": \"re_lu_3\", \"trainable\": true, \"dtype\": \"float32\", \"max_value\": null, \"negative_slope\": 0.0, \"threshold\": 0.0}}, {\"class_name\": \"Dense\", \"config\": {\"name\": \"dense_5\", \"trainable\": true, \"dtype\": \"float32\", \"units\": 9, \"activation\": \"linear\", \"use_bias\": true, \"kernel_initializer\": {\"class_name\": \"GlorotUniform\", \"config\": {\"seed\": null}}, \"bias_initializer\": {\"class_name\": \"Zeros\", \"config\": {}}, \"kernel_regularizer\": null, \"bias_regularizer\": null, \"activity_regularizer\": null, \"kernel_constraint\": null, \"bias_constraint\": null}}]}, \"keras_version\": \"2.2.4-tf\", \"backend\": \"tensorflow\"}\n",
            "(330984, 14) (330984, 9) (146907, 14) (146907, 9)\n",
            "Model: \"model_200\"\n",
            "_________________________________________________________________\n",
            "Layer (type)                 Output Shape              Param #   \n",
            "=================================================================\n",
            "dense_6 (Dense)              (None, 200)               3000      \n",
            "_________________________________________________________________\n",
            "re_lu_4 (ReLU)               (None, 200)               0         \n",
            "_________________________________________________________________\n",
            "dense_7 (Dense)              (None, 9)                 1809      \n",
            "=================================================================\n",
            "Total params: 4,809\n",
            "Trainable params: 4,809\n",
            "Non-trainable params: 0\n",
            "_________________________________________________________________\n",
            "{\"class_name\": \"Sequential\", \"config\": {\"name\": \"model_200\", \"layers\": [{\"class_name\": \"Dense\", \"config\": {\"name\": \"dense_6\", \"trainable\": true, \"batch_input_shape\": [null, 14], \"dtype\": \"float32\", \"units\": 200, \"activation\": \"linear\", \"use_bias\": true, \"kernel_initializer\": {\"class_name\": \"VarianceScaling\", \"config\": {\"scale\": 2.0, \"mode\": \"fan_in\", \"distribution\": \"uniform\", \"seed\": null}}, \"bias_initializer\": {\"class_name\": \"Zeros\", \"config\": {}}, \"kernel_regularizer\": null, \"bias_regularizer\": null, \"activity_regularizer\": null, \"kernel_constraint\": null, \"bias_constraint\": null}}, {\"class_name\": \"ReLU\", \"config\": {\"name\": \"re_lu_4\", \"trainable\": true, \"dtype\": \"float32\", \"max_value\": null, \"negative_slope\": 0.0, \"threshold\": 0.0}}, {\"class_name\": \"Dense\", \"config\": {\"name\": \"dense_7\", \"trainable\": true, \"dtype\": \"float32\", \"units\": 9, \"activation\": \"linear\", \"use_bias\": true, \"kernel_initializer\": {\"class_name\": \"GlorotUniform\", \"config\": {\"seed\": null}}, \"bias_initializer\": {\"class_name\": \"Zeros\", \"config\": {}}, \"kernel_regularizer\": null, \"bias_regularizer\": null, \"activity_regularizer\": null, \"kernel_constraint\": null, \"bias_constraint\": null}}]}, \"keras_version\": \"2.2.4-tf\", \"backend\": \"tensorflow\"}\n",
            "(330984, 14) (330984, 9) (146907, 14) (146907, 9)\n"
          ],
          "name": "stdout"
        }
      ]
    },
    {
      "cell_type": "markdown",
      "metadata": {
        "id": "HtFN-OP2HlqQ",
        "colab_type": "text"
      },
      "source": [
        "## train, save and load model"
      ]
    },
    {
      "cell_type": "code",
      "metadata": {
        "id": "DDmtdBRxJKJd",
        "colab_type": "code",
        "colab": {}
      },
      "source": [
        "def train_model(model_tupel, epochs, batch_size):\n",
        "  model_name = model_tupel[0]\n",
        "  keras_model = model_tupel[1]\n",
        "  train_X, train_Y, test_X, test_Y = model_tupel[2]\n",
        "\n",
        "  callbacks = [\n",
        "              #prepare_checkpoint_callback(model_name=model_name),\n",
        "              #prepare_tensorboard_callback(model_name=model_name)\n",
        "              ]\n",
        "\n",
        "  history = keras_model.fit(train_X,\n",
        "                            train_Y,\n",
        "                            epochs=epochs,\n",
        "                            batch_size=batch_size,\n",
        "                            validation_data=(test_X, test_Y),\n",
        "                            verbose=2,\n",
        "                            callbacks=callbacks\n",
        "                            )\n",
        "  return history  \n",
        "\n",
        "def _format_model_path(model_name):\n",
        "  file_name = '{}_end'.format(model_name)\n",
        "  return os.path.join(saved_model_weight_path, file_name)\n",
        "\n",
        "def save_model(model_tupel):\n",
        "  model_name = model_tupel[0]\n",
        "  keras_model = model_tupel[1]\n",
        "  file_path = _format_model_path(model_name)\n",
        "  keras_model.save_weights(file_path)\n",
        "\n",
        "def load_model(model_tupel):\n",
        "  model_name = model_tupel[0]\n",
        "  keras_model = model_tupel[1]\n",
        "  file_path = _format_model_path(model_name)\n",
        "  exact_file_path = file_path + '.index'\n",
        "  if os.path.isfile(exact_file_path):\n",
        "    print('load model {}'.format(model_name))\n",
        "    keras_model.load_weights(file_path)\n",
        "    return True\n",
        "  else:\n",
        "    return False\n",
        "\n",
        "def _format_history_path(model_name):\n",
        "  file_name = '{}_history_dict'.format(model_name)\n",
        "  return os.path.join(results_folder, file_name)\n",
        "  \n",
        "\n",
        "def save_history(model_tupel, history):\n",
        "  file_path = _format_history_path(model_tupel[0])\n",
        "  with open(file_path, 'wb') as file_hist:\n",
        "        pickle.dump(history.history, file_hist)\n",
        "  \n",
        "\n",
        "def load_history(model_tupel):\n",
        "  file_path = _format_history_path(model_tupel[0])\n",
        "  if not os.path.isfile(file_path):\n",
        "    return dict()\n",
        "  with open(file_path, 'rb') as file_hist:\n",
        "    return pickle.load(file_hist)"
      ],
      "execution_count": 0,
      "outputs": []
    },
    {
      "cell_type": "code",
      "metadata": {
        "id": "DxQg934JhE_H",
        "colab_type": "code",
        "outputId": "49cdabd1-0f77-488e-f56d-77ae1536f980",
        "colab": {
          "base_uri": "https://localhost:8080/",
          "height": 1000
        }
      },
      "source": [
        "histories = []\n",
        "for model in models:\n",
        "  if not load_model(model):\n",
        "    print(model[0])\n",
        "    history = train_model(model, epochs=100, batch_size=64)\n",
        "    save_model(model)\n",
        "    save_history(model, history)\n",
        "    histories.append(history.history)\n",
        "    print('*******************')\n",
        "  else:\n",
        "    history = load_history(model)\n",
        "    histories.append(history)"
      ],
      "execution_count": 0,
      "outputs": [
        {
          "output_type": "stream",
          "text": [
            "model_2x500\n",
            "Train on 330984 samples, validate on 146907 samples\n",
            "Epoch 1/100\n",
            "330984/330984 - 24s - loss: 9.0401e-04 - mean_squared_error: 9.0401e-04 - mean_absolute_error: 0.0113 - val_loss: 1.4306e-04 - val_mean_squared_error: 1.4306e-04 - val_mean_absolute_error: 0.0080\n",
            "Epoch 2/100\n",
            "330984/330984 - 23s - loss: 7.2693e-05 - mean_squared_error: 7.2693e-05 - mean_absolute_error: 0.0063 - val_loss: 6.8363e-05 - val_mean_squared_error: 6.8363e-05 - val_mean_absolute_error: 0.0058\n",
            "Epoch 3/100\n",
            "330984/330984 - 23s - loss: 2.7102e-05 - mean_squared_error: 2.7102e-05 - mean_absolute_error: 0.0038 - val_loss: 5.4511e-05 - val_mean_squared_error: 5.4511e-05 - val_mean_absolute_error: 0.0050\n",
            "Epoch 4/100\n",
            "330984/330984 - 23s - loss: 1.6168e-05 - mean_squared_error: 1.6168e-05 - mean_absolute_error: 0.0028 - val_loss: 3.4487e-05 - val_mean_squared_error: 3.4487e-05 - val_mean_absolute_error: 0.0036\n",
            "Epoch 5/100\n",
            "330984/330984 - 23s - loss: 1.1936e-05 - mean_squared_error: 1.1936e-05 - mean_absolute_error: 0.0024 - val_loss: 4.5262e-05 - val_mean_squared_error: 4.5262e-05 - val_mean_absolute_error: 0.0042\n",
            "Epoch 6/100\n",
            "330984/330984 - 23s - loss: 8.9300e-06 - mean_squared_error: 8.9300e-06 - mean_absolute_error: 0.0020 - val_loss: 3.4061e-05 - val_mean_squared_error: 3.4061e-05 - val_mean_absolute_error: 0.0035\n",
            "Epoch 7/100\n",
            "330984/330984 - 23s - loss: 8.2333e-06 - mean_squared_error: 8.2333e-06 - mean_absolute_error: 0.0018 - val_loss: 3.1041e-05 - val_mean_squared_error: 3.1041e-05 - val_mean_absolute_error: 0.0029\n",
            "Epoch 8/100\n",
            "330984/330984 - 25s - loss: 7.6196e-06 - mean_squared_error: 7.6196e-06 - mean_absolute_error: 0.0017 - val_loss: 3.0689e-05 - val_mean_squared_error: 3.0689e-05 - val_mean_absolute_error: 0.0028\n",
            "Epoch 9/100\n",
            "330984/330984 - 23s - loss: 6.7560e-06 - mean_squared_error: 6.7560e-06 - mean_absolute_error: 0.0016 - val_loss: 3.5285e-05 - val_mean_squared_error: 3.5285e-05 - val_mean_absolute_error: 0.0030\n",
            "Epoch 10/100\n",
            "330984/330984 - 24s - loss: 6.3629e-06 - mean_squared_error: 6.3629e-06 - mean_absolute_error: 0.0016 - val_loss: 3.1648e-05 - val_mean_squared_error: 3.1648e-05 - val_mean_absolute_error: 0.0028\n",
            "Epoch 11/100\n",
            "330984/330984 - 23s - loss: 6.0961e-06 - mean_squared_error: 6.0961e-06 - mean_absolute_error: 0.0015 - val_loss: 3.7715e-05 - val_mean_squared_error: 3.7715e-05 - val_mean_absolute_error: 0.0031\n",
            "Epoch 12/100\n",
            "330984/330984 - 23s - loss: 5.8400e-06 - mean_squared_error: 5.8400e-06 - mean_absolute_error: 0.0015 - val_loss: 2.9505e-05 - val_mean_squared_error: 2.9505e-05 - val_mean_absolute_error: 0.0025\n",
            "Epoch 13/100\n",
            "330984/330984 - 23s - loss: 5.5510e-06 - mean_squared_error: 5.5510e-06 - mean_absolute_error: 0.0014 - val_loss: 3.2303e-05 - val_mean_squared_error: 3.2303e-05 - val_mean_absolute_error: 0.0029\n",
            "Epoch 14/100\n",
            "330984/330984 - 23s - loss: 5.6523e-06 - mean_squared_error: 5.6523e-06 - mean_absolute_error: 0.0014 - val_loss: 4.1869e-05 - val_mean_squared_error: 4.1869e-05 - val_mean_absolute_error: 0.0033\n",
            "Epoch 15/100\n",
            "330984/330984 - 23s - loss: 5.1282e-06 - mean_squared_error: 5.1282e-06 - mean_absolute_error: 0.0013 - val_loss: 3.2856e-05 - val_mean_squared_error: 3.2856e-05 - val_mean_absolute_error: 0.0029\n",
            "Epoch 16/100\n",
            "330984/330984 - 23s - loss: 4.9955e-06 - mean_squared_error: 4.9955e-06 - mean_absolute_error: 0.0013 - val_loss: 3.4971e-05 - val_mean_squared_error: 3.4971e-05 - val_mean_absolute_error: 0.0031\n",
            "Epoch 17/100\n",
            "330984/330984 - 23s - loss: 5.0320e-06 - mean_squared_error: 5.0320e-06 - mean_absolute_error: 0.0013 - val_loss: 3.9528e-05 - val_mean_squared_error: 3.9528e-05 - val_mean_absolute_error: 0.0032\n",
            "Epoch 18/100\n",
            "330984/330984 - 23s - loss: 4.8205e-06 - mean_squared_error: 4.8205e-06 - mean_absolute_error: 0.0013 - val_loss: 3.1156e-05 - val_mean_squared_error: 3.1156e-05 - val_mean_absolute_error: 0.0025\n",
            "Epoch 19/100\n",
            "330984/330984 - 23s - loss: 4.6838e-06 - mean_squared_error: 4.6838e-06 - mean_absolute_error: 0.0012 - val_loss: 3.1943e-05 - val_mean_squared_error: 3.1943e-05 - val_mean_absolute_error: 0.0024\n",
            "Epoch 20/100\n",
            "330984/330984 - 23s - loss: 4.5589e-06 - mean_squared_error: 4.5589e-06 - mean_absolute_error: 0.0012 - val_loss: 3.3196e-05 - val_mean_squared_error: 3.3196e-05 - val_mean_absolute_error: 0.0027\n",
            "Epoch 21/100\n",
            "330984/330984 - 23s - loss: 4.5939e-06 - mean_squared_error: 4.5940e-06 - mean_absolute_error: 0.0012 - val_loss: 3.4324e-05 - val_mean_squared_error: 3.4324e-05 - val_mean_absolute_error: 0.0026\n",
            "Epoch 22/100\n",
            "330984/330984 - 24s - loss: 4.4113e-06 - mean_squared_error: 4.4113e-06 - mean_absolute_error: 0.0012 - val_loss: 4.3903e-05 - val_mean_squared_error: 4.3903e-05 - val_mean_absolute_error: 0.0038\n",
            "Epoch 23/100\n",
            "330984/330984 - 24s - loss: 4.3482e-06 - mean_squared_error: 4.3482e-06 - mean_absolute_error: 0.0012 - val_loss: 3.2708e-05 - val_mean_squared_error: 3.2708e-05 - val_mean_absolute_error: 0.0025\n",
            "Epoch 24/100\n",
            "330984/330984 - 23s - loss: 4.3491e-06 - mean_squared_error: 4.3491e-06 - mean_absolute_error: 0.0011 - val_loss: 3.5164e-05 - val_mean_squared_error: 3.5164e-05 - val_mean_absolute_error: 0.0029\n",
            "Epoch 25/100\n",
            "330984/330984 - 23s - loss: 4.2373e-06 - mean_squared_error: 4.2373e-06 - mean_absolute_error: 0.0011 - val_loss: 3.0390e-05 - val_mean_squared_error: 3.0390e-05 - val_mean_absolute_error: 0.0022\n",
            "Epoch 26/100\n",
            "330984/330984 - 23s - loss: 4.1136e-06 - mean_squared_error: 4.1136e-06 - mean_absolute_error: 0.0011 - val_loss: 3.0602e-05 - val_mean_squared_error: 3.0602e-05 - val_mean_absolute_error: 0.0022\n",
            "Epoch 27/100\n",
            "330984/330984 - 23s - loss: 4.1303e-06 - mean_squared_error: 4.1303e-06 - mean_absolute_error: 0.0011 - val_loss: 6.1618e-05 - val_mean_squared_error: 6.1618e-05 - val_mean_absolute_error: 0.0050\n",
            "Epoch 28/100\n",
            "330984/330984 - 23s - loss: 3.9255e-06 - mean_squared_error: 3.9255e-06 - mean_absolute_error: 0.0011 - val_loss: 3.0877e-05 - val_mean_squared_error: 3.0877e-05 - val_mean_absolute_error: 0.0024\n",
            "Epoch 29/100\n",
            "330984/330984 - 23s - loss: 4.0184e-06 - mean_squared_error: 4.0184e-06 - mean_absolute_error: 0.0011 - val_loss: 3.0359e-05 - val_mean_squared_error: 3.0359e-05 - val_mean_absolute_error: 0.0024\n",
            "Epoch 30/100\n",
            "330984/330984 - 23s - loss: 3.9858e-06 - mean_squared_error: 3.9858e-06 - mean_absolute_error: 0.0011 - val_loss: 3.3603e-05 - val_mean_squared_error: 3.3603e-05 - val_mean_absolute_error: 0.0026\n",
            "Epoch 31/100\n",
            "330984/330984 - 23s - loss: 3.9649e-06 - mean_squared_error: 3.9649e-06 - mean_absolute_error: 0.0011 - val_loss: 2.9163e-05 - val_mean_squared_error: 2.9163e-05 - val_mean_absolute_error: 0.0024\n",
            "Epoch 32/100\n",
            "330984/330984 - 23s - loss: 3.7427e-06 - mean_squared_error: 3.7427e-06 - mean_absolute_error: 0.0010 - val_loss: 3.4531e-05 - val_mean_squared_error: 3.4531e-05 - val_mean_absolute_error: 0.0028\n",
            "Epoch 33/100\n",
            "330984/330984 - 23s - loss: 3.8139e-06 - mean_squared_error: 3.8139e-06 - mean_absolute_error: 0.0010 - val_loss: 2.7348e-05 - val_mean_squared_error: 2.7348e-05 - val_mean_absolute_error: 0.0021\n",
            "Epoch 34/100\n",
            "330984/330984 - 23s - loss: 3.8540e-06 - mean_squared_error: 3.8540e-06 - mean_absolute_error: 0.0010 - val_loss: 3.0234e-05 - val_mean_squared_error: 3.0234e-05 - val_mean_absolute_error: 0.0023\n",
            "Epoch 35/100\n",
            "330984/330984 - 24s - loss: 3.6617e-06 - mean_squared_error: 3.6617e-06 - mean_absolute_error: 0.0010 - val_loss: 2.7660e-05 - val_mean_squared_error: 2.7660e-05 - val_mean_absolute_error: 0.0023\n",
            "Epoch 36/100\n",
            "330984/330984 - 24s - loss: 3.6497e-06 - mean_squared_error: 3.6497e-06 - mean_absolute_error: 9.9040e-04 - val_loss: 2.8714e-05 - val_mean_squared_error: 2.8714e-05 - val_mean_absolute_error: 0.0022\n",
            "Epoch 37/100\n",
            "330984/330984 - 23s - loss: 3.5215e-06 - mean_squared_error: 3.5215e-06 - mean_absolute_error: 9.8215e-04 - val_loss: 2.7277e-05 - val_mean_squared_error: 2.7277e-05 - val_mean_absolute_error: 0.0022\n",
            "Epoch 38/100\n",
            "330984/330984 - 23s - loss: 3.6149e-06 - mean_squared_error: 3.6149e-06 - mean_absolute_error: 9.7540e-04 - val_loss: 3.0082e-05 - val_mean_squared_error: 3.0082e-05 - val_mean_absolute_error: 0.0023\n",
            "Epoch 39/100\n",
            "330984/330984 - 23s - loss: 3.6870e-06 - mean_squared_error: 3.6870e-06 - mean_absolute_error: 9.7387e-04 - val_loss: 2.9302e-05 - val_mean_squared_error: 2.9302e-05 - val_mean_absolute_error: 0.0021\n",
            "Epoch 40/100\n",
            "330984/330984 - 23s - loss: 3.5965e-06 - mean_squared_error: 3.5965e-06 - mean_absolute_error: 9.5627e-04 - val_loss: 2.7881e-05 - val_mean_squared_error: 2.7881e-05 - val_mean_absolute_error: 0.0021\n",
            "Epoch 41/100\n",
            "330984/330984 - 23s - loss: 3.5882e-06 - mean_squared_error: 3.5882e-06 - mean_absolute_error: 9.6003e-04 - val_loss: 3.1500e-05 - val_mean_squared_error: 3.1501e-05 - val_mean_absolute_error: 0.0023\n",
            "Epoch 42/100\n",
            "330984/330984 - 23s - loss: 3.3848e-06 - mean_squared_error: 3.3848e-06 - mean_absolute_error: 9.1862e-04 - val_loss: 2.5740e-05 - val_mean_squared_error: 2.5740e-05 - val_mean_absolute_error: 0.0018\n",
            "Epoch 43/100\n",
            "330984/330984 - 23s - loss: 3.4561e-06 - mean_squared_error: 3.4561e-06 - mean_absolute_error: 9.4551e-04 - val_loss: 2.7201e-05 - val_mean_squared_error: 2.7201e-05 - val_mean_absolute_error: 0.0020\n",
            "Epoch 44/100\n",
            "330984/330984 - 23s - loss: 3.4794e-06 - mean_squared_error: 3.4794e-06 - mean_absolute_error: 9.3713e-04 - val_loss: 2.8391e-05 - val_mean_squared_error: 2.8391e-05 - val_mean_absolute_error: 0.0023\n",
            "Epoch 45/100\n",
            "330984/330984 - 23s - loss: 3.2938e-06 - mean_squared_error: 3.2937e-06 - mean_absolute_error: 8.9694e-04 - val_loss: 2.6177e-05 - val_mean_squared_error: 2.6177e-05 - val_mean_absolute_error: 0.0020\n",
            "Epoch 46/100\n",
            "330984/330984 - 23s - loss: 3.5057e-06 - mean_squared_error: 3.5057e-06 - mean_absolute_error: 9.3789e-04 - val_loss: 2.6029e-05 - val_mean_squared_error: 2.6029e-05 - val_mean_absolute_error: 0.0020\n",
            "Epoch 47/100\n",
            "330984/330984 - 23s - loss: 3.3524e-06 - mean_squared_error: 3.3524e-06 - mean_absolute_error: 9.1940e-04 - val_loss: 2.7885e-05 - val_mean_squared_error: 2.7885e-05 - val_mean_absolute_error: 0.0020\n",
            "Epoch 48/100\n",
            "330984/330984 - 24s - loss: 3.1959e-06 - mean_squared_error: 3.1959e-06 - mean_absolute_error: 8.8956e-04 - val_loss: 2.8333e-05 - val_mean_squared_error: 2.8333e-05 - val_mean_absolute_error: 0.0024\n",
            "Epoch 49/100\n",
            "330984/330984 - 24s - loss: 3.4796e-06 - mean_squared_error: 3.4796e-06 - mean_absolute_error: 9.1646e-04 - val_loss: 2.6850e-05 - val_mean_squared_error: 2.6850e-05 - val_mean_absolute_error: 0.0020\n",
            "Epoch 50/100\n",
            "330984/330984 - 23s - loss: 3.1933e-06 - mean_squared_error: 3.1933e-06 - mean_absolute_error: 9.0126e-04 - val_loss: 2.6531e-05 - val_mean_squared_error: 2.6531e-05 - val_mean_absolute_error: 0.0020\n",
            "Epoch 51/100\n",
            "330984/330984 - 23s - loss: 3.2910e-06 - mean_squared_error: 3.2910e-06 - mean_absolute_error: 9.1010e-04 - val_loss: 2.5243e-05 - val_mean_squared_error: 2.5243e-05 - val_mean_absolute_error: 0.0019\n",
            "Epoch 52/100\n",
            "330984/330984 - 23s - loss: 3.4130e-06 - mean_squared_error: 3.4130e-06 - mean_absolute_error: 8.9374e-04 - val_loss: 3.2558e-05 - val_mean_squared_error: 3.2558e-05 - val_mean_absolute_error: 0.0026\n",
            "Epoch 53/100\n",
            "330984/330984 - 23s - loss: 3.1679e-06 - mean_squared_error: 3.1679e-06 - mean_absolute_error: 8.7871e-04 - val_loss: 2.5863e-05 - val_mean_squared_error: 2.5863e-05 - val_mean_absolute_error: 0.0020\n",
            "Epoch 54/100\n",
            "330984/330984 - 23s - loss: 3.3184e-06 - mean_squared_error: 3.3184e-06 - mean_absolute_error: 8.8047e-04 - val_loss: 2.6952e-05 - val_mean_squared_error: 2.6952e-05 - val_mean_absolute_error: 0.0021\n",
            "Epoch 55/100\n",
            "330984/330984 - 23s - loss: 3.2140e-06 - mean_squared_error: 3.2140e-06 - mean_absolute_error: 8.9024e-04 - val_loss: 2.8622e-05 - val_mean_squared_error: 2.8622e-05 - val_mean_absolute_error: 0.0022\n",
            "Epoch 56/100\n",
            "330984/330984 - 23s - loss: 3.1967e-06 - mean_squared_error: 3.1967e-06 - mean_absolute_error: 8.7473e-04 - val_loss: 2.8391e-05 - val_mean_squared_error: 2.8391e-05 - val_mean_absolute_error: 0.0025\n",
            "Epoch 57/100\n",
            "330984/330984 - 23s - loss: 3.2098e-06 - mean_squared_error: 3.2098e-06 - mean_absolute_error: 8.6192e-04 - val_loss: 2.8397e-05 - val_mean_squared_error: 2.8397e-05 - val_mean_absolute_error: 0.0021\n",
            "Epoch 58/100\n",
            "330984/330984 - 23s - loss: 3.2461e-06 - mean_squared_error: 3.2461e-06 - mean_absolute_error: 8.7024e-04 - val_loss: 2.5812e-05 - val_mean_squared_error: 2.5812e-05 - val_mean_absolute_error: 0.0021\n",
            "Epoch 59/100\n",
            "330984/330984 - 23s - loss: 3.1421e-06 - mean_squared_error: 3.1421e-06 - mean_absolute_error: 8.5176e-04 - val_loss: 3.2433e-05 - val_mean_squared_error: 3.2433e-05 - val_mean_absolute_error: 0.0029\n",
            "Epoch 60/100\n",
            "330984/330984 - 23s - loss: 3.3186e-06 - mean_squared_error: 3.3186e-06 - mean_absolute_error: 8.8073e-04 - val_loss: 2.9543e-05 - val_mean_squared_error: 2.9543e-05 - val_mean_absolute_error: 0.0022\n",
            "Epoch 61/100\n",
            "330984/330984 - 23s - loss: 3.0746e-06 - mean_squared_error: 3.0746e-06 - mean_absolute_error: 8.4501e-04 - val_loss: 2.7118e-05 - val_mean_squared_error: 2.7118e-05 - val_mean_absolute_error: 0.0022\n",
            "Epoch 62/100\n",
            "330984/330984 - 25s - loss: 3.2453e-06 - mean_squared_error: 3.2453e-06 - mean_absolute_error: 8.5238e-04 - val_loss: 2.8729e-05 - val_mean_squared_error: 2.8729e-05 - val_mean_absolute_error: 0.0020\n",
            "Epoch 63/100\n",
            "330984/330984 - 24s - loss: 3.0273e-06 - mean_squared_error: 3.0273e-06 - mean_absolute_error: 8.3299e-04 - val_loss: 2.5164e-05 - val_mean_squared_error: 2.5164e-05 - val_mean_absolute_error: 0.0020\n",
            "Epoch 64/100\n",
            "330984/330984 - 23s - loss: 3.2171e-06 - mean_squared_error: 3.2171e-06 - mean_absolute_error: 8.3420e-04 - val_loss: 2.6211e-05 - val_mean_squared_error: 2.6211e-05 - val_mean_absolute_error: 0.0022\n",
            "Epoch 65/100\n",
            "330984/330984 - 23s - loss: 3.2153e-06 - mean_squared_error: 3.2153e-06 - mean_absolute_error: 8.4690e-04 - val_loss: 2.6429e-05 - val_mean_squared_error: 2.6429e-05 - val_mean_absolute_error: 0.0020\n",
            "Epoch 66/100\n",
            "330984/330984 - 23s - loss: 2.9909e-06 - mean_squared_error: 2.9909e-06 - mean_absolute_error: 8.0696e-04 - val_loss: 2.5671e-05 - val_mean_squared_error: 2.5671e-05 - val_mean_absolute_error: 0.0020\n",
            "Epoch 67/100\n",
            "330984/330984 - 23s - loss: 3.1022e-06 - mean_squared_error: 3.1022e-06 - mean_absolute_error: 8.2370e-04 - val_loss: 2.5324e-05 - val_mean_squared_error: 2.5324e-05 - val_mean_absolute_error: 0.0022\n",
            "Epoch 68/100\n",
            "330984/330984 - 23s - loss: 2.9687e-06 - mean_squared_error: 2.9687e-06 - mean_absolute_error: 8.1004e-04 - val_loss: 2.5117e-05 - val_mean_squared_error: 2.5117e-05 - val_mean_absolute_error: 0.0021\n",
            "Epoch 69/100\n",
            "330984/330984 - 22s - loss: 3.1188e-06 - mean_squared_error: 3.1188e-06 - mean_absolute_error: 8.3143e-04 - val_loss: 2.3400e-05 - val_mean_squared_error: 2.3400e-05 - val_mean_absolute_error: 0.0022\n",
            "Epoch 70/100\n",
            "330984/330984 - 23s - loss: 3.0389e-06 - mean_squared_error: 3.0389e-06 - mean_absolute_error: 7.9984e-04 - val_loss: 2.5739e-05 - val_mean_squared_error: 2.5739e-05 - val_mean_absolute_error: 0.0021\n",
            "Epoch 71/100\n",
            "330984/330984 - 23s - loss: 3.0364e-06 - mean_squared_error: 3.0364e-06 - mean_absolute_error: 8.1510e-04 - val_loss: 2.6685e-05 - val_mean_squared_error: 2.6685e-05 - val_mean_absolute_error: 0.0021\n",
            "Epoch 72/100\n",
            "330984/330984 - 23s - loss: 3.0120e-06 - mean_squared_error: 3.0120e-06 - mean_absolute_error: 7.9964e-04 - val_loss: 2.6976e-05 - val_mean_squared_error: 2.6976e-05 - val_mean_absolute_error: 0.0024\n",
            "Epoch 73/100\n",
            "330984/330984 - 23s - loss: 3.0736e-06 - mean_squared_error: 3.0736e-06 - mean_absolute_error: 8.0527e-04 - val_loss: 2.5794e-05 - val_mean_squared_error: 2.5794e-05 - val_mean_absolute_error: 0.0019\n",
            "Epoch 74/100\n",
            "330984/330984 - 22s - loss: 3.0503e-06 - mean_squared_error: 3.0503e-06 - mean_absolute_error: 8.0622e-04 - val_loss: 2.6009e-05 - val_mean_squared_error: 2.6009e-05 - val_mean_absolute_error: 0.0021\n",
            "Epoch 75/100\n",
            "330984/330984 - 24s - loss: 2.9646e-06 - mean_squared_error: 2.9646e-06 - mean_absolute_error: 7.9616e-04 - val_loss: 3.1878e-05 - val_mean_squared_error: 3.1878e-05 - val_mean_absolute_error: 0.0029\n",
            "Epoch 76/100\n",
            "330984/330984 - 23s - loss: 3.0056e-06 - mean_squared_error: 3.0056e-06 - mean_absolute_error: 7.9936e-04 - val_loss: 2.6925e-05 - val_mean_squared_error: 2.6925e-05 - val_mean_absolute_error: 0.0023\n",
            "Epoch 77/100\n",
            "330984/330984 - 23s - loss: 2.9857e-06 - mean_squared_error: 2.9857e-06 - mean_absolute_error: 7.8232e-04 - val_loss: 2.9136e-05 - val_mean_squared_error: 2.9136e-05 - val_mean_absolute_error: 0.0025\n",
            "Epoch 78/100\n",
            "330984/330984 - 23s - loss: 3.0375e-06 - mean_squared_error: 3.0375e-06 - mean_absolute_error: 8.0290e-04 - val_loss: 2.7466e-05 - val_mean_squared_error: 2.7466e-05 - val_mean_absolute_error: 0.0022\n",
            "Epoch 79/100\n",
            "330984/330984 - 22s - loss: 2.8884e-06 - mean_squared_error: 2.8884e-06 - mean_absolute_error: 7.8298e-04 - val_loss: 2.7283e-05 - val_mean_squared_error: 2.7283e-05 - val_mean_absolute_error: 0.0022\n",
            "Epoch 80/100\n",
            "330984/330984 - 23s - loss: 3.0283e-06 - mean_squared_error: 3.0283e-06 - mean_absolute_error: 7.8135e-04 - val_loss: 2.6437e-05 - val_mean_squared_error: 2.6437e-05 - val_mean_absolute_error: 0.0022\n",
            "Epoch 81/100\n",
            "330984/330984 - 23s - loss: 2.9019e-06 - mean_squared_error: 2.9019e-06 - mean_absolute_error: 7.7663e-04 - val_loss: 2.6108e-05 - val_mean_squared_error: 2.6108e-05 - val_mean_absolute_error: 0.0022\n",
            "Epoch 82/100\n",
            "330984/330984 - 22s - loss: 2.9373e-06 - mean_squared_error: 2.9373e-06 - mean_absolute_error: 7.8009e-04 - val_loss: 2.5753e-05 - val_mean_squared_error: 2.5753e-05 - val_mean_absolute_error: 0.0022\n",
            "Epoch 83/100\n",
            "330984/330984 - 22s - loss: 2.9806e-06 - mean_squared_error: 2.9806e-06 - mean_absolute_error: 7.7607e-04 - val_loss: 2.5783e-05 - val_mean_squared_error: 2.5783e-05 - val_mean_absolute_error: 0.0020\n",
            "Epoch 84/100\n",
            "330984/330984 - 23s - loss: 2.9423e-06 - mean_squared_error: 2.9423e-06 - mean_absolute_error: 7.7272e-04 - val_loss: 2.6421e-05 - val_mean_squared_error: 2.6421e-05 - val_mean_absolute_error: 0.0019\n",
            "Epoch 85/100\n",
            "330984/330984 - 23s - loss: 2.9541e-06 - mean_squared_error: 2.9541e-06 - mean_absolute_error: 7.7118e-04 - val_loss: 2.5080e-05 - val_mean_squared_error: 2.5080e-05 - val_mean_absolute_error: 0.0019\n",
            "Epoch 86/100\n",
            "330984/330984 - 23s - loss: 2.8060e-06 - mean_squared_error: 2.8060e-06 - mean_absolute_error: 7.5041e-04 - val_loss: 2.5581e-05 - val_mean_squared_error: 2.5581e-05 - val_mean_absolute_error: 0.0022\n",
            "Epoch 87/100\n",
            "330984/330984 - 22s - loss: 2.9068e-06 - mean_squared_error: 2.9068e-06 - mean_absolute_error: 7.8595e-04 - val_loss: 2.6104e-05 - val_mean_squared_error: 2.6104e-05 - val_mean_absolute_error: 0.0022\n",
            "Epoch 88/100\n",
            "330984/330984 - 23s - loss: 2.9001e-06 - mean_squared_error: 2.9001e-06 - mean_absolute_error: 7.5539e-04 - val_loss: 2.6568e-05 - val_mean_squared_error: 2.6568e-05 - val_mean_absolute_error: 0.0020\n",
            "Epoch 89/100\n",
            "330984/330984 - 25s - loss: 2.8914e-06 - mean_squared_error: 2.8914e-06 - mean_absolute_error: 7.5759e-04 - val_loss: 2.9855e-05 - val_mean_squared_error: 2.9855e-05 - val_mean_absolute_error: 0.0020\n",
            "Epoch 90/100\n",
            "330984/330984 - 23s - loss: 2.9744e-06 - mean_squared_error: 2.9744e-06 - mean_absolute_error: 7.7588e-04 - val_loss: 2.6402e-05 - val_mean_squared_error: 2.6402e-05 - val_mean_absolute_error: 0.0023\n",
            "Epoch 91/100\n",
            "330984/330984 - 23s - loss: 2.8991e-06 - mean_squared_error: 2.8991e-06 - mean_absolute_error: 7.4236e-04 - val_loss: 2.5848e-05 - val_mean_squared_error: 2.5848e-05 - val_mean_absolute_error: 0.0020\n",
            "Epoch 92/100\n",
            "330984/330984 - 22s - loss: 2.7937e-06 - mean_squared_error: 2.7937e-06 - mean_absolute_error: 7.3666e-04 - val_loss: 2.8987e-05 - val_mean_squared_error: 2.8987e-05 - val_mean_absolute_error: 0.0023\n",
            "Epoch 93/100\n",
            "330984/330984 - 22s - loss: 2.8715e-06 - mean_squared_error: 2.8715e-06 - mean_absolute_error: 7.5259e-04 - val_loss: 2.5685e-05 - val_mean_squared_error: 2.5685e-05 - val_mean_absolute_error: 0.0019\n",
            "Epoch 94/100\n",
            "330984/330984 - 22s - loss: 2.9389e-06 - mean_squared_error: 2.9389e-06 - mean_absolute_error: 7.5846e-04 - val_loss: 2.7426e-05 - val_mean_squared_error: 2.7426e-05 - val_mean_absolute_error: 0.0020\n",
            "Epoch 95/100\n",
            "330984/330984 - 22s - loss: 2.8419e-06 - mean_squared_error: 2.8419e-06 - mean_absolute_error: 7.4002e-04 - val_loss: 2.7457e-05 - val_mean_squared_error: 2.7457e-05 - val_mean_absolute_error: 0.0019\n",
            "Epoch 96/100\n",
            "330984/330984 - 23s - loss: 2.9023e-06 - mean_squared_error: 2.9023e-06 - mean_absolute_error: 7.5765e-04 - val_loss: 2.9626e-05 - val_mean_squared_error: 2.9626e-05 - val_mean_absolute_error: 0.0021\n",
            "Epoch 97/100\n",
            "330984/330984 - 22s - loss: 2.7977e-06 - mean_squared_error: 2.7977e-06 - mean_absolute_error: 7.2850e-04 - val_loss: 2.8587e-05 - val_mean_squared_error: 2.8587e-05 - val_mean_absolute_error: 0.0022\n",
            "Epoch 98/100\n",
            "330984/330984 - 22s - loss: 2.7685e-06 - mean_squared_error: 2.7685e-06 - mean_absolute_error: 7.3278e-04 - val_loss: 2.3832e-05 - val_mean_squared_error: 2.3832e-05 - val_mean_absolute_error: 0.0019\n",
            "Epoch 99/100\n",
            "330984/330984 - 23s - loss: 2.7797e-06 - mean_squared_error: 2.7797e-06 - mean_absolute_error: 7.4360e-04 - val_loss: 2.7940e-05 - val_mean_squared_error: 2.7940e-05 - val_mean_absolute_error: 0.0021\n",
            "Epoch 100/100\n",
            "330984/330984 - 23s - loss: 2.9111e-06 - mean_squared_error: 2.9111e-06 - mean_absolute_error: 7.6041e-04 - val_loss: 2.6836e-05 - val_mean_squared_error: 2.6836e-05 - val_mean_absolute_error: 0.0020\n",
            "*******************\n",
            "load model model_2x400\n",
            "load model model_200\n"
          ],
          "name": "stdout"
        }
      ]
    },
    {
      "cell_type": "markdown",
      "metadata": {
        "id": "XRLpUIJnZ-eq",
        "colab_type": "text"
      },
      "source": [
        "## visualize"
      ]
    },
    {
      "cell_type": "markdown",
      "metadata": {
        "id": "8X1nsxWEO59n",
        "colab_type": "text"
      },
      "source": [
        "### Test & Training Loss"
      ]
    },
    {
      "cell_type": "code",
      "metadata": {
        "id": "q7eOZ0lAe1CP",
        "colab_type": "code",
        "outputId": "f8d78b35-bc0f-4218-b613-d1b812b4d54d",
        "colab": {
          "base_uri": "https://localhost:8080/",
          "height": 178
        }
      },
      "source": [
        "for i, history in enumerate(histories):\n",
        "  last_loss = history['loss'][-1]\n",
        "  last_val_loss = history['val_loss'][-1]\n",
        "  model_name = models[i][0]\n",
        "  print('{} model last loss: {}'.format(model_name,last_loss))\n",
        "  print('{} model last val loss: {}'.format(model_name,last_val_loss))\n",
        "  print('*******')"
      ],
      "execution_count": 0,
      "outputs": [
        {
          "output_type": "stream",
          "text": [
            "model_2x500 model last loss: 2.911079356857602e-06\n",
            "model_2x500 model last val loss: 2.6835626180211496e-05\n",
            "*******\n",
            "model_2x400 model last loss: 2.7812689524818215e-06\n",
            "model_2x400 model last val loss: 2.5368785037736533e-05\n",
            "*******\n",
            "model_200 model last loss: 2.600873209489758e-06\n",
            "model_200 model last val loss: 2.6506395840577124e-05\n",
            "*******\n"
          ],
          "name": "stdout"
        }
      ]
    },
    {
      "cell_type": "code",
      "metadata": {
        "id": "gbFhTgXGITKV",
        "colab_type": "code",
        "outputId": "d16bd9a7-0817-4a62-abe2-829226ae280b",
        "colab": {
          "base_uri": "https://localhost:8080/",
          "height": 606
        }
      },
      "source": [
        "pas_history(models, histories=histories)"
      ],
      "execution_count": 0,
      "outputs": [
        {
          "output_type": "display_data",
          "data": {
            "image/png": "[encoded data removed]",
            "text/plain": [
              "<Figure size 1152x720 with 1 Axes>"
            ]
          },
          "metadata": {
            "tags": []
          }
        }
      ]
    },
    {
      "cell_type": "markdown",
      "metadata": {
        "id": "4vT7MLiJPSQ2",
        "colab_type": "text"
      },
      "source": [
        "\n",
        "### MSE per target (scaled)"
      ]
    },
    {
      "cell_type": "code",
      "metadata": {
        "id": "o03Cq_x5nhRe",
        "colab_type": "code",
        "outputId": "cbb70eba-74c6-4191-d5c7-d5ea285fa484",
        "colab": {
          "base_uri": "https://localhost:8080/",
          "height": 928
        }
      },
      "source": [
        "for model_tupel in models:\n",
        "  df = pas_metrics_scaled(model_tupel)\n",
        "  print(model_tupel[0])\n",
        "  with pd.option_context('display.max_rows', None, 'display.max_columns', None,\n",
        "                         'display.width', 1000): \n",
        "    print(df)\n",
        "  print('*********************************************************')"
      ],
      "execution_count": 0,
      "outputs": [
        {
          "output_type": "stream",
          "text": [
            "model_2x500\n",
            "          Vtrue,_ktas      __VVI,__fpm      ____Q,rad/s      ____P,rad/s      ____R,rad/s      pitch,__deg      _roll,__deg      _beta,__deg      __alt,ftmsl \n",
            "count    146907.000000    146907.000000    146907.000000    146907.000000    146907.000000    146907.000000    146907.000000    146907.000000    146907.000000\n",
            "mean          0.504412         0.737227         0.570341         0.485060         0.485233         0.531587         0.464654         0.620080         0.541116\n",
            "std           0.106511         0.106115         0.096593         0.137143         0.297851         0.109146         0.243538         0.211064         0.313282\n",
            "min          -0.145712         0.315198         0.075314        -0.114067         0.001815         0.194934         0.019929        -0.224448         0.020174\n",
            "25%           0.491325         0.719309         0.483381         0.478066         0.141444         0.498651         0.178618         0.402814         0.258517\n",
            "50%           0.516065         0.736735         0.612474         0.485824         0.495373         0.523474         0.475117         0.619407         0.502333\n",
            "75%           0.540668         0.757760         0.622681         0.493745         0.817728         0.538931         0.733206         0.857215         0.743406\n",
            "max           0.863996         1.112528         0.958919         1.093909         0.990564         1.288604         0.928746         1.008269         0.980654\n",
            "mses          0.000023         0.000052         0.000026         0.000039         0.000029         0.000020         0.000011         0.000027         0.000015\n",
            "rmes          0.004782         0.007196         0.005139         0.006260         0.005364         0.004466         0.003255         0.005233         0.003818\n",
            "maes          0.001833         0.002451         0.002650         0.002474         0.002003         0.001849         0.001354         0.001973         0.001102\n",
            "mse           0.000027         0.000027         0.000027         0.000027         0.000027         0.000027         0.000027         0.000027         0.000027\n",
            "rme           0.005180         0.005180         0.005180         0.005180         0.005180         0.005180         0.005180         0.005180         0.005180\n",
            "mae           0.001965         0.001965         0.001965         0.001965         0.001965         0.001965         0.001965         0.001965         0.001965\n",
            "*********************************************************\n",
            "model_2x400\n",
            "          Vtrue,_ktas      __VVI,__fpm      ____Q,rad/s      ____P,rad/s      ____R,rad/s      pitch,__deg      _roll,__deg      _beta,__deg      __alt,ftmsl \n",
            "count    146907.000000    146907.000000    146907.000000    146907.000000    146907.000000    146907.000000    146907.000000    146907.000000    146907.000000\n",
            "mean          0.504412         0.737227         0.570341         0.485060         0.485233         0.531587         0.464654         0.620080         0.541116\n",
            "std           0.106511         0.106115         0.096593         0.137143         0.297851         0.109146         0.243538         0.211064         0.313282\n",
            "min          -0.145712         0.315198         0.075314        -0.114067         0.001815         0.194934         0.019929        -0.224448         0.020174\n",
            "25%           0.491325         0.719309         0.483381         0.478066         0.141444         0.498651         0.178618         0.402814         0.258517\n",
            "50%           0.516065         0.736735         0.612474         0.485824         0.495373         0.523474         0.475117         0.619407         0.502333\n",
            "75%           0.540668         0.757760         0.622681         0.493745         0.817728         0.538931         0.733206         0.857215         0.743406\n",
            "max           0.863996         1.112528         0.958919         1.093909         0.990564         1.288604         0.928746         1.008269         0.980654\n",
            "mses          0.000039         0.000047         0.000021         0.000014         0.000015         0.000013         0.000007         0.000028         0.000045\n",
            "rmes          0.006208         0.006842         0.004604         0.003694         0.003839         0.003659         0.002735         0.005282         0.006680\n",
            "maes          0.002714         0.002826         0.001559         0.001775         0.002010         0.001371         0.001465         0.001613         0.001648\n",
            "mse           0.000025         0.000025         0.000025         0.000025         0.000025         0.000025         0.000025         0.000025         0.000025\n",
            "rme           0.005037         0.005037         0.005037         0.005037         0.005037         0.005037         0.005037         0.005037         0.005037\n",
            "mae           0.001887         0.001887         0.001887         0.001887         0.001887         0.001887         0.001887         0.001887         0.001887\n",
            "*********************************************************\n",
            "model_200\n",
            "          Vtrue,_ktas      __VVI,__fpm      ____Q,rad/s      ____P,rad/s      ____R,rad/s      pitch,__deg      _roll,__deg      _beta,__deg      __alt,ftmsl \n",
            "count    146907.000000    146907.000000    146907.000000    146907.000000    146907.000000    146907.000000    146907.000000    146907.000000    146907.000000\n",
            "mean          0.504412         0.737227         0.570341         0.485060         0.485233         0.531587         0.464654         0.620080         0.541116\n",
            "std           0.106511         0.106115         0.096593         0.137143         0.297851         0.109146         0.243538         0.211064         0.313282\n",
            "min          -0.145712         0.315198         0.075314        -0.114067         0.001815         0.194934         0.019929        -0.224448         0.020174\n",
            "25%           0.491325         0.719309         0.483381         0.478066         0.141444         0.498651         0.178618         0.402814         0.258517\n",
            "50%           0.516065         0.736735         0.612474         0.485824         0.495373         0.523474         0.475117         0.619407         0.502333\n",
            "75%           0.540668         0.757760         0.622681         0.493745         0.817728         0.538931         0.733206         0.857215         0.743406\n",
            "max           0.863996         1.112528         0.958919         1.093909         0.990564         1.288604         0.928746         1.008269         0.980654\n",
            "mses          0.000084         0.000010         0.000026         0.000009         0.000028         0.000020         0.000005         0.000010         0.000048\n",
            "rmes          0.009150         0.003115         0.005130         0.003057         0.005246         0.004439         0.002191         0.003094         0.006919\n",
            "maes          0.001825         0.000987         0.002164         0.001553         0.002167         0.001094         0.000894         0.001102         0.001260\n",
            "mse           0.000027         0.000027         0.000027         0.000027         0.000027         0.000027         0.000027         0.000027         0.000027\n",
            "rme           0.005148         0.005148         0.005148         0.005148         0.005148         0.005148         0.005148         0.005148         0.005148\n",
            "mae           0.001450         0.001450         0.001450         0.001450         0.001450         0.001450         0.001450         0.001450         0.001450\n",
            "*********************************************************\n"
          ],
          "name": "stdout"
        }
      ]
    },
    {
      "cell_type": "markdown",
      "metadata": {
        "id": "bVhouDRRpewh",
        "colab_type": "text"
      },
      "source": [
        "### MSE per target (unscaled)"
      ]
    },
    {
      "cell_type": "code",
      "metadata": {
        "id": "crfMWfnKuAXz",
        "colab_type": "code",
        "outputId": "94237499-a196-4199-f1a5-feb7ea380264",
        "colab": {
          "base_uri": "https://localhost:8080/",
          "height": 35
        }
      },
      "source": [
        "models[1][0]"
      ],
      "execution_count": 0,
      "outputs": [
        {
          "output_type": "execute_result",
          "data": {
            "text/plain": [
              "'model_2x400'"
            ]
          },
          "metadata": {
            "tags": []
          },
          "execution_count": 28
        }
      ]
    },
    {
      "cell_type": "code",
      "metadata": {
        "id": "oTTBfKRgRnTP",
        "colab_type": "code",
        "outputId": "f248c7be-d8d8-43c5-fb7b-f51a0135c9cb",
        "colab": {
          "base_uri": "https://localhost:8080/",
          "height": 928
        }
      },
      "source": [
        "for model_tupel in models:\n",
        "  df = pas_metrics(model_tupel)\n",
        "  print(model_tupel[0])\n",
        "  with pd.option_context('display.max_rows', None, 'display.max_columns', None,\n",
        "                        'display.width', 1000):  \n",
        "    print(df)\n",
        "  print('*********************************************************')"
      ],
      "execution_count": 0,
      "outputs": [
        {
          "output_type": "stream",
          "text": [
            "model_2x500\n",
            "          Vtrue,_ktas      __VVI,__fpm      ____Q,rad/s      ____P,rad/s      ____R,rad/s      pitch,__deg      _roll,__deg      _beta,__deg      __alt,ftmsl \n",
            "count    146907.000000    146907.000000     1.469070e+05    146907.000000     1.469070e+05    146907.000000    146907.000000    146907.000000    146907.000000\n",
            "mean        116.933735         1.454978     7.135510e-03        -0.000140    -1.337600e-03        -0.605152        -0.722674         0.024940      3118.794644\n",
            "std           8.275017       276.265852     7.759326e-03         0.025104     3.282916e-02         1.788004        12.122463         0.178670      1339.530659\n",
            "min          66.424780     -1097.281130    -3.263000e-02        -0.109810    -5.462000e-02        -6.120130       -22.859510        -0.689970       891.350710\n",
            "25%         115.917000       -45.193610     1.500000e-04        -0.001420    -3.923000e-02        -1.144705       -14.960540        -0.158980      1910.458070\n",
            "50%         117.839070         0.174230     1.052000e-02         0.000000    -2.200000e-04        -0.738060        -0.201880         0.024370      2952.964840\n",
            "75%         119.750560        54.913025     1.134000e-02         0.001450     3.531000e-02        -0.484845        12.644855         0.225680      3983.743410\n",
            "max         144.870320       978.538330     3.835000e-02         0.111310     5.436000e-02        11.796170        22.378150         0.353550      4998.167480\n",
            "mses          0.138014       350.936711     1.703969e-07         0.000001     3.495295e-07         0.005353         0.026259         0.000020       266.449715\n",
            "rmes          0.371503        18.733305     4.127916e-04         0.001146     5.912102e-04         0.073165         0.162045         0.004430        16.323288\n",
            "maes          0.142383         6.380007     2.128614e-04         0.000453     2.207196e-04         0.030283         0.067412         0.001670         4.711695\n",
            "mse          68.617342        68.617342     6.861734e+01        68.617342     6.861734e+01        68.617342        68.617342        68.617342        68.617342\n",
            "rme           8.283559         8.283559     8.283559e+00         8.283559     8.283559e+00         8.283559         8.283559         8.283559         8.283559\n",
            "mae           1.259371         1.259371     1.259371e+00         1.259371     1.259371e+00         1.259371         1.259371         1.259371         1.259371\n",
            "*********************************************************\n",
            "model_2x400\n",
            "          Vtrue,_ktas      __VVI,__fpm      ____Q,rad/s      ____P,rad/s      ____R,rad/s      pitch,__deg      _roll,__deg      _beta,__deg      __alt,ftmsl \n",
            "count    146907.000000    146907.000000     1.469070e+05     1.469070e+05     1.469070e+05    146907.000000    146907.000000    146907.000000    146907.000000\n",
            "mean        116.933735         1.454978     7.135510e-03    -1.397062e-04    -1.337600e-03        -0.605152        -0.722674         0.024940      3118.794644\n",
            "std           8.275017       276.265852     7.759326e-03     2.510405e-02     3.282916e-02         1.788004        12.122463         0.178670      1339.530659\n",
            "min          66.424780     -1097.281130    -3.263000e-02    -1.098100e-01    -5.462000e-02        -6.120130       -22.859510        -0.689970       891.350710\n",
            "25%         115.917000       -45.193610     1.500000e-04    -1.420000e-03    -3.923000e-02        -1.144705       -14.960540        -0.158980      1910.458070\n",
            "50%         117.839070         0.174230     1.052000e-02     0.000000e+00    -2.200000e-04        -0.738060        -0.201880         0.024370      2952.964840\n",
            "75%         119.750560        54.913025     1.134000e-02     1.450000e-03     3.531000e-02        -0.484845        12.644855         0.225680      3983.743410\n",
            "max         144.870320       978.538330     3.835000e-02     1.113100e-01     5.436000e-02        11.796170        22.378150         0.353550      4998.167480\n",
            "mses          0.232631       317.297912     1.367669e-07     4.571287e-07     1.790373e-07         0.003593         0.018534         0.000020       815.697578\n",
            "rmes          0.482319        17.812858     3.698201e-04     6.761129e-04     4.231280e-04         0.059944         0.136139         0.004472        28.560420\n",
            "maes          0.210880         7.356314     1.252677e-04     3.249602e-04     2.215269e-04         0.022455         0.072902         0.001365         7.047771\n",
            "mse         125.916696       125.916696     1.259167e+02     1.259167e+02     1.259167e+02       125.916696       125.916696       125.916696       125.916696\n",
            "rme          11.221261        11.221261     1.122126e+01     1.122126e+01     1.122126e+01        11.221261        11.221261        11.221261        11.221261\n",
            "mae           1.634707         1.634707     1.634707e+00     1.634707e+00     1.634707e+00         1.634707         1.634707         1.634707         1.634707\n",
            "*********************************************************\n",
            "model_200\n",
            "          Vtrue,_ktas      __VVI,__fpm      ____Q,rad/s      ____P,rad/s      ____R,rad/s      pitch,__deg      _roll,__deg      _beta,__deg      __alt,ftmsl \n",
            "count    146907.000000    146907.000000     1.469070e+05     1.469070e+05     1.469070e+05    146907.000000    146907.000000    146907.000000    146907.000000\n",
            "mean        116.933735         1.454978     7.135510e-03    -1.397062e-04    -1.337600e-03        -0.605152        -0.722674         0.024940      3118.794644\n",
            "std           8.275017       276.265852     7.759326e-03     2.510405e-02     3.282916e-02         1.788004        12.122463         0.178670      1339.530659\n",
            "min          66.424780     -1097.281130    -3.263000e-02    -1.098100e-01    -5.462000e-02        -6.120130       -22.859510        -0.689970       891.350710\n",
            "25%         115.917000       -45.193610     1.500000e-04    -1.420000e-03    -3.923000e-02        -1.144705       -14.960540        -0.158980      1910.458070\n",
            "50%         117.839070         0.174230     1.052000e-02     0.000000e+00    -2.200000e-04        -0.738060        -0.201880         0.024370      2952.964840\n",
            "75%         119.750560        54.913025     1.134000e-02     1.450000e-03     3.531000e-02        -0.484845        12.644855         0.225680      3983.743410\n",
            "max         144.870320       978.538330     3.835000e-02     1.113100e-01     5.436000e-02        11.796170        22.378150         0.353550      4998.167480\n",
            "mses          0.505311        65.761478     1.698196e-07     3.132244e-07     3.343730e-07         0.005288         0.011895         0.000007       875.204300\n",
            "rmes          0.710852         8.109345     4.120918e-04     5.596645e-04     5.782500e-04         0.072718         0.109064         0.002619        29.583852\n",
            "maes          0.141806         2.568587     1.738031e-04     2.843229e-04     2.388130e-04         0.017927         0.044491         0.000933         5.386824\n",
            "mse         104.609809       104.609809     1.046098e+02     1.046098e+02     1.046098e+02       104.609809       104.609809       104.609809       104.609809\n",
            "rme          10.227894        10.227894     1.022789e+01     1.022789e+01     1.022789e+01        10.227894        10.227894        10.227894        10.227894\n",
            "mae           0.906807         0.906807     9.068072e-01     9.068072e-01     9.068072e-01         0.906807         0.906807         0.906807         0.906807\n",
            "*********************************************************\n"
          ],
          "name": "stdout"
        }
      ]
    },
    {
      "cell_type": "markdown",
      "metadata": {
        "id": "DTCw_9XlMi9P",
        "colab_type": "text"
      },
      "source": [
        "#latex"
      ]
    },
    {
      "cell_type": "code",
      "metadata": {
        "id": "rRfK9vukMkXV",
        "colab_type": "code",
        "colab": {}
      },
      "source": [
        "def _df_prediction_metrics_all(model_tupel, scaled):\n",
        "  \n",
        "  model_name =  model_tupel[0]\n",
        "  model = model_tupel[1]\n",
        "  train_X, train_Y, test_X, test_Y = model_tupel[2]\n",
        "  cols_label = model_tupel[4]\n",
        "\n",
        "\n",
        "  pred_Y = model.predict(test_X)\n",
        "  \n",
        "  if scaled:\n",
        "    truth_Y = test_Y\n",
        "  else:\n",
        "    label_scaler = model_tupel[3]\n",
        "    pred_Y = label_scaler.inverse_transform(pred_Y)\n",
        "    truth_Y = label_scaler.inverse_transform(test_Y)\n",
        "\n",
        "  df_describe = pd.DataFrame(truth_Y,columns=cols_label).describe()\n",
        "  mses = mean_squared_error(truth_Y, pred_Y, multioutput='raw_values')\n",
        "  #rmses = np.array([math.sqrt(mse) for mse in mses])\n",
        "  #maes = mean_absolute_error(truth_Y, pred_Y, multioutput='raw_values')\n",
        "  # average over list should do the job as well\n",
        "  mse = mean_squared_error(truth_Y, pred_Y)\n",
        "  rmse = math.sqrt(mse)\n",
        "  mae = mean_absolute_error(truth_Y, pred_Y)\n",
        "\n",
        "\n",
        "  df_mse_per_feature = pd.DataFrame(data=mses.reshape(1,-1),    # values\n",
        "            index=[model_name],     # index\n",
        "            columns=cols_label)  #  column names\n",
        "  \n",
        "  df_mse_per_feature['MSE'] = mse\n",
        "  df_mse_per_feature['RMSE'] = rmse\n",
        "  df_mse_per_feature['MAE'] = mae\n",
        "\n",
        "\n",
        "  #df_rmse_per_feature = pd.DataFrame(data=rmses.reshape(1,-1),    # values\n",
        "   #     index=['rmes'],     # index\n",
        "  #      columns=cols_label)  #  column names\n",
        "  #df_mae_per_feature = pd.DataFrame(data=maes.reshape(1,-1),    # values\n",
        "    #    index=['maes'],     # index\n",
        "   #     columns=cols_label)  #  column names\n",
        "  \n",
        "  return df_mse_per_feature\n",
        "\n",
        "\n",
        "def pas_metrics_all(models):\n",
        "  cols_trans = ['MSE', 'RMSE', 'MAE', col_vv,col_alt, col_v]\n",
        "  cols_rot = [col_roll_deg, col_pitch_deg, col_yaw_deg, col_pitch_v, col_yaw_v, col_roll_v]\n",
        "  rows_trans = []\n",
        "  rows_rot = []\n",
        "\n",
        "  for model_tupel in models:\n",
        "    model_row = _df_prediction_metrics_all(model_tupel, scaled=False)\n",
        "    rows_trans.append(model_row[cols_trans])\n",
        "    rows_rot.append(model_row[cols_rot])\n",
        "\n",
        "  df_trans = pd.concat(rows_trans).round(2)\n",
        "  file_path = os.path.join(results_folder, 'all_mse_trans' + '.csv')\n",
        "  df_trans.to_csv(path_or_buf=file_path)\n",
        "  \n",
        "  df_rot = pd.concat(rows_rot).round(10)\n",
        "  file_path = os.path.join(results_folder, 'all_mse_rot' + '.csv')\n",
        "  df_rot.to_csv(path_or_buf=file_path)\n",
        "  return df_trans, df_rot\n",
        "\n",
        "\n",
        "df_trans, df_rot = pas_metrics_all(models)\n",
        "  "
      ],
      "execution_count": 0,
      "outputs": []
    },
    {
      "cell_type": "code",
      "metadata": {
        "id": "EJx7-29ZM4yp",
        "colab_type": "code",
        "outputId": "bf3b9923-2d78-456e-ab5f-d8fbf3805b41",
        "colab": {
          "base_uri": "https://localhost:8080/",
          "height": 143
        }
      },
      "source": [
        "df_trans"
      ],
      "execution_count": 0,
      "outputs": [
        {
          "output_type": "execute_result",
          "data": {
            "text/html": [
              "<div>\n",
              "<style scoped>\n",
              "    .dataframe tbody tr th:only-of-type {\n",
              "        vertical-align: middle;\n",
              "    }\n",
              "\n",
              "    .dataframe tbody tr th {\n",
              "        vertical-align: top;\n",
              "    }\n",
              "\n",
              "    .dataframe thead th {\n",
              "        text-align: right;\n",
              "    }\n",
              "</style>\n",
              "<table border=\"1\" class=\"dataframe\">\n",
              "  <thead>\n",
              "    <tr style=\"text-align: right;\">\n",
              "      <th></th>\n",
              "      <th>MSE</th>\n",
              "      <th>RMSE</th>\n",
              "      <th>MAE</th>\n",
              "      <th>__VVI,__fpm</th>\n",
              "      <th>__alt,ftmsl</th>\n",
              "      <th>Vtrue,_ktas</th>\n",
              "    </tr>\n",
              "  </thead>\n",
              "  <tbody>\n",
              "    <tr>\n",
              "      <th>model_2x500</th>\n",
              "      <td>68.62</td>\n",
              "      <td>8.28</td>\n",
              "      <td>1.26</td>\n",
              "      <td>350.94</td>\n",
              "      <td>266.45</td>\n",
              "      <td>0.14</td>\n",
              "    </tr>\n",
              "    <tr>\n",
              "      <th>model_2x400</th>\n",
              "      <td>125.92</td>\n",
              "      <td>11.22</td>\n",
              "      <td>1.63</td>\n",
              "      <td>317.30</td>\n",
              "      <td>815.70</td>\n",
              "      <td>0.23</td>\n",
              "    </tr>\n",
              "    <tr>\n",
              "      <th>model_200</th>\n",
              "      <td>104.61</td>\n",
              "      <td>10.23</td>\n",
              "      <td>0.91</td>\n",
              "      <td>65.76</td>\n",
              "      <td>875.20</td>\n",
              "      <td>0.51</td>\n",
              "    </tr>\n",
              "  </tbody>\n",
              "</table>\n",
              "</div>"
            ],
            "text/plain": [
              "                MSE   RMSE  ...     __alt,ftmsl      Vtrue,_ktas \n",
              "model_2x500   68.62   8.28  ...           266.45             0.14\n",
              "model_2x400  125.92  11.22  ...           815.70             0.23\n",
              "model_200    104.61  10.23  ...           875.20             0.51\n",
              "\n",
              "[3 rows x 6 columns]"
            ]
          },
          "metadata": {
            "tags": []
          },
          "execution_count": 31
        }
      ]
    },
    {
      "cell_type": "code",
      "metadata": {
        "id": "fJUMzC7HM5jz",
        "colab_type": "code",
        "outputId": "dc31df52-1adc-4622-8e58-c46412dc8f4a",
        "colab": {
          "base_uri": "https://localhost:8080/",
          "height": 143
        }
      },
      "source": [
        "df_rot"
      ],
      "execution_count": 0,
      "outputs": [
        {
          "output_type": "execute_result",
          "data": {
            "text/html": [
              "<div>\n",
              "<style scoped>\n",
              "    .dataframe tbody tr th:only-of-type {\n",
              "        vertical-align: middle;\n",
              "    }\n",
              "\n",
              "    .dataframe tbody tr th {\n",
              "        vertical-align: top;\n",
              "    }\n",
              "\n",
              "    .dataframe thead th {\n",
              "        text-align: right;\n",
              "    }\n",
              "</style>\n",
              "<table border=\"1\" class=\"dataframe\">\n",
              "  <thead>\n",
              "    <tr style=\"text-align: right;\">\n",
              "      <th></th>\n",
              "      <th>_roll,__deg</th>\n",
              "      <th>pitch,__deg</th>\n",
              "      <th>_beta,__deg</th>\n",
              "      <th>____P,rad/s</th>\n",
              "      <th>____Q,rad/s</th>\n",
              "      <th>____R,rad/s</th>\n",
              "    </tr>\n",
              "  </thead>\n",
              "  <tbody>\n",
              "    <tr>\n",
              "      <th>model_2x500</th>\n",
              "      <td>0.026259</td>\n",
              "      <td>0.005353</td>\n",
              "      <td>0.000020</td>\n",
              "      <td>1.313300e-06</td>\n",
              "      <td>1.704000e-07</td>\n",
              "      <td>3.495000e-07</td>\n",
              "    </tr>\n",
              "    <tr>\n",
              "      <th>model_2x400</th>\n",
              "      <td>0.018534</td>\n",
              "      <td>0.003593</td>\n",
              "      <td>0.000020</td>\n",
              "      <td>4.571000e-07</td>\n",
              "      <td>1.368000e-07</td>\n",
              "      <td>1.790000e-07</td>\n",
              "    </tr>\n",
              "    <tr>\n",
              "      <th>model_200</th>\n",
              "      <td>0.011895</td>\n",
              "      <td>0.005288</td>\n",
              "      <td>0.000007</td>\n",
              "      <td>3.132000e-07</td>\n",
              "      <td>1.698000e-07</td>\n",
              "      <td>3.344000e-07</td>\n",
              "    </tr>\n",
              "  </tbody>\n",
              "</table>\n",
              "</div>"
            ],
            "text/plain": [
              "                _roll,__deg      pitch,__deg   ...     ____Q,rad/s      ____R,rad/s \n",
              "model_2x500         0.026259         0.005353  ...     1.704000e-07     3.495000e-07\n",
              "model_2x400         0.018534         0.003593  ...     1.368000e-07     1.790000e-07\n",
              "model_200           0.011895         0.005288  ...     1.698000e-07     3.344000e-07\n",
              "\n",
              "[3 rows x 6 columns]"
            ]
          },
          "metadata": {
            "tags": []
          },
          "execution_count": 32
        }
      ]
    },
    {
      "cell_type": "markdown",
      "metadata": {
        "id": "z40fMP9Ttc9Q",
        "colab_type": "text"
      },
      "source": [
        "#predict one ahead"
      ]
    },
    {
      "cell_type": "code",
      "metadata": {
        "id": "N-8LmbK2eki9",
        "colab_type": "code",
        "colab": {}
      },
      "source": [
        "def make_prediction(model, test_X, seq_len, n_labels, seq_start=0):\n",
        "  predictions = np.empty(n_labels).reshape(1,-1)  \n",
        "  input_state = test_X[seq_start,:].reshape(1,-1)\n",
        "  for i in range(seq_start , seq_start+ seq_len):\n",
        "    pred_Y = model.predict(input_state)\n",
        "    state_offset = pred_Y.shape[1]\n",
        "    action_t1 = test_X[i+1, state_offset:]\n",
        "    input_state = np.concatenate((pred_Y, action_t1.reshape(1,-1)), axis=None).reshape(1,-1)\n",
        "    predictions = np.concatenate((predictions,pred_Y))\n",
        "  return np.delete(predictions, (0), axis=0) #delete first empty row\n",
        "\n",
        "def get_descaled_dataframe(test_Y, predictions, label_scaler):\n",
        "  truth = test_Y[:len(predictions),:]\n",
        "  truth = label_scaler.inverse_transform(truth)\n",
        "  predictions = label_scaler.inverse_transform(predictions)\n",
        "  df_pred = pd.DataFrame(data=predictions, columns=label) \n",
        "  df_real = pd.DataFrame(data=truth, columns=label) \n",
        "  return df_real, df_pred\n",
        "\n",
        "def print_pred_and_actual(pred, actual):\n",
        "  pred_columns = pred.columns\n",
        "  actual_columns = actual.columns\n",
        "  #pred_column_name = pred_columns[0]\n",
        "  #actual_column_name = actual_columns[0]\n",
        "  for pred_column_name, actual_column_name in zip(pred_columns,actual_columns):\n",
        "    pred_column = pred[pred_column_name]\n",
        "    actual_column = actual[actual_column_name]\n",
        "    #for i in range(len(actual_column)):\n",
        "    true = plt.plot(range(0, len(actual_column)), actual_column, label=pred_column_name+' true')\n",
        "    plt.plot(range(0, len(actual_column)), pred_column,'--',color=true[0].get_color(), label=actual_column_name+' pred')\n",
        "    plt.xlabel('Zeitschritte')\n",
        "    plt.ylabel(pred_column_name)\n",
        "    plt.legend()\n",
        "    plt.show()"
      ],
      "execution_count": 0,
      "outputs": []
    },
    {
      "cell_type": "code",
      "metadata": {
        "id": "WpjSxgRRts-r",
        "colab_type": "code",
        "outputId": "55399b3a-00ec-457f-b700-c77e65dfb840",
        "colab": {
          "base_uri": "https://localhost:8080/",
          "height": 35
        }
      },
      "source": [
        "model_tupel = models[0]\n",
        "\n",
        "model = model_tupel[1]\n",
        "train_X, train_Y, test_X, test_Y = model_tupel[2]\n",
        "label_scaler = model_tupel[3]\n",
        "label = model_tupel[4]\n",
        "\n",
        "print(model_tupel[0])\n",
        "\n",
        "predictions = make_prediction(model, test_X, 100, len(cols_state), 0)"
      ],
      "execution_count": 0,
      "outputs": [
        {
          "output_type": "stream",
          "text": [
            "model_2x500\n"
          ],
          "name": "stdout"
        }
      ]
    },
    {
      "cell_type": "code",
      "metadata": {
        "id": "LbkoGGOytuBI",
        "colab_type": "code",
        "colab": {}
      },
      "source": [
        "df_real, df_pred = get_descaled_dataframe(test_Y, predictions, label_scaler)"
      ],
      "execution_count": 0,
      "outputs": []
    },
    {
      "cell_type": "code",
      "metadata": {
        "id": "WIoXReFn4Cqq",
        "colab_type": "code",
        "outputId": "eb51f5a7-62c7-4492-c9d8-9d6a5290b15e",
        "colab": {
          "base_uri": "https://localhost:8080/",
          "height": 424
        }
      },
      "source": [
        "df_real"
      ],
      "execution_count": 0,
      "outputs": [
        {
          "output_type": "execute_result",
          "data": {
            "text/html": [
              "<div>\n",
              "<style scoped>\n",
              "    .dataframe tbody tr th:only-of-type {\n",
              "        vertical-align: middle;\n",
              "    }\n",
              "\n",
              "    .dataframe tbody tr th {\n",
              "        vertical-align: top;\n",
              "    }\n",
              "\n",
              "    .dataframe thead th {\n",
              "        text-align: right;\n",
              "    }\n",
              "</style>\n",
              "<table border=\"1\" class=\"dataframe\">\n",
              "  <thead>\n",
              "    <tr style=\"text-align: right;\">\n",
              "      <th></th>\n",
              "      <th>Vtrue,_ktas</th>\n",
              "      <th>__VVI,__fpm</th>\n",
              "      <th>____Q,rad/s</th>\n",
              "      <th>____P,rad/s</th>\n",
              "      <th>____R,rad/s</th>\n",
              "      <th>pitch,__deg</th>\n",
              "      <th>_roll,__deg</th>\n",
              "      <th>_beta,__deg</th>\n",
              "      <th>__alt,ftmsl</th>\n",
              "    </tr>\n",
              "  </thead>\n",
              "  <tbody>\n",
              "    <tr>\n",
              "      <th>0</th>\n",
              "      <td>121.08971</td>\n",
              "      <td>28.07388</td>\n",
              "      <td>-0.00073</td>\n",
              "      <td>0.00080</td>\n",
              "      <td>0.00040</td>\n",
              "      <td>-1.01648</td>\n",
              "      <td>-0.06779</td>\n",
              "      <td>0.01813</td>\n",
              "      <td>898.92804</td>\n",
              "    </tr>\n",
              "    <tr>\n",
              "      <th>1</th>\n",
              "      <td>121.08601</td>\n",
              "      <td>28.55564</td>\n",
              "      <td>-0.00074</td>\n",
              "      <td>0.00076</td>\n",
              "      <td>0.00041</td>\n",
              "      <td>-1.01844</td>\n",
              "      <td>-0.06571</td>\n",
              "      <td>0.01865</td>\n",
              "      <td>898.95416</td>\n",
              "    </tr>\n",
              "    <tr>\n",
              "      <th>2</th>\n",
              "      <td>121.08266</td>\n",
              "      <td>28.95666</td>\n",
              "      <td>-0.00074</td>\n",
              "      <td>0.00073</td>\n",
              "      <td>0.00042</td>\n",
              "      <td>-1.02024</td>\n",
              "      <td>-0.06388</td>\n",
              "      <td>0.01912</td>\n",
              "      <td>898.97791</td>\n",
              "    </tr>\n",
              "    <tr>\n",
              "      <th>3</th>\n",
              "      <td>121.07909</td>\n",
              "      <td>29.34724</td>\n",
              "      <td>-0.00075</td>\n",
              "      <td>0.00070</td>\n",
              "      <td>0.00042</td>\n",
              "      <td>-1.02221</td>\n",
              "      <td>-0.06201</td>\n",
              "      <td>0.01958</td>\n",
              "      <td>899.00311</td>\n",
              "    </tr>\n",
              "    <tr>\n",
              "      <th>4</th>\n",
              "      <td>121.07558</td>\n",
              "      <td>29.69239</td>\n",
              "      <td>-0.00077</td>\n",
              "      <td>0.00066</td>\n",
              "      <td>0.00042</td>\n",
              "      <td>-1.02419</td>\n",
              "      <td>-0.06025</td>\n",
              "      <td>0.02003</td>\n",
              "      <td>899.02783</td>\n",
              "    </tr>\n",
              "    <tr>\n",
              "      <th>...</th>\n",
              "      <td>...</td>\n",
              "      <td>...</td>\n",
              "      <td>...</td>\n",
              "      <td>...</td>\n",
              "      <td>...</td>\n",
              "      <td>...</td>\n",
              "      <td>...</td>\n",
              "      <td>...</td>\n",
              "      <td>...</td>\n",
              "    </tr>\n",
              "    <tr>\n",
              "      <th>95</th>\n",
              "      <td>120.89351</td>\n",
              "      <td>3.76323</td>\n",
              "      <td>-0.00011</td>\n",
              "      <td>-0.00065</td>\n",
              "      <td>0.00008</td>\n",
              "      <td>-1.15707</td>\n",
              "      <td>-0.14126</td>\n",
              "      <td>0.02211</td>\n",
              "      <td>899.95477</td>\n",
              "    </tr>\n",
              "    <tr>\n",
              "      <th>96</th>\n",
              "      <td>120.89255</td>\n",
              "      <td>3.55850</td>\n",
              "      <td>-0.00010</td>\n",
              "      <td>-0.00065</td>\n",
              "      <td>0.00008</td>\n",
              "      <td>-1.15733</td>\n",
              "      <td>-0.14310</td>\n",
              "      <td>0.02213</td>\n",
              "      <td>899.95483</td>\n",
              "    </tr>\n",
              "    <tr>\n",
              "      <th>97</th>\n",
              "      <td>120.89164</td>\n",
              "      <td>3.37366</td>\n",
              "      <td>-0.00010</td>\n",
              "      <td>-0.00065</td>\n",
              "      <td>0.00007</td>\n",
              "      <td>-1.15758</td>\n",
              "      <td>-0.14478</td>\n",
              "      <td>0.02217</td>\n",
              "      <td>899.95483</td>\n",
              "    </tr>\n",
              "    <tr>\n",
              "      <th>98</th>\n",
              "      <td>120.89073</td>\n",
              "      <td>3.19174</td>\n",
              "      <td>-0.00009</td>\n",
              "      <td>-0.00064</td>\n",
              "      <td>0.00007</td>\n",
              "      <td>-1.15780</td>\n",
              "      <td>-0.14649</td>\n",
              "      <td>0.02218</td>\n",
              "      <td>899.95483</td>\n",
              "    </tr>\n",
              "    <tr>\n",
              "      <th>99</th>\n",
              "      <td>120.88983</td>\n",
              "      <td>3.01555</td>\n",
              "      <td>-0.00009</td>\n",
              "      <td>-0.00064</td>\n",
              "      <td>0.00006</td>\n",
              "      <td>-1.15801</td>\n",
              "      <td>-0.14817</td>\n",
              "      <td>0.02219</td>\n",
              "      <td>899.95471</td>\n",
              "    </tr>\n",
              "  </tbody>\n",
              "</table>\n",
              "<p>100 rows × 9 columns</p>\n",
              "</div>"
            ],
            "text/plain": [
              "       Vtrue,_ktas      __VVI,__fpm   ...     _beta,__deg      __alt,ftmsl \n",
              "0         121.08971         28.07388  ...          0.01813        898.92804\n",
              "1         121.08601         28.55564  ...          0.01865        898.95416\n",
              "2         121.08266         28.95666  ...          0.01912        898.97791\n",
              "3         121.07909         29.34724  ...          0.01958        899.00311\n",
              "4         121.07558         29.69239  ...          0.02003        899.02783\n",
              "..              ...              ...  ...              ...              ...\n",
              "95        120.89351          3.76323  ...          0.02211        899.95477\n",
              "96        120.89255          3.55850  ...          0.02213        899.95483\n",
              "97        120.89164          3.37366  ...          0.02217        899.95483\n",
              "98        120.89073          3.19174  ...          0.02218        899.95483\n",
              "99        120.88983          3.01555  ...          0.02219        899.95471\n",
              "\n",
              "[100 rows x 9 columns]"
            ]
          },
          "metadata": {
            "tags": []
          },
          "execution_count": 36
        }
      ]
    },
    {
      "cell_type": "code",
      "metadata": {
        "id": "9J1obbqt4Doa",
        "colab_type": "code",
        "outputId": "4b7ed8cb-ee71-4d79-ff07-90642fb87280",
        "colab": {
          "base_uri": "https://localhost:8080/",
          "height": 424
        }
      },
      "source": [
        "df_pred"
      ],
      "execution_count": 0,
      "outputs": [
        {
          "output_type": "execute_result",
          "data": {
            "text/html": [
              "<div>\n",
              "<style scoped>\n",
              "    .dataframe tbody tr th:only-of-type {\n",
              "        vertical-align: middle;\n",
              "    }\n",
              "\n",
              "    .dataframe tbody tr th {\n",
              "        vertical-align: top;\n",
              "    }\n",
              "\n",
              "    .dataframe thead th {\n",
              "        text-align: right;\n",
              "    }\n",
              "</style>\n",
              "<table border=\"1\" class=\"dataframe\">\n",
              "  <thead>\n",
              "    <tr style=\"text-align: right;\">\n",
              "      <th></th>\n",
              "      <th>Vtrue,_ktas</th>\n",
              "      <th>__VVI,__fpm</th>\n",
              "      <th>____Q,rad/s</th>\n",
              "      <th>____P,rad/s</th>\n",
              "      <th>____R,rad/s</th>\n",
              "      <th>pitch,__deg</th>\n",
              "      <th>_roll,__deg</th>\n",
              "      <th>_beta,__deg</th>\n",
              "      <th>__alt,ftmsl</th>\n",
              "    </tr>\n",
              "  </thead>\n",
              "  <tbody>\n",
              "    <tr>\n",
              "      <th>0</th>\n",
              "      <td>121.093495</td>\n",
              "      <td>27.688358</td>\n",
              "      <td>-0.000664</td>\n",
              "      <td>0.000699</td>\n",
              "      <td>0.000380</td>\n",
              "      <td>-1.007606</td>\n",
              "      <td>-0.028516</td>\n",
              "      <td>0.018544</td>\n",
              "      <td>897.503983</td>\n",
              "    </tr>\n",
              "    <tr>\n",
              "      <th>1</th>\n",
              "      <td>121.088272</td>\n",
              "      <td>27.877831</td>\n",
              "      <td>-0.000966</td>\n",
              "      <td>0.000654</td>\n",
              "      <td>0.000381</td>\n",
              "      <td>-1.002099</td>\n",
              "      <td>0.004722</td>\n",
              "      <td>0.019162</td>\n",
              "      <td>895.968085</td>\n",
              "    </tr>\n",
              "    <tr>\n",
              "      <th>2</th>\n",
              "      <td>121.079177</td>\n",
              "      <td>28.103150</td>\n",
              "      <td>-0.001259</td>\n",
              "      <td>0.000637</td>\n",
              "      <td>0.000379</td>\n",
              "      <td>-0.997746</td>\n",
              "      <td>0.030466</td>\n",
              "      <td>0.019613</td>\n",
              "      <td>894.252132</td>\n",
              "    </tr>\n",
              "    <tr>\n",
              "      <th>3</th>\n",
              "      <td>121.066702</td>\n",
              "      <td>28.349108</td>\n",
              "      <td>-0.001546</td>\n",
              "      <td>0.000625</td>\n",
              "      <td>0.000371</td>\n",
              "      <td>-0.994584</td>\n",
              "      <td>0.049385</td>\n",
              "      <td>0.019936</td>\n",
              "      <td>892.221588</td>\n",
              "    </tr>\n",
              "    <tr>\n",
              "      <th>4</th>\n",
              "      <td>121.051805</td>\n",
              "      <td>28.607325</td>\n",
              "      <td>-0.001831</td>\n",
              "      <td>0.000603</td>\n",
              "      <td>0.000358</td>\n",
              "      <td>-0.992510</td>\n",
              "      <td>0.062420</td>\n",
              "      <td>0.020167</td>\n",
              "      <td>889.877825</td>\n",
              "    </tr>\n",
              "    <tr>\n",
              "      <th>...</th>\n",
              "      <td>...</td>\n",
              "      <td>...</td>\n",
              "      <td>...</td>\n",
              "      <td>...</td>\n",
              "      <td>...</td>\n",
              "      <td>...</td>\n",
              "      <td>...</td>\n",
              "      <td>...</td>\n",
              "      <td>...</td>\n",
              "    </tr>\n",
              "    <tr>\n",
              "      <th>95</th>\n",
              "      <td>122.080395</td>\n",
              "      <td>-265.085323</td>\n",
              "      <td>-0.030183</td>\n",
              "      <td>-0.001109</td>\n",
              "      <td>-0.001500</td>\n",
              "      <td>-4.120167</td>\n",
              "      <td>-0.913393</td>\n",
              "      <td>0.013624</td>\n",
              "      <td>1507.734745</td>\n",
              "    </tr>\n",
              "    <tr>\n",
              "      <th>96</th>\n",
              "      <td>122.108971</td>\n",
              "      <td>-271.922797</td>\n",
              "      <td>-0.030503</td>\n",
              "      <td>-0.001128</td>\n",
              "      <td>-0.001484</td>\n",
              "      <td>-4.181864</td>\n",
              "      <td>-0.925388</td>\n",
              "      <td>0.013404</td>\n",
              "      <td>1526.007564</td>\n",
              "    </tr>\n",
              "    <tr>\n",
              "      <th>97</th>\n",
              "      <td>122.135955</td>\n",
              "      <td>-278.888449</td>\n",
              "      <td>-0.030825</td>\n",
              "      <td>-0.001138</td>\n",
              "      <td>-0.001472</td>\n",
              "      <td>-4.243813</td>\n",
              "      <td>-0.938204</td>\n",
              "      <td>0.013191</td>\n",
              "      <td>1544.478217</td>\n",
              "    </tr>\n",
              "    <tr>\n",
              "      <th>98</th>\n",
              "      <td>122.161655</td>\n",
              "      <td>-285.980726</td>\n",
              "      <td>-0.031151</td>\n",
              "      <td>-0.001153</td>\n",
              "      <td>-0.001461</td>\n",
              "      <td>-4.306006</td>\n",
              "      <td>-0.951902</td>\n",
              "      <td>0.012989</td>\n",
              "      <td>1563.162758</td>\n",
              "    </tr>\n",
              "    <tr>\n",
              "      <th>99</th>\n",
              "      <td>122.187162</td>\n",
              "      <td>-293.289011</td>\n",
              "      <td>-0.031477</td>\n",
              "      <td>-0.001166</td>\n",
              "      <td>-0.001462</td>\n",
              "      <td>-4.368979</td>\n",
              "      <td>-0.964120</td>\n",
              "      <td>0.012746</td>\n",
              "      <td>1581.910122</td>\n",
              "    </tr>\n",
              "  </tbody>\n",
              "</table>\n",
              "<p>100 rows × 9 columns</p>\n",
              "</div>"
            ],
            "text/plain": [
              "       Vtrue,_ktas      __VVI,__fpm   ...     _beta,__deg      __alt,ftmsl \n",
              "0        121.093495        27.688358  ...         0.018544       897.503983\n",
              "1        121.088272        27.877831  ...         0.019162       895.968085\n",
              "2        121.079177        28.103150  ...         0.019613       894.252132\n",
              "3        121.066702        28.349108  ...         0.019936       892.221588\n",
              "4        121.051805        28.607325  ...         0.020167       889.877825\n",
              "..              ...              ...  ...              ...              ...\n",
              "95       122.080395      -265.085323  ...         0.013624      1507.734745\n",
              "96       122.108971      -271.922797  ...         0.013404      1526.007564\n",
              "97       122.135955      -278.888449  ...         0.013191      1544.478217\n",
              "98       122.161655      -285.980726  ...         0.012989      1563.162758\n",
              "99       122.187162      -293.289011  ...         0.012746      1581.910122\n",
              "\n",
              "[100 rows x 9 columns]"
            ]
          },
          "metadata": {
            "tags": []
          },
          "execution_count": 37
        }
      ]
    },
    {
      "cell_type": "code",
      "metadata": {
        "id": "EM3aCfNBt_gx",
        "colab_type": "code",
        "outputId": "845f66ab-ef51-4f6e-b87e-7f89b4d66b20",
        "colab": {
          "base_uri": "https://localhost:8080/",
          "height": 1000
        }
      },
      "source": [
        "print_pred_and_actual(df_pred, df_real)\n"
      ],
      "execution_count": 0,
      "outputs": [
        {
          "output_type": "display_data",
          "data": {
            "image/png": "[encoded data removed]",
            "text/plain": [
              "<Figure size 432x288 with 1 Axes>"
            ]
          },
          "metadata": {
            "tags": []
          }
        },
        {
          "output_type": "display_data",
          "data": {
            "image/png": "[encoded data removed]",
            "text/plain": [
              "<Figure size 432x288 with 1 Axes>"
            ]
          },
          "metadata": {
            "tags": []
          }
        },
        {
          "output_type": "display_data",
          "data": {
            "image/png": "[encoded data removed]",
            "text/plain": [
              "<Figure size 432x288 with 1 Axes>"
            ]
          },
          "metadata": {
            "tags": []
          }
        },
        {
          "output_type": "display_data",
          "data": {
            "image/png": "[encoded data removed]",
            "text/plain": [
              "<Figure size 432x288 with 1 Axes>"
            ]
          },
          "metadata": {
            "tags": []
          }
        },
        {
          "output_type": "display_data",
          "data": {
            "image/png": "[encoded data removed]",
            "text/plain": [
              "<Figure size 432x288 with 1 Axes>"
            ]
          },
          "metadata": {
            "tags": []
          }
        },
        {
          "output_type": "display_data",
          "data": {
            "image/png": "[encoded data removed]",
            "text/plain": [
              "<Figure size 432x288 with 1 Axes>"
            ]
          },
          "metadata": {
            "tags": []
          }
        },
        {
          "output_type": "display_data",
          "data": {
            "image/png": "[encoded data removed]",
            "text/plain": [
              "<Figure size 432x288 with 1 Axes>"
            ]
          },
          "metadata": {
            "tags": []
          }
        },
        {
          "output_type": "display_data",
          "data": {
            "image/png": "[encoded data removed]",
            "text/plain": [
              "<Figure size 432x288 with 1 Axes>"
            ]
          },
          "metadata": {
            "tags": []
          }
        },
        {
          "output_type": "display_data",
          "data": {
            "image/png": "[encoded data removed]",
            "text/plain": [
              "<Figure size 432x288 with 1 Axes>"
            ]
          },
          "metadata": {
            "tags": []
          }
        }
      ]
    },
    {
      "cell_type": "code",
      "metadata": {
        "id": "js2zRzanuGG4",
        "colab_type": "code",
        "colab": {}
      },
      "source": [
        ""
      ],
      "execution_count": 0,
      "outputs": []
    }
  ]
}